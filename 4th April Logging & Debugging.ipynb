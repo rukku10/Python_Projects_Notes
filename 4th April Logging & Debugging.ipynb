{
 "cells": [
  {
   "cell_type": "markdown",
   "id": "154f28ce",
   "metadata": {},
   "source": [
    "# YOU NEED TO KEEP RESTARTING THE PROGRAMME BECUASE IT WILL NOT GIVE YOU THE OUTPUT MOST OF THE TIMES "
   ]
  },
  {
   "cell_type": "markdown",
   "id": "7f3a53da",
   "metadata": {},
   "source": [
    "### Logging is used whenever we code we have to apply logging but why? lets see"
   ]
  },
  {
   "cell_type": "markdown",
   "id": "5a8376bb",
   "metadata": {},
   "source": [
    "Logging is where they are able to track you down to know who is doing what and when\n",
    "Also remember no one will ask you or tell you to do logging but as a coder or developer you always have to do logging!\n",
    "Infact no one will ask you to do exceptional handling or no one will ask you to do modular coding but its a procedure it must be done on your own"
   ]
  },
  {
   "cell_type": "markdown",
   "id": "0a2ff6c0",
   "metadata": {},
   "source": [
    "## What is logging?\n",
    "Logging is a means of tracking events that happen when some software runs. Logging is important for software developing, debugging, and running. If you don’t have any logging record and your program crashes, there are very few chances that you detect the cause of the problem. And if you detect the cause, it will consume a lot of time. With logging, you can leave a trail of breadcrumbs so that if something goes wrong, we can determine the cause of the problem. \n",
    "\n",
    "There are a number of situations like if you are expecting an integer, you have been given a float and you can a cloud API, the service is down for maintenance, and much more. Such problems are out of control and are hard to determine. \n",
    "\n",
    "Why Printing is not a good option?\n",
    "Some developers use the concept of printing the statements to validate if the statements are executed correctly or some error has occurred. But printing is not a good idea. It may solve your issues for simple scripts but for complex scripts, the printing approach will fail.\n",
    "Python has a built-in module logging which allows writing status messages to a file or any other output streams. The file can contain the information on which part of the code is executed and what problems have been arisen.  \n",
    "\n",
    "Levels of Log Message\n",
    "There are five built-in levels of the log message.  \n",
    "\n",
    "Debug : These are used to give Detailed information, typically of interest only when diagnosing problems.\n",
    "\n",
    "Info : These are used to confirm that things are working as expected\n",
    "\n",
    "Warning : These are used an indication that something unexpected happened, or is indicative of some problem in the near future\n",
    "\n",
    "Error : This tells that due to a more serious problem, the software has not been able to perform some function\n",
    "\n",
    "Critical : This tells serious error, indicating that the program itself may be unable to continue running"
   ]
  },
  {
   "cell_type": "code",
   "execution_count": 1,
   "id": "9d3f33b6",
   "metadata": {},
   "outputs": [],
   "source": [
    "import os"
   ]
  },
  {
   "cell_type": "code",
   "execution_count": 2,
   "id": "a532bb56",
   "metadata": {},
   "outputs": [],
   "source": [
    "os.mkdir(\"logging\")"
   ]
  },
  {
   "cell_type": "markdown",
   "id": "8301e3fc",
   "metadata": {},
   "source": [
    "### Change the directory to current created directed so sir taught us a different and direct way!"
   ]
  },
  {
   "cell_type": "code",
   "execution_count": 3,
   "id": "989fb804",
   "metadata": {},
   "outputs": [],
   "source": [
    "os.chdir(os.getcwd() + \"/\" + \"logging\")"
   ]
  },
  {
   "cell_type": "code",
   "execution_count": 4,
   "id": "e63d12f8",
   "metadata": {
    "scrolled": true
   },
   "outputs": [
    {
     "data": {
      "text/plain": [
       "'C:\\\\Users\\\\Rukaiya Plumber\\\\Lecture Notes\\\\logging'"
      ]
     },
     "execution_count": 4,
     "metadata": {},
     "output_type": "execute_result"
    }
   ],
   "source": [
    "pwd()"
   ]
  },
  {
   "cell_type": "markdown",
   "id": "47a13860",
   "metadata": {},
   "source": [
    "#Here we can simply -----------import logging-------- but since typing logging all the time is not feasible we give it a alias name using as keyword"
   ]
  },
  {
   "cell_type": "code",
   "execution_count": 5,
   "id": "a9ad7e60",
   "metadata": {},
   "outputs": [],
   "source": [
    "import logging as lg"
   ]
  },
  {
   "cell_type": "markdown",
   "id": "19da4ff4",
   "metadata": {},
   "source": [
    "#### lg. +Tab youll see all the options!"
   ]
  },
  {
   "cell_type": "markdown",
   "id": "eb924a4a",
   "metadata": {},
   "source": [
    "#### lg.basicConfig(press shift + tab ) here youll see kwargs! and other details and hence using key value pair "
   ]
  },
  {
   "cell_type": "code",
   "execution_count": 6,
   "id": "2c093233",
   "metadata": {},
   "outputs": [],
   "source": [
    "lg.basicConfig(filename = \"test.log\" , level= lg.INFO ,format ='%(asctime)s %(message)s')\n",
    "#Here we have specified both file name and what kind of log do we want to store in level\n",
    "#What happend is when ever we call logging i.e defined as alias name lg we will be storing the info here!"
   ]
  },
  {
   "cell_type": "code",
   "execution_count": 7,
   "id": "91be272d",
   "metadata": {},
   "outputs": [],
   "source": [
    "lg.info(\"I am going to start my programme\")"
   ]
  },
  {
   "cell_type": "code",
   "execution_count": 8,
   "id": "d640690f",
   "metadata": {},
   "outputs": [
    {
     "data": {
      "text/plain": [
       "'C:\\\\Users\\\\Rukaiya Plumber\\\\Lecture Notes\\\\logging'"
      ]
     },
     "execution_count": 8,
     "metadata": {},
     "output_type": "execute_result"
    }
   ],
   "source": [
    "pwd()"
   ]
  },
  {
   "cell_type": "code",
   "execution_count": 9,
   "id": "e455b1e5",
   "metadata": {},
   "outputs": [],
   "source": [
    "lg.warning(\"This is first warning of my program \")"
   ]
  },
  {
   "cell_type": "code",
   "execution_count": 10,
   "id": "c8b5b8c9",
   "metadata": {},
   "outputs": [],
   "source": [
    "lg.error(\"This is a message for error root! \")"
   ]
  },
  {
   "cell_type": "markdown",
   "id": "28f32b39",
   "metadata": {},
   "source": [
    "### So you need to follow the following steps to perform logging on a particular file "
   ]
  },
  {
   "cell_type": "markdown",
   "id": "3680edb3",
   "metadata": {},
   "source": [
    "Just incase you havent created a file to log on to before then you need to do the following \n",
    "import os\n",
    "os.mkdir(\"logging\")\n",
    "os.chdir(os.getcwd() + \"/\" + \"logging\")\n",
    "pwd()\n",
    ">>'C:\\\\Users\\\\Rukaiya Plumber\\\\Lecture Notes\\\\logging'\n",
    "So now inside this shall you perform other operations i.e within this directory!"
   ]
  },
  {
   "cell_type": "markdown",
   "id": "5a9ff056",
   "metadata": {},
   "source": [
    "import logging\n",
    "logging.basicConfig(filename = \"test.log\" , level= lg.INFO)\n",
    "lg.info(\"I am going to start my programme\")\n",
    "lg.warning(\"This is first warning of my program \")\n",
    "lg.error(\"This is a message for error root! \")"
   ]
  },
  {
   "cell_type": "code",
   "execution_count": 11,
   "id": "6ba07614",
   "metadata": {},
   "outputs": [],
   "source": [
    "import logging\n",
    "logging.basicConfig(filename =\"test1.log\" , level= logging.INFO)\n",
    "def addition(a,b):\n",
    "    logging.info(\"This is a start function! \")\n",
    "    return a+b"
   ]
  },
  {
   "cell_type": "code",
   "execution_count": 12,
   "id": "ee54d4b9",
   "metadata": {},
   "outputs": [
    {
     "data": {
      "text/plain": [
       "9"
      ]
     },
     "execution_count": 12,
     "metadata": {},
     "output_type": "execute_result"
    }
   ],
   "source": [
    "addition(4,5)"
   ]
  },
  {
   "cell_type": "code",
   "execution_count": 13,
   "id": "3eb94c48",
   "metadata": {
    "scrolled": true
   },
   "outputs": [
    {
     "data": {
      "text/plain": [
       "'C:\\\\Users\\\\Rukaiya Plumber\\\\Lecture Notes\\\\logging'"
      ]
     },
     "execution_count": 13,
     "metadata": {},
     "output_type": "execute_result"
    }
   ],
   "source": [
    "pwd()"
   ]
  },
  {
   "cell_type": "code",
   "execution_count": 14,
   "id": "e0907cfc",
   "metadata": {},
   "outputs": [],
   "source": [
    "import os"
   ]
  },
  {
   "cell_type": "code",
   "execution_count": 15,
   "id": "630cc02e",
   "metadata": {},
   "outputs": [
    {
     "ename": "FileNotFoundError",
     "evalue": "[WinError 2] The system cannot find the file specified: 'C:\\\\Users\\\\Rukaiya Plumber\\\\Lecture Notes\\\\logging/logging'",
     "output_type": "error",
     "traceback": [
      "\u001b[1;31m---------------------------------------------------------------------------\u001b[0m",
      "\u001b[1;31mFileNotFoundError\u001b[0m                         Traceback (most recent call last)",
      "\u001b[1;32mC:\\Users\\RUKAIY~1\\AppData\\Local\\Temp/ipykernel_2728/2355455715.py\u001b[0m in \u001b[0;36m<module>\u001b[1;34m\u001b[0m\n\u001b[1;32m----> 1\u001b[1;33m \u001b[0mos\u001b[0m\u001b[1;33m.\u001b[0m\u001b[0mchdir\u001b[0m\u001b[1;33m(\u001b[0m\u001b[0mos\u001b[0m\u001b[1;33m.\u001b[0m\u001b[0mgetcwd\u001b[0m\u001b[1;33m(\u001b[0m\u001b[1;33m)\u001b[0m \u001b[1;33m+\u001b[0m\u001b[1;34m\"/\"\u001b[0m\u001b[1;33m+\u001b[0m\u001b[1;34m\"logging\"\u001b[0m\u001b[1;33m)\u001b[0m\u001b[1;33m\u001b[0m\u001b[1;33m\u001b[0m\u001b[0m\n\u001b[0m",
      "\u001b[1;31mFileNotFoundError\u001b[0m: [WinError 2] The system cannot find the file specified: 'C:\\\\Users\\\\Rukaiya Plumber\\\\Lecture Notes\\\\logging/logging'"
     ]
    }
   ],
   "source": [
    "os.chdir(os.getcwd() +\"/\"+\"logging\")"
   ]
  },
  {
   "cell_type": "code",
   "execution_count": 16,
   "id": "1d51310d",
   "metadata": {},
   "outputs": [
    {
     "data": {
      "text/plain": [
       "'C:\\\\Users\\\\Rukaiya Plumber\\\\Lecture Notes\\\\logging'"
      ]
     },
     "execution_count": 16,
     "metadata": {},
     "output_type": "execute_result"
    }
   ],
   "source": [
    "pwd()"
   ]
  },
  {
   "cell_type": "markdown",
   "id": "054073aa",
   "metadata": {},
   "source": [
    "#### REMEMBER the present working directory you should print first to know where youll be performing !"
   ]
  },
  {
   "cell_type": "markdown",
   "id": "ce436bf5",
   "metadata": {},
   "source": [
    "Now, when you want to shut down the logging you would want to perform the following!"
   ]
  },
  {
   "cell_type": "code",
   "execution_count": 18,
   "id": "4b6003bf",
   "metadata": {},
   "outputs": [],
   "source": [
    "logging.shutdown()"
   ]
  },
  {
   "cell_type": "markdown",
   "id": "18bd953d",
   "metadata": {},
   "source": [
    "Here logging got shut completely!"
   ]
  },
  {
   "cell_type": "code",
   "execution_count": 20,
   "id": "3ea672a1",
   "metadata": {},
   "outputs": [],
   "source": [
    "import os"
   ]
  },
  {
   "cell_type": "code",
   "execution_count": 21,
   "id": "7dde70d9",
   "metadata": {},
   "outputs": [
    {
     "data": {
      "text/plain": [
       "'C:\\\\Users\\\\Rukaiya Plumber\\\\Lecture Notes\\\\logging'"
      ]
     },
     "execution_count": 21,
     "metadata": {},
     "output_type": "execute_result"
    }
   ],
   "source": [
    "os.getcwd()"
   ]
  },
  {
   "cell_type": "code",
   "execution_count": 22,
   "id": "10c30968",
   "metadata": {},
   "outputs": [],
   "source": [
    "os.chdir(\"C:\\\\Users\\\\Rukaiya Plumber\\\\Lecture Notes\\\\logging\")"
   ]
  },
  {
   "cell_type": "code",
   "execution_count": 23,
   "id": "9f810757",
   "metadata": {},
   "outputs": [],
   "source": [
    "import logging\n",
    "logging.basicConfig(filename=\"test.log2\",level=logging.INFO)\n",
    "logging.info(\"Info\")\n",
    "logging.error(\"Error\")\n",
    "logging.warning(\"Warning\")\n",
    "logging.critical(\"Critical\")\n",
    "logging.debug(\"Debug\")\n",
    "logging.exception(\"Exception\")"
   ]
  },
  {
   "cell_type": "markdown",
   "id": "853cbe3d",
   "metadata": {},
   "source": [
    "## Sir gave question to solve!"
   ]
  },
  {
   "cell_type": "code",
   "execution_count": 24,
   "id": "bf1bca50",
   "metadata": {},
   "outputs": [
    {
     "data": {
      "text/plain": [
       "'C:\\\\Users\\\\Rukaiya Plumber\\\\Lecture Notes\\\\logging'"
      ]
     },
     "execution_count": 24,
     "metadata": {},
     "output_type": "execute_result"
    }
   ],
   "source": [
    "pwd()"
   ]
  },
  {
   "cell_type": "code",
   "execution_count": 25,
   "id": "fe2842c5",
   "metadata": {},
   "outputs": [],
   "source": [
    "import os"
   ]
  },
  {
   "cell_type": "code",
   "execution_count": 26,
   "id": "b2d37132",
   "metadata": {
    "scrolled": true
   },
   "outputs": [],
   "source": [
    "os.chdir(\"C:\\\\Users\\\\Rukaiya Plumber\\\\Lecture Notes\\\\logging\")"
   ]
  },
  {
   "cell_type": "markdown",
   "id": "07b636c4",
   "metadata": {},
   "source": [
    "## Lets go step by step "
   ]
  },
  {
   "cell_type": "markdown",
   "id": "024585c1",
   "metadata": {},
   "source": [
    "#### Create a logger in your code?"
   ]
  },
  {
   "cell_type": "markdown",
   "id": "46213d1d",
   "metadata": {},
   "source": [
    "#### Create one function which can take any number of inputs as an argument and will return sum "
   ]
  },
  {
   "cell_type": "markdown",
   "id": "51366fdb",
   "metadata": {},
   "source": [
    "#### Capture user input in log"
   ]
  },
  {
   "cell_type": "markdown",
   "id": "cbdaf538",
   "metadata": {},
   "source": [
    "#### Give user instruction in log file"
   ]
  },
  {
   "cell_type": "markdown",
   "id": "aeb9924d",
   "metadata": {},
   "source": [
    "#### Read a log file from python code and show all the login console"
   ]
  },
  {
   "cell_type": "markdown",
   "id": "0543a991",
   "metadata": {},
   "source": [
    "### The output "
   ]
  },
  {
   "cell_type": "code",
   "execution_count": 1,
   "id": "47589d24",
   "metadata": {},
   "outputs": [
    {
     "name": "stdout",
     "output_type": "stream",
     "text": [
      "INFO:root:This is the start of the function\n",
      "INFO:root:Here you will need to add all the inputs and showcase them in the log file!*****\n",
      "INFO:root:5\n",
      "INFO:root:9\n",
      "INFO:root:88\n",
      "\n"
     ]
    }
   ],
   "source": [
    "import logging\n",
    "import os\n",
    "logging.basicConfig(filename=\"test3.log\",level=logging.INFO)\n",
    "def test(*args):\n",
    "    \n",
    "    logging.info(\"This is the start of the function\")\n",
    "    logging.info(\"Here you will need to add all the inputs and showcase them in the log file!*****\")\n",
    "    add=0\n",
    "    for i in args:\n",
    "        logging.info(i)\n",
    "        add=add+i\n",
    "    return add\n",
    "\n",
    "test(5,9,88)\n",
    "\n",
    "\n",
    "if(os.path.exists(\"test3.log\")):\n",
    "    f=open(\"test3.log\",\"r\")\n",
    "    print(f.read())\n",
    "    f.close()\n"
   ]
  },
  {
   "cell_type": "code",
   "execution_count": 28,
   "id": "93a8ea69",
   "metadata": {},
   "outputs": [],
   "source": [
    "#Step1:Create a logger will follow for the third instruction\n",
    "def test(*args):\n",
    "    for i in args:\n",
    "        add=0\n",
    "        add=add+i\n",
    "    return add"
   ]
  },
  {
   "cell_type": "code",
   "execution_count": 38,
   "id": "bc0dc8e8",
   "metadata": {},
   "outputs": [
    {
     "name": "stderr",
     "output_type": "stream",
     "text": [
      "%(asctime)s %(name)s %(levelname)s %(message)s\n",
      "%(asctime)s %(name)s %(levelname)s %(message)s\n",
      "%(asctime)s %(name)s %(levelname)s %(message)s\n",
      "%(asctime)s %(name)s %(levelname)s %(message)s\n",
      "%(asctime)s %(name)s %(levelname)s %(message)s\n",
      "%(asctime)s %(name)s %(levelname)s %(message)s\n"
     ]
    },
    {
     "data": {
      "text/plain": [
       "35"
      ]
     },
     "execution_count": 38,
     "metadata": {},
     "output_type": "execute_result"
    }
   ],
   "source": [
    "#Step2:\n",
    "import logging \n",
    "logging.basicConfig(filename = \"test3.log\",level=logging.INFO)#If you want time stamp then u can add that as well\n",
    "def test(*args):\n",
    "    logging.info(\"This is the start of add function \")\n",
    "    add=0\n",
    "    for i in args:\n",
    "        logging.info(\"Fetching user inputs\"+str(i))#Here type casting since we need to concatenate\n",
    "        \n",
    "        add=add+i\n",
    "    return add\n",
    "\n",
    "#Calling the function\n",
    "test(4,6,8,9,8)"
   ]
  },
  {
   "cell_type": "code",
   "execution_count": 39,
   "id": "0b8158a9",
   "metadata": {},
   "outputs": [],
   "source": [
    "#Here we need to Read the log file as well\n",
    "#To know whether the file test3.log is present in the directory or not we need to check \n",
    "import os\n",
    "if os.path.exists(\"test3.log\"):\n",
    "    f=open(\"test3.log\",\"r\")\n",
    "    print(f.read())\n",
    "    f.close()\n",
    "#Incase you dont close the file you wont get your output "
   ]
  },
  {
   "cell_type": "markdown",
   "id": "26d81d7c",
   "metadata": {},
   "source": [
    "#### Another approach to #### Create one function which can take any number of inputs as an argument and will return sum "
   ]
  },
  {
   "cell_type": "code",
   "execution_count": 39,
   "id": "d4f51921",
   "metadata": {},
   "outputs": [],
   "source": [
    "\n",
    "def add(*args):\n",
    "    add=0\n",
    "    for i in args:\n",
    "            if not str(i).isdigit():\n",
    "                return False\n",
    "            else:\n",
    "                add=add+i\n",
    "    return add"
   ]
  },
  {
   "cell_type": "code",
   "execution_count": 40,
   "id": "1b84d011",
   "metadata": {},
   "outputs": [
    {
     "data": {
      "text/plain": [
       "24"
      ]
     },
     "execution_count": 40,
     "metadata": {},
     "output_type": "execute_result"
    }
   ],
   "source": [
    "add(8,9,7)"
   ]
  },
  {
   "cell_type": "code",
   "execution_count": 71,
   "id": "805ee405",
   "metadata": {},
   "outputs": [],
   "source": [
    "def add(*args):\n",
    "    add=0\n",
    "    for i in args:\n",
    "            if str(i).isdigit():\n",
    "                add=add+i\n",
    "            else:\n",
    "                return False\n",
    "    return add"
   ]
  },
  {
   "cell_type": "code",
   "execution_count": 74,
   "id": "e645f33d",
   "metadata": {},
   "outputs": [
    {
     "data": {
      "text/plain": [
       "19"
      ]
     },
     "execution_count": 74,
     "metadata": {},
     "output_type": "execute_result"
    }
   ],
   "source": [
    "add(8,5,6)"
   ]
  },
  {
   "cell_type": "markdown",
   "id": "895cf0e9",
   "metadata": {},
   "source": [
    "#### ALso again Another approach to #### Create one function which can take any number of inputs as an argument and will return sum "
   ]
  },
  {
   "cell_type": "code",
   "execution_count": 35,
   "id": "adc5ad4b",
   "metadata": {},
   "outputs": [],
   "source": [
    "def add(*args):\n",
    "    return sum(args)"
   ]
  },
  {
   "cell_type": "code",
   "execution_count": 36,
   "id": "c5aa62fd",
   "metadata": {},
   "outputs": [
    {
     "data": {
      "text/plain": [
       "8"
      ]
     },
     "execution_count": 36,
     "metadata": {},
     "output_type": "execute_result"
    }
   ],
   "source": [
    "add(4,4)"
   ]
  },
  {
   "cell_type": "markdown",
   "id": "ed93a54a",
   "metadata": {},
   "source": [
    "### So now how will you read a log without file processing modes so you will use a STREAMHANDLER"
   ]
  },
  {
   "cell_type": "code",
   "execution_count": 6,
   "id": "e2b59c92",
   "metadata": {},
   "outputs": [
    {
     "name": "stderr",
     "output_type": "stream",
     "text": [
      "%(asctime)s %(name)s %(levelname)s %(message)s\n"
     ]
    }
   ],
   "source": [
    "logging.basicConfig(filename = 'test3.log' , level = logging.INFO, format = '%(asctime)s %(name)s %(levelname)s %(message)s')\n",
    "console_log = logging.StreamHandler()\n",
    "console_log.setLevel(logging.INFO)\n",
    "\n",
    "format  = '%(asctime)s %(name)s %(levelname)s %(message)s'\n",
    "console_log.setFormatter(format)\n",
    "logging.getLogger().addHandler(console_log)\n",
    "logging.info(\"this is my first test code for log\")"
   ]
  },
  {
   "cell_type": "code",
   "execution_count": 4,
   "id": "243f8801",
   "metadata": {},
   "outputs": [],
   "source": [
    "import os"
   ]
  },
  {
   "cell_type": "code",
   "execution_count": 1,
   "id": "0352407d",
   "metadata": {},
   "outputs": [
    {
     "data": {
      "text/plain": [
       "'C:\\\\Users\\\\Rukaiya Plumber\\\\Lecture Notes'"
      ]
     },
     "execution_count": 1,
     "metadata": {},
     "output_type": "execute_result"
    }
   ],
   "source": [
    "pwd()"
   ]
  },
  {
   "cell_type": "code",
   "execution_count": 5,
   "id": "4108b997",
   "metadata": {},
   "outputs": [],
   "source": [
    "os.chdir(\"C:\\\\Users\\\\Rukaiya Plumber\\\\Lecture Notes\\\\logging\")"
   ]
  },
  {
   "cell_type": "code",
   "execution_count": 6,
   "id": "2181db1d",
   "metadata": {},
   "outputs": [
    {
     "data": {
      "text/plain": [
       "'C:\\\\Users\\\\Rukaiya Plumber\\\\Lecture Notes\\\\logging'"
      ]
     },
     "execution_count": 6,
     "metadata": {},
     "output_type": "execute_result"
    }
   ],
   "source": [
    "pwd()"
   ]
  },
  {
   "cell_type": "markdown",
   "id": "6512e810",
   "metadata": {},
   "source": [
    "What is the stream handler doing!\n",
    "The stream handler shows the output on the console that is jupyter notebook.\n",
    "So now we will create logger1 logger2 etc these are logging instances that will help us identify which user has created an error when "
   ]
  },
  {
   "cell_type": "code",
   "execution_count": 7,
   "id": "e3d2db21",
   "metadata": {},
   "outputs": [
    {
     "name": "stderr",
     "output_type": "stream",
     "text": [
      "root - 2023-01-20 19:50:05,301 - INFO - Main log\n",
      "user1 - 2023-01-20 19:50:05,309 - INFO - this info is from user1\n",
      "user2 - 2023-01-20 19:50:05,312 - DEBUG - this debug is from user2\n"
     ]
    }
   ],
   "source": [
    "import logging\n",
    "logging.basicConfig(filename=\"test3.log\",level=logging.DEBUG,format='%(name)s - %(asctime)s - %(levelname)s - %(message)s')\n",
    "\n",
    "#Create handlers\n",
    "console_log=logging.StreamHandler()\n",
    "console_log.setLevel(logging.DEBUG)\n",
    "#Now in what way do we want to print our logger\n",
    "format =logging.Formatter('%(name)s - %(asctime)s - %(levelname)s - %(message)s')\n",
    "console_log.setFormatter(format)\n",
    "#Creating a custom or rather customized logger\n",
    "logging.getLogger('').addHandler(console_log)\n",
    "#Handler who is it console_log and who is handling console log 'logging' i.e the root \n",
    "logging.info(\"Main log\")\n",
    "logger1 =logging.getLogger(\"user1\")\n",
    "logger2 =logging.getLogger(\"user2\")\n",
    "logger1.info(\"this info is from user1\")\n",
    "logger2.debug(\"this debug is from user2\")"
   ]
  },
  {
   "cell_type": "markdown",
   "id": "86b9d424",
   "metadata": {},
   "source": [
    "## What is a debugger?\n",
    "A computer program that assists in the detection and correction of errors in other computer programs.\n",
    " A debugger program is one that allows the user to view another program line by line. This allows the user to identify incorrect code and find out how a program flows. The debugger lets the user see how their program is viewed by the computer."
   ]
  },
  {
   "cell_type": "code",
   "execution_count": 23,
   "id": "38a723bd",
   "metadata": {},
   "outputs": [],
   "source": [
    "l=[]\n",
    "def testdebug():\n",
    "    for i in range(10):\n",
    "        l.append(i)\n",
    "        print(\"We have appended your data in the list!\")\n",
    "    return l\n",
    "    "
   ]
  },
  {
   "cell_type": "code",
   "execution_count": 24,
   "id": "54dca13a",
   "metadata": {},
   "outputs": [
    {
     "name": "stdout",
     "output_type": "stream",
     "text": [
      "We have appended your data in the list!\n",
      "We have appended your data in the list!\n",
      "We have appended your data in the list!\n",
      "We have appended your data in the list!\n",
      "We have appended your data in the list!\n",
      "We have appended your data in the list!\n",
      "We have appended your data in the list!\n",
      "We have appended your data in the list!\n",
      "We have appended your data in the list!\n",
      "We have appended your data in the list!\n"
     ]
    },
    {
     "data": {
      "text/plain": [
       "[0, 1, 2, 3, 4, 5, 6, 7, 8, 9]"
      ]
     },
     "execution_count": 24,
     "metadata": {},
     "output_type": "execute_result"
    }
   ],
   "source": [
    "testdebug()"
   ]
  },
  {
   "cell_type": "markdown",
   "id": "7c89f4b1",
   "metadata": {},
   "source": [
    "So lets learn how to use debugger in python\n",
    "But in python when you install jupyter and anancondo you do install all the basic librabries but debug libraries are not installed on its own so in Jupyter notebook we will make use of two repositories "
   ]
  },
  {
   "cell_type": "markdown",
   "id": "af55eb11",
   "metadata": {},
   "source": [
    "### What is a repository?\n",
    "In general, the python repository is mainly a central memory or place where we are storing the data and managing these data using Python packages or libraries written in python language and this repository can be configured on any local machine or on a server which can be accessed by any multiple users."
   ]
  },
  {
   "cell_type": "code",
   "execution_count": null,
   "id": "74b4e87d",
   "metadata": {},
   "outputs": [],
   "source": [
    "The two repositories are \n",
    "A) pip \n",
    "B) conda"
   ]
  },
  {
   "cell_type": "markdown",
   "id": "a2610aa3",
   "metadata": {},
   "source": [
    "So when we install anaconda someone has written functions that we already install and use else how would we be able to use any of these functions and also some packages "
   ]
  },
  {
   "cell_type": "markdown",
   "id": "2f3648b9",
   "metadata": {},
   "source": [
    "Repository is basically like a hub where someone is written its code and can we can use it since its a open source by installing all the code in their system "
   ]
  },
  {
   "cell_type": "markdown",
   "id": "d46b3bf7",
   "metadata": {},
   "source": [
    "### So one of that package is called ipdb or jupyter notebook python debugger where \"i\" is for jupyter notebook!\n",
    "So since we are dealing with jupyter notebook we need to install it here as jupyter notebook python debugger  so \"i\" is for jupyter notebook and is not available by default"
   ]
  },
  {
   "cell_type": "markdown",
   "id": "7af595ab",
   "metadata": {},
   "source": [
    "## Now if i have to check whether pip is installed in my sytem already or not "
   ]
  },
  {
   "cell_type": "code",
   "execution_count": 8,
   "id": "ddb31028",
   "metadata": {
    "scrolled": true
   },
   "outputs": [
    {
     "ename": "ModuleNotFoundError",
     "evalue": "No module named 'ipdb'",
     "output_type": "error",
     "traceback": [
      "\u001b[1;31m---------------------------------------------------------------------------\u001b[0m",
      "\u001b[1;31mModuleNotFoundError\u001b[0m                       Traceback (most recent call last)",
      "\u001b[1;32mC:\\Users\\RUKAIY~1\\AppData\\Local\\Temp/ipykernel_30392/2241182999.py\u001b[0m in \u001b[0;36m<module>\u001b[1;34m\u001b[0m\n\u001b[1;32m----> 1\u001b[1;33m \u001b[1;32mimport\u001b[0m \u001b[0mipdb\u001b[0m\u001b[1;33m\u001b[0m\u001b[1;33m\u001b[0m\u001b[0m\n\u001b[0m",
      "\u001b[1;31mModuleNotFoundError\u001b[0m: No module named 'ipdb'"
     ]
    }
   ],
   "source": [
    "import ipdb# Will get an error! because this is not installed by default"
   ]
  },
  {
   "cell_type": "markdown",
   "id": "4dfaf155",
   "metadata": {},
   "source": [
    "Just for extra knowledge if you are getting error Access denied while installing use [--user ipdb] the thing noted inside the bracket not with the bracket"
   ]
  },
  {
   "cell_type": "code",
   "execution_count": 13,
   "id": "cbc955d0",
   "metadata": {},
   "outputs": [],
   "source": [
    " #Here we need the exclamation mark in this notebook to install! In windows it gives error!\n",
    "#Also the error means nothing!"
   ]
  },
  {
   "cell_type": "code",
   "execution_count": 14,
   "id": "a5b104c7",
   "metadata": {},
   "outputs": [
    {
     "name": "stdout",
     "output_type": "stream",
     "text": [
      "Requirement already satisfied: ipdb in c:\\users\\rukaiya plumber\\anaconda3\\lib\\site-packages (0.13.11)\n",
      "Requirement already satisfied: tomli in c:\\users\\rukaiya plumber\\anaconda3\\lib\\site-packages (from ipdb) (2.0.1)\n",
      "Requirement already satisfied: ipython>=7.31.1 in c:\\users\\rukaiya plumber\\anaconda3\\lib\\site-packages (from ipdb) (8.8.0)\n",
      "Requirement already satisfied: decorator in c:\\users\\rukaiya plumber\\anaconda3\\lib\\site-packages (from ipdb) (5.1.0)\n",
      "Requirement already satisfied: pygments>=2.4.0 in c:\\users\\rukaiya plumber\\anaconda3\\lib\\site-packages (from ipython>=7.31.1->ipdb) (2.10.0)\n",
      "Requirement already satisfied: jedi>=0.16 in c:\\users\\rukaiya plumber\\anaconda3\\lib\\site-packages (from ipython>=7.31.1->ipdb) (0.18.0)\n",
      "Requirement already satisfied: matplotlib-inline in c:\\users\\rukaiya plumber\\anaconda3\\lib\\site-packages (from ipython>=7.31.1->ipdb) (0.1.2)\n",
      "Requirement already satisfied: stack-data in c:\\users\\rukaiya plumber\\anaconda3\\lib\\site-packages (from ipython>=7.31.1->ipdb) (0.6.2)\n",
      "Requirement already satisfied: prompt-toolkit<3.1.0,>=3.0.11 in c:\\users\\rukaiya plumber\\anaconda3\\lib\\site-packages (from ipython>=7.31.1->ipdb) (3.0.20)\n",
      "Requirement already satisfied: backcall in c:\\users\\rukaiya plumber\\anaconda3\\lib\\site-packages (from ipython>=7.31.1->ipdb) (0.2.0)\n",
      "Requirement already satisfied: colorama in c:\\users\\rukaiya plumber\\anaconda3\\lib\\site-packages (from ipython>=7.31.1->ipdb) (0.4.4)\n",
      "Requirement already satisfied: traitlets>=5 in c:\\users\\rukaiya plumber\\anaconda3\\lib\\site-packages (from ipython>=7.31.1->ipdb) (5.1.0)\n",
      "Requirement already satisfied: pickleshare in c:\\users\\rukaiya plumber\\anaconda3\\lib\\site-packages (from ipython>=7.31.1->ipdb) (0.7.5)\n",
      "Requirement already satisfied: parso<0.9.0,>=0.8.0 in c:\\users\\rukaiya plumber\\anaconda3\\lib\\site-packages (from jedi>=0.16->ipython>=7.31.1->ipdb) (0.8.2)\n",
      "Requirement already satisfied: wcwidth in c:\\users\\rukaiya plumber\\anaconda3\\lib\\site-packages (from prompt-toolkit<3.1.0,>=3.0.11->ipython>=7.31.1->ipdb) (0.2.5)\n",
      "Requirement already satisfied: pure-eval in c:\\users\\rukaiya plumber\\anaconda3\\lib\\site-packages (from stack-data->ipython>=7.31.1->ipdb) (0.2.2)\n",
      "Requirement already satisfied: executing>=1.2.0 in c:\\users\\rukaiya plumber\\anaconda3\\lib\\site-packages (from stack-data->ipython>=7.31.1->ipdb) (1.2.0)\n",
      "Requirement already satisfied: asttokens>=2.1.0 in c:\\users\\rukaiya plumber\\anaconda3\\lib\\site-packages (from stack-data->ipython>=7.31.1->ipdb) (2.2.1)\n",
      "Requirement already satisfied: six in c:\\users\\rukaiya plumber\\anaconda3\\lib\\site-packages (from asttokens>=2.1.0->stack-data->ipython>=7.31.1->ipdb) (1.16.0)\n"
     ]
    }
   ],
   "source": [
    "!pip install ipdb"
   ]
  },
  {
   "cell_type": "code",
   "execution_count": null,
   "id": "e4e26c10",
   "metadata": {},
   "outputs": [],
   "source": [
    "#The above is an example of STreamHandler log!\n",
    "Also youll find this now in c drive anaconda folder pip ipdb file!"
   ]
  },
  {
   "cell_type": "code",
   "execution_count": 15,
   "id": "6e4db29e",
   "metadata": {},
   "outputs": [],
   "source": [
    "import pip"
   ]
  },
  {
   "cell_type": "code",
   "execution_count": 17,
   "id": "2859e4ca",
   "metadata": {},
   "outputs": [],
   "source": [
    "#Here it got installed successfully because we installed pip repository"
   ]
  },
  {
   "cell_type": "code",
   "execution_count": 16,
   "id": "e5bd613c",
   "metadata": {},
   "outputs": [],
   "source": [
    "import ipdb "
   ]
  },
  {
   "cell_type": "code",
   "execution_count": 18,
   "id": "79303017",
   "metadata": {},
   "outputs": [],
   "source": [
    "#Even the above got installed successfully!"
   ]
  },
  {
   "cell_type": "markdown",
   "id": "9db1adf0",
   "metadata": {},
   "source": [
    "Here now i am a completely new person and have coded the following so what i will do is:"
   ]
  },
  {
   "cell_type": "markdown",
   "id": "0ef7ec4c",
   "metadata": {},
   "source": [
    "### ipdb.set_trace is used to debug"
   ]
  },
  {
   "cell_type": "code",
   "execution_count": 27,
   "id": "a9c3a904",
   "metadata": {},
   "outputs": [],
   "source": [
    "\n",
    "def testdebug():\n",
    "    ipdb.set_trace()\n",
    "    l=[]\n",
    "    for i in range(10):\n",
    "        l.append(i)\n",
    "        print(\"We have appended your data in the list!\")\n",
    "    return l\n",
    "\n",
    "#So here we are trying to apply a debugger!"
   ]
  },
  {
   "cell_type": "code",
   "execution_count": 28,
   "id": "cac5078f",
   "metadata": {},
   "outputs": [
    {
     "name": "stdout",
     "output_type": "stream",
     "text": [
      "> \u001b[1;32mc:\\users\\rukaiy~1\\appdata\\local\\temp\\ipykernel_30392\\4203359782.py\u001b[0m(3)\u001b[0;36mtestdebug\u001b[1;34m()\u001b[0m\n",
      "\n",
      "ipdb> h\n",
      "\n",
      "Documented commands (type help <topic>):\n",
      "========================================\n",
      "EOF    commands   enable    ll        pp       s                until \n",
      "a      condition  exit      longlist  psource  skip_hidden      up    \n",
      "alias  cont       h         n         q        skip_predicates  w     \n",
      "args   context    help      next      quit     source           whatis\n",
      "b      continue   ignore    p         r        step             where \n",
      "break  d          interact  pdef      restart  tbreak         \n",
      "bt     debug      j         pdoc      return   u              \n",
      "c      disable    jump      pfile     retval   unalias        \n",
      "cl     display    l         pinfo     run      undisplay      \n",
      "clear  down       list      pinfo2    rv       unt            \n",
      "\n",
      "Miscellaneous help topics:\n",
      "==========================\n",
      "exec  pdb\n",
      "\n",
      "ipdb> next\n",
      "> \u001b[1;32mc:\\users\\rukaiy~1\\appdata\\local\\temp\\ipykernel_30392\\4203359782.py\u001b[0m(4)\u001b[0;36mtestdebug\u001b[1;34m()\u001b[0m\n",
      "\n",
      "ipdb> next\n",
      "> \u001b[1;32mc:\\users\\rukaiy~1\\appdata\\local\\temp\\ipykernel_30392\\4203359782.py\u001b[0m(5)\u001b[0;36mtestdebug\u001b[1;34m()\u001b[0m\n",
      "\n",
      "ipdb> next\n",
      "> \u001b[1;32mc:\\users\\rukaiy~1\\appdata\\local\\temp\\ipykernel_30392\\4203359782.py\u001b[0m(6)\u001b[0;36mtestdebug\u001b[1;34m()\u001b[0m\n",
      "\n",
      "ipdb> next\n",
      "We have appended your data in the list!\n",
      "> \u001b[1;32mc:\\users\\rukaiy~1\\appdata\\local\\temp\\ipykernel_30392\\4203359782.py\u001b[0m(4)\u001b[0;36mtestdebug\u001b[1;34m()\u001b[0m\n",
      "\n",
      "ipdb> next\n",
      "> \u001b[1;32mc:\\users\\rukaiy~1\\appdata\\local\\temp\\ipykernel_30392\\4203359782.py\u001b[0m(5)\u001b[0;36mtestdebug\u001b[1;34m()\u001b[0m\n",
      "\n",
      "ipdb> next\n",
      "> \u001b[1;32mc:\\users\\rukaiy~1\\appdata\\local\\temp\\ipykernel_30392\\4203359782.py\u001b[0m(6)\u001b[0;36mtestdebug\u001b[1;34m()\u001b[0m\n",
      "\n",
      "ipdb> next\n",
      "We have appended your data in the list!\n",
      "> \u001b[1;32mc:\\users\\rukaiy~1\\appdata\\local\\temp\\ipykernel_30392\\4203359782.py\u001b[0m(4)\u001b[0;36mtestdebug\u001b[1;34m()\u001b[0m\n",
      "\n",
      "ipdb> i\n",
      "1\n",
      "ipdb> i\n",
      "1\n",
      "ipdb> next\n",
      "> \u001b[1;32mc:\\users\\rukaiy~1\\appdata\\local\\temp\\ipykernel_30392\\4203359782.py\u001b[0m(5)\u001b[0;36mtestdebug\u001b[1;34m()\u001b[0m\n",
      "\n",
      "ipdb> i\n",
      "2\n",
      "ipdb> c\n",
      "We have appended your data in the list!\n",
      "We have appended your data in the list!\n",
      "We have appended your data in the list!\n",
      "We have appended your data in the list!\n",
      "We have appended your data in the list!\n",
      "We have appended your data in the list!\n",
      "We have appended your data in the list!\n",
      "We have appended your data in the list!\n"
     ]
    },
    {
     "data": {
      "text/plain": [
       "[0, 1, 2, 3, 4, 5, 6, 7, 8, 9]"
      ]
     },
     "execution_count": 28,
     "metadata": {},
     "output_type": "execute_result"
    }
   ],
   "source": [
    "testdebug()\n",
    "#here I typed h in the ipdb input\n",
    "#h is for HELP the person who created will send help\n",
    "#"
   ]
  },
  {
   "cell_type": "code",
   "execution_count": 34,
   "id": "87495a8a",
   "metadata": {},
   "outputs": [],
   "source": [
    "def testdebug1():\n",
    "    ipdb.set_trace()\n",
    "    l=[]\n",
    "    for i in range(10):\n",
    "        for j in range(5):\n",
    "            l.append(i)\n",
    "            if i == 4:\n",
    "                continue\n",
    "            print(\"We have appended your data in the list\")\n",
    "    return l"
   ]
  },
  {
   "cell_type": "code",
   "execution_count": 35,
   "id": "e888923d",
   "metadata": {},
   "outputs": [
    {
     "name": "stdout",
     "output_type": "stream",
     "text": [
      "> \u001b[1;32mc:\\users\\rukaiy~1\\appdata\\local\\temp\\ipykernel_30392\\1718462198.py\u001b[0m(3)\u001b[0;36mtestdebug\u001b[1;34m()\u001b[0m\n",
      "\n",
      "ipdb> n\n",
      "> \u001b[1;32mc:\\users\\rukaiy~1\\appdata\\local\\temp\\ipykernel_30392\\1718462198.py\u001b[0m(4)\u001b[0;36mtestdebug\u001b[1;34m()\u001b[0m\n",
      "\n",
      "ipdb> n\n",
      "> \u001b[1;32mc:\\users\\rukaiy~1\\appdata\\local\\temp\\ipykernel_30392\\1718462198.py\u001b[0m(5)\u001b[0;36mtestdebug\u001b[1;34m()\u001b[0m\n",
      "\n",
      "ipdb> n\n",
      "> \u001b[1;32mc:\\users\\rukaiy~1\\appdata\\local\\temp\\ipykernel_30392\\1718462198.py\u001b[0m(6)\u001b[0;36mtestdebug\u001b[1;34m()\u001b[0m\n",
      "\n",
      "ipdb> n\n",
      "> \u001b[1;32mc:\\users\\rukaiy~1\\appdata\\local\\temp\\ipykernel_30392\\1718462198.py\u001b[0m(7)\u001b[0;36mtestdebug\u001b[1;34m()\u001b[0m\n",
      "\n",
      "ipdb> n\n",
      "> \u001b[1;32mc:\\users\\rukaiy~1\\appdata\\local\\temp\\ipykernel_30392\\1718462198.py\u001b[0m(9)\u001b[0;36mtestdebug\u001b[1;34m()\u001b[0m\n",
      "\n",
      "ipdb> n\n",
      "we have appended your data in list \n",
      "> \u001b[1;32mc:\\users\\rukaiy~1\\appdata\\local\\temp\\ipykernel_30392\\1718462198.py\u001b[0m(5)\u001b[0;36mtestdebug\u001b[1;34m()\u001b[0m\n",
      "\n",
      "ipdb> i\n",
      "0\n",
      "ipdb> j\n",
      "*** The 'jump' command requires a line number\n",
      "ipdb> n\n",
      "> \u001b[1;32mc:\\users\\rukaiy~1\\appdata\\local\\temp\\ipykernel_30392\\1718462198.py\u001b[0m(6)\u001b[0;36mtestdebug\u001b[1;34m()\u001b[0m\n",
      "\n",
      "ipdb> n\n",
      "> \u001b[1;32mc:\\users\\rukaiy~1\\appdata\\local\\temp\\ipykernel_30392\\1718462198.py\u001b[0m(7)\u001b[0;36mtestdebug\u001b[1;34m()\u001b[0m\n",
      "\n",
      "ipdb> n\n",
      "> \u001b[1;32mc:\\users\\rukaiy~1\\appdata\\local\\temp\\ipykernel_30392\\1718462198.py\u001b[0m(9)\u001b[0;36mtestdebug\u001b[1;34m()\u001b[0m\n",
      "\n",
      "ipdb> n\n",
      "we have appended your data in list \n",
      "> \u001b[1;32mc:\\users\\rukaiy~1\\appdata\\local\\temp\\ipykernel_30392\\1718462198.py\u001b[0m(5)\u001b[0;36mtestdebug\u001b[1;34m()\u001b[0m\n",
      "\n",
      "ipdb> n\n",
      "> \u001b[1;32mc:\\users\\rukaiy~1\\appdata\\local\\temp\\ipykernel_30392\\1718462198.py\u001b[0m(6)\u001b[0;36mtestdebug\u001b[1;34m()\u001b[0m\n",
      "\n",
      "ipdb> n\n",
      "> \u001b[1;32mc:\\users\\rukaiy~1\\appdata\\local\\temp\\ipykernel_30392\\1718462198.py\u001b[0m(7)\u001b[0;36mtestdebug\u001b[1;34m()\u001b[0m\n",
      "\n",
      "ipdb> n\n",
      "> \u001b[1;32mc:\\users\\rukaiy~1\\appdata\\local\\temp\\ipykernel_30392\\1718462198.py\u001b[0m(9)\u001b[0;36mtestdebug\u001b[1;34m()\u001b[0m\n",
      "\n",
      "ipdb> n\n",
      "we have appended your data in list \n",
      "> \u001b[1;32mc:\\users\\rukaiy~1\\appdata\\local\\temp\\ipykernel_30392\\1718462198.py\u001b[0m(5)\u001b[0;36mtestdebug\u001b[1;34m()\u001b[0m\n",
      "\n",
      "ipdb> n\n",
      "> \u001b[1;32mc:\\users\\rukaiy~1\\appdata\\local\\temp\\ipykernel_30392\\1718462198.py\u001b[0m(6)\u001b[0;36mtestdebug\u001b[1;34m()\u001b[0m\n",
      "\n",
      "ipdb> n\n",
      "> \u001b[1;32mc:\\users\\rukaiy~1\\appdata\\local\\temp\\ipykernel_30392\\1718462198.py\u001b[0m(7)\u001b[0;36mtestdebug\u001b[1;34m()\u001b[0m\n",
      "\n",
      "ipdb> n\n",
      "> \u001b[1;32mc:\\users\\rukaiy~1\\appdata\\local\\temp\\ipykernel_30392\\1718462198.py\u001b[0m(9)\u001b[0;36mtestdebug\u001b[1;34m()\u001b[0m\n",
      "\n",
      "ipdb> n\n",
      "we have appended your data in list \n",
      "> \u001b[1;32mc:\\users\\rukaiy~1\\appdata\\local\\temp\\ipykernel_30392\\1718462198.py\u001b[0m(5)\u001b[0;36mtestdebug\u001b[1;34m()\u001b[0m\n",
      "\n",
      "ipdb> n\n",
      "> \u001b[1;32mc:\\users\\rukaiy~1\\appdata\\local\\temp\\ipykernel_30392\\1718462198.py\u001b[0m(6)\u001b[0;36mtestdebug\u001b[1;34m()\u001b[0m\n",
      "\n",
      "ipdb> n\n",
      "> \u001b[1;32mc:\\users\\rukaiy~1\\appdata\\local\\temp\\ipykernel_30392\\1718462198.py\u001b[0m(7)\u001b[0;36mtestdebug\u001b[1;34m()\u001b[0m\n",
      "\n",
      "ipdb> n\n",
      "> \u001b[1;32mc:\\users\\rukaiy~1\\appdata\\local\\temp\\ipykernel_30392\\1718462198.py\u001b[0m(9)\u001b[0;36mtestdebug\u001b[1;34m()\u001b[0m\n",
      "\n",
      "ipdb> n\n",
      "we have appended your data in list \n",
      "> \u001b[1;32mc:\\users\\rukaiy~1\\appdata\\local\\temp\\ipykernel_30392\\1718462198.py\u001b[0m(5)\u001b[0;36mtestdebug\u001b[1;34m()\u001b[0m\n",
      "\n",
      "ipdb> n\n",
      "> \u001b[1;32mc:\\users\\rukaiy~1\\appdata\\local\\temp\\ipykernel_30392\\1718462198.py\u001b[0m(4)\u001b[0;36mtestdebug\u001b[1;34m()\u001b[0m\n",
      "\n",
      "ipdb> n\n",
      "> \u001b[1;32mc:\\users\\rukaiy~1\\appdata\\local\\temp\\ipykernel_30392\\1718462198.py\u001b[0m(5)\u001b[0;36mtestdebug\u001b[1;34m()\u001b[0m\n",
      "\n",
      "ipdb> n\n",
      "> \u001b[1;32mc:\\users\\rukaiy~1\\appdata\\local\\temp\\ipykernel_30392\\1718462198.py\u001b[0m(6)\u001b[0;36mtestdebug\u001b[1;34m()\u001b[0m\n",
      "\n",
      "ipdb> n\n",
      "> \u001b[1;32mc:\\users\\rukaiy~1\\appdata\\local\\temp\\ipykernel_30392\\1718462198.py\u001b[0m(7)\u001b[0;36mtestdebug\u001b[1;34m()\u001b[0m\n",
      "\n",
      "ipdb> n\n",
      "> \u001b[1;32mc:\\users\\rukaiy~1\\appdata\\local\\temp\\ipykernel_30392\\1718462198.py\u001b[0m(9)\u001b[0;36mtestdebug\u001b[1;34m()\u001b[0m\n",
      "\n",
      "ipdb> n\n",
      "we have appended your data in list \n",
      "> \u001b[1;32mc:\\users\\rukaiy~1\\appdata\\local\\temp\\ipykernel_30392\\1718462198.py\u001b[0m(5)\u001b[0;36mtestdebug\u001b[1;34m()\u001b[0m\n",
      "\n",
      "ipdb> n\n",
      "> \u001b[1;32mc:\\users\\rukaiy~1\\appdata\\local\\temp\\ipykernel_30392\\1718462198.py\u001b[0m(6)\u001b[0;36mtestdebug\u001b[1;34m()\u001b[0m\n",
      "\n",
      "ipdb> n\n",
      "> \u001b[1;32mc:\\users\\rukaiy~1\\appdata\\local\\temp\\ipykernel_30392\\1718462198.py\u001b[0m(7)\u001b[0;36mtestdebug\u001b[1;34m()\u001b[0m\n",
      "\n",
      "ipdb> n\n",
      "> \u001b[1;32mc:\\users\\rukaiy~1\\appdata\\local\\temp\\ipykernel_30392\\1718462198.py\u001b[0m(9)\u001b[0;36mtestdebug\u001b[1;34m()\u001b[0m\n",
      "\n",
      "ipdb> n\n",
      "we have appended your data in list \n",
      "> \u001b[1;32mc:\\users\\rukaiy~1\\appdata\\local\\temp\\ipykernel_30392\\1718462198.py\u001b[0m(5)\u001b[0;36mtestdebug\u001b[1;34m()\u001b[0m\n",
      "\n",
      "ipdb> n\n",
      "> \u001b[1;32mc:\\users\\rukaiy~1\\appdata\\local\\temp\\ipykernel_30392\\1718462198.py\u001b[0m(6)\u001b[0;36mtestdebug\u001b[1;34m()\u001b[0m\n",
      "\n",
      "ipdb> n\n",
      "> \u001b[1;32mc:\\users\\rukaiy~1\\appdata\\local\\temp\\ipykernel_30392\\1718462198.py\u001b[0m(7)\u001b[0;36mtestdebug\u001b[1;34m()\u001b[0m\n",
      "\n",
      "ipdb> n\n",
      "> \u001b[1;32mc:\\users\\rukaiy~1\\appdata\\local\\temp\\ipykernel_30392\\1718462198.py\u001b[0m(9)\u001b[0;36mtestdebug\u001b[1;34m()\u001b[0m\n",
      "\n",
      "ipdb> n\n",
      "we have appended your data in list \n",
      "> \u001b[1;32mc:\\users\\rukaiy~1\\appdata\\local\\temp\\ipykernel_30392\\1718462198.py\u001b[0m(5)\u001b[0;36mtestdebug\u001b[1;34m()\u001b[0m\n",
      "\n",
      "ipdb> n\n",
      "> \u001b[1;32mc:\\users\\rukaiy~1\\appdata\\local\\temp\\ipykernel_30392\\1718462198.py\u001b[0m(6)\u001b[0;36mtestdebug\u001b[1;34m()\u001b[0m\n",
      "\n",
      "ipdb> n\n",
      "> \u001b[1;32mc:\\users\\rukaiy~1\\appdata\\local\\temp\\ipykernel_30392\\1718462198.py\u001b[0m(7)\u001b[0;36mtestdebug\u001b[1;34m()\u001b[0m\n",
      "\n",
      "ipdb> n\n",
      "> \u001b[1;32mc:\\users\\rukaiy~1\\appdata\\local\\temp\\ipykernel_30392\\1718462198.py\u001b[0m(9)\u001b[0;36mtestdebug\u001b[1;34m()\u001b[0m\n",
      "\n",
      "ipdb> n\n",
      "we have appended your data in list \n",
      "> \u001b[1;32mc:\\users\\rukaiy~1\\appdata\\local\\temp\\ipykernel_30392\\1718462198.py\u001b[0m(5)\u001b[0;36mtestdebug\u001b[1;34m()\u001b[0m\n",
      "\n",
      "ipdb> n\n",
      "> \u001b[1;32mc:\\users\\rukaiy~1\\appdata\\local\\temp\\ipykernel_30392\\1718462198.py\u001b[0m(6)\u001b[0;36mtestdebug\u001b[1;34m()\u001b[0m\n",
      "\n",
      "ipdb> n\n",
      "> \u001b[1;32mc:\\users\\rukaiy~1\\appdata\\local\\temp\\ipykernel_30392\\1718462198.py\u001b[0m(7)\u001b[0;36mtestdebug\u001b[1;34m()\u001b[0m\n",
      "\n",
      "ipdb> n\n",
      "> \u001b[1;32mc:\\users\\rukaiy~1\\appdata\\local\\temp\\ipykernel_30392\\1718462198.py\u001b[0m(9)\u001b[0;36mtestdebug\u001b[1;34m()\u001b[0m\n",
      "\n",
      "ipdb> n\n",
      "we have appended your data in list \n",
      "> \u001b[1;32mc:\\users\\rukaiy~1\\appdata\\local\\temp\\ipykernel_30392\\1718462198.py\u001b[0m(5)\u001b[0;36mtestdebug\u001b[1;34m()\u001b[0m\n",
      "\n",
      "ipdb> n\n",
      "> \u001b[1;32mc:\\users\\rukaiy~1\\appdata\\local\\temp\\ipykernel_30392\\1718462198.py\u001b[0m(4)\u001b[0;36mtestdebug\u001b[1;34m()\u001b[0m\n",
      "\n",
      "ipdb> n\n",
      "> \u001b[1;32mc:\\users\\rukaiy~1\\appdata\\local\\temp\\ipykernel_30392\\1718462198.py\u001b[0m(5)\u001b[0;36mtestdebug\u001b[1;34m()\u001b[0m\n",
      "\n",
      "ipdb> n\n",
      "> \u001b[1;32mc:\\users\\rukaiy~1\\appdata\\local\\temp\\ipykernel_30392\\1718462198.py\u001b[0m(6)\u001b[0;36mtestdebug\u001b[1;34m()\u001b[0m\n",
      "\n",
      "ipdb> n\n",
      "> \u001b[1;32mc:\\users\\rukaiy~1\\appdata\\local\\temp\\ipykernel_30392\\1718462198.py\u001b[0m(7)\u001b[0;36mtestdebug\u001b[1;34m()\u001b[0m\n",
      "\n",
      "ipdb> n\n",
      "> \u001b[1;32mc:\\users\\rukaiy~1\\appdata\\local\\temp\\ipykernel_30392\\1718462198.py\u001b[0m(9)\u001b[0;36mtestdebug\u001b[1;34m()\u001b[0m\n",
      "\n",
      "ipdb> n\n",
      "we have appended your data in list \n",
      "> \u001b[1;32mc:\\users\\rukaiy~1\\appdata\\local\\temp\\ipykernel_30392\\1718462198.py\u001b[0m(5)\u001b[0;36mtestdebug\u001b[1;34m()\u001b[0m\n",
      "\n",
      "ipdb> n\n",
      "> \u001b[1;32mc:\\users\\rukaiy~1\\appdata\\local\\temp\\ipykernel_30392\\1718462198.py\u001b[0m(6)\u001b[0;36mtestdebug\u001b[1;34m()\u001b[0m\n",
      "\n",
      "ipdb> n\n",
      "> \u001b[1;32mc:\\users\\rukaiy~1\\appdata\\local\\temp\\ipykernel_30392\\1718462198.py\u001b[0m(7)\u001b[0;36mtestdebug\u001b[1;34m()\u001b[0m\n",
      "\n",
      "ipdb> n\n",
      "> \u001b[1;32mc:\\users\\rukaiy~1\\appdata\\local\\temp\\ipykernel_30392\\1718462198.py\u001b[0m(9)\u001b[0;36mtestdebug\u001b[1;34m()\u001b[0m\n",
      "\n",
      "ipdb> n\n",
      "we have appended your data in list \n",
      "> \u001b[1;32mc:\\users\\rukaiy~1\\appdata\\local\\temp\\ipykernel_30392\\1718462198.py\u001b[0m(5)\u001b[0;36mtestdebug\u001b[1;34m()\u001b[0m\n",
      "\n",
      "ipdb> n\n",
      "> \u001b[1;32mc:\\users\\rukaiy~1\\appdata\\local\\temp\\ipykernel_30392\\1718462198.py\u001b[0m(6)\u001b[0;36mtestdebug\u001b[1;34m()\u001b[0m\n",
      "\n",
      "ipdb> n\n",
      "> \u001b[1;32mc:\\users\\rukaiy~1\\appdata\\local\\temp\\ipykernel_30392\\1718462198.py\u001b[0m(7)\u001b[0;36mtestdebug\u001b[1;34m()\u001b[0m\n",
      "\n",
      "ipdb> n\n",
      "> \u001b[1;32mc:\\users\\rukaiy~1\\appdata\\local\\temp\\ipykernel_30392\\1718462198.py\u001b[0m(9)\u001b[0;36mtestdebug\u001b[1;34m()\u001b[0m\n",
      "\n",
      "ipdb> n\n",
      "we have appended your data in list \n",
      "> \u001b[1;32mc:\\users\\rukaiy~1\\appdata\\local\\temp\\ipykernel_30392\\1718462198.py\u001b[0m(5)\u001b[0;36mtestdebug\u001b[1;34m()\u001b[0m\n",
      "\n",
      "ipdb> n\n",
      "> \u001b[1;32mc:\\users\\rukaiy~1\\appdata\\local\\temp\\ipykernel_30392\\1718462198.py\u001b[0m(6)\u001b[0;36mtestdebug\u001b[1;34m()\u001b[0m\n",
      "\n",
      "ipdb> n\n",
      "> \u001b[1;32mc:\\users\\rukaiy~1\\appdata\\local\\temp\\ipykernel_30392\\1718462198.py\u001b[0m(7)\u001b[0;36mtestdebug\u001b[1;34m()\u001b[0m\n",
      "\n",
      "ipdb> n\n",
      "> \u001b[1;32mc:\\users\\rukaiy~1\\appdata\\local\\temp\\ipykernel_30392\\1718462198.py\u001b[0m(9)\u001b[0;36mtestdebug\u001b[1;34m()\u001b[0m\n",
      "\n",
      "ipdb> n\n",
      "we have appended your data in list \n",
      "> \u001b[1;32mc:\\users\\rukaiy~1\\appdata\\local\\temp\\ipykernel_30392\\1718462198.py\u001b[0m(5)\u001b[0;36mtestdebug\u001b[1;34m()\u001b[0m\n",
      "\n",
      "ipdb> n\n",
      "> \u001b[1;32mc:\\users\\rukaiy~1\\appdata\\local\\temp\\ipykernel_30392\\1718462198.py\u001b[0m(6)\u001b[0;36mtestdebug\u001b[1;34m()\u001b[0m\n",
      "\n"
     ]
    },
    {
     "name": "stdout",
     "output_type": "stream",
     "text": [
      "ipdb> n\n",
      "> \u001b[1;32mc:\\users\\rukaiy~1\\appdata\\local\\temp\\ipykernel_30392\\1718462198.py\u001b[0m(7)\u001b[0;36mtestdebug\u001b[1;34m()\u001b[0m\n",
      "\n",
      "ipdb> n\n",
      "> \u001b[1;32mc:\\users\\rukaiy~1\\appdata\\local\\temp\\ipykernel_30392\\1718462198.py\u001b[0m(9)\u001b[0;36mtestdebug\u001b[1;34m()\u001b[0m\n",
      "\n",
      "ipdb> n\n",
      "we have appended your data in list \n",
      "> \u001b[1;32mc:\\users\\rukaiy~1\\appdata\\local\\temp\\ipykernel_30392\\1718462198.py\u001b[0m(5)\u001b[0;36mtestdebug\u001b[1;34m()\u001b[0m\n",
      "\n",
      "ipdb> n\n",
      "> \u001b[1;32mc:\\users\\rukaiy~1\\appdata\\local\\temp\\ipykernel_30392\\1718462198.py\u001b[0m(4)\u001b[0;36mtestdebug\u001b[1;34m()\u001b[0m\n",
      "\n",
      "ipdb> n\n",
      "> \u001b[1;32mc:\\users\\rukaiy~1\\appdata\\local\\temp\\ipykernel_30392\\1718462198.py\u001b[0m(5)\u001b[0;36mtestdebug\u001b[1;34m()\u001b[0m\n",
      "\n",
      "ipdb> n\n",
      "> \u001b[1;32mc:\\users\\rukaiy~1\\appdata\\local\\temp\\ipykernel_30392\\1718462198.py\u001b[0m(6)\u001b[0;36mtestdebug\u001b[1;34m()\u001b[0m\n",
      "\n",
      "ipdb> n\n",
      "> \u001b[1;32mc:\\users\\rukaiy~1\\appdata\\local\\temp\\ipykernel_30392\\1718462198.py\u001b[0m(7)\u001b[0;36mtestdebug\u001b[1;34m()\u001b[0m\n",
      "\n",
      "ipdb> n\n",
      "> \u001b[1;32mc:\\users\\rukaiy~1\\appdata\\local\\temp\\ipykernel_30392\\1718462198.py\u001b[0m(9)\u001b[0;36mtestdebug\u001b[1;34m()\u001b[0m\n",
      "\n",
      "ipdb> n\n",
      "we have appended your data in list \n",
      "> \u001b[1;32mc:\\users\\rukaiy~1\\appdata\\local\\temp\\ipykernel_30392\\1718462198.py\u001b[0m(5)\u001b[0;36mtestdebug\u001b[1;34m()\u001b[0m\n",
      "\n",
      "ipdb> n\n",
      "> \u001b[1;32mc:\\users\\rukaiy~1\\appdata\\local\\temp\\ipykernel_30392\\1718462198.py\u001b[0m(6)\u001b[0;36mtestdebug\u001b[1;34m()\u001b[0m\n",
      "\n",
      "ipdb> n\n",
      "> \u001b[1;32mc:\\users\\rukaiy~1\\appdata\\local\\temp\\ipykernel_30392\\1718462198.py\u001b[0m(7)\u001b[0;36mtestdebug\u001b[1;34m()\u001b[0m\n",
      "\n",
      "ipdb> n\n",
      "> \u001b[1;32mc:\\users\\rukaiy~1\\appdata\\local\\temp\\ipykernel_30392\\1718462198.py\u001b[0m(9)\u001b[0;36mtestdebug\u001b[1;34m()\u001b[0m\n",
      "\n",
      "ipdb> n\n",
      "we have appended your data in list \n",
      "> \u001b[1;32mc:\\users\\rukaiy~1\\appdata\\local\\temp\\ipykernel_30392\\1718462198.py\u001b[0m(5)\u001b[0;36mtestdebug\u001b[1;34m()\u001b[0m\n",
      "\n",
      "ipdb> n\n",
      "> \u001b[1;32mc:\\users\\rukaiy~1\\appdata\\local\\temp\\ipykernel_30392\\1718462198.py\u001b[0m(6)\u001b[0;36mtestdebug\u001b[1;34m()\u001b[0m\n",
      "\n",
      "ipdb> n\n",
      "> \u001b[1;32mc:\\users\\rukaiy~1\\appdata\\local\\temp\\ipykernel_30392\\1718462198.py\u001b[0m(7)\u001b[0;36mtestdebug\u001b[1;34m()\u001b[0m\n",
      "\n",
      "ipdb> n\n",
      "> \u001b[1;32mc:\\users\\rukaiy~1\\appdata\\local\\temp\\ipykernel_30392\\1718462198.py\u001b[0m(9)\u001b[0;36mtestdebug\u001b[1;34m()\u001b[0m\n",
      "\n",
      "ipdb> n\n",
      "we have appended your data in list \n",
      "> \u001b[1;32mc:\\users\\rukaiy~1\\appdata\\local\\temp\\ipykernel_30392\\1718462198.py\u001b[0m(5)\u001b[0;36mtestdebug\u001b[1;34m()\u001b[0m\n",
      "\n",
      "ipdb> n\n",
      "> \u001b[1;32mc:\\users\\rukaiy~1\\appdata\\local\\temp\\ipykernel_30392\\1718462198.py\u001b[0m(6)\u001b[0;36mtestdebug\u001b[1;34m()\u001b[0m\n",
      "\n",
      "ipdb> n\n",
      "> \u001b[1;32mc:\\users\\rukaiy~1\\appdata\\local\\temp\\ipykernel_30392\\1718462198.py\u001b[0m(7)\u001b[0;36mtestdebug\u001b[1;34m()\u001b[0m\n",
      "\n",
      "ipdb> n\n",
      "> \u001b[1;32mc:\\users\\rukaiy~1\\appdata\\local\\temp\\ipykernel_30392\\1718462198.py\u001b[0m(9)\u001b[0;36mtestdebug\u001b[1;34m()\u001b[0m\n",
      "\n",
      "ipdb> n\n",
      "we have appended your data in list \n",
      "> \u001b[1;32mc:\\users\\rukaiy~1\\appdata\\local\\temp\\ipykernel_30392\\1718462198.py\u001b[0m(5)\u001b[0;36mtestdebug\u001b[1;34m()\u001b[0m\n",
      "\n",
      "ipdb> n\n",
      "> \u001b[1;32mc:\\users\\rukaiy~1\\appdata\\local\\temp\\ipykernel_30392\\1718462198.py\u001b[0m(6)\u001b[0;36mtestdebug\u001b[1;34m()\u001b[0m\n",
      "\n",
      "ipdb> n\n",
      "> \u001b[1;32mc:\\users\\rukaiy~1\\appdata\\local\\temp\\ipykernel_30392\\1718462198.py\u001b[0m(7)\u001b[0;36mtestdebug\u001b[1;34m()\u001b[0m\n",
      "\n",
      "ipdb> i=5\n",
      "ipdb> i==5\n",
      "True\n",
      "ipdb> i==7\n",
      "False\n",
      "ipdb> d\n",
      "*** Newest frame\n",
      "ipdb> d\n",
      "*** Newest frame\n",
      "ipdb> d\n",
      "*** Newest frame\n",
      "ipdb> d\n",
      "*** Newest frame\n",
      "ipdb> d\n",
      "*** Newest frame\n",
      "ipdb> u\n",
      "> \u001b[1;32mc:\\users\\rukaiy~1\\appdata\\local\\temp\\ipykernel_30392\\3801750879.py\u001b[0m(1)\u001b[0;36m<module>\u001b[1;34m()\u001b[0m\n",
      "\n",
      "ipdb> u\n",
      "*** all frames above hidden\n",
      "ipdb> u\n",
      "*** all frames above hidden\n",
      "ipdb> u\n",
      "*** all frames above hidden\n",
      "ipdb> u\n",
      "*** all frames above hidden\n",
      "ipdb> u\n",
      "*** all frames above hidden\n",
      "ipdb> help jump\n",
      "j(ump) lineno\n",
      "        Set the next line that will be executed.  Only available in\n",
      "        the bottom-most frame.  This lets you jump back and execute\n",
      "        code again, or jump forward to skip code that you don't want\n",
      "        to run.\n",
      "\n",
      "        It should be noted that not all jumps are allowed -- for\n",
      "        instance it is not possible to jump into the middle of a\n",
      "        for loop or out of a finally clause.\n",
      "ipdb> j\n",
      "*** You can only jump within the bottom frame\n",
      "ipdb> d\n",
      "> \u001b[1;32mc:\\users\\rukaiy~1\\appdata\\local\\temp\\ipykernel_30392\\1718462198.py\u001b[0m(7)\u001b[0;36mtestdebug\u001b[1;34m()\u001b[0m\n",
      "\n",
      "ipdb> d\n",
      "*** Newest frame\n",
      "ipdb> d\n",
      "*** Newest frame\n",
      "ipdb> j\n",
      "*** The 'jump' command requires a line number\n",
      "ipdb> 2\n",
      "2\n",
      "--KeyboardInterrupt--\n",
      "\n",
      "KeyboardInterrupt: Interrupted by user\n",
      "we have appended your data in list \n",
      "we have appended your data in list \n",
      "we have appended your data in list \n",
      "we have appended your data in list \n",
      "we have appended your data in list \n",
      "we have appended your data in list \n",
      "we have appended your data in list \n",
      "we have appended your data in list \n",
      "we have appended your data in list \n",
      "we have appended your data in list \n",
      "we have appended your data in list \n",
      "we have appended your data in list \n",
      "we have appended your data in list \n",
      "we have appended your data in list \n",
      "we have appended your data in list \n",
      "we have appended your data in list \n",
      "we have appended your data in list \n",
      "we have appended your data in list \n",
      "we have appended your data in list \n",
      "we have appended your data in list \n",
      "we have appended your data in list \n",
      "we have appended your data in list \n",
      "we have appended your data in list \n",
      "we have appended your data in list \n",
      "we have appended your data in list \n",
      "we have appended your data in list \n"
     ]
    },
    {
     "data": {
      "text/plain": [
       "[0,\n",
       " 0,\n",
       " 0,\n",
       " 0,\n",
       " 0,\n",
       " 1,\n",
       " 1,\n",
       " 1,\n",
       " 1,\n",
       " 1,\n",
       " 2,\n",
       " 2,\n",
       " 2,\n",
       " 2,\n",
       " 2,\n",
       " 3,\n",
       " 3,\n",
       " 3,\n",
       " 3,\n",
       " 3,\n",
       " 4,\n",
       " 4,\n",
       " 4,\n",
       " 4,\n",
       " 4,\n",
       " 5,\n",
       " 5,\n",
       " 5,\n",
       " 5,\n",
       " 5,\n",
       " 6,\n",
       " 6,\n",
       " 6,\n",
       " 6,\n",
       " 6,\n",
       " 7,\n",
       " 7,\n",
       " 7,\n",
       " 7,\n",
       " 7,\n",
       " 8,\n",
       " 8,\n",
       " 8,\n",
       " 8,\n",
       " 8,\n",
       " 9,\n",
       " 9,\n",
       " 9,\n",
       " 9,\n",
       " 9]"
      ]
     },
     "execution_count": 35,
     "metadata": {},
     "output_type": "execute_result"
    }
   ],
   "source": [
    "testdebug()"
   ]
  },
  {
   "cell_type": "markdown",
   "id": "0c2ca117",
   "metadata": {},
   "source": [
    "### visual debugger for jupyter notebook is not that great! Sir recommends to use debugger only in Pycharm or vscode!"
   ]
  },
  {
   "cell_type": "markdown",
   "id": "c9147817",
   "metadata": {},
   "source": [
    "### command line debugger if you use is a painful task whereas visual debugger it is easy to do debugging!"
   ]
  },
  {
   "cell_type": "code",
   "execution_count": null,
   "id": "21d301cf",
   "metadata": {},
   "outputs": [],
   "source": []
  },
  {
   "cell_type": "code",
   "execution_count": null,
   "id": "5e106669",
   "metadata": {},
   "outputs": [],
   "source": []
  }
 ],
 "metadata": {
  "kernelspec": {
   "display_name": "Python 3 (ipykernel)",
   "language": "python",
   "name": "python3"
  },
  "language_info": {
   "codemirror_mode": {
    "name": "ipython",
    "version": 3
   },
   "file_extension": ".py",
   "mimetype": "text/x-python",
   "name": "python",
   "nbconvert_exporter": "python",
   "pygments_lexer": "ipython3",
   "version": "3.9.7"
  }
 },
 "nbformat": 4,
 "nbformat_minor": 5
}
