{
 "cells": [
  {
   "cell_type": "code",
   "execution_count": 2,
   "id": "338edd6a",
   "metadata": {},
   "outputs": [],
   "source": [
    "l=[\"sofie\",123,\"abc\",8659,99.89,[\"hey\",9090]]"
   ]
  },
  {
   "cell_type": "code",
   "execution_count": 1,
   "id": "ea366344",
   "metadata": {},
   "outputs": [],
   "source": [
    "l=[\"pop\",\"lol0\",53,52,\"9p\",[\"roar\",\"red\",90]]"
   ]
  },
  {
   "cell_type": "code",
   "execution_count": 6,
   "id": "992834e9",
   "metadata": {},
   "outputs": [
    {
     "data": {
      "text/plain": [
       "['pop', 'lol0', 53, 52, '9p', ['roar', 'red', 90]]"
      ]
     },
     "execution_count": 6,
     "metadata": {},
     "output_type": "execute_result"
    }
   ],
   "source": [
    "l"
   ]
  },
  {
   "cell_type": "code",
   "execution_count": 56,
   "id": "9780bb40",
   "metadata": {},
   "outputs": [
    {
     "name": "stdout",
     "output_type": "stream",
     "text": [
      "90\n"
     ]
    }
   ],
   "source": [
    "for i in l:\n",
    "    if type(i)==list:\n",
    "        #print(i)\n",
    "        for j in i:\n",
    "            if type(j)==int:\n",
    "                print(j)\n"
   ]
  },
  {
   "cell_type": "code",
   "execution_count": 67,
   "id": "941c0f59",
   "metadata": {},
   "outputs": [
    {
     "name": "stdout",
     "output_type": "stream",
     "text": [
      "The element is not a list pop\n",
      "The element is not a list lol0\n",
      "The element is not a list 53\n",
      "The element is not a list 52\n",
      "The element is not a list 9p\n",
      "The element is a list ['roar', 'red', 90]\n"
     ]
    }
   ],
   "source": [
    "for i in l:\n",
    "    if type(i)==list:\n",
    "        print(\"The element is a list\",i)\n",
    "    else:\n",
    "        print(\"The element is not a list\",i)"
   ]
  },
  {
   "cell_type": "markdown",
   "id": "f443ac5e",
   "metadata": {},
   "source": [
    "## We can append a list to a list"
   ]
  },
  {
   "cell_type": "code",
   "execution_count": 2,
   "id": "18f0f4a2",
   "metadata": {},
   "outputs": [],
   "source": [
    "l=[\"pop\",\"dop\",23,90]\n",
    "l1=[\"po\",\"lo\",\"ik\",\"k\"]"
   ]
  },
  {
   "cell_type": "code",
   "execution_count": 3,
   "id": "dc7e9a0a",
   "metadata": {
    "scrolled": true
   },
   "outputs": [
    {
     "data": {
      "text/plain": [
       "['pop', 'dop', 23, 90, 'po', 'lo', 'ik', 'k']"
      ]
     },
     "execution_count": 3,
     "metadata": {},
     "output_type": "execute_result"
    }
   ],
   "source": [
    "l+l1"
   ]
  },
  {
   "cell_type": "code",
   "execution_count": 4,
   "id": "95246dae",
   "metadata": {
    "scrolled": true
   },
   "outputs": [
    {
     "data": {
      "text/plain": [
       "['po', 'lo', 'ik', 'k', 'po', 'lo', 'ik', 'k']"
      ]
     },
     "execution_count": 4,
     "metadata": {},
     "output_type": "execute_result"
    }
   ],
   "source": [
    "l1*2"
   ]
  },
  {
   "cell_type": "code",
   "execution_count": 5,
   "id": "38fb0872",
   "metadata": {
    "scrolled": true
   },
   "outputs": [
    {
     "data": {
      "text/plain": [
       "True"
      ]
     },
     "execution_count": 5,
     "metadata": {},
     "output_type": "execute_result"
    }
   ],
   "source": [
    "\"pop\" in l"
   ]
  },
  {
   "cell_type": "code",
   "execution_count": 6,
   "id": "e121e9a0",
   "metadata": {},
   "outputs": [
    {
     "data": {
      "text/plain": [
       "False"
      ]
     },
     "execution_count": 6,
     "metadata": {},
     "output_type": "execute_result"
    }
   ],
   "source": [
    "5 in l"
   ]
  },
  {
   "cell_type": "code",
   "execution_count": 7,
   "id": "5df7ad85",
   "metadata": {},
   "outputs": [
    {
     "data": {
      "text/plain": [
       "False"
      ]
     },
     "execution_count": 7,
     "metadata": {},
     "output_type": "execute_result"
    }
   ],
   "source": [
    "2 in l\n"
   ]
  },
  {
   "cell_type": "code",
   "execution_count": 8,
   "id": "5e037409",
   "metadata": {},
   "outputs": [
    {
     "data": {
      "text/plain": [
       "True"
      ]
     },
     "execution_count": 8,
     "metadata": {},
     "output_type": "execute_result"
    }
   ],
   "source": [
    "l == [\"pop\",\"dop\",23,90]"
   ]
  },
  {
   "cell_type": "code",
   "execution_count": 9,
   "id": "d543acbf",
   "metadata": {},
   "outputs": [
    {
     "data": {
      "text/plain": [
       "4"
      ]
     },
     "execution_count": 9,
     "metadata": {},
     "output_type": "execute_result"
    }
   ],
   "source": [
    "len(l)"
   ]
  },
  {
   "cell_type": "code",
   "execution_count": 10,
   "id": "8c03f0b9",
   "metadata": {},
   "outputs": [],
   "source": [
    "p=[1,2,3,4]\n",
    "p1=[3,4,5,6]"
   ]
  },
  {
   "cell_type": "code",
   "execution_count": 11,
   "id": "3281df9e",
   "metadata": {},
   "outputs": [
    {
     "data": {
      "text/plain": [
       "[1, 2, 3, 4, 3, 4, 5, 6]"
      ]
     },
     "execution_count": 11,
     "metadata": {},
     "output_type": "execute_result"
    }
   ],
   "source": [
    "p+p1"
   ]
  },
  {
   "cell_type": "code",
   "execution_count": null,
   "id": "8ae66280",
   "metadata": {},
   "outputs": [],
   "source": []
  },
  {
   "cell_type": "code",
   "execution_count": 12,
   "id": "eabf928b",
   "metadata": {},
   "outputs": [
    {
     "name": "stdout",
     "output_type": "stream",
     "text": [
      "pop\n",
      "dop\n"
     ]
    }
   ],
   "source": [
    "for i in l:\n",
    "    if type(i)== str:\n",
    "        print(i)"
   ]
  },
  {
   "cell_type": "code",
   "execution_count": 13,
   "id": "a0b5765f",
   "metadata": {},
   "outputs": [
    {
     "data": {
      "text/plain": [
       "list"
      ]
     },
     "execution_count": 13,
     "metadata": {},
     "output_type": "execute_result"
    }
   ],
   "source": [
    "type(l)"
   ]
  },
  {
   "cell_type": "code",
   "execution_count": 14,
   "id": "6a16c312",
   "metadata": {},
   "outputs": [
    {
     "data": {
      "text/plain": [
       "'pop'"
      ]
     },
     "execution_count": 14,
     "metadata": {},
     "output_type": "execute_result"
    }
   ],
   "source": [
    "l[0]"
   ]
  },
  {
   "cell_type": "code",
   "execution_count": 15,
   "id": "cd2147cf",
   "metadata": {},
   "outputs": [
    {
     "data": {
      "text/plain": [
       "['pop', 'dop', 23, 90]"
      ]
     },
     "execution_count": 15,
     "metadata": {},
     "output_type": "execute_result"
    }
   ],
   "source": [
    "l[::]"
   ]
  },
  {
   "cell_type": "code",
   "execution_count": 16,
   "id": "cfad52b3",
   "metadata": {},
   "outputs": [
    {
     "data": {
      "text/plain": [
       "[90, 23, 'dop', 'pop']"
      ]
     },
     "execution_count": 16,
     "metadata": {},
     "output_type": "execute_result"
    }
   ],
   "source": [
    "l[::-1]"
   ]
  },
  {
   "cell_type": "code",
   "execution_count": 19,
   "id": "43f80878",
   "metadata": {},
   "outputs": [
    {
     "data": {
      "text/plain": [
       "[90, 'dop']"
      ]
     },
     "execution_count": 19,
     "metadata": {},
     "output_type": "execute_result"
    }
   ],
   "source": [
    "l[::-2]"
   ]
  },
  {
   "cell_type": "code",
   "execution_count": 18,
   "id": "58b81e22",
   "metadata": {},
   "outputs": [],
   "source": [
    "l=[\"pop\",\"dop\",23,90]"
   ]
  },
  {
   "cell_type": "code",
   "execution_count": 20,
   "id": "94c7dbaa",
   "metadata": {},
   "outputs": [
    {
     "data": {
      "text/plain": [
       "['dop']"
      ]
     },
     "execution_count": 20,
     "metadata": {},
     "output_type": "execute_result"
    }
   ],
   "source": [
    "l[1:-2]"
   ]
  },
  {
   "cell_type": "code",
   "execution_count": 21,
   "id": "f7765454",
   "metadata": {},
   "outputs": [
    {
     "data": {
      "text/plain": [
       "['pop', 'dop', 23, 90, 'pop', 'dop', 23, 90]"
      ]
     },
     "execution_count": 21,
     "metadata": {},
     "output_type": "execute_result"
    }
   ],
   "source": [
    "l*2"
   ]
  },
  {
   "cell_type": "code",
   "execution_count": 22,
   "id": "2523a8ff",
   "metadata": {},
   "outputs": [],
   "source": [
    "l1=[\"abc\",123,\"ruksie\"]"
   ]
  },
  {
   "cell_type": "code",
   "execution_count": 23,
   "id": "be4c554f",
   "metadata": {},
   "outputs": [
    {
     "data": {
      "text/plain": [
       "['abc', 123, 'ruksie', 'pop', 'dop', 23, 90]"
      ]
     },
     "execution_count": 23,
     "metadata": {},
     "output_type": "execute_result"
    }
   ],
   "source": [
    "l1+l"
   ]
  },
  {
   "cell_type": "code",
   "execution_count": 43,
   "id": "4dc3688d",
   "metadata": {},
   "outputs": [
    {
     "data": {
      "text/plain": [
       "['po', 'lo', 'ik', 'k', 'po', 'lo', 'ik', 'k']"
      ]
     },
     "execution_count": 43,
     "metadata": {},
     "output_type": "execute_result"
    }
   ],
   "source": [
    "l1*2"
   ]
  },
  {
   "cell_type": "code",
   "execution_count": 44,
   "id": "9ff679f6",
   "metadata": {},
   "outputs": [
    {
     "ename": "TypeError",
     "evalue": "can't multiply sequence by non-int of type 'list'",
     "output_type": "error",
     "traceback": [
      "\u001b[1;31m---------------------------------------------------------------------------\u001b[0m",
      "\u001b[1;31mTypeError\u001b[0m                                 Traceback (most recent call last)",
      "\u001b[1;32mC:\\Users\\RUKAIY~1\\AppData\\Local\\Temp/ipykernel_28980/3125812208.py\u001b[0m in \u001b[0;36m<module>\u001b[1;34m\u001b[0m\n\u001b[1;32m----> 1\u001b[1;33m \u001b[0ml1\u001b[0m\u001b[1;33m*\u001b[0m\u001b[0ml1\u001b[0m\u001b[1;33m\u001b[0m\u001b[1;33m\u001b[0m\u001b[0m\n\u001b[0m",
      "\u001b[1;31mTypeError\u001b[0m: can't multiply sequence by non-int of type 'list'"
     ]
    }
   ],
   "source": [
    "l1*l1"
   ]
  },
  {
   "cell_type": "code",
   "execution_count": 25,
   "id": "74c8f071",
   "metadata": {},
   "outputs": [
    {
     "ename": "TypeError",
     "evalue": "unsupported operand type(s) for -: 'list' and 'list'",
     "output_type": "error",
     "traceback": [
      "\u001b[1;31m---------------------------------------------------------------------------\u001b[0m",
      "\u001b[1;31mTypeError\u001b[0m                                 Traceback (most recent call last)",
      "\u001b[1;32mC:\\Users\\RUKAIY~1\\AppData\\Local\\Temp/ipykernel_28980/2448015494.py\u001b[0m in \u001b[0;36m<module>\u001b[1;34m\u001b[0m\n\u001b[1;32m----> 1\u001b[1;33m \u001b[0ml1\u001b[0m\u001b[1;33m-\u001b[0m\u001b[0ml\u001b[0m\u001b[1;33m\u001b[0m\u001b[1;33m\u001b[0m\u001b[0m\n\u001b[0m",
      "\u001b[1;31mTypeError\u001b[0m: unsupported operand type(s) for -: 'list' and 'list'"
     ]
    }
   ],
   "source": [
    "l1-l"
   ]
  },
  {
   "cell_type": "code",
   "execution_count": 26,
   "id": "481d0618",
   "metadata": {
    "scrolled": false
   },
   "outputs": [
    {
     "data": {
      "text/plain": [
       "4"
      ]
     },
     "execution_count": 26,
     "metadata": {},
     "output_type": "execute_result"
    }
   ],
   "source": [
    "len(l)"
   ]
  },
  {
   "cell_type": "markdown",
   "id": "fbd11134",
   "metadata": {},
   "source": [
    "# LIST OPERATIONS"
   ]
  },
  {
   "cell_type": "markdown",
   "id": "44870f4c",
   "metadata": {},
   "source": [
    "## max( ) & min( )"
   ]
  },
  {
   "cell_type": "code",
   "execution_count": 48,
   "id": "f8f2189c",
   "metadata": {},
   "outputs": [
    {
     "name": "stdout",
     "output_type": "stream",
     "text": [
      "9\n"
     ]
    }
   ],
   "source": [
    "print(max([2,5,8,9]))"
   ]
  },
  {
   "cell_type": "code",
   "execution_count": 49,
   "id": "8354d283",
   "metadata": {},
   "outputs": [
    {
     "data": {
      "text/plain": [
       "99"
      ]
     },
     "execution_count": 49,
     "metadata": {},
     "output_type": "execute_result"
    }
   ],
   "source": [
    "max([8,5,99])"
   ]
  },
  {
   "cell_type": "code",
   "execution_count": 50,
   "id": "da87cf9a",
   "metadata": {},
   "outputs": [
    {
     "data": {
      "text/plain": [
       "2.3"
      ]
     },
     "execution_count": 50,
     "metadata": {},
     "output_type": "execute_result"
    }
   ],
   "source": [
    "min([10,2.3,25])"
   ]
  },
  {
   "cell_type": "code",
   "execution_count": 51,
   "id": "7e4e7a51",
   "metadata": {},
   "outputs": [
    {
     "ename": "TypeError",
     "evalue": "'>' not supported between instances of 'int' and 'str'",
     "output_type": "error",
     "traceback": [
      "\u001b[1;31m---------------------------------------------------------------------------\u001b[0m",
      "\u001b[1;31mTypeError\u001b[0m                                 Traceback (most recent call last)",
      "\u001b[1;32mC:\\Users\\RUKAIY~1\\AppData\\Local\\Temp/ipykernel_28980/4209386937.py\u001b[0m in \u001b[0;36m<module>\u001b[1;34m\u001b[0m\n\u001b[1;32m----> 1\u001b[1;33m \u001b[0mmax\u001b[0m\u001b[1;33m(\u001b[0m\u001b[1;33m[\u001b[0m\u001b[1;34m\"pop\"\u001b[0m\u001b[1;33m,\u001b[0m\u001b[1;36m52\u001b[0m\u001b[1;33m]\u001b[0m\u001b[1;33m)\u001b[0m\u001b[1;33m\u001b[0m\u001b[1;33m\u001b[0m\u001b[0m\n\u001b[0m",
      "\u001b[1;31mTypeError\u001b[0m: '>' not supported between instances of 'int' and 'str'"
     ]
    }
   ],
   "source": [
    "max([\"pop\",52])"
   ]
  },
  {
   "cell_type": "code",
   "execution_count": 52,
   "id": "9d89df59",
   "metadata": {},
   "outputs": [
    {
     "ename": "TypeError",
     "evalue": "'<' not supported between instances of 'int' and 'str'",
     "output_type": "error",
     "traceback": [
      "\u001b[1;31m---------------------------------------------------------------------------\u001b[0m",
      "\u001b[1;31mTypeError\u001b[0m                                 Traceback (most recent call last)",
      "\u001b[1;32mC:\\Users\\RUKAIY~1\\AppData\\Local\\Temp/ipykernel_28980/2511472648.py\u001b[0m in \u001b[0;36m<module>\u001b[1;34m\u001b[0m\n\u001b[1;32m----> 1\u001b[1;33m \u001b[0mmin\u001b[0m\u001b[1;33m(\u001b[0m\u001b[1;33m[\u001b[0m\u001b[1;34m\"pop78\"\u001b[0m\u001b[1;33m,\u001b[0m\u001b[1;36m56\u001b[0m\u001b[1;33m]\u001b[0m\u001b[1;33m)\u001b[0m\u001b[1;33m\u001b[0m\u001b[1;33m\u001b[0m\u001b[0m\n\u001b[0m",
      "\u001b[1;31mTypeError\u001b[0m: '<' not supported between instances of 'int' and 'str'"
     ]
    }
   ],
   "source": [
    "min([\"pop78\",56])"
   ]
  },
  {
   "cell_type": "markdown",
   "id": "7f8a283e",
   "metadata": {},
   "source": [
    "for strings maximum is z and minimum is a so alphabetically."
   ]
  },
  {
   "cell_type": "code",
   "execution_count": 37,
   "id": "ceb2d3f8",
   "metadata": {},
   "outputs": [
    {
     "data": {
      "text/plain": [
       "'pop'"
      ]
     },
     "execution_count": 37,
     "metadata": {},
     "output_type": "execute_result"
    }
   ],
   "source": [
    "max([\"pop\",\"lol\",\"article\"])"
   ]
  },
  {
   "cell_type": "code",
   "execution_count": 38,
   "id": "3f735612",
   "metadata": {},
   "outputs": [
    {
     "data": {
      "text/plain": [
       "'article'"
      ]
     },
     "execution_count": 38,
     "metadata": {},
     "output_type": "execute_result"
    }
   ],
   "source": [
    "min([\"pop\",\"lol\",\"article\"])"
   ]
  },
  {
   "cell_type": "markdown",
   "id": "7e6ba239",
   "metadata": {},
   "source": [
    "### BASED ON ASCII VALUE that is A has 64 and small a has 62 so based on that  WILL THE TABLE DECIDE ON MAX AND MIN VALUES FOR CAPITAL AND SMALL ALPHABETS"
   ]
  },
  {
   "cell_type": "markdown",
   "id": "6eaf7466",
   "metadata": {},
   "source": [
    "## Append function"
   ]
  },
  {
   "cell_type": "code",
   "execution_count": 49,
   "id": "395b8a00",
   "metadata": {},
   "outputs": [],
   "source": [
    "l=[\"pop\",\"kol\",\"loin\",\"doing\"]"
   ]
  },
  {
   "cell_type": "code",
   "execution_count": 50,
   "id": "95253e95",
   "metadata": {},
   "outputs": [
    {
     "data": {
      "text/plain": [
       "['pop', 'kol', 'loin', 'doing']"
      ]
     },
     "execution_count": 50,
     "metadata": {},
     "output_type": "execute_result"
    }
   ],
   "source": [
    "l"
   ]
  },
  {
   "cell_type": "code",
   "execution_count": 51,
   "id": "e305b129",
   "metadata": {},
   "outputs": [],
   "source": [
    "l.append(\"ruksieAbbas\")"
   ]
  },
  {
   "cell_type": "code",
   "execution_count": 52,
   "id": "bb9d22ef",
   "metadata": {},
   "outputs": [],
   "source": [
    "l.append(2)"
   ]
  },
  {
   "cell_type": "markdown",
   "id": "a09f527e",
   "metadata": {},
   "source": [
    "### Also append function always appends the elements at the end of the table and can append an object i.e an int and str both "
   ]
  },
  {
   "cell_type": "code",
   "execution_count": 53,
   "id": "035048a1",
   "metadata": {
    "scrolled": true
   },
   "outputs": [
    {
     "data": {
      "text/plain": [
       "['pop', 'kol', 'loin', 'doing', 'ruksieAbbas', 2]"
      ]
     },
     "execution_count": 53,
     "metadata": {},
     "output_type": "execute_result"
    }
   ],
   "source": [
    "l"
   ]
  },
  {
   "cell_type": "code",
   "execution_count": 54,
   "id": "4599355e",
   "metadata": {},
   "outputs": [],
   "source": [
    "l.append([89,56,25])"
   ]
  },
  {
   "cell_type": "code",
   "execution_count": 55,
   "id": "f3aed69b",
   "metadata": {},
   "outputs": [
    {
     "data": {
      "text/plain": [
       "['pop', 'kol', 'loin', 'doing', 'ruksieAbbas', 2, [89, 56, 25]]"
      ]
     },
     "execution_count": 55,
     "metadata": {},
     "output_type": "execute_result"
    }
   ],
   "source": [
    "l"
   ]
  },
  {
   "cell_type": "code",
   "execution_count": 56,
   "id": "a9f3aff5",
   "metadata": {},
   "outputs": [
    {
     "data": {
      "text/plain": [
       "7"
      ]
     },
     "execution_count": 56,
     "metadata": {},
     "output_type": "execute_result"
    }
   ],
   "source": [
    "len(l)"
   ]
  },
  {
   "cell_type": "code",
   "execution_count": 60,
   "id": "7e38203b",
   "metadata": {},
   "outputs": [
    {
     "name": "stdout",
     "output_type": "stream",
     "text": [
      "pop\n",
      "kol\n",
      "loin\n",
      "doing\n",
      "ruksieAbbas\n",
      "2\n",
      "[89, 56, 25]\n"
     ]
    }
   ],
   "source": [
    "for i in range(len(l)):\n",
    "    print(l[i])"
   ]
  },
  {
   "cell_type": "code",
   "execution_count": 30,
   "id": "6246eb7b",
   "metadata": {},
   "outputs": [
    {
     "ename": "TypeError",
     "evalue": "can only concatenate list (not \"str\") to list",
     "output_type": "error",
     "traceback": [
      "\u001b[1;31m---------------------------------------------------------------------------\u001b[0m",
      "\u001b[1;31mTypeError\u001b[0m                                 Traceback (most recent call last)",
      "\u001b[1;32mC:\\Users\\RUKAIY~1\\AppData\\Local\\Temp/ipykernel_23980/4196106590.py\u001b[0m in \u001b[0;36m<module>\u001b[1;34m\u001b[0m\n\u001b[1;32m----> 1\u001b[1;33m \u001b[0ml\u001b[0m\u001b[1;33m+\u001b[0m\u001b[1;34m\"ruksie\"\u001b[0m  \u001b[1;31m#Here since there is a datatype difference thats the reason it cannot append list to a string\u001b[0m\u001b[1;33m\u001b[0m\u001b[1;33m\u001b[0m\u001b[0m\n\u001b[0m",
      "\u001b[1;31mTypeError\u001b[0m: can only concatenate list (not \"str\") to list"
     ]
    }
   ],
   "source": [
    "l+\"ruksie\"  #Here since there is a datatype difference thats the reason it cannot append list to a string"
   ]
  },
  {
   "cell_type": "markdown",
   "id": "c7f1f245",
   "metadata": {},
   "source": [
    "## INSERT function"
   ]
  },
  {
   "cell_type": "code",
   "execution_count": 31,
   "id": "040fcfd6",
   "metadata": {},
   "outputs": [
    {
     "data": {
      "text/plain": [
       "['pop', 'kol', 'loin', 'doing', 'ruksieAbbas', 2, [89, 56, 25]]"
      ]
     },
     "execution_count": 31,
     "metadata": {},
     "output_type": "execute_result"
    }
   ],
   "source": [
    "l"
   ]
  },
  {
   "cell_type": "code",
   "execution_count": 32,
   "id": "ba247d38",
   "metadata": {},
   "outputs": [
    {
     "data": {
      "text/plain": [
       "['pop', 'kol', 'loin', 'doing', 'ruksieAbbas', 2, [89, 56, 25]]"
      ]
     },
     "execution_count": 32,
     "metadata": {},
     "output_type": "execute_result"
    }
   ],
   "source": [
    "l"
   ]
  },
  {
   "cell_type": "code",
   "execution_count": 33,
   "id": "8b550a4d",
   "metadata": {
    "scrolled": true
   },
   "outputs": [
    {
     "data": {
      "text/plain": [
       "7"
      ]
     },
     "execution_count": 33,
     "metadata": {},
     "output_type": "execute_result"
    }
   ],
   "source": [
    "len(l)"
   ]
  },
  {
   "cell_type": "markdown",
   "id": "fdcc3b70",
   "metadata": {},
   "source": [
    "### In insert function method there is an index value to be specified to insert the element at that particular position "
   ]
  },
  {
   "cell_type": "markdown",
   "id": "b0e672cc",
   "metadata": {},
   "source": [
    "### Also VERY IMPORTANT it inserts the element before the index value "
   ]
  },
  {
   "cell_type": "code",
   "execution_count": 34,
   "id": "4f2fef76",
   "metadata": {},
   "outputs": [
    {
     "data": {
      "text/plain": [
       "['pop', 'kol', 'loin', 'doing', 'ruksieAbbas', 2, [89, 56, 25]]"
      ]
     },
     "execution_count": 34,
     "metadata": {},
     "output_type": "execute_result"
    }
   ],
   "source": [
    "l"
   ]
  },
  {
   "cell_type": "code",
   "execution_count": 35,
   "id": "b3c6ba81",
   "metadata": {},
   "outputs": [],
   "source": [
    "l.insert(3,89)"
   ]
  },
  {
   "cell_type": "code",
   "execution_count": 36,
   "id": "f7bc56b0",
   "metadata": {},
   "outputs": [
    {
     "data": {
      "text/plain": [
       "['pop', 'kol', 'loin', 89, 'doing', 'ruksieAbbas', 2, [89, 56, 25]]"
      ]
     },
     "execution_count": 36,
     "metadata": {},
     "output_type": "execute_result"
    }
   ],
   "source": [
    "l"
   ]
  },
  {
   "cell_type": "markdown",
   "id": "e4d1628f",
   "metadata": {},
   "source": [
    "### Here in negative insertion we need to see that the value gets replaced for that position and the other values move forward"
   ]
  },
  {
   "cell_type": "code",
   "execution_count": 37,
   "id": "53e4a590",
   "metadata": {},
   "outputs": [],
   "source": [
    "l.insert(-2,-2)"
   ]
  },
  {
   "cell_type": "code",
   "execution_count": 38,
   "id": "1a53203b",
   "metadata": {},
   "outputs": [
    {
     "data": {
      "text/plain": [
       "['pop', 'kol', 'loin', 89, 'doing', 'ruksieAbbas', -2, 2, [89, 56, 25]]"
      ]
     },
     "execution_count": 38,
     "metadata": {},
     "output_type": "execute_result"
    }
   ],
   "source": [
    "l"
   ]
  },
  {
   "cell_type": "markdown",
   "id": "8474ad9d",
   "metadata": {},
   "source": [
    "## Extend() function"
   ]
  },
  {
   "cell_type": "code",
   "execution_count": 39,
   "id": "237a4ccc",
   "metadata": {},
   "outputs": [],
   "source": [
    "l=[1,2,3,4,5]"
   ]
  },
  {
   "cell_type": "code",
   "execution_count": 40,
   "id": "274eb84a",
   "metadata": {},
   "outputs": [],
   "source": [
    "l.append(\"ruksie\")"
   ]
  },
  {
   "cell_type": "code",
   "execution_count": 41,
   "id": "66c18828",
   "metadata": {},
   "outputs": [
    {
     "data": {
      "text/plain": [
       "[1, 2, 3, 4, 5, 'ruksie']"
      ]
     },
     "execution_count": 41,
     "metadata": {},
     "output_type": "execute_result"
    }
   ],
   "source": [
    "l"
   ]
  },
  {
   "cell_type": "code",
   "execution_count": 42,
   "id": "1ae64745",
   "metadata": {},
   "outputs": [],
   "source": [
    "l.append([\"list\",54])"
   ]
  },
  {
   "cell_type": "code",
   "execution_count": 43,
   "id": "f6b7b2bb",
   "metadata": {},
   "outputs": [
    {
     "data": {
      "text/plain": [
       "[1, 2, 3, 4, 5, 'ruksie', ['list', 54]]"
      ]
     },
     "execution_count": 43,
     "metadata": {},
     "output_type": "execute_result"
    }
   ],
   "source": [
    "l"
   ]
  },
  {
   "cell_type": "code",
   "execution_count": 44,
   "id": "fc87e23e",
   "metadata": {},
   "outputs": [],
   "source": [
    "l.extend(\"test1\")"
   ]
  },
  {
   "cell_type": "code",
   "execution_count": 45,
   "id": "1a670187",
   "metadata": {
    "scrolled": true
   },
   "outputs": [
    {
     "data": {
      "text/plain": [
       "[1, 2, 3, 4, 5, 'ruksie', ['list', 54], 't', 'e', 's', 't', '1']"
      ]
     },
     "execution_count": 45,
     "metadata": {},
     "output_type": "execute_result"
    }
   ],
   "source": [
    "l"
   ]
  },
  {
   "cell_type": "code",
   "execution_count": 46,
   "id": "60612f4f",
   "metadata": {},
   "outputs": [],
   "source": [
    "d=[1,2,3,4]\n",
    "d.extend([\"ruksie\",\"lol\"])\n",
    "d.extend(\"ryuk\")"
   ]
  },
  {
   "cell_type": "code",
   "execution_count": 47,
   "id": "79e490ce",
   "metadata": {},
   "outputs": [
    {
     "data": {
      "text/plain": [
       "[1, 2, 3, 4, 'ruksie', 'lol', 'r', 'y', 'u', 'k']"
      ]
     },
     "execution_count": 47,
     "metadata": {},
     "output_type": "execute_result"
    }
   ],
   "source": [
    "d"
   ]
  },
  {
   "cell_type": "code",
   "execution_count": 109,
   "id": "9f6ca369",
   "metadata": {},
   "outputs": [
    {
     "data": {
      "text/plain": [
       "['r', 'u', 'k', 's', 'i', 'e']"
      ]
     },
     "execution_count": 109,
     "metadata": {},
     "output_type": "execute_result"
    }
   ],
   "source": [
    "r=\"ruksie\"\n",
    "list(r)"
   ]
  },
  {
   "cell_type": "markdown",
   "id": "583ddbb6",
   "metadata": {},
   "source": [
    "### So in extend function it cannot iterrate an integer value"
   ]
  },
  {
   "cell_type": "code",
   "execution_count": 110,
   "id": "b5bd09bb",
   "metadata": {},
   "outputs": [
    {
     "ename": "TypeError",
     "evalue": "'int' object is not iterable",
     "output_type": "error",
     "traceback": [
      "\u001b[1;31m---------------------------------------------------------------------------\u001b[0m",
      "\u001b[1;31mTypeError\u001b[0m                                 Traceback (most recent call last)",
      "\u001b[1;32mC:\\Users\\RUKAIY~1\\AppData\\Local\\Temp/ipykernel_28980/4150691915.py\u001b[0m in \u001b[0;36m<module>\u001b[1;34m\u001b[0m\n\u001b[1;32m----> 1\u001b[1;33m \u001b[0ml\u001b[0m\u001b[1;33m.\u001b[0m\u001b[0mextend\u001b[0m\u001b[1;33m(\u001b[0m\u001b[1;36m5\u001b[0m\u001b[1;33m)\u001b[0m\u001b[1;33m\u001b[0m\u001b[1;33m\u001b[0m\u001b[0m\n\u001b[0m",
      "\u001b[1;31mTypeError\u001b[0m: 'int' object is not iterable"
     ]
    }
   ],
   "source": [
    "l.extend(5)"
   ]
  },
  {
   "cell_type": "code",
   "execution_count": 128,
   "id": "5f17cddc",
   "metadata": {},
   "outputs": [],
   "source": [
    "e=[1,2,5,6,9]"
   ]
  },
  {
   "cell_type": "markdown",
   "id": "97411e75",
   "metadata": {},
   "source": [
    "### So in extend function it add and merges the list together to make one whole list whereas in append it adds as it is without merging it"
   ]
  },
  {
   "cell_type": "code",
   "execution_count": 129,
   "id": "be199e53",
   "metadata": {
    "scrolled": true
   },
   "outputs": [
    {
     "data": {
      "text/plain": [
       "[1, 2, 5, 6, 9]"
      ]
     },
     "execution_count": 129,
     "metadata": {},
     "output_type": "execute_result"
    }
   ],
   "source": [
    "e"
   ]
  },
  {
   "cell_type": "markdown",
   "id": "405ee3da",
   "metadata": {},
   "source": [
    "### It can add list inside a list as well"
   ]
  },
  {
   "cell_type": "code",
   "execution_count": 130,
   "id": "eafc103a",
   "metadata": {},
   "outputs": [],
   "source": [
    "e.extend([5,6,8,8911111111,[\"abc\",\"lolpik\",\"ji\"]])"
   ]
  },
  {
   "cell_type": "code",
   "execution_count": 131,
   "id": "3c5eb36c",
   "metadata": {
    "scrolled": true
   },
   "outputs": [
    {
     "name": "stdout",
     "output_type": "stream",
     "text": [
      "[1, 2, 5, 6, 9, 5, 6, 8, 8911111111, ['abc', 'lolpik', 'ji']] "
     ]
    }
   ],
   "source": [
    "print(e,end=\" \")"
   ]
  },
  {
   "cell_type": "code",
   "execution_count": 71,
   "id": "b2158cca",
   "metadata": {},
   "outputs": [],
   "source": [
    "w=[8, 9, 9, 6, 1]"
   ]
  },
  {
   "cell_type": "code",
   "execution_count": 72,
   "id": "9a0195bf",
   "metadata": {},
   "outputs": [
    {
     "data": {
      "text/plain": [
       "[8, 9, 9, 6, 1]"
      ]
     },
     "execution_count": 72,
     "metadata": {},
     "output_type": "execute_result"
    }
   ],
   "source": [
    "w"
   ]
  },
  {
   "cell_type": "code",
   "execution_count": 76,
   "id": "da5e16bb",
   "metadata": {},
   "outputs": [],
   "source": [
    "w.append([87,88,89])"
   ]
  },
  {
   "cell_type": "code",
   "execution_count": 77,
   "id": "675ed61b",
   "metadata": {},
   "outputs": [
    {
     "data": {
      "text/plain": [
       "[8, 9, 9, 6, 1, [87, 88, 89]]"
      ]
     },
     "execution_count": 77,
     "metadata": {},
     "output_type": "execute_result"
    }
   ],
   "source": [
    "w"
   ]
  },
  {
   "cell_type": "markdown",
   "id": "b27649a4",
   "metadata": {},
   "source": [
    "## Count function"
   ]
  },
  {
   "cell_type": "code",
   "execution_count": 393,
   "id": "a2d33735",
   "metadata": {
    "scrolled": true
   },
   "outputs": [
    {
     "data": {
      "text/plain": [
       "2"
      ]
     },
     "execution_count": 393,
     "metadata": {},
     "output_type": "execute_result"
    }
   ],
   "source": [
    "w.count(9)"
   ]
  },
  {
   "cell_type": "markdown",
   "id": "32636717",
   "metadata": {},
   "source": [
    "## Index function"
   ]
  },
  {
   "cell_type": "code",
   "execution_count": 394,
   "id": "0e3a2081",
   "metadata": {},
   "outputs": [
    {
     "data": {
      "text/plain": [
       "1"
      ]
     },
     "execution_count": 394,
     "metadata": {},
     "output_type": "execute_result"
    }
   ],
   "source": [
    "w.index(9)"
   ]
  },
  {
   "cell_type": "markdown",
   "id": "a1e52cc8",
   "metadata": {},
   "source": [
    "## Pop function method"
   ]
  },
  {
   "cell_type": "markdown",
   "id": "13d4720c",
   "metadata": {},
   "source": [
    "### Pop always removes data based on indexes"
   ]
  },
  {
   "cell_type": "code",
   "execution_count": 396,
   "id": "3d2b53c6",
   "metadata": {},
   "outputs": [],
   "source": [
    "w=[8, 9, 9, 6, 1]"
   ]
  },
  {
   "cell_type": "markdown",
   "id": "fecd6bc3",
   "metadata": {},
   "source": [
    "Pop without an index will pop the last index"
   ]
  },
  {
   "cell_type": "code",
   "execution_count": 397,
   "id": "df1d5281",
   "metadata": {
    "scrolled": false
   },
   "outputs": [
    {
     "data": {
      "text/plain": [
       "1"
      ]
     },
     "execution_count": 397,
     "metadata": {},
     "output_type": "execute_result"
    }
   ],
   "source": [
    "w.pop()"
   ]
  },
  {
   "cell_type": "code",
   "execution_count": 398,
   "id": "becf3cdd",
   "metadata": {},
   "outputs": [
    {
     "data": {
      "text/plain": [
       "[8, 9, 9, 6]"
      ]
     },
     "execution_count": 398,
     "metadata": {},
     "output_type": "execute_result"
    }
   ],
   "source": [
    "w"
   ]
  },
  {
   "cell_type": "code",
   "execution_count": 399,
   "id": "27ec72d6",
   "metadata": {},
   "outputs": [
    {
     "data": {
      "text/plain": [
       "8"
      ]
     },
     "execution_count": 399,
     "metadata": {},
     "output_type": "execute_result"
    }
   ],
   "source": [
    "w.pop(0)"
   ]
  },
  {
   "cell_type": "code",
   "execution_count": 231,
   "id": "8923afb9",
   "metadata": {
    "scrolled": true
   },
   "outputs": [
    {
     "data": {
      "text/plain": [
       "[9, 9, 6]"
      ]
     },
     "execution_count": 231,
     "metadata": {},
     "output_type": "execute_result"
    }
   ],
   "source": [
    "w"
   ]
  },
  {
   "cell_type": "code",
   "execution_count": 232,
   "id": "c37fc449",
   "metadata": {},
   "outputs": [],
   "source": [
    "d=[\"ruksie\",58,69,23,58]"
   ]
  },
  {
   "cell_type": "code",
   "execution_count": 233,
   "id": "6d155180",
   "metadata": {},
   "outputs": [
    {
     "data": {
      "text/plain": [
       "58"
      ]
     },
     "execution_count": 233,
     "metadata": {},
     "output_type": "execute_result"
    }
   ],
   "source": [
    "d.pop(4)"
   ]
  },
  {
   "cell_type": "code",
   "execution_count": 234,
   "id": "f26640fe",
   "metadata": {
    "scrolled": true
   },
   "outputs": [
    {
     "data": {
      "text/plain": [
       "['ruksie', 58, 69, 23]"
      ]
     },
     "execution_count": 234,
     "metadata": {},
     "output_type": "execute_result"
    }
   ],
   "source": [
    "d"
   ]
  },
  {
   "cell_type": "code",
   "execution_count": 235,
   "id": "51c6c930",
   "metadata": {},
   "outputs": [
    {
     "data": {
      "text/plain": [
       "58"
      ]
     },
     "execution_count": 235,
     "metadata": {},
     "output_type": "execute_result"
    }
   ],
   "source": [
    "d.pop(1)"
   ]
  },
  {
   "cell_type": "code",
   "execution_count": 236,
   "id": "83e88c9a",
   "metadata": {},
   "outputs": [
    {
     "data": {
      "text/plain": [
       "['ruksie', 69, 23]"
      ]
     },
     "execution_count": 236,
     "metadata": {},
     "output_type": "execute_result"
    }
   ],
   "source": [
    "d"
   ]
  },
  {
   "cell_type": "code",
   "execution_count": 237,
   "id": "22dfadce",
   "metadata": {},
   "outputs": [
    {
     "data": {
      "text/plain": [
       "'ruksie'"
      ]
     },
     "execution_count": 237,
     "metadata": {},
     "output_type": "execute_result"
    }
   ],
   "source": [
    "d.pop(0)"
   ]
  },
  {
   "cell_type": "code",
   "execution_count": 238,
   "id": "17ce02f1",
   "metadata": {},
   "outputs": [
    {
     "data": {
      "text/plain": [
       "[69, 23]"
      ]
     },
     "execution_count": 238,
     "metadata": {},
     "output_type": "execute_result"
    }
   ],
   "source": [
    "d"
   ]
  },
  {
   "cell_type": "markdown",
   "id": "514ba807",
   "metadata": {},
   "source": [
    "## Remove function method"
   ]
  },
  {
   "cell_type": "markdown",
   "id": "a74b512c",
   "metadata": {},
   "source": [
    "### It removes elements directly based on data feeded "
   ]
  },
  {
   "cell_type": "code",
   "execution_count": 61,
   "id": "fd8faee8",
   "metadata": {},
   "outputs": [],
   "source": [
    "l=[\"pop\",90]"
   ]
  },
  {
   "cell_type": "code",
   "execution_count": 280,
   "id": "34f267b2",
   "metadata": {},
   "outputs": [],
   "source": [
    "l.remove(\"pop\")"
   ]
  },
  {
   "cell_type": "code",
   "execution_count": 281,
   "id": "e0d7b78b",
   "metadata": {},
   "outputs": [
    {
     "data": {
      "text/plain": [
       "[90]"
      ]
     },
     "execution_count": 281,
     "metadata": {},
     "output_type": "execute_result"
    }
   ],
   "source": [
    "l"
   ]
  },
  {
   "cell_type": "code",
   "execution_count": 282,
   "id": "858120f5",
   "metadata": {},
   "outputs": [],
   "source": [
    "l.remove(90)"
   ]
  },
  {
   "cell_type": "code",
   "execution_count": 283,
   "id": "ec4351b6",
   "metadata": {},
   "outputs": [
    {
     "data": {
      "text/plain": [
       "[]"
      ]
     },
     "execution_count": 283,
     "metadata": {},
     "output_type": "execute_result"
    }
   ],
   "source": [
    "l"
   ]
  },
  {
   "cell_type": "markdown",
   "id": "90fa6a4f",
   "metadata": {},
   "source": [
    "## Reverse function method"
   ]
  },
  {
   "cell_type": "code",
   "execution_count": 151,
   "id": "260e8b73",
   "metadata": {},
   "outputs": [],
   "source": [
    "w.reverse()"
   ]
  },
  {
   "cell_type": "code",
   "execution_count": 152,
   "id": "280a4498",
   "metadata": {},
   "outputs": [
    {
     "data": {
      "text/plain": [
       "[6, 9]"
      ]
     },
     "execution_count": 152,
     "metadata": {},
     "output_type": "execute_result"
    }
   ],
   "source": [
    "w #Here it permanently reverses the elements in the list"
   ]
  },
  {
   "cell_type": "code",
   "execution_count": 63,
   "id": "7bc975e1",
   "metadata": {},
   "outputs": [],
   "source": [
    "s=[1,2,3,4]"
   ]
  },
  {
   "cell_type": "code",
   "execution_count": 64,
   "id": "2521481e",
   "metadata": {},
   "outputs": [],
   "source": [
    "s.reverse()"
   ]
  },
  {
   "cell_type": "code",
   "execution_count": 65,
   "id": "1220cc10",
   "metadata": {},
   "outputs": [
    {
     "data": {
      "text/plain": [
       "[4, 3, 2, 1]"
      ]
     },
     "execution_count": 65,
     "metadata": {},
     "output_type": "execute_result"
    }
   ],
   "source": [
    "s"
   ]
  },
  {
   "cell_type": "code",
   "execution_count": 68,
   "id": "0ecffcce",
   "metadata": {},
   "outputs": [
    {
     "data": {
      "text/plain": [
       "[1, 2, 3, 4]"
      ]
     },
     "execution_count": 68,
     "metadata": {},
     "output_type": "execute_result"
    }
   ],
   "source": [
    "list(reversed(s))"
   ]
  },
  {
   "cell_type": "code",
   "execution_count": null,
   "id": "e35592de",
   "metadata": {},
   "outputs": [],
   "source": []
  },
  {
   "cell_type": "markdown",
   "id": "2ccc01d9",
   "metadata": {},
   "source": [
    "## Sort function"
   ]
  },
  {
   "cell_type": "markdown",
   "id": "e0dd9990",
   "metadata": {},
   "source": [
    "### Sort function sorts in ascending order"
   ]
  },
  {
   "cell_type": "code",
   "execution_count": 155,
   "id": "67a71995",
   "metadata": {},
   "outputs": [],
   "source": [
    "q=[7,5,96,41,25]"
   ]
  },
  {
   "cell_type": "code",
   "execution_count": 156,
   "id": "184d592d",
   "metadata": {},
   "outputs": [],
   "source": [
    "q.sort()"
   ]
  },
  {
   "cell_type": "code",
   "execution_count": 157,
   "id": "6e54f844",
   "metadata": {
    "scrolled": true
   },
   "outputs": [
    {
     "data": {
      "text/plain": [
       "[5, 7, 25, 41, 96]"
      ]
     },
     "execution_count": 157,
     "metadata": {},
     "output_type": "execute_result"
    }
   ],
   "source": [
    "q"
   ]
  },
  {
   "cell_type": "code",
   "execution_count": null,
   "id": "1328a8d3",
   "metadata": {},
   "outputs": [],
   "source": []
  },
  {
   "cell_type": "markdown",
   "id": "05c3d71e",
   "metadata": {},
   "source": [
    "### Remember that sorting takes place between same datatype functions"
   ]
  },
  {
   "cell_type": "code",
   "execution_count": 159,
   "id": "959c556c",
   "metadata": {},
   "outputs": [],
   "source": [
    "t=[\"pop\",85,97,\"lol\"]"
   ]
  },
  {
   "cell_type": "code",
   "execution_count": 160,
   "id": "ae481573",
   "metadata": {
    "scrolled": true
   },
   "outputs": [
    {
     "ename": "TypeError",
     "evalue": "'<' not supported between instances of 'int' and 'str'",
     "output_type": "error",
     "traceback": [
      "\u001b[1;31m---------------------------------------------------------------------------\u001b[0m",
      "\u001b[1;31mTypeError\u001b[0m                                 Traceback (most recent call last)",
      "\u001b[1;32mC:\\Users\\RUKAIY~1\\AppData\\Local\\Temp/ipykernel_28980/1897515965.py\u001b[0m in \u001b[0;36m<module>\u001b[1;34m\u001b[0m\n\u001b[1;32m----> 1\u001b[1;33m \u001b[0mt\u001b[0m\u001b[1;33m.\u001b[0m\u001b[0msort\u001b[0m\u001b[1;33m(\u001b[0m\u001b[1;33m)\u001b[0m\u001b[1;33m\u001b[0m\u001b[1;33m\u001b[0m\u001b[0m\n\u001b[0m",
      "\u001b[1;31mTypeError\u001b[0m: '<' not supported between instances of 'int' and 'str'"
     ]
    }
   ],
   "source": [
    "t.sort()"
   ]
  },
  {
   "cell_type": "markdown",
   "id": "4b88150e",
   "metadata": {},
   "source": [
    "## Question:"
   ]
  },
  {
   "cell_type": "markdown",
   "id": "8896323d",
   "metadata": {},
   "source": [
    "Part one:\n",
    "append in betwwen two nested lists and one should hold a complex number.\n",
    "Part two:\n",
    "In the nested lists find string values and print their indexes and then remove the strings from that list respectively\n",
    "Part three:\n",
    "Remove every other element in the list at 2nd index"
   ]
  },
  {
   "cell_type": "code",
   "execution_count": 74,
   "id": "6920886f",
   "metadata": {
    "scrolled": true
   },
   "outputs": [
    {
     "name": "stdout",
     "output_type": "stream",
     "text": [
      "[[1, 2, 3, 'gig'], [1, 2, 'ruksie'], ['kia', 98, 56]]\n",
      "[[1, 2, 3, 'gig'], [1, 2, 'ruksie'], (3+4j), ['kia', 98, 56]]\n",
      "[[1, 2, 3, 'gig'], [65, 55, 48], [1, 2, 'ruksie'], (3+4j), ['kia', 98, 56]]\n",
      "This is the index of the string kia :  0\n",
      "This is removal of 2nd index values of nested lists: 3\n",
      "This is removal of 2nd index values of nested lists: 48\n",
      "This is removal of 2nd index values of nested lists: ruksie\n",
      "This is removal of 2nd index values of nested lists: 56\n"
     ]
    }
   ],
   "source": [
    "# Wrong\n",
    "\n",
    "#Part1\n",
    "l=[[1,2,3,\"gig\"],[1,2,\"ruksie\"],[\"kia\",98,56]]\n",
    "print(l)\n",
    "l.insert(2,3+4j)\n",
    "print(l)\n",
    "l.insert(1,[65,55,48])\n",
    "print(l)\n",
    "\n",
    "#Part 2\n",
    "for i in l:\n",
    "    if type(i)==list:\n",
    "        for j in i:\n",
    "            j=0\n",
    "            if type(i[j]) is str:\n",
    "                print(\"This is the index of the string {} : \".format(i[j]),j)\n",
    "                j=j+1\n",
    "                break\n",
    "                \n",
    "                \n",
    "#Part 3               \n",
    "for i in l:\n",
    "    if type(i)==list:\n",
    "        print(\"This is removal of 2nd index values of nested lists:\",i.pop(2))\n"
   ]
  },
  {
   "cell_type": "markdown",
   "id": "cd50ba08",
   "metadata": {},
   "source": [
    "l=[[1, 2, 3, 'gig'], [65, 55, 48], [1, 2, 'ruksie'], (3+4j), ['kia', 98, 56]]\n",
    "Part two:\n",
    "In the nested lists find string values and print their indexes and then remove the strings from that list respectively\n",
    "Part three:\n",
    "Remove every other element in the list at 2nd index"
   ]
  },
  {
   "cell_type": "code",
   "execution_count": 122,
   "id": "a01b0a83",
   "metadata": {},
   "outputs": [
    {
     "name": "stdout",
     "output_type": "stream",
     "text": [
      "gig\n",
      "plo\n",
      "ruksie\n",
      "kia\n"
     ]
    }
   ],
   "source": [
    "l=[[1, 2, 3, 'gig','ooo','plo','pop'], [65, 55, 48], [1, 2, 'ruksie',\"ooopppppoooo\"], (3+4j), ['kia', 98, 56]]\n",
    "for i in l:\n",
    "    if type(i)==list:\n",
    "        for j in i:\n",
    "            if type(j)==str:\n",
    "                print(j)\n",
    "                i.remove(j)\n",
    "            \n",
    "        \n",
    "                "
   ]
  },
  {
   "cell_type": "code",
   "execution_count": 117,
   "id": "98444d2d",
   "metadata": {},
   "outputs": [
    {
     "data": {
      "text/plain": [
       "[[1, 2, 3, 'ooo', 'pop'], [65, 55, 48], [1, 2], (3+4j), [98, 56]]"
      ]
     },
     "execution_count": 117,
     "metadata": {},
     "output_type": "execute_result"
    }
   ],
   "source": [
    "l"
   ]
  },
  {
   "cell_type": "code",
   "execution_count": null,
   "id": "b3f49f75",
   "metadata": {},
   "outputs": [],
   "source": []
  },
  {
   "cell_type": "code",
   "execution_count": 105,
   "id": "b4493336",
   "metadata": {},
   "outputs": [
    {
     "data": {
      "text/plain": [
       "[[1, 2, 3], [11, 12, 'b', 'b'], [21, 223], [4, 5, 6], [7, 8, 9], 'demo', 12.5]"
      ]
     },
     "execution_count": 105,
     "metadata": {},
     "output_type": "execute_result"
    }
   ],
   "source": [
    "l"
   ]
  },
  {
   "cell_type": "markdown",
   "id": "fe9209ce",
   "metadata": {},
   "source": [
    "# Question Sir has given data for the list"
   ]
  },
  {
   "cell_type": "code",
   "execution_count": 59,
   "id": "59ba2bad",
   "metadata": {},
   "outputs": [],
   "source": [
    "l1=[[1, 2, 3],[11, 12, 'b', 'b', 'b'],[21, 't', 223],[4, 5, 6],[7, 8, 9],'demo',12.5]"
   ]
  },
  {
   "cell_type": "markdown",
   "id": "33b0d431",
   "metadata": {},
   "source": [
    "## CARRIAGE RETURN \\r \n",
    "Here \\r is it bring the entire statement before it to the front cursor. And most importantly doesnot print the line before it.\n",
    "eg:print(\"List after removal of string from nested list is\\r\",l1,\"\\n\")\n",
    "output/ [[1, 2, 3], [11, 12], [21, 223], [4, 5, 6], [7, 8, 9], 'demo', 12.5] \n",
    "Since l1 is the output after it to be printed"
   ]
  },
  {
   "cell_type": "code",
   "execution_count": 67,
   "id": "d05ba9af",
   "metadata": {
    "scrolled": true
   },
   "outputs": [
    {
     "name": "stdout",
     "output_type": "stream",
     "text": [
      "The index of b in nested list is: 2\n",
      "The index of b in nested list is: 3\n",
      "The index of b in nested list is: 4\n",
      "The nested list string is b \n",
      "The nested list string is b \n",
      "The nested list string is b \n",
      "The index of t in nested list is: 1\n",
      "The nested list string is t \n",
      "List after removal of string from nested list is\r",
      " [[1, 2, 3], [11, 12], [21, 223], [4, 5, 6], [7, 8, 9], 'demo', 12.5] \n",
      "\n"
     ]
    }
   ],
   "source": [
    "l1=[[1, 2, 3],[11, 12, 'b', 'b', 'b'],[21, 't', 223],[4, 5, 6],[7, 8, 9],'demo',12.5]\n",
    "for i in l1:\n",
    "    if type(i)==list:\n",
    "        j=0\n",
    "        while j < len(i):\n",
    "            if type(i[j]) is str:\n",
    "                print(\"The index of {} in nested list is:\".format(i[j]),j)\n",
    "            j=j+1\n",
    "        j=0\n",
    "        while j < len(i):\n",
    "            if type(i[j]) is str:\n",
    "                print(\"The nested list string is {} \".format(i[j]))\n",
    "                i.remove(i[j])\n",
    "                continue\n",
    "            j=j+1\n",
    "print(\"List after removal of string from nested list is\\r\",l1,\"\\n\")\n",
    "\n",
    "#Here continue is used because [if there are three b's in the list and if we remove one b then the second b takes place\n",
    "#of the first b at index 2 so when j=j+1 without writing continue gets executed then we skip the second b at newly placed \n",
    "#index two and j=j+1 i.e new index value where j=3 will be removed so one b string that moved from index two to index \n",
    "#three got left out in the list]"
   ]
  },
  {
   "cell_type": "markdown",
   "id": "b9a10f66",
   "metadata": {},
   "source": [
    "l1=[[1, 2, 3],[11, 12, 'b', 'b', 'b'],[21, 't', 223],[4, 5, 6],[7, 8, 9],'demo',12.5]\n",
    "for i in l1:\n",
    "    if type(i)==list:\n",
    "        for j in i:\n",
    "            if type(j)==str:\n",
    "                j.count(str)\n",
    "                \n",
    "else:\n",
    "    for i in l1:\n",
    "        if type(i)==str:\n",
    "            print()"
   ]
  },
  {
   "cell_type": "markdown",
   "id": "21d6f1e5",
   "metadata": {},
   "source": [
    "## Question: how to take list as an input from the user"
   ]
  },
  {
   "cell_type": "code",
   "execution_count": 473,
   "id": "176e8217",
   "metadata": {},
   "outputs": [
    {
     "name": "stdout",
     "output_type": "stream",
     "text": [
      "[1,2,3,4]\n"
     ]
    },
    {
     "data": {
      "text/plain": [
       "'[1,2,3,4]'"
      ]
     },
     "execution_count": 473,
     "metadata": {},
     "output_type": "execute_result"
    }
   ],
   "source": [
    "input() #This input will take it as a string not list so this is not the write answer"
   ]
  },
  {
   "cell_type": "code",
   "execution_count": 474,
   "id": "d2955a61",
   "metadata": {},
   "outputs": [
    {
     "name": "stdout",
     "output_type": "stream",
     "text": [
      "[55,\"Ruksie\"]\n"
     ]
    },
    {
     "data": {
      "text/plain": [
       "['[', '5', '5', ',', '\"', 'R', 'u', 'k', 's', 'i', 'e', '\"', ']']"
      ]
     },
     "execution_count": 474,
     "metadata": {},
     "output_type": "execute_result"
    }
   ],
   "source": [
    "list(input()) #Again this is not what we want"
   ]
  },
  {
   "cell_type": "code",
   "execution_count": 477,
   "id": "fccd806b",
   "metadata": {},
   "outputs": [
    {
     "name": "stdout",
     "output_type": "stream",
     "text": [
      "[85,86,89,78]\n"
     ]
    },
    {
     "ename": "TypeError",
     "evalue": "'list' object is not callable",
     "output_type": "error",
     "traceback": [
      "\u001b[1;31m---------------------------------------------------------------------------\u001b[0m",
      "\u001b[1;31mTypeError\u001b[0m                                 Traceback (most recent call last)",
      "\u001b[1;32mC:\\Users\\RUKAIY~1\\AppData\\Local\\Temp/ipykernel_28980/1500138597.py\u001b[0m in \u001b[0;36m<module>\u001b[1;34m\u001b[0m\n\u001b[1;32m----> 1\u001b[1;33m \u001b[0ml1\u001b[0m\u001b[1;33m(\u001b[0m\u001b[0minput\u001b[0m\u001b[1;33m(\u001b[0m\u001b[1;33m)\u001b[0m\u001b[1;33m)\u001b[0m\u001b[1;33m\u001b[0m\u001b[1;33m\u001b[0m\u001b[0m\n\u001b[0m",
      "\u001b[1;31mTypeError\u001b[0m: 'list' object is not callable"
     ]
    }
   ],
   "source": [
    "l1(input())#This is not the right option"
   ]
  },
  {
   "cell_type": "code",
   "execution_count": 446,
   "id": "1342ff7f",
   "metadata": {},
   "outputs": [
    {
     "name": "stdout",
     "output_type": "stream",
     "text": [
      "8\n",
      "[8]\n",
      "5\n",
      "[8, 5]\n",
      "45\n",
      "[8, 5, 45]\n",
      "496\n",
      "[8, 5, 45, 496]\n",
      "457\n",
      "[8, 5, 45, 496, 457]\n"
     ]
    }
   ],
   "source": [
    "l=[]\n",
    "for i in range(5):\n",
    "    l.append(int(input()))\n",
    "    print(l)"
   ]
  },
  {
   "cell_type": "code",
   "execution_count": 447,
   "id": "3644efdc",
   "metadata": {},
   "outputs": [
    {
     "name": "stdout",
     "output_type": "stream",
     "text": [
      "5\n",
      "6\n",
      "5\n",
      "5\n",
      "5\n",
      "[5, 6, 5, 5, 5]\n"
     ]
    }
   ],
   "source": [
    "l=[]\n",
    "for i in range(5):\n",
    "    l.append(int(input()))\n",
    "print(l)"
   ]
  },
  {
   "cell_type": "markdown",
   "id": "fc29e2e2",
   "metadata": {},
   "source": [
    "## Question how will u take a nested list"
   ]
  },
  {
   "cell_type": "code",
   "execution_count": 470,
   "id": "79f3cfff",
   "metadata": {},
   "outputs": [
    {
     "name": "stdout",
     "output_type": "stream",
     "text": [
      "Enter value for index 0 of the main list = 51\n",
      "Enter value for index 1 of the main list = 52\n",
      "Enter value for index 2 of the main list = 53\n",
      "Enter value for index 0 of the second nested list = 61\n",
      "Enter value for index 1 of the second nested list = 62\n",
      "Enter value for index 2 of the second nested list = 63\n",
      "Enter value for index 3 of the second nested list = 64\n",
      "Enter value for index 4 of the second nested list = 65\n",
      "Enter value for index 0 of the third nested list = 71\n",
      "Enter value for index 1 of the third nested list = 72\n",
      "Enter value for index 2 of the third nested list = 73\n",
      "[51, 52, 53]\n",
      "[61, 62, 63, 64, 65]\n",
      "[71, 72, 73]\n"
     ]
    }
   ],
   "source": [
    "l=[]\n",
    "l2=[]\n",
    "l3=[]\n",
    "for i in range(3):\n",
    "    l.append(int(input(\"Enter value for index {} of the main list = \".format(i))))\n",
    "for j in range(5):\n",
    "    l2.append(int(input(\"Enter value for index {} of the second nested list = \".format(j))))\n",
    "for k in range(3):\n",
    "    l3.append(int(input(\"Enter value for index {} of the third nested list = \".format(k))))\n",
    "print(l)\n",
    "print(l2)\n",
    "print(l3)\n",
    "l.append(l2)\n",
    "l.extend(l3)"
   ]
  },
  {
   "cell_type": "code",
   "execution_count": 472,
   "id": "ceb4739f",
   "metadata": {
    "scrolled": true
   },
   "outputs": [
    {
     "name": "stdout",
     "output_type": "stream",
     "text": [
      "[51, 52, 53, [61, 62, 63, 64, 65], 71, 72, 73]\n"
     ]
    }
   ],
   "source": [
    "print(l)"
   ]
  },
  {
   "cell_type": "markdown",
   "id": "17964c18",
   "metadata": {},
   "source": [
    "Or the other way round is:"
   ]
  },
  {
   "cell_type": "code",
   "execution_count": 21,
   "id": "2dbf4338",
   "metadata": {},
   "outputs": [
    {
     "name": "stdout",
     "output_type": "stream",
     "text": [
      "Please enter 3 values for first list 3 values for second list 1\n",
      "Please enter 3 values for first list 3 values for second list 2\n",
      "Please enter 3 values for first list 3 values for second list 3\n",
      "Please enter 3 values for first list 3 values for second list 4\n",
      "Please enter 3 values for first list 3 values for second list 5\n",
      "Please enter 3 values for first list 3 values for second list 6\n"
     ]
    },
    {
     "data": {
      "text/plain": [
       "[[1, 2, 3], [4, 5, 6]]"
      ]
     },
     "execution_count": 21,
     "metadata": {},
     "output_type": "execute_result"
    }
   ],
   "source": [
    "we=[]\n",
    "for i in range(2):\n",
    "    we.append([])\n",
    "    for j in range(3):\n",
    "        we[i].append(int(input(\"Please enter 3 values for first list 3 values for second list \")))\n",
    "we"
   ]
  },
  {
   "cell_type": "code",
   "execution_count": 72,
   "id": "f8b86ee3",
   "metadata": {},
   "outputs": [
    {
     "name": "stdout",
     "output_type": "stream",
     "text": [
      "Enter values: 254\n",
      "Enter values: 245\n",
      "Enter values: 265\n",
      "Enter values: 247\n",
      "Enter values: 145\n",
      "Enter values: 254\n",
      "Enter values: 14\n",
      "Enter values: 25\n"
     ]
    },
    {
     "data": {
      "text/plain": [
       "[[[254], [245]], [[265], [247]], [[145], [254]], [[14], [25]]]"
      ]
     },
     "execution_count": 72,
     "metadata": {},
     "output_type": "execute_result"
    }
   ],
   "source": [
    "we=[]\n",
    "for i in range(4):\n",
    "    we.append([])\n",
    "    for j in range(2):\n",
    "        we[i].append([int(input(\"Enter values: \"))])\n",
    "we\n",
    "    "
   ]
  },
  {
   "cell_type": "code",
   "execution_count": 1,
   "id": "fac4935a",
   "metadata": {},
   "outputs": [],
   "source": [
    "l=[1,2,3,4]"
   ]
  },
  {
   "cell_type": "code",
   "execution_count": 2,
   "id": "8aa6f5c1",
   "metadata": {
    "scrolled": true
   },
   "outputs": [
    {
     "data": {
      "text/plain": [
       "[1, 2, 3, 4]"
      ]
     },
     "execution_count": 2,
     "metadata": {},
     "output_type": "execute_result"
    }
   ],
   "source": [
    "l"
   ]
  },
  {
   "cell_type": "code",
   "execution_count": 12,
   "id": "27120caf",
   "metadata": {},
   "outputs": [],
   "source": [
    "l2=[]"
   ]
  },
  {
   "cell_type": "code",
   "execution_count": null,
   "id": "28496db1",
   "metadata": {},
   "outputs": [],
   "source": []
  },
  {
   "cell_type": "code",
   "execution_count": 14,
   "id": "4b4d0a18",
   "metadata": {},
   "outputs": [
    {
     "data": {
      "text/plain": [
       "['l', 'o', 'l']"
      ]
     },
     "execution_count": 14,
     "metadata": {},
     "output_type": "execute_result"
    }
   ],
   "source": [
    "l2"
   ]
  },
  {
   "cell_type": "markdown",
   "id": "2af4f114",
   "metadata": {},
   "source": [
    "### So here list comphrehention works as follows:"
   ]
  },
  {
   "cell_type": "code",
   "execution_count": 16,
   "id": "4ddbf9de",
   "metadata": {},
   "outputs": [
    {
     "data": {
      "text/plain": [
       "['r', 'u', 'k', 's', 'i', 'e']"
      ]
     },
     "execution_count": 16,
     "metadata": {},
     "output_type": "execute_result"
    }
   ],
   "source": [
    " [i for i in \"ruksie\"] #Here the first i means the print statement in list comprehension"
   ]
  },
  {
   "cell_type": "code",
   "execution_count": null,
   "id": "ba4b1ee2",
   "metadata": {},
   "outputs": [],
   "source": [
    "If you want a list inside a list or rather nested list then:\n",
    "    "
   ]
  },
  {
   "cell_type": "code",
   "execution_count": 17,
   "id": "c084803b",
   "metadata": {},
   "outputs": [
    {
     "data": {
      "text/plain": [
       "[['r'], ['u'], ['k'], ['s'], ['i'], ['e']]"
      ]
     },
     "execution_count": 17,
     "metadata": {},
     "output_type": "execute_result"
    }
   ],
   "source": [
    "[[i] for i in \"ruksie\"]"
   ]
  },
  {
   "cell_type": "code",
   "execution_count": 24,
   "id": "36374320",
   "metadata": {},
   "outputs": [
    {
     "name": "stdout",
     "output_type": "stream",
     "text": [
      "[0, 2, 4, 6, 8]\n"
     ]
    }
   ],
   "source": [
    "o=[]\n",
    "for i in range(10):\n",
    "    if i%2==0:\n",
    "        o.append(i)\n",
    "print(o)"
   ]
  },
  {
   "cell_type": "code",
   "execution_count": 26,
   "id": "421cf99b",
   "metadata": {},
   "outputs": [
    {
     "data": {
      "text/plain": [
       "[0, 2, 4, 6, 8]"
      ]
     },
     "execution_count": 26,
     "metadata": {},
     "output_type": "execute_result"
    }
   ],
   "source": [
    "[i for i in range(10) if i%2==0]"
   ]
  },
  {
   "cell_type": "code",
   "execution_count": 72,
   "id": "e25ca1e1",
   "metadata": {},
   "outputs": [
    {
     "name": "stdout",
     "output_type": "stream",
     "text": [
      "[1, 3, 5, 7, 9]\n",
      "[0, 2, 4, 6, 8]\n",
      "[0, 2, 4, 6, 8, 1, 3, 5, 7, 9]\n"
     ]
    }
   ],
   "source": [
    "p=[]\n",
    "p1=[]\n",
    "for i in range(10):\n",
    "    \n",
    "    if i%2!=0:\n",
    "        #print(\"odd number\",i,end=\",\")\n",
    "        p.append(i)\n",
    "    else:\n",
    "        #print(\"even number\",i,end=\", \")\n",
    "        p1.append(i)\n",
    "print(p)       \n",
    "print(p1)       \n",
    "print(p1+p)       \n",
    "    "
   ]
  },
  {
   "cell_type": "code",
   "execution_count": 66,
   "id": "a6c111cd",
   "metadata": {},
   "outputs": [
    {
     "name": "stdout",
     "output_type": "stream",
     "text": [
      "[1, 3, 5, 7, 9]\n"
     ]
    },
    {
     "data": {
      "text/plain": [
       "[0, 2, 4, 6, 8]"
      ]
     },
     "execution_count": 66,
     "metadata": {},
     "output_type": "execute_result"
    }
   ],
   "source": [
    "print(p)\n",
    "p1"
   ]
  },
  {
   "cell_type": "code",
   "execution_count": 108,
   "id": "f7507104",
   "metadata": {},
   "outputs": [
    {
     "data": {
      "text/plain": [
       "['even', 'odd', 'even', 'odd', 'even', 'odd', 'even', 'odd', 'even', 'odd']"
      ]
     },
     "execution_count": 108,
     "metadata": {},
     "output_type": "execute_result"
    }
   ],
   "source": [
    "[\"odd\" if i%2!=0 else \"even\" for i in range(10)]"
   ]
  },
  {
   "cell_type": "code",
   "execution_count": 121,
   "id": "5423fc43",
   "metadata": {},
   "outputs": [
    {
     "data": {
      "text/plain": [
       "[[0, 1, 2], [0, 1, 2], [0, 1, 2]]"
      ]
     },
     "execution_count": 121,
     "metadata": {},
     "output_type": "execute_result"
    }
   ],
   "source": [
    "mat=[]\n",
    "for i in range(3):\n",
    "    mat.append([])\n",
    "    for j in range(3):\n",
    "        mat[i].append(j)\n",
    "mat"
   ]
  },
  {
   "cell_type": "code",
   "execution_count": 133,
   "id": "b37907fe",
   "metadata": {},
   "outputs": [
    {
     "data": {
      "text/plain": [
       "[[0, 1, 2], [0, 1, 2], [0, 1, 2]]"
      ]
     },
     "execution_count": 133,
     "metadata": {},
     "output_type": "execute_result"
    }
   ],
   "source": [
    "[[j for j  in range(3)]for i in range(3) ] \n"
   ]
  },
  {
   "cell_type": "code",
   "execution_count": 134,
   "id": "751ecd59",
   "metadata": {},
   "outputs": [
    {
     "data": {
      "text/plain": [
       "[0, 1, 2, 3, 4, 5, 6, 7, 8]"
      ]
     },
     "execution_count": 134,
     "metadata": {},
     "output_type": "execute_result"
    }
   ],
   "source": [
    "[i for i in range(9)]"
   ]
  },
  {
   "cell_type": "code",
   "execution_count": 3,
   "id": "f25e329b",
   "metadata": {},
   "outputs": [],
   "source": [
    "res=[]\n",
    "for i in range(3):\n",
    "    res.append([])\n",
    "    for j in range(2):\n",
    "        res[i].append(j)\n",
    "    \n",
    "   "
   ]
  },
  {
   "cell_type": "code",
   "execution_count": 74,
   "id": "de9af72a",
   "metadata": {},
   "outputs": [
    {
     "data": {
      "text/plain": [
       "[[0, 1], [0, 1], [0, 1]]"
      ]
     },
     "execution_count": 74,
     "metadata": {},
     "output_type": "execute_result"
    }
   ],
   "source": [
    "[[j for j in range(2)] for i in range(3)]"
   ]
  },
  {
   "cell_type": "code",
   "execution_count": 2,
   "id": "9c6845ea",
   "metadata": {},
   "outputs": [],
   "source": [
    "l=[0,1,2,3,4,5,6,7,8,9]"
   ]
  },
  {
   "cell_type": "code",
   "execution_count": 3,
   "id": "04bc4f2e",
   "metadata": {},
   "outputs": [
    {
     "data": {
      "text/plain": [
       "[0, 1, 2, 3, 4, 5, 6, 7, 8, 9]"
      ]
     },
     "execution_count": 3,
     "metadata": {},
     "output_type": "execute_result"
    }
   ],
   "source": [
    "l"
   ]
  },
  {
   "cell_type": "code",
   "execution_count": 4,
   "id": "674941e0",
   "metadata": {},
   "outputs": [],
   "source": [
    "asd=[]\n",
    "for i in l:\n",
    "    if i==1:\n",
    "        asd.append(\"yes\")\n",
    "    elif i ==2:\n",
    "        asd.append(\"no\")\n",
    "    else:\n",
    "        asd.append(\"test\")"
   ]
  },
  {
   "cell_type": "code",
   "execution_count": 5,
   "id": "97e98c6f",
   "metadata": {},
   "outputs": [
    {
     "data": {
      "text/plain": [
       "['test', 'yes', 'no', 'test', 'test', 'test', 'test', 'test', 'test', 'test']"
      ]
     },
     "execution_count": 5,
     "metadata": {},
     "output_type": "execute_result"
    }
   ],
   "source": [
    "asd"
   ]
  },
  {
   "cell_type": "code",
   "execution_count": 10,
   "id": "602b78f2",
   "metadata": {},
   "outputs": [
    {
     "data": {
      "text/plain": [
       "['test', 'yes', 'no', 'test', 'test', 'test', 'test', 'test', 'test', 'test']"
      ]
     },
     "execution_count": 10,
     "metadata": {},
     "output_type": "execute_result"
    }
   ],
   "source": [
    "[\"yes\" if i==1 else \"no\" if i==2 else \"test\" for i in l] "
   ]
  },
  {
   "cell_type": "code",
   "execution_count": 4,
   "id": "cf7b0975",
   "metadata": {},
   "outputs": [
    {
     "data": {
      "text/plain": [
       "[[0, 1], [0, 1], [0, 1]]"
      ]
     },
     "execution_count": 4,
     "metadata": {},
     "output_type": "execute_result"
    }
   ],
   "source": [
    "res"
   ]
  },
  {
   "cell_type": "markdown",
   "id": "ce5600b0",
   "metadata": {},
   "source": [
    "# Doubt Create a nested list\n",
    "[[1,2,3],[],[1,2,3]]"
   ]
  },
  {
   "cell_type": "code",
   "execution_count": 16,
   "id": "ea93f52d",
   "metadata": {},
   "outputs": [],
   "source": [
    "l=[]\n",
    "for i in range(3):\n",
    "    l.append([])\n",
    "    for j in range(1,4):\n",
    "        l[i].append(j)\n",
    "    "
   ]
  },
  {
   "cell_type": "code",
   "execution_count": 14,
   "id": "4d0817d2",
   "metadata": {},
   "outputs": [
    {
     "data": {
      "text/plain": [
       "[[1, 2, 3], [1, 2, 3], [1, 2, 3]]"
      ]
     },
     "execution_count": 14,
     "metadata": {},
     "output_type": "execute_result"
    }
   ],
   "source": [
    "l"
   ]
  },
  {
   "cell_type": "code",
   "execution_count": 75,
   "id": "0bc66f4e",
   "metadata": {},
   "outputs": [],
   "source": [
    "even_odd = [[],[]]\n",
    "even_odd = [even_odd[0].append(a) if a%2 == 0 else even_odd[1].append(a) for a in range(20)]"
   ]
  },
  {
   "cell_type": "code",
   "execution_count": 78,
   "id": "3f3f01ac",
   "metadata": {},
   "outputs": [
    {
     "name": "stdout",
     "output_type": "stream",
     "text": [
      "[0, 10, 20, 30, 40, 50, 60, 70, 80, 90]\n"
     ]
    }
   ],
   "source": [
    "lis = [num for num in range(100)\n",
    "       if num % 5 == 0 if num % 10 == 0]\n",
    "print(lis)"
   ]
  },
  {
   "cell_type": "code",
   "execution_count": 27,
   "id": "c2139295",
   "metadata": {},
   "outputs": [
    {
     "name": "stdout",
     "output_type": "stream",
     "text": [
      "0\n",
      "1\n",
      "2\n"
     ]
    }
   ],
   "source": [
    "r=[]\n",
    "for i in range(3):\n",
    "    print(i)\n",
    "    r.append(i)\n",
    "    \n",
    "    "
   ]
  },
  {
   "cell_type": "code",
   "execution_count": 29,
   "id": "73f6b4a4",
   "metadata": {},
   "outputs": [
    {
     "data": {
      "text/plain": [
       "[0, 1, 2]"
      ]
     },
     "execution_count": 29,
     "metadata": {},
     "output_type": "execute_result"
    }
   ],
   "source": [
    "r"
   ]
  },
  {
   "cell_type": "code",
   "execution_count": 32,
   "id": "587cc30f",
   "metadata": {},
   "outputs": [
    {
     "data": {
      "text/plain": [
       "3"
      ]
     },
     "execution_count": 32,
     "metadata": {},
     "output_type": "execute_result"
    }
   ],
   "source": [
    "len(r)"
   ]
  },
  {
   "cell_type": "code",
   "execution_count": 34,
   "id": "a756f4b0",
   "metadata": {
    "scrolled": true
   },
   "outputs": [
    {
     "name": "stdout",
     "output_type": "stream",
     "text": [
      "10\n",
      "13\n",
      "16\n",
      "19\n"
     ]
    }
   ],
   "source": [
    "for i in range(0,10,3):\n",
    "    i=i+10\n",
    "    print(i)"
   ]
  },
  {
   "cell_type": "code",
   "execution_count": null,
   "id": "9f703891",
   "metadata": {},
   "outputs": [],
   "source": [
    "IMPOR"
   ]
  },
  {
   "cell_type": "code",
   "execution_count": 36,
   "id": "c193a995",
   "metadata": {
    "scrolled": false
   },
   "outputs": [
    {
     "data": {
      "text/plain": [
       "2"
      ]
     },
     "execution_count": 36,
     "metadata": {},
     "output_type": "execute_result"
    }
   ],
   "source": [
    "len(range(0,10,5))"
   ]
  },
  {
   "cell_type": "markdown",
   "id": "55591acb",
   "metadata": {},
   "source": [
    "# IMPORTANT"
   ]
  },
  {
   "cell_type": "code",
   "execution_count": 127,
   "id": "9f7afa1f",
   "metadata": {},
   "outputs": [
    {
     "name": "stdout",
     "output_type": "stream",
     "text": [
      "['ruks', 'rukaiya', 'abc jkl', 'asjk', 'assss']\n"
     ]
    }
   ],
   "source": [
    "l=[\"ruks\", 8355,\"rukaiya\",\"abc jkl\",True,25+89j,[2,3,4,\"asjk\"],2.62,[2,3,4,\"assss\"]]\n",
    "c=[]\n",
    "for i in l:\n",
    "    if type(i)==str:\n",
    "        c.append(i)\n",
    "        \n",
    "    if type(i)==list:\n",
    "        \n",
    "        for j in i:\n",
    "            if type(j)==str:\n",
    "                c.append(j)\n",
    "print(c)"
   ]
  },
  {
   "cell_type": "code",
   "execution_count": 2,
   "id": "9cdbac12",
   "metadata": {},
   "outputs": [
    {
     "name": "stdout",
     "output_type": "stream",
     "text": [
      "['ruks', 'rukaiya', 'abc jkl', 'asjk']\n"
     ]
    }
   ],
   "source": [
    "n=[]\n",
    "v=[\"ruks\", 8355,\"rukaiya\",\"abc jkl\",True,25+89j,[2,3,4,\"asjk\"],2.62]\n",
    "for i in v:\n",
    "    if type(i)==str:\n",
    "        n.append(i)\n",
    "       \n",
    "    else:\n",
    "        if type(i)==list:\n",
    "            for j in i:\n",
    "                if type(j)==str:\n",
    "                    n.append(j)\n",
    "print(n)\n",
    "                "
   ]
  },
  {
   "cell_type": "markdown",
   "id": "efff9946",
   "metadata": {},
   "source": [
    "## PRACTICE"
   ]
  },
  {
   "cell_type": "code",
   "execution_count": null,
   "id": "6d65e728",
   "metadata": {},
   "outputs": [],
   "source": [
    "fruits = [\"apple\", \"banana\", \"cherry\", \"kiwi\", \"mango\"]\n",
    "newlist = []\n",
    "#They need to find a character in elements in the list if a is there then print that element"
   ]
  },
  {
   "cell_type": "code",
   "execution_count": 6,
   "id": "d1c5c00e",
   "metadata": {},
   "outputs": [
    {
     "name": "stdout",
     "output_type": "stream",
     "text": [
      "['apple', 'banana', 'mango']\n"
     ]
    }
   ],
   "source": [
    "fruits = [\"apple\", \"banana\", \"cherry\", \"kiwi\", \"mango\"]\n",
    "newlist=[]\n",
    "for i in fruits:\n",
    "    if \"a\" in i:\n",
    "        newlist.append(i)\n",
    "print(newlist)\n",
    "    "
   ]
  },
  {
   "cell_type": "code",
   "execution_count": 3,
   "id": "4d4c0303",
   "metadata": {},
   "outputs": [
    {
     "data": {
      "text/plain": [
       "['apple', 'banana', 'mango']"
      ]
     },
     "execution_count": 3,
     "metadata": {},
     "output_type": "execute_result"
    }
   ],
   "source": [
    "newlist"
   ]
  },
  {
   "cell_type": "code",
   "execution_count": 8,
   "id": "e405b544",
   "metadata": {},
   "outputs": [
    {
     "data": {
      "text/plain": [
       "['apple', 'banana', 'mango']"
      ]
     },
     "execution_count": 8,
     "metadata": {},
     "output_type": "execute_result"
    }
   ],
   "source": [
    "[i for i in fruits if \"a\" in i ]"
   ]
  },
  {
   "cell_type": "markdown",
   "id": "67607e07",
   "metadata": {},
   "source": [
    "ONLY Accept items without apple"
   ]
  },
  {
   "cell_type": "code",
   "execution_count": 11,
   "id": "3c7a850b",
   "metadata": {},
   "outputs": [
    {
     "name": "stdout",
     "output_type": "stream",
     "text": [
      "['banana', 'cherry', 'kiwi', 'mango']\n"
     ]
    }
   ],
   "source": [
    "fruits = [\"apple\", \"banana\", \"cherry\", \"kiwi\", \"mango\"]\n",
    "new=[]\n",
    "for i in fruits:\n",
    "    if i!=\"apple\":\n",
    "        new.append(i)\n",
    "print(new)\n",
    "        "
   ]
  },
  {
   "cell_type": "markdown",
   "id": "d5f73f9f",
   "metadata": {},
   "source": [
    "Accept only numbers lower than 5"
   ]
  },
  {
   "cell_type": "code",
   "execution_count": 13,
   "id": "ea5fca73",
   "metadata": {},
   "outputs": [
    {
     "name": "stdout",
     "output_type": "stream",
     "text": [
      "[0, 1, 2, 3, 4, 5]\n"
     ]
    }
   ],
   "source": [
    "l=[]\n",
    "for i in range(6):\n",
    "    l.append(i)\n",
    "print(l)"
   ]
  },
  {
   "cell_type": "markdown",
   "id": "010d7eb4",
   "metadata": {},
   "source": [
    "Set the values in the new list to upper case"
   ]
  },
  {
   "cell_type": "code",
   "execution_count": 1,
   "id": "117ba140",
   "metadata": {},
   "outputs": [
    {
     "name": "stdout",
     "output_type": "stream",
     "text": [
      "['apple', 'banana', 'mango']\n"
     ]
    }
   ],
   "source": [
    "fruits = [\"apple\", \"banana\", \"cherry\", \"kiwi\", \"mango\"]\n",
    "newlist=[]\n",
    "for i in fruits:\n",
    "    if \"a\" in i:\n",
    "        newlist.append(i)\n",
    "print(newlist)"
   ]
  },
  {
   "cell_type": "code",
   "execution_count": 8,
   "id": "436b780d",
   "metadata": {},
   "outputs": [],
   "source": [
    "newlist=['apple', 'banana', 'mango']\n",
    "new=[]\n",
    "for i in newlist:\n",
    "    \n",
    "    new.append(i.upper())\n"
   ]
  },
  {
   "cell_type": "code",
   "execution_count": 9,
   "id": "afce6699",
   "metadata": {},
   "outputs": [
    {
     "name": "stdout",
     "output_type": "stream",
     "text": [
      "['APPLE', 'BANANA', 'MANGO']\n"
     ]
    }
   ],
   "source": [
    "print(new)"
   ]
  },
  {
   "cell_type": "markdown",
   "id": "0fce08fe",
   "metadata": {},
   "source": [
    "Set all values in the new list to 'hello'"
   ]
  },
  {
   "cell_type": "code",
   "execution_count": 12,
   "id": "912b03da",
   "metadata": {},
   "outputs": [
    {
     "name": "stdout",
     "output_type": "stream",
     "text": [
      "['hello', 'hello', 'hello']\n"
     ]
    }
   ],
   "source": [
    "new=['APPLE', 'BANANA', 'MANGO']\n",
    "r=[]\n",
    "for i in new:\n",
    "    r.append(\"hello\")\n",
    "print(r)"
   ]
  },
  {
   "cell_type": "markdown",
   "id": "cd82f068",
   "metadata": {},
   "source": [
    "Return \"orange\" instead of \"banana\""
   ]
  },
  {
   "cell_type": "code",
   "execution_count": 13,
   "id": "2d33bd34",
   "metadata": {},
   "outputs": [
    {
     "name": "stdout",
     "output_type": "stream",
     "text": [
      "['apple', 'orange', 'cherry', 'kiwi', 'mango']\n"
     ]
    }
   ],
   "source": [
    "fruits = [\"apple\", \"banana\", \"cherry\", \"kiwi\", \"mango\"]\n",
    "y=[]\n",
    "for i in fruits:\n",
    "    if i!=\"banana\":\n",
    "        y.append(i)\n",
    "    else:\n",
    "        y.append(\"orange\")\n",
    "print(y)"
   ]
  },
  {
   "cell_type": "code",
   "execution_count": null,
   "id": "ed495b5c",
   "metadata": {},
   "outputs": [],
   "source": []
  },
  {
   "cell_type": "code",
   "execution_count": null,
   "id": "08cc80dc",
   "metadata": {},
   "outputs": [],
   "source": []
  },
  {
   "cell_type": "code",
   "execution_count": null,
   "id": "05dca3d7",
   "metadata": {},
   "outputs": [],
   "source": []
  },
  {
   "cell_type": "code",
   "execution_count": null,
   "id": "fdba6652",
   "metadata": {},
   "outputs": [],
   "source": []
  },
  {
   "cell_type": "code",
   "execution_count": null,
   "id": "d4443067",
   "metadata": {},
   "outputs": [],
   "source": []
  }
 ],
 "metadata": {
  "kernelspec": {
   "display_name": "Python 3 (ipykernel)",
   "language": "python",
   "name": "python3"
  },
  "language_info": {
   "codemirror_mode": {
    "name": "ipython",
    "version": 3
   },
   "file_extension": ".py",
   "mimetype": "text/x-python",
   "name": "python",
   "nbconvert_exporter": "python",
   "pygments_lexer": "ipython3",
   "version": "3.9.7"
  }
 },
 "nbformat": 4,
 "nbformat_minor": 5
}
