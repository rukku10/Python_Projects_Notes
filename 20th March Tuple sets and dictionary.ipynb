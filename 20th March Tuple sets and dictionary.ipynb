{
 "cells": [
  {
   "cell_type": "markdown",
   "id": "4fb0fdda",
   "metadata": {},
   "source": [
    "# TUPLE"
   ]
  },
  {
   "cell_type": "markdown",
   "id": "42b904ab",
   "metadata": {},
   "source": [
    "#### How to create a tuple?"
   ]
  },
  {
   "cell_type": "markdown",
   "id": "eb1495ca",
   "metadata": {},
   "source": [
    "When you try to hold the data in between the tuple you end up using () circular brackets "
   ]
  },
  {
   "cell_type": "code",
   "execution_count": 1,
   "id": "8e5fef8c",
   "metadata": {},
   "outputs": [],
   "source": [
    "t=()"
   ]
  },
  {
   "cell_type": "code",
   "execution_count": 34,
   "id": "842ca390",
   "metadata": {},
   "outputs": [
    {
     "data": {
      "text/plain": [
       "tuple"
      ]
     },
     "execution_count": 34,
     "metadata": {},
     "output_type": "execute_result"
    }
   ],
   "source": [
    "type(t)"
   ]
  },
  {
   "cell_type": "code",
   "execution_count": 35,
   "id": "4bee5fa3",
   "metadata": {},
   "outputs": [],
   "source": [
    "t=(\"abc\",0.89,True,254)"
   ]
  },
  {
   "cell_type": "code",
   "execution_count": 36,
   "id": "350e07e5",
   "metadata": {
    "scrolled": true
   },
   "outputs": [
    {
     "data": {
      "text/plain": [
       "('abc', 0.89, True, 254)"
      ]
     },
     "execution_count": 36,
     "metadata": {},
     "output_type": "execute_result"
    }
   ],
   "source": [
    "t"
   ]
  },
  {
   "cell_type": "markdown",
   "id": "635bc4e7",
   "metadata": {},
   "source": [
    "### When your trying to perform slicing or parcing  operations even for tuples will you use the same brackets i.e the square brackets"
   ]
  },
  {
   "cell_type": "code",
   "execution_count": 37,
   "id": "76e5abc0",
   "metadata": {},
   "outputs": [
    {
     "data": {
      "text/plain": [
       "0.89"
      ]
     },
     "execution_count": 37,
     "metadata": {},
     "output_type": "execute_result"
    }
   ],
   "source": [
    "t[1]"
   ]
  },
  {
   "cell_type": "code",
   "execution_count": 39,
   "id": "d77f20e7",
   "metadata": {},
   "outputs": [
    {
     "data": {
      "text/plain": [
       "'abc'"
      ]
     },
     "execution_count": 39,
     "metadata": {},
     "output_type": "execute_result"
    }
   ],
   "source": [
    "t[0]"
   ]
  },
  {
   "cell_type": "code",
   "execution_count": 42,
   "id": "b3d5fe8a",
   "metadata": {
    "scrolled": true
   },
   "outputs": [
    {
     "ename": "IndexError",
     "evalue": "tuple index out of range",
     "output_type": "error",
     "traceback": [
      "\u001b[1;31m---------------------------------------------------------------------------\u001b[0m",
      "\u001b[1;31mIndexError\u001b[0m                                Traceback (most recent call last)",
      "\u001b[1;32mC:\\Users\\RUKAIY~1\\AppData\\Local\\Temp/ipykernel_28140/2542739188.py\u001b[0m in \u001b[0;36m<module>\u001b[1;34m\u001b[0m\n\u001b[1;32m----> 1\u001b[1;33m \u001b[0mt\u001b[0m\u001b[1;33m[\u001b[0m\u001b[1;36m5\u001b[0m\u001b[1;33m]\u001b[0m \u001b[1;31m#When the index doesnot exists it gives this type of error\u001b[0m\u001b[1;33m\u001b[0m\u001b[1;33m\u001b[0m\u001b[0m\n\u001b[0m",
      "\u001b[1;31mIndexError\u001b[0m: tuple index out of range"
     ]
    }
   ],
   "source": [
    "t[5] #When the index doesnot exists it gives this type of error"
   ]
  },
  {
   "cell_type": "markdown",
   "id": "2f90434a",
   "metadata": {},
   "source": [
    "You can slice the tuple data as well"
   ]
  },
  {
   "cell_type": "code",
   "execution_count": 44,
   "id": "48eb6230",
   "metadata": {},
   "outputs": [
    {
     "data": {
      "text/plain": [
       "('abc', 0.89, True, 254)"
      ]
     },
     "execution_count": 44,
     "metadata": {},
     "output_type": "execute_result"
    }
   ],
   "source": [
    "t[::]"
   ]
  },
  {
   "cell_type": "code",
   "execution_count": 45,
   "id": "0457d2c4",
   "metadata": {},
   "outputs": [
    {
     "data": {
      "text/plain": [
       "('abc', 0.89, True, 254)"
      ]
     },
     "execution_count": 45,
     "metadata": {},
     "output_type": "execute_result"
    }
   ],
   "source": [
    "t[:9]"
   ]
  },
  {
   "cell_type": "code",
   "execution_count": 48,
   "id": "7a7fa56e",
   "metadata": {},
   "outputs": [
    {
     "data": {
      "text/plain": [
       "(True, 0.89, 'abc')"
      ]
     },
     "execution_count": 48,
     "metadata": {},
     "output_type": "execute_result"
    }
   ],
   "source": [
    "t[2::-1]"
   ]
  },
  {
   "cell_type": "markdown",
   "id": "6de1b480",
   "metadata": {},
   "source": [
    "In case of list() check"
   ]
  },
  {
   "cell_type": "code",
   "execution_count": 4,
   "id": "11056ab4",
   "metadata": {},
   "outputs": [],
   "source": [
    "l=[]"
   ]
  },
  {
   "cell_type": "code",
   "execution_count": 5,
   "id": "4cb348f5",
   "metadata": {
    "scrolled": true
   },
   "outputs": [
    {
     "data": {
      "text/plain": [
       "list"
      ]
     },
     "execution_count": 5,
     "metadata": {},
     "output_type": "execute_result"
    }
   ],
   "source": [
    "type(l)"
   ]
  },
  {
   "cell_type": "code",
   "execution_count": 49,
   "id": "411d96f0",
   "metadata": {},
   "outputs": [],
   "source": [
    "l=[\"plo\",125,0.56,\"t\"]"
   ]
  },
  {
   "cell_type": "code",
   "execution_count": 50,
   "id": "1bb07663",
   "metadata": {},
   "outputs": [
    {
     "data": {
      "text/plain": [
       "['plo', 125, 0.56, 't']"
      ]
     },
     "execution_count": 50,
     "metadata": {},
     "output_type": "execute_result"
    }
   ],
   "source": [
    "l"
   ]
  },
  {
   "cell_type": "code",
   "execution_count": 51,
   "id": "3fbfc375",
   "metadata": {},
   "outputs": [],
   "source": [
    "l[2]=\"pppp\""
   ]
  },
  {
   "cell_type": "code",
   "execution_count": 52,
   "id": "836afc8b",
   "metadata": {},
   "outputs": [
    {
     "data": {
      "text/plain": [
       "['plo', 125, 'pppp', 't']"
      ]
     },
     "execution_count": 52,
     "metadata": {},
     "output_type": "execute_result"
    }
   ],
   "source": [
    "l"
   ]
  },
  {
   "cell_type": "markdown",
   "id": "62009483",
   "metadata": {},
   "source": [
    "#### So in list data type we can re-assign values to the list "
   ]
  },
  {
   "cell_type": "code",
   "execution_count": 6,
   "id": "f2c8783e",
   "metadata": {},
   "outputs": [],
   "source": [
    "t=(\"abc\",123,\"pol\")"
   ]
  },
  {
   "cell_type": "code",
   "execution_count": 7,
   "id": "0c426882",
   "metadata": {},
   "outputs": [
    {
     "data": {
      "text/plain": [
       "('abc', 123, 'pol')"
      ]
     },
     "execution_count": 7,
     "metadata": {},
     "output_type": "execute_result"
    }
   ],
   "source": [
    "t"
   ]
  },
  {
   "cell_type": "markdown",
   "id": "c609913c",
   "metadata": {},
   "source": [
    "#### So note can we append a value to the tuple?\n",
    "No we cannot!! "
   ]
  },
  {
   "cell_type": "code",
   "execution_count": 53,
   "id": "b61d5849",
   "metadata": {},
   "outputs": [
    {
     "ename": "TypeError",
     "evalue": "'tuple' object does not support item assignment",
     "output_type": "error",
     "traceback": [
      "\u001b[1;31m---------------------------------------------------------------------------\u001b[0m",
      "\u001b[1;31mTypeError\u001b[0m                                 Traceback (most recent call last)",
      "\u001b[1;32mC:\\Users\\RUKAIY~1\\AppData\\Local\\Temp/ipykernel_28140/1627327055.py\u001b[0m in \u001b[0;36m<module>\u001b[1;34m\u001b[0m\n\u001b[1;32m----> 1\u001b[1;33m \u001b[0mt\u001b[0m\u001b[1;33m[\u001b[0m\u001b[1;36m0\u001b[0m\u001b[1;33m]\u001b[0m\u001b[1;33m=\u001b[0m\u001b[1;36m1\u001b[0m\u001b[1;33m\u001b[0m\u001b[1;33m\u001b[0m\u001b[0m\n\u001b[0m",
      "\u001b[1;31mTypeError\u001b[0m: 'tuple' object does not support item assignment"
     ]
    }
   ],
   "source": [
    "t[0]=1"
   ]
  },
  {
   "cell_type": "code",
   "execution_count": 9,
   "id": "15a37d02",
   "metadata": {
    "scrolled": true
   },
   "outputs": [
    {
     "ename": "AttributeError",
     "evalue": "'tuple' object has no attribute 'append'",
     "output_type": "error",
     "traceback": [
      "\u001b[1;31m---------------------------------------------------------------------------\u001b[0m",
      "\u001b[1;31mAttributeError\u001b[0m                            Traceback (most recent call last)",
      "\u001b[1;32mC:\\Users\\RUKAIY~1\\AppData\\Local\\Temp/ipykernel_28140/809883313.py\u001b[0m in \u001b[0;36m<module>\u001b[1;34m\u001b[0m\n\u001b[1;32m----> 1\u001b[1;33m \u001b[0mt\u001b[0m\u001b[1;33m.\u001b[0m\u001b[0mappend\u001b[0m\u001b[1;33m(\u001b[0m\u001b[1;34m\"abc\"\u001b[0m\u001b[1;33m)\u001b[0m\u001b[1;33m\u001b[0m\u001b[1;33m\u001b[0m\u001b[0m\n\u001b[0m",
      "\u001b[1;31mAttributeError\u001b[0m: 'tuple' object has no attribute 'append'"
     ]
    }
   ],
   "source": [
    "t.append(\"abc\")"
   ]
  },
  {
   "cell_type": "markdown",
   "id": "c37651e8",
   "metadata": {},
   "source": [
    "### Tuples are IMMUTABLE OBJECTS just as STRINGS are!!"
   ]
  },
  {
   "cell_type": "code",
   "execution_count": 10,
   "id": "3869ea9d",
   "metadata": {},
   "outputs": [
    {
     "data": {
      "text/plain": [
       "('abc', 123, 'pol')"
      ]
     },
     "execution_count": 10,
     "metadata": {},
     "output_type": "execute_result"
    }
   ],
   "source": [
    "t"
   ]
  },
  {
   "cell_type": "code",
   "execution_count": 14,
   "id": "97b6177f",
   "metadata": {},
   "outputs": [
    {
     "ename": "TypeError",
     "evalue": "can only concatenate tuple (not \"int\") to tuple",
     "output_type": "error",
     "traceback": [
      "\u001b[1;31m---------------------------------------------------------------------------\u001b[0m",
      "\u001b[1;31mTypeError\u001b[0m                                 Traceback (most recent call last)",
      "\u001b[1;32mC:\\Users\\RUKAIY~1\\AppData\\Local\\Temp/ipykernel_28140/1943023109.py\u001b[0m in \u001b[0;36m<module>\u001b[1;34m\u001b[0m\n\u001b[1;32m----> 1\u001b[1;33m \u001b[0mt\u001b[0m\u001b[1;33m+\u001b[0m\u001b[1;36m1\u001b[0m\u001b[1;33m\u001b[0m\u001b[1;33m\u001b[0m\u001b[0m\n\u001b[0m",
      "\u001b[1;31mTypeError\u001b[0m: can only concatenate tuple (not \"int\") to tuple"
     ]
    }
   ],
   "source": [
    "t+1"
   ]
  },
  {
   "cell_type": "markdown",
   "id": "3f62fff6",
   "metadata": {},
   "source": [
    "What are the operations we can perform on the tuples??\n"
   ]
  },
  {
   "cell_type": "markdown",
   "id": "0a2259bb",
   "metadata": {},
   "source": [
    "### So here we can add as well as multiply tuplessimilar to that of a string!\n",
    "\n",
    "\n",
    "\n"
   ]
  },
  {
   "cell_type": "code",
   "execution_count": 15,
   "id": "5a33681e",
   "metadata": {},
   "outputs": [
    {
     "data": {
      "text/plain": [
       "('abc', 123, 'pol', 'abc', 123, 'pol')"
      ]
     },
     "execution_count": 15,
     "metadata": {},
     "output_type": "execute_result"
    }
   ],
   "source": [
    "t+t"
   ]
  },
  {
   "cell_type": "code",
   "execution_count": null,
   "id": "19d83b7e",
   "metadata": {},
   "outputs": [],
   "source": [
    "So here since tuple is immutable t+t value is stored in another variable"
   ]
  },
  {
   "cell_type": "code",
   "execution_count": 54,
   "id": "700dc177",
   "metadata": {},
   "outputs": [
    {
     "data": {
      "text/plain": [
       "('abc', 0.89, True, 254, 'abc', 0.89, True, 254)"
      ]
     },
     "execution_count": 54,
     "metadata": {},
     "output_type": "execute_result"
    }
   ],
   "source": [
    "t*2"
   ]
  },
  {
   "cell_type": "code",
   "execution_count": 18,
   "id": "b7bd662d",
   "metadata": {},
   "outputs": [
    {
     "ename": "TypeError",
     "evalue": "can't multiply sequence by non-int of type 'tuple'",
     "output_type": "error",
     "traceback": [
      "\u001b[1;31m---------------------------------------------------------------------------\u001b[0m",
      "\u001b[1;31mTypeError\u001b[0m                                 Traceback (most recent call last)",
      "\u001b[1;32mC:\\Users\\RUKAIY~1\\AppData\\Local\\Temp/ipykernel_28140/1235571766.py\u001b[0m in \u001b[0;36m<module>\u001b[1;34m\u001b[0m\n\u001b[1;32m----> 1\u001b[1;33m \u001b[0mt\u001b[0m\u001b[1;33m*\u001b[0m\u001b[0mt\u001b[0m\u001b[1;33m\u001b[0m\u001b[1;33m\u001b[0m\u001b[0m\n\u001b[0m",
      "\u001b[1;31mTypeError\u001b[0m: can't multiply sequence by non-int of type 'tuple'"
     ]
    }
   ],
   "source": [
    "t*t"
   ]
  },
  {
   "cell_type": "code",
   "execution_count": 19,
   "id": "abc83a5e",
   "metadata": {},
   "outputs": [
    {
     "ename": "TypeError",
     "evalue": "unsupported operand type(s) for -: 'tuple' and 'int'",
     "output_type": "error",
     "traceback": [
      "\u001b[1;31m---------------------------------------------------------------------------\u001b[0m",
      "\u001b[1;31mTypeError\u001b[0m                                 Traceback (most recent call last)",
      "\u001b[1;32mC:\\Users\\RUKAIY~1\\AppData\\Local\\Temp/ipykernel_28140/1893378834.py\u001b[0m in \u001b[0;36m<module>\u001b[1;34m\u001b[0m\n\u001b[1;32m----> 1\u001b[1;33m \u001b[0mt\u001b[0m\u001b[1;33m-\u001b[0m\u001b[1;36m1\u001b[0m\u001b[1;33m\u001b[0m\u001b[1;33m\u001b[0m\u001b[0m\n\u001b[0m",
      "\u001b[1;31mTypeError\u001b[0m: unsupported operand type(s) for -: 'tuple' and 'int'"
     ]
    }
   ],
   "source": [
    "t-1"
   ]
  },
  {
   "cell_type": "code",
   "execution_count": 21,
   "id": "c8bac1c5",
   "metadata": {
    "scrolled": true
   },
   "outputs": [
    {
     "ename": "TypeError",
     "evalue": "unsupported operand type(s) for /: 'tuple' and 'int'",
     "output_type": "error",
     "traceback": [
      "\u001b[1;31m---------------------------------------------------------------------------\u001b[0m",
      "\u001b[1;31mTypeError\u001b[0m                                 Traceback (most recent call last)",
      "\u001b[1;32mC:\\Users\\RUKAIY~1\\AppData\\Local\\Temp/ipykernel_28140/3564943729.py\u001b[0m in \u001b[0;36m<module>\u001b[1;34m\u001b[0m\n\u001b[1;32m----> 1\u001b[1;33m \u001b[0mt\u001b[0m\u001b[1;33m/\u001b[0m\u001b[1;36m2\u001b[0m\u001b[1;33m\u001b[0m\u001b[1;33m\u001b[0m\u001b[0m\n\u001b[0m",
      "\u001b[1;31mTypeError\u001b[0m: unsupported operand type(s) for /: 'tuple' and 'int'"
     ]
    }
   ],
   "source": [
    "t/2"
   ]
  },
  {
   "cell_type": "code",
   "execution_count": 55,
   "id": "7c0d8d98",
   "metadata": {},
   "outputs": [
    {
     "data": {
      "text/plain": [
       "True"
      ]
     },
     "execution_count": 55,
     "metadata": {},
     "output_type": "execute_result"
    }
   ],
   "source": [
    "True in t"
   ]
  },
  {
   "cell_type": "markdown",
   "id": "3ef116fb",
   "metadata": {},
   "source": [
    "### Similar to the above operations we can perform add and multiply operations on the lists as well"
   ]
  },
  {
   "cell_type": "code",
   "execution_count": 27,
   "id": "53dc62d0",
   "metadata": {},
   "outputs": [],
   "source": [
    "l=[1,\"dfg\",98]"
   ]
  },
  {
   "cell_type": "code",
   "execution_count": 28,
   "id": "3735b1e9",
   "metadata": {},
   "outputs": [
    {
     "data": {
      "text/plain": [
       "[1, 'dfg', 98, 1, 'dfg', 98]"
      ]
     },
     "execution_count": 28,
     "metadata": {},
     "output_type": "execute_result"
    }
   ],
   "source": [
    "l+l"
   ]
  },
  {
   "cell_type": "code",
   "execution_count": 29,
   "id": "22c331c8",
   "metadata": {},
   "outputs": [
    {
     "data": {
      "text/plain": [
       "[1, 'dfg', 98, 1, 'dfg', 98]"
      ]
     },
     "execution_count": 29,
     "metadata": {},
     "output_type": "execute_result"
    }
   ],
   "source": [
    "l*2"
   ]
  },
  {
   "cell_type": "code",
   "execution_count": 30,
   "id": "d7570695",
   "metadata": {},
   "outputs": [
    {
     "ename": "TypeError",
     "evalue": "unsupported operand type(s) for -: 'list' and 'int'",
     "output_type": "error",
     "traceback": [
      "\u001b[1;31m---------------------------------------------------------------------------\u001b[0m",
      "\u001b[1;31mTypeError\u001b[0m                                 Traceback (most recent call last)",
      "\u001b[1;32mC:\\Users\\RUKAIY~1\\AppData\\Local\\Temp/ipykernel_28140/2274148156.py\u001b[0m in \u001b[0;36m<module>\u001b[1;34m\u001b[0m\n\u001b[1;32m----> 1\u001b[1;33m \u001b[0ml\u001b[0m\u001b[1;33m-\u001b[0m\u001b[1;36m1\u001b[0m\u001b[1;33m\u001b[0m\u001b[1;33m\u001b[0m\u001b[0m\n\u001b[0m",
      "\u001b[1;31mTypeError\u001b[0m: unsupported operand type(s) for -: 'list' and 'int'"
     ]
    }
   ],
   "source": [
    "l-1"
   ]
  },
  {
   "cell_type": "code",
   "execution_count": 31,
   "id": "62f533ce",
   "metadata": {},
   "outputs": [
    {
     "ename": "TypeError",
     "evalue": "unsupported operand type(s) for -: 'list' and 'list'",
     "output_type": "error",
     "traceback": [
      "\u001b[1;31m---------------------------------------------------------------------------\u001b[0m",
      "\u001b[1;31mTypeError\u001b[0m                                 Traceback (most recent call last)",
      "\u001b[1;32mC:\\Users\\RUKAIY~1\\AppData\\Local\\Temp/ipykernel_28140/956646837.py\u001b[0m in \u001b[0;36m<module>\u001b[1;34m\u001b[0m\n\u001b[1;32m----> 1\u001b[1;33m \u001b[0ml\u001b[0m\u001b[1;33m-\u001b[0m\u001b[0ml\u001b[0m\u001b[1;33m\u001b[0m\u001b[1;33m\u001b[0m\u001b[0m\n\u001b[0m",
      "\u001b[1;31mTypeError\u001b[0m: unsupported operand type(s) for -: 'list' and 'list'"
     ]
    }
   ],
   "source": [
    "l-l"
   ]
  },
  {
   "cell_type": "code",
   "execution_count": 32,
   "id": "c836b1b3",
   "metadata": {},
   "outputs": [
    {
     "ename": "TypeError",
     "evalue": "can't multiply sequence by non-int of type 'list'",
     "output_type": "error",
     "traceback": [
      "\u001b[1;31m---------------------------------------------------------------------------\u001b[0m",
      "\u001b[1;31mTypeError\u001b[0m                                 Traceback (most recent call last)",
      "\u001b[1;32mC:\\Users\\RUKAIY~1\\AppData\\Local\\Temp/ipykernel_28140/2258251189.py\u001b[0m in \u001b[0;36m<module>\u001b[1;34m\u001b[0m\n\u001b[1;32m----> 1\u001b[1;33m \u001b[0ml\u001b[0m\u001b[1;33m*\u001b[0m\u001b[0ml\u001b[0m\u001b[1;33m\u001b[0m\u001b[1;33m\u001b[0m\u001b[0m\n\u001b[0m",
      "\u001b[1;31mTypeError\u001b[0m: can't multiply sequence by non-int of type 'list'"
     ]
    }
   ],
   "source": [
    "l*l"
   ]
  },
  {
   "cell_type": "code",
   "execution_count": 33,
   "id": "477066f9",
   "metadata": {},
   "outputs": [
    {
     "ename": "TypeError",
     "evalue": "unsupported operand type(s) for /: 'list' and 'int'",
     "output_type": "error",
     "traceback": [
      "\u001b[1;31m---------------------------------------------------------------------------\u001b[0m",
      "\u001b[1;31mTypeError\u001b[0m                                 Traceback (most recent call last)",
      "\u001b[1;32mC:\\Users\\RUKAIY~1\\AppData\\Local\\Temp/ipykernel_28140/995680432.py\u001b[0m in \u001b[0;36m<module>\u001b[1;34m\u001b[0m\n\u001b[1;32m----> 1\u001b[1;33m \u001b[0ml\u001b[0m\u001b[1;33m/\u001b[0m\u001b[1;36m2\u001b[0m\u001b[1;33m\u001b[0m\u001b[1;33m\u001b[0m\u001b[0m\n\u001b[0m",
      "\u001b[1;31mTypeError\u001b[0m: unsupported operand type(s) for /: 'list' and 'int'"
     ]
    }
   ],
   "source": [
    "l/2"
   ]
  },
  {
   "cell_type": "markdown",
   "id": "41345b8d",
   "metadata": {},
   "source": [
    "### Tuple"
   ]
  },
  {
   "cell_type": "code",
   "execution_count": 141,
   "id": "37a93789",
   "metadata": {},
   "outputs": [],
   "source": [
    "t=('abc', 123, 'pol')"
   ]
  },
  {
   "cell_type": "code",
   "execution_count": 64,
   "id": "6df22a1f",
   "metadata": {},
   "outputs": [
    {
     "ename": "TypeError",
     "evalue": "'>' not supported between instances of 'int' and 'str'",
     "output_type": "error",
     "traceback": [
      "\u001b[1;31m---------------------------------------------------------------------------\u001b[0m",
      "\u001b[1;31mTypeError\u001b[0m                                 Traceback (most recent call last)",
      "\u001b[1;32mC:\\Users\\RUKAIY~1\\AppData\\Local\\Temp/ipykernel_28140/1079362002.py\u001b[0m in \u001b[0;36m<module>\u001b[1;34m\u001b[0m\n\u001b[1;32m----> 1\u001b[1;33m \u001b[0mmax\u001b[0m\u001b[1;33m(\u001b[0m\u001b[0mt\u001b[0m\u001b[1;33m)\u001b[0m\u001b[1;33m\u001b[0m\u001b[1;33m\u001b[0m\u001b[0m\n\u001b[0m",
      "\u001b[1;31mTypeError\u001b[0m: '>' not supported between instances of 'int' and 'str'"
     ]
    }
   ],
   "source": [
    "max(t)"
   ]
  },
  {
   "cell_type": "markdown",
   "id": "c7e4c5be",
   "metadata": {},
   "source": [
    "## So it doesnot work in heterogenous data type"
   ]
  },
  {
   "cell_type": "code",
   "execution_count": 5,
   "id": "3087c80a",
   "metadata": {},
   "outputs": [],
   "source": [
    "t4=(1,2,3)"
   ]
  },
  {
   "cell_type": "code",
   "execution_count": 6,
   "id": "6f83da80",
   "metadata": {},
   "outputs": [
    {
     "data": {
      "text/plain": [
       "3"
      ]
     },
     "execution_count": 6,
     "metadata": {},
     "output_type": "execute_result"
    }
   ],
   "source": [
    "max(t4)"
   ]
  },
  {
   "cell_type": "code",
   "execution_count": 65,
   "id": "986cfc37",
   "metadata": {},
   "outputs": [],
   "source": [
    "t1=[1,2,3]"
   ]
  },
  {
   "cell_type": "code",
   "execution_count": 66,
   "id": "4cff9573",
   "metadata": {},
   "outputs": [
    {
     "data": {
      "text/plain": [
       "3"
      ]
     },
     "execution_count": 66,
     "metadata": {},
     "output_type": "execute_result"
    }
   ],
   "source": [
    "max(t1)"
   ]
  },
  {
   "cell_type": "code",
   "execution_count": 79,
   "id": "b6a17677",
   "metadata": {},
   "outputs": [
    {
     "data": {
      "text/plain": [
       "1"
      ]
     },
     "execution_count": 79,
     "metadata": {},
     "output_type": "execute_result"
    }
   ],
   "source": [
    "min(t1)"
   ]
  },
  {
   "cell_type": "markdown",
   "id": "1c63a9e2",
   "metadata": {},
   "source": [
    "### SImilarly for strings based on ASCII values  "
   ]
  },
  {
   "cell_type": "code",
   "execution_count": 1,
   "id": "28f4e85b",
   "metadata": {},
   "outputs": [],
   "source": [
    "t2=[\"pop\",\"lol\"]"
   ]
  },
  {
   "cell_type": "code",
   "execution_count": 2,
   "id": "871db613",
   "metadata": {},
   "outputs": [
    {
     "data": {
      "text/plain": [
       "'pop'"
      ]
     },
     "execution_count": 2,
     "metadata": {},
     "output_type": "execute_result"
    }
   ],
   "source": [
    "max(t2)"
   ]
  },
  {
   "cell_type": "code",
   "execution_count": 3,
   "id": "bed692aa",
   "metadata": {},
   "outputs": [
    {
     "data": {
      "text/plain": [
       "'lol'"
      ]
     },
     "execution_count": 3,
     "metadata": {},
     "output_type": "execute_result"
    }
   ],
   "source": [
    "min(t2)"
   ]
  },
  {
   "cell_type": "code",
   "execution_count": 4,
   "id": "1b21bc0b",
   "metadata": {},
   "outputs": [
    {
     "data": {
      "text/plain": [
       "list"
      ]
     },
     "execution_count": 4,
     "metadata": {},
     "output_type": "execute_result"
    }
   ],
   "source": [
    "type(t2)"
   ]
  },
  {
   "cell_type": "code",
   "execution_count": null,
   "id": "bd7fc80a",
   "metadata": {},
   "outputs": [],
   "source": []
  },
  {
   "cell_type": "markdown",
   "id": "e427eee9",
   "metadata": {},
   "source": [
    "### INDEX()- Here Index tries to give the first occurence of the value placed at that index inspite of multiple values of the same data might be present in the list or tuple "
   ]
  },
  {
   "cell_type": "code",
   "execution_count": 142,
   "id": "cd68b360",
   "metadata": {},
   "outputs": [
    {
     "data": {
      "text/plain": [
       "0"
      ]
     },
     "execution_count": 142,
     "metadata": {},
     "output_type": "execute_result"
    }
   ],
   "source": [
    "t.index(\"abc\")"
   ]
  },
  {
   "cell_type": "code",
   "execution_count": 70,
   "id": "1ff44b93",
   "metadata": {},
   "outputs": [],
   "source": [
    "k=(\"abck\",\"polik\",\"abck\",1565)"
   ]
  },
  {
   "cell_type": "code",
   "execution_count": 71,
   "id": "0265e100",
   "metadata": {},
   "outputs": [
    {
     "data": {
      "text/plain": [
       "('abck', 'polik', 'abck', 1565)"
      ]
     },
     "execution_count": 71,
     "metadata": {},
     "output_type": "execute_result"
    }
   ],
   "source": [
    "k"
   ]
  },
  {
   "cell_type": "code",
   "execution_count": 74,
   "id": "fa1416af",
   "metadata": {},
   "outputs": [
    {
     "data": {
      "text/plain": [
       "0"
      ]
     },
     "execution_count": 74,
     "metadata": {},
     "output_type": "execute_result"
    }
   ],
   "source": [
    "k.index(\"abck\") \n",
    "#So here inspite of multiple abck values present in the tuple the index function gives the first occurence of the value\n",
    "#placed at that index"
   ]
  },
  {
   "cell_type": "code",
   "execution_count": 77,
   "id": "20e33ab1",
   "metadata": {},
   "outputs": [
    {
     "ename": "ValueError",
     "evalue": "tuple.index(x): x not in tuple",
     "output_type": "error",
     "traceback": [
      "\u001b[1;31m---------------------------------------------------------------------------\u001b[0m",
      "\u001b[1;31mValueError\u001b[0m                                Traceback (most recent call last)",
      "\u001b[1;32mC:\\Users\\RUKAIY~1\\AppData\\Local\\Temp/ipykernel_28140/3756545514.py\u001b[0m in \u001b[0;36m<module>\u001b[1;34m\u001b[0m\n\u001b[1;32m----> 1\u001b[1;33m \u001b[0mk\u001b[0m\u001b[1;33m.\u001b[0m\u001b[0mindex\u001b[0m\u001b[1;33m(\u001b[0m\u001b[1;36m656\u001b[0m\u001b[1;33m)\u001b[0m\u001b[1;31m# Since value or item not present in the tuple\u001b[0m\u001b[1;33m\u001b[0m\u001b[1;33m\u001b[0m\u001b[0m\n\u001b[0m",
      "\u001b[1;31mValueError\u001b[0m: tuple.index(x): x not in tuple"
     ]
    }
   ],
   "source": [
    "k.index(656)# Since value or item not present in the tuple"
   ]
  },
  {
   "cell_type": "code",
   "execution_count": 78,
   "id": "91900a9a",
   "metadata": {},
   "outputs": [
    {
     "data": {
      "text/plain": [
       "2"
      ]
     },
     "execution_count": 78,
     "metadata": {},
     "output_type": "execute_result"
    }
   ],
   "source": [
    "k.count(\"abck\")"
   ]
  },
  {
   "cell_type": "markdown",
   "id": "499c555b",
   "metadata": {},
   "source": [
    "## How to insert values in Tuples if needed whats the approach??"
   ]
  },
  {
   "cell_type": "code",
   "execution_count": 14,
   "id": "d55d32ba",
   "metadata": {},
   "outputs": [],
   "source": [
    "p=(1,2,\"jik\",\"kik\",\"ujki\")"
   ]
  },
  {
   "cell_type": "markdown",
   "id": "d32b83f3",
   "metadata": {},
   "source": [
    "### So to insert values in a tuple we need to convert a tuple in the very first place to a list data type and then add the values by using insert method and then again change the datatype to tuple from list"
   ]
  },
  {
   "cell_type": "code",
   "execution_count": 15,
   "id": "a25f3e7e",
   "metadata": {},
   "outputs": [],
   "source": [
    "l=[p]"
   ]
  },
  {
   "cell_type": "code",
   "execution_count": 16,
   "id": "29c89f1d",
   "metadata": {},
   "outputs": [
    {
     "data": {
      "text/plain": [
       "tuple"
      ]
     },
     "execution_count": 16,
     "metadata": {},
     "output_type": "execute_result"
    }
   ],
   "source": [
    "type(p)"
   ]
  },
  {
   "cell_type": "code",
   "execution_count": 19,
   "id": "fe7d25d6",
   "metadata": {},
   "outputs": [
    {
     "data": {
      "text/plain": [
       "[(1, 2, 'jik', 'kik', 'ujki')]"
      ]
     },
     "execution_count": 19,
     "metadata": {},
     "output_type": "execute_result"
    }
   ],
   "source": [
    "l"
   ]
  },
  {
   "cell_type": "markdown",
   "id": "8d8843a2",
   "metadata": {},
   "source": [
    "### So here we could not change the datatype of tuple \"p\" to list dat type we need a different approach to this scenario"
   ]
  },
  {
   "cell_type": "code",
   "execution_count": 20,
   "id": "618ca339",
   "metadata": {},
   "outputs": [],
   "source": [
    "p=(1,2,\"jik\",\"kik\",\"ujki\")"
   ]
  },
  {
   "cell_type": "code",
   "execution_count": 21,
   "id": "49bb8d5a",
   "metadata": {},
   "outputs": [],
   "source": [
    "l2=list(p)"
   ]
  },
  {
   "cell_type": "markdown",
   "id": "7dcc7d09",
   "metadata": {},
   "source": [
    "#### Here we changed the datatype of all the values of \"p\" to all the values placed in l2."
   ]
  },
  {
   "cell_type": "code",
   "execution_count": 109,
   "id": "229189f0",
   "metadata": {},
   "outputs": [
    {
     "data": {
      "text/plain": [
       "[1, 2, 'jik', 'kik', 'ujki']"
      ]
     },
     "execution_count": 109,
     "metadata": {},
     "output_type": "execute_result"
    }
   ],
   "source": [
    "l2"
   ]
  },
  {
   "cell_type": "code",
   "execution_count": 110,
   "id": "7b2c9895",
   "metadata": {},
   "outputs": [],
   "source": [
    "l2.insert(3,\"popopopop\")"
   ]
  },
  {
   "cell_type": "code",
   "execution_count": 111,
   "id": "b8ef5ea2",
   "metadata": {},
   "outputs": [
    {
     "data": {
      "text/plain": [
       "[1, 2, 'jik', 'popopopop', 'kik', 'ujki']"
      ]
     },
     "execution_count": 111,
     "metadata": {},
     "output_type": "execute_result"
    }
   ],
   "source": [
    "l2"
   ]
  },
  {
   "cell_type": "code",
   "execution_count": 112,
   "id": "faffebd4",
   "metadata": {},
   "outputs": [],
   "source": [
    "p=tuple(l2)"
   ]
  },
  {
   "cell_type": "markdown",
   "id": "252a41ab",
   "metadata": {},
   "source": [
    "### So here address is going to change the memory location at which p tuple() was holding the data is going to change!!"
   ]
  },
  {
   "cell_type": "code",
   "execution_count": 22,
   "id": "d031c9c4",
   "metadata": {},
   "outputs": [
    {
     "data": {
      "text/plain": [
       "(1, 2, 'jik', 'kik', 'ujki')"
      ]
     },
     "execution_count": 22,
     "metadata": {},
     "output_type": "execute_result"
    }
   ],
   "source": [
    "p "
   ]
  },
  {
   "cell_type": "markdown",
   "id": "56ef3916",
   "metadata": {},
   "source": [
    "## Note: Dont confuse by estimating that we have been mutating the tuple values NO No We already know that tuples are immutable() and we are creating new memory location everytime we change the values. it is not voilating the immutability concept"
   ]
  },
  {
   "cell_type": "markdown",
   "id": "538aae21",
   "metadata": {},
   "source": [
    "# Application of Tuples??"
   ]
  },
  {
   "cell_type": "markdown",
   "id": "3ed92ad0",
   "metadata": {},
   "source": [
    "So here whenever we try to save passwords for example gmail password So we donot want someone to change our passwords right?\n",
    "hence comes the immutablity concept "
   ]
  },
  {
   "cell_type": "markdown",
   "id": "9f1ddd3e",
   "metadata": {},
   "source": [
    "# Nested tuple"
   ]
  },
  {
   "cell_type": "code",
   "execution_count": 125,
   "id": "3d701302",
   "metadata": {},
   "outputs": [],
   "source": [
    "y=((\"piuy\",\"iu\",56),(\"er\",10,78,\"l\"),56,25,4,5,(\"lol\",\"po\"),[1,5,8,7,0])"
   ]
  },
  {
   "cell_type": "code",
   "execution_count": 126,
   "id": "b601ba0f",
   "metadata": {},
   "outputs": [
    {
     "data": {
      "text/plain": [
       "tuple"
      ]
     },
     "execution_count": 126,
     "metadata": {},
     "output_type": "execute_result"
    }
   ],
   "source": [
    "type(y)"
   ]
  },
  {
   "cell_type": "code",
   "execution_count": 132,
   "id": "049a7bcc",
   "metadata": {},
   "outputs": [
    {
     "name": "stdout",
     "output_type": "stream",
     "text": [
      "('piuy', 'iu', 56)\n",
      "('er', 10, 78, 'l')\n",
      "56\n",
      "25\n",
      "4\n",
      "5\n",
      "('lol', 'po')\n",
      "[1, 5, 8, 7, 0]\n"
     ]
    }
   ],
   "source": [
    "for i in y:\n",
    "    print(i)"
   ]
  },
  {
   "cell_type": "code",
   "execution_count": 128,
   "id": "9152bf24",
   "metadata": {},
   "outputs": [
    {
     "name": "stdout",
     "output_type": "stream",
     "text": [
      "<class 'tuple'>\n",
      "<class 'tuple'>\n",
      "<class 'int'>\n",
      "<class 'int'>\n",
      "<class 'int'>\n",
      "<class 'int'>\n",
      "<class 'tuple'>\n",
      "<class 'list'>\n"
     ]
    }
   ],
   "source": [
    "for i in y:\n",
    "    print(type(i))"
   ]
  },
  {
   "cell_type": "markdown",
   "id": "1caf691b",
   "metadata": {},
   "source": [
    "So now we need to fetch the value at index 7 in that list we need value 0"
   ]
  },
  {
   "cell_type": "code",
   "execution_count": 129,
   "id": "8af75df8",
   "metadata": {},
   "outputs": [
    {
     "data": {
      "text/plain": [
       "[1, 5, 8, 7, 0]"
      ]
     },
     "execution_count": 129,
     "metadata": {},
     "output_type": "execute_result"
    }
   ],
   "source": [
    "y[7]                                   "
   ]
  },
  {
   "cell_type": "code",
   "execution_count": 130,
   "id": "7a5cfbff",
   "metadata": {},
   "outputs": [
    {
     "data": {
      "text/plain": [
       "0"
      ]
     },
     "execution_count": 130,
     "metadata": {},
     "output_type": "execute_result"
    }
   ],
   "source": [
    "y[7][4]"
   ]
  },
  {
   "cell_type": "code",
   "execution_count": 131,
   "id": "b3e69163",
   "metadata": {},
   "outputs": [
    {
     "data": {
      "text/plain": [
       "[5, 8, 7]"
      ]
     },
     "execution_count": 131,
     "metadata": {},
     "output_type": "execute_result"
    }
   ],
   "source": [
    "y[7][1:4]"
   ]
  },
  {
   "cell_type": "markdown",
   "id": "da5f90bc",
   "metadata": {},
   "source": [
    "### Question So now if in the tuple y if any item is tuple give me the first index value of that tuple in the list.\n"
   ]
  },
  {
   "cell_type": "code",
   "execution_count": 2,
   "id": "af03210f",
   "metadata": {},
   "outputs": [],
   "source": [
    "y=((\"piuy\",\"iu\",56),(\"er\",10,78,\"l\"),56,25,4,5,(\"lol\",\"po\"),[1,5,8,7,0])"
   ]
  },
  {
   "cell_type": "code",
   "execution_count": 6,
   "id": "9a33ed28",
   "metadata": {},
   "outputs": [
    {
     "name": "stdout",
     "output_type": "stream",
     "text": [
      "piuy\n",
      "er\n",
      "lol\n"
     ]
    }
   ],
   "source": [
    "for i in y:\n",
    "    if type(i)==tuple:\n",
    "        print(i[0])\n",
    "        \n",
    "    "
   ]
  },
  {
   "cell_type": "code",
   "execution_count": 7,
   "id": "1a58a5dd",
   "metadata": {},
   "outputs": [],
   "source": [
    "l=[(\"piuy\",\"iu\",56),(\"er\",10,78,\"l\"),56,25,4,5,(\"lol\",\"po\"),[1,5,8,7,0]]"
   ]
  },
  {
   "cell_type": "code",
   "execution_count": 8,
   "id": "d32514ca",
   "metadata": {},
   "outputs": [
    {
     "data": {
      "text/plain": [
       "[('piuy', 'iu', 56),\n",
       " ('er', 10, 78, 'l'),\n",
       " 56,\n",
       " 25,\n",
       " 4,\n",
       " 5,\n",
       " ('lol', 'po'),\n",
       " [1, 5, 8, 7, 0]]"
      ]
     },
     "execution_count": 8,
     "metadata": {},
     "output_type": "execute_result"
    }
   ],
   "source": [
    "l"
   ]
  },
  {
   "cell_type": "code",
   "execution_count": 9,
   "id": "8662e9e0",
   "metadata": {},
   "outputs": [
    {
     "name": "stdout",
     "output_type": "stream",
     "text": [
      "1\n"
     ]
    }
   ],
   "source": [
    "if i in l:\n",
    "    if type(i)==list:\n",
    "        print(i[0])"
   ]
  },
  {
   "cell_type": "code",
   "execution_count": 47,
   "id": "0c77d14f",
   "metadata": {},
   "outputs": [],
   "source": [
    "t1=(\"abc\",1,2,5,8)\n",
    "t2=(\"pop\",\"abc\",1,2,3)"
   ]
  },
  {
   "cell_type": "code",
   "execution_count": 49,
   "id": "5c43da0f",
   "metadata": {},
   "outputs": [
    {
     "name": "stdout",
     "output_type": "stream",
     "text": [
      "the tuples have same length\n"
     ]
    }
   ],
   "source": [
    "if len(t1)==len(t2):\n",
    "    print(\"the tuples have same length\")\n",
    "else:\n",
    "    print(\"the tuples donot have similar length\")"
   ]
  },
  {
   "cell_type": "code",
   "execution_count": 10,
   "id": "033ff778",
   "metadata": {},
   "outputs": [],
   "source": [
    "r=(\"abbas\",123,\"plumber\",\"kia\",1234)"
   ]
  },
  {
   "cell_type": "code",
   "execution_count": 40,
   "id": "4f4774f1",
   "metadata": {},
   "outputs": [
    {
     "name": "stdout",
     "output_type": "stream",
     "text": [
      "Enter your name: abbas\n",
      "abbas is found \n"
     ]
    }
   ],
   "source": [
    "i=input(\"Enter your name: \")\n",
    "if i in r:\n",
    "    print(i,\"is found \")\n",
    "else:\n",
    "    print(i,\"is not found\")"
   ]
  },
  {
   "cell_type": "markdown",
   "id": "3ec926ad",
   "metadata": {},
   "source": [
    "### Delete "
   ]
  },
  {
   "cell_type": "markdown",
   "id": "e3e78d67",
   "metadata": {},
   "source": [
    "Let us see how to delete an entire tuple"
   ]
  },
  {
   "cell_type": "code",
   "execution_count": 50,
   "id": "51c7150a",
   "metadata": {},
   "outputs": [],
   "source": [
    "del(t1)"
   ]
  },
  {
   "cell_type": "code",
   "execution_count": 51,
   "id": "22d053c2",
   "metadata": {},
   "outputs": [
    {
     "ename": "NameError",
     "evalue": "name 't1' is not defined",
     "output_type": "error",
     "traceback": [
      "\u001b[1;31m---------------------------------------------------------------------------\u001b[0m",
      "\u001b[1;31mNameError\u001b[0m                                 Traceback (most recent call last)",
      "\u001b[1;32mC:\\Users\\RUKAIY~1\\AppData\\Local\\Temp/ipykernel_29556/2524635252.py\u001b[0m in \u001b[0;36m<module>\u001b[1;34m\u001b[0m\n\u001b[1;32m----> 1\u001b[1;33m \u001b[0mt1\u001b[0m\u001b[1;33m\u001b[0m\u001b[1;33m\u001b[0m\u001b[0m\n\u001b[0m",
      "\u001b[1;31mNameError\u001b[0m: name 't1' is not defined"
     ]
    }
   ],
   "source": [
    "t1"
   ]
  },
  {
   "cell_type": "markdown",
   "id": "95a1e00b",
   "metadata": {},
   "source": [
    "# SET"
   ]
  },
  {
   "cell_type": "markdown",
   "id": "01a08a00",
   "metadata": {},
   "source": [
    "### How to create a Set"
   ]
  },
  {
   "cell_type": "code",
   "execution_count": 53,
   "id": "643bdb7c",
   "metadata": {},
   "outputs": [],
   "source": [
    "x=set()"
   ]
  },
  {
   "cell_type": "code",
   "execution_count": 54,
   "id": "c5d229b4",
   "metadata": {},
   "outputs": [
    {
     "data": {
      "text/plain": [
       "set"
      ]
     },
     "execution_count": 54,
     "metadata": {},
     "output_type": "execute_result"
    }
   ],
   "source": [
    "type(x)"
   ]
  },
  {
   "cell_type": "markdown",
   "id": "1472cf67",
   "metadata": {},
   "source": [
    "### So now what is the work of set()? Builds an unordered collection of unique elements."
   ]
  },
  {
   "cell_type": "code",
   "execution_count": 45,
   "id": "32769679",
   "metadata": {},
   "outputs": [],
   "source": [
    "j={'p', 'p', 'p', 4, 4, 4, 5, 8, 2, 0, 'abc', 'XYZ'}"
   ]
  },
  {
   "cell_type": "code",
   "execution_count": 46,
   "id": "97c4c301",
   "metadata": {
    "scrolled": true
   },
   "outputs": [
    {
     "data": {
      "text/plain": [
       "{0, 2, 4, 5, 8, 'XYZ', 'abc', 'p'}"
      ]
     },
     "execution_count": 46,
     "metadata": {},
     "output_type": "execute_result"
    }
   ],
   "source": [
    "j"
   ]
  },
  {
   "cell_type": "code",
   "execution_count": 47,
   "id": "30bc012b",
   "metadata": {},
   "outputs": [
    {
     "data": {
      "text/plain": [
       "set"
      ]
     },
     "execution_count": 47,
     "metadata": {},
     "output_type": "execute_result"
    }
   ],
   "source": [
    "type(j)"
   ]
  },
  {
   "cell_type": "markdown",
   "id": "6a4d2693",
   "metadata": {},
   "source": [
    "### Here the work of set is to remove repeated values and gives us unique data which is NOT ORDERED"
   ]
  },
  {
   "cell_type": "code",
   "execution_count": 48,
   "id": "27af1045",
   "metadata": {
    "scrolled": true
   },
   "outputs": [
    {
     "data": {
      "text/plain": [
       "{0, 2, 4, 5, 8, 'XYZ', 'abc', 'p'}"
      ]
     },
     "execution_count": 48,
     "metadata": {},
     "output_type": "execute_result"
    }
   ],
   "source": [
    "set(j)#Here as well it is an unordered set as in it just shows randomly but looks in a proper order but the definition says \n",
    "#SET IS UNORDERED COLLECTION OF UNIQUE ELEMENTS"
   ]
  },
  {
   "cell_type": "code",
   "execution_count": 49,
   "id": "3ab1351f",
   "metadata": {},
   "outputs": [
    {
     "data": {
      "text/plain": [
       "set"
      ]
     },
     "execution_count": 49,
     "metadata": {},
     "output_type": "execute_result"
    }
   ],
   "source": [
    "type(j)"
   ]
  },
  {
   "cell_type": "code",
   "execution_count": 50,
   "id": "70125a99",
   "metadata": {},
   "outputs": [],
   "source": [
    "e={\"p\",\"p\",\"p\",4,45856,454,45,8,2,0,\"abc\",\"XYZ\"}"
   ]
  },
  {
   "cell_type": "code",
   "execution_count": 51,
   "id": "fcf91776",
   "metadata": {},
   "outputs": [
    {
     "data": {
      "text/plain": [
       "{0, 2, 4, 45, 454, 45856, 8, 'XYZ', 'abc', 'p'}"
      ]
     },
     "execution_count": 51,
     "metadata": {},
     "output_type": "execute_result"
    }
   ],
   "source": [
    "e"
   ]
  },
  {
   "cell_type": "code",
   "execution_count": 52,
   "id": "5ffeaaa5",
   "metadata": {},
   "outputs": [
    {
     "data": {
      "text/plain": [
       "set"
      ]
     },
     "execution_count": 52,
     "metadata": {},
     "output_type": "execute_result"
    }
   ],
   "source": [
    "type(e)"
   ]
  },
  {
   "cell_type": "code",
   "execution_count": 53,
   "id": "f666d63e",
   "metadata": {},
   "outputs": [
    {
     "data": {
      "text/plain": [
       "{0, 2, 4, 45, 454, 45856, 8, 'XYZ', 'abc', 'p'}"
      ]
     },
     "execution_count": 53,
     "metadata": {},
     "output_type": "execute_result"
    }
   ],
   "source": [
    "set(e)#Here it is giving unordered set"
   ]
  },
  {
   "cell_type": "code",
   "execution_count": 54,
   "id": "38c818a7",
   "metadata": {
    "scrolled": true
   },
   "outputs": [
    {
     "data": {
      "text/plain": [
       "set"
      ]
     },
     "execution_count": 54,
     "metadata": {},
     "output_type": "execute_result"
    }
   ],
   "source": [
    "type(e)"
   ]
  },
  {
   "cell_type": "markdown",
   "id": "88d26d5a",
   "metadata": {},
   "source": [
    "### Addition operation using add function"
   ]
  },
  {
   "cell_type": "code",
   "execution_count": 55,
   "id": "d87d610e",
   "metadata": {},
   "outputs": [],
   "source": [
    "e.add(8)"
   ]
  },
  {
   "cell_type": "code",
   "execution_count": 56,
   "id": "5e98f72f",
   "metadata": {},
   "outputs": [
    {
     "data": {
      "text/plain": [
       "{0, 2, 4, 45, 454, 45856, 8, 'XYZ', 'abc', 'p'}"
      ]
     },
     "execution_count": 56,
     "metadata": {},
     "output_type": "execute_result"
    }
   ],
   "source": [
    "e#So in this set the value of 8 did not get added because set stores ONLY UNIQUE values!"
   ]
  },
  {
   "cell_type": "code",
   "execution_count": 57,
   "id": "54f8359d",
   "metadata": {},
   "outputs": [],
   "source": [
    "e.add(2)"
   ]
  },
  {
   "cell_type": "code",
   "execution_count": 58,
   "id": "dd437e73",
   "metadata": {},
   "outputs": [
    {
     "data": {
      "text/plain": [
       "{0, 2, 4, 45, 454, 45856, 8, 'XYZ', 'abc', 'p'}"
      ]
     },
     "execution_count": 58,
     "metadata": {},
     "output_type": "execute_result"
    }
   ],
   "source": [
    "e#So here since 2 is already present it WONT add 2 to the set()"
   ]
  },
  {
   "cell_type": "code",
   "execution_count": 59,
   "id": "0cb9a385",
   "metadata": {},
   "outputs": [
    {
     "name": "stdout",
     "output_type": "stream",
     "text": [
      "45856\n",
      "0\n",
      "2\n",
      "4\n",
      "454\n",
      "8\n",
      "abc\n",
      "45\n",
      "p\n",
      "XYZ\n"
     ]
    }
   ],
   "source": [
    "for i in e:\n",
    "    print(i)"
   ]
  },
  {
   "cell_type": "code",
   "execution_count": 60,
   "id": "4c56db18",
   "metadata": {},
   "outputs": [
    {
     "data": {
      "text/plain": [
       "True"
      ]
     },
     "execution_count": 60,
     "metadata": {},
     "output_type": "execute_result"
    }
   ],
   "source": [
    "\"abc\" in e\n"
   ]
  },
  {
   "cell_type": "code",
   "execution_count": 61,
   "id": "3bdfa28e",
   "metadata": {
    "scrolled": true
   },
   "outputs": [
    {
     "ename": "TypeError",
     "evalue": "'set' object is not subscriptable",
     "output_type": "error",
     "traceback": [
      "\u001b[1;31m---------------------------------------------------------------------------\u001b[0m",
      "\u001b[1;31mTypeError\u001b[0m                                 Traceback (most recent call last)",
      "\u001b[1;32mC:\\Users\\RUKAIY~1\\AppData\\Local\\Temp/ipykernel_352/411779382.py\u001b[0m in \u001b[0;36m<module>\u001b[1;34m\u001b[0m\n\u001b[1;32m----> 1\u001b[1;33m \u001b[0me\u001b[0m\u001b[1;33m[\u001b[0m\u001b[1;36m0\u001b[0m\u001b[1;33m]\u001b[0m \u001b[1;31m#Here we cannot parse index values in set\u001b[0m\u001b[1;33m\u001b[0m\u001b[1;33m\u001b[0m\u001b[0m\n\u001b[0m",
      "\u001b[1;31mTypeError\u001b[0m: 'set' object is not subscriptable"
     ]
    }
   ],
   "source": [
    "e[0] #Here we cannot parse index values in set"
   ]
  },
  {
   "cell_type": "markdown",
   "id": "5d54779e",
   "metadata": {},
   "source": [
    "### So since we cannot parse through the sets we need to type cast the set into a list datatype first and then extract the given data and then convert it back to a string"
   ]
  },
  {
   "cell_type": "code",
   "execution_count": 62,
   "id": "f111b87a",
   "metadata": {},
   "outputs": [
    {
     "data": {
      "text/plain": [
       "{0, 2, 4, 5, 8, 'XYZ', 'abc', 'p'}"
      ]
     },
     "execution_count": 62,
     "metadata": {},
     "output_type": "execute_result"
    }
   ],
   "source": [
    "j"
   ]
  },
  {
   "cell_type": "code",
   "execution_count": 63,
   "id": "bc1f3f12",
   "metadata": {},
   "outputs": [
    {
     "data": {
      "text/plain": [
       "set"
      ]
     },
     "execution_count": 63,
     "metadata": {},
     "output_type": "execute_result"
    }
   ],
   "source": [
    "type(j)"
   ]
  },
  {
   "cell_type": "code",
   "execution_count": 64,
   "id": "d83dfce7",
   "metadata": {},
   "outputs": [],
   "source": [
    "k=list(j)"
   ]
  },
  {
   "cell_type": "code",
   "execution_count": 65,
   "id": "a4d428a1",
   "metadata": {},
   "outputs": [
    {
     "data": {
      "text/plain": [
       "[0, 2, 4, 5, 8, 'abc', 'p', 'XYZ']"
      ]
     },
     "execution_count": 65,
     "metadata": {},
     "output_type": "execute_result"
    }
   ],
   "source": [
    "k"
   ]
  },
  {
   "cell_type": "code",
   "execution_count": 66,
   "id": "c3b61ce0",
   "metadata": {},
   "outputs": [],
   "source": [
    "k.append(7)"
   ]
  },
  {
   "cell_type": "code",
   "execution_count": 69,
   "id": "048a83b5",
   "metadata": {},
   "outputs": [
    {
     "data": {
      "text/plain": [
       "[0, 2, 4, 5, 8, 'abc', 'p', 'XYZ', 7]"
      ]
     },
     "execution_count": 69,
     "metadata": {},
     "output_type": "execute_result"
    }
   ],
   "source": [
    "k"
   ]
  },
  {
   "cell_type": "code",
   "execution_count": 70,
   "id": "75d895b3",
   "metadata": {},
   "outputs": [],
   "source": [
    "j=set(k)"
   ]
  },
  {
   "cell_type": "code",
   "execution_count": 71,
   "id": "6fd082f0",
   "metadata": {},
   "outputs": [
    {
     "data": {
      "text/plain": [
       "{0, 2, 4, 5, 7, 8, 'XYZ', 'abc', 'p'}"
      ]
     },
     "execution_count": 71,
     "metadata": {},
     "output_type": "execute_result"
    }
   ],
   "source": [
    "j"
   ]
  },
  {
   "cell_type": "markdown",
   "id": "b1664820",
   "metadata": {},
   "source": [
    "#### Also note you cannot append a repetitive value since set can only hold unique datatype"
   ]
  },
  {
   "cell_type": "code",
   "execution_count": null,
   "id": "a02eb323",
   "metadata": {},
   "outputs": [],
   "source": []
  },
  {
   "cell_type": "code",
   "execution_count": null,
   "id": "da283235",
   "metadata": {},
   "outputs": [],
   "source": []
  },
  {
   "cell_type": "markdown",
   "id": "f8a2c978",
   "metadata": {},
   "source": [
    "### So, now look carefully "
   ]
  },
  {
   "cell_type": "code",
   "execution_count": 47,
   "id": "8e76de4f",
   "metadata": {},
   "outputs": [
    {
     "ename": "TypeError",
     "evalue": "unhashable type: 'list'",
     "output_type": "error",
     "traceback": [
      "\u001b[1;31m---------------------------------------------------------------------------\u001b[0m",
      "\u001b[1;31mTypeError\u001b[0m                                 Traceback (most recent call last)",
      "\u001b[1;32mC:\\Users\\RUKAIY~1\\AppData\\Local\\Temp/ipykernel_12884/3663304653.py\u001b[0m in \u001b[0;36m<module>\u001b[1;34m\u001b[0m\n\u001b[1;32m----> 1\u001b[1;33m \u001b[0me\u001b[0m\u001b[1;33m.\u001b[0m\u001b[0madd\u001b[0m\u001b[1;33m(\u001b[0m\u001b[1;33m[\u001b[0m\u001b[1;36m1\u001b[0m\u001b[1;33m,\u001b[0m\u001b[1;36m2\u001b[0m\u001b[1;33m]\u001b[0m\u001b[1;33m)\u001b[0m\u001b[1;33m\u001b[0m\u001b[1;33m\u001b[0m\u001b[0m\n\u001b[0m",
      "\u001b[1;31mTypeError\u001b[0m: unhashable type: 'list'"
     ]
    }
   ],
   "source": [
    "e.add([1,2])"
   ]
  },
  {
   "cell_type": "markdown",
   "id": "36af024f",
   "metadata": {},
   "source": [
    "### Note: ERROR unhashable type: 'list'"
   ]
  },
  {
   "cell_type": "markdown",
   "id": "6e32e0be",
   "metadata": {},
   "source": [
    "## So since there is a nested list i.e list inside a list we cannot convert its dattype to set()"
   ]
  },
  {
   "cell_type": "code",
   "execution_count": 48,
   "id": "078c4b93",
   "metadata": {},
   "outputs": [],
   "source": [
    "w=[\"pop\",1,4,56,[\"abc\",2,4,6]]"
   ]
  },
  {
   "cell_type": "code",
   "execution_count": 49,
   "id": "e50b8348",
   "metadata": {},
   "outputs": [
    {
     "ename": "TypeError",
     "evalue": "unhashable type: 'list'",
     "output_type": "error",
     "traceback": [
      "\u001b[1;31m---------------------------------------------------------------------------\u001b[0m",
      "\u001b[1;31mTypeError\u001b[0m                                 Traceback (most recent call last)",
      "\u001b[1;32mC:\\Users\\RUKAIY~1\\AppData\\Local\\Temp/ipykernel_12884/1088875560.py\u001b[0m in \u001b[0;36m<module>\u001b[1;34m\u001b[0m\n\u001b[1;32m----> 1\u001b[1;33m \u001b[0mset\u001b[0m\u001b[1;33m(\u001b[0m\u001b[0mw\u001b[0m\u001b[1;33m)\u001b[0m \u001b[1;31m#So since there is a nested list i.e list inside a list we cannot convert its dattype to set()\u001b[0m\u001b[1;33m\u001b[0m\u001b[1;33m\u001b[0m\u001b[0m\n\u001b[0m",
      "\u001b[1;31mTypeError\u001b[0m: unhashable type: 'list'"
     ]
    }
   ],
   "source": [
    "set(w) #So since there is a nested list i.e list inside a list we cannot convert its dattype to set()"
   ]
  },
  {
   "cell_type": "code",
   "execution_count": 50,
   "id": "0dc596e4",
   "metadata": {},
   "outputs": [],
   "source": [
    "e={\"p\",\"p\",\"p\",4,45856,454,45,8,2,0,\"abc\",\"XYZ\"}"
   ]
  },
  {
   "cell_type": "code",
   "execution_count": 51,
   "id": "213e6277",
   "metadata": {},
   "outputs": [
    {
     "data": {
      "text/plain": [
       "{0, 2, 4, 45, 454, 45856, 8, 'XYZ', 'abc', 'p'}"
      ]
     },
     "execution_count": 51,
     "metadata": {},
     "output_type": "execute_result"
    }
   ],
   "source": [
    "e"
   ]
  },
  {
   "cell_type": "code",
   "execution_count": 52,
   "id": "8f5c9d55",
   "metadata": {},
   "outputs": [
    {
     "ename": "TypeError",
     "evalue": "unhashable type: 'list'",
     "output_type": "error",
     "traceback": [
      "\u001b[1;31m---------------------------------------------------------------------------\u001b[0m",
      "\u001b[1;31mTypeError\u001b[0m                                 Traceback (most recent call last)",
      "\u001b[1;32mC:\\Users\\RUKAIY~1\\AppData\\Local\\Temp/ipykernel_12884/4182093779.py\u001b[0m in \u001b[0;36m<module>\u001b[1;34m\u001b[0m\n\u001b[1;32m----> 1\u001b[1;33m \u001b[0me\u001b[0m\u001b[1;33m.\u001b[0m\u001b[0madd\u001b[0m\u001b[1;33m(\u001b[0m\u001b[1;33m[\u001b[0m\u001b[1;36m1\u001b[0m\u001b[1;33m,\u001b[0m\u001b[1;36m2\u001b[0m\u001b[1;33m,\u001b[0m\u001b[1;36m3\u001b[0m\u001b[1;33m]\u001b[0m\u001b[1;33m)\u001b[0m\u001b[1;33m\u001b[0m\u001b[1;33m\u001b[0m\u001b[0m\n\u001b[0m",
      "\u001b[1;31mTypeError\u001b[0m: unhashable type: 'list'"
     ]
    }
   ],
   "source": [
    "e.add([1,2,3])"
   ]
  },
  {
   "cell_type": "code",
   "execution_count": 53,
   "id": "f8aa204a",
   "metadata": {},
   "outputs": [
    {
     "data": {
      "text/plain": [
       "{0, 2, 4, 45, 454, 45856, 8, 'XYZ', 'abc', 'p'}"
      ]
     },
     "execution_count": 53,
     "metadata": {},
     "output_type": "execute_result"
    }
   ],
   "source": [
    "e"
   ]
  },
  {
   "cell_type": "code",
   "execution_count": 54,
   "id": "041e6d7f",
   "metadata": {},
   "outputs": [],
   "source": [
    "f=set()"
   ]
  },
  {
   "cell_type": "code",
   "execution_count": 55,
   "id": "12072cef",
   "metadata": {},
   "outputs": [],
   "source": [
    "f.add(20)"
   ]
  },
  {
   "cell_type": "code",
   "execution_count": 56,
   "id": "c2036850",
   "metadata": {},
   "outputs": [
    {
     "data": {
      "text/plain": [
       "{20}"
      ]
     },
     "execution_count": 56,
     "metadata": {},
     "output_type": "execute_result"
    }
   ],
   "source": [
    "f"
   ]
  },
  {
   "cell_type": "code",
   "execution_count": 57,
   "id": "5a783bc1",
   "metadata": {},
   "outputs": [],
   "source": [
    "f.add(9)"
   ]
  },
  {
   "cell_type": "code",
   "execution_count": 58,
   "id": "c310a5dd",
   "metadata": {},
   "outputs": [
    {
     "data": {
      "text/plain": [
       "{9, 20}"
      ]
     },
     "execution_count": 58,
     "metadata": {},
     "output_type": "execute_result"
    }
   ],
   "source": [
    "f"
   ]
  },
  {
   "cell_type": "code",
   "execution_count": 59,
   "id": "86688977",
   "metadata": {},
   "outputs": [],
   "source": [
    "f.remove(9)"
   ]
  },
  {
   "cell_type": "code",
   "execution_count": 60,
   "id": "aa197cd6",
   "metadata": {},
   "outputs": [
    {
     "data": {
      "text/plain": [
       "{20}"
      ]
     },
     "execution_count": 60,
     "metadata": {},
     "output_type": "execute_result"
    }
   ],
   "source": [
    "f"
   ]
  },
  {
   "cell_type": "code",
   "execution_count": 61,
   "id": "798421cd",
   "metadata": {},
   "outputs": [],
   "source": [
    "f.clear()"
   ]
  },
  {
   "cell_type": "code",
   "execution_count": 62,
   "id": "6b4d2ea5",
   "metadata": {},
   "outputs": [
    {
     "data": {
      "text/plain": [
       "set()"
      ]
     },
     "execution_count": 62,
     "metadata": {},
     "output_type": "execute_result"
    }
   ],
   "source": [
    "f"
   ]
  },
  {
   "cell_type": "code",
   "execution_count": 18,
   "id": "23b0bea1",
   "metadata": {},
   "outputs": [],
   "source": [
    "x=set()"
   ]
  },
  {
   "cell_type": "code",
   "execution_count": 19,
   "id": "3e7ba982",
   "metadata": {},
   "outputs": [
    {
     "data": {
      "text/plain": [
       "set()"
      ]
     },
     "execution_count": 19,
     "metadata": {},
     "output_type": "execute_result"
    }
   ],
   "source": [
    "x"
   ]
  },
  {
   "cell_type": "code",
   "execution_count": 20,
   "id": "2b2b64a3",
   "metadata": {},
   "outputs": [],
   "source": [
    "x.add(5)"
   ]
  },
  {
   "cell_type": "code",
   "execution_count": 21,
   "id": "cb3db696",
   "metadata": {},
   "outputs": [],
   "source": [
    "x.add(9)"
   ]
  },
  {
   "cell_type": "code",
   "execution_count": 22,
   "id": "6a073685",
   "metadata": {},
   "outputs": [],
   "source": [
    "x.add(\"roar\")"
   ]
  },
  {
   "cell_type": "code",
   "execution_count": 23,
   "id": "2183c974",
   "metadata": {},
   "outputs": [
    {
     "data": {
      "text/plain": [
       "{5, 9, 'roar'}"
      ]
     },
     "execution_count": 23,
     "metadata": {},
     "output_type": "execute_result"
    }
   ],
   "source": [
    "x"
   ]
  },
  {
   "cell_type": "code",
   "execution_count": 24,
   "id": "73733a00",
   "metadata": {},
   "outputs": [],
   "source": [
    "x1=set(l)"
   ]
  },
  {
   "cell_type": "code",
   "execution_count": 25,
   "id": "fbdd349f",
   "metadata": {},
   "outputs": [],
   "source": [
    "l=[1,2,\"tight\"]"
   ]
  },
  {
   "cell_type": "code",
   "execution_count": 26,
   "id": "73acfc13",
   "metadata": {},
   "outputs": [
    {
     "data": {
      "text/plain": [
       "{1, 2, 'tight'}"
      ]
     },
     "execution_count": 26,
     "metadata": {},
     "output_type": "execute_result"
    }
   ],
   "source": [
    "x1"
   ]
  },
  {
   "cell_type": "markdown",
   "id": "df6e27b4",
   "metadata": {},
   "source": [
    "So now we have two sets x and x1"
   ]
  },
  {
   "cell_type": "code",
   "execution_count": 27,
   "id": "e829dd08",
   "metadata": {},
   "outputs": [
    {
     "ename": "TypeError",
     "evalue": "unsupported operand type(s) for +: 'set' and 'set'",
     "output_type": "error",
     "traceback": [
      "\u001b[1;31m---------------------------------------------------------------------------\u001b[0m",
      "\u001b[1;31mTypeError\u001b[0m                                 Traceback (most recent call last)",
      "\u001b[1;32mC:\\Users\\RUKAIY~1\\AppData\\Local\\Temp/ipykernel_352/3649863469.py\u001b[0m in \u001b[0;36m<module>\u001b[1;34m\u001b[0m\n\u001b[1;32m----> 1\u001b[1;33m \u001b[0mx\u001b[0m\u001b[1;33m+\u001b[0m\u001b[0mx1\u001b[0m\u001b[1;33m\u001b[0m\u001b[1;33m\u001b[0m\u001b[0m\n\u001b[0m",
      "\u001b[1;31mTypeError\u001b[0m: unsupported operand type(s) for +: 'set' and 'set'"
     ]
    }
   ],
   "source": [
    "x+x1"
   ]
  },
  {
   "cell_type": "code",
   "execution_count": 28,
   "id": "834b9dd3",
   "metadata": {},
   "outputs": [
    {
     "ename": "TypeError",
     "evalue": "unsupported operand type(s) for *: 'set' and 'int'",
     "output_type": "error",
     "traceback": [
      "\u001b[1;31m---------------------------------------------------------------------------\u001b[0m",
      "\u001b[1;31mTypeError\u001b[0m                                 Traceback (most recent call last)",
      "\u001b[1;32mC:\\Users\\RUKAIY~1\\AppData\\Local\\Temp/ipykernel_352/3323194813.py\u001b[0m in \u001b[0;36m<module>\u001b[1;34m\u001b[0m\n\u001b[1;32m----> 1\u001b[1;33m \u001b[0mx\u001b[0m\u001b[1;33m*\u001b[0m\u001b[1;36m3\u001b[0m\u001b[1;33m\u001b[0m\u001b[1;33m\u001b[0m\u001b[0m\n\u001b[0m",
      "\u001b[1;31mTypeError\u001b[0m: unsupported operand type(s) for *: 'set' and 'int'"
     ]
    }
   ],
   "source": [
    "x*3"
   ]
  },
  {
   "cell_type": "code",
   "execution_count": 29,
   "id": "95681ccf",
   "metadata": {},
   "outputs": [],
   "source": [
    "u=list(x)"
   ]
  },
  {
   "cell_type": "code",
   "execution_count": 30,
   "id": "0e83256c",
   "metadata": {},
   "outputs": [
    {
     "data": {
      "text/plain": [
       "[9, 5, 'roar']"
      ]
     },
     "execution_count": 30,
     "metadata": {},
     "output_type": "execute_result"
    }
   ],
   "source": [
    "u"
   ]
  },
  {
   "cell_type": "code",
   "execution_count": 31,
   "id": "f5ff13ed",
   "metadata": {},
   "outputs": [],
   "source": [
    "u.append(\"ruks\")"
   ]
  },
  {
   "cell_type": "code",
   "execution_count": 32,
   "id": "8d24b54b",
   "metadata": {},
   "outputs": [
    {
     "data": {
      "text/plain": [
       "[9, 5, 'roar', 'ruks']"
      ]
     },
     "execution_count": 32,
     "metadata": {},
     "output_type": "execute_result"
    }
   ],
   "source": [
    "u"
   ]
  },
  {
   "cell_type": "code",
   "execution_count": 78,
   "id": "0b77e108",
   "metadata": {},
   "outputs": [],
   "source": [
    "x=set(u)"
   ]
  },
  {
   "cell_type": "code",
   "execution_count": 79,
   "id": "977338f2",
   "metadata": {},
   "outputs": [
    {
     "data": {
      "text/plain": [
       "{5, 9, 'roar', 'ruks'}"
      ]
     },
     "execution_count": 79,
     "metadata": {},
     "output_type": "execute_result"
    }
   ],
   "source": [
    "x"
   ]
  },
  {
   "cell_type": "code",
   "execution_count": 80,
   "id": "970fb8b4",
   "metadata": {},
   "outputs": [],
   "source": [
    "n=(\"lol\",\"pair\",1,2,3)"
   ]
  },
  {
   "cell_type": "code",
   "execution_count": 81,
   "id": "41ca05cf",
   "metadata": {},
   "outputs": [],
   "source": [
    "w=tuple(n)"
   ]
  },
  {
   "cell_type": "code",
   "execution_count": 82,
   "id": "6c1634fb",
   "metadata": {},
   "outputs": [
    {
     "data": {
      "text/plain": [
       "('lol', 'pair', 1, 2, 3)"
      ]
     },
     "execution_count": 82,
     "metadata": {},
     "output_type": "execute_result"
    }
   ],
   "source": [
    "w"
   ]
  },
  {
   "cell_type": "code",
   "execution_count": 83,
   "id": "f0ccee30",
   "metadata": {},
   "outputs": [
    {
     "data": {
      "text/plain": [
       "{1, 2, 3, 'lol', 'pair'}"
      ]
     },
     "execution_count": 83,
     "metadata": {},
     "output_type": "execute_result"
    }
   ],
   "source": [
    "set(w)"
   ]
  },
  {
   "cell_type": "code",
   "execution_count": 84,
   "id": "92a54aea",
   "metadata": {},
   "outputs": [
    {
     "data": {
      "text/plain": [
       "('lol', 'pair', 1, 2, 3)"
      ]
     },
     "execution_count": 84,
     "metadata": {},
     "output_type": "execute_result"
    }
   ],
   "source": [
    "w"
   ]
  },
  {
   "cell_type": "code",
   "execution_count": 85,
   "id": "3f893172",
   "metadata": {},
   "outputs": [],
   "source": [
    "r=tuple(w)"
   ]
  },
  {
   "cell_type": "code",
   "execution_count": 86,
   "id": "d3022ba2",
   "metadata": {},
   "outputs": [
    {
     "data": {
      "text/plain": [
       "{1, 2, 3, 'lol', 'pair'}"
      ]
     },
     "execution_count": 86,
     "metadata": {},
     "output_type": "execute_result"
    }
   ],
   "source": [
    "set(r)"
   ]
  },
  {
   "cell_type": "code",
   "execution_count": null,
   "id": "bb0ac90b",
   "metadata": {},
   "outputs": [],
   "source": []
  },
  {
   "cell_type": "markdown",
   "id": "bd0d201c",
   "metadata": {},
   "source": [
    "# DICTIONARY"
   ]
  },
  {
   "cell_type": "code",
   "execution_count": 87,
   "id": "d5237623",
   "metadata": {},
   "outputs": [],
   "source": [
    "x={}"
   ]
  },
  {
   "cell_type": "code",
   "execution_count": 89,
   "id": "f9f39aee",
   "metadata": {},
   "outputs": [
    {
     "data": {
      "text/plain": [
       "dict"
      ]
     },
     "execution_count": 89,
     "metadata": {},
     "output_type": "execute_result"
    }
   ],
   "source": [
    "type(x)"
   ]
  },
  {
   "cell_type": "code",
   "execution_count": null,
   "id": "ba2ec133",
   "metadata": {},
   "outputs": [],
   "source": [
    "In a dictionary we get key value pairs and we get unique words "
   ]
  },
  {
   "cell_type": "code",
   "execution_count": 1,
   "id": "d265030f",
   "metadata": {},
   "outputs": [],
   "source": [
    "x1={34,36}"
   ]
  },
  {
   "cell_type": "code",
   "execution_count": 2,
   "id": "f655f1b1",
   "metadata": {},
   "outputs": [
    {
     "data": {
      "text/plain": [
       "{34, 36}"
      ]
     },
     "execution_count": 2,
     "metadata": {},
     "output_type": "execute_result"
    }
   ],
   "source": [
    "x1"
   ]
  },
  {
   "cell_type": "code",
   "execution_count": 3,
   "id": "77433519",
   "metadata": {},
   "outputs": [
    {
     "data": {
      "text/plain": [
       "set"
      ]
     },
     "execution_count": 3,
     "metadata": {},
     "output_type": "execute_result"
    }
   ],
   "source": [
    "type(x1)"
   ]
  },
  {
   "cell_type": "code",
   "execution_count": null,
   "id": "a94e3861",
   "metadata": {},
   "outputs": [],
   "source": [
    "The above is Set datatype but look at their differences"
   ]
  },
  {
   "cell_type": "code",
   "execution_count": 7,
   "id": "bfcdbe53",
   "metadata": {},
   "outputs": [],
   "source": [
    "l={\"name\": \"Ruksie\" ,\"roll no\": 80}"
   ]
  },
  {
   "cell_type": "code",
   "execution_count": 8,
   "id": "56ede740",
   "metadata": {},
   "outputs": [
    {
     "data": {
      "text/plain": [
       "{'name': 'Ruksie', 'roll no': 80}"
      ]
     },
     "execution_count": 8,
     "metadata": {},
     "output_type": "execute_result"
    }
   ],
   "source": [
    "l"
   ]
  },
  {
   "cell_type": "code",
   "execution_count": 9,
   "id": "f7e4941b",
   "metadata": {},
   "outputs": [
    {
     "data": {
      "text/plain": [
       "dict"
      ]
     },
     "execution_count": 9,
     "metadata": {},
     "output_type": "execute_result"
    }
   ],
   "source": [
    "type(l) #Here the dictionary has key value pairs"
   ]
  },
  {
   "cell_type": "markdown",
   "id": "d4684cc1",
   "metadata": {},
   "source": [
    "These are the key value pairs and look closely it will update values to the latest one eg: name: \"ruksie\" & name:\"Ruksie\" it only took one Ruskie because unique data "
   ]
  },
  {
   "cell_type": "code",
   "execution_count": 1,
   "id": "a4d44268",
   "metadata": {},
   "outputs": [],
   "source": [
    "x1={\"name\" : \"ruksie\" , \"age\" : 25, \"name\" : \"Ruksie\", True: \"hi\" , \"key\": False, 786:\"jojo\"}"
   ]
  },
  {
   "cell_type": "code",
   "execution_count": 2,
   "id": "7533edeb",
   "metadata": {},
   "outputs": [
    {
     "data": {
      "text/plain": [
       "{'name': 'Ruksie', 'age': 25, True: 'hi', 'key': False, 786: 'jojo'}"
      ]
     },
     "execution_count": 2,
     "metadata": {},
     "output_type": "execute_result"
    }
   ],
   "source": [
    "x1"
   ]
  },
  {
   "cell_type": "code",
   "execution_count": null,
   "id": "06c46319",
   "metadata": {},
   "outputs": [],
   "source": []
  },
  {
   "cell_type": "markdown",
   "id": "0bdb6fc8",
   "metadata": {},
   "source": [
    "#### So, KEY value wise there is ONLY UNIQUE data 2 keys vannot be repeated but values can be repeated!\n",
    "now lets see key can hold what all values apart from the above example where we saw it can hold STRINGS BOOLEAN INTEGERs"
   ]
  },
  {
   "cell_type": "markdown",
   "id": "b7d5d78e",
   "metadata": {},
   "source": [
    "Lets check whether keys can hold the following or not!"
   ]
  },
  {
   "cell_type": "code",
   "execution_count": 12,
   "id": "d9ff8339",
   "metadata": {},
   "outputs": [
    {
     "ename": "TypeError",
     "evalue": "unhashable type: 'list'",
     "output_type": "error",
     "traceback": [
      "\u001b[1;31m---------------------------------------------------------------------------\u001b[0m",
      "\u001b[1;31mTypeError\u001b[0m                                 Traceback (most recent call last)",
      "\u001b[1;32mC:\\Users\\RUKAIY~1\\AppData\\Local\\Temp/ipykernel_21736/135905545.py\u001b[0m in \u001b[0;36m<module>\u001b[1;34m\u001b[0m\n\u001b[1;32m----> 1\u001b[1;33m \u001b[0mx2\u001b[0m\u001b[1;33m=\u001b[0m\u001b[1;33m{\u001b[0m\u001b[1;34m\"name\"\u001b[0m\u001b[1;33m:\u001b[0m\u001b[1;34m\"asther\"\u001b[0m\u001b[1;33m,\u001b[0m\u001b[1;33m[\u001b[0m\u001b[1;36m1\u001b[0m\u001b[1;33m,\u001b[0m\u001b[1;36m2\u001b[0m\u001b[1;33m,\u001b[0m\u001b[1;36m3\u001b[0m\u001b[1;33m]\u001b[0m\u001b[1;33m:\u001b[0m\u001b[1;34m\"did\"\u001b[0m\u001b[1;33m}\u001b[0m\u001b[1;33m\u001b[0m\u001b[1;33m\u001b[0m\u001b[0m\n\u001b[0m",
      "\u001b[1;31mTypeError\u001b[0m: unhashable type: 'list'"
     ]
    }
   ],
   "source": [
    "x2={\"name\":\"asther\",[1,2,3]:\"did\"}"
   ]
  },
  {
   "cell_type": "markdown",
   "id": "6da0cc91",
   "metadata": {},
   "source": [
    "#### So for the above example dictionary cannot hold list as a key data!"
   ]
  },
  {
   "cell_type": "code",
   "execution_count": 13,
   "id": "69e7cca3",
   "metadata": {
    "scrolled": true
   },
   "outputs": [
    {
     "ename": "TypeError",
     "evalue": "unhashable type: 'set'",
     "output_type": "error",
     "traceback": [
      "\u001b[1;31m---------------------------------------------------------------------------\u001b[0m",
      "\u001b[1;31mTypeError\u001b[0m                                 Traceback (most recent call last)",
      "\u001b[1;32mC:\\Users\\RUKAIY~1\\AppData\\Local\\Temp/ipykernel_21736/2973577704.py\u001b[0m in \u001b[0;36m<module>\u001b[1;34m\u001b[0m\n\u001b[1;32m----> 1\u001b[1;33m \u001b[0mx2\u001b[0m\u001b[1;33m=\u001b[0m\u001b[1;33m{\u001b[0m\u001b[1;34m\"name\"\u001b[0m\u001b[1;33m:\u001b[0m\u001b[1;34m\"asther\"\u001b[0m\u001b[1;33m,\u001b[0m\u001b[1;33m{\u001b[0m\u001b[1;36m1\u001b[0m\u001b[1;33m,\u001b[0m\u001b[1;36m2\u001b[0m\u001b[1;33m,\u001b[0m\u001b[1;36m3\u001b[0m\u001b[1;33m}\u001b[0m\u001b[1;33m:\u001b[0m\u001b[1;34m\"did\"\u001b[0m\u001b[1;33m}\u001b[0m\u001b[1;33m\u001b[0m\u001b[1;33m\u001b[0m\u001b[0m\n\u001b[0m",
      "\u001b[1;31mTypeError\u001b[0m: unhashable type: 'set'"
     ]
    }
   ],
   "source": [
    "x2={\"name\":\"asther\",{1,2,3}:\"did\"}"
   ]
  },
  {
   "cell_type": "markdown",
   "id": "160dc662",
   "metadata": {},
   "source": [
    "#### So for the above example dictionary cannot hold set as a key data!"
   ]
  },
  {
   "cell_type": "code",
   "execution_count": 15,
   "id": "f5bc5a12",
   "metadata": {},
   "outputs": [],
   "source": [
    "x2={\"name\":\"asther\",(1,2,3):\"did\"}"
   ]
  },
  {
   "cell_type": "code",
   "execution_count": 16,
   "id": "73db34c0",
   "metadata": {},
   "outputs": [
    {
     "data": {
      "text/plain": [
       "{'name': 'asther', (1, 2, 3): 'did'}"
      ]
     },
     "execution_count": 16,
     "metadata": {},
     "output_type": "execute_result"
    }
   ],
   "source": [
    "x2"
   ]
  },
  {
   "cell_type": "markdown",
   "id": "ba768c71",
   "metadata": {},
   "source": [
    "#### Can hold tuple as a key data"
   ]
  },
  {
   "cell_type": "code",
   "execution_count": 25,
   "id": "4a7b7623",
   "metadata": {},
   "outputs": [
    {
     "ename": "TypeError",
     "evalue": "unhashable type: 'dict'",
     "output_type": "error",
     "traceback": [
      "\u001b[1;31m---------------------------------------------------------------------------\u001b[0m",
      "\u001b[1;31mTypeError\u001b[0m                                 Traceback (most recent call last)",
      "\u001b[1;32mC:\\Users\\RUKAIY~1\\AppData\\Local\\Temp/ipykernel_21736/3832310753.py\u001b[0m in \u001b[0;36m<module>\u001b[1;34m\u001b[0m\n\u001b[1;32m----> 1\u001b[1;33m \u001b[0mx2\u001b[0m\u001b[1;33m=\u001b[0m\u001b[1;33m{\u001b[0m\u001b[1;33m{\u001b[0m\u001b[1;34m\"name\"\u001b[0m\u001b[1;33m:\u001b[0m\u001b[1;34m\"olo\"\u001b[0m\u001b[1;33m}\u001b[0m\u001b[1;33m:\u001b[0m\u001b[1;34m\"name\"\u001b[0m\u001b[1;33m}\u001b[0m\u001b[1;33m\u001b[0m\u001b[1;33m\u001b[0m\u001b[0m\n\u001b[0m",
      "\u001b[1;31mTypeError\u001b[0m: unhashable type: 'dict'"
     ]
    }
   ],
   "source": [
    "x2={{\"name\":\"olo\"}:\"name\"}"
   ]
  },
  {
   "cell_type": "markdown",
   "id": "5256b578",
   "metadata": {},
   "source": [
    "#### Cannot hold dictionary as a key data!"
   ]
  },
  {
   "cell_type": "code",
   "execution_count": null,
   "id": "d4778fd2",
   "metadata": {},
   "outputs": [],
   "source": [
    "In the below given examples we CANNOT use special characters as key data as well as values"
   ]
  },
  {
   "cell_type": "code",
   "execution_count": 28,
   "id": "8d4076f1",
   "metadata": {
    "scrolled": true
   },
   "outputs": [
    {
     "ename": "SyntaxError",
     "evalue": "invalid syntax (Temp/ipykernel_21736/4148248865.py, line 1)",
     "output_type": "error",
     "traceback": [
      "\u001b[1;36m  File \u001b[1;32m\"C:\\Users\\RUKAIY~1\\AppData\\Local\\Temp/ipykernel_21736/4148248865.py\"\u001b[1;36m, line \u001b[1;32m1\u001b[0m\n\u001b[1;33m    x2={% : \"ruksie\"}\u001b[0m\n\u001b[1;37m        ^\u001b[0m\n\u001b[1;31mSyntaxError\u001b[0m\u001b[1;31m:\u001b[0m invalid syntax\n"
     ]
    }
   ],
   "source": [
    "x2={% : \"ruksie\"}"
   ]
  },
  {
   "cell_type": "code",
   "execution_count": 32,
   "id": "062bcae1",
   "metadata": {},
   "outputs": [
    {
     "ename": "SyntaxError",
     "evalue": "invalid syntax (Temp/ipykernel_21736/3161253568.py, line 1)",
     "output_type": "error",
     "traceback": [
      "\u001b[1;36m  File \u001b[1;32m\"C:\\Users\\RUKAIY~1\\AppData\\Local\\Temp/ipykernel_21736/3161253568.py\"\u001b[1;36m, line \u001b[1;32m1\u001b[0m\n\u001b[1;33m    x2={\"ruksie\" : %}\u001b[0m\n\u001b[1;37m                   ^\u001b[0m\n\u001b[1;31mSyntaxError\u001b[0m\u001b[1;31m:\u001b[0m invalid syntax\n"
     ]
    }
   ],
   "source": [
    "x2={\"ruksie\" : %}"
   ]
  },
  {
   "cell_type": "code",
   "execution_count": 29,
   "id": "046f6876",
   "metadata": {},
   "outputs": [],
   "source": [
    "x2={\"&l\" : \"ruksie\"}"
   ]
  },
  {
   "cell_type": "code",
   "execution_count": 30,
   "id": "4307d7e1",
   "metadata": {},
   "outputs": [
    {
     "ename": "SyntaxError",
     "evalue": "invalid syntax (Temp/ipykernel_21736/3965929945.py, line 1)",
     "output_type": "error",
     "traceback": [
      "\u001b[1;36m  File \u001b[1;32m\"C:\\Users\\RUKAIY~1\\AppData\\Local\\Temp/ipykernel_21736/3965929945.py\"\u001b[1;36m, line \u001b[1;32m1\u001b[0m\n\u001b[1;33m    x2={& :\"ruksie\"}\u001b[0m\n\u001b[1;37m        ^\u001b[0m\n\u001b[1;31mSyntaxError\u001b[0m\u001b[1;31m:\u001b[0m invalid syntax\n"
     ]
    }
   ],
   "source": [
    "x2={& :\"ruksie\"}"
   ]
  },
  {
   "cell_type": "code",
   "execution_count": 31,
   "id": "31983f75",
   "metadata": {},
   "outputs": [
    {
     "ename": "SyntaxError",
     "evalue": "invalid syntax (Temp/ipykernel_21736/56018334.py, line 1)",
     "output_type": "error",
     "traceback": [
      "\u001b[1;36m  File \u001b[1;32m\"C:\\Users\\RUKAIY~1\\AppData\\Local\\Temp/ipykernel_21736/56018334.py\"\u001b[1;36m, line \u001b[1;32m1\u001b[0m\n\u001b[1;33m    x2={\"to\":$}\u001b[0m\n\u001b[1;37m             ^\u001b[0m\n\u001b[1;31mSyntaxError\u001b[0m\u001b[1;31m:\u001b[0m invalid syntax\n"
     ]
    }
   ],
   "source": [
    "x2={\"to\":$}"
   ]
  },
  {
   "cell_type": "code",
   "execution_count": 35,
   "id": "9d25cb73",
   "metadata": {},
   "outputs": [],
   "source": [
    "c1={\"_c\":9}#Takes underscore with a string value "
   ]
  },
  {
   "cell_type": "code",
   "execution_count": 36,
   "id": "615f2989",
   "metadata": {},
   "outputs": [
    {
     "data": {
      "text/plain": [
       "{'_c': 9}"
      ]
     },
     "execution_count": 36,
     "metadata": {},
     "output_type": "execute_result"
    }
   ],
   "source": [
    "c1"
   ]
  },
  {
   "cell_type": "code",
   "execution_count": 49,
   "id": "9604b4f5",
   "metadata": {},
   "outputs": [
    {
     "ename": "NameError",
     "evalue": "name '_876' is not defined",
     "output_type": "error",
     "traceback": [
      "\u001b[1;31m---------------------------------------------------------------------------\u001b[0m",
      "\u001b[1;31mNameError\u001b[0m                                 Traceback (most recent call last)",
      "\u001b[1;32mC:\\Users\\RUKAIY~1\\AppData\\Local\\Temp/ipykernel_21736/4247725191.py\u001b[0m in \u001b[0;36m<module>\u001b[1;34m\u001b[0m\n\u001b[1;32m----> 1\u001b[1;33m \u001b[0mc1\u001b[0m\u001b[1;33m=\u001b[0m\u001b[1;33m{\u001b[0m\u001b[0m_876\u001b[0m\u001b[1;33m:\u001b[0m\u001b[1;36m9\u001b[0m\u001b[1;33m}\u001b[0m\u001b[1;31m#Takes only underscore with a string value\u001b[0m\u001b[1;33m\u001b[0m\u001b[1;33m\u001b[0m\u001b[0m\n\u001b[0m",
      "\u001b[1;31mNameError\u001b[0m: name '_876' is not defined"
     ]
    }
   ],
   "source": [
    "c1={_876:9}#Takes only underscore with a string value "
   ]
  },
  {
   "cell_type": "markdown",
   "id": "e0a46909",
   "metadata": {},
   "source": [
    "Keep checking all the variations"
   ]
  },
  {
   "cell_type": "markdown",
   "id": "c7016037",
   "metadata": {},
   "source": [
    "## NOTE: KEY will always be unique but Value can be duplicate!!\n",
    "So when you have same keys it will update the values with the latest data and if two different keys have same values values can be duplicate."
   ]
  },
  {
   "cell_type": "code",
   "execution_count": 26,
   "id": "0615501e",
   "metadata": {},
   "outputs": [],
   "source": [
    "x1 = {\"name \" :\"sudh\"  , \"age\": 3455 ,True : \"kik\",\"key\" : False , 3455: 446 , \"_sfsdf\" : \"sudh\"}"
   ]
  },
  {
   "cell_type": "code",
   "execution_count": 27,
   "id": "4dc87e64",
   "metadata": {},
   "outputs": [
    {
     "data": {
      "text/plain": [
       "{'name ': 'sudh',\n",
       " 'age': 3455,\n",
       " True: 'kik',\n",
       " 'key': False,\n",
       " 3455: 446,\n",
       " '_sfsdf': 'sudh'}"
      ]
     },
     "execution_count": 27,
     "metadata": {},
     "output_type": "execute_result"
    }
   ],
   "source": [
    "x1"
   ]
  },
  {
   "cell_type": "code",
   "execution_count": 39,
   "id": "49e82b62",
   "metadata": {},
   "outputs": [],
   "source": [
    "x1 = {\"name \" :\"sudh\"  , \"age\": 3455 ,True : \"kik\",\"key\" : False , 3455: 446 , \"_sfsdf\" : \"sudh\", \"key\": \"value\"}"
   ]
  },
  {
   "cell_type": "markdown",
   "id": "2e72a169",
   "metadata": {},
   "source": [
    "Here in the above example we can use key string as a key data "
   ]
  },
  {
   "cell_type": "code",
   "execution_count": 50,
   "id": "14cb7c72",
   "metadata": {},
   "outputs": [],
   "source": [
    "c1={\"name\":\"Abbas\",\"surname\":\"Abbas\",589:401}"
   ]
  },
  {
   "cell_type": "code",
   "execution_count": 51,
   "id": "4d421696",
   "metadata": {},
   "outputs": [
    {
     "data": {
      "text/plain": [
       "{'name': 'Abbas', 'surname': 'Abbas', 589: 401}"
      ]
     },
     "execution_count": 51,
     "metadata": {},
     "output_type": "execute_result"
    }
   ],
   "source": [
    "c1#Takes duplicate values for unique keys"
   ]
  },
  {
   "cell_type": "code",
   "execution_count": null,
   "id": "0fa934e0",
   "metadata": {},
   "outputs": [],
   "source": [
    "CAN we add update or remove lements from a dictionary??"
   ]
  },
  {
   "cell_type": "code",
   "execution_count": 8,
   "id": "bb802683",
   "metadata": {},
   "outputs": [
    {
     "name": "stdout",
     "output_type": "stream",
     "text": [
      "{'India': 91, 'UK': 44, 'USA': 1, 'Spain': 34}\n",
      "{'India': 91, 'UK': 44, 'USA': 1, 'Spain': 34, 'Germany': 49}\n",
      "{'India': 91, 'UK': 44, 'USA': 1, 'Spain': 34, 'Germany': 49, 'Austria': 43, 'Russia': 7}\n"
     ]
    }
   ],
   "source": [
    "CountryCodeDict = {\"India\": 91, \"UK\" : 44 , \"USA\" : 1, \"Spain\" : 34}\n",
    "print(CountryCodeDict)\n",
    "\n",
    "CountryCodeDict.update( {'Germany' : 49} )\n",
    "\n",
    "print(CountryCodeDict)\n",
    "\n",
    "# Adding multiple key value pairs\n",
    "CountryCodeDict.update( [('Austria', 43),('Russia',7)] )\n",
    "\n",
    "print(CountryCodeDict)"
   ]
  },
  {
   "cell_type": "code",
   "execution_count": 9,
   "id": "452dd30d",
   "metadata": {},
   "outputs": [],
   "source": [
    "d={'India':1,'Pakistan':2,'kazakistan':3}"
   ]
  },
  {
   "cell_type": "code",
   "execution_count": 10,
   "id": "1f9d9fd7",
   "metadata": {},
   "outputs": [],
   "source": [
    "d.update(  {'austria':80}    )"
   ]
  },
  {
   "cell_type": "code",
   "execution_count": 11,
   "id": "b770c98a",
   "metadata": {},
   "outputs": [
    {
     "data": {
      "text/plain": [
       "{'India': 1, 'Pakistan': 2, 'kazakistan': 3, 'austria': 80}"
      ]
     },
     "execution_count": 11,
     "metadata": {},
     "output_type": "execute_result"
    }
   ],
   "source": [
    "d"
   ]
  },
  {
   "cell_type": "markdown",
   "id": "ca6a41ab",
   "metadata": {},
   "source": [
    "## Adding multiple key value pair"
   ]
  },
  {
   "cell_type": "code",
   "execution_count": 12,
   "id": "3b0b9acf",
   "metadata": {},
   "outputs": [],
   "source": [
    "d.update( [ ('london',2),('Burhimgham',3) ] )"
   ]
  },
  {
   "cell_type": "code",
   "execution_count": 15,
   "id": "f0454f34",
   "metadata": {},
   "outputs": [
    {
     "name": "stdout",
     "output_type": "stream",
     "text": [
      "{'India': 1, 'Pakistan': 2, 'kazakistan': 3, 'austria': 80, 'london': 2, 'Burhimgham': 3}"
     ]
    }
   ],
   "source": [
    "print(d,end=\"\")"
   ]
  },
  {
   "cell_type": "markdown",
   "id": "ab768cbf",
   "metadata": {},
   "source": [
    "## Merging two dics"
   ]
  },
  {
   "cell_type": "code",
   "execution_count": 16,
   "id": "b2651825",
   "metadata": {},
   "outputs": [
    {
     "name": "stdout",
     "output_type": "stream",
     "text": [
      "{'India': 91, 'UK': 44, 'USA': 1, 'Spain': 34, 'Germany': 49, 'Russia': 7, 'Austria': 43}\n"
     ]
    }
   ],
   "source": [
    "CountryCodeDict1 = {\"India\": 91, \"UK\" : 44 , \"USA\" : 1, \"Spain\" : 34}\n",
    "CountryCodeDict2 = {\"Germany\": 49, \"Russia\" : 7 , \"Austria\" : 43}\n",
    "CountryCodeDict1.update(CountryCodeDict2)\n",
    "print(CountryCodeDict1)"
   ]
  },
  {
   "cell_type": "code",
   "execution_count": null,
   "id": "7404fab6",
   "metadata": {},
   "outputs": [],
   "source": []
  },
  {
   "cell_type": "markdown",
   "id": "24963d74",
   "metadata": {},
   "source": [
    "### Now lets check whether we can store LIST BOOLEAN INTEGER STRINGS SET TUPLE DICTIONARY in values for unique keys"
   ]
  },
  {
   "cell_type": "code",
   "execution_count": 56,
   "id": "09c08d9a",
   "metadata": {},
   "outputs": [],
   "source": [
    "s={\"name\":[\"Ruksie\",1,\"Abbas\"],\"age\":{24,29},\"gender\":True,\"natinality\": (\"INDIAN\",\"CANADIAN\"),\"birth\":{\"abbas\":\"Bandra\",\"rukaiya\": \"Jamnagar\"}}"
   ]
  },
  {
   "cell_type": "code",
   "execution_count": 57,
   "id": "56e3f33d",
   "metadata": {},
   "outputs": [
    {
     "data": {
      "text/plain": [
       "{'name': ['Ruksie', 1, 'Abbas'],\n",
       " 'age': {24, 29},\n",
       " 'gender': True,\n",
       " 'natinality': ('INDIAN', 'CANADIAN'),\n",
       " 'birth': {'abbas': 'Bandra', 'rukaiya': 'Jamnagar'}}"
      ]
     },
     "execution_count": 57,
     "metadata": {},
     "output_type": "execute_result"
    }
   ],
   "source": [
    "s"
   ]
  },
  {
   "cell_type": "code",
   "execution_count": 62,
   "id": "a6416686",
   "metadata": {},
   "outputs": [],
   "source": [
    "x1 = {\"name \" :\"sudh\"  , \"age\": 3455 ,True : \"kik\",\"key\" : False , 3455: 446 , \"_sfsdf\" : \"sudh\"}"
   ]
  },
  {
   "cell_type": "code",
   "execution_count": 63,
   "id": "6679250c",
   "metadata": {},
   "outputs": [
    {
     "data": {
      "text/plain": [
       "False"
      ]
     },
     "execution_count": 63,
     "metadata": {},
     "output_type": "execute_result"
    }
   ],
   "source": [
    "x1[\"key\"]"
   ]
  },
  {
   "cell_type": "code",
   "execution_count": null,
   "id": "b9bb0edc",
   "metadata": {},
   "outputs": [],
   "source": [
    "s={\"name\":[\"Ruksie\",1,\"Abbas\"],\"age\":{24,29},\"gender\":True,\"natinality\": (\"INDIAN\",\"CANADIAN\"),\"birth\":{\"abbas\":\"Bandra\",\"rukaiya\": \"Jamnagar\"}}"
   ]
  },
  {
   "cell_type": "code",
   "execution_count": 68,
   "id": "13575878",
   "metadata": {},
   "outputs": [
    {
     "data": {
      "text/plain": [
       "'Abbas'"
      ]
     },
     "execution_count": 68,
     "metadata": {},
     "output_type": "execute_result"
    }
   ],
   "source": [
    "s[\"name\"][2]"
   ]
  },
  {
   "cell_type": "code",
   "execution_count": 70,
   "id": "cb190fb8",
   "metadata": {},
   "outputs": [
    {
     "ename": "TypeError",
     "evalue": "'set' object is not subscriptable",
     "output_type": "error",
     "traceback": [
      "\u001b[1;31m---------------------------------------------------------------------------\u001b[0m",
      "\u001b[1;31mTypeError\u001b[0m                                 Traceback (most recent call last)",
      "\u001b[1;32mC:\\Users\\RUKAIY~1\\AppData\\Local\\Temp/ipykernel_21736/2615585820.py\u001b[0m in \u001b[0;36m<module>\u001b[1;34m\u001b[0m\n\u001b[1;32m----> 1\u001b[1;33m \u001b[0ms\u001b[0m\u001b[1;33m[\u001b[0m\u001b[1;34m\"age\"\u001b[0m\u001b[1;33m]\u001b[0m\u001b[1;33m[\u001b[0m\u001b[1;36m1\u001b[0m\u001b[1;33m]\u001b[0m \u001b[1;31m#Cannot p[arse through a set]\u001b[0m\u001b[1;33m\u001b[0m\u001b[1;33m\u001b[0m\u001b[0m\n\u001b[0m",
      "\u001b[1;31mTypeError\u001b[0m: 'set' object is not subscriptable"
     ]
    }
   ],
   "source": [
    "s[\"age\"][1] #Cannot p[arse through a set]"
   ]
  },
  {
   "cell_type": "code",
   "execution_count": 72,
   "id": "47de7088",
   "metadata": {},
   "outputs": [
    {
     "data": {
      "text/plain": [
       "'Jamnagar'"
      ]
     },
     "execution_count": 72,
     "metadata": {},
     "output_type": "execute_result"
    }
   ],
   "source": [
    "s[\"birth\"][\"rukaiya\"]#Can parse through the list"
   ]
  },
  {
   "cell_type": "code",
   "execution_count": 77,
   "id": "e6587a14",
   "metadata": {},
   "outputs": [],
   "source": [
    "p={\"name\":{\"first\": \"R\",\"second\":[\"Ruksie\",1,\"Abbas\"]},\"age\":{24,29},\"natinality\": (\"INDIAN\",\"CANADIAN\"),\"birth\":{\"abbas\":\"Bandra\",\"rukaiya\": \"Jamnagar\"}}"
   ]
  },
  {
   "cell_type": "code",
   "execution_count": 82,
   "id": "34e926ba",
   "metadata": {},
   "outputs": [
    {
     "data": {
      "text/plain": [
       "'Ruksie'"
      ]
     },
     "execution_count": 82,
     "metadata": {},
     "output_type": "execute_result"
    }
   ],
   "source": [
    "p[\"name\"][\"second\"][0]"
   ]
  },
  {
   "cell_type": "code",
   "execution_count": 33,
   "id": "9f472093",
   "metadata": {},
   "outputs": [],
   "source": [
    "x3={2:\"ruksie\",\"lolo\":[78,94,56]}"
   ]
  },
  {
   "cell_type": "code",
   "execution_count": 34,
   "id": "5743ce50",
   "metadata": {},
   "outputs": [],
   "source": [
    "x4={\"k4\":\"klmp\"}"
   ]
  },
  {
   "cell_type": "markdown",
   "id": "d9a6ce36",
   "metadata": {},
   "source": [
    "### Addition of two dictionaries"
   ]
  },
  {
   "cell_type": "code",
   "execution_count": 35,
   "id": "57cb3d19",
   "metadata": {
    "scrolled": true
   },
   "outputs": [
    {
     "ename": "TypeError",
     "evalue": "unsupported operand type(s) for +: 'dict' and 'dict'",
     "output_type": "error",
     "traceback": [
      "\u001b[1;31m---------------------------------------------------------------------------\u001b[0m",
      "\u001b[1;31mTypeError\u001b[0m                                 Traceback (most recent call last)",
      "\u001b[1;32mC:\\Users\\RUKAIY~1\\AppData\\Local\\Temp/ipykernel_352/1011359099.py\u001b[0m in \u001b[0;36m<module>\u001b[1;34m\u001b[0m\n\u001b[1;32m----> 1\u001b[1;33m \u001b[0mx3\u001b[0m\u001b[1;33m+\u001b[0m\u001b[0mx4\u001b[0m\u001b[1;33m\u001b[0m\u001b[1;33m\u001b[0m\u001b[0m\n\u001b[0m",
      "\u001b[1;31mTypeError\u001b[0m: unsupported operand type(s) for +: 'dict' and 'dict'"
     ]
    }
   ],
   "source": [
    "x3+x4"
   ]
  },
  {
   "cell_type": "markdown",
   "id": "5da65ea0",
   "metadata": {},
   "source": [
    "### Multiplication of two dictionaries"
   ]
  },
  {
   "cell_type": "code",
   "execution_count": 36,
   "id": "b2cef68a",
   "metadata": {},
   "outputs": [
    {
     "ename": "TypeError",
     "evalue": "unsupported operand type(s) for *: 'dict' and 'int'",
     "output_type": "error",
     "traceback": [
      "\u001b[1;31m---------------------------------------------------------------------------\u001b[0m",
      "\u001b[1;31mTypeError\u001b[0m                                 Traceback (most recent call last)",
      "\u001b[1;32mC:\\Users\\RUKAIY~1\\AppData\\Local\\Temp/ipykernel_352/3031789806.py\u001b[0m in \u001b[0;36m<module>\u001b[1;34m\u001b[0m\n\u001b[1;32m----> 1\u001b[1;33m \u001b[0mx3\u001b[0m\u001b[1;33m*\u001b[0m\u001b[1;36m4\u001b[0m\u001b[1;33m\u001b[0m\u001b[1;33m\u001b[0m\u001b[0m\n\u001b[0m",
      "\u001b[1;31mTypeError\u001b[0m: unsupported operand type(s) for *: 'dict' and 'int'"
     ]
    }
   ],
   "source": [
    "x3*4"
   ]
  },
  {
   "cell_type": "markdown",
   "id": "22d73a5f",
   "metadata": {},
   "source": [
    "This is not possible because there has to be unique keys only no duplicacy is allowed"
   ]
  },
  {
   "cell_type": "markdown",
   "id": "a35174ff",
   "metadata": {},
   "source": [
    "Assignment operation "
   ]
  },
  {
   "cell_type": "code",
   "execution_count": 37,
   "id": "05c30164",
   "metadata": {},
   "outputs": [
    {
     "data": {
      "text/plain": [
       "{2: 'ruksie', 'lolo': [78, 94, 56]}"
      ]
     },
     "execution_count": 37,
     "metadata": {},
     "output_type": "execute_result"
    }
   ],
   "source": [
    "x3"
   ]
  },
  {
   "cell_type": "code",
   "execution_count": 38,
   "id": "cea56637",
   "metadata": {},
   "outputs": [],
   "source": [
    "x3[\"lolo\"]=56"
   ]
  },
  {
   "cell_type": "code",
   "execution_count": 39,
   "id": "f53de64f",
   "metadata": {},
   "outputs": [
    {
     "data": {
      "text/plain": [
       "{2: 'ruksie', 'lolo': 56}"
      ]
     },
     "execution_count": 39,
     "metadata": {},
     "output_type": "execute_result"
    }
   ],
   "source": [
    "x3"
   ]
  },
  {
   "cell_type": "code",
   "execution_count": 40,
   "id": "66e2f1e9",
   "metadata": {},
   "outputs": [],
   "source": [
    "x3[\"lolo\"]-=10  #Here see properly what happened"
   ]
  },
  {
   "cell_type": "code",
   "execution_count": 41,
   "id": "ed29b754",
   "metadata": {},
   "outputs": [
    {
     "data": {
      "text/plain": [
       "{2: 'ruksie', 'lolo': 46}"
      ]
     },
     "execution_count": 41,
     "metadata": {},
     "output_type": "execute_result"
    }
   ],
   "source": [
    "x3"
   ]
  },
  {
   "cell_type": "code",
   "execution_count": 113,
   "id": "78eca251",
   "metadata": {},
   "outputs": [
    {
     "data": {
      "text/plain": [
       "dict_keys([2, 'lolo'])"
      ]
     },
     "execution_count": 113,
     "metadata": {},
     "output_type": "execute_result"
    }
   ],
   "source": [
    "x3.keys()"
   ]
  },
  {
   "cell_type": "code",
   "execution_count": 115,
   "id": "cf0c4d80",
   "metadata": {},
   "outputs": [
    {
     "ename": "AttributeError",
     "evalue": "'dict' object has no attribute 'key'",
     "output_type": "error",
     "traceback": [
      "\u001b[1;31m---------------------------------------------------------------------------\u001b[0m",
      "\u001b[1;31mAttributeError\u001b[0m                            Traceback (most recent call last)",
      "\u001b[1;32mC:\\Users\\RUKAIY~1\\AppData\\Local\\Temp/ipykernel_21736/309079570.py\u001b[0m in \u001b[0;36m<module>\u001b[1;34m\u001b[0m\n\u001b[1;32m----> 1\u001b[1;33m \u001b[0mx3\u001b[0m\u001b[1;33m.\u001b[0m\u001b[0mkey\u001b[0m\u001b[1;33m(\u001b[0m\u001b[1;33m)\u001b[0m\u001b[1;31m#Check the spelling it is keys\u001b[0m\u001b[1;33m\u001b[0m\u001b[1;33m\u001b[0m\u001b[0m\n\u001b[0m",
      "\u001b[1;31mAttributeError\u001b[0m: 'dict' object has no attribute 'key'"
     ]
    }
   ],
   "source": [
    "x3.key()#Check the spelling it is keys"
   ]
  },
  {
   "cell_type": "code",
   "execution_count": 119,
   "id": "4ab2b52c",
   "metadata": {},
   "outputs": [
    {
     "data": {
      "text/plain": [
       "True"
      ]
     },
     "execution_count": 119,
     "metadata": {},
     "output_type": "execute_result"
    }
   ],
   "source": [
    "2 in x3.keys()"
   ]
  },
  {
   "cell_type": "code",
   "execution_count": 120,
   "id": "7a728ad1",
   "metadata": {},
   "outputs": [
    {
     "data": {
      "text/plain": [
       "{2: 'kiki', 'lolo': 36}"
      ]
     },
     "execution_count": 120,
     "metadata": {},
     "output_type": "execute_result"
    }
   ],
   "source": [
    "x3"
   ]
  },
  {
   "cell_type": "markdown",
   "id": "509b1b2f",
   "metadata": {},
   "source": [
    "#### Here we are printing only the keys"
   ]
  },
  {
   "cell_type": "code",
   "execution_count": 129,
   "id": "0a622ec2",
   "metadata": {},
   "outputs": [
    {
     "name": "stdout",
     "output_type": "stream",
     "text": [
      "2\n",
      "lolo\n"
     ]
    }
   ],
   "source": [
    "for i in x3:\n",
    "    print(i)"
   ]
  },
  {
   "cell_type": "code",
   "execution_count": 130,
   "id": "9b172866",
   "metadata": {},
   "outputs": [
    {
     "name": "stdout",
     "output_type": "stream",
     "text": [
      "2\n",
      "lolo\n"
     ]
    }
   ],
   "source": [
    "for i in x3.keys():\n",
    "    print(i)"
   ]
  },
  {
   "cell_type": "markdown",
   "id": "3f5fb428",
   "metadata": {},
   "source": [
    "#### Here we are printing only values"
   ]
  },
  {
   "cell_type": "code",
   "execution_count": 127,
   "id": "1d6b22ae",
   "metadata": {},
   "outputs": [
    {
     "name": "stdout",
     "output_type": "stream",
     "text": [
      "kiki\n",
      "36\n"
     ]
    }
   ],
   "source": [
    "for i in x3:\n",
    "    print(x3[i])"
   ]
  },
  {
   "cell_type": "code",
   "execution_count": 131,
   "id": "a8ba52d8",
   "metadata": {
    "scrolled": true
   },
   "outputs": [
    {
     "name": "stdout",
     "output_type": "stream",
     "text": [
      "kiki\n",
      "36\n"
     ]
    }
   ],
   "source": [
    "for i in x3.keys():\n",
    "    print(x3[i])"
   ]
  },
  {
   "cell_type": "code",
   "execution_count": 132,
   "id": "00704c24",
   "metadata": {},
   "outputs": [],
   "source": [
    "s={\"name\":[\"Ruksie\",1,\"Abbas\"],\"age\":{24,29},\"gender\":True,\"natinality\": (\"INDIAN\",\"CANADIAN\"),\"birth\":{\"abbas\":\"Bandra\",\"rukaiya\": \"Jamnagar\"}}"
   ]
  },
  {
   "cell_type": "code",
   "execution_count": 145,
   "id": "5bdfd4ca",
   "metadata": {},
   "outputs": [
    {
     "data": {
      "text/plain": [
       "{'name': ['Ruksie', 1, 'Abbas'],\n",
       " 'age': {24, 29},\n",
       " 'gender': True,\n",
       " 'natinality': ('INDIAN', 'CANADIAN'),\n",
       " 'birth': {'abbas': 'Bandra', 'rukaiya': 'Jamnagar'}}"
      ]
     },
     "execution_count": 145,
     "metadata": {},
     "output_type": "execute_result"
    }
   ],
   "source": [
    "s"
   ]
  },
  {
   "cell_type": "code",
   "execution_count": 146,
   "id": "90550847",
   "metadata": {},
   "outputs": [
    {
     "data": {
      "text/plain": [
       "dict_keys(['name', 'age', 'gender', 'natinality', 'birth'])"
      ]
     },
     "execution_count": 146,
     "metadata": {},
     "output_type": "execute_result"
    }
   ],
   "source": [
    "s.keys()"
   ]
  },
  {
   "cell_type": "code",
   "execution_count": 147,
   "id": "a7609a9b",
   "metadata": {},
   "outputs": [
    {
     "name": "stdout",
     "output_type": "stream",
     "text": [
      "['Ruksie', 1, 'Abbas']\n",
      "{24, 29}\n",
      "True\n",
      "('INDIAN', 'CANADIAN')\n",
      "{'abbas': 'Bandra', 'rukaiya': 'Jamnagar'}\n"
     ]
    }
   ],
   "source": [
    "for i in s.keys():\n",
    "    print(s[i])"
   ]
  },
  {
   "cell_type": "code",
   "execution_count": 148,
   "id": "5952ac35",
   "metadata": {},
   "outputs": [
    {
     "name": "stdout",
     "output_type": "stream",
     "text": [
      "<class 'list'>\n",
      "<class 'set'>\n",
      "<class 'bool'>\n",
      "<class 'tuple'>\n",
      "<class 'dict'>\n"
     ]
    }
   ],
   "source": [
    "for i in s:\n",
    "    print(type(s[i]))"
   ]
  },
  {
   "cell_type": "markdown",
   "id": "a2beab86",
   "metadata": {},
   "source": [
    "### Here items() gives an output of every key value pair placed in the form of a tuple datatype"
   ]
  },
  {
   "cell_type": "code",
   "execution_count": 149,
   "id": "95e29394",
   "metadata": {},
   "outputs": [],
   "source": [
    "x3={2: 'kiki', 'lolo': 36}"
   ]
  },
  {
   "cell_type": "code",
   "execution_count": 144,
   "id": "6f4c9f9f",
   "metadata": {},
   "outputs": [
    {
     "data": {
      "text/plain": [
       "dict_items([(2, 'kiki'), ('lolo', 36)])"
      ]
     },
     "execution_count": 144,
     "metadata": {},
     "output_type": "execute_result"
    }
   ],
   "source": [
    "x3.items()"
   ]
  },
  {
   "cell_type": "code",
   "execution_count": 150,
   "id": "3fe3b85c",
   "metadata": {},
   "outputs": [
    {
     "data": {
      "text/plain": [
       "{'name': ['Ruksie', 1, 'Abbas'],\n",
       " 'age': {24, 29},\n",
       " 'gender': True,\n",
       " 'natinality': ('INDIAN', 'CANADIAN'),\n",
       " 'birth': {'abbas': 'Bandra', 'rukaiya': 'Jamnagar'}}"
      ]
     },
     "execution_count": 150,
     "metadata": {},
     "output_type": "execute_result"
    }
   ],
   "source": [
    "s"
   ]
  },
  {
   "cell_type": "code",
   "execution_count": 151,
   "id": "6228a6a7",
   "metadata": {},
   "outputs": [
    {
     "data": {
      "text/plain": [
       "dict_items([('name', ['Ruksie', 1, 'Abbas']), ('age', {24, 29}), ('gender', True), ('natinality', ('INDIAN', 'CANADIAN')), ('birth', {'abbas': 'Bandra', 'rukaiya': 'Jamnagar'})])"
      ]
     },
     "execution_count": 151,
     "metadata": {},
     "output_type": "execute_result"
    }
   ],
   "source": [
    "s.items() "
   ]
  },
  {
   "cell_type": "markdown",
   "id": "c7ece968",
   "metadata": {},
   "source": [
    "#### So now extract the keys from these items() tuple"
   ]
  },
  {
   "cell_type": "code",
   "execution_count": 152,
   "id": "ed22ad33",
   "metadata": {},
   "outputs": [
    {
     "name": "stdout",
     "output_type": "stream",
     "text": [
      "('name', ['Ruksie', 1, 'Abbas'])\n",
      "('age', {24, 29})\n",
      "('gender', True)\n",
      "('natinality', ('INDIAN', 'CANADIAN'))\n",
      "('birth', {'abbas': 'Bandra', 'rukaiya': 'Jamnagar'})\n"
     ]
    }
   ],
   "source": [
    "for i in s.items():\n",
    "    print(i)"
   ]
  },
  {
   "cell_type": "markdown",
   "id": "a70b672f",
   "metadata": {},
   "source": [
    "Keys"
   ]
  },
  {
   "cell_type": "code",
   "execution_count": 156,
   "id": "e33382ee",
   "metadata": {},
   "outputs": [
    {
     "name": "stdout",
     "output_type": "stream",
     "text": [
      "name\n",
      "age\n",
      "gender\n",
      "natinality\n",
      "birth\n"
     ]
    }
   ],
   "source": [
    "for i in s.items():\n",
    "    print(i[0])"
   ]
  },
  {
   "cell_type": "markdown",
   "id": "11e2dfc8",
   "metadata": {},
   "source": [
    "Values"
   ]
  },
  {
   "cell_type": "code",
   "execution_count": 157,
   "id": "aa009626",
   "metadata": {},
   "outputs": [
    {
     "name": "stdout",
     "output_type": "stream",
     "text": [
      "['Ruksie', 1, 'Abbas']\n",
      "{24, 29}\n",
      "True\n",
      "('INDIAN', 'CANADIAN')\n",
      "{'abbas': 'Bandra', 'rukaiya': 'Jamnagar'}\n"
     ]
    }
   ],
   "source": [
    "for i in s.items():\n",
    "    print(i[1])"
   ]
  },
  {
   "cell_type": "markdown",
   "id": "98484abc",
   "metadata": {},
   "source": [
    "So can tuple be used as a key??\n",
    "Yes right explained on top what all can be used as key"
   ]
  },
  {
   "cell_type": "code",
   "execution_count": 158,
   "id": "7dc7945a",
   "metadata": {},
   "outputs": [],
   "source": [
    "d={(\"pop\",58,\"lol\") : 585954}"
   ]
  },
  {
   "cell_type": "code",
   "execution_count": 159,
   "id": "07163a14",
   "metadata": {},
   "outputs": [
    {
     "data": {
      "text/plain": [
       "{('pop', 58, 'lol'): 585954}"
      ]
     },
     "execution_count": 159,
     "metadata": {},
     "output_type": "execute_result"
    }
   ],
   "source": [
    "d"
   ]
  },
  {
   "cell_type": "code",
   "execution_count": 160,
   "id": "6d2c2239",
   "metadata": {},
   "outputs": [
    {
     "data": {
      "text/plain": [
       "585954"
      ]
     },
     "execution_count": 160,
     "metadata": {},
     "output_type": "execute_result"
    }
   ],
   "source": [
    "d[('pop', 58, 'lol')]"
   ]
  },
  {
   "cell_type": "code",
   "execution_count": 161,
   "id": "9dd217a7",
   "metadata": {},
   "outputs": [
    {
     "data": {
      "text/plain": [
       "{'name': ['Ruksie', 1, 'Abbas'],\n",
       " 'age': {24, 29},\n",
       " 'gender': True,\n",
       " 'natinality': ('INDIAN', 'CANADIAN'),\n",
       " 'birth': {'abbas': 'Bandra', 'rukaiya': 'Jamnagar'}}"
      ]
     },
     "execution_count": 161,
     "metadata": {},
     "output_type": "execute_result"
    }
   ],
   "source": [
    "s"
   ]
  },
  {
   "cell_type": "markdown",
   "id": "2c520b1f",
   "metadata": {},
   "source": [
    "#### How to check length of the dictionary?"
   ]
  },
  {
   "cell_type": "code",
   "execution_count": 162,
   "id": "c115321b",
   "metadata": {},
   "outputs": [
    {
     "data": {
      "text/plain": [
       "5"
      ]
     },
     "execution_count": 162,
     "metadata": {},
     "output_type": "execute_result"
    }
   ],
   "source": [
    "len(s)"
   ]
  },
  {
   "cell_type": "code",
   "execution_count": 182,
   "id": "fe2ca31c",
   "metadata": {},
   "outputs": [
    {
     "ename": "TypeError",
     "evalue": "'set' object is not subscriptable",
     "output_type": "error",
     "traceback": [
      "\u001b[1;31m---------------------------------------------------------------------------\u001b[0m",
      "\u001b[1;31mTypeError\u001b[0m                                 Traceback (most recent call last)",
      "\u001b[1;32mC:\\Users\\RUKAIY~1\\AppData\\Local\\Temp/ipykernel_21736/926230248.py\u001b[0m in \u001b[0;36m<module>\u001b[1;34m\u001b[0m\n\u001b[1;32m----> 1\u001b[1;33m \u001b[0ms\u001b[0m\u001b[1;33m[\u001b[0m\u001b[1;34m\"age\"\u001b[0m\u001b[1;33m]\u001b[0m\u001b[1;33m[\u001b[0m\u001b[1;36m0\u001b[0m\u001b[1;33m]\u001b[0m\u001b[1;33m\u001b[0m\u001b[1;33m\u001b[0m\u001b[0m\n\u001b[0m",
      "\u001b[1;31mTypeError\u001b[0m: 'set' object is not subscriptable"
     ]
    }
   ],
   "source": [
    "s[\"age\"][0]"
   ]
  },
  {
   "cell_type": "code",
   "execution_count": 192,
   "id": "3deced2b",
   "metadata": {},
   "outputs": [],
   "source": [
    "e={56:{46,56,45}}"
   ]
  },
  {
   "cell_type": "code",
   "execution_count": 193,
   "id": "c25b3d9f",
   "metadata": {},
   "outputs": [
    {
     "data": {
      "text/plain": [
       "{45, 46, 56}"
      ]
     },
     "execution_count": 193,
     "metadata": {},
     "output_type": "execute_result"
    }
   ],
   "source": [
    "e[56]"
   ]
  },
  {
   "cell_type": "markdown",
   "id": "77184478",
   "metadata": {},
   "source": [
    "Now we cannot iterate through the set further since parsing a set would give an error"
   ]
  },
  {
   "cell_type": "code",
   "execution_count": 195,
   "id": "0dc3e994",
   "metadata": {},
   "outputs": [
    {
     "ename": "TypeError",
     "evalue": "'set' object is not subscriptable",
     "output_type": "error",
     "traceback": [
      "\u001b[1;31m---------------------------------------------------------------------------\u001b[0m",
      "\u001b[1;31mTypeError\u001b[0m                                 Traceback (most recent call last)",
      "\u001b[1;32mC:\\Users\\RUKAIY~1\\AppData\\Local\\Temp/ipykernel_21736/1526474405.py\u001b[0m in \u001b[0;36m<module>\u001b[1;34m\u001b[0m\n\u001b[1;32m----> 1\u001b[1;33m \u001b[0me\u001b[0m\u001b[1;33m[\u001b[0m\u001b[1;36m56\u001b[0m\u001b[1;33m]\u001b[0m\u001b[1;33m[\u001b[0m\u001b[1;36m0\u001b[0m\u001b[1;33m]\u001b[0m\u001b[1;33m\u001b[0m\u001b[1;33m\u001b[0m\u001b[0m\n\u001b[0m",
      "\u001b[1;31mTypeError\u001b[0m: 'set' object is not subscriptable"
     ]
    }
   ],
   "source": [
    "e[56][0]"
   ]
  },
  {
   "cell_type": "markdown",
   "id": "a654d9a9",
   "metadata": {},
   "source": [
    "So now we will type caste set in to list "
   ]
  },
  {
   "cell_type": "code",
   "execution_count": 198,
   "id": "69fa527e",
   "metadata": {},
   "outputs": [
    {
     "data": {
      "text/plain": [
       "{56: {45, 46, 56}}"
      ]
     },
     "execution_count": 198,
     "metadata": {},
     "output_type": "execute_result"
    }
   ],
   "source": [
    "e"
   ]
  },
  {
   "cell_type": "code",
   "execution_count": 228,
   "id": "3c578020",
   "metadata": {},
   "outputs": [
    {
     "data": {
      "text/plain": [
       "{45, 46, 89}"
      ]
     },
     "execution_count": 228,
     "metadata": {},
     "output_type": "execute_result"
    }
   ],
   "source": [
    "e={56: {45, 46, 89}}\n",
    "e[56]"
   ]
  },
  {
   "cell_type": "code",
   "execution_count": 229,
   "id": "194ee04f",
   "metadata": {},
   "outputs": [
    {
     "data": {
      "text/plain": [
       "[89, 45, 46]"
      ]
     },
     "execution_count": 229,
     "metadata": {},
     "output_type": "execute_result"
    }
   ],
   "source": [
    "list(e[56])"
   ]
  },
  {
   "cell_type": "markdown",
   "id": "c82f4d67",
   "metadata": {},
   "source": [
    "## Take an input from the user as a paraghraph"
   ]
  },
  {
   "cell_type": "code",
   "execution_count": 75,
   "id": "6efe83c3",
   "metadata": {},
   "outputs": [
    {
     "name": "stdout",
     "output_type": "stream",
     "text": [
      "Enter the paragraph----Wikipedia is an encyclopedia that anyone can edit, and tens of millions already have!  Wikipedia's purpose is to benefit readers by acting as a widely accessible and free encyclopedia that contains information on all branches of knowledge. Hosted by the Wikimedia Foundation, Wikipedia consists of freely editable content whose articles also provide numerous links to guide readers to related pages with more information.\n"
     ]
    }
   ],
   "source": [
    "a=input(\"Enter the paragraph----\")\n"
   ]
  },
  {
   "cell_type": "code",
   "execution_count": 76,
   "id": "e20def44",
   "metadata": {},
   "outputs": [
    {
     "data": {
      "text/plain": [
       "\"Wikipedia is an encyclopedia that anyone can edit, and tens of millions already have!  Wikipedia's purpose is to benefit readers by acting as a widely accessible and free encyclopedia that contains information on all branches of knowledge. Hosted by the Wikimedia Foundation, Wikipedia consists of freely editable content whose articles also provide numerous links to guide readers to related pages with more information.\""
      ]
     },
     "execution_count": 76,
     "metadata": {},
     "output_type": "execute_result"
    }
   ],
   "source": [
    "a"
   ]
  },
  {
   "cell_type": "markdown",
   "id": "31768b05",
   "metadata": {},
   "source": [
    "### Convert the paragraph into a list of words"
   ]
  },
  {
   "cell_type": "code",
   "execution_count": 77,
   "id": "d2df9b2f",
   "metadata": {},
   "outputs": [
    {
     "name": "stdout",
     "output_type": "stream",
     "text": [
      "Wikipedia is an encyclopedia that anyone can edit, and tens of millions already have!  Wikipedia's purpose is to benefit readers by acting as a widely accessible and free encyclopedia that contains information on all branches of knowledge. Hosted by the Wikimedia Foundation, Wikipedia consists of freely editable content whose articles also provide numerous links to guide readers to related pages with more information."
     ]
    }
   ],
   "source": [
    "for i in range(len(a)):\n",
    "    print(a[i],end=\"\")"
   ]
  },
  {
   "cell_type": "code",
   "execution_count": 78,
   "id": "6b2105da",
   "metadata": {},
   "outputs": [],
   "source": [
    "n=list(a.split( ))   "
   ]
  },
  {
   "cell_type": "code",
   "execution_count": 79,
   "id": "8a3de11e",
   "metadata": {},
   "outputs": [
    {
     "name": "stdout",
     "output_type": "stream",
     "text": [
      "['Wikipedia', 'is', 'an', 'encyclopedia', 'that', 'anyone', 'can', 'edit,', 'and', 'tens', 'of', 'millions', 'already', 'have!', \"Wikipedia's\", 'purpose', 'is', 'to', 'benefit', 'readers', 'by', 'acting', 'as', 'a', 'widely', 'accessible', 'and', 'free', 'encyclopedia', 'that', 'contains', 'information', 'on', 'all', 'branches', 'of', 'knowledge.', 'Hosted', 'by', 'the', 'Wikimedia', 'Foundation,', 'Wikipedia', 'consists', 'of', 'freely', 'editable', 'content', 'whose', 'articles', 'also', 'provide', 'numerous', 'links', 'to', 'guide', 'readers', 'to', 'related', 'pages', 'with', 'more', 'information.']\n"
     ]
    }
   ],
   "source": [
    "print(n)"
   ]
  },
  {
   "cell_type": "markdown",
   "id": "0608268b",
   "metadata": {},
   "source": [
    "### Delete the DUPLICATES"
   ]
  },
  {
   "cell_type": "code",
   "execution_count": 80,
   "id": "e606b396",
   "metadata": {
    "scrolled": true
   },
   "outputs": [
    {
     "name": "stdout",
     "output_type": "stream",
     "text": [
      "{'a', 'to', 'knowledge.', 'provide', 'related', 'accessible', 'of', 'benefit', 'an', 'by', 'widely', 'and', 'freely', 'pages', 'anyone', 'already', 'readers', 'content', 'guide', 'whose', 'on', 'Wikipedia', 'branches', 'links', 'millions', 'can', 'the', 'articles', 'Hosted', 'tens', 'numerous', 'information', 'Wikimedia', 'free', 'all', 'contains', 'that', \"Wikipedia's\", 'editable', 'information.', 'is', 'also', 'with', 'acting', 'consists', 'encyclopedia', 'as', 'have!', 'purpose', 'edit,', 'more', 'Foundation,'}\n"
     ]
    }
   ],
   "source": [
    "print(set(n))"
   ]
  },
  {
   "cell_type": "code",
   "execution_count": 81,
   "id": "68b0896e",
   "metadata": {},
   "outputs": [],
   "source": [
    "d=set(n)"
   ]
  },
  {
   "cell_type": "code",
   "execution_count": 82,
   "id": "4e9edea1",
   "metadata": {},
   "outputs": [
    {
     "name": "stdout",
     "output_type": "stream",
     "text": [
      "{'a', 'to', 'knowledge.', 'provide', 'related', 'accessible', 'of', 'benefit', 'an', 'by', 'widely', 'and', 'freely', 'pages', 'anyone', 'already', 'readers', 'content', 'guide', 'whose', 'on', 'Wikipedia', 'branches', 'links', 'millions', 'can', 'the', 'articles', 'Hosted', 'tens', 'numerous', 'information', 'Wikimedia', 'free', 'all', 'contains', 'that', \"Wikipedia's\", 'editable', 'information.', 'is', 'also', 'with', 'acting', 'consists', 'encyclopedia', 'as', 'have!', 'purpose', 'edit,', 'more', 'Foundation,'}\n"
     ]
    }
   ],
   "source": [
    "print(d)"
   ]
  },
  {
   "cell_type": "markdown",
   "id": "665c6ef7",
   "metadata": {},
   "source": [
    "### Now for every distinct element should be key and the value for all the keys should be your name"
   ]
  },
  {
   "cell_type": "code",
   "execution_count": 83,
   "id": "0373fc44",
   "metadata": {},
   "outputs": [
    {
     "name": "stdout",
     "output_type": "stream",
     "text": [
      "{'a': 'Ruksie', 'to': 'Ruksie', 'knowledge.': 'Ruksie', 'provide': 'Ruksie', 'related': 'Ruksie', 'accessible': 'Ruksie', 'of': 'Ruksie', 'benefit': 'Ruksie', 'an': 'Ruksie', 'by': 'Ruksie', 'widely': 'Ruksie', 'and': 'Ruksie', 'freely': 'Ruksie', 'pages': 'Ruksie', 'anyone': 'Ruksie', 'already': 'Ruksie', 'readers': 'Ruksie', 'content': 'Ruksie', 'guide': 'Ruksie', 'whose': 'Ruksie', 'on': 'Ruksie', 'Wikipedia': 'Ruksie', 'branches': 'Ruksie', 'links': 'Ruksie', 'millions': 'Ruksie', 'can': 'Ruksie', 'the': 'Ruksie', 'articles': 'Ruksie', 'Hosted': 'Ruksie', 'tens': 'Ruksie', 'numerous': 'Ruksie', 'information': 'Ruksie', 'Wikimedia': 'Ruksie', 'free': 'Ruksie', 'all': 'Ruksie', 'contains': 'Ruksie', 'that': 'Ruksie', \"Wikipedia's\": 'Ruksie', 'editable': 'Ruksie', 'information.': 'Ruksie', 'is': 'Ruksie', 'also': 'Ruksie', 'with': 'Ruksie', 'acting': 'Ruksie', 'consists': 'Ruksie', 'encyclopedia': 'Ruksie', 'as': 'Ruksie', 'have!': 'Ruksie', 'purpose': 'Ruksie', 'edit,': 'Ruksie', 'more': 'Ruksie', 'Foundation,': 'Ruksie'}\n"
     ]
    }
   ],
   "source": [
    "dic={}\n",
    "for i in d:\n",
    "    dic[i]=\"Ruksie\" #Here the dictionary dic has i as its key where every key is assigned ruksie\n",
    "print(dic)"
   ]
  },
  {
   "cell_type": "markdown",
   "id": "06a9c6cc",
   "metadata": {},
   "source": [
    "## OR"
   ]
  },
  {
   "cell_type": "code",
   "execution_count": 84,
   "id": "d534a663",
   "metadata": {},
   "outputs": [],
   "source": [
    "dic=dic.fromkeys(d,\"Ruksie\")"
   ]
  },
  {
   "cell_type": "code",
   "execution_count": 85,
   "id": "a2ec0b75",
   "metadata": {},
   "outputs": [
    {
     "name": "stdout",
     "output_type": "stream",
     "text": [
      "{'a': 'Ruksie', 'to': 'Ruksie', 'knowledge.': 'Ruksie', 'provide': 'Ruksie', 'related': 'Ruksie', 'accessible': 'Ruksie', 'of': 'Ruksie', 'benefit': 'Ruksie', 'an': 'Ruksie', 'by': 'Ruksie', 'widely': 'Ruksie', 'and': 'Ruksie', 'freely': 'Ruksie', 'pages': 'Ruksie', 'anyone': 'Ruksie', 'already': 'Ruksie', 'readers': 'Ruksie', 'content': 'Ruksie', 'guide': 'Ruksie', 'whose': 'Ruksie', 'on': 'Ruksie', 'Wikipedia': 'Ruksie', 'branches': 'Ruksie', 'links': 'Ruksie', 'millions': 'Ruksie', 'can': 'Ruksie', 'the': 'Ruksie', 'articles': 'Ruksie', 'Hosted': 'Ruksie', 'tens': 'Ruksie', 'numerous': 'Ruksie', 'information': 'Ruksie', 'Wikimedia': 'Ruksie', 'free': 'Ruksie', 'all': 'Ruksie', 'contains': 'Ruksie', 'that': 'Ruksie', \"Wikipedia's\": 'Ruksie', 'editable': 'Ruksie', 'information.': 'Ruksie', 'is': 'Ruksie', 'also': 'Ruksie', 'with': 'Ruksie', 'acting': 'Ruksie', 'consists': 'Ruksie', 'encyclopedia': 'Ruksie', 'as': 'Ruksie', 'have!': 'Ruksie', 'purpose': 'Ruksie', 'edit,': 'Ruksie', 'more': 'Ruksie', 'Foundation,': 'Ruksie'}\n"
     ]
    }
   ],
   "source": [
    "print(dic)"
   ]
  },
  {
   "cell_type": "markdown",
   "id": "161af829",
   "metadata": {},
   "source": [
    "### Print all the values as a tuple"
   ]
  },
  {
   "cell_type": "code",
   "execution_count": 94,
   "id": "43cfb719",
   "metadata": {},
   "outputs": [],
   "source": [
    "t1=tuple(dic.values())"
   ]
  },
  {
   "cell_type": "code",
   "execution_count": 95,
   "id": "b199d88c",
   "metadata": {},
   "outputs": [
    {
     "data": {
      "text/plain": [
       "('Ruksie',\n",
       " 'Ruksie',\n",
       " 'Ruksie',\n",
       " 'Ruksie',\n",
       " 'Ruksie',\n",
       " 'Ruksie',\n",
       " 'Ruksie',\n",
       " 'Ruksie',\n",
       " 'Ruksie',\n",
       " 'Ruksie',\n",
       " 'Ruksie',\n",
       " 'Ruksie',\n",
       " 'Ruksie',\n",
       " 'Ruksie',\n",
       " 'Ruksie',\n",
       " 'Ruksie',\n",
       " 'Ruksie',\n",
       " 'Ruksie',\n",
       " 'Ruksie',\n",
       " 'Ruksie',\n",
       " 'Ruksie',\n",
       " 'Ruksie',\n",
       " 'Ruksie',\n",
       " 'Ruksie',\n",
       " 'Ruksie',\n",
       " 'Ruksie',\n",
       " 'Ruksie',\n",
       " 'Ruksie',\n",
       " 'Ruksie',\n",
       " 'Ruksie',\n",
       " 'Ruksie',\n",
       " 'Ruksie',\n",
       " 'Ruksie',\n",
       " 'Ruksie',\n",
       " 'Ruksie',\n",
       " 'Ruksie',\n",
       " 'Ruksie',\n",
       " 'Ruksie',\n",
       " 'Ruksie',\n",
       " 'Ruksie',\n",
       " 'Ruksie',\n",
       " 'Ruksie',\n",
       " 'Ruksie',\n",
       " 'Ruksie',\n",
       " 'Ruksie',\n",
       " 'Ruksie',\n",
       " 'Ruksie',\n",
       " 'Ruksie',\n",
       " 'Ruksie',\n",
       " 'Ruksie',\n",
       " 'Ruksie',\n",
       " 'Ruksie')"
      ]
     },
     "execution_count": 95,
     "metadata": {},
     "output_type": "execute_result"
    }
   ],
   "source": [
    "t1"
   ]
  },
  {
   "cell_type": "markdown",
   "id": "9b64f9ab",
   "metadata": {},
   "source": [
    "## OR"
   ]
  },
  {
   "cell_type": "code",
   "execution_count": 87,
   "id": "903b0fb0",
   "metadata": {},
   "outputs": [
    {
     "data": {
      "text/plain": [
       "dict_keys(['a', 'to', 'knowledge.', 'provide', 'related', 'accessible', 'of', 'benefit', 'an', 'by', 'widely', 'and', 'freely', 'pages', 'anyone', 'already', 'readers', 'content', 'guide', 'whose', 'on', 'Wikipedia', 'branches', 'links', 'millions', 'can', 'the', 'articles', 'Hosted', 'tens', 'numerous', 'information', 'Wikimedia', 'free', 'all', 'contains', 'that', \"Wikipedia's\", 'editable', 'information.', 'is', 'also', 'with', 'acting', 'consists', 'encyclopedia', 'as', 'have!', 'purpose', 'edit,', 'more', 'Foundation,'])"
      ]
     },
     "execution_count": 87,
     "metadata": {},
     "output_type": "execute_result"
    }
   ],
   "source": [
    "dic.keys()"
   ]
  },
  {
   "cell_type": "code",
   "execution_count": 88,
   "id": "f61f7743",
   "metadata": {},
   "outputs": [
    {
     "data": {
      "text/plain": [
       "'Ruksie'"
      ]
     },
     "execution_count": 88,
     "metadata": {},
     "output_type": "execute_result"
    }
   ],
   "source": [
    "dic[i] #here showing only i=0 #But overall for every i key value is r thats the reason r is getting printed down"
   ]
  },
  {
   "cell_type": "code",
   "execution_count": 93,
   "id": "9acc8f89",
   "metadata": {},
   "outputs": [
    {
     "name": "stdout",
     "output_type": "stream",
     "text": [
      "('Ruksie', 'Ruksie', 'Ruksie', 'Ruksie', 'Ruksie', 'Ruksie', 'Ruksie', 'Ruksie', 'Ruksie', 'Ruksie', 'Ruksie', 'Ruksie', 'Ruksie', 'Ruksie', 'Ruksie', 'Ruksie', 'Ruksie', 'Ruksie', 'Ruksie', 'Ruksie', 'Ruksie', 'Ruksie', 'Ruksie', 'Ruksie', 'Ruksie', 'Ruksie', 'Ruksie', 'Ruksie', 'Ruksie', 'Ruksie', 'Ruksie', 'Ruksie', 'Ruksie', 'Ruksie', 'Ruksie', 'Ruksie', 'Ruksie', 'Ruksie', 'Ruksie', 'Ruksie', 'Ruksie', 'Ruksie', 'Ruksie', 'Ruksie', 'Ruksie', 'Ruksie', 'Ruksie', 'Ruksie', 'Ruksie', 'Ruksie', 'Ruksie', 'Ruksie')\n"
     ]
    }
   ],
   "source": [
    "list1=[]\n",
    "for i in dic.keys():\n",
    "    list1.append(dic[i])\n",
    "print(tuple(list1))"
   ]
  },
  {
   "cell_type": "markdown",
   "id": "9e43af3c",
   "metadata": {},
   "source": [
    "### Print all the values as keys"
   ]
  },
  {
   "cell_type": "code",
   "execution_count": 379,
   "id": "c2f195fb",
   "metadata": {},
   "outputs": [],
   "source": [
    "l=list(dic.keys())"
   ]
  },
  {
   "cell_type": "code",
   "execution_count": 382,
   "id": "be178459",
   "metadata": {},
   "outputs": [
    {
     "name": "stdout",
     "output_type": "stream",
     "text": [
      "['tens', 'to', 'free', 'is', 'already', 'by', 'a', 'readers', 'all', 'links', 'of', 'acting', 'information', 'editable', 'can', 'content', 'millions', 'encyclopedia', 'anyone', 'articles', 'Wikimedia', 'consists', 'widely', 'information.', 'pages', 'provide', 'more', 'whose', 'edit,', 'the', 'with', 'freely', 'that', 'numerous', 'as', 'contains', 'also', 'branches', 'related', 'benefit', 'an', 'purpose', 'Hosted', 'Wikipedia', 'on', 'Foundation,', 'guide', \"Wikipedia's\", 'and', 'knowledge.', 'have!', 'accessible']\n"
     ]
    }
   ],
   "source": [
    "print(l)"
   ]
  },
  {
   "cell_type": "markdown",
   "id": "cdfb0422",
   "metadata": {},
   "source": [
    "## OR"
   ]
  },
  {
   "cell_type": "code",
   "execution_count": 389,
   "id": "5fcfc47f",
   "metadata": {},
   "outputs": [
    {
     "name": "stdout",
     "output_type": "stream",
     "text": [
      "['tens', 'to', 'free', 'is', 'already', 'by', 'a', 'readers', 'all', 'links', 'of', 'acting', 'information', 'editable', 'can', 'content', 'millions', 'encyclopedia', 'anyone', 'articles', 'Wikimedia', 'consists', 'widely', 'information.', 'pages', 'provide', 'more', 'whose', 'edit,', 'the', 'with', 'freely', 'that', 'numerous', 'as', 'contains', 'also', 'branches', 'related', 'benefit', 'an', 'purpose', 'Hosted', 'Wikipedia', 'on', 'Foundation,', 'guide', \"Wikipedia's\", 'and', 'knowledge.', 'have!', 'accessible']\n"
     ]
    }
   ],
   "source": [
    "li=[]\n",
    "for i in dic.keys():\n",
    "    li.append(i)\n",
    "print(li)"
   ]
  },
  {
   "cell_type": "code",
   "execution_count": 407,
   "id": "d1684459",
   "metadata": {},
   "outputs": [],
   "source": [
    "b={\"height\": 5.9 , \"weight\" : 95 , \"fav\" : \"Rice\"}"
   ]
  },
  {
   "cell_type": "code",
   "execution_count": 408,
   "id": "4e70f286",
   "metadata": {},
   "outputs": [
    {
     "name": "stdout",
     "output_type": "stream",
     "text": [
      "The key is:  height The value is:  5.9\n",
      "The key is:  weight The value is:  95\n",
      "The key is:  fav The value is:  Rice\n"
     ]
    }
   ],
   "source": [
    "for i in b:\n",
    "    print(\"The key is: \",i,\"The value is: \",b[i])"
   ]
  },
  {
   "cell_type": "code",
   "execution_count": 446,
   "id": "60ab42a4",
   "metadata": {},
   "outputs": [],
   "source": [
    "b={\"height\": 5.9 , \"weight\" : 95 , \"fav\" : \"Rice\"}"
   ]
  },
  {
   "cell_type": "code",
   "execution_count": 449,
   "id": "4e1d04e3",
   "metadata": {},
   "outputs": [
    {
     "name": "stdout",
     "output_type": "stream",
     "text": [
      "The weight is or more than 95kgs\n"
     ]
    }
   ],
   "source": [
    "for i in b:\n",
    "    if i==\"weight\":\n",
    "        if b[i] > 95:\n",
    "            print(\"The weight is or more than 95kgs\")\n",
    "        else:\n",
    "            b[i]=100"
   ]
  },
  {
   "cell_type": "code",
   "execution_count": 448,
   "id": "7f8f9111",
   "metadata": {
    "scrolled": true
   },
   "outputs": [
    {
     "data": {
      "text/plain": [
       "{'height': 5.9, 'weight': 100, 'fav': 'Rice'}"
      ]
     },
     "execution_count": 448,
     "metadata": {},
     "output_type": "execute_result"
    }
   ],
   "source": [
    "b"
   ]
  },
  {
   "cell_type": "markdown",
   "id": "134cccb0",
   "metadata": {},
   "source": [
    "## Print the square of the keys"
   ]
  },
  {
   "cell_type": "code",
   "execution_count": 453,
   "id": "092f0146",
   "metadata": {},
   "outputs": [],
   "source": [
    "d={}\n",
    "for i in range(10):\n",
    "    d[i]=i*i\n",
    "#So here d is the dict and d[i] is the key of the dic and = is the value that we get i.e i*i  \n",
    "    "
   ]
  },
  {
   "cell_type": "code",
   "execution_count": 454,
   "id": "300f4d6a",
   "metadata": {},
   "outputs": [
    {
     "data": {
      "text/plain": [
       "{0: 0, 1: 1, 2: 4, 3: 9, 4: 16, 5: 25, 6: 36, 7: 49, 8: 64, 9: 81}"
      ]
     },
     "execution_count": 454,
     "metadata": {},
     "output_type": "execute_result"
    }
   ],
   "source": [
    "d"
   ]
  },
  {
   "cell_type": "markdown",
   "id": "738adb46",
   "metadata": {},
   "source": [
    "### Dictionary comprehention way"
   ]
  },
  {
   "cell_type": "code",
   "execution_count": 1,
   "id": "e9982560",
   "metadata": {},
   "outputs": [
    {
     "data": {
      "text/plain": [
       "{0: 0, 1: 1, 2: 4, 3: 9, 4: 16, 5: 25, 6: 36, 7: 49, 8: 64, 9: 81}"
      ]
     },
     "execution_count": 1,
     "metadata": {},
     "output_type": "execute_result"
    }
   ],
   "source": [
    "{i:i*i for i in range(10)}"
   ]
  },
  {
   "cell_type": "markdown",
   "id": "0c5ae0f9",
   "metadata": {},
   "source": [
    "## Previously created seperate files"
   ]
  },
  {
   "cell_type": "code",
   "execution_count": 2,
   "id": "192240f4",
   "metadata": {},
   "outputs": [
    {
     "ename": "SyntaxError",
     "evalue": "invalid syntax (Temp/ipykernel_14324/1546899045.py, line 100)",
     "output_type": "error",
     "traceback": [
      "\u001b[1;36m  Cell \u001b[1;32mIn[2], line 100\u001b[1;36m\u001b[0m\n\u001b[1;33m    Here in the index function you need to find the value \"kiki\"\u001b[0m\n\u001b[1;37m                ^\u001b[0m\n\u001b[1;31mSyntaxError\u001b[0m\u001b[1;31m:\u001b[0m invalid syntax\n"
     ]
    }
   ],
   "source": [
    "t=()\n",
    "\n",
    "type(t)\n",
    "\n",
    "t=(1,2,3,4,5,6)\n",
    "\n",
    "Perform string slicing and show?\n",
    "\n",
    "## String slicing takes place in tuples!\n",
    "\n",
    "t[1]\n",
    "\n",
    "t[3]\n",
    "\n",
    "t[1]=0\n",
    "\n",
    "## String assignment does not take place in tuples\n",
    "\n",
    "t[4]=\"plo\"\n",
    "\n",
    "t=(1,\"o\",2,\"p\",3,\"i\")\n",
    "\n",
    "t[4]\n",
    "\n",
    "t[3]\n",
    "\n",
    "## We cannot append as well add or delete \n",
    "\n",
    "t.add(3)\n",
    "\n",
    "t.append(\"pop\")\n",
    "\n",
    "### They perform addition operations with heterogenous datatype as well\n",
    "\n",
    "t1=(\"pop\",1,2)\n",
    "\n",
    "t1+t\n",
    "\n",
    "t\n",
    "\n",
    "t1\n",
    "\n",
    "t*t1\n",
    "\n",
    "a=(1,2,3)\n",
    "\n",
    "b=(2,4,6)\n",
    "\n",
    "a*b\n",
    "\n",
    "t*t\n",
    "\n",
    "a*a\n",
    "\n",
    "t*2\n",
    "\n",
    "a*3\n",
    "\n",
    "t-t\n",
    "\n",
    "t/t\n",
    "\n",
    "t-1\n",
    "\n",
    "\n",
    "t/4\n",
    "\n",
    "## ONLY TAKES PLACE IN HOMOGENOUS DATA.\n",
    "\n",
    "t=(1,2,\"lol\")\n",
    "\n",
    "max(t)\n",
    "\n",
    "g=(2,3,4,5,6)\n",
    "\n",
    "max(g)\n",
    "\n",
    "min(g)\n",
    "\n",
    "### BOTH MIN AND MAX BASED ON ASCII VALUE AND HOMOGENOUS DATATYPE\n",
    "\n",
    "t=(\"pop\",\"kiki\",\"jojo\",\"kiki\")\n",
    "\n",
    "#### MAX\n",
    "\n",
    "max(t)\n",
    "\n",
    "#### MIN\n",
    "\n",
    "min(t)\n",
    "\n",
    "#### In list or tuple the index value will be given the first preference, the occurence of the first value will be considered inspite of multiple values being placed in them.\n",
    "\n",
    "#### INDEX\n",
    "\n",
    "t.index(\"kiki\")\n",
    "\n",
    "t.index(\"kiki\")\n",
    "\n",
    "Here in the index function you need to find the value \"kiki\"\n",
    "\n",
    "#### COUNT\n",
    "\n",
    "t.count(\"jojo\")\n",
    "\n",
    "How to insert values in a tuple\n",
    "\n",
    "#### HOW TO INSERT VALUES IN A TUPLE?\n",
    "\n",
    "p=(1,2,3,4)\n",
    "\n",
    "l=list(p)\n",
    "\n",
    "p\n",
    "\n",
    "l\n",
    "\n",
    "### Using typecasting we will convert the datatype!!\n",
    "\n",
    "l.append(24)\n",
    "\n",
    "l\n",
    "\n",
    "l.insert(3,\"ruru\")\n",
    "\n",
    "l\n",
    "\n",
    "### Now changing the datatype back to tuple\n",
    "\n",
    "p=tuple(l)\n",
    "\n",
    "p\n",
    "\n",
    "### What is the application of tuple\n",
    "\n",
    "## Passwords \n",
    "\n",
    "y=((\"piuy\",\"iu\",56),(\"er\",10,78,\"l\"),56,25,4,5,(\"lol\",\"po\"),[1,5,8,7,0])\n",
    "\n",
    "for i in y:\n",
    "    print(i)\n",
    "\n",
    "for i in y:\n",
    "    if type(i)==tuple:\n",
    "        print(i)\n",
    "\n",
    "c=0\n",
    "for i in y:\n",
    "    if type(i)==tuple:\n",
    "        for j in i:\n",
    "            if type(j)==int:\n",
    "                c=c+j\n",
    "                \n",
    "print(c)\n",
    "                \n",
    "                \n",
    "     \n",
    "\n",
    "## WE CAN PARSE THROUGH Tuples, parsing operations\n",
    "\n",
    "y\n",
    "\n",
    "\n",
    "y[6]\n",
    "\n",
    "y[6][1]\n",
    "\n",
    "y[1]\n",
    "\n",
    "y[1][3]\n",
    "\n",
    "### Question So now if in the tuple y if any item is tuple give me the first index value of that tuple in the list.\n",
    "for i in y:\n",
    "    if type(i)==tuple:\n",
    "        print(i[0])\n",
    "\n",
    "r=(\"abbas\",123,\"plumber\",\"kia\",1234)\n",
    "\n",
    "n=input(\"enter your name: \")\n",
    "if n in r:\n",
    "    print(\"Found name\")\n",
    "else:\n",
    "    print(\"Not found name\")\n",
    "\n",
    "## How to delete a tuple permenantly\n",
    "\n",
    "del(r)\n",
    "\n",
    "So here r got deleted!!\n",
    "\n",
    "r\n",
    "\n",
    "### SET\n",
    "\n",
    "HOW TO CREATE A SET\n",
    "\n",
    "x=set()\n",
    "\n",
    "x\n",
    "\n",
    "#### WORK OF SET IS TO BUILD UNORDERED SET OF UNIQUE ELEMENTS PRESENT IN IT\n",
    "\n",
    "t={1,2,2,3,4,8,\"ruksie\",\"lol\"}\n",
    "\n",
    "t\n",
    "\n",
    "So chcek a few items that were duplicate have been eliminated\n",
    "\n",
    "### WE CAN INSERT DATA IN A SET\n",
    "\n",
    "t.add(43)\n",
    "\n",
    "t\n",
    "\n",
    "for i in t:\n",
    "    print(i)\n",
    "\n",
    "43 in t\n",
    "    \n",
    "\n",
    "## WE CANNOT PARSE THROUGH SETS\n",
    "\n",
    "t[0]\n",
    "\n",
    "# So here we need to type cast the set datatype into a list\n",
    "\n",
    "t={1,2,2,3,4,8,\"ruksie\",\"lol\"}\n",
    "\n",
    "l=list(t)\n",
    "\n",
    "t\n",
    "\n",
    "\n",
    "l\n",
    "\n",
    "l[2]\n",
    "\n",
    "l.append(9)\n",
    "\n",
    "l\n",
    "\n",
    "t=set(l)\n",
    "\n",
    "t\n",
    "\n",
    "t.add([1,2])\n",
    "\n",
    "### Now can we type caste a nested list in to a set??\n",
    "\n",
    "w=[\"pop\",1,4,56,[\"abc\",2,4,6]]\n",
    "\n",
    "t=set(w)\n",
    "\n",
    "e={\"p\",\"p\",\"p\",4,45856,454,45,8,2,0,\"abc\",\"XYZ\"}\n",
    "\n",
    "e.add(\"T\")\n",
    "\n",
    "e\n",
    "\n",
    "e.remove(2)\n",
    "\n",
    "e\n",
    "\n",
    "f={0,5,6}\n",
    "\n",
    "f.clear()\n",
    "\n",
    "f\n",
    "\n",
    "x=set(l)\n",
    "\n",
    "l=[1,2,4,\"ruku\"]\n",
    "\n",
    "x1=set()\n",
    "\n",
    "x1\n",
    "\n",
    "x1.add(20)\n",
    "\n",
    "x1.add(\"pop\")\n",
    "\n",
    "x1.add(78)\n",
    "\n",
    "x1\n",
    "\n",
    "## CANNNOT perform arithmetic operations on a set\n",
    "\n",
    "x+x1\n",
    "\n",
    "x*x1\n",
    "\n",
    "x*2\n",
    "\n",
    "x+1\n",
    "\n",
    "## DICTIONARY\n",
    "\n",
    "d={}\n",
    "\n",
    "d\n",
    "\n",
    "In a dictionary we have key value pair \n",
    "\n",
    "d={\"name\":\"Ruksie\",\"name\": \"ruksie\"}\n",
    "\n",
    "d\n",
    "\n",
    "### Rememeber keys cannot be duplicate whereas values can be duplicate and hence it takes the lastest key value pair!\n",
    "\n",
    "What all datatype can a key hold let check that out\n",
    "\n",
    "d={\"name\":\"Ruskie\",True:\"married\",24:\"Female\",[1,2,3]:\"Jamnagar\"}\n",
    "\n",
    "#### KEYS CANNOT TAKE A LIST!\n",
    "\n",
    "d={\"name\":\"Ruskie\",True:\"married\",24:\"Female\",{1,2,3,4}:\"lol\"}\n",
    "\n",
    "#### KEYS CANNOT TAKE A SET!\n",
    "\n",
    "d={(1,2,\"pop\"):True}\n",
    "\n",
    "\n",
    "#### KEYS CAN TAKE A TUPLE\n",
    "\n",
    "d={{\"name\":\"Pop\"}}\n",
    "\n",
    "#### KEYS CANNOT TAKE DICTIONARY\n",
    "\n",
    "In the below examples we cannot use SPECIAL CHARACTERS AS KEY OR VALUE PAIRS \n",
    "\n",
    "But can take an under score used with a string \n",
    "\n",
    "d={\"_c\":90}\n",
    "\n",
    "But not with an int\n",
    "\n",
    "d{_9:\"pop\"}\n",
    "\n",
    "d={9: \"_c\"}\n",
    "\n",
    "So takes it in value as well\n",
    "\n",
    "### So note keys will always be unique but Values can be duplicate\n",
    "\n",
    "x1 = {\"name \" :\"sudh\"  , \"age\": 3455 ,True : \"kik\",\"key\" : False , 3455: 446 , \"_sfsdf\" : \"sudh\"}\n",
    "\n",
    "Now,\n",
    "\n",
    "### Now lets check whether we can store LIST BOOLEAN INTEGER STRINGS SET TUPLE DICTIONARY in values for unique keys\n",
    "\n",
    "s={\"name\":[\"Ruksie\",1,\"Abbas\"],\"age\":{24,29},\"gender\":True,\"natinality\": (\"INDIAN\",\"CANADIAN\"),\"birth\":{\"abbas\":\"Bandra\",\"rukaiya\": \"Jamnagar\"}}\n",
    "\n",
    "s\n",
    "\n",
    "### Can take all the dattypes as values\n",
    "\n",
    "So now parsing through the dictionaries \n",
    "\n",
    "s[3]#This is not available in the dictionay n hence the error\n",
    "\n",
    "s[\"name\"]\n",
    "\n",
    "s[\"age\"]\n",
    "\n",
    "Now performing operations on dictionaries\n",
    "\n",
    "ADDITION \n",
    "\n",
    "x3={2:\"ruksie\",\"lolo\":[78,94,56]}\n",
    "\n",
    "x4={\"k4\":\"klmp\"}\n",
    "\n",
    "x3+x4\n",
    "\n",
    "x3*x4\n",
    "\n",
    "x3*2\n",
    "\n",
    "x3+3\n",
    "\n",
    "### Assignment operation\n",
    "\n",
    "x3\n",
    "\n",
    "x3[2]=98\n",
    "\n",
    "x3\n",
    "\n",
    "x3[\"lolo\"]-=41\n",
    "\n",
    "x3[\"lolo\"][2]-=10\n",
    "\n",
    "x3\n",
    "\n",
    "See what happended on the above we subtracted the last value of the list by 10\n",
    "\n",
    "## How to only get keys or only values\n",
    "\n",
    "x3.keys()\n",
    "\n",
    "x3.values()\n",
    "\n",
    "for i in x3:\n",
    "    print(i) # here i is the keys by default\n",
    "\n",
    "for i in x3:\n",
    "    print(x3[i])\n",
    "\n",
    "x4\n",
    "\n",
    "### Using items() we can get the dictionary in the form of a tuple\n",
    "\n",
    "s.items()\n",
    "\n",
    "Now from the above get me all the keys and values individually\n",
    "\n",
    "for i in s.items():\n",
    "    print(i)#This gives the entire tuple \n",
    "\n",
    "for i in s.items():\n",
    "    print(i[0])\n",
    "\n",
    "for i in s.items():\n",
    "    print(i[1])\n",
    "\n",
    "len(s)\n",
    "\n",
    "### Parsing through dictionaries \n",
    "\n",
    "e={56:{46,56,45}}\n",
    "\n",
    "e[56]\n",
    "\n",
    "e[56][2]\n",
    "\n",
    "So since we cannot entirely parse through the dictionary we will need to type caste it\n",
    "\n",
    "l=list(e[56])\n",
    "\n",
    "l\n",
    "\n",
    "l[1]\n",
    "\n",
    "s=\"A paragraph consists of one or more sentences. Though not required by the syntax of any language paragraphs are usually an expected part of formal writing used to organize longer prose  \"\n",
    "\n",
    "s\n",
    "\n",
    "r=list(s.split( ))\n",
    "\n",
    "print(r)\n",
    "\n",
    "set(r)\n",
    "\n",
    "d=set(r)\n",
    "\n",
    "d\n",
    "\n",
    "dic={}\n",
    "for i in d:\n",
    "    dic[i]=\"ruksie\"\n",
    "print(dic)\n",
    "    \n",
    "\n",
    "l=tuple(dic.values())\n",
    "\n",
    "y=tuple(dic.keys())\n",
    "\n",
    "print(l,end=\" \")\n",
    "\n",
    "print(y,end=\" \")\n",
    "\n",
    "### Square of the dictionary key as value:\n",
    "\n",
    "d={}\n",
    "for i in range(10):\n",
    "    d[i]=i*i\n",
    "    #So here d[i] is the value so i*i gives Value=key*key since i is the denotion for key!\n",
    "\n",
    "d\n",
    "\n",
    "## FUNCTIONS\n",
    "\n",
    "Function creates reusability and function is something that is more readable we can divide set of code into modules.\n",
    "\n",
    "\n",
    "#### How to create a function?\n",
    "\n",
    "def test(a,b):\n",
    "    print(a+b)\n",
    "\n",
    "#### How to call a function?\n",
    "\n",
    "test(2,3)\n",
    "\n",
    "type(test(2,3))\n",
    "\n",
    "### NONETYPE\n",
    "\n",
    "### What is NONE TYPE?\n",
    "DEFINITION: \n",
    "The None keyword is used to define a null value, or no value at all. None is not the same as 0, False, or an empty string. None is a data type of its own (NoneType) and only None can be None.\n",
    "\n",
    "def test1(a,b):\n",
    "    return (a+b) \n",
    "\n",
    "test1(5,7)\n",
    "\n",
    "type(test1(5,7))\n",
    "\n",
    "Wherein here for the above example if return type is giving me int as a data type we can ADD a number to an integer right??!!\n",
    "Hence we are able to perform the following here\n",
    "\n",
    "### So, return keyword will always give the same datatype as the operations it has been assigned \n",
    "Suppose it has been assigned int operation then it will throw int datatype to us!!!\n",
    "\n",
    "def test2(a,b,c):\n",
    "    return a*b\n",
    "\n",
    "test2(2,3,4)\n",
    "\n",
    "But what if we only place two values inside the parameter place!\n",
    "\n",
    "test2(2,5)\n",
    "\n",
    "So basically once you define the function the number of arguments passed through them you all of them should be called while calling the functions\n",
    "\n",
    "So, Now \n",
    "\n",
    "def test3(a,b):\n",
    "    return a*b,a+b,a-b\n",
    "\n",
    "test3(4,6)\n",
    "\n",
    "type(test3(4,6))\n",
    "\n",
    "h,i,j=test3(2,6)\n",
    "\n",
    "h\n",
    "\n",
    "i\n",
    "\n",
    "j\n",
    "\n",
    "h,_,j=test3(2,6)\n",
    "\n",
    "h\n",
    "\n",
    "_\n",
    "\n",
    "j\n",
    "\n",
    "What happens when we dont place a placeholder?\n",
    "\n",
    "b,v=test3(5,5)\n",
    "\n",
    "It basically gives an error\n",
    "\n",
    "b,_,_=test3(6,5)\n",
    "\n",
    "b\n",
    "\n",
    "_\n",
    "\n",
    "_\n",
    "\n",
    "def test4(a,b,c):\n",
    "    return a + b\n",
    "    return b + c\n",
    "\n",
    "### Now here if we take 2 return statements the first one will get returned \n",
    "\n",
    "test4(2,3,6)\n",
    "\n",
    "def test5():\n",
    "    print(\"This is test5 function\")\n",
    "\n",
    "test5()\n",
    "\n",
    "test5()+\"hieee\"\n",
    "\n",
    "test5()+9\n",
    "\n",
    "def test6():\n",
    "    return \"Hey this id function 6\"\n",
    "\n",
    "test6()\n",
    "\n",
    "test6()+ \" reallllllly\"\n",
    "\n",
    "test6()+7\n",
    "\n",
    "### Here string so we need to typecaste but whatever it is if its return then we can add seperately and when it is print we cannot\n",
    "\n",
    "def test7(n):\n",
    "    return n*n\n",
    "\n",
    "test7([1,2,3])\n",
    "\n",
    "test7(5)\n",
    "\n",
    "test7(\"ruk\")\n",
    "\n",
    "test7((1,2,3))\n",
    "\n",
    "test7({1,4,7})\n",
    "\n",
    "def test8(n):\n",
    "    return n*2\n",
    "\n",
    "test8([1,2,3])\n",
    "\n",
    "test8([\"r\",\"u\"])\n",
    "\n",
    "test8((1,2,3,4))\n",
    "\n",
    "test8({1,8})#Since set has only unique values \n",
    "\n",
    "test8({\"name\":23})#Here as well in dictionary keys are unique\n",
    "\n",
    "test8(\"pop\")\n",
    "\n",
    "r=test8([1,2,3])\n",
    "\n",
    "r[0]\n",
    "\n",
    "r\n",
    "\n",
    "z=test8((4,7,9))\n",
    "\n",
    "z[0]\n",
    "\n",
    "z[3]\n",
    "\n",
    "z\n",
    "\n",
    "type(z)\n",
    "\n",
    "def boolx(a=True, b=False):\n",
    "    return a+b\n",
    "\n",
    "boolx()\n",
    "\n",
    "boolx(True)\n",
    "\n",
    "boolx(False)\n",
    "\n",
    "boolx(True,0)#So here True is 1 which is 1+0\n",
    "\n",
    "boolx(False,6)#So here False is 0 which is 0+6\n",
    "\n",
    "The pre assigned values get overwritten so at runtime we can change the pre assigned values and place the desired values needed at that time\n",
    "\n",
    "def travel(car=True,bike=False):\n",
    "    travel=car or bike\n",
    "    return car,bike,travel\n",
    "\n",
    "travel(True)\n",
    "\n",
    "travel(False)#This is by defalut the value assigned to the car\n",
    "\n",
    "travel(bike=True)\n",
    "\n",
    "## *args?\n",
    "\n",
    "## Remember args return value in the form of tuples\n",
    "\n",
    "def r(*args):\n",
    "    return args\n",
    "\n",
    "r(1,\"ruks\",[1,2,3])\n",
    "\n",
    "def l(*args):\n",
    "    return list [(args)]\n",
    "\n",
    "l([1,2,3,4],[2,3,4])\n",
    "\n",
    "def l(*args):\n",
    "    return list(args)\n",
    "\n",
    "l([2,3,4],[7,8,9,10],[3,4,5,6])\n",
    "\n",
    "But we them in one list only not nested lists \n",
    "\n",
    "def li(*args):\n",
    "    lis=[]\n",
    "    for i in args:\n",
    "        lis=lis+i\n",
    "    return lis\n",
    "        \n",
    "\n",
    "li([1,2,3],[\"ruks\"])\n",
    "\n",
    "def test99(*args):\n",
    "    j=[]\n",
    "    for i in args:\n",
    "        j.append(i)\n",
    "    return j\n",
    "\n",
    "test99([1,2,3],[\"ruks\"])\n",
    "\n",
    "def test22(*args):\n",
    "    count=0\n",
    "    for i in args:\n",
    "        count=count+i\n",
    "    return count\n",
    "\n",
    "test22(3,4,5,4,5,6)\n",
    "\n",
    "def test11(*args):\n",
    "    for i in args:\n",
    "        return type(i)\n",
    "\n",
    "test11(\"ruksie\")\n",
    "\n",
    "test11(3)\n",
    "\n",
    "test11([1,2,3])\n",
    "\n",
    "### **Kwargs\n",
    "\n",
    "def test32(**kwargs):\n",
    "    return kwargs\n",
    "\n",
    "test32(\"name\":\"merchant\")\n",
    "\n",
    "So what is the actual syntax?\n",
    "\n",
    "test32(name=\"Merchant\")\n",
    "\n",
    "So here the key is not placed into quotes!!! remember  \n",
    "\n",
    "Here internally the function will create a dictionary and in return will take inputs in the form mentioned above \n",
    "\n",
    "test32(v= True,l =\"ruksie\",g=\"Pop\")\n",
    "\n",
    "### Kwargs return everything in the form of dictionary!\n",
    "\n",
    "Can we pass a dictionary inside it? No\n",
    "\n",
    "test32({\"ruksie\":\"hey\",\"pop\":\"hey\"})\n",
    "\n",
    "test32(a=2,b=7,c=9,d=89)\n",
    "\n",
    "def mul(*args):\n",
    "    j={}\n",
    "    for i in args:\n",
    "        if type(i) in l:\n",
    "            l[type(i)].append(i)\n",
    "        else:\n",
    "            l[type(i)]=[i]\n",
    "        return l\n",
    "\n",
    "def lstr(**kwargs):\n",
    "    for i in kwargs.items():\n",
    "        if type(i[1])==list:\n",
    "            for j in i[1]:\n",
    "                if type(j)==str:\n",
    "                    print(\"The string\",j,\"is found in\",i[1])\n",
    "    return kwargs\n",
    "\n",
    "lstr(b=6,c=[4,5,6,\"lol\"],d=[\"sudh\",\"kumar\"],n=6+7j)\n",
    "\n",
    "lstr(name=[\"Ruksie\",24,\"F\"],birth=[1,2,\"Jamnagar\"],v=23,s=[2,34,\"Juinagar\"])\n",
    "\n",
    "l=[]\n",
    "def test19(**kwargs):\n",
    "    for i in kwargs.items():\n",
    "        if type(i[1])==list:\n",
    "            for j in i[1]:\n",
    "                if type(j)==str:\n",
    "                    print(\"We found\",j,\"inside\",i[1])\n",
    "\n",
    "test19(b=6,c=[4,5,6,\"lol\"],d=[\"sudh\",\"kumar\"],n=6+7j)\n",
    "\n"
   ]
  },
  {
   "cell_type": "code",
   "execution_count": null,
   "id": "3206a2cd",
   "metadata": {},
   "outputs": [],
   "source": []
  }
 ],
 "metadata": {
  "kernelspec": {
   "display_name": "Python 3 (ipykernel)",
   "language": "python",
   "name": "python3"
  },
  "language_info": {
   "codemirror_mode": {
    "name": "ipython",
    "version": 3
   },
   "file_extension": ".py",
   "mimetype": "text/x-python",
   "name": "python",
   "nbconvert_exporter": "python",
   "pygments_lexer": "ipython3",
   "version": "3.9.7"
  }
 },
 "nbformat": 4,
 "nbformat_minor": 5
}
