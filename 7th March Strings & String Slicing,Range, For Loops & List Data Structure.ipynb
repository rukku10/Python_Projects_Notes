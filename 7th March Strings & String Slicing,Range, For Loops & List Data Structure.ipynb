{
 "cells": [
  {
   "cell_type": "code",
   "execution_count": 25,
   "id": "99912f73",
   "metadata": {},
   "outputs": [
    {
     "name": "stdout",
     "output_type": "stream",
     "text": [
      "1\n",
      "2\n",
      "3\n",
      "4\n",
      "5\n"
     ]
    }
   ],
   "source": [
    "n=5\n",
    "i=1\n",
    "while i<=n:\n",
    "    print(i)\n",
    "    i+=1\n",
    "#else:\n",
    "    #print(\"In else statement\")\n",
    "    "
   ]
  },
  {
   "cell_type": "markdown",
   "id": "0e0b8c07",
   "metadata": {},
   "source": [
    "# So there are various data types  \n",
    "String,Tuple,Dictionary,List etc"
   ]
  },
  {
   "cell_type": "markdown",
   "id": "fd0637e3",
   "metadata": {},
   "source": [
    "# String Data type ,String parsing Operations"
   ]
  },
  {
   "cell_type": "code",
   "execution_count": 3,
   "id": "d618c0f1",
   "metadata": {},
   "outputs": [],
   "source": [
    "r=\"My name is rukaiya\"\n",
    "#The above is an example of string \"rukaiya\" r,u,k,a,i,y,a these are the indicidual characters of the string."
   ]
  },
  {
   "cell_type": "code",
   "execution_count": 4,
   "id": "d1be279d",
   "metadata": {},
   "outputs": [
    {
     "data": {
      "text/plain": [
       "'My name is rukaiya'"
      ]
     },
     "execution_count": 4,
     "metadata": {},
     "output_type": "execute_result"
    }
   ],
   "source": [
    "r"
   ]
  },
  {
   "cell_type": "code",
   "execution_count": 5,
   "id": "1a3e600d",
   "metadata": {},
   "outputs": [
    {
     "data": {
      "text/plain": [
       "str"
      ]
     },
     "execution_count": 5,
     "metadata": {},
     "output_type": "execute_result"
    }
   ],
   "source": [
    "type(r)"
   ]
  },
  {
   "cell_type": "markdown",
   "id": "629b25eb",
   "metadata": {},
   "source": [
    "\n",
    "# Indexing & String Slicing"
   ]
  },
  {
   "cell_type": "code",
   "execution_count": 6,
   "id": "96f4d7bb",
   "metadata": {
    "scrolled": true
   },
   "outputs": [
    {
     "data": {
      "text/plain": [
       "['M', 'y', ' ', 'n', 'a', 'm', 'e', ' ', 'i', 's']"
      ]
     },
     "execution_count": 6,
     "metadata": {},
     "output_type": "execute_result"
    }
   ],
   "source": [
    "#So in string r= \"My name is rukaiya\"\n",
    "[r[0],r[1],r[2],r[3],r[4],r[5],r[6],r[7],r[8],r[9]]\n",
    "#So here 0th index is M and the index value starts from 0 1 2 3 4 5 and so on."
   ]
  },
  {
   "cell_type": "code",
   "execution_count": 6,
   "id": "40c72fe8",
   "metadata": {},
   "outputs": [],
   "source": [
    "r=\"My name is rukaiya\""
   ]
  },
  {
   "cell_type": "code",
   "execution_count": 7,
   "id": "cac29671",
   "metadata": {},
   "outputs": [
    {
     "data": {
      "text/plain": [
       "18"
      ]
     },
     "execution_count": 7,
     "metadata": {},
     "output_type": "execute_result"
    }
   ],
   "source": [
    "len(r)"
   ]
  },
  {
   "cell_type": "code",
   "execution_count": 8,
   "id": "af8abe8b",
   "metadata": {},
   "outputs": [
    {
     "data": {
      "text/plain": [
       "'n'"
      ]
     },
     "execution_count": 8,
     "metadata": {},
     "output_type": "execute_result"
    }
   ],
   "source": [
    "r[3]\n"
   ]
  },
  {
   "cell_type": "code",
   "execution_count": 9,
   "id": "d54af188",
   "metadata": {},
   "outputs": [
    {
     "data": {
      "text/plain": [
       "'name is'"
      ]
     },
     "execution_count": 9,
     "metadata": {},
     "output_type": "execute_result"
    }
   ],
   "source": [
    "r[3:10:1]\n",
    "#How???"
   ]
  },
  {
   "cell_type": "code",
   "execution_count": 9,
   "id": "f0b39ff4",
   "metadata": {},
   "outputs": [
    {
     "data": {
      "text/plain": [
       "'si eman'"
      ]
     },
     "execution_count": 9,
     "metadata": {},
     "output_type": "execute_result"
    }
   ],
   "source": [
    "r[9:2:-1]"
   ]
  },
  {
   "cell_type": "code",
   "execution_count": 11,
   "id": "dbd4aa2d",
   "metadata": {},
   "outputs": [
    {
     "data": {
      "text/plain": [
       "'ayiakur si eman yM'"
      ]
     },
     "execution_count": 11,
     "metadata": {},
     "output_type": "execute_result"
    }
   ],
   "source": [
    "r[::-1]"
   ]
  },
  {
   "cell_type": "code",
   "execution_count": 12,
   "id": "d7f44618",
   "metadata": {},
   "outputs": [],
   "source": [
    "#Now parsing in between the indexes.\n",
    "#So what if you have have to parse through the indexes and need a few selected characters instead of one or two?\n",
    "#How would you attain them?\n"
   ]
  },
  {
   "cell_type": "markdown",
   "id": "31bb840a",
   "metadata": {},
   "source": [
    "# String Slicing for specific characters"
   ]
  },
  {
   "cell_type": "markdown",
   "id": "74712392",
   "metadata": {},
   "source": [
    "x[lower bound:upperbound:stepcount]"
   ]
  },
  {
   "cell_type": "markdown",
   "id": "c705d314",
   "metadata": {},
   "source": [
    "# HERE THERE IS A LOWER BOUND & UPPER BOUND , WHERE UPPER BOUND IS EXCLUDED WHILE SLICING THE STRING!\n",
    "EX:x=[3:10]\n",
    "So here Lower bound is 3 & Upper bound is 9 while we exclude 10"
   ]
  },
  {
   "cell_type": "code",
   "execution_count": 11,
   "id": "f9454f2e",
   "metadata": {},
   "outputs": [
    {
     "name": "stdout",
     "output_type": "stream",
     "text": [
      "Hello\n"
     ]
    }
   ],
   "source": [
    "#Slice From the Start\n",
    "#Get the characters from the start to position 5 \n",
    "b = \"Hello, World!\"\n",
    "print(b[:5])"
   ]
  },
  {
   "cell_type": "code",
   "execution_count": 12,
   "id": "5ea2c95c",
   "metadata": {
    "scrolled": true
   },
   "outputs": [
    {
     "data": {
      "text/plain": [
       "'Hello, World!'"
      ]
     },
     "execution_count": 12,
     "metadata": {},
     "output_type": "execute_result"
    }
   ],
   "source": [
    "b"
   ]
  },
  {
   "cell_type": "code",
   "execution_count": 18,
   "id": "1e82e643",
   "metadata": {},
   "outputs": [
    {
     "data": {
      "text/plain": [
       "'!dlroW ,olleH'"
      ]
     },
     "execution_count": 18,
     "metadata": {},
     "output_type": "execute_result"
    }
   ],
   "source": [
    "b[13::-1]"
   ]
  },
  {
   "cell_type": "code",
   "execution_count": 19,
   "id": "cdef675b",
   "metadata": {},
   "outputs": [
    {
     "data": {
      "text/plain": [
       "'H'"
      ]
     },
     "execution_count": 19,
     "metadata": {},
     "output_type": "execute_result"
    }
   ],
   "source": [
    "b[0]"
   ]
  },
  {
   "cell_type": "code",
   "execution_count": 14,
   "id": "900b3dca",
   "metadata": {},
   "outputs": [
    {
     "data": {
      "text/plain": [
       "13"
      ]
     },
     "execution_count": 14,
     "metadata": {},
     "output_type": "execute_result"
    }
   ],
   "source": [
    "len(b)"
   ]
  },
  {
   "cell_type": "code",
   "execution_count": 15,
   "id": "a3d9e6cf",
   "metadata": {},
   "outputs": [
    {
     "name": "stdout",
     "output_type": "stream",
     "text": [
      "Hello World!\n"
     ]
    }
   ],
   "source": [
    "#Slice To the End\n",
    "b=\"Hello World!\"\n",
    "print(b[:])"
   ]
  },
  {
   "cell_type": "code",
   "execution_count": 16,
   "id": "5fc953b9",
   "metadata": {},
   "outputs": [
    {
     "name": "stdout",
     "output_type": "stream",
     "text": [
      "llo, World!\n"
     ]
    }
   ],
   "source": [
    "b = \"Hello, World!\"\n",
    "print(b[2:])\n"
   ]
  },
  {
   "cell_type": "code",
   "execution_count": 17,
   "id": "2cfe61ac",
   "metadata": {},
   "outputs": [
    {
     "name": "stdout",
     "output_type": "stream",
     "text": [
      "orl\n"
     ]
    }
   ],
   "source": [
    "b = \"Hello, World!\"\n",
    "print(b[-5:-2:])"
   ]
  },
  {
   "cell_type": "code",
   "execution_count": 18,
   "id": "ea35926d",
   "metadata": {},
   "outputs": [
    {
     "name": "stdout",
     "output_type": "stream",
     "text": [
      "orl\n"
     ]
    }
   ],
   "source": [
    "b = \"Hello, World!\"\n",
    "print(b[8:11:1])"
   ]
  },
  {
   "cell_type": "code",
   "execution_count": 19,
   "id": "ada5e306",
   "metadata": {},
   "outputs": [
    {
     "name": "stdout",
     "output_type": "stream",
     "text": [
      "lro\n"
     ]
    }
   ],
   "source": [
    "b = \"Hello, World!\"\n",
    "print(b[10:7:-1])"
   ]
  },
  {
   "cell_type": "code",
   "execution_count": 20,
   "id": "edba3af5",
   "metadata": {},
   "outputs": [
    {
     "data": {
      "text/plain": [
       "'name is'"
      ]
     },
     "execution_count": 20,
     "metadata": {},
     "output_type": "execute_result"
    }
   ],
   "source": [
    "\n",
    "r=\"My name is rukaiya\"\n",
    "r[3:10]\n",
    "#So here the string will parse and pick indexes valued from 3 to 10 and not pick the 10th indexed value "
   ]
  },
  {
   "cell_type": "markdown",
   "id": "e06dfc4f",
   "metadata": {},
   "source": [
    "#So now further we will see \n",
    "r=\"My name is rukaiya\"\n",
    "r[3:10:1]\n",
    "Where index 3 is the START POINT of the index 10 is the END POINT and 1 is the STEP SIZE OR JUMP SIZE"
   ]
  },
  {
   "cell_type": "markdown",
   "id": "178ce62a",
   "metadata": {},
   "source": [
    "#So here we can get data in both ways \n",
    "#straight as well as reversed\n",
    "So there is a reverse function but how do we parse through the strings without reverse functions??"
   ]
  },
  {
   "cell_type": "markdown",
   "id": "6bb89a1d",
   "metadata": {},
   "source": [
    "REVERSE THE STRING CHARACTERS AS AN OUTPUT"
   ]
  },
  {
   "cell_type": "code",
   "execution_count": 28,
   "id": "11b780c0",
   "metadata": {
    "scrolled": true
   },
   "outputs": [
    {
     "data": {
      "text/plain": [
       "'name is'"
      ]
     },
     "execution_count": 28,
     "metadata": {},
     "output_type": "execute_result"
    }
   ],
   "source": [
    "r=\"My name is rukaiya\"\n",
    "r[3:10]\n"
   ]
  },
  {
   "cell_type": "code",
   "execution_count": 32,
   "id": "1408529c",
   "metadata": {},
   "outputs": [
    {
     "data": {
      "text/plain": [
       "'ayiakur si eman yM'"
      ]
     },
     "execution_count": 32,
     "metadata": {},
     "output_type": "execute_result"
    }
   ],
   "source": [
    "r[17::-1]"
   ]
  },
  {
   "cell_type": "code",
   "execution_count": null,
   "id": "89a7d64c",
   "metadata": {},
   "outputs": [],
   "source": []
  },
  {
   "cell_type": "code",
   "execution_count": null,
   "id": "90c0d62d",
   "metadata": {},
   "outputs": [],
   "source": []
  },
  {
   "cell_type": "code",
   "execution_count": 26,
   "id": "0e90a46b",
   "metadata": {},
   "outputs": [
    {
     "data": {
      "text/plain": [
       "' si eman'"
      ]
     },
     "execution_count": 26,
     "metadata": {},
     "output_type": "execute_result"
    }
   ],
   "source": [
    "r[10:2:-1]"
   ]
  },
  {
   "cell_type": "code",
   "execution_count": 27,
   "id": "d718cc97",
   "metadata": {},
   "outputs": [
    {
     "data": {
      "text/plain": [
       "'ayiakur si eman yM'"
      ]
     },
     "execution_count": 27,
     "metadata": {},
     "output_type": "execute_result"
    }
   ],
   "source": [
    "r[::-1]"
   ]
  },
  {
   "cell_type": "markdown",
   "id": "c12ed542",
   "metadata": {},
   "source": [
    "Why the above output??\n",
    "Here 3 is the start point and 10 is the end point in the positive directed scale \n",
    "So now -1 is on the negative scale and takes a step count in the opposite direction and hence a conflict is caused leaving an \n",
    "empty output"
   ]
  },
  {
   "cell_type": "code",
   "execution_count": 28,
   "id": "2f9a61e9",
   "metadata": {},
   "outputs": [
    {
     "data": {
      "text/plain": [
       "'iakur s'"
      ]
     },
     "execution_count": 28,
     "metadata": {},
     "output_type": "execute_result"
    }
   ],
   "source": [
    "r[-3:-10:-1]"
   ]
  },
  {
   "cell_type": "code",
   "execution_count": 29,
   "id": "08d26b7f",
   "metadata": {},
   "outputs": [
    {
     "data": {
      "text/plain": [
       "'name is r'"
      ]
     },
     "execution_count": 29,
     "metadata": {},
     "output_type": "execute_result"
    }
   ],
   "source": [
    "r[3:-6]\n",
    "# here we have a SP as 3 and an EP as -6 "
   ]
  },
  {
   "cell_type": "code",
   "execution_count": 30,
   "id": "afd70d2a",
   "metadata": {},
   "outputs": [
    {
     "data": {
      "text/plain": [
       "'nm '"
      ]
     },
     "execution_count": 30,
     "metadata": {},
     "output_type": "execute_result"
    }
   ],
   "source": [
    "r[3:9:2]"
   ]
  },
  {
   "cell_type": "code",
   "execution_count": 31,
   "id": "46b51618",
   "metadata": {},
   "outputs": [
    {
     "data": {
      "text/plain": [
       "'My name is rukaiya'"
      ]
     },
     "execution_count": 31,
     "metadata": {},
     "output_type": "execute_result"
    }
   ],
   "source": [
    "r[::]"
   ]
  },
  {
   "cell_type": "code",
   "execution_count": 32,
   "id": "e72e996f",
   "metadata": {},
   "outputs": [
    {
     "data": {
      "text/plain": [
       "'ayiakur si eman yM'"
      ]
     },
     "execution_count": 32,
     "metadata": {},
     "output_type": "execute_result"
    }
   ],
   "source": [
    "r[::-1]"
   ]
  },
  {
   "cell_type": "code",
   "execution_count": 33,
   "id": "a184f558",
   "metadata": {},
   "outputs": [
    {
     "data": {
      "text/plain": [
       "'M aei uay'"
      ]
     },
     "execution_count": 33,
     "metadata": {},
     "output_type": "execute_result"
    }
   ],
   "source": [
    "r[::2]"
   ]
  },
  {
   "cell_type": "code",
   "execution_count": 34,
   "id": "c35b6c05",
   "metadata": {},
   "outputs": [
    {
     "data": {
      "text/plain": [
       "'My name is rukaiya'"
      ]
     },
     "execution_count": 34,
     "metadata": {},
     "output_type": "execute_result"
    }
   ],
   "source": [
    "r[:]"
   ]
  },
  {
   "cell_type": "code",
   "execution_count": 35,
   "id": "a39bf23d",
   "metadata": {},
   "outputs": [
    {
     "data": {
      "text/plain": [
       "'ayiakur si eman yM'"
      ]
     },
     "execution_count": 35,
     "metadata": {},
     "output_type": "execute_result"
    }
   ],
   "source": [
    "r[::-1]"
   ]
  },
  {
   "cell_type": "code",
   "execution_count": 36,
   "id": "cf51ac20",
   "metadata": {},
   "outputs": [
    {
     "data": {
      "text/plain": [
       "'aiy'"
      ]
     },
     "execution_count": 36,
     "metadata": {},
     "output_type": "execute_result"
    }
   ],
   "source": [
    "r[-4:-1] #Note since -4 and -1 fall in the same direction thats the reason step count is +1"
   ]
  },
  {
   "cell_type": "code",
   "execution_count": 37,
   "id": "b9250bd6",
   "metadata": {},
   "outputs": [
    {
     "data": {
      "text/plain": [
       "'My name is'"
      ]
     },
     "execution_count": 37,
     "metadata": {},
     "output_type": "execute_result"
    }
   ],
   "source": [
    "r[:-8]"
   ]
  },
  {
   "cell_type": "code",
   "execution_count": 38,
   "id": "a3247743",
   "metadata": {},
   "outputs": [
    {
     "data": {
      "text/plain": [
       "'yiaku'"
      ]
     },
     "execution_count": 38,
     "metadata": {},
     "output_type": "execute_result"
    }
   ],
   "source": [
    "r[-2:-7:-1]"
   ]
  },
  {
   "cell_type": "code",
   "execution_count": 1,
   "id": "a24f7b4a",
   "metadata": {},
   "outputs": [],
   "source": [
    "r=\"My name is rukaiya\""
   ]
  },
  {
   "cell_type": "code",
   "execution_count": 4,
   "id": "4be8f8de",
   "metadata": {},
   "outputs": [
    {
     "data": {
      "text/plain": [
       "'yiakur si eman yM'"
      ]
     },
     "execution_count": 4,
     "metadata": {},
     "output_type": "execute_result"
    }
   ],
   "source": [
    "r[-2::-1]"
   ]
  },
  {
   "cell_type": "markdown",
   "id": "9e260053",
   "metadata": {},
   "source": [
    "# For loop\n",
    "if we wanted to append or get particular characters or fetch something in particular we would need to use for loop\n",
    "It helps to iterate through the data"
   ]
  },
  {
   "cell_type": "code",
   "execution_count": 2,
   "id": "4fa0f8ef",
   "metadata": {
    "scrolled": true
   },
   "outputs": [
    {
     "name": "stdout",
     "output_type": "stream",
     "text": [
      "M\n",
      "y\n",
      " \n",
      "n\n",
      "a\n",
      "m\n",
      "e\n",
      " \n",
      "i\n",
      "s\n",
      " \n",
      "r\n",
      "u\n",
      "k\n",
      "a\n",
      "i\n",
      "y\n",
      "a\n"
     ]
    }
   ],
   "source": [
    "r=\"My name is rukaiya\"\n",
    "for i in r:\n",
    "    print(i)\n",
    "#For loop will keep iterating its dataset till the given condition is proven wrong, similar to while loop."
   ]
  },
  {
   "cell_type": "code",
   "execution_count": 4,
   "id": "6c7eadd6",
   "metadata": {
    "scrolled": true
   },
   "outputs": [
    {
     "name": "stdout",
     "output_type": "stream",
     "text": [
      "M\n",
      "y\n",
      " \n",
      "n\n",
      " Letter a is found in the string!\n",
      "a\n",
      "m\n",
      "e\n",
      " \n",
      "i\n",
      "s\n",
      " \n",
      "r\n",
      "u\n",
      "k\n",
      " Letter a is found in the string!\n",
      "a\n",
      "i\n",
      "y\n",
      " Letter a is found in the string!\n",
      "a\n"
     ]
    }
   ],
   "source": [
    "r=\"My name is rukaiya\"\n",
    "for i in r:\n",
    "    if i==\"a\":\n",
    "        print(\" Letter a is found in the string!\")\n",
    "    print(i)  "
   ]
  },
  {
   "cell_type": "code",
   "execution_count": null,
   "id": "ace8ddad",
   "metadata": {},
   "outputs": [],
   "source": []
  },
  {
   "cell_type": "code",
   "execution_count": 5,
   "id": "b1165cf3",
   "metadata": {},
   "outputs": [
    {
     "name": "stdout",
     "output_type": "stream",
     "text": [
      "M\n",
      "y\n",
      " \n",
      "n\n",
      "We found a!\n",
      "m\n",
      "e\n",
      " \n",
      "i\n",
      "s\n",
      " \n",
      "r\n",
      "u\n",
      "k\n",
      "We found a!\n",
      "i\n",
      "y\n",
      "We found a!\n"
     ]
    }
   ],
   "source": [
    "r=\"My name is rukaiya\"\n",
    "for i in r:\n",
    "    if i==\"a\":\n",
    "        print(\"We found a!\")\n",
    "        continue\n",
    "        \n",
    "    print(i)"
   ]
  },
  {
   "cell_type": "code",
   "execution_count": 43,
   "id": "80fd009b",
   "metadata": {},
   "outputs": [
    {
     "name": "stdout",
     "output_type": "stream",
     "text": [
      "M\n",
      "y\n",
      " \n",
      "n\n",
      "a\n",
      "m\n",
      "e\n",
      " \n",
      "i\n",
      "s\n",
      " \n",
      "r\n",
      "u\n",
      "k\n",
      "a\n",
      "i\n",
      "y\n",
      "a\n",
      "This is the else condition when entire for loop gets iterated and exhausted\n"
     ]
    }
   ],
   "source": [
    "for i in r:\n",
    "    print(i)\n",
    "else:\n",
    "    print(\"This is the else condition when entire for loop gets iterated and exhausted\")"
   ]
  },
  {
   "cell_type": "code",
   "execution_count": 44,
   "id": "5d91d511",
   "metadata": {
    "scrolled": true
   },
   "outputs": [
    {
     "name": "stdout",
     "output_type": "stream",
     "text": [
      "M\n",
      "y\n",
      " \n"
     ]
    }
   ],
   "source": [
    "for i in r:\n",
    "    if i==\"n\":\n",
    "        break\n",
    "    print(i)\n",
    "    \n",
    "else:\n",
    "    print(\"This is the else condition\")\n",
    "\n",
    "    "
   ]
  },
  {
   "cell_type": "markdown",
   "id": "c22d4efe",
   "metadata": {},
   "source": [
    "Break statement totally eliminates out of the loop."
   ]
  },
  {
   "cell_type": "markdown",
   "id": "7b711a57",
   "metadata": {},
   "source": [
    "# Spot THE DIFFERENCES in break statement and continue statement"
   ]
  },
  {
   "cell_type": "code",
   "execution_count": 45,
   "id": "6950b67e",
   "metadata": {},
   "outputs": [
    {
     "name": "stdout",
     "output_type": "stream",
     "text": [
      "M\n",
      "y\n",
      " \n",
      "a\n",
      "m\n",
      "e\n",
      " \n",
      "i\n",
      "s\n",
      " \n",
      "r\n",
      "u\n",
      "k\n",
      "a\n",
      "i\n",
      "y\n",
      "a\n",
      "Not valid\n"
     ]
    }
   ],
   "source": [
    "for i in r:\n",
    "    if i==\"n\":\n",
    "        continue\n",
    "    print(i)\n",
    "else:\n",
    "    print(\"Not valid\")\n",
    "    \n",
    "#LOGIC\n",
    "#here in for loop Only if <<<<<< i==\"n\": <<<<<< Satisfies the required will enter continue, \n",
    "#else it will print the print statement i.e  print(i) \n",
    "#But when it meets the requirement i.e i==\"n\": then it will enter continue skipping the print statement i.e print(i) and \n",
    "#will go back Again to for loop i.e i==\"n\": and then once it has iterated through all the characters then \n",
    "#it will enter else statement."
   ]
  },
  {
   "cell_type": "markdown",
   "id": "5b60b1ae",
   "metadata": {},
   "source": [
    "### Definition of continue statement So whatever is written for that iteration it will try to skip it and continue back in the loop."
   ]
  },
  {
   "cell_type": "code",
   "execution_count": 46,
   "id": "0fe10ba1",
   "metadata": {},
   "outputs": [],
   "source": [
    "#So all the possible things that are marked green are the inbuild functions"
   ]
  },
  {
   "cell_type": "code",
   "execution_count": 47,
   "id": "1d93c492",
   "metadata": {},
   "outputs": [
    {
     "name": "stdout",
     "output_type": "stream",
     "text": [
      "j\n",
      "u\n",
      "z\n",
      "e\n",
      "This is r\n",
      "m\n",
      "e\n",
      "This is r\n",
      "c\n",
      "h\n",
      "a\n",
      "n\n",
      "t\n"
     ]
    }
   ],
   "source": [
    "s=\"juzermerchant\"\n",
    "for i in s:\n",
    "    if i==\"r\":\n",
    "        print(\"This is r\")\n",
    "        continue\n",
    "    print(i)\n"
   ]
  },
  {
   "cell_type": "markdown",
   "id": "695bc115",
   "metadata": {},
   "source": [
    "# RANGE Function"
   ]
  },
  {
   "cell_type": "markdown",
   "id": "8fad3703",
   "metadata": {},
   "source": [
    "range(start, stop, step-1)"
   ]
  },
  {
   "cell_type": "code",
   "execution_count": 48,
   "id": "86ecf04a",
   "metadata": {
    "scrolled": true
   },
   "outputs": [
    {
     "name": "stdout",
     "output_type": "stream",
     "text": [
      "3\n",
      "4\n"
     ]
    }
   ],
   "source": [
    "#Create a sequence of numbers from 3 to 5, and print each item in the sequence:\n",
    "x=5\n",
    "for i in range(x):\n",
    "    if i>=3:\n",
    "        print(i)\n",
    "#Why does it not include 5 it should include it right???"
   ]
  },
  {
   "cell_type": "markdown",
   "id": "83bc21f8",
   "metadata": {},
   "source": [
    "SOLUTION\n",
    "Alternate method using range()"
   ]
  },
  {
   "cell_type": "code",
   "execution_count": 49,
   "id": "cf27d8df",
   "metadata": {},
   "outputs": [
    {
     "name": "stdout",
     "output_type": "stream",
     "text": [
      "3\n",
      "4\n",
      "5\n"
     ]
    }
   ],
   "source": [
    "x=5\n",
    "for i in range(x+1):\n",
    "    if i>=3:\n",
    "        print(i)\n",
    "    # Because the stop count excludes the range, if 5 it will only print upto 4 not 5 \n",
    "#even if we provide a statement.\n"
   ]
  },
  {
   "cell_type": "code",
   "execution_count": 21,
   "id": "9f708788",
   "metadata": {},
   "outputs": [
    {
     "name": "stdout",
     "output_type": "stream",
     "text": [
      "3\n",
      "5\n",
      "7\n",
      "9\n",
      "11\n",
      "13\n",
      "15\n",
      "17\n",
      "\r\n",
      "Second code\n",
      "\r\n",
      "3\n",
      "5\n",
      "7\n",
      "9\n",
      "11\n",
      "13\n",
      "15\n",
      "17\n",
      "19\n"
     ]
    }
   ],
   "source": [
    "#Create a sequence of numbers from 3 to 19, but increment by 2 instead of 1:\n",
    "for i in range(3,19,2):#Here theres a mistake we need to keep the stop count as 20 instead of 19 because stop point excludes\n",
    "#the last number--print upper bound(3,20,2)\n",
    "    print(i)\n",
    "print(\"\\r\") \n",
    "print(\"Second code\")\n",
    "print(\"\\r\")\n",
    "#Strictly using only range function\n",
    "x = range(3, 20, 2)\n",
    "for n in x:\n",
    "  print(n)"
   ]
  },
  {
   "cell_type": "code",
   "execution_count": 51,
   "id": "147e6243",
   "metadata": {},
   "outputs": [
    {
     "name": "stdout",
     "output_type": "stream",
     "text": [
      "3\n",
      "5\n",
      "7\n",
      "9\n",
      "11\n",
      "13\n",
      "15\n",
      "17\n",
      "19\n"
     ]
    }
   ],
   "source": [
    "#Create a sequence of numbers from 3 to 19, but increment by 2 instead of 1\n",
    "\n",
    "\n",
    "for i in range(3,20,2):\n",
    "    print(i)\n",
    "    \n",
    "    "
   ]
  },
  {
   "cell_type": "code",
   "execution_count": 52,
   "id": "9b316c33",
   "metadata": {},
   "outputs": [
    {
     "name": "stdout",
     "output_type": "stream",
     "text": [
      "3\n",
      "4\n",
      "5\n"
     ]
    }
   ],
   "source": [
    "#Create a sequence of numbers from 3 to 5, and print each item in the sequence:\n",
    "\n",
    "x = range(3, 6)\n",
    "for n in x:\n",
    "    print(n)"
   ]
  },
  {
   "cell_type": "code",
   "execution_count": 22,
   "id": "ceb21325",
   "metadata": {},
   "outputs": [],
   "source": [
    "s=\"ineuron\"\n",
    "while i in range(len(s)):\n",
    "    if i==\"n\":\n",
    "        continue"
   ]
  },
  {
   "cell_type": "code",
   "execution_count": 54,
   "id": "1df4d880",
   "metadata": {},
   "outputs": [
    {
     "name": "stdout",
     "output_type": "stream",
     "text": [
      "r\n",
      "u\n",
      "k\n",
      "a\n",
      "i\n",
      "y\n",
      "a\n"
     ]
    }
   ],
   "source": [
    "s=\"rukaiya\"\n",
    "for i in range(len(s)):\n",
    "    print(s[i])"
   ]
  },
  {
   "cell_type": "code",
   "execution_count": 55,
   "id": "573c5747",
   "metadata": {
    "scrolled": true
   },
   "outputs": [
    {
     "name": "stdout",
     "output_type": "stream",
     "text": [
      "1\n",
      "2\n",
      "3\n",
      "We found 4th index\n",
      "We found 5th index\n"
     ]
    }
   ],
   "source": [
    "s=\"ruksie\"\n",
    "for i in range(1,len(s)):\n",
    "    if i == 4 :\n",
    "        print(\"We found 4th index\")\n",
    "        continue\n",
    "    elif i==5:\n",
    "        print(\"We found 5th index\")\n",
    "        continue\n",
    "    print(i)\n",
    "    "
   ]
  },
  {
   "cell_type": "code",
   "execution_count": 23,
   "id": "9e68e1c5",
   "metadata": {},
   "outputs": [
    {
     "name": "stdout",
     "output_type": "stream",
     "text": [
      "n\n",
      "e\n",
      "u\n",
      "r\n",
      "o\n",
      "n\n"
     ]
    }
   ],
   "source": [
    "for i in range(1,len(s)):\n",
    "    if s[i] == r:\n",
    "        print(\"Found r\")\n",
    "        continue\n",
    "    \n",
    "    print(s[i])"
   ]
  },
  {
   "cell_type": "code",
   "execution_count": 57,
   "id": "5547813b",
   "metadata": {},
   "outputs": [
    {
     "name": "stdout",
     "output_type": "stream",
     "text": [
      "u\n",
      "k\n",
      "s\n",
      "i\n",
      "e\n"
     ]
    }
   ],
   "source": [
    "for i in range(1,len(s)):\n",
    "    if s[i]==r:\n",
    "        break\n",
    "    print(s[i])"
   ]
  },
  {
   "cell_type": "code",
   "execution_count": 58,
   "id": "f9dd8679",
   "metadata": {},
   "outputs": [
    {
     "name": "stdout",
     "output_type": "stream",
     "text": [
      "i\n",
      "e\n",
      "u\n",
      "r\n",
      "o\n"
     ]
    }
   ],
   "source": [
    "s=\"ineuron\"\n",
    "for i in range(len(s)):\n",
    "    if s[i]==\"n\":\n",
    "        continue\n",
    "    print(s[i])"
   ]
  },
  {
   "cell_type": "code",
   "execution_count": 61,
   "id": "d07f93bf",
   "metadata": {
    "scrolled": true
   },
   "outputs": [
    {
     "ename": "TypeError",
     "evalue": "'int' object is not iterable",
     "output_type": "error",
     "traceback": [
      "\u001b[1;31m---------------------------------------------------------------------------\u001b[0m",
      "\u001b[1;31mTypeError\u001b[0m                                 Traceback (most recent call last)",
      "\u001b[1;32mC:\\Users\\RUKAIY~1\\AppData\\Local\\Temp/ipykernel_18596/1225929921.py\u001b[0m in \u001b[0;36m<module>\u001b[1;34m\u001b[0m\n\u001b[1;32m----> 1\u001b[1;33m \u001b[1;32mfor\u001b[0m \u001b[0mi\u001b[0m \u001b[1;32min\u001b[0m \u001b[0ms\u001b[0m\u001b[1;33m:\u001b[0m\u001b[1;31m#Reason for using range function! READ THE ERROR\u001b[0m\u001b[1;33m\u001b[0m\u001b[1;33m\u001b[0m\u001b[0m\n\u001b[0m\u001b[0;32m      2\u001b[0m     \u001b[1;32mif\u001b[0m \u001b[0ms\u001b[0m\u001b[1;33m[\u001b[0m\u001b[0mi\u001b[0m\u001b[1;33m]\u001b[0m\u001b[1;33m==\u001b[0m\u001b[0mn\u001b[0m\u001b[1;33m:\u001b[0m\u001b[1;33m\u001b[0m\u001b[1;33m\u001b[0m\u001b[0m\n\u001b[0;32m      3\u001b[0m         \u001b[1;32mcontinue\u001b[0m\u001b[1;33m\u001b[0m\u001b[1;33m\u001b[0m\u001b[0m\n\u001b[0;32m      4\u001b[0m     \u001b[0mprint\u001b[0m\u001b[1;33m(\u001b[0m\u001b[0ms\u001b[0m\u001b[1;33m[\u001b[0m\u001b[0mi\u001b[0m\u001b[1;33m]\u001b[0m\u001b[1;33m)\u001b[0m\u001b[1;33m\u001b[0m\u001b[1;33m\u001b[0m\u001b[0m\n",
      "\u001b[1;31mTypeError\u001b[0m: 'int' object is not iterable"
     ]
    }
   ],
   "source": [
    "for i in s:#Reason for using range function! READ THE ERROR \n",
    "    if s[i]==n:\n",
    "        continue\n",
    "    print(s[i])"
   ]
  },
  {
   "cell_type": "code",
   "execution_count": 60,
   "id": "c54334ab",
   "metadata": {},
   "outputs": [
    {
     "name": "stdout",
     "output_type": "stream",
     "text": [
      "* * * "
     ]
    }
   ],
   "source": [
    "s=3\n",
    "for i in range(s):\n",
    "    print(\"*\",end=\" \")"
   ]
  },
  {
   "cell_type": "code",
   "execution_count": 7,
   "id": "822ab537",
   "metadata": {},
   "outputs": [
    {
     "name": "stdout",
     "output_type": "stream",
     "text": [
      "+ + + + + + + + \n",
      "+ + + + + + + \n",
      "+ + + + + + \n",
      "+ + + + + \n",
      "+ + + + \n",
      "+ + + \n",
      "+ + \n",
      "+ \n"
     ]
    }
   ],
   "source": [
    "a=8\n",
    "for r in range(a):\n",
    "    for k in range(r,a):\n",
    "        print(\"+\",end=\" \")\n",
    "    print()"
   ]
  },
  {
   "cell_type": "code",
   "execution_count": 12,
   "id": "682c2eab",
   "metadata": {},
   "outputs": [
    {
     "name": "stdout",
     "output_type": "stream",
     "text": [
      "* * * * * * * * \n",
      "* * * * * * * \n",
      "* * * * * * \n",
      "* * * * * \n",
      "* * * * \n",
      "* * * \n",
      "* * \n",
      "* \n"
     ]
    }
   ],
   "source": [
    "x=8\n",
    "for i in range(x):\n",
    "    for j in range(x-i):\n",
    "        print(\"*\",end=\" \")\n",
    "    print()"
   ]
  },
  {
   "cell_type": "code",
   "execution_count": 9,
   "id": "c5ba6b89",
   "metadata": {},
   "outputs": [
    {
     "name": "stdout",
     "output_type": "stream",
     "text": [
      "* * * * * * * \n",
      " * * * * * * \n",
      "  * * * * * \n",
      "   * * * * \n",
      "    * * * \n",
      "     * * \n",
      "      * \n"
     ]
    }
   ],
   "source": [
    "row=7\n",
    "for i in range(row,0,-1):\n",
    "    for j in range(row-i):\n",
    "        print(\" \",end=\"\")\n",
    "    \n",
    "    for j in range(i):\n",
    "        print(\"* \",end=\"\")\n",
    "    print()\n",
    "    \n",
    "    \n",
    "        \n",
    "    "
   ]
  },
  {
   "cell_type": "code",
   "execution_count": 88,
   "id": "ff79fee0",
   "metadata": {
    "scrolled": false
   },
   "outputs": [
    {
     "name": "stdout",
     "output_type": "stream",
     "text": [
      "  * * * * * * * * * * * * * * * * * \n",
      "    * * * * * * * * * * * * * * * \n",
      "      * * * * * * * * * * * * * \n",
      "        * * * * * * * * * * * \n",
      "          * * * * * * * * * \n",
      "            * * * * * * * \n",
      "              * * * * * \n",
      "                * * * \n",
      "                  * \n",
      "*************\n",
      " ***********\n",
      "  *********\n",
      "   *******\n",
      "    *****\n",
      "     ***\n",
      "      *\n",
      "* * * * * * * \n",
      "+* * * * * * \n",
      "++* * * * * \n",
      "+++* * * * \n",
      "++++* * * \n",
      "+++++* * \n",
      "++++++* \n"
     ]
    }
   ],
   "source": [
    "a=9\n",
    "for i in range(a):\n",
    "    for j in range(i+1):\n",
    "        print(\" \",end=\" \")\n",
    "    for j in range(a-i-1):\n",
    "        print(\"*\",end=\" \")\n",
    "    for j in range(a-i):\n",
    "        print(\"*\",end=\" \")\n",
    "\n",
    "    print()\n",
    "    \n",
    "#Code explained by Sir in lecture\n",
    "row=7\n",
    "for number in range(row,0,-1):\n",
    "    for column in range(row-number):\n",
    "        print(\" \",end=\"\")\n",
    "    for column in range(2*number-1):\n",
    "        print(\"*\", end=\"\")\n",
    "    print()  \n",
    "    \n",
    "#Another code\n",
    "row=7\n",
    "for number in range(row,0,-1):\n",
    "    for column in range(row-number):\n",
    "        print(\"+\",end=\"\")\n",
    "    for column in range(number):\n",
    "        print(\"* \", end=\"\")\n",
    "    print()\n"
   ]
  },
  {
   "cell_type": "markdown",
   "id": "3c3b4357",
   "metadata": {},
   "source": [
    "# BREAK THE PROBLEM USING RANGE FUNCTION"
   ]
  },
  {
   "cell_type": "code",
   "execution_count": 128,
   "id": "792ea7cf",
   "metadata": {},
   "outputs": [
    {
     "name": "stdout",
     "output_type": "stream",
     "text": [
      "6\n",
      "5\n",
      "4\n",
      "3\n",
      "2\n",
      "1\n"
     ]
    }
   ],
   "source": [
    "for number in range(6,0,-1):\n",
    "    print(number)"
   ]
  },
  {
   "cell_type": "code",
   "execution_count": 131,
   "id": "03f4e6d1",
   "metadata": {},
   "outputs": [
    {
     "name": "stdout",
     "output_type": "stream",
     "text": [
      "0\n"
     ]
    }
   ],
   "source": [
    " for column in range(6-5):\n",
    "        print(column)"
   ]
  },
  {
   "cell_type": "code",
   "execution_count": 174,
   "id": "a6c750e6",
   "metadata": {},
   "outputs": [
    {
     "name": "stdout",
     "output_type": "stream",
     "text": [
      "7\n",
      "6\n",
      "5\n",
      "4\n",
      "3\n",
      "2\n",
      "1\n"
     ]
    }
   ],
   "source": [
    "for number in range(row,0,-1):\n",
    "    print(number)"
   ]
  },
  {
   "cell_type": "code",
   "execution_count": 235,
   "id": "16f1d291",
   "metadata": {},
   "outputs": [
    {
     "name": "stdout",
     "output_type": "stream",
     "text": [
      "* * * * * * * \n",
      " * * * * * * \n",
      "  * * * * * \n",
      "   * * * * \n",
      "    * * * \n",
      "     * * \n",
      "      * \n"
     ]
    }
   ],
   "source": [
    "\n",
    "row=7\n",
    "for number in range(row,0,-1):\n",
    "    for column in range(row-number):\n",
    "        print(\" \",end=\"\")\n",
    "    for column in range(number):\n",
    "        print(\"* \", end=\"\")\n",
    "    print()\n",
    "\n",
    "    #for column in range()"
   ]
  },
  {
   "cell_type": "code",
   "execution_count": 219,
   "id": "562c85a9",
   "metadata": {},
   "outputs": [
    {
     "name": "stdout",
     "output_type": "stream",
     "text": [
      "*************\n",
      " ***********\n",
      "  *********\n",
      "   *******\n",
      "    *****\n",
      "     ***\n",
      "      *\n"
     ]
    }
   ],
   "source": [
    "#Code explained by Sir in lecture\n",
    "row=7\n",
    "for number in range(row,0,-1):\n",
    "    for column in range(row-number):\n",
    "        print(\" \",end=\"\")\n",
    "    for column in range(2*number-1):\n",
    "        print(\"*\", end=\"\")\n",
    "    print()\n"
   ]
  },
  {
   "cell_type": "code",
   "execution_count": 249,
   "id": "95211373",
   "metadata": {},
   "outputs": [
    {
     "name": "stdout",
     "output_type": "stream",
     "text": [
      "        * * * * * * \r\n",
      "         * * * * * \r\n",
      "          * * * * \r\n",
      "           * * * \r\n",
      "            * * \r\n",
      "             * \r\n"
     ]
    }
   ],
   "source": [
    "#Code explained by sir in lecture\n",
    "num=5\n",
    "m=2*num-2\n",
    "for i in range(num,-1,-1):\n",
    "    for j in range(m,0,-1):\n",
    "        print(\" \",end=\"\")\n",
    "    m=m+1\n",
    "    for j in range(0,i+1):\n",
    "        print(\"* \",end=\"\")\n",
    "    print(\"\\r\")\n",
    "    \n",
    "    \n",
    "#PRINT THREM SEPARATELY TO UNDERSTAND    \n",
    "#for i in range(5,-1,-1):print(i)    \n",
    "#for j in range(8,0,-1):print(j)"
   ]
  },
  {
   "cell_type": "markdown",
   "id": "dcccfc2a",
   "metadata": {},
   "source": [
    "# The above and below codes are same please check"
   ]
  },
  {
   "cell_type": "code",
   "execution_count": 247,
   "id": "d61404b3",
   "metadata": {
    "scrolled": true
   },
   "outputs": [
    {
     "name": "stdout",
     "output_type": "stream",
     "text": [
      "        * * * * * *  \n",
      "         * * * * *  \n",
      "          * * * *  \n",
      "           * * *  \n",
      "            * *  \n",
      "             *  \n"
     ]
    }
   ],
   "source": [
    "#Code on Udemy\n",
    "rows = 5\n",
    "\n",
    "k = 2 * rows-2\n",
    "\n",
    "for i in range(rows, -1, -1):\n",
    "\n",
    "    for j in range(k, 0, -1):\n",
    "\n",
    "        print(\" \",end=\"\")\n",
    "\n",
    "    k = k + 1\n",
    "\n",
    "    for j in range(0, i + 1):# to get 5 rows (1,i+1)\n",
    "\n",
    "        print(\"*\", end=\" \")\n",
    "\n",
    "    print(\" \")"
   ]
  },
  {
   "cell_type": "code",
   "execution_count": 223,
   "id": "831c5109",
   "metadata": {},
   "outputs": [
    {
     "name": "stdout",
     "output_type": "stream",
     "text": [
      "5\n",
      "4\n",
      "3\n",
      "2\n",
      "1\n",
      "0\n"
     ]
    }
   ],
   "source": [
    "for i in range(5, -1, -1):\n",
    "    print(i)"
   ]
  },
  {
   "cell_type": "code",
   "execution_count": 224,
   "id": "3adaa6de",
   "metadata": {},
   "outputs": [
    {
     "name": "stdout",
     "output_type": "stream",
     "text": [
      "8\n",
      "7\n",
      "6\n",
      "5\n",
      "4\n",
      "3\n",
      "2\n",
      "1\n"
     ]
    }
   ],
   "source": [
    "for j in range(8, 0, -1):\n",
    "    print(j)"
   ]
  },
  {
   "cell_type": "code",
   "execution_count": 253,
   "id": "6e3aaadd",
   "metadata": {},
   "outputs": [
    {
     "name": "stdout",
     "output_type": "stream",
     "text": [
      "0\n",
      "11\n",
      "222\n",
      "3333\n",
      "44444\n",
      "555555\n"
     ]
    }
   ],
   "source": [
    "rows = 6\n",
    "\n",
    "for num in range(rows):\n",
    "\n",
    "    for i in range(num+1):\n",
    "\n",
    "        print(num, end=\"\") # print number\n",
    "\n",
    "    # line after each row to display pattern correctly\n",
    "\n",
    "    print(\"\")"
   ]
  },
  {
   "cell_type": "code",
   "execution_count": 264,
   "id": "ffc42971",
   "metadata": {},
   "outputs": [
    {
     "name": "stdout",
     "output_type": "stream",
     "text": [
      "-------* * * * * * \r\n",
      "--------* * * * * \r\n",
      "---------* * * * \r\n",
      "----------* * * \r\n",
      "-----------* * \r\n",
      "------------* \r\n"
     ]
    }
   ],
   "source": [
    "rows=6\n",
    "imag=rows*2-6\n",
    "for number in range(0,rows):\n",
    "    for j in range(imag,-1,-1):#Why spaces are printed 7 instead of 6? and when the range is (imag,0,-1) only 6 spaces are created?\n",
    "        print(\"-\",end=\"\")\n",
    "    imag+=1\n",
    "    for j in range(rows-number):\n",
    "        print(\"* \",end=\"\")\n",
    "    print(\"\\r\")\n",
    "        "
   ]
  },
  {
   "cell_type": "code",
   "execution_count": 265,
   "id": "aa6f9793",
   "metadata": {},
   "outputs": [
    {
     "name": "stdout",
     "output_type": "stream",
     "text": [
      "6\n",
      "5\n",
      "4\n",
      "3\n",
      "2\n",
      "1\n"
     ]
    }
   ],
   "source": [
    "for j in range(6,0,-1):\n",
    "    print(j)"
   ]
  },
  {
   "cell_type": "code",
   "execution_count": 93,
   "id": "80393e30",
   "metadata": {},
   "outputs": [
    {
     "name": "stdout",
     "output_type": "stream",
     "text": [
      "1\r\n",
      "22\r\n",
      "333\r\n",
      "4444\r\n",
      "55555\r\n",
      "666666\r\n",
      "7777777\r\n"
     ]
    }
   ],
   "source": [
    "row=7\n",
    "for number in range(1,row+1):\n",
    "    for column in range(number):\n",
    "        print(number,end=\"\")\n",
    "    print(\"\\r\")"
   ]
  },
  {
   "cell_type": "code",
   "execution_count": 269,
   "id": "e5eb0dd7",
   "metadata": {},
   "outputs": [
    {
     "name": "stdout",
     "output_type": "stream",
     "text": [
      "1\n",
      "2\n",
      "3\n",
      "4\n",
      "5\n",
      "6\n",
      "7\n",
      "8\n",
      "9\n"
     ]
    }
   ],
   "source": [
    "rows=9\n",
    "for number in range(1,rows+1):\n",
    "    print(number)"
   ]
  },
  {
   "cell_type": "code",
   "execution_count": 272,
   "id": "cf2583fc",
   "metadata": {},
   "outputs": [
    {
     "name": "stdout",
     "output_type": "stream",
     "text": [
      "1\r\n",
      "22\r\n",
      "333\r\n",
      "4444\r\n",
      "55555\r\n",
      "666666\r\n",
      "7777777\r\n",
      "88888888\r\n",
      "999999999\r\n"
     ]
    }
   ],
   "source": [
    "rows=9\n",
    "for number in range(1,rows+1):\n",
    "    for j in range(number):\n",
    "        print(number,end=\"\")\n",
    "    print(\"\\r\")"
   ]
  },
  {
   "cell_type": "code",
   "execution_count": null,
   "id": "50703c72",
   "metadata": {},
   "outputs": [],
   "source": []
  },
  {
   "cell_type": "code",
   "execution_count": 95,
   "id": "0a13be0c",
   "metadata": {},
   "outputs": [
    {
     "name": "stdout",
     "output_type": "stream",
     "text": [
      "* * * * * * * *  \n",
      "* * * * * * *  \n",
      "* * * * * *  \n",
      "* * * * *  \n",
      "* * * *  \n",
      "* * *  \n",
      "* *  \n",
      "*  \n"
     ]
    }
   ],
   "source": [
    "#Inverse of the above pattern\n",
    "row=8\n",
    "for number in range(row,0,-1):\n",
    "    for column in range(number):\n",
    "        print(\"*\",end=\" \")\n",
    "    print(\" \")"
   ]
  },
  {
   "cell_type": "code",
   "execution_count": null,
   "id": "4c5f4e99",
   "metadata": {},
   "outputs": [],
   "source": []
  },
  {
   "cell_type": "markdown",
   "id": "a5eec86e",
   "metadata": {},
   "source": [
    "# VARIATION 2"
   ]
  },
  {
   "cell_type": "code",
   "execution_count": 206,
   "id": "8074326d",
   "metadata": {},
   "outputs": [
    {
     "name": "stdout",
     "output_type": "stream",
     "text": [
      "*  *  *  *  *  *  *   \n",
      "*  *  *  *  *  *   \n",
      "*  *  *  *  *   \n",
      "*  *  *  *   \n",
      "*  *  *   \n",
      "*  *   \n",
      "*   \n"
     ]
    }
   ],
   "source": [
    "#Only seven columns printed cross check\n",
    "row=8\n",
    "for number in range(row,1,-1):#Because the stop point is 1\n",
    "    for column in range(number-1):\n",
    "        print(\"*\",end=\" \")\n",
    "    print(\" \")"
   ]
  },
  {
   "cell_type": "code",
   "execution_count": 205,
   "id": "07c52b74",
   "metadata": {},
   "outputs": [
    {
     "name": "stdout",
     "output_type": "stream",
     "text": [
      "        * \n",
      "       * * \n",
      "      * * * \n",
      "     * * * * \n",
      "    * * * * * \n",
      "   * * * * * * \n",
      "  * * * * * * * \n",
      " * * * * * * * * \n",
      "* * * * * * * * * \n"
     ]
    }
   ],
   "source": [
    "#Sirs question using while loop\n",
    "n=9\n",
    "i=0\n",
    "while i<n:\n",
    "    print(' '*(n-i-1)+'* '*(i+1))#String parcing example \n",
    "#s*5='sssss' so hence ' '*(n-i-1)=''*8=empty 8 spaces similarly break the problem down\n",
    "    i +=1\n",
    "    \n",
    "   "
   ]
  },
  {
   "cell_type": "code",
   "execution_count": 274,
   "id": "f01bc19c",
   "metadata": {},
   "outputs": [
    {
     "name": "stdout",
     "output_type": "stream",
     "text": [
      "Please enter the amount of rows: 9\n",
      "        *\n",
      "       ***\n",
      "      *****\n",
      "     *******\n",
      "    *********\n",
      "   ***********\n",
      "  *************\n",
      " ***************\n",
      "*****************\n",
      "**iNeuron-FSDS**\n"
     ]
    }
   ],
   "source": [
    "#LEARN AND UNDERSTAND\n",
    "userInput = int(input(\"Please enter the amount of rows: \"))\n",
    "\n",
    "row = 0\n",
    "while(row < userInput):\n",
    "    row += 1\n",
    "    spaces = userInput - row\n",
    "\n",
    "    spaces_counter = 0\n",
    "    while(spaces_counter < spaces):\n",
    "        print(\" \", end='')\n",
    "        spaces_counter += 1\n",
    "\n",
    "    num_stars = 2*row-1\n",
    "    while(num_stars > 0):\n",
    "        print(\"*\", end='')\n",
    "        num_stars -= 1\n",
    "\n",
    "    print()\n",
    "print(\"**iNeuron-FSDS**\")\n"
   ]
  },
  {
   "cell_type": "markdown",
   "id": "f152568f",
   "metadata": {},
   "source": [
    "# List data structure"
   ]
  },
  {
   "cell_type": "raw",
   "id": "8f11f69e",
   "metadata": {},
   "source": [
    "So in Core python programming language there is no Array data structure, we can find one in numerical python eg: numpy"
   ]
  },
  {
   "cell_type": "markdown",
   "id": "7a43e60a",
   "metadata": {},
   "source": [
    "LIST IS AN ALTERNATIVE\n",
    "A List holds a homogenous or heterogenous datatype in a list.\n",
    "We need a variable where we can store name, no,eid etc."
   ]
  },
  {
   "cell_type": "code",
   "execution_count": 285,
   "id": "4cb2fdf8",
   "metadata": {},
   "outputs": [],
   "source": [
    "l=list()"
   ]
  },
  {
   "cell_type": "code",
   "execution_count": 88,
   "id": "ae077d73",
   "metadata": {},
   "outputs": [],
   "source": [
    "l=[] #l=[\"ruks\", 8355,\"rukaiya\",\"abc jkl\"]\n",
    "l1=list() "
   ]
  },
  {
   "cell_type": "code",
   "execution_count": 90,
   "id": "5c8e4263",
   "metadata": {},
   "outputs": [],
   "source": [
    "l4=1,2,3"
   ]
  },
  {
   "cell_type": "code",
   "execution_count": 91,
   "id": "ade61eea",
   "metadata": {},
   "outputs": [],
   "source": [
    "l4=list()"
   ]
  },
  {
   "cell_type": "code",
   "execution_count": 93,
   "id": "bb96f414",
   "metadata": {},
   "outputs": [
    {
     "data": {
      "text/plain": [
       "list"
      ]
     },
     "execution_count": 93,
     "metadata": {},
     "output_type": "execute_result"
    }
   ],
   "source": [
    "type(l4)"
   ]
  },
  {
   "cell_type": "code",
   "execution_count": 94,
   "id": "c7ede35d",
   "metadata": {},
   "outputs": [
    {
     "data": {
      "text/plain": [
       "list"
      ]
     },
     "execution_count": 94,
     "metadata": {},
     "output_type": "execute_result"
    }
   ],
   "source": [
    "type(l)"
   ]
  },
  {
   "cell_type": "code",
   "execution_count": null,
   "id": "521da652",
   "metadata": {},
   "outputs": [],
   "source": [
    "name=\"ruks\"\n",
    "number=8355\n",
    "email=\"rukaiya\"\n",
    "add=\"abc jkl\"\n",
    "\n",
    "#OR\n",
    "\n",
    "name, number, email, add=\"ruks\", 8355,\"rukaiya\",\"abc jkl\"\n",
    "\n",
    "#But what if I dont want to assign too many variables and want it all atonce???\n"
   ]
  },
  {
   "cell_type": "markdown",
   "id": "40b23acc",
   "metadata": {},
   "source": [
    "So we have multiple choices, out of which one is LIST DATA STRUCTURE"
   ]
  },
  {
   "cell_type": "code",
   "execution_count": 3,
   "id": "57db59b6",
   "metadata": {},
   "outputs": [],
   "source": []
  },
  {
   "cell_type": "code",
   "execution_count": 288,
   "id": "e5380f8d",
   "metadata": {},
   "outputs": [
    {
     "data": {
      "text/plain": [
       "'ruks'"
      ]
     },
     "execution_count": 288,
     "metadata": {},
     "output_type": "execute_result"
    }
   ],
   "source": [
    "l[0]"
   ]
  },
  {
   "cell_type": "code",
   "execution_count": 289,
   "id": "1e0f1d49",
   "metadata": {},
   "outputs": [
    {
     "data": {
      "text/plain": [
       "8355"
      ]
     },
     "execution_count": 289,
     "metadata": {},
     "output_type": "execute_result"
    }
   ],
   "source": [
    "l[1]"
   ]
  },
  {
   "cell_type": "code",
   "execution_count": 290,
   "id": "bebe407e",
   "metadata": {},
   "outputs": [
    {
     "data": {
      "text/plain": [
       "'rukaiya'"
      ]
     },
     "execution_count": 290,
     "metadata": {},
     "output_type": "execute_result"
    }
   ],
   "source": [
    "l[2]"
   ]
  },
  {
   "cell_type": "code",
   "execution_count": 293,
   "id": "a484936d",
   "metadata": {},
   "outputs": [
    {
     "data": {
      "text/plain": [
       "['ruks', 8355, 'rukaiya', 'abc jkl']"
      ]
     },
     "execution_count": 293,
     "metadata": {},
     "output_type": "execute_result"
    }
   ],
   "source": [
    "l #Similar to string data type list data structure has indexes that start from 0 and move towards 1, 2, 3 etc..."
   ]
  },
  {
   "cell_type": "code",
   "execution_count": 292,
   "id": "2d7a29c9",
   "metadata": {},
   "outputs": [
    {
     "data": {
      "text/plain": [
       "'abc jkl'"
      ]
     },
     "execution_count": 292,
     "metadata": {},
     "output_type": "execute_result"
    }
   ],
   "source": [
    "l[3]"
   ]
  },
  {
   "cell_type": "code",
   "execution_count": 294,
   "id": "e43ace48",
   "metadata": {},
   "outputs": [
    {
     "data": {
      "text/plain": [
       "list"
      ]
     },
     "execution_count": 294,
     "metadata": {},
     "output_type": "execute_result"
    }
   ],
   "source": [
    "type(l)"
   ]
  },
  {
   "cell_type": "code",
   "execution_count": null,
   "id": "e2a7daa0",
   "metadata": {},
   "outputs": [],
   "source": [
    "So now we can append or delete or add using OPERATIONS \n",
    "so there is LIST OPERATIONS & STRING OPERATIONS"
   ]
  },
  {
   "cell_type": "markdown",
   "id": "90ce3cbc",
   "metadata": {},
   "source": [
    "# Ways of creating a list"
   ]
  },
  {
   "cell_type": "code",
   "execution_count": 81,
   "id": "ca6e8fe6",
   "metadata": {
    "scrolled": true
   },
   "outputs": [
    {
     "data": {
      "text/plain": [
       "list"
      ]
     },
     "execution_count": 81,
     "metadata": {},
     "output_type": "execute_result"
    }
   ],
   "source": [
    "#ONE\n",
    "#Creating an empty list\n",
    "l1=[]\n",
    "type(l1)"
   ]
  },
  {
   "cell_type": "code",
   "execution_count": 83,
   "id": "e838dcb2",
   "metadata": {},
   "outputs": [
    {
     "data": {
      "text/plain": [
       "list"
      ]
     },
     "execution_count": 83,
     "metadata": {},
     "output_type": "execute_result"
    }
   ],
   "source": [
    "l2=[]\n",
    "type(l2)"
   ]
  },
  {
   "cell_type": "code",
   "execution_count": 82,
   "id": "7e4d528f",
   "metadata": {},
   "outputs": [
    {
     "data": {
      "text/plain": [
       "[]"
      ]
     },
     "execution_count": 82,
     "metadata": {},
     "output_type": "execute_result"
    }
   ],
   "source": [
    "#TWO\n",
    "#Another way of creating a list is-\n",
    "l2=list()\n",
    "#where l2 is a variable assigned to FUNCTION LIST()\n",
    "l2\n",
    "#So when we call for l2 it shows []\n"
   ]
  },
  {
   "cell_type": "code",
   "execution_count": 2,
   "id": "44e14191",
   "metadata": {},
   "outputs": [],
   "source": [
    "l=[\"ruks\", 8355,\"rukaiya\",\"abc jkl\",True,25+89j,[2,3,4,\"asjk\"],2.62]"
   ]
  },
  {
   "cell_type": "code",
   "execution_count": 3,
   "id": "0fdb19f4",
   "metadata": {},
   "outputs": [
    {
     "data": {
      "text/plain": [
       "['ruks', 8355, 'rukaiya', 'abc jkl', True, (25+89j), [2, 3, 4, 'asjk'], 2.62]"
      ]
     },
     "execution_count": 3,
     "metadata": {},
     "output_type": "execute_result"
    }
   ],
   "source": [
    "l"
   ]
  },
  {
   "cell_type": "code",
   "execution_count": 4,
   "id": "5f08aff1",
   "metadata": {},
   "outputs": [
    {
     "data": {
      "text/plain": [
       "list"
      ]
     },
     "execution_count": 4,
     "metadata": {},
     "output_type": "execute_result"
    }
   ],
   "source": [
    "type(l)"
   ]
  },
  {
   "cell_type": "code",
   "execution_count": 5,
   "id": "461c0c81",
   "metadata": {
    "scrolled": true
   },
   "outputs": [
    {
     "name": "stdout",
     "output_type": "stream",
     "text": [
      "<class 'str'>\n",
      "<class 'int'>\n",
      "<class 'str'>\n",
      "<class 'str'>\n",
      "<class 'bool'>\n",
      "<class 'complex'>\n",
      "<class 'list'>\n",
      "<class 'float'>\n"
     ]
    }
   ],
   "source": [
    "#To print the type of every possible data type present in the list\n",
    "\n",
    "for i in l:\n",
    "    print(type(i))"
   ]
  },
  {
   "cell_type": "code",
   "execution_count": 115,
   "id": "d26daa82",
   "metadata": {},
   "outputs": [
    {
     "name": "stdout",
     "output_type": "stream",
     "text": [
      "8355\n",
      "8357.62\n"
     ]
    }
   ],
   "source": [
    "count=0\n",
    "\n",
    "for i in l:\n",
    "    if type(i)==float or type(i)==int :\n",
    "        count=count+i\n",
    "        print(count)\n",
    "          \n",
    "                    \n",
    "        "
   ]
  },
  {
   "cell_type": "code",
   "execution_count": 7,
   "id": "8d0568be",
   "metadata": {},
   "outputs": [
    {
     "name": "stdout",
     "output_type": "stream",
     "text": [
      "<class 'str'>\n",
      "<class 'int'>\n",
      "<class 'str'>\n",
      "<class 'str'>\n",
      "<class 'bool'>\n",
      "<class 'complex'>\n",
      "<class 'list'>\n",
      "<class 'float'>\n"
     ]
    }
   ],
   "source": [
    "#To print the type of every possible data type present in the list\n",
    "for i in l:\n",
    "    print(type(i))"
   ]
  },
  {
   "cell_type": "code",
   "execution_count": 126,
   "id": "6c818acb",
   "metadata": {},
   "outputs": [
    {
     "name": "stdout",
     "output_type": "stream",
     "text": [
      "9\n"
     ]
    }
   ],
   "source": [
    "l=[\"ruks\", 8355,\"rukaiya\",\"abc jkl\",True,25+89j,[2,3,4,\"asjk\"],2.62]\n",
    "for i in l:\n",
    "    if type(i)==list:\n",
    "        n=0\n",
    "        for j in i:\n",
    "            if type(j)==int:\n",
    "                n=n+j\n",
    "        print(n)"
   ]
  },
  {
   "cell_type": "code",
   "execution_count": 136,
   "id": "0adb157a",
   "metadata": {},
   "outputs": [
    {
     "name": "stdout",
     "output_type": "stream",
     "text": [
      "2\n",
      "5\n",
      "9\n"
     ]
    }
   ],
   "source": [
    "l=[\"ruks\", 8355,\"rukaiya\",\"abc jkl\",True,25+89j,[2,3,4,\"asjk\"],2.62]\n",
    "for i in l:\n",
    "    if type(i)==list:\n",
    "        c=0\n",
    "        for j in i:\n",
    "            if type(j)==int:\n",
    "                c=c+j\n",
    "                print(c)"
   ]
  },
  {
   "cell_type": "code",
   "execution_count": 105,
   "id": "d9f46c32",
   "metadata": {},
   "outputs": [
    {
     "name": "stdout",
     "output_type": "stream",
     "text": [
      "(25+89j)\n"
     ]
    }
   ],
   "source": [
    "for i in l:\n",
    "    if type(i)==complex:\n",
    "            print(i)\n",
    "        \n",
    "    "
   ]
  },
  {
   "cell_type": "code",
   "execution_count": 64,
   "id": "0b4370a6",
   "metadata": {},
   "outputs": [
    {
     "name": "stdout",
     "output_type": "stream",
     "text": [
      "ruks\n",
      "rukaiya\n",
      "abc jkl\n",
      "[2, 3, 4, 'asjk']\n"
     ]
    }
   ],
   "source": [
    "for i in l:\n",
    "    if type(i)==str or type(i)==list:\n",
    "        print(i)"
   ]
  },
  {
   "cell_type": "code",
   "execution_count": 44,
   "id": "4494888e",
   "metadata": {},
   "outputs": [],
   "source": [
    "l=[\"ruks\", 8355,\"rukaiya\",\"abc jkl\",True,25+89j,[2,3,4,\"asjk\"],2.62]"
   ]
  },
  {
   "cell_type": "code",
   "execution_count": 45,
   "id": "620802e6",
   "metadata": {
    "scrolled": true
   },
   "outputs": [
    {
     "data": {
      "text/plain": [
       "['rukaiya', 8355]"
      ]
     },
     "execution_count": 45,
     "metadata": {},
     "output_type": "execute_result"
    }
   ],
   "source": [
    "l[2:0:-1]"
   ]
  },
  {
   "cell_type": "code",
   "execution_count": 12,
   "id": "072d3e99",
   "metadata": {},
   "outputs": [
    {
     "data": {
      "text/plain": [
       "['ruks', 8355, 'rukaiya', 'abc jkl', True, (25+89j), [2, 3, 4, 'asjk'], 2.62]"
      ]
     },
     "execution_count": 12,
     "metadata": {},
     "output_type": "execute_result"
    }
   ],
   "source": [
    "l[0:8]"
   ]
  },
  {
   "cell_type": "code",
   "execution_count": 13,
   "id": "f871438f",
   "metadata": {},
   "outputs": [
    {
     "data": {
      "text/plain": [
       "[2.62, [2, 3, 4, 'asjk'], (25+89j), True, 'abc jkl']"
      ]
     },
     "execution_count": 13,
     "metadata": {},
     "output_type": "execute_result"
    }
   ],
   "source": [
    "l[8:2:-1]"
   ]
  },
  {
   "cell_type": "code",
   "execution_count": 14,
   "id": "5ec208c7",
   "metadata": {},
   "outputs": [
    {
     "data": {
      "text/plain": [
       "['rukaiya', True, [2, 3, 4, 'asjk']]"
      ]
     },
     "execution_count": 14,
     "metadata": {},
     "output_type": "execute_result"
    }
   ],
   "source": [
    "l[2:8:2]"
   ]
  },
  {
   "cell_type": "code",
   "execution_count": 18,
   "id": "8f44102f",
   "metadata": {},
   "outputs": [
    {
     "data": {
      "text/plain": [
       "(25+89j)"
      ]
     },
     "execution_count": 18,
     "metadata": {},
     "output_type": "execute_result"
    }
   ],
   "source": [
    "l[5]"
   ]
  },
  {
   "cell_type": "code",
   "execution_count": 19,
   "id": "32c2fee9",
   "metadata": {},
   "outputs": [
    {
     "data": {
      "text/plain": [
       "'rukaiya'"
      ]
     },
     "execution_count": 19,
     "metadata": {},
     "output_type": "execute_result"
    }
   ],
   "source": [
    "l[2]"
   ]
  },
  {
   "cell_type": "code",
   "execution_count": 21,
   "id": "7bc527a4",
   "metadata": {},
   "outputs": [
    {
     "data": {
      "text/plain": [
       "[2.62, [2, 3, 4, 'asjk'], (25+89j), True, 'abc jkl', 'rukaiya', 8355]"
      ]
     },
     "execution_count": 21,
     "metadata": {},
     "output_type": "execute_result"
    }
   ],
   "source": [
    "l[9:0:-1]"
   ]
  },
  {
   "cell_type": "code",
   "execution_count": 47,
   "id": "1abc8456",
   "metadata": {},
   "outputs": [
    {
     "data": {
      "text/plain": [
       "[2, 3, 4, 'asjk']"
      ]
     },
     "execution_count": 47,
     "metadata": {},
     "output_type": "execute_result"
    }
   ],
   "source": [
    "l[6]"
   ]
  },
  {
   "cell_type": "code",
   "execution_count": 48,
   "id": "c3436d05",
   "metadata": {},
   "outputs": [
    {
     "data": {
      "text/plain": [
       "[8355, 'rukaiya', 'abc jkl', True, (25+89j), [2, 3, 4, 'asjk'], 2.62]"
      ]
     },
     "execution_count": 48,
     "metadata": {},
     "output_type": "execute_result"
    }
   ],
   "source": [
    "l[1:8]"
   ]
  },
  {
   "cell_type": "code",
   "execution_count": 49,
   "id": "38cee7c3",
   "metadata": {},
   "outputs": [
    {
     "data": {
      "text/plain": [
       "['ruks', 8355, 'rukaiya', 'abc jkl', True, (25+89j), [2, 3, 4, 'asjk'], 2.62]"
      ]
     },
     "execution_count": 49,
     "metadata": {},
     "output_type": "execute_result"
    }
   ],
   "source": [
    "l[0:9]"
   ]
  },
  {
   "cell_type": "code",
   "execution_count": 50,
   "id": "ebc2ddf4",
   "metadata": {},
   "outputs": [
    {
     "data": {
      "text/plain": [
       "'ruks'"
      ]
     },
     "execution_count": 50,
     "metadata": {},
     "output_type": "execute_result"
    }
   ],
   "source": [
    "l[0]"
   ]
  },
  {
   "cell_type": "code",
   "execution_count": 23,
   "id": "cbfdfef5",
   "metadata": {},
   "outputs": [
    {
     "data": {
      "text/plain": [
       "[]"
      ]
     },
     "execution_count": 23,
     "metadata": {},
     "output_type": "execute_result"
    }
   ],
   "source": [
    "l[88:100:2]#Wont show an error because the systax is right but the data in that range is not available"
   ]
  },
  {
   "cell_type": "code",
   "execution_count": 52,
   "id": "4479fe94",
   "metadata": {},
   "outputs": [
    {
     "data": {
      "text/plain": [
       "['ruks', 8355, 'rukaiya', 'abc jkl', True, (25+89j), [2, 3, 4, 'asjk'], 2.62]"
      ]
     },
     "execution_count": 52,
     "metadata": {},
     "output_type": "execute_result"
    }
   ],
   "source": [
    "l"
   ]
  },
  {
   "cell_type": "markdown",
   "id": "2e99264e",
   "metadata": {},
   "source": [
    "# Practice "
   ]
  },
  {
   "cell_type": "markdown",
   "id": "cc5a38e2",
   "metadata": {},
   "source": [
    "#Simple Number Triangle Pattern\n",
    "1\n",
    "22\n",
    "333\n",
    "4444\n",
    "55555"
   ]
  },
  {
   "cell_type": "code",
   "execution_count": 125,
   "id": "14f5e486",
   "metadata": {},
   "outputs": [
    {
     "name": "stdout",
     "output_type": "stream",
     "text": [
      "1 \n",
      "2 2 \n",
      "3 3 3 \n",
      "4 4 4 4 \n",
      "5 5 5 5 5 \n",
      "6 6 6 6 6 6 \n"
     ]
    }
   ],
   "source": [
    "rows=6\n",
    "for i in range(1,rows+1):\n",
    "    for j in range(i):\n",
    "        print(i,end=\" \")\n",
    "    print()\n",
    "    "
   ]
  },
  {
   "cell_type": "code",
   "execution_count": 122,
   "id": "6649baa7",
   "metadata": {
    "scrolled": true
   },
   "outputs": [
    {
     "name": "stdout",
     "output_type": "stream",
     "text": [
      "9 9 9 9 9 9 9 9 9 \n",
      "8 8 8 8 8 8 8 8 \n",
      "7 7 7 7 7 7 7 \n",
      "6 6 6 6 6 6 \n",
      "5 5 5 5 5 \n",
      "4 4 4 4 \n",
      "3 3 3 \n",
      "2 2 \n",
      "1 \n"
     ]
    }
   ],
   "source": [
    "#Inverted Pyramid of Ascending Numbers\n",
    "r=9\n",
    "for i in range(r,0,-1):\n",
    "    for j in range(i):\n",
    "        print(i,end=\" \")\n",
    "    print()"
   ]
  },
  {
   "cell_type": "code",
   "execution_count": null,
   "id": "619cc4c9",
   "metadata": {},
   "outputs": [],
   "source": []
  },
  {
   "cell_type": "code",
   "execution_count": 53,
   "id": "a959cdbd",
   "metadata": {},
   "outputs": [
    {
     "name": "stdout",
     "output_type": "stream",
     "text": [
      "1\r\n",
      "22\r\n",
      "333\r\n",
      "4444\r\n",
      "55555\r\n"
     ]
    }
   ],
   "source": [
    "#Simple Number Triangle Pattern\n",
    "row=6\n",
    "for number in range(1,row):\n",
    "    for j in range(number):\n",
    "        print(number,end=\"\")\n",
    "    print(\"\\r\")\n",
    "    "
   ]
  },
  {
   "cell_type": "code",
   "execution_count": 105,
   "id": "cf1ddd1e",
   "metadata": {},
   "outputs": [
    {
     "name": "stdout",
     "output_type": "stream",
     "text": [
      "9 9 9 9 9 9 9 9 9 \r\n",
      "8 8 8 8 8 8 8 8 \r\n",
      "7 7 7 7 7 7 7 \r\n",
      "6 6 6 6 6 6 \r\n",
      "5 5 5 5 5 \r\n",
      "4 4 4 4 \r\n",
      "3 3 3 \r\n",
      "2 2 \r\n",
      "1 \r\n"
     ]
    }
   ],
   "source": [
    "#Inverted Pyramid of Ascending Numbers\n",
    "rows=9\n",
    "for numbers in range(rows,0,-1):\n",
    "    for j in range(numbers):\n",
    "        print(numbers,end=\" \")\n",
    "    print(\"\\r\")\n",
    "\n",
    "        "
   ]
  },
  {
   "cell_type": "code",
   "execution_count": 127,
   "id": "5cea23c5",
   "metadata": {},
   "outputs": [
    {
     "name": "stdout",
     "output_type": "stream",
     "text": [
      "1 1 1 1 1 \r\n",
      "2 2 2 2 \r\n",
      "3 3 3 \r\n",
      "4 4 \r\n",
      "5 \r\n"
     ]
    }
   ],
   "source": [
    "rows=5\n",
    "for i in range(rows,0,-1):\n",
    "    for j in range(i):\n",
    "        j=rows-i+1\n",
    "        print(j,end=\" \")\n",
    "    print(\"\\r\")"
   ]
  },
  {
   "cell_type": "code",
   "execution_count": 94,
   "id": "ab62156a",
   "metadata": {
    "scrolled": true
   },
   "outputs": [
    {
     "name": "stdout",
     "output_type": "stream",
     "text": [
      "1 \r\n",
      "1 2 \r\n",
      "1 2 3 \r\n",
      "1 2 3 4 \r\n",
      "1 2 3 4 5 \r\n"
     ]
    }
   ],
   "source": [
    "#Half Pyramid Pattern of Numbers\n",
    "rows=6\n",
    "for i in range(1,rows):\n",
    "     \n",
    "    for j in range(i):\n",
    "       \n",
    "        j=j+1\n",
    "       \n",
    "        print(j,end=\" \")\n",
    "    print(\"\\r\") \n",
    "        "
   ]
  },
  {
   "cell_type": "code",
   "execution_count": 10,
   "id": "af306e99",
   "metadata": {},
   "outputs": [
    {
     "name": "stdout",
     "output_type": "stream",
     "text": [
      "0\n"
     ]
    }
   ],
   "source": [
    "i=1\n",
    "for j in range(i):\n",
    "    print(j)"
   ]
  },
  {
   "cell_type": "code",
   "execution_count": null,
   "id": "96914703",
   "metadata": {},
   "outputs": [],
   "source": [
    "\n",
    "5 5 5 5 5 \n",
    "\n",
    "4 4 4 4 \n",
    "\n",
    "3 3 3 \n",
    "\n",
    "2 2 \n",
    "\n",
    "1"
   ]
  },
  {
   "cell_type": "code",
   "execution_count": 40,
   "id": "dfe7cbda",
   "metadata": {},
   "outputs": [
    {
     "name": "stdout",
     "output_type": "stream",
     "text": [
      "5 5 5 5 5 \n",
      "4 4 4 4 \n",
      "3 3 3 \n",
      "2 2 \n",
      "1 \n"
     ]
    }
   ],
   "source": [
    "#Inverted Pyramid of Descending Numbers\n",
    "rows=5\n",
    "for numbers in range(rows,0,-1):\n",
    "    for j in range(numbers):\n",
    "        print(numbers, end=\" \")\n",
    "    print()"
   ]
  },
  {
   "cell_type": "code",
   "execution_count": 106,
   "id": "c3ad8057",
   "metadata": {},
   "outputs": [],
   "source": [
    "#Inverted Pyramid of the Same Digit"
   ]
  },
  {
   "cell_type": "code",
   "execution_count": 4,
   "id": "c6a36100",
   "metadata": {},
   "outputs": [
    {
     "name": "stdout",
     "output_type": "stream",
     "text": [
      "7777777\n",
      "777777\n",
      "77777\n",
      "7777\n",
      "777\n",
      "77\n",
      "7\n"
     ]
    }
   ],
   "source": [
    "rows=7\n",
    "for i in range(rows,0,-1):\n",
    "    for j in range(i):\n",
    "        j=rows\n",
    "        print(j,end=\"\")\n",
    "    print(\"\")"
   ]
  },
  {
   "cell_type": "code",
   "execution_count": null,
   "id": "6b030e3f",
   "metadata": {},
   "outputs": [],
   "source": [
    "1 \n",
    "\n",
    "2 1 \n",
    "\n",
    "3 2 1 \n",
    "\n",
    "4 3 2 1 \n",
    "\n",
    "5 4 3 2 1"
   ]
  },
  {
   "cell_type": "markdown",
   "id": "2af0050d",
   "metadata": {},
   "source": [
    "# CONTINUE on 8th May"
   ]
  },
  {
   "cell_type": "code",
   "execution_count": 145,
   "id": "4bad4082",
   "metadata": {},
   "outputs": [
    {
     "name": "stdout",
     "output_type": "stream",
     "text": [
      "1\r\n",
      "12\r\n",
      "123\r\n",
      "1234\r\n",
      "12345\r\n"
     ]
    }
   ],
   "source": [
    "#Reverse Pyramid of Numbers\n",
    "\n",
    "rows=5\n",
    "for i in range(1,rows+1):\n",
    "    for j in range(i):\n",
    "        j=j+1\n",
    "        print(j,end=\"\")\n",
    "    print(\"\\r\")"
   ]
  },
  {
   "cell_type": "code",
   "execution_count": 1,
   "id": "7ccbc08c",
   "metadata": {},
   "outputs": [
    {
     "name": "stdout",
     "output_type": "stream",
     "text": [
      "4\n",
      "8\n",
      "12\n",
      "15\n",
      "29\n"
     ]
    }
   ],
   "source": [
    "a=\" we all are a part of Full Stack\"\n",
    "for i in range(len(a)):\n",
    "    if a[i]==\"a\":\n",
    "        print(i)"
   ]
  },
  {
   "cell_type": "code",
   "execution_count": 2,
   "id": "5d42f5bf",
   "metadata": {},
   "outputs": [
    {
     "name": "stdout",
     "output_type": "stream",
     "text": [
      "l\n"
     ]
    }
   ],
   "source": [
    "for i in range(len(a)):\n",
    "    if i==5:\n",
    "        print(a[i])"
   ]
  },
  {
   "cell_type": "code",
   "execution_count": 3,
   "id": "1565a778",
   "metadata": {},
   "outputs": [
    {
     "name": "stdout",
     "output_type": "stream",
     "text": [
      "26\n"
     ]
    }
   ],
   "source": [
    "#Question without using a len() find the logic to count the number of strings\n",
    "s = \"this is a full stack batch\"\n",
    "count = 0 \n",
    "for i in  s :\n",
    "    count = count +1 \n",
    "print(count)"
   ]
  },
  {
   "cell_type": "code",
   "execution_count": 4,
   "id": "8c473f22",
   "metadata": {},
   "outputs": [
    {
     "name": "stdout",
     "output_type": "stream",
     "text": [
      "h\n",
      "c\n",
      "t\n",
      "a\n",
      "b\n",
      " \n",
      "k\n",
      "c\n",
      "a\n",
      "t\n",
      "s\n",
      " \n",
      "l\n",
      "l\n",
      "u\n",
      "f\n",
      " \n",
      "a\n",
      " \n",
      "s\n",
      "i\n",
      " \n",
      "s\n",
      "i\n",
      "h\n"
     ]
    }
   ],
   "source": [
    "#Without using [::-1] print inverse \n",
    "for i in range(1, len(s)) :\n",
    "    print(s[-i])"
   ]
  },
  {
   "cell_type": "code",
   "execution_count": 33,
   "id": "004b30e9",
   "metadata": {},
   "outputs": [],
   "source": [
    "#Question without using a len() find the logic to count the number of strings\n",
    "s = \"this is a full stack batch\""
   ]
  },
  {
   "cell_type": "code",
   "execution_count": 39,
   "id": "03cff8e7",
   "metadata": {},
   "outputs": [
    {
     "name": "stdout",
     "output_type": "stream",
     "text": [
      "26\n"
     ]
    }
   ],
   "source": [
    "count=0\n",
    "\n",
    "for i in s:\n",
    "    \n",
    "    count=count+1\n",
    "print(count)\n",
    "    "
   ]
  },
  {
   "cell_type": "code",
   "execution_count": 99,
   "id": "20ae19ae",
   "metadata": {},
   "outputs": [
    {
     "name": "stdout",
     "output_type": "stream",
     "text": [
      "  * * * * * * * * * * * * * \n",
      "    * * * * * * * * * * * \n",
      "      * * * * * * * * * \n",
      "        * * * * * * * \n",
      "          * * * * * \n",
      "            * * * \n",
      "              * \n"
     ]
    }
   ],
   "source": [
    "n=7\n",
    "for i in range(n):\n",
    "    for j in range(i+1):\n",
    "        print(\" \",end=\" \")\n",
    "    for j in range(n-i-1):\n",
    "        print(\"*\",end=\" \")\n",
    "    for j in range(n-i):\n",
    "        print(\"*\",end=\" \")\n",
    "    print()"
   ]
  },
  {
   "cell_type": "code",
   "execution_count": 107,
   "id": "9de069c8",
   "metadata": {},
   "outputs": [
    {
     "name": "stdout",
     "output_type": "stream",
     "text": [
      "* \n",
      "* * \n",
      "* * * \n",
      "* * * * \n",
      "* * * * * \n",
      "* * * * * * \n",
      "* * * * * * * \n"
     ]
    }
   ],
   "source": [
    "n=7\n",
    "for i in range(n):\n",
    "    for j in range(i+1):\n",
    "        print(\"*\",end=\" \")\n",
    "    print()\n"
   ]
  },
  {
   "cell_type": "code",
   "execution_count": 40,
   "id": "95da2059",
   "metadata": {},
   "outputs": [
    {
     "name": "stdout",
     "output_type": "stream",
     "text": [
      "* * * * * * * * * * * * * * \n",
      "* * * * * * _ _ * * * * * * \n",
      "* * * * * _ _ _ _ * * * * * \n",
      "* * * * _ _ _ _ _ _ * * * * \n",
      "* * * _ _ _ _ _ _ _ _ * * * \n",
      "* * _ _ _ _ _ _ _ _ _ _ * * \n",
      "* _ _ _ _ _ _ _ _ _ _ _ _ * \n"
     ]
    }
   ],
   "source": [
    "n=7\n",
    "for i in range(n):\n",
    "    for j in range(n-i):\n",
    "        print(\"*\",end=\" \")\n",
    "    for j in range(i+1-1):\n",
    "        print(\"_\",end=\" \")\n",
    "    for j in range(i+1-1):\n",
    "        print(\"_\",end=\" \")\n",
    "    for j in range(n-i):\n",
    "        print(\"*\",end=\" \")\n",
    "    print()"
   ]
  },
  {
   "cell_type": "code",
   "execution_count": null,
   "id": "32a482bf",
   "metadata": {},
   "outputs": [],
   "source": [
    "n=7\n",
    "for i in range(n):\n",
    "    for j in range()"
   ]
  },
  {
   "cell_type": "code",
   "execution_count": 114,
   "id": "7580da46",
   "metadata": {},
   "outputs": [
    {
     "name": "stdout",
     "output_type": "stream",
     "text": [
      "11\n"
     ]
    }
   ],
   "source": [
    "r=\"concentrate\"\n",
    "count=0\n",
    "for i in range(len(r)):\n",
    "    count=count+1\n",
    "print(count)"
   ]
  },
  {
   "cell_type": "code",
   "execution_count": 41,
   "id": "1fcb1531",
   "metadata": {},
   "outputs": [
    {
     "name": "stdout",
     "output_type": "stream",
     "text": [
      "* * * * * * * * * * * * * * \n",
      "* * * * * * _ _ * * * * * * \n",
      "* * * * * _ _ _ _ * * * * * \n",
      "* * * * _ _ _ _ _ _ * * * * \n",
      "* * * _ _ _ _ _ _ _ _ * * * \n",
      "* * _ _ _ _ _ _ _ _ _ _ * * \n",
      "* _ _ _ _ _ _ _ _ _ _ _ _ * \n"
     ]
    }
   ],
   "source": [
    "n=7\n",
    "for i in range(n):\n",
    "    for j in range(n-i):\n",
    "        print(\"*\",end=\" \")\n",
    "    for j in range(i+1-1):\n",
    "        print(\"_\",end=\" \")\n",
    "    for j in range(i+1-1):\n",
    "        print(\"_\",end=\" \")\n",
    "    for j in range(n-i):\n",
    "        print(\"*\",end=\" \")\n",
    "    print()"
   ]
  },
  {
   "cell_type": "code",
   "execution_count": 88,
   "id": "d241f64c",
   "metadata": {},
   "outputs": [
    {
     "name": "stdout",
     "output_type": "stream",
     "text": [
      "* * * * * * * * * * * * * * \n",
      "* * * * * *     * * * * * * \n",
      "* * * * *         * * * * * \n",
      "* * * *             * * * * \n",
      "* * *                 * * * \n",
      "* *                     * * \n",
      "*                         * \n"
     ]
    }
   ],
   "source": [
    "n=7\n",
    "for i in range(n):\n",
    "    for j in range(n-i):\n",
    "        print(\"*\",end=\" \")\n",
    "    for j in range(i+1-1):\n",
    "        print(\" \",end=\" \")\n",
    "    for j in range(i+1-1):\n",
    "        print(\" \",end=\" \")\n",
    "    for j in range(n-i):\n",
    "        print(\"*\",end=\" \")\n",
    "    print()\n",
    "    \n",
    "  \n"
   ]
  },
  {
   "cell_type": "code",
   "execution_count": 113,
   "id": "eb11b45b",
   "metadata": {},
   "outputs": [
    {
     "name": "stdout",
     "output_type": "stream",
     "text": [
      "*                     * \n",
      "* *                 * * \n",
      "* * *             * * * \n",
      "* * * *         * * * * \n",
      "* * * * *     * * * * * \n",
      "* * * * * * * * * * * * \n"
     ]
    }
   ],
   "source": [
    "u=6\n",
    "for i in range(u):\n",
    "    for j in range(i+1):\n",
    "        print(\"*\",end=\" \")\n",
    "    \n",
    "    for j in range(u-i-1):\n",
    "        print(\" \",end=\" \")\n",
    "\n",
    "    for j in range(u-i-1):\n",
    "         print(\" \",end=\" \")\n",
    "    for j in range(i+1):\n",
    "        print(\"*\",end=\" \")\n",
    "    print()\n",
    "    "
   ]
  },
  {
   "cell_type": "markdown",
   "id": "0552b8ef",
   "metadata": {},
   "source": [
    "#### Q.Ask user to give integer inputs to make a list. Store only even values given and print the list."
   ]
  },
  {
   "cell_type": "code",
   "execution_count": 153,
   "id": "964d6a2f",
   "metadata": {},
   "outputs": [
    {
     "name": "stdout",
     "output_type": "stream",
     "text": [
      "Enter the length of list: 6\n",
      "Enter the integer values: 1\n",
      "Enter the integer values: 2\n",
      "Enter the integer values: 3\n",
      "Enter the integer values: 4\n",
      "Enter the integer values: 5\n",
      "Enter the integer values: 6\n",
      "[2, 4, 6]\n"
     ]
    }
   ],
   "source": [
    "n=int(input(\"Enter the length of list: \"))\n",
    "l=[]\n",
    "for i in range(n):\n",
    "    elements=int(input(\"Enter the integer values: \"))\n",
    "    if elements%2==0:\n",
    "        l.append(elements)\n",
    "print(l)\n",
    "        \n",
    "\n",
    "  \n"
   ]
  },
  {
   "cell_type": "markdown",
   "id": "c35a083c",
   "metadata": {},
   "source": [
    "#### Take 10 integer inputs from user and store them in a list and print them on screen."
   ]
  },
  {
   "cell_type": "code",
   "execution_count": 155,
   "id": "2fb74eb2",
   "metadata": {},
   "outputs": [
    {
     "name": "stdout",
     "output_type": "stream",
     "text": [
      "Enter integers to get the desired list: 1\n",
      "Enter integers to get the desired list: 2\n",
      "Enter integers to get the desired list: 3\n",
      "Enter integers to get the desired list: 4\n",
      "Enter integers to get the desired list: 5\n",
      "Enter integers to get the desired list: 6\n",
      "Enter integers to get the desired list: 7\n",
      "Enter integers to get the desired list: 8\n",
      "Enter integers to get the desired list: 9\n",
      "Enter integers to get the desired list: 7\n",
      "[1, 2, 3, 4, 5, 6, 7, 8, 9, 7]\n"
     ]
    }
   ],
   "source": [
    "n=10\n",
    "l=[]\n",
    "while n>0:\n",
    "    value=int(input(\"Enter integers to get the desired list: \"))\n",
    "    l.append(value)\n",
    "    n=n-1\n",
    "print(l)\n",
    "    "
   ]
  },
  {
   "cell_type": "code",
   "execution_count": 159,
   "id": "f8703c37",
   "metadata": {},
   "outputs": [
    {
     "name": "stdout",
     "output_type": "stream",
     "text": [
      "Enter the desired values: 5\n",
      "Enter the desired values: 6\n",
      "Enter the desired values: 8\n",
      "Enter the desired values: 7\n",
      "Enter the desired values: 45\n",
      "Enter the desired values: 64\n",
      "Enter the desired values: 12\n",
      "Enter the desired values: 2\n",
      "Enter the desired values: 5\n",
      "Enter the desired values: 6\n",
      "[5, 6, 8, 7, 45, 64, 12, 2, 5, 6]\n"
     ]
    }
   ],
   "source": [
    "n=10\n",
    "l=[]\n",
    "for i in range(n):\n",
    "    p=int(input(\"Enter the desired values: \"))\n",
    "    l.append(p)\n",
    "print(l)"
   ]
  },
  {
   "cell_type": "markdown",
   "id": "3612dcb2",
   "metadata": {},
   "source": [
    "#### Take 10 integer inputs from user and store them in a list. Again ask user to give a number. Now, tell user whether that number is present in list or not.\n",
    "( Iterate over list using while loop )"
   ]
  },
  {
   "cell_type": "code",
   "execution_count": 172,
   "id": "a38264b3",
   "metadata": {},
   "outputs": [
    {
     "name": "stdout",
     "output_type": "stream",
     "text": [
      "Enter integers: 5\n",
      "Enter integers: 4\n",
      "Enter integers: 5\n",
      "Enter integers: 55\n",
      "Enter integers: 6\n",
      "Enter integers: 8\n",
      "Enter integers: 9\n",
      "Enter integers: 7\n",
      "Enter integers: 4\n",
      "Enter integers: 5\n",
      "[5, 4, 5, 55, 6, 8, 9, 7, 4, 5]\n",
      "Enter a number: 8\n",
      "The number is present in the list! \n"
     ]
    }
   ],
   "source": [
    "n=10\n",
    "l=[]\n",
    "while n>0:\n",
    "    el=int(input(\"Enter integers: \"))\n",
    "    l.append(el)\n",
    "    n-=1\n",
    "print(l)\n",
    "q=int(input(\"Enter a number: \"))\n",
    "if q in l:\n",
    "    print(\"The number is present in the list! \")\n",
    "else:\n",
    "    print(\"The number is not present in the list\")"
   ]
  },
  {
   "cell_type": "markdown",
   "id": "8bafa5dc",
   "metadata": {},
   "source": []
  },
  {
   "cell_type": "code",
   "execution_count": null,
   "id": "97a71707",
   "metadata": {},
   "outputs": [],
   "source": [
    "p,n,o,e,z=0,0,0,0,0\n",
    "\n",
    "#Here i declared all the variable together, you can also write them seperately\n",
    "\n",
    "print(\"Enter 20 integers\\n\")\n",
    "\n",
    "for i in range(1,20+1):\n",
    "    n=(int)(input())\n",
    "\n",
    "    if(n>0):\n",
    "        p+=1\n",
    "\n",
    "    if(n<0):\n",
    "\n",
    "        n+=1\n",
    "\n",
    "    if(n%2!=0):\n",
    "\n",
    "        o+=1\n",
    "\n",
    "    if(n%2==0):\n",
    "        e+=1\n",
    "\n",
    "    if(n==0):\n",
    "\n",
    "        z+=1\n",
    "\n",
    "print(\"no. of Positive numbers:\",p)\n",
    "\n",
    "print(\"no. of Negative numbers:\",n)\n",
    "\n",
    "print(\"no. of odd numbers:\",o)\n",
    "\n",
    "print(\"no. of even numbers:\",e)\n",
    "\n",
    "print(\"no. of zeroes\",z)"
   ]
  },
  {
   "cell_type": "markdown",
   "id": "4b490e1d",
   "metadata": {},
   "source": [
    "#### Take 10 integer inputs from user and store them in a list. Now, copy all the elements in another list but in reverse order."
   ]
  },
  {
   "cell_type": "code",
   "execution_count": 35,
   "id": "8f1a6bad",
   "metadata": {},
   "outputs": [
    {
     "name": "stdout",
     "output_type": "stream",
     "text": [
      "enter the elements: 1\n",
      "enter the elements: 2\n",
      "enter the elements: 3\n",
      "enter the elements: 4\n",
      "enter the elements: 5\n",
      "enter the elements: 6\n",
      "enter the elements: 7\n",
      "enter the elements: 8\n",
      "enter the elements: 9\n",
      "enter the elements: 10\n",
      "[1, 2, 3, 4, 5, 6, 7, 8, 9, 10]\n",
      "[10, 9, 8, 7, 6, 5, 4, 3, 2, 1]\n"
     ]
    }
   ],
   "source": [
    "n=10\n",
    "l=[]\n",
    "for i in range(n):\n",
    "    elements=int(input(\"enter the elements: \"))\n",
    "    l.append(elements)\n",
    "print(l)\n",
    "r=l[::-1]\n",
    "print(r)\n",
    "\n"
   ]
  },
  {
   "cell_type": "code",
   "execution_count": null,
   "id": "d2d473af",
   "metadata": {},
   "outputs": [],
   "source": [
    "r=l[10:0:-1]\n",
    "print(r)"
   ]
  },
  {
   "cell_type": "markdown",
   "id": "1b4b578f",
   "metadata": {},
   "source": [
    "#### Write a program to find the sum of all elements of a list"
   ]
  },
  {
   "cell_type": "code",
   "execution_count": 43,
   "id": "48d350a5",
   "metadata": {},
   "outputs": [
    {
     "name": "stdout",
     "output_type": "stream",
     "text": [
      "Enter the elements in int: \n",
      "1\n",
      "Enter the elements in int: \n",
      "2\n",
      "Enter the elements in int: \n",
      "3\n",
      "Enter the elements in int: \n",
      "4\n",
      "Enter the elements in int: \n",
      "5\n",
      "[1, 2, 3, 4, 5]\n",
      "15\n"
     ]
    }
   ],
   "source": [
    "a=5\n",
    "l=[]\n",
    "count=0\n",
    "while a>0:\n",
    "    print(\"Enter the elements in int: \")\n",
    "    el=int(input())\n",
    "    l.append(el)\n",
    "    count=count+el\n",
    "    a=a-1\n",
    "print(l)\n",
    "print(count)\n",
    "\n",
    "    "
   ]
  },
  {
   "cell_type": "markdown",
   "id": "a557fbfc",
   "metadata": {},
   "source": [
    "#### Write a program to find the product of all elements of a list."
   ]
  },
  {
   "cell_type": "code",
   "execution_count": 44,
   "id": "91dba237",
   "metadata": {},
   "outputs": [
    {
     "name": "stdout",
     "output_type": "stream",
     "text": [
      "Enter the elements in int: \n",
      "1\n",
      "Enter the elements in int: \n",
      "2\n",
      "Enter the elements in int: \n",
      "3\n",
      "Enter the elements in int: \n",
      "4\n",
      "Enter the elements in int: \n",
      "5\n",
      "[1, 2, 3, 4, 5]\n",
      "120\n"
     ]
    }
   ],
   "source": [
    "a=5\n",
    "l=[]\n",
    "prod=1\n",
    "while a>0:\n",
    "    print(\"Enter the elements in int: \")\n",
    "    el=int(input())\n",
    "    l.append(el)\n",
    "    prod=prod*el\n",
    "    a=a-1\n",
    "print(l)\n",
    "print(prod)\n"
   ]
  },
  {
   "cell_type": "markdown",
   "id": "f7d72680",
   "metadata": {},
   "source": [
    "#### Initialize and print each element in new line of a list inside list."
   ]
  },
  {
   "cell_type": "code",
   "execution_count": 5,
   "id": "7e7a78e7",
   "metadata": {},
   "outputs": [
    {
     "name": "stdout",
     "output_type": "stream",
     "text": [
      "1\n",
      "2\n",
      "3\n",
      "4\n",
      "5\n",
      "6\n"
     ]
    }
   ],
   "source": [
    "a=[[1,2,3],[4,5,6]]\n",
    "i = 0\n",
    "while i<len(a):\n",
    "    j = 0\n",
    "    while j < len(a[i]):\n",
    "        print (a[i][j])\n",
    "        j = j+1\n",
    "    i = i+1"
   ]
  },
  {
   "cell_type": "code",
   "execution_count": 51,
   "id": "72fa0ced",
   "metadata": {},
   "outputs": [
    {
     "name": "stdout",
     "output_type": "stream",
     "text": [
      "1\n",
      "2\n",
      "3\n",
      "1\n",
      "1\n",
      "1\n"
     ]
    }
   ],
   "source": [
    "s=[[1,2,3],[1,1,1]]\n",
    "for i in s:\n",
    "    for j in i:\n",
    "        print(j)\n"
   ]
  },
  {
   "cell_type": "markdown",
   "id": "edacc16f",
   "metadata": {},
   "source": [
    "Find largest and smallest elements of a list.\n"
   ]
  },
  {
   "cell_type": "code",
   "execution_count": 3,
   "id": "74b30311",
   "metadata": {},
   "outputs": [
    {
     "name": "stdout",
     "output_type": "stream",
     "text": [
      "Enter the length of the list you want5\n",
      "Enter the values for your list: 4\n",
      "Enter the values for your list: 1\n",
      "Enter the values for your list: 2\n",
      "Enter the values for your list: 8\n",
      "Enter the values for your list: 7\n",
      "[4, 1, 2, 8, 7]\n",
      "max element is:  8 and min element is:  1\n"
     ]
    }
   ],
   "source": [
    "n=int(input(\"Enter the length of the list you want\"))\n",
    "l=[]\n",
    "for i in range(n):\n",
    "    elements=int(input(\"Enter the values for your list: \"))\n",
    "    l.append(elements)\n",
    "    \n",
    "print(l)\n",
    "l.sort()\n",
    "print(\"max element is: \",l[n-1],\"and min element is: \",l[0])\n",
    "\n"
   ]
  },
  {
   "cell_type": "markdown",
   "id": "ae0bf4b0",
   "metadata": {},
   "source": [
    "Now without using max and min functions "
   ]
  },
  {
   "cell_type": "code",
   "execution_count": 77,
   "id": "5be5c240",
   "metadata": {},
   "outputs": [
    {
     "name": "stdout",
     "output_type": "stream",
     "text": [
      "ENter the length of the list you want7\n",
      "Enter the values for your list: 12\n",
      "Enter the values for your list: 45\n",
      "Enter the values for your list: -9\n",
      "Enter the values for your list: 74\n",
      "Enter the values for your list: -2\n",
      "Enter the values for your list: 65\n",
      "Enter the values for your list: 2\n",
      "[12, 45, -9, 74, -2, 65, 2]\n",
      "74\n",
      "-9\n"
     ]
    }
   ],
   "source": [
    "n=int(input(\"ENter the length of the list you want\"))\n",
    "l=[]\n",
    "maxel=0\n",
    "\n",
    "for i in range(n):\n",
    "    elements=int(input(\"Enter the values for your list: \"))\n",
    "    l.append(elements)\n",
    "print(l)\n",
    "minel=l[0]\n",
    "for x in l:\n",
    "    if x>maxel:\n",
    "        maxel=x\n",
    "    else:\n",
    "        if x<minel:\n",
    "            minel=x\n",
    "print(maxel)\n",
    "print(minel)\n",
    "#Here we are replacing the value and substituting it again again and again."
   ]
  },
  {
   "cell_type": "markdown",
   "id": "3c029167",
   "metadata": {},
   "source": [
    "Write a program to print sum, average of all numbers, smallest and largest element of a list."
   ]
  },
  {
   "cell_type": "code",
   "execution_count": 85,
   "id": "60feaa82",
   "metadata": {},
   "outputs": [
    {
     "name": "stdout",
     "output_type": "stream",
     "text": [
      "196\n",
      "98.0\n",
      "2 is the minimum element 89 is the maximum element\n"
     ]
    }
   ],
   "source": [
    "l=[2,89,58,6,41]\n",
    "\n",
    "count=0\n",
    "avg=0\n",
    "maxel=0\n",
    "for i in l:\n",
    "    count=count+i\n",
    "    avg=count/2\n",
    "print(count)\n",
    "print(avg)\n",
    "l.sort()\n",
    "for x in l:\n",
    "    if x>maxel:\n",
    "        maxel=x\n",
    "print(l[0],\"is the minimum element\",maxel,\"is the maximum element\")\n",
    "    "
   ]
  },
  {
   "cell_type": "markdown",
   "id": "ae3d2f26",
   "metadata": {},
   "source": [
    "Write a program to check if elements of a list are same or not it read from front or back. E.g.-\n",
    "2\t3\t15\t15\t3\t2\n",
    "Write a program to check if elements of a list are same or not it read from front or back. E.g.-\n",
    "2\t3\t15\t15\t3\t2\n",
    "Basically to check whether the list is a pallindrome or not"
   ]
  },
  {
   "cell_type": "code",
   "execution_count": 98,
   "id": "7aa3e013",
   "metadata": {},
   "outputs": [
    {
     "name": "stdout",
     "output_type": "stream",
     "text": [
      "Enter len of list you want: 5\n",
      "Enter the pallindromic elements you want! 1\n",
      "Enter the pallindromic elements you want! 5\n",
      "Enter the pallindromic elements you want! 2\n",
      "Enter the pallindromic elements you want! 5\n",
      "Enter the pallindromic elements you want! 1\n",
      "[1, 5, 2, 5, 1]\n",
      "The list is a pallindrome\n"
     ]
    }
   ],
   "source": [
    "n=int(input(\"Enter len of list you want: \"))\n",
    "l=[]\n",
    "for i in range(n):\n",
    "    ele=int(input(\"Enter the pallindromic elements you want! \"))\n",
    "    l.append(ele)\n",
    "print(l)\n",
    "\n",
    "if l[::]==l[::-1]:\n",
    "    print(\"The list is a pallindrome\")\n",
    "else:\n",
    "    print(\"The list is not a pallindrome try again!\")\n",
    "    "
   ]
  },
  {
   "cell_type": "markdown",
   "id": "20b42adf",
   "metadata": {},
   "source": [
    "Make a list by taking 10 input from user. Now delete all repeated elements of the list.\n",
    "E.g.-\n",
    "INPUT : [1,2,3,2,1,3,12,12,32]\n",
    "OUTPUT : [1,2,3,12,32]"
   ]
  },
  {
   "cell_type": "code",
   "execution_count": 110,
   "id": "96900971",
   "metadata": {},
   "outputs": [
    {
     "name": "stdout",
     "output_type": "stream",
     "text": [
      "Enter the values: 1\n",
      "Enter the values: 2\n",
      "Enter the values: 3\n",
      "Enter the values: 4\n",
      "Enter the values: 5\n",
      "Enter the values: 41\n",
      "Enter the values: 2\n",
      "Enter the values: 3\n",
      "Enter the values: 1\n",
      "Enter the values: 5\n",
      "[1, 2, 3, 4, 5, 41, 2, 3, 1, 5]\n",
      "{1, 2, 3, 4, 5, 41}\n"
     ]
    }
   ],
   "source": [
    "a=[]\n",
    "n=10\n",
    "\n",
    "for i in range(n):\n",
    "    el=int(input(\"Enter the values: \"))\n",
    "    a.append(el)\n",
    "print(a)       \n",
    "        \n",
    "print(set(a))\n",
    "        \n",
    "        "
   ]
  },
  {
   "cell_type": "code",
   "execution_count": 113,
   "id": "bb10ece1",
   "metadata": {},
   "outputs": [
    {
     "name": "stdout",
     "output_type": "stream",
     "text": [
      "Enter the integer values: 1\n",
      "Enter the integer values: 2\n",
      "Enter the integer values: 2\n",
      "Enter the integer values: 5\n",
      "Enter the integer values: 45\n",
      "Enter the integer values: 48\n",
      "Enter the integer values: 49\n",
      "Enter the integer values: 48\n",
      "Enter the integer values: 43\n",
      "Enter the integer values: 57\n",
      "[1, 2, 2, 5, 45, 48, 49, 48, 43, 57]\n",
      "[1, 2, 5, 45, 48, 49, 43, 57]\n"
     ]
    }
   ],
   "source": [
    "a=[]\n",
    "for i in range(10):\n",
    "    elements=int(input(\"Enter the integer values: \"))\n",
    "    a.append(elements)\n",
    "print(a)\n",
    "l=[]\n",
    "for i in a:\n",
    "    if i not in l:\n",
    "        l.append(i)\n",
    "print(l)\n",
    "    "
   ]
  },
  {
   "cell_type": "markdown",
   "id": "0a629282",
   "metadata": {},
   "source": [
    "#### Printing of even numbers using while loop and taking input from the user in the form of a list"
   ]
  },
  {
   "cell_type": "code",
   "execution_count": null,
   "id": "0d3e105d",
   "metadata": {},
   "outputs": [],
   "source": [
    "n=int(input(\"Enter the length of the list:\"))\n",
    "l=[]\n",
    "while n>0:\n",
    "    a=int(input(\"Enter a number\"))\n",
    "    l.append(a)\n",
    "    n=n-1\n",
    "    print(l)\n",
    "    for i in l:\n",
    "        if i%2==0:\n",
    "            print(\"Even number\",i)\n",
    "        else:\n",
    "            print(\"Not even\",i)"
   ]
  },
  {
   "cell_type": "code",
   "execution_count": null,
   "id": "c3c21152",
   "metadata": {},
   "outputs": [],
   "source": []
  },
  {
   "cell_type": "code",
   "execution_count": null,
   "id": "825abd54",
   "metadata": {},
   "outputs": [],
   "source": []
  },
  {
   "cell_type": "code",
   "execution_count": null,
   "id": "6a297df1",
   "metadata": {},
   "outputs": [],
   "source": []
  },
  {
   "cell_type": "code",
   "execution_count": null,
   "id": "27b1a863",
   "metadata": {},
   "outputs": [],
   "source": []
  },
  {
   "cell_type": "code",
   "execution_count": null,
   "id": "084e7088",
   "metadata": {},
   "outputs": [],
   "source": []
  },
  {
   "cell_type": "code",
   "execution_count": null,
   "id": "442257c0",
   "metadata": {},
   "outputs": [],
   "source": []
  }
 ],
 "metadata": {
  "kernelspec": {
   "display_name": "Python 3 (ipykernel)",
   "language": "python",
   "name": "python3"
  },
  "language_info": {
   "codemirror_mode": {
    "name": "ipython",
    "version": 3
   },
   "file_extension": ".py",
   "mimetype": "text/x-python",
   "name": "python",
   "nbconvert_exporter": "python",
   "pygments_lexer": "ipython3",
   "version": "3.9.7"
  }
 },
 "nbformat": 4,
 "nbformat_minor": 5
}
