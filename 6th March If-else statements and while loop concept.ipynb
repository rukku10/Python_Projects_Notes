{
 "cells": [
  {
   "cell_type": "markdown",
   "id": "6a7499fb",
   "metadata": {},
   "source": [
    "# If Else statement & Loops concept"
   ]
  },
  {
   "cell_type": "markdown",
   "id": "45ecc5f1",
   "metadata": {},
   "source": [
    "If else stament returns True and False value.\n"
   ]
  },
  {
   "cell_type": "code",
   "execution_count": 9,
   "id": "1123f829",
   "metadata": {},
   "outputs": [
    {
     "name": "stdout",
     "output_type": "stream",
     "text": [
      "This is a valid code.\n"
     ]
    }
   ],
   "source": [
    "a=20\n",
    "b=30\n",
    "if a==20 and b==30:\n",
    "    print(\"This is a valid code.\")\n",
    "    \n",
    "#This is where 0 0 =0 , 1 0 = 0, 0 1=0, 1 1 =1\n",
    "#Where consiquetively 0-False and 1-True."
   ]
  },
  {
   "cell_type": "code",
   "execution_count": 21,
   "id": "b7569a3a",
   "metadata": {},
   "outputs": [
    {
     "name": "stdout",
     "output_type": "stream",
     "text": [
      " Statement two!\n"
     ]
    }
   ],
   "source": [
    "a=10\n",
    "b=20\n",
    "\n",
    "if a==10 and b>20:\n",
    "    print(\" Statement one! \")\n",
    "elif a==10 and b<=20:\n",
    "    print(\" Statement two!\")\n",
    "else:\n",
    "    print(\"Not valid\")"
   ]
  },
  {
   "cell_type": "markdown",
   "id": "7ffd84ee",
   "metadata": {},
   "source": [
    "Q take an input from the user and take your last name as well and try to validate multiple conditions \n",
    "\n"
   ]
  },
  {
   "cell_type": "code",
   "execution_count": null,
   "id": "2df4de44",
   "metadata": {},
   "outputs": [],
   "source": []
  },
  {
   "cell_type": "code",
   "execution_count": null,
   "id": "48fa12df",
   "metadata": {},
   "outputs": [],
   "source": [
    "a==20"
   ]
  },
  {
   "cell_type": "code",
   "execution_count": null,
   "id": "96cadf5b",
   "metadata": {},
   "outputs": [],
   "source": [
    "b==30"
   ]
  },
  {
   "cell_type": "code",
   "execution_count": null,
   "id": "833a06f2",
   "metadata": {},
   "outputs": [],
   "source": [
    "a==20 and b==30 # True True=True"
   ]
  },
  {
   "cell_type": "code",
   "execution_count": null,
   "id": "e0c7a7bd",
   "metadata": {},
   "outputs": [],
   "source": [
    "a=10"
   ]
  },
  {
   "cell_type": "code",
   "execution_count": 7,
   "id": "aeb7e5ac",
   "metadata": {
    "scrolled": true
   },
   "outputs": [
    {
     "name": "stdout",
     "output_type": "stream",
     "text": [
      "Enter fname:Rukaiya\n",
      "Enter lname:merchant\n",
      "Please enter first letter of last name as capital\n"
     ]
    }
   ],
   "source": [
    "a=input(\"Enter fname:\")#\"Rukaiya\"\n",
    "b=input(\"Enter lname:\")#\"Merchant\"\n",
    "if a==\"Rukaiya\" and b==\"Merchant\":\n",
    "    print(\"This is my Valid name!\")\n",
    "elif a==\"rukaiya\" and b==\"Merchant\":\n",
    "    print(\"Please enter first letter of first name as capital\")\n",
    "elif a==\"Rukaiya\" or b==\"merchant\":\n",
    "    print(\"Please enter first letter of last name as capital\")\n",
    "else:\n",
    "    print(\"Please enter valid name\")\n",
    "#why this output since nested if statement is used!!"
   ]
  },
  {
   "cell_type": "code",
   "execution_count": null,
   "id": "54f6d6e6",
   "metadata": {},
   "outputs": [],
   "source": [
    "a=input(\"Enter fname:\")#\"Rukaiya\"\n",
    "b=input(\"Enter lname:\")#\"Merchant\"\n",
    "if a==\"Rukaiya\" and b==\"Merchant\":\n",
    "    print(\"This is my Valid name!\")\n",
    "elif a==\"Rukaiya\" or b==\"Merchant\":\n",
    "    print(\"Please enter first letter capital of the first name \")\n",
    "else:\n",
    "    print(\"Please enter valid name\")"
   ]
  },
  {
   "cell_type": "code",
   "execution_count": 8,
   "id": "b2769723",
   "metadata": {},
   "outputs": [
    {
     "name": "stdout",
     "output_type": "stream",
     "text": [
      "ashvjew\n"
     ]
    }
   ],
   "source": [
    "q=8\n",
    "r=0\n",
    "if q<r or r<q: print(\"ashvjew\")"
   ]
  },
  {
   "cell_type": "markdown",
   "id": "80b7ce8e",
   "metadata": {},
   "source": [
    "# WHILE LOOP"
   ]
  },
  {
   "cell_type": "markdown",
   "id": "d82e5f1f",
   "metadata": {},
   "source": [
    "With the help of while loop we can execute a set of statements as long as a condition is true."
   ]
  },
  {
   "cell_type": "code",
   "execution_count": 32,
   "id": "84d55baa",
   "metadata": {},
   "outputs": [
    {
     "name": "stdout",
     "output_type": "stream",
     "text": [
      "This is: 1\n",
      "This is valid\n",
      "This is: 2\n",
      "This is valid\n",
      "This is: 3\n",
      "This is valid\n",
      "This is: 4\n",
      "This is valid\n",
      "This is: 5\n",
      "This is valid\n",
      "This is: 6\n",
      "This is valid\n",
      "This is: 7\n",
      "This is valid\n",
      "This is: 8\n",
      "This is valid\n",
      "This is: 9\n",
      "This is valid\n",
      "This is invalidddd!\n"
     ]
    }
   ],
   "source": [
    "ins=0\n",
    "fs=100\n",
    "i=1\n",
    "while i>0 and i<=9:\n",
    "    print(\"This is:\",i)\n",
    "    i+=1\n",
    "    print(\"This is valid\")\n",
    "else:\n",
    "    print(\"This is invalidddd!\")\n",
    "#But here the value starts from 2 WE WANT THE VALUE TO START FROM 1 SO HOW WILL WE CODE??????"
   ]
  },
  {
   "cell_type": "code",
   "execution_count": 26,
   "id": "4a2a81f5",
   "metadata": {},
   "outputs": [
    {
     "name": "stdout",
     "output_type": "stream",
     "text": [
      "Initial speed is : 1\n",
      "Incremented speed is:  2\n",
      "Initial speed is : 2\n",
      "Incremented speed is:  3\n",
      "Initial speed is : 3\n",
      "Incremented speed is:  4\n",
      "Initial speed is : 4\n",
      "Incremented speed is:  5\n",
      "Initial speed is : 5\n",
      "Incremented speed is:  6\n",
      "Initial speed is : 6\n",
      "Incremented speed is:  7\n",
      "Initial speed is : 7\n",
      "Incremented speed is:  8\n",
      "Initial speed is : 8\n",
      "Incremented speed is:  9\n",
      "Initial speed is : 9\n",
      "Incremented speed is:  10\n",
      "Initial speed is : 10\n",
      "Incremented speed is:  11\n",
      "Initial speed is : 11\n",
      "Incremented speed is:  12\n",
      "Initial speed is : 12\n",
      "Incremented speed is:  13\n",
      "Initial speed is : 13\n",
      "Incremented speed is:  14\n",
      "Initial speed is : 14\n",
      "Incremented speed is:  15\n",
      "Initial speed is : 15\n",
      "Incremented speed is:  16\n",
      "Initial speed is : 16\n",
      "Incremented speed is:  17\n",
      "Initial speed is : 17\n",
      "Incremented speed is:  18\n",
      "Initial speed is : 18\n",
      "Incremented speed is:  19\n"
     ]
    }
   ],
   "source": [
    "ins=0\n",
    "fs=100\n",
    "i=1\n",
    "while i>0 and i<19:\n",
    "    \n",
    "    print(\"Initial speed is :\",i)\n",
    "    i+=1\n",
    "    print(\"Incremented speed is: \",i)"
   ]
  },
  {
   "cell_type": "code",
   "execution_count": 33,
   "id": "e894f137",
   "metadata": {},
   "outputs": [
    {
     "name": "stdout",
     "output_type": "stream",
     "text": [
      "The ins speed is less than fs\n",
      "The incremented ins speed is:  1\n",
      "The ins speed is less than fs\n",
      "The incremented ins speed is:  2\n",
      "The ins speed is less than fs\n",
      "The incremented ins speed is:  3\n",
      "The ins speed is less than fs\n",
      "The incremented ins speed is:  4\n",
      "The ins speed is less than fs\n",
      "The incremented ins speed is:  5\n",
      "The ins speed is less than fs\n",
      "The incremented ins speed is:  6\n",
      "The ins speed is less than fs\n",
      "The incremented ins speed is:  7\n",
      "The ins speed is less than fs\n",
      "The incremented ins speed is:  8\n",
      "The ins speed is less than fs\n",
      "The incremented ins speed is:  9\n",
      "The ins speed is less than fs\n",
      "The incremented ins speed is:  10\n"
     ]
    }
   ],
   "source": [
    "ins=0\n",
    "fs=10\n",
    "while ins<fs:\n",
    "    print(\"The ins speed is less than fs\")\n",
    "    ins=ins+1\n",
    "    print(\"The incremented ins speed is: \",ins)"
   ]
  },
  {
   "cell_type": "code",
   "execution_count": null,
   "id": "ab1ae87b",
   "metadata": {},
   "outputs": [],
   "source": [
    "i=1\n",
    "f=5\n",
    "while i<=f:\n",
    "    print(\"There is speed:\",i)\n",
    "    i=i+1\n",
    "    "
   ]
  },
  {
   "cell_type": "markdown",
   "id": "5481ba2f",
   "metadata": {},
   "source": [
    "# we can have while loop <<<<< else<<<< and while loop again.\n",
    " So for while loop while else is also a valid condition and if else is also a valid condition, "
   ]
  },
  {
   "cell_type": "markdown",
   "id": "995c45ed",
   "metadata": {},
   "source": [
    "# ONLY IN PYTHON LANGUAGE THERE IS WHILE ELSE STATEMENTS & THIS WHILE ELSE DOENT EXISTS IN ANY OTHER PROGRAMMING LANGUAGES."
   ]
  },
  {
   "cell_type": "code",
   "execution_count": 31,
   "id": "749e864d",
   "metadata": {},
   "outputs": [
    {
     "name": "stdout",
     "output_type": "stream",
     "text": [
      "Valid! 1\n",
      "Valid! 2\n",
      "Valid! 3\n",
      "Valid! 4\n",
      "Valid! 5\n",
      "1\n",
      "2\n",
      "3\n",
      "4\n"
     ]
    }
   ],
   "source": [
    "a=1\n",
    "b=5\n",
    "i=0\n",
    "while a<=b:\n",
    "    print(\"Valid!\",a)\n",
    "    a+=1\n",
    "else: \n",
    "    while i<4:\n",
    "        i=i+1\n",
    "        print(i)"
   ]
  },
  {
   "cell_type": "code",
   "execution_count": 34,
   "id": "cea44551",
   "metadata": {},
   "outputs": [
    {
     "name": "stdout",
     "output_type": "stream",
     "text": [
      "This is valid\n",
      "This is valid\n",
      "This is valid\n",
      "This is valid\n",
      "This is: 5\n"
     ]
    }
   ],
   "source": [
    "#Study this again\n",
    "ins=0\n",
    "fs=100\n",
    "i=1\n",
    "while ins<fs:\n",
    "    print(\"This is valid\")\n",
    "    i=i+1\n",
    "    if i==5:\n",
    "        print(\"This is:\",i)\n",
    "        break"
   ]
  },
  {
   "cell_type": "code",
   "execution_count": 36,
   "id": "cc253845",
   "metadata": {},
   "outputs": [
    {
     "name": "stdout",
     "output_type": "stream",
     "text": [
      "This is valid speed!\n",
      "This is valid speed!\n",
      "This is valid speed!\n",
      "This is valid speed!\n",
      "This is valid speed!\n",
      "The initial speed is: 5\n"
     ]
    }
   ],
   "source": [
    "ins=0\n",
    "fs=10\n",
    "while ins<fs:\n",
    "    print(\"This is valid speed!\")\n",
    "    ins=ins+1\n",
    "    if ins==5:\n",
    "        print(\"The initial speed is:\",ins)\n",
    "        break\n",
    "        "
   ]
  },
  {
   "cell_type": "markdown",
   "id": "1b172506",
   "metadata": {},
   "source": [
    "## EXTRA PRACTICING"
   ]
  },
  {
   "cell_type": "code",
   "execution_count": 30,
   "id": "fdf7b5f5",
   "metadata": {},
   "outputs": [
    {
     "name": "stdout",
     "output_type": "stream",
     "text": [
      "Please Enter your First Name: LoP\n",
      "Please Enter your Last Name: LoK\n",
      "Lop Lok\n"
     ]
    }
   ],
   "source": [
    "name=input(\"Please Enter your First Name: \")\n",
    "lname=input(\"Please Enter your Last Name: \")\n",
    "\n",
    "if name==name.upper() or name==name.lower() or name==name.capitalize():\n",
    "    print(name.capitalize(),end=\" \")\n",
    "if lname==lname.upper() or lname==lname.lower() or lname==lname.capitalize():\n",
    "    print(lname.capitalize())\n",
    "else:\n",
    "    print(name.capitalize(),end=\" \")\n",
    "    print(lname.capitalize())\n",
    "    \n",
    "    "
   ]
  },
  {
   "cell_type": "code",
   "execution_count": 29,
   "id": "64997ed4",
   "metadata": {},
   "outputs": [
    {
     "data": {
      "text/plain": [
       "'Kol'"
      ]
     },
     "execution_count": 29,
     "metadata": {},
     "output_type": "execute_result"
    }
   ],
   "source": [
    "k=\"KoL\"\n",
    "k.capitalize()"
   ]
  },
  {
   "cell_type": "code",
   "execution_count": null,
   "id": "4e6a3846",
   "metadata": {},
   "outputs": [],
   "source": []
  }
 ],
 "metadata": {
  "kernelspec": {
   "display_name": "Python 3 (ipykernel)",
   "language": "python",
   "name": "python3"
  },
  "language_info": {
   "codemirror_mode": {
    "name": "ipython",
    "version": 3
   },
   "file_extension": ".py",
   "mimetype": "text/x-python",
   "name": "python",
   "nbconvert_exporter": "python",
   "pygments_lexer": "ipython3",
   "version": "3.9.7"
  }
 },
 "nbformat": 4,
 "nbformat_minor": 5
}
