{
 "cells": [
  {
   "cell_type": "code",
   "execution_count": 2,
   "id": "08c8710b",
   "metadata": {},
   "outputs": [],
   "source": [
    "class test:\n",
    "    def __init__(self,a,b,c,d):\n",
    "        self.a=a\n",
    "        self.b=b\n",
    "        self.c=c\n",
    "        self.d=d\n",
    "        \n",
    "    def test1(self,v):\n",
    "        return v-self.a\n",
    "    \n",
    "    def __str__(self):\n",
    "        return \"This is a test method created for abstraction\""
   ]
  },
  {
   "cell_type": "code",
   "execution_count": 3,
   "id": "9936ce4d",
   "metadata": {},
   "outputs": [],
   "source": [
    "o=test(5,6,7,8)"
   ]
  },
  {
   "cell_type": "code",
   "execution_count": 4,
   "id": "c6db5709",
   "metadata": {},
   "outputs": [
    {
     "data": {
      "text/plain": [
       "3"
      ]
     },
     "execution_count": 4,
     "metadata": {},
     "output_type": "execute_result"
    }
   ],
   "source": [
    "o.test1(8)"
   ]
  },
  {
   "cell_type": "code",
   "execution_count": 5,
   "id": "e52f4a73",
   "metadata": {
    "scrolled": true
   },
   "outputs": [
    {
     "name": "stdout",
     "output_type": "stream",
     "text": [
      "<class '__main__.test'>\n"
     ]
    }
   ],
   "source": [
    "print(test)"
   ]
  },
  {
   "cell_type": "code",
   "execution_count": 6,
   "id": "9a46bf30",
   "metadata": {},
   "outputs": [
    {
     "name": "stdout",
     "output_type": "stream",
     "text": [
      "This is a test method created for abstraction\n"
     ]
    }
   ],
   "source": [
    "print(o)"
   ]
  },
  {
   "cell_type": "markdown",
   "id": "a3699c77",
   "metadata": {},
   "source": [
    "So now watch carefully"
   ]
  },
  {
   "cell_type": "code",
   "execution_count": 7,
   "id": "24736c98",
   "metadata": {},
   "outputs": [],
   "source": [
    "class test:\n",
    "    def __init__(self,a,b,c,d):\n",
    "        self._a=a#Changes made here \n",
    "        self.b=b\n",
    "        self.c=c\n",
    "        self.d=d\n",
    "        \n",
    "    def test1(self,v):\n",
    "        return v-self.a\n",
    "    \n",
    "    def __str__(self):\n",
    "        return \"This is a test method created for abstraction\""
   ]
  },
  {
   "cell_type": "code",
   "execution_count": 8,
   "id": "a342c2a0",
   "metadata": {},
   "outputs": [],
   "source": [
    "s=test(5,6,7,8)"
   ]
  },
  {
   "cell_type": "code",
   "execution_count": 9,
   "id": "f5935b79",
   "metadata": {},
   "outputs": [
    {
     "ename": "AttributeError",
     "evalue": "'test' object has no attribute 'a'",
     "output_type": "error",
     "traceback": [
      "\u001b[1;31m---------------------------------------------------------------------------\u001b[0m",
      "\u001b[1;31mAttributeError\u001b[0m                            Traceback (most recent call last)",
      "Cell \u001b[1;32mIn[9], line 1\u001b[0m\n\u001b[1;32m----> 1\u001b[0m \u001b[43ms\u001b[49m\u001b[38;5;241;43m.\u001b[39;49m\u001b[43mtest1\u001b[49m\u001b[43m(\u001b[49m\u001b[38;5;241;43m9\u001b[39;49m\u001b[43m)\u001b[49m\n",
      "Cell \u001b[1;32mIn[7], line 9\u001b[0m, in \u001b[0;36mtest.test1\u001b[1;34m(self, v)\u001b[0m\n\u001b[0;32m      8\u001b[0m \u001b[38;5;28;01mdef\u001b[39;00m \u001b[38;5;21mtest1\u001b[39m(\u001b[38;5;28mself\u001b[39m,v):\n\u001b[1;32m----> 9\u001b[0m     \u001b[38;5;28;01mreturn\u001b[39;00m v\u001b[38;5;241m-\u001b[39m\u001b[38;5;28;43mself\u001b[39;49m\u001b[38;5;241;43m.\u001b[39;49m\u001b[43ma\u001b[49m\n",
      "\u001b[1;31mAttributeError\u001b[0m: 'test' object has no attribute 'a'"
     ]
    }
   ],
   "source": [
    "s.test1(9)"
   ]
  },
  {
   "cell_type": "markdown",
   "id": "76b1534c",
   "metadata": {},
   "source": [
    "## Abstraction \n",
    "In python is defined as a process of handling complexity by hiding unnecessary information from the user. This is one of the core concepts of object-oriented programming (OOP) languages\n",
    "\n",
    "Let's take another example - When we use the TV remote to increase the volume. We don't know how pressing a key increases the volume of the TV. We only know to press the \"+\" button to increase the volume. That is exactly the abstraction that works in the object-oriented concept."
   ]
  },
  {
   "cell_type": "markdown",
   "id": "48ad49ee",
   "metadata": {},
   "source": [
    "So here we can say that it is a complete different variable \n",
    "But this concept is called as abstraction! "
   ]
  },
  {
   "cell_type": "markdown",
   "id": "1e1e3372",
   "metadata": {},
   "source": [
    "There are public variables which you can access within a class, function packages and also outside the classes functions and packages we can definetly access them this is called as public variable "
   ]
  },
  {
   "cell_type": "markdown",
   "id": "390cb559",
   "metadata": {},
   "source": [
    "Protected variable Maybe within a function or class and even outside function or class but not outside the packages "
   ]
  },
  {
   "cell_type": "markdown",
   "id": "d0c29920",
   "metadata": {},
   "source": [
    "Private variable only within a class not outside classes absolutely no access if you have created a private variable! "
   ]
  },
  {
   "cell_type": "markdown",
   "id": "95b5e5e3",
   "metadata": {},
   "source": [
    "These variables that are declared as keywords -private public or protected are in other programming languages but not in python programming language!  "
   ]
  },
  {
   "cell_type": "markdown",
   "id": "d0a7378d",
   "metadata": {},
   "source": [
    "### In other programming languages they try to implement abstraction strictly by using keywords also but not in python programming languages there is No keyword it is symbolic!"
   ]
  },
  {
   "cell_type": "markdown",
   "id": "f6ee8475",
   "metadata": {},
   "source": [
    "# In python Abstraction is symbolised !"
   ]
  },
  {
   "cell_type": "markdown",
   "id": "aa3c0710",
   "metadata": {},
   "source": [
    "### No underscore -No underscore means Public variable you can access them easily outside as well!"
   ]
  },
  {
   "cell_type": "markdown",
   "id": "7ac3cc9b",
   "metadata": {},
   "source": [
    "### _-Single underscore means Protected variable where you can acess them outside the class but not the packages "
   ]
  },
  {
   "cell_type": "markdown",
   "id": "5815172a",
   "metadata": {},
   "source": [
    "### __-Double underscore means Private variable where you cannot directly access them outside the class "
   ]
  },
  {
   "cell_type": "code",
   "execution_count": 10,
   "id": "6053a104",
   "metadata": {},
   "outputs": [],
   "source": [
    "class test:\n",
    "    def __init__(self,a,b,c,d):\n",
    "        self._a=a#Changes made here Single underscore Protected variable\n",
    "        self.b=b\n",
    "        self.c=c\n",
    "        self.d=d\n",
    "        \n",
    "    def test_custom(self,v):\n",
    "        return v-self._a#Changes made here Single underscore Protected variable\n",
    "    \n",
    "    def __str__(self):\n",
    "        return \"This is a test method created for abstraction\""
   ]
  },
  {
   "cell_type": "code",
   "execution_count": 11,
   "id": "dcc2dd59",
   "metadata": {},
   "outputs": [],
   "source": [
    "t=test(5,6,7,8)"
   ]
  },
  {
   "cell_type": "code",
   "execution_count": 12,
   "id": "4d362107",
   "metadata": {},
   "outputs": [
    {
     "data": {
      "text/plain": [
       "3"
      ]
     },
     "execution_count": 12,
     "metadata": {},
     "output_type": "execute_result"
    }
   ],
   "source": [
    "t.test_custom(8)"
   ]
  },
  {
   "cell_type": "code",
   "execution_count": 13,
   "id": "8a3bef1f",
   "metadata": {},
   "outputs": [
    {
     "data": {
      "text/plain": [
       "5"
      ]
     },
     "execution_count": 13,
     "metadata": {},
     "output_type": "execute_result"
    }
   ],
   "source": [
    "t._a#Here we were able to access "
   ]
  },
  {
   "cell_type": "code",
   "execution_count": 6,
   "id": "071caaa2",
   "metadata": {},
   "outputs": [],
   "source": [
    "class test:\n",
    "    def __init__(self,a,b,c,d):\n",
    "        self.__a=a#Changes made here Double underscore Private variable\n",
    "        self.b=b\n",
    "        self.c=c\n",
    "        self.d=d\n",
    "        \n",
    "    def test_custom(self,v):\n",
    "        return v-self.__a#Changes made here Double underscore Private variable\n",
    "    \n",
    "    def __str__(self):\n",
    "        return \"This is a test method created for abstraction\""
   ]
  },
  {
   "cell_type": "code",
   "execution_count": 7,
   "id": "4785a442",
   "metadata": {},
   "outputs": [],
   "source": [
    "y=test(5,6,7,8)"
   ]
  },
  {
   "cell_type": "code",
   "execution_count": 8,
   "id": "ceabf1c0",
   "metadata": {},
   "outputs": [
    {
     "data": {
      "text/plain": [
       "3"
      ]
     },
     "execution_count": 8,
     "metadata": {},
     "output_type": "execute_result"
    }
   ],
   "source": [
    "y.test_custom(8)"
   ]
  },
  {
   "cell_type": "code",
   "execution_count": 9,
   "id": "5116cc57",
   "metadata": {},
   "outputs": [
    {
     "ename": "AttributeError",
     "evalue": "'test' object has no attribute '__a'",
     "output_type": "error",
     "traceback": [
      "\u001b[1;31m---------------------------------------------------------------------------\u001b[0m",
      "\u001b[1;31mAttributeError\u001b[0m                            Traceback (most recent call last)",
      "Cell \u001b[1;32mIn[9], line 1\u001b[0m\n\u001b[1;32m----> 1\u001b[0m \u001b[43my\u001b[49m\u001b[38;5;241;43m.\u001b[39;49m\u001b[43m__a\u001b[49m\u001b[38;5;66;03m#Here we are not able to access since private variables are not accessible outside of functions and the classes \u001b[39;00m\n",
      "\u001b[1;31mAttributeError\u001b[0m: 'test' object has no attribute '__a'"
     ]
    }
   ],
   "source": [
    "y.__a#Here we are not able to access since private variables are not accessible outside of functions and the classes "
   ]
  },
  {
   "cell_type": "markdown",
   "id": "8955c830",
   "metadata": {},
   "source": [
    "### So what if you want to acess it there is a way through which you can call it!"
   ]
  },
  {
   "cell_type": "code",
   "execution_count": 10,
   "id": "95a65c2e",
   "metadata": {
    "scrolled": true
   },
   "outputs": [
    {
     "data": {
      "text/plain": [
       "5"
      ]
     },
     "execution_count": 10,
     "metadata": {},
     "output_type": "execute_result"
    }
   ],
   "source": [
    "y._test__a#So we called the _class i.e _test"
   ]
  },
  {
   "cell_type": "markdown",
   "id": "e2640f81",
   "metadata": {},
   "source": [
    "Because python does not strictly apply abstraction in any way on its methods or functions python has just symbolized it and the developer of python programming language says that you should respect the variables created by the users and use symbols for abstraction and use a notation to call it "
   ]
  },
  {
   "cell_type": "markdown",
   "id": "3752c2a3",
   "metadata": {},
   "source": [
    "## INHERITANCE"
   ]
  },
  {
   "cell_type": "markdown",
   "id": "73dccd2a",
   "metadata": {},
   "source": [
    "In python inheritance allows you to inherit a property from the parent class to  a child class!\n",
    "\n",
    "Inheritance allows us to define a class that inherits all the methods and properties from another class.\n",
    "\n",
    "Parent class is the class being inherited from, also called base class.\n",
    "\n",
    "Child class is the class that inherits from another class, also called derived class."
   ]
  },
  {
   "cell_type": "markdown",
   "id": "dc6184e1",
   "metadata": {},
   "source": [
    "Why to rewrite a code? when we can absolutely reutilize the code !!"
   ]
  },
  {
   "cell_type": "code",
   "execution_count": 19,
   "id": "a6bea4b9",
   "metadata": {},
   "outputs": [],
   "source": [
    "class test2(test):\n",
    "#So here self is the pointer of init method and test2 class and j is the object of test2 class and args is nothing \n",
    "#but the arguments i.e a,b,c,d of class test we can either write it like a,b,c,d or as *args \n",
    "        \n",
    "    def __init__(self,j,*args):\n",
    "        super(test2,self).__init__(*args)\n",
    "#So here super(test2,self) is calling the parent class i.e test and init (*args) is calling the arguments \n",
    "#passed in the parent class without this initiation we cannot initiate anything!\n",
    "        self.j=j\n",
    "        \n",
    "    "
   ]
  },
  {
   "cell_type": "code",
   "execution_count": 20,
   "id": "17994bae",
   "metadata": {},
   "outputs": [
    {
     "data": {
      "text/plain": [
       "8"
      ]
     },
     "execution_count": 20,
     "metadata": {},
     "output_type": "execute_result"
    }
   ],
   "source": [
    "m=test2(8,7,8,9,6)\n",
    "m.j"
   ]
  },
  {
   "cell_type": "code",
   "execution_count": 21,
   "id": "d17102d8",
   "metadata": {},
   "outputs": [
    {
     "data": {
      "text/plain": [
       "8"
      ]
     },
     "execution_count": 21,
     "metadata": {},
     "output_type": "execute_result"
    }
   ],
   "source": [
    "m.b"
   ]
  },
  {
   "cell_type": "code",
   "execution_count": 22,
   "id": "b0d43f3e",
   "metadata": {
    "scrolled": true
   },
   "outputs": [
    {
     "data": {
      "text/plain": [
       "9"
      ]
     },
     "execution_count": 22,
     "metadata": {},
     "output_type": "execute_result"
    }
   ],
   "source": [
    "m.c"
   ]
  },
  {
   "cell_type": "code",
   "execution_count": 23,
   "id": "47241229",
   "metadata": {},
   "outputs": [
    {
     "data": {
      "text/plain": [
       "6"
      ]
     },
     "execution_count": 23,
     "metadata": {},
     "output_type": "execute_result"
    }
   ],
   "source": [
    "m.d"
   ]
  },
  {
   "cell_type": "code",
   "execution_count": null,
   "id": "f0699ad8",
   "metadata": {},
   "outputs": [],
   "source": [
    "#This is how we call private variables!"
   ]
  },
  {
   "cell_type": "code",
   "execution_count": 28,
   "id": "0de800ca",
   "metadata": {},
   "outputs": [
    {
     "data": {
      "text/plain": [
       "7"
      ]
     },
     "execution_count": 28,
     "metadata": {},
     "output_type": "execute_result"
    }
   ],
   "source": [
    "m._test__a "
   ]
  },
  {
   "cell_type": "code",
   "execution_count": 94,
   "id": "ea9e576b",
   "metadata": {},
   "outputs": [
    {
     "data": {
      "text/plain": [
       "2"
      ]
     },
     "execution_count": 94,
     "metadata": {},
     "output_type": "execute_result"
    }
   ],
   "source": [
    "m.test_custom(7)"
   ]
  },
  {
   "cell_type": "markdown",
   "id": "062e3a3b",
   "metadata": {},
   "source": [
    "#### So here with the help of inheritance i am able to access the parent class test- functions, variables and methods with the child class objects.\n"
   ]
  },
  {
   "cell_type": "markdown",
   "id": "602ecf66",
   "metadata": {},
   "source": [
    "### This is the property of inheritance where we inherit the properties of a parent class to the child classjust to avoid re writing make maximum reusability of the code! "
   ]
  },
  {
   "cell_type": "code",
   "execution_count": 29,
   "id": "c1640558",
   "metadata": {
    "scrolled": true
   },
   "outputs": [
    {
     "ename": "AttributeError",
     "evalue": "'test2' object has no attribute 'a'",
     "output_type": "error",
     "traceback": [
      "\u001b[1;31m---------------------------------------------------------------------------\u001b[0m",
      "\u001b[1;31mAttributeError\u001b[0m                            Traceback (most recent call last)",
      "Cell \u001b[1;32mIn[29], line 1\u001b[0m\n\u001b[1;32m----> 1\u001b[0m \u001b[43mm\u001b[49m\u001b[38;5;241;43m.\u001b[39;49m\u001b[43ma\u001b[49m\u001b[38;5;66;03m#Private variable needs class name as well check above!\u001b[39;00m\n",
      "\u001b[1;31mAttributeError\u001b[0m: 'test2' object has no attribute 'a'"
     ]
    }
   ],
   "source": [
    "m.a#Private variable needs class name as well check above!"
   ]
  },
  {
   "cell_type": "code",
   "execution_count": 55,
   "id": "e0aa23f8",
   "metadata": {},
   "outputs": [
    {
     "data": {
      "text/plain": [
       "7"
      ]
     },
     "execution_count": 55,
     "metadata": {},
     "output_type": "execute_result"
    }
   ],
   "source": [
    "m._test__a"
   ]
  },
  {
   "cell_type": "markdown",
   "id": "e5f93555",
   "metadata": {},
   "source": [
    "Create 3 class \n",
    "1)test inside that function a returns str \"This is function of test\"\n",
    "2)test1 class same just str different\n",
    "3)child class test3 inherit the methods and properties from class test and test1 "
   ]
  },
  {
   "cell_type": "markdown",
   "id": "fdf672e2",
   "metadata": {},
   "source": [
    "### This is not a valid method because we are creating objects of the parent class and then calling its function but how to manage without creating an object?"
   ]
  },
  {
   "cell_type": "code",
   "execution_count": 71,
   "id": "64dc7f82",
   "metadata": {
    "scrolled": true
   },
   "outputs": [
    {
     "data": {
      "text/plain": [
       "('This function belongs to test', 'This function belongs to test1')"
      ]
     },
     "execution_count": 71,
     "metadata": {},
     "output_type": "execute_result"
    }
   ],
   "source": [
    "class test:       \n",
    "    def a(self):\n",
    "        return \"This function belongs to test\"\n",
    "class test1:\n",
    "    def a(self):\n",
    "        return \"This function belongs to test1\"\n",
    "class test2():\n",
    "    def allt(self):\n",
    "        t1=test()\n",
    "        c=t1.a()\n",
    "        t2=test1()\n",
    "        d=t2.a()\n",
    "        return c,d\n",
    "t=test2()\n",
    "t.allt()"
   ]
  },
  {
   "cell_type": "markdown",
   "id": "50bd2807",
   "metadata": {},
   "source": [
    "## This is another way to do it "
   ]
  },
  {
   "cell_type": "code",
   "execution_count": 118,
   "id": "ebd1c55b",
   "metadata": {},
   "outputs": [],
   "source": [
    "class test():       \n",
    "    def a(self):\n",
    "        r=\"hi\"\n",
    "        return r,\"This function belongs to test\"\n",
    "class test1():\n",
    "    def a(self):\n",
    "        return \"This function belongs to test1\"\n",
    "class test2(test,test1):\n",
    "    def allt(self):\n",
    "        return (test.a(self),test1.a(self))"
   ]
  },
  {
   "cell_type": "code",
   "execution_count": 119,
   "id": "cd12eb53",
   "metadata": {},
   "outputs": [],
   "source": [
    "t=test2()"
   ]
  },
  {
   "cell_type": "code",
   "execution_count": 120,
   "id": "cc4d4f8b",
   "metadata": {
    "scrolled": true
   },
   "outputs": [
    {
     "data": {
      "text/plain": [
       "(('hi', 'This function belongs to test'), 'This function belongs to test1')"
      ]
     },
     "execution_count": 120,
     "metadata": {},
     "output_type": "execute_result"
    }
   ],
   "source": [
    "t.allt()"
   ]
  },
  {
   "cell_type": "markdown",
   "id": "aaddf420",
   "metadata": {},
   "source": [
    "In java multiple inheritence is not possible!!!"
   ]
  },
  {
   "cell_type": "markdown",
   "id": "dd54b025",
   "metadata": {},
   "source": [
    "### NOTE:Cannot use two init methods becuase only one init method will work!"
   ]
  },
  {
   "cell_type": "code",
   "execution_count": null,
   "id": "bac8d71a",
   "metadata": {},
   "outputs": [],
   "source": [
    "class FooBase(object):\n",
    "    def foo(self): pass\n",
    "\n",
    "class A(FooBase):\n",
    "    def foo(self):\n",
    "        super(A, self).foo()\n",
    "        print 'A.foo()'\n",
    "\n",
    "class B(FooBase):\n",
    "    def foo(self):\n",
    "        super(B, self).foo()\n",
    "        print 'B.foo()'\n",
    "\n",
    "class C(A, B):\n",
    "    def foo(self):\n",
    "        super(C, self).foo()\n",
    "        print 'C.foo()'\n"
   ]
  },
  {
   "cell_type": "markdown",
   "id": "60d197ea",
   "metadata": {},
   "source": [
    "asks why there has to be a common base:\n",
    "\n",
    "Without FooBase that implements foo but doesn't call super() the last class that does call super() will get an attribute error as there is no base method to call.\n",
    "\n",
    "If there were separate base classes class A(AFooBase): and class B(BFooBase): the super() call in A would call the method in AFooBase and the method in B would never be called. When the base is common to all of the classes it goes to the end of the method resolution order and you can be certain that no matter how the classes are defined the base class method will be the last one called."
   ]
  },
  {
   "cell_type": "markdown",
   "id": "830faaa9",
   "metadata": {},
   "source": [
    "## Is multiple inheritance available in Python?\n",
    "Yes, Python supports multiple inheritance. Like C++, a class can be derived from more than one base classes in Python."
   ]
  },
  {
   "cell_type": "markdown",
   "id": "d5769e3a",
   "metadata": {},
   "source": [
    "## Multiple inheritance is useful in many situations as a developer, but it greatly increases the complexity of the language, which makes life harder for both the compiler developers and the programmers.\n",
    "\n",
    "One problem occurs when two parent classes have data members or methods of the same name. It is difficult to resolve which is being referenced by the sub-class."
   ]
  },
  {
   "cell_type": "markdown",
   "id": "32e8b193",
   "metadata": {},
   "source": [
    "One problem occurs when two parent classes have data members or methods of the same name. It is difficult to resolve which is being referenced by the sub-class.\n",
    "\n",
    "Another occurs when two parent classes inherit from the same base class, forming a \"diamond\" pattern in the inheritance hierarchy.\n",
    "\n",
    "The order that the initialisation/elaboration of the parent classes needs to be specified - this can sometimes lead to behaviour changing when the order of the inheritance changes - something may catch developers by surprise.\n",
    "\n",
    "Some languages support a reference to 'super', or equivalent, which refers to an attribute of the base class for this object. That becomes difficult to support in a language with multiple inheritance.\n",
    "\n",
    "Some languages attempt to provide an automatic Object-Relational Model, so the objects can be made persistent with a regular RDMS. This mapping is difficult at the best of times (it has been described as the \"Vietnam War\" of software development), but it is much more difficult if multiple inheritance is supported."
   ]
  },
  {
   "cell_type": "markdown",
   "id": "ebc4b9f6",
   "metadata": {},
   "source": [
    "### This how we use to make class"
   ]
  },
  {
   "cell_type": "code",
   "execution_count": 141,
   "id": "41f0d072",
   "metadata": {},
   "outputs": [],
   "source": [
    "class car():\n",
    "    #This is an inbuild method or function\n",
    "    def __init__(a,mileage,year,make,model):\n",
    "        a.mileage=mileage\n",
    "        a.year=year\n",
    "        a.make=make\n",
    "        a.model=model\n",
    "    \n",
    "#Now creating our own method or function where we want the age of the car\n",
    "    def age(self,current_year):\n",
    "        return current_year-a.year"
   ]
  },
  {
   "cell_type": "markdown",
   "id": "35a36cf1",
   "metadata": {},
   "source": [
    "## Now different examples! "
   ]
  },
  {
   "cell_type": "code",
   "execution_count": 134,
   "id": "16758978",
   "metadata": {},
   "outputs": [
    {
     "name": "stdout",
     "output_type": "stream",
     "text": [
      "Ineuron Company was established in 2018\n"
     ]
    }
   ],
   "source": [
    "class Ineuron:\n",
    "    company_website=\"https://ineuron.ai/\"\n",
    "    name=\"Ineuron\"\n",
    "    \n",
    "    def contact_Details(self):\n",
    "        print(\"Contact us at\",self.company_website)\n",
    "        \n",
    "class Datascience(Ineuron):\n",
    "    def __init__(self):\n",
    "        self.year_of_establishment=2018\n",
    "        \n",
    "    def est_details(self):\n",
    "        print('{} Company was established in {}'.format(self.name,self.year_of_establishment))\n",
    "        \n",
    "try1=Datascience()\n",
    "try1.est_details()"
   ]
  },
  {
   "cell_type": "code",
   "execution_count": 144,
   "id": "bb04084a",
   "metadata": {},
   "outputs": [
    {
     "name": "stdout",
     "output_type": "stream",
     "text": [
      "multi_task\n",
      "Name: Ruks\n",
      "Contact us at https://ineuron.ai/\n"
     ]
    }
   ],
   "source": [
    "class OS:\n",
    "    multi_task=True\n",
    "    os_name='Windows OS'\n",
    "    name=\"Ruks\"\n",
    "\n",
    "class windows(OS,Ineuron):#Check this is placing is different below\n",
    "    def __init__(self):\n",
    "        if self.multi_task is True:\n",
    "            print(\"multi_task\")\n",
    "        print(\"Name: {}\".format(self.name))\n",
    "        \n",
    "w=windows()\n",
    "#Here we are able to get name as ruks and look below what we are able to get\n",
    "w.contact_Details()#function/method of class that is why parenthesis!"
   ]
  },
  {
   "cell_type": "code",
   "execution_count": 140,
   "id": "e03148f8",
   "metadata": {
    "scrolled": true
   },
   "outputs": [
    {
     "data": {
      "text/plain": [
       "'https://ineuron.ai/'"
      ]
     },
     "execution_count": 140,
     "metadata": {},
     "output_type": "execute_result"
    }
   ],
   "source": [
    "w.company_website#variable"
   ]
  },
  {
   "cell_type": "markdown",
   "id": "a56b1a3b",
   "metadata": {},
   "source": [
    "## So here in above and below example is is giving priority to inherited variable OS and ineuron"
   ]
  },
  {
   "cell_type": "markdown",
   "id": "bbd6a059",
   "metadata": {},
   "source": [
    "# So here multiple inheritance that have same methods or functions give priority to their classes! "
   ]
  },
  {
   "cell_type": "markdown",
   "id": "7299f92f",
   "metadata": {},
   "source": [
    "## If they have different methods i.e both the class then they will inherit both classes but in case of same method they will give priority"
   ]
  },
  {
   "cell_type": "code",
   "execution_count": 145,
   "id": "6e5ecfe5",
   "metadata": {},
   "outputs": [
    {
     "name": "stdout",
     "output_type": "stream",
     "text": [
      "multi_task\n",
      "Name: Ineuron\n"
     ]
    }
   ],
   "source": [
    "class OS:\n",
    "    multi_task=True\n",
    "    os_name='Windows OS'\n",
    "    name=\"Ruks\"\n",
    "\n",
    "class windows(Ineuron, OS):#Check this placing is different above!\n",
    "    def __init__(self):\n",
    "        if self.multi_task==True:\n",
    "            print(\"multi_task\")\n",
    "        print(\"Name: {}\".format(self.name))\n",
    "w1=windows()"
   ]
  },
  {
   "cell_type": "markdown",
   "id": "236424d4",
   "metadata": {},
   "source": [
    "## Now Multi level Inheritance!"
   ]
  },
  {
   "cell_type": "code",
   "execution_count": 150,
   "id": "83034acb",
   "metadata": {},
   "outputs": [],
   "source": [
    "class Ineuron:\n",
    "    num_of_courses=12\n",
    "    \n",
    "    \n",
    "class Datascience(Ineuron):\n",
    "    course_type=\"Data Science\"\n",
    "    \n",
    "class AI(Datascience):\n",
    "    def __init__(self):\n",
    "        self.company=\"Ineuron\"\n",
    "        print(\"The company {0} offers total {1} courses.Most trending course is {2}\".format(self.company,self.num_of_courses,self.course_type))"
   ]
  },
  {
   "cell_type": "code",
   "execution_count": 151,
   "id": "21e33f7c",
   "metadata": {},
   "outputs": [
    {
     "name": "stdout",
     "output_type": "stream",
     "text": [
      "The company Ineuron offers total 12 courses.Most trending course is Data Science\n"
     ]
    }
   ],
   "source": [
    "v=AI()"
   ]
  },
  {
   "cell_type": "markdown",
   "id": "fb485818",
   "metadata": {},
   "source": [
    "## We can create 10, 20, 100, 1000 levels of multi level inheritances!"
   ]
  },
  {
   "cell_type": "markdown",
   "id": "1a88d6ae",
   "metadata": {},
   "source": [
    "## Abstraction has a very simple meaning i have to protect my variables i have to protect my functions so i will implement abstraction in that case either by creating something as public private or protected "
   ]
  },
  {
   "cell_type": "markdown",
   "id": "81f7685b",
   "metadata": {},
   "source": [
    "## Now lets Study Encapsulation!"
   ]
  },
  {
   "cell_type": "markdown",
   "id": "addea6ac",
   "metadata": {},
   "source": [
    "Encapsulation is another way to extend classes in such a way that it will consist wrapping of a object! So in inheritance there was a parent class variable inside a function and we were reutilizing it so even in encapsulation we will be able to reutilize it but in a little different manner"
   ]
  },
  {
   "cell_type": "markdown",
   "id": "901046c3",
   "metadata": {},
   "source": [
    "I have a requirement that i will create classes create its variable but will not try to show any one the actual implementation \n",
    "so in inheritance if you dont know your parent classes how will you use it? becuase either you will call the parent class variable name or the function name!\n",
    "\n"
   ]
  },
  {
   "cell_type": "markdown",
   "id": "5450947e",
   "metadata": {},
   "source": [
    "But what if we have another requirement we have to call something from the parent class but in parent if we have created a function implemetation but we dont want to expose it to any one still i would like to re utilize how will i do it!"
   ]
  },
  {
   "cell_type": "code",
   "execution_count": null,
   "id": "7586144c",
   "metadata": {},
   "outputs": [],
   "source": [
    "So to acheive this i need to use encapsulation! "
   ]
  },
  {
   "cell_type": "markdown",
   "id": "b6ad7264",
   "metadata": {},
   "source": [
    "## For example Capsules"
   ]
  },
  {
   "cell_type": "markdown",
   "id": "662fa488",
   "metadata": {},
   "source": [
    "## We are all aware of it!\n",
    "If i take a capsule my fever will go off or for any disease but we dont know the contents inside the capsules it behaves like a CONTAINER or closed ENVELOPE"
   ]
  },
  {
   "cell_type": "markdown",
   "id": "1881c549",
   "metadata": {},
   "source": [
    "Because we dont know the implementation of the capsule but we still consume it!"
   ]
  },
  {
   "cell_type": "code",
   "execution_count": 156,
   "id": "9fc4ff44",
   "metadata": {},
   "outputs": [],
   "source": [
    "class test:\n",
    "    def __init__(self,a,b,c,d):\n",
    "        self.a=a\n",
    "        self.b=b\n",
    "        self.c=c\n",
    "        self.d=d\n",
    "        \n",
    "    def __str__(self):\n",
    "        return \"This is the function for test class\"\n",
    "    \n",
    "class test1:\n",
    "    def __init__(self,a,b,c,d):\n",
    "        self.a=a\n",
    "        self.b=b\n",
    "        self.c=c\n",
    "        self.d=d\n",
    "        \n",
    "    def __str__(self):\n",
    "        return \"This is the function for test1 class\"\n",
    "    \n",
    "class test2:\n",
    "    def __init__(self,a,b,c,d):\n",
    "        self.a=a\n",
    "        self.b=b\n",
    "        self.c=c\n",
    "        self.d=d\n",
    "        \n",
    "    def __str__(self):\n",
    "        return \"This is the function for test2 class\"\n",
    "    \n",
    "class final():\n",
    "    def __init__(self,x,y,z):#So here these are random variable and so are the ones created below \n",
    "        self.x=x\n",
    "        self.y=y\n",
    "        self.z=z\n",
    "        \n",
    "    def __str__(self):\n",
    "        return str(self.x) +\". \"+str(self.y)+\". \"+str(self.z)\n",
    "              "
   ]
  },
  {
   "cell_type": "code",
   "execution_count": 157,
   "id": "eee2f2d6",
   "metadata": {},
   "outputs": [
    {
     "name": "stdout",
     "output_type": "stream",
     "text": [
      "This is the function for test class. This is the function for test1 class. This is the function for test2 class\n"
     ]
    }
   ],
   "source": [
    "r=test(4,5,6,8)\n",
    "d=test1(2,3,5,6)\n",
    "w=test2(5,6,7,1)\n",
    "s=final(r,d,w)#Also these are created as variable or objects of the respective classes \n",
    "print(s)"
   ]
  },
  {
   "cell_type": "code",
   "execution_count": 161,
   "id": "2276409a",
   "metadata": {
    "scrolled": true
   },
   "outputs": [
    {
     "name": "stdout",
     "output_type": "stream",
     "text": [
      "This is the function for test class. This is the function for test1 class. Hey\n"
     ]
    }
   ],
   "source": [
    "r=test(4,5,6,8)\n",
    "d=test1(2,3,5,6)\n",
    "w=test2(5,6,7,1)\n",
    "s=final(r,d,\"Hey\")#Here we can change them too\n",
    "print(s)\n",
    "#So only two t,t1 got printed but final class takes 3 values x,y,z so x=t, y=t1, z=\"Hey\" \n",
    "#So in this manner we can without calling a,b,c,d f variable or object of any other class \n",
    "#simply implement them using objects or variables placed inside the final class \n",
    "#Here we are hiding the implmentation of the other classes withput using their own objects\n",
    "#or functions is called encapsulated since nothing of the above class is used or utilized the implementation is hidden!"
   ]
  },
  {
   "cell_type": "markdown",
   "id": "55080560",
   "metadata": {},
   "source": [
    "## ENCAPSULATION is basically to HIDE THE IMPLEMENTATION BY NOT USING THE VARIABLES OR OBJECTS AND CLASS FUNCTIONS IN THE OTHER CLASSES "
   ]
  },
  {
   "cell_type": "code",
   "execution_count": 162,
   "id": "1c159b20",
   "metadata": {},
   "outputs": [],
   "source": [
    "class test:\n",
    "    def __init__(self,a,b,c,d):\n",
    "        self.a=a\n",
    "        self.b=b\n",
    "        self.c=c\n",
    "        self.d=d\n",
    "        \n",
    "    def __str__(self):\n",
    "        return \"This is the function for test class\"\n",
    "    \n",
    "class test1:\n",
    "    def __init__(self,a,b,c,d):\n",
    "        self.a=a\n",
    "        self.b=b\n",
    "        self.c=c\n",
    "        self.d=d\n",
    "        \n",
    "    def __str__(self):\n",
    "        return \"This is the function for test1 class\"\n",
    "    \n",
    "class test2:\n",
    "    def __init__(self,a,b,c,d):\n",
    "        self.a=a\n",
    "        self.b=b\n",
    "        self.c=c\n",
    "        self.d=d\n",
    "        \n",
    "    def __str__(self):\n",
    "        return \"This is the function for test2 class\"\n",
    "    \n",
    "class final():\n",
    "    def __init__(self,test,test1,test2):\n",
    "        self.test=test\n",
    "        self.test1=test1\n",
    "        self.test2=test2\n",
    "        \n",
    "    def __str__(self):\n",
    "        return str(self.test) +\". \"+str(self.test1)+\". \"+str(self.test2)"
   ]
  },
  {
   "cell_type": "code",
   "execution_count": 163,
   "id": "b1049d37",
   "metadata": {},
   "outputs": [
    {
     "name": "stdout",
     "output_type": "stream",
     "text": [
      "This is the function for test class. This is the function for test1 class. This is the function for test2 class\n"
     ]
    }
   ],
   "source": [
    "t=test(4,5,6,9)\n",
    "t1=test1(7,8,9,5)\n",
    "t2=test2(1,2,5,8)\n",
    "f=final(t,t1,t2)\n",
    "print(f)"
   ]
  },
  {
   "cell_type": "markdown",
   "id": "400f0dcb",
   "metadata": {},
   "source": [
    "### Here we can create class objects(t,t1,t2) for multiple classes test,test1,test2 and inherit them in the final class to invoke the functions of these created classes test,test1,test2"
   ]
  },
  {
   "cell_type": "markdown",
   "id": "a38778b3",
   "metadata": {},
   "source": [
    "## Important notes"
   ]
  },
  {
   "cell_type": "code",
   "execution_count": null,
   "id": "2c310643",
   "metadata": {},
   "outputs": [],
   "source": [
    "Inheritance means make all the parent class objects and functions available to child "
   ]
  },
  {
   "cell_type": "code",
   "execution_count": null,
   "id": "cd0ff1d5",
   "metadata": {},
   "outputs": [],
   "source": [
    "Encapsulation hide the implemetation and ex: capsule! "
   ]
  },
  {
   "cell_type": "code",
   "execution_count": null,
   "id": "75714127",
   "metadata": {},
   "outputs": [],
   "source": [
    "__str__ it is a method of overriding instead of printing a number in hexadecimal order it will use predefine str "
   ]
  },
  {
   "cell_type": "code",
   "execution_count": null,
   "id": "42442471",
   "metadata": {},
   "outputs": [],
   "source": [
    "Encapsulation"
   ]
  },
  {
   "cell_type": "code",
   "execution_count": null,
   "id": "66dc53e3",
   "metadata": {},
   "outputs": [],
   "source": [
    "Composition type encapsulation"
   ]
  },
  {
   "cell_type": "code",
   "execution_count": null,
   "id": "3dac7611",
   "metadata": {},
   "outputs": [],
   "source": [
    "Dynamic extension type encapsulation"
   ]
  },
  {
   "cell_type": "code",
   "execution_count": null,
   "id": "491b31b3",
   "metadata": {},
   "outputs": [],
   "source": [
    "operator overwriting"
   ]
  },
  {
   "cell_type": "code",
   "execution_count": null,
   "id": "1013d478",
   "metadata": {},
   "outputs": [],
   "source": [
    "polymorphisim"
   ]
  },
  {
   "cell_type": "code",
   "execution_count": null,
   "id": "96f633f1",
   "metadata": {},
   "outputs": [],
   "source": [
    "duct typing"
   ]
  },
  {
   "cell_type": "code",
   "execution_count": null,
   "id": "3340fdfd",
   "metadata": {},
   "outputs": [],
   "source": [
    "solo"
   ]
  },
  {
   "cell_type": "code",
   "execution_count": null,
   "id": "89a4fa84",
   "metadata": {},
   "outputs": [],
   "source": [
    "deep"
   ]
  },
  {
   "cell_type": "code",
   "execution_count": null,
   "id": "39d2361c",
   "metadata": {},
   "outputs": [],
   "source": [
    "copy"
   ]
  }
 ],
 "metadata": {
  "kernelspec": {
   "display_name": "Python 3 (ipykernel)",
   "language": "python",
   "name": "python3"
  },
  "language_info": {
   "codemirror_mode": {
    "name": "ipython",
    "version": 3
   },
   "file_extension": ".py",
   "mimetype": "text/x-python",
   "name": "python",
   "nbconvert_exporter": "python",
   "pygments_lexer": "ipython3",
   "version": "3.9.7"
  }
 },
 "nbformat": 4,
 "nbformat_minor": 5
}
