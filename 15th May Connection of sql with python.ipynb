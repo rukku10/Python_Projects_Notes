{
 "cells": [
  {
   "cell_type": "markdown",
   "id": "e9c97b52",
   "metadata": {},
   "source": [
    "https://pypi.org/project/mysql-connector-python/\n",
    "\n",
    "#Link from this site!"
   ]
  },
  {
   "cell_type": "code",
   "execution_count": 1,
   "id": "afe132b1",
   "metadata": {},
   "outputs": [
    {
     "name": "stdout",
     "output_type": "stream",
     "text": [
      "Requirement already satisfied: mysql-connector-python in c:\\users\\rukaiya plumber\\anaconda3\\lib\\site-packages (8.0.32)\n",
      "Requirement already satisfied: protobuf<=3.20.3,>=3.11.0 in c:\\users\\rukaiya plumber\\anaconda3\\lib\\site-packages (from mysql-connector-python) (3.20.3)\n",
      "Note: you may need to restart the kernel to use updated packages.\n"
     ]
    }
   ],
   "source": [
    "pip install mysql-connector-python"
   ]
  },
  {
   "cell_type": "code",
   "execution_count": 26,
   "id": "5a4a480f",
   "metadata": {},
   "outputs": [
    {
     "name": "stdout",
     "output_type": "stream",
     "text": [
      "[('carbonnanotube',), ('information_schema',), ('mysql',), ('performance_schema',), ('rukaiya',), ('sakila',), ('sys',), ('world',)]\n"
     ]
    }
   ],
   "source": [
    "import mysql.connector as connection\n",
    "try:\n",
    "    #we got the below details from sql work bench connect to db< create db connection click and a dialogue box with info will appear\n",
    "    mydb=connection.connect(host=\"localhost\",user=\"root\",passwd=\"password\",use_pure=True)\n",
    "    #Check if the connection is established\n",
    "    \n",
    "    query =\"SHOW DATABASES\"\n",
    "    cursor=mydb.cursor() #create a cursor to execute queries\n",
    "    cursor.execute(query)\n",
    "    print(cursor.fetchall())\n",
    "except Exception as e:\n",
    "    mydb.close()\n",
    "    print(str(e))"
   ]
  },
  {
   "cell_type": "code",
   "execution_count": 27,
   "id": "3e3eb564",
   "metadata": {},
   "outputs": [],
   "source": [
    "import mysql.connector as connection"
   ]
  },
  {
   "cell_type": "code",
   "execution_count": 28,
   "id": "b64b79bc",
   "metadata": {},
   "outputs": [
    {
     "data": {
      "text/plain": [
       "<mysql.connector.connection.MySQLConnection at 0x1e7422d0400>"
      ]
     },
     "execution_count": 28,
     "metadata": {},
     "output_type": "execute_result"
    }
   ],
   "source": [
    "connection.connect(host=\"localhost\",user=\"root\",passwd=\"password\",use_pure=True)\n",
    "#it returns an object! Connection established of python with mysql workbench"
   ]
  },
  {
   "cell_type": "code",
   "execution_count": 29,
   "id": "4da63fad",
   "metadata": {},
   "outputs": [
    {
     "ename": "ProgrammingError",
     "evalue": "1045 (28000): Access denied for user 'root'@'localhost' (using password: YES)",
     "output_type": "error",
     "traceback": [
      "\u001b[1;31m---------------------------------------------------------------------------\u001b[0m",
      "\u001b[1;31mProgrammingError\u001b[0m                          Traceback (most recent call last)",
      "Cell \u001b[1;32mIn[29], line 1\u001b[0m\n\u001b[1;32m----> 1\u001b[0m \u001b[43mconnection\u001b[49m\u001b[38;5;241;43m.\u001b[39;49m\u001b[43mconnect\u001b[49m\u001b[43m(\u001b[49m\u001b[43mhost\u001b[49m\u001b[38;5;241;43m=\u001b[39;49m\u001b[38;5;124;43m\"\u001b[39;49m\u001b[38;5;124;43mlocalhost\u001b[39;49m\u001b[38;5;124;43m\"\u001b[39;49m\u001b[43m,\u001b[49m\u001b[43muser\u001b[49m\u001b[38;5;241;43m=\u001b[39;49m\u001b[38;5;124;43m\"\u001b[39;49m\u001b[38;5;124;43mroot\u001b[39;49m\u001b[38;5;124;43m\"\u001b[39;49m\u001b[43m,\u001b[49m\u001b[43mpasswd\u001b[49m\u001b[38;5;241;43m=\u001b[39;49m\u001b[38;5;124;43m\"\u001b[39;49m\u001b[38;5;124;43mrkijyh\u001b[39;49m\u001b[38;5;124;43m\"\u001b[39;49m\u001b[43m,\u001b[49m\u001b[43muse_pure\u001b[49m\u001b[38;5;241;43m=\u001b[39;49m\u001b[38;5;28;43;01mTrue\u001b[39;49;00m\u001b[43m)\u001b[49m\n\u001b[0;32m      2\u001b[0m \u001b[38;5;66;03m#What if i put different password\u001b[39;00m\n",
      "File \u001b[1;32m~\\anaconda3\\lib\\site-packages\\mysql\\connector\\pooling.py:294\u001b[0m, in \u001b[0;36mconnect\u001b[1;34m(*args, **kwargs)\u001b[0m\n\u001b[0;32m    292\u001b[0m \u001b[38;5;28;01mif\u001b[39;00m CMySQLConnection \u001b[38;5;129;01mand\u001b[39;00m \u001b[38;5;129;01mnot\u001b[39;00m use_pure:\n\u001b[0;32m    293\u001b[0m     \u001b[38;5;28;01mreturn\u001b[39;00m CMySQLConnection(\u001b[38;5;241m*\u001b[39margs, \u001b[38;5;241m*\u001b[39m\u001b[38;5;241m*\u001b[39mkwargs)\n\u001b[1;32m--> 294\u001b[0m \u001b[38;5;28;01mreturn\u001b[39;00m MySQLConnection(\u001b[38;5;241m*\u001b[39margs, \u001b[38;5;241m*\u001b[39m\u001b[38;5;241m*\u001b[39mkwargs)\n",
      "File \u001b[1;32m~\\anaconda3\\lib\\site-packages\\mysql\\connector\\connection.py:167\u001b[0m, in \u001b[0;36mMySQLConnection.__init__\u001b[1;34m(self, **kwargs)\u001b[0m\n\u001b[0;32m    165\u001b[0m \u001b[38;5;28;01mif\u001b[39;00m kwargs:\n\u001b[0;32m    166\u001b[0m     \u001b[38;5;28;01mtry\u001b[39;00m:\n\u001b[1;32m--> 167\u001b[0m         \u001b[38;5;28mself\u001b[39m\u001b[38;5;241m.\u001b[39mconnect(\u001b[38;5;241m*\u001b[39m\u001b[38;5;241m*\u001b[39mkwargs)\n\u001b[0;32m    168\u001b[0m     \u001b[38;5;28;01mexcept\u001b[39;00m \u001b[38;5;167;01mException\u001b[39;00m:\n\u001b[0;32m    169\u001b[0m         \u001b[38;5;66;03m# Tidy-up underlying socket on failure\u001b[39;00m\n\u001b[0;32m    170\u001b[0m         \u001b[38;5;28mself\u001b[39m\u001b[38;5;241m.\u001b[39mclose()\n",
      "File \u001b[1;32m~\\anaconda3\\lib\\site-packages\\mysql\\connector\\abstracts.py:1178\u001b[0m, in \u001b[0;36mMySQLConnectionAbstract.connect\u001b[1;34m(self, **kwargs)\u001b[0m\n\u001b[0;32m   1175\u001b[0m     \u001b[38;5;28mself\u001b[39m\u001b[38;5;241m.\u001b[39mconfig(\u001b[38;5;241m*\u001b[39m\u001b[38;5;241m*\u001b[39mkwargs)\n\u001b[0;32m   1177\u001b[0m \u001b[38;5;28mself\u001b[39m\u001b[38;5;241m.\u001b[39mdisconnect()\n\u001b[1;32m-> 1178\u001b[0m \u001b[38;5;28;43mself\u001b[39;49m\u001b[38;5;241;43m.\u001b[39;49m\u001b[43m_open_connection\u001b[49m\u001b[43m(\u001b[49m\u001b[43m)\u001b[49m\n\u001b[0;32m   1179\u001b[0m \u001b[38;5;66;03m# Server does not allow to run any other statement different from ALTER\u001b[39;00m\n\u001b[0;32m   1180\u001b[0m \u001b[38;5;66;03m# when user's password has been expired.\u001b[39;00m\n\u001b[0;32m   1181\u001b[0m \u001b[38;5;28;01mif\u001b[39;00m \u001b[38;5;129;01mnot\u001b[39;00m \u001b[38;5;28mself\u001b[39m\u001b[38;5;241m.\u001b[39m_client_flags \u001b[38;5;241m&\u001b[39m ClientFlag\u001b[38;5;241m.\u001b[39mCAN_HANDLE_EXPIRED_PASSWORDS:\n",
      "File \u001b[1;32m~\\anaconda3\\lib\\site-packages\\mysql\\connector\\connection.py:573\u001b[0m, in \u001b[0;36mMySQLConnection._open_connection\u001b[1;34m(self)\u001b[0m\n\u001b[0;32m    571\u001b[0m \u001b[38;5;28mself\u001b[39m\u001b[38;5;241m.\u001b[39m_socket\u001b[38;5;241m.\u001b[39mopen_connection()\n\u001b[0;32m    572\u001b[0m \u001b[38;5;28mself\u001b[39m\u001b[38;5;241m.\u001b[39m_do_handshake()\n\u001b[1;32m--> 573\u001b[0m \u001b[38;5;28;43mself\u001b[39;49m\u001b[38;5;241;43m.\u001b[39;49m\u001b[43m_do_auth\u001b[49m\u001b[43m(\u001b[49m\n\u001b[0;32m    574\u001b[0m \u001b[43m    \u001b[49m\u001b[38;5;28;43mself\u001b[39;49m\u001b[38;5;241;43m.\u001b[39;49m\u001b[43m_user\u001b[49m\u001b[43m,\u001b[49m\n\u001b[0;32m    575\u001b[0m \u001b[43m    \u001b[49m\u001b[38;5;28;43mself\u001b[39;49m\u001b[38;5;241;43m.\u001b[39;49m\u001b[43m_password\u001b[49m\u001b[43m,\u001b[49m\n\u001b[0;32m    576\u001b[0m \u001b[43m    \u001b[49m\u001b[38;5;28;43mself\u001b[39;49m\u001b[38;5;241;43m.\u001b[39;49m\u001b[43m_database\u001b[49m\u001b[43m,\u001b[49m\n\u001b[0;32m    577\u001b[0m \u001b[43m    \u001b[49m\u001b[38;5;28;43mself\u001b[39;49m\u001b[38;5;241;43m.\u001b[39;49m\u001b[43m_client_flags\u001b[49m\u001b[43m,\u001b[49m\n\u001b[0;32m    578\u001b[0m \u001b[43m    \u001b[49m\u001b[38;5;28;43mself\u001b[39;49m\u001b[38;5;241;43m.\u001b[39;49m\u001b[43m_charset_id\u001b[49m\u001b[43m,\u001b[49m\n\u001b[0;32m    579\u001b[0m \u001b[43m    \u001b[49m\u001b[38;5;28;43mself\u001b[39;49m\u001b[38;5;241;43m.\u001b[39;49m\u001b[43m_ssl\u001b[49m\u001b[43m,\u001b[49m\n\u001b[0;32m    580\u001b[0m \u001b[43m    \u001b[49m\u001b[38;5;28;43mself\u001b[39;49m\u001b[38;5;241;43m.\u001b[39;49m\u001b[43m_conn_attrs\u001b[49m\u001b[43m,\u001b[49m\n\u001b[0;32m    581\u001b[0m \u001b[43m\u001b[49m\u001b[43m)\u001b[49m\n\u001b[0;32m    582\u001b[0m \u001b[38;5;28mself\u001b[39m\u001b[38;5;241m.\u001b[39mset_converter_class(\u001b[38;5;28mself\u001b[39m\u001b[38;5;241m.\u001b[39m_converter_class)\n\u001b[0;32m    583\u001b[0m \u001b[38;5;28;01mif\u001b[39;00m \u001b[38;5;28mself\u001b[39m\u001b[38;5;241m.\u001b[39m_client_flags \u001b[38;5;241m&\u001b[39m ClientFlag\u001b[38;5;241m.\u001b[39mCOMPRESS:\n",
      "File \u001b[1;32m~\\anaconda3\\lib\\site-packages\\mysql\\connector\\connection.py:312\u001b[0m, in \u001b[0;36mMySQLConnection._do_auth\u001b[1;34m(self, username, password, database, client_flags, charset, ssl_options, conn_attrs)\u001b[0m\n\u001b[0;32m    299\u001b[0m packet \u001b[38;5;241m=\u001b[39m \u001b[38;5;28mself\u001b[39m\u001b[38;5;241m.\u001b[39m_protocol\u001b[38;5;241m.\u001b[39mmake_auth(\n\u001b[0;32m    300\u001b[0m     handshake\u001b[38;5;241m=\u001b[39m\u001b[38;5;28mself\u001b[39m\u001b[38;5;241m.\u001b[39m_handshake,\n\u001b[0;32m    301\u001b[0m     username\u001b[38;5;241m=\u001b[39musername,\n\u001b[1;32m   (...)\u001b[0m\n\u001b[0;32m    309\u001b[0m     auth_plugin_class\u001b[38;5;241m=\u001b[39m\u001b[38;5;28mself\u001b[39m\u001b[38;5;241m.\u001b[39m_auth_plugin_class,\n\u001b[0;32m    310\u001b[0m )\n\u001b[0;32m    311\u001b[0m \u001b[38;5;28mself\u001b[39m\u001b[38;5;241m.\u001b[39m_socket\u001b[38;5;241m.\u001b[39msend(packet)\n\u001b[1;32m--> 312\u001b[0m \u001b[38;5;28;43mself\u001b[39;49m\u001b[38;5;241;43m.\u001b[39;49m\u001b[43m_auth_switch_request\u001b[49m\u001b[43m(\u001b[49m\u001b[43musername\u001b[49m\u001b[43m,\u001b[49m\u001b[43m \u001b[49m\u001b[43mpassword\u001b[49m\u001b[43m)\u001b[49m\n\u001b[0;32m    314\u001b[0m \u001b[38;5;28;01mif\u001b[39;00m \u001b[38;5;129;01mnot\u001b[39;00m (client_flags \u001b[38;5;241m&\u001b[39m ClientFlag\u001b[38;5;241m.\u001b[39mCONNECT_WITH_DB) \u001b[38;5;129;01mand\u001b[39;00m database:\n\u001b[0;32m    315\u001b[0m     \u001b[38;5;28mself\u001b[39m\u001b[38;5;241m.\u001b[39mcmd_init_db(database)\n",
      "File \u001b[1;32m~\\anaconda3\\lib\\site-packages\\mysql\\connector\\connection.py:369\u001b[0m, in \u001b[0;36mMySQLConnection._auth_switch_request\u001b[1;34m(self, username, password)\u001b[0m\n\u001b[0;32m    367\u001b[0m     \u001b[38;5;28;01mreturn\u001b[39;00m \u001b[38;5;28mself\u001b[39m\u001b[38;5;241m.\u001b[39m_handle_mfa(packet)\n\u001b[0;32m    368\u001b[0m \u001b[38;5;28;01mif\u001b[39;00m packet[\u001b[38;5;241m4\u001b[39m] \u001b[38;5;241m==\u001b[39m \u001b[38;5;241m255\u001b[39m:\n\u001b[1;32m--> 369\u001b[0m     \u001b[38;5;28;01mraise\u001b[39;00m get_exception(packet)\n\u001b[0;32m    370\u001b[0m \u001b[38;5;28;01mreturn\u001b[39;00m \u001b[38;5;28;01mNone\u001b[39;00m\n",
      "\u001b[1;31mProgrammingError\u001b[0m: 1045 (28000): Access denied for user 'root'@'localhost' (using password: YES)"
     ]
    }
   ],
   "source": [
    "connection.connect(host=\"localhost\",user=\"root\",passwd=\"rkijyh\",use_pure=True)\n",
    "#What if i put different password"
   ]
  },
  {
   "cell_type": "code",
   "execution_count": 30,
   "id": "140f0710",
   "metadata": {},
   "outputs": [
    {
     "ename": "InterfaceError",
     "evalue": "2003: Can't connect to MySQL server on '%-.100s:%u' (%s) (Warning: %u format: a number is required, not str)",
     "output_type": "error",
     "traceback": [
      "\u001b[1;31m---------------------------------------------------------------------------\u001b[0m",
      "\u001b[1;31mgaierror\u001b[0m                                  Traceback (most recent call last)",
      "File \u001b[1;32m~\\anaconda3\\lib\\site-packages\\mysql\\connector\\network.py:570\u001b[0m, in \u001b[0;36mMySQLTCPSocket.open_connection\u001b[1;34m(self)\u001b[0m\n\u001b[0;32m    569\u001b[0m \u001b[38;5;28;01mtry\u001b[39;00m:\n\u001b[1;32m--> 570\u001b[0m     addrinfos \u001b[38;5;241m=\u001b[39m \u001b[43msocket\u001b[49m\u001b[38;5;241;43m.\u001b[39;49m\u001b[43mgetaddrinfo\u001b[49m\u001b[43m(\u001b[49m\n\u001b[0;32m    571\u001b[0m \u001b[43m        \u001b[49m\u001b[38;5;28;43mself\u001b[39;49m\u001b[38;5;241;43m.\u001b[39;49m\u001b[43mserver_host\u001b[49m\u001b[43m,\u001b[49m\n\u001b[0;32m    572\u001b[0m \u001b[43m        \u001b[49m\u001b[38;5;28;43mself\u001b[39;49m\u001b[38;5;241;43m.\u001b[39;49m\u001b[43mserver_port\u001b[49m\u001b[43m,\u001b[49m\n\u001b[0;32m    573\u001b[0m \u001b[43m        \u001b[49m\u001b[38;5;241;43m0\u001b[39;49m\u001b[43m,\u001b[49m\n\u001b[0;32m    574\u001b[0m \u001b[43m        \u001b[49m\u001b[43msocket\u001b[49m\u001b[38;5;241;43m.\u001b[39;49m\u001b[43mSOCK_STREAM\u001b[49m\u001b[43m,\u001b[49m\n\u001b[0;32m    575\u001b[0m \u001b[43m        \u001b[49m\u001b[43msocket\u001b[49m\u001b[38;5;241;43m.\u001b[39;49m\u001b[43mSOL_TCP\u001b[49m\u001b[43m,\u001b[49m\n\u001b[0;32m    576\u001b[0m \u001b[43m    \u001b[49m\u001b[43m)\u001b[49m\n\u001b[0;32m    577\u001b[0m     \u001b[38;5;66;03m# If multiple results we favor IPv4, unless IPv6 was forced.\u001b[39;00m\n",
      "File \u001b[1;32m~\\anaconda3\\lib\\socket.py:954\u001b[0m, in \u001b[0;36mgetaddrinfo\u001b[1;34m(host, port, family, type, proto, flags)\u001b[0m\n\u001b[0;32m    953\u001b[0m addrlist \u001b[38;5;241m=\u001b[39m []\n\u001b[1;32m--> 954\u001b[0m \u001b[38;5;28;01mfor\u001b[39;00m res \u001b[38;5;129;01min\u001b[39;00m \u001b[43m_socket\u001b[49m\u001b[38;5;241;43m.\u001b[39;49m\u001b[43mgetaddrinfo\u001b[49m\u001b[43m(\u001b[49m\u001b[43mhost\u001b[49m\u001b[43m,\u001b[49m\u001b[43m \u001b[49m\u001b[43mport\u001b[49m\u001b[43m,\u001b[49m\u001b[43m \u001b[49m\u001b[43mfamily\u001b[49m\u001b[43m,\u001b[49m\u001b[43m \u001b[49m\u001b[38;5;28;43mtype\u001b[39;49m\u001b[43m,\u001b[49m\u001b[43m \u001b[49m\u001b[43mproto\u001b[49m\u001b[43m,\u001b[49m\u001b[43m \u001b[49m\u001b[43mflags\u001b[49m\u001b[43m)\u001b[49m:\n\u001b[0;32m    955\u001b[0m     af, socktype, proto, canonname, sa \u001b[38;5;241m=\u001b[39m res\n",
      "\u001b[1;31mgaierror\u001b[0m: [Errno 11001] getaddrinfo failed",
      "\nThe above exception was the direct cause of the following exception:\n",
      "\u001b[1;31mInterfaceError\u001b[0m                            Traceback (most recent call last)",
      "Cell \u001b[1;32mIn[30], line 1\u001b[0m\n\u001b[1;32m----> 1\u001b[0m \u001b[43mconnection\u001b[49m\u001b[38;5;241;43m.\u001b[39;49m\u001b[43mconnect\u001b[49m\u001b[43m(\u001b[49m\u001b[43mhost\u001b[49m\u001b[38;5;241;43m=\u001b[39;49m\u001b[38;5;124;43m\"\u001b[39;49m\u001b[38;5;124;43mlocalhostefrg\u001b[39;49m\u001b[38;5;124;43m\"\u001b[39;49m\u001b[43m,\u001b[49m\u001b[43muser\u001b[49m\u001b[38;5;241;43m=\u001b[39;49m\u001b[38;5;124;43m\"\u001b[39;49m\u001b[38;5;124;43mroot\u001b[39;49m\u001b[38;5;124;43m\"\u001b[39;49m\u001b[43m,\u001b[49m\u001b[43mpasswd\u001b[49m\u001b[38;5;241;43m=\u001b[39;49m\u001b[38;5;124;43m\"\u001b[39;49m\u001b[38;5;124;43mpassword\u001b[39;49m\u001b[38;5;124;43m\"\u001b[39;49m\u001b[43m,\u001b[49m\u001b[43muse_pure\u001b[49m\u001b[38;5;241;43m=\u001b[39;49m\u001b[38;5;28;43;01mTrue\u001b[39;49;00m\u001b[43m)\u001b[49m\n\u001b[0;32m      2\u001b[0m \u001b[38;5;66;03m#Wrong host\u001b[39;00m\n",
      "File \u001b[1;32m~\\anaconda3\\lib\\site-packages\\mysql\\connector\\pooling.py:294\u001b[0m, in \u001b[0;36mconnect\u001b[1;34m(*args, **kwargs)\u001b[0m\n\u001b[0;32m    292\u001b[0m \u001b[38;5;28;01mif\u001b[39;00m CMySQLConnection \u001b[38;5;129;01mand\u001b[39;00m \u001b[38;5;129;01mnot\u001b[39;00m use_pure:\n\u001b[0;32m    293\u001b[0m     \u001b[38;5;28;01mreturn\u001b[39;00m CMySQLConnection(\u001b[38;5;241m*\u001b[39margs, \u001b[38;5;241m*\u001b[39m\u001b[38;5;241m*\u001b[39mkwargs)\n\u001b[1;32m--> 294\u001b[0m \u001b[38;5;28;01mreturn\u001b[39;00m MySQLConnection(\u001b[38;5;241m*\u001b[39margs, \u001b[38;5;241m*\u001b[39m\u001b[38;5;241m*\u001b[39mkwargs)\n",
      "File \u001b[1;32m~\\anaconda3\\lib\\site-packages\\mysql\\connector\\connection.py:167\u001b[0m, in \u001b[0;36mMySQLConnection.__init__\u001b[1;34m(self, **kwargs)\u001b[0m\n\u001b[0;32m    165\u001b[0m \u001b[38;5;28;01mif\u001b[39;00m kwargs:\n\u001b[0;32m    166\u001b[0m     \u001b[38;5;28;01mtry\u001b[39;00m:\n\u001b[1;32m--> 167\u001b[0m         \u001b[38;5;28mself\u001b[39m\u001b[38;5;241m.\u001b[39mconnect(\u001b[38;5;241m*\u001b[39m\u001b[38;5;241m*\u001b[39mkwargs)\n\u001b[0;32m    168\u001b[0m     \u001b[38;5;28;01mexcept\u001b[39;00m \u001b[38;5;167;01mException\u001b[39;00m:\n\u001b[0;32m    169\u001b[0m         \u001b[38;5;66;03m# Tidy-up underlying socket on failure\u001b[39;00m\n\u001b[0;32m    170\u001b[0m         \u001b[38;5;28mself\u001b[39m\u001b[38;5;241m.\u001b[39mclose()\n",
      "File \u001b[1;32m~\\anaconda3\\lib\\site-packages\\mysql\\connector\\abstracts.py:1178\u001b[0m, in \u001b[0;36mMySQLConnectionAbstract.connect\u001b[1;34m(self, **kwargs)\u001b[0m\n\u001b[0;32m   1175\u001b[0m     \u001b[38;5;28mself\u001b[39m\u001b[38;5;241m.\u001b[39mconfig(\u001b[38;5;241m*\u001b[39m\u001b[38;5;241m*\u001b[39mkwargs)\n\u001b[0;32m   1177\u001b[0m \u001b[38;5;28mself\u001b[39m\u001b[38;5;241m.\u001b[39mdisconnect()\n\u001b[1;32m-> 1178\u001b[0m \u001b[38;5;28;43mself\u001b[39;49m\u001b[38;5;241;43m.\u001b[39;49m\u001b[43m_open_connection\u001b[49m\u001b[43m(\u001b[49m\u001b[43m)\u001b[49m\n\u001b[0;32m   1179\u001b[0m \u001b[38;5;66;03m# Server does not allow to run any other statement different from ALTER\u001b[39;00m\n\u001b[0;32m   1180\u001b[0m \u001b[38;5;66;03m# when user's password has been expired.\u001b[39;00m\n\u001b[0;32m   1181\u001b[0m \u001b[38;5;28;01mif\u001b[39;00m \u001b[38;5;129;01mnot\u001b[39;00m \u001b[38;5;28mself\u001b[39m\u001b[38;5;241m.\u001b[39m_client_flags \u001b[38;5;241m&\u001b[39m ClientFlag\u001b[38;5;241m.\u001b[39mCAN_HANDLE_EXPIRED_PASSWORDS:\n",
      "File \u001b[1;32m~\\anaconda3\\lib\\site-packages\\mysql\\connector\\connection.py:571\u001b[0m, in \u001b[0;36mMySQLConnection._open_connection\u001b[1;34m(self)\u001b[0m\n\u001b[0;32m    569\u001b[0m \u001b[38;5;28mself\u001b[39m\u001b[38;5;241m.\u001b[39m_socket \u001b[38;5;241m=\u001b[39m \u001b[38;5;28mself\u001b[39m\u001b[38;5;241m.\u001b[39m_get_connection()\n\u001b[0;32m    570\u001b[0m \u001b[38;5;28;01mtry\u001b[39;00m:\n\u001b[1;32m--> 571\u001b[0m     \u001b[38;5;28;43mself\u001b[39;49m\u001b[38;5;241;43m.\u001b[39;49m\u001b[43m_socket\u001b[49m\u001b[38;5;241;43m.\u001b[39;49m\u001b[43mopen_connection\u001b[49m\u001b[43m(\u001b[49m\u001b[43m)\u001b[49m\n\u001b[0;32m    572\u001b[0m     \u001b[38;5;28mself\u001b[39m\u001b[38;5;241m.\u001b[39m_do_handshake()\n\u001b[0;32m    573\u001b[0m     \u001b[38;5;28mself\u001b[39m\u001b[38;5;241m.\u001b[39m_do_auth(\n\u001b[0;32m    574\u001b[0m         \u001b[38;5;28mself\u001b[39m\u001b[38;5;241m.\u001b[39m_user,\n\u001b[0;32m    575\u001b[0m         \u001b[38;5;28mself\u001b[39m\u001b[38;5;241m.\u001b[39m_password,\n\u001b[1;32m   (...)\u001b[0m\n\u001b[0;32m    580\u001b[0m         \u001b[38;5;28mself\u001b[39m\u001b[38;5;241m.\u001b[39m_conn_attrs,\n\u001b[0;32m    581\u001b[0m     )\n",
      "File \u001b[1;32m~\\anaconda3\\lib\\site-packages\\mysql\\connector\\network.py:590\u001b[0m, in \u001b[0;36mMySQLTCPSocket.open_connection\u001b[1;34m(self)\u001b[0m\n\u001b[0;32m    588\u001b[0m         addrinfo \u001b[38;5;241m=\u001b[39m addrinfos[\u001b[38;5;241m0\u001b[39m]\n\u001b[0;32m    589\u001b[0m \u001b[38;5;28;01mexcept\u001b[39;00m \u001b[38;5;167;01mIOError\u001b[39;00m \u001b[38;5;28;01mas\u001b[39;00m err:\n\u001b[1;32m--> 590\u001b[0m     \u001b[38;5;28;01mraise\u001b[39;00m InterfaceError(\n\u001b[0;32m    591\u001b[0m         errno\u001b[38;5;241m=\u001b[39m\u001b[38;5;241m2003\u001b[39m, values\u001b[38;5;241m=\u001b[39m(\u001b[38;5;28mself\u001b[39m\u001b[38;5;241m.\u001b[39mget_address(), _strioerror(err))\n\u001b[0;32m    592\u001b[0m     ) \u001b[38;5;28;01mfrom\u001b[39;00m \u001b[38;5;21;01merr\u001b[39;00m\n\u001b[0;32m    593\u001b[0m \u001b[38;5;28;01melse\u001b[39;00m:\n\u001b[0;32m    594\u001b[0m     (\u001b[38;5;28mself\u001b[39m\u001b[38;5;241m.\u001b[39m_family, socktype, proto, _, sockaddr) \u001b[38;5;241m=\u001b[39m addrinfo\n",
      "\u001b[1;31mInterfaceError\u001b[0m: 2003: Can't connect to MySQL server on '%-.100s:%u' (%s) (Warning: %u format: a number is required, not str)"
     ]
    }
   ],
   "source": [
    "connection.connect(host=\"localhostefrg\",user=\"root\",passwd=\"password\",use_pure=True)\n",
    "#Wrong host"
   ]
  },
  {
   "cell_type": "markdown",
   "id": "583ad7b7",
   "metadata": {},
   "source": [
    "databses never hold the actual data the tables holds the actual data we can write a query on top of the table!\n",
    "sql+ on the left side open in workbench and type< show databases\n",
    "But we dont want to use mysql since we are python programmers so....\n",
    "So now we will make a connection object"
   ]
  },
  {
   "cell_type": "code",
   "execution_count": null,
   "id": "e6bb0aa5",
   "metadata": {},
   "outputs": [],
   "source": [
    "conn = connection.connect(host=\"localhost\" , user=\"root\" , passwd=\"password\")"
   ]
  },
  {
   "cell_type": "markdown",
   "id": "1dce431c",
   "metadata": {},
   "source": [
    "Through this connection only we will be able todo anything with the connection we wont be able to establish communication"
   ]
  },
  {
   "cell_type": "markdown",
   "id": "5f2220e6",
   "metadata": {},
   "source": [
    "So now,\n",
    "We will have to set a cursor. Cursor is nothing but a pointer.\n",
    "So whenever we try to browse something in a db so inside a db it available index wise so we need to reachout to that index hence using pointer or cursor"
   ]
  },
  {
   "cell_type": "code",
   "execution_count": null,
   "id": "010e2867",
   "metadata": {},
   "outputs": [],
   "source": [
    "conn.cursor()  #press tab after placing connection object i.e conn.+tab there youll find cursor\n",
    "#So this is the pointer it will be pointer to inital position to very first index"
   ]
  },
  {
   "cell_type": "code",
   "execution_count": null,
   "id": "60cbe3ca",
   "metadata": {},
   "outputs": [],
   "source": [
    "#So now inside workbench everything is available so we need to point it out!\n",
    "cur=conn.cursor() #So here we are able to point out the first cursor"
   ]
  },
  {
   "cell_type": "markdown",
   "id": "973e14cc",
   "metadata": {},
   "source": [
    "so now will take the pointeri.e cur obj to execute the sql command i.e show databases"
   ]
  },
  {
   "cell_type": "code",
   "execution_count": null,
   "id": "f032bd52",
   "metadata": {},
   "outputs": [],
   "source": [
    "cur.execute(\"show databases\") \n",
    "#Pointer is executing what<< sql query \"show databases\" on connection.connect(host=\"localhost\" , user=\"root\" , passwd=\"password\") i.e is our sql workbench "
   ]
  },
  {
   "cell_type": "markdown",
   "id": "e8a9e679",
   "metadata": {},
   "source": [
    "Now here if try to check the type of return of cur.execute(\"show databases\") it gives none type \n"
   ]
  },
  {
   "cell_type": "markdown",
   "id": "1f3cc163",
   "metadata": {},
   "source": [
    "## Note:\n",
    "If you run cur.execute(\"show databeses\") and then check its type in the next line it will give an error you can either execute \n",
    "this <<<cur.execute(\"show databases\") \n",
    "or\n",
    "this <<<type(cur.execute(\"show databases\"))\n",
    "You cannot run both!!"
   ]
  },
  {
   "cell_type": "code",
   "execution_count": 31,
   "id": "30c5a1e6",
   "metadata": {},
   "outputs": [],
   "source": [
    "import mysql.connector as connection"
   ]
  },
  {
   "cell_type": "markdown",
   "id": "8c910405",
   "metadata": {},
   "source": [
    "#connection.connect(host=\"localhost\",user=\"root\",passwd=\"password\",use_pure=True)"
   ]
  },
  {
   "cell_type": "code",
   "execution_count": 32,
   "id": "cc0b2c6a",
   "metadata": {},
   "outputs": [],
   "source": [
    "conn = connection.connect(host=\"localhost\" , user=\"root\" , passwd=\"password\",use_pure=True)"
   ]
  },
  {
   "cell_type": "code",
   "execution_count": 33,
   "id": "94ef7944",
   "metadata": {},
   "outputs": [],
   "source": [
    "cur=conn.cursor() #Here we have initialsed the cursor to initial position "
   ]
  },
  {
   "cell_type": "code",
   "execution_count": 38,
   "id": "30ab24f8",
   "metadata": {},
   "outputs": [],
   "source": [
    "cur.execute(\"show databases\") #Here after exceution the cursor is at the last position"
   ]
  },
  {
   "cell_type": "markdown",
   "id": "d5d1e06b",
   "metadata": {},
   "source": [
    "Similar to iter method here the cursor was at initail pointer but then we executed it so now its at the last position"
   ]
  },
  {
   "cell_type": "markdown",
   "id": "78bac0db",
   "metadata": {},
   "source": [
    "So now ill fetch the data using the cursor"
   ]
  },
  {
   "cell_type": "code",
   "execution_count": 35,
   "id": "2ab14410",
   "metadata": {},
   "outputs": [
    {
     "data": {
      "text/plain": [
       "[('carbonnanotube',),\n",
       " ('information_schema',),\n",
       " ('mysql',),\n",
       " ('performance_schema',),\n",
       " ('rukaiya',),\n",
       " ('sakila',),\n",
       " ('sys',),\n",
       " ('world',)]"
      ]
     },
     "execution_count": 35,
     "metadata": {},
     "output_type": "execute_result"
    }
   ],
   "source": [
    "cur.fetchall() #From the beginning till the end it will fetch all the data"
   ]
  },
  {
   "cell_type": "markdown",
   "id": "2841741b",
   "metadata": {},
   "source": [
    "I can store this in a variable name called response as well! res"
   ]
  },
  {
   "cell_type": "markdown",
   "id": "608c28e2",
   "metadata": {},
   "source": [
    "### Note you cannot execute cur.fetchall() and res=cur.fetchall() together either one of them else wont get output"
   ]
  },
  {
   "cell_type": "code",
   "execution_count": 39,
   "id": "adbaa103",
   "metadata": {},
   "outputs": [],
   "source": [
    "res =cur.fetchall()"
   ]
  },
  {
   "cell_type": "code",
   "execution_count": 40,
   "id": "909e643e",
   "metadata": {},
   "outputs": [
    {
     "data": {
      "text/plain": [
       "[('carbonnanotube',),\n",
       " ('information_schema',),\n",
       " ('mysql',),\n",
       " ('performance_schema',),\n",
       " ('rukaiya',),\n",
       " ('sakila',),\n",
       " ('sys',),\n",
       " ('world',)]"
      ]
     },
     "execution_count": 40,
     "metadata": {},
     "output_type": "execute_result"
    }
   ],
   "source": [
    "res"
   ]
  },
  {
   "cell_type": "markdown",
   "id": "d5d59f86",
   "metadata": {},
   "source": [
    "if we need to fetch any values from the above list then how shall we do it??\n",
    "\n",
    "The below list has a list of tuples inside "
   ]
  },
  {
   "cell_type": "code",
   "execution_count": 41,
   "id": "4983ab8b",
   "metadata": {},
   "outputs": [
    {
     "data": {
      "text/plain": [
       "('performance_schema',)"
      ]
     },
     "execution_count": 41,
     "metadata": {},
     "output_type": "execute_result"
    }
   ],
   "source": [
    "res[3]"
   ]
  },
  {
   "cell_type": "code",
   "execution_count": 42,
   "id": "27b47b00",
   "metadata": {},
   "outputs": [
    {
     "data": {
      "text/plain": [
       "'performance_schema'"
      ]
     },
     "execution_count": 42,
     "metadata": {},
     "output_type": "execute_result"
    }
   ],
   "source": [
    "res[3][0]"
   ]
  },
  {
   "cell_type": "code",
   "execution_count": 43,
   "id": "a5ccdf64",
   "metadata": {},
   "outputs": [
    {
     "ename": "IndexError",
     "evalue": "tuple index out of range",
     "output_type": "error",
     "traceback": [
      "\u001b[1;31m---------------------------------------------------------------------------\u001b[0m",
      "\u001b[1;31mIndexError\u001b[0m                                Traceback (most recent call last)",
      "Cell \u001b[1;32mIn[43], line 1\u001b[0m\n\u001b[1;32m----> 1\u001b[0m \u001b[43mres\u001b[49m\u001b[43m[\u001b[49m\u001b[38;5;241;43m3\u001b[39;49m\u001b[43m]\u001b[49m\u001b[43m[\u001b[49m\u001b[38;5;241;43m1\u001b[39;49m\u001b[43m]\u001b[49m\n",
      "\u001b[1;31mIndexError\u001b[0m: tuple index out of range"
     ]
    }
   ],
   "source": [
    "res[3][1]"
   ]
  },
  {
   "cell_type": "code",
   "execution_count": 44,
   "id": "924692f7",
   "metadata": {},
   "outputs": [
    {
     "name": "stdout",
     "output_type": "stream",
     "text": [
      "carbonnanotube\n",
      "information_schema\n",
      "mysql\n",
      "performance_schema\n",
      "rukaiya\n",
      "sakila\n",
      "sys\n",
      "world\n"
     ]
    }
   ],
   "source": [
    "for i in res:\n",
    "    print(i[0])"
   ]
  },
  {
   "cell_type": "code",
   "execution_count": 45,
   "id": "e79c2e2f",
   "metadata": {},
   "outputs": [
    {
     "name": "stdout",
     "output_type": "stream",
     "text": [
      "[('carbonnanotube',), ('information_schema',), ('mysql',), ('performance_schema',), ('rukaiya',), ('sakila',), ('sys',), ('world',)]\n"
     ]
    }
   ],
   "source": [
    "import mysql.connector as connection\n",
    "\n",
    "try:\n",
    "    mydb = connection.connect(host=\"localhost\", username=\"root\",passwd=\"password\",use_pure=True)\n",
    "    query = \"SHOW DATABASES\"\n",
    "    cur=mydb.cursor()\n",
    "    cur.execute(query)\n",
    "    response= cur.fetchall()\n",
    "    print(response)\n",
    "    \n",
    "    \n",
    "except Exception as e:\n",
    "    print(str(e))\n",
    "finally:\n",
    "    mydb.close()"
   ]
  },
  {
   "cell_type": "markdown",
   "id": "50b28aef",
   "metadata": {},
   "source": [
    "# So first step \n",
    "Connection is established"
   ]
  },
  {
   "cell_type": "markdown",
   "id": "64878b41",
   "metadata": {},
   "source": [
    "### Now next example!"
   ]
  },
  {
   "cell_type": "code",
   "execution_count": null,
   "id": "e0baf325",
   "metadata": {},
   "outputs": [],
   "source": [
    "import mysql.connector as connection"
   ]
  },
  {
   "cell_type": "code",
   "execution_count": null,
   "id": "f0e04ad3",
   "metadata": {},
   "outputs": [],
   "source": [
    "conn = connection.connect(host=\"localhost\",user=\"root\", passwd=\"password\")"
   ]
  },
  {
   "cell_type": "code",
   "execution_count": null,
   "id": "3e32349c",
   "metadata": {},
   "outputs": [],
   "source": [
    "cur = conn.cursor()"
   ]
  },
  {
   "cell_type": "code",
   "execution_count": null,
   "id": "eaf3a0d1",
   "metadata": {},
   "outputs": [],
   "source": [
    "cur.execute(\"create database rukaiya\") #Show not run program twice else pops an error becuase in one run it shows the result"
   ]
  },
  {
   "cell_type": "code",
   "execution_count": null,
   "id": "5e7a7762",
   "metadata": {
    "scrolled": true
   },
   "outputs": [],
   "source": [
    "res = cur.fetchall()"
   ]
  },
  {
   "cell_type": "code",
   "execution_count": null,
   "id": "6147b1a1",
   "metadata": {},
   "outputs": [],
   "source": [
    "res"
   ]
  },
  {
   "cell_type": "markdown",
   "id": "5e988f58",
   "metadata": {},
   "source": [
    "### Together it would look like this!"
   ]
  },
  {
   "cell_type": "code",
   "execution_count": null,
   "id": "b024887f",
   "metadata": {},
   "outputs": [],
   "source": [
    "import mysql.connector as connection\n",
    "\n",
    "try:\n",
    "    mydb = connection.connect(host=\"localhost\", username=\"root\",passwd=\"password\",use_pure=True)\n",
    "    query = \"CREATE DATABASE RUKAIYA\"\n",
    "    cur=mydb.cursor()\n",
    "    cur.execute(query)\n",
    "    #response= cur.fetchall()\n",
    "    #print(response)\n",
    "    \n",
    "    \n",
    "except Exception as e:\n",
    "    print(str(e))\n",
    "finally:\n",
    "    mydb.close()"
   ]
  },
  {
   "cell_type": "code",
   "execution_count": null,
   "id": "2022141a",
   "metadata": {},
   "outputs": [],
   "source": [
    "import mysql.connector as connection\n",
    "\n",
    "try:\n",
    "    conn = connection.connect(host=\"localhost\",database=\"rukaiya\",user=\"root\",password=\"password\",use_pure=True)\n",
    "    print(conn.is_connected())\n",
    "    cur = conn.cursor() #create a cursor to execute queries\n",
    "    cur.execute(\"CREATE TABLE StudentDetails (Studentid INT(10) AUTO_INCREMENT PRIMARY KEY, FirstName VARCHAR(25), LastName VARCHAR(60), RegistrationDate DATE, Class VARCHAR(20), Section VARCHAR(20))\")\n",
    "    print(\"Table Created !\")\n",
    "    conn.close()\n",
    "except Exception as e:\n",
    "    conn.close()\n",
    "    print(str(e))\n",
    "    \n",
    "    \n",
    "    "
   ]
  },
  {
   "cell_type": "code",
   "execution_count": null,
   "id": "0e19d2b9",
   "metadata": {},
   "outputs": [],
   "source": [
    "import mysql.connector as connection\n",
    "\n",
    "try:\n",
    "    conn = connection.connect(host=\"localhost\",database=\"rukaiya\",user=\"root\",password=\"password\",use_pure=True)\n",
    "    print(conn.is_connected())\n",
    "    cur = conn.cursor() #create a cursor to execute queries\n",
    "    cur.execute(\"CREATE TABLE test(x1 INT(5),x2 VARCHAR(20) ,x3 DATE)\")\n",
    "    print(\"Table Created !\")\n",
    "    conn.close()\n",
    "except Exception as e:\n",
    "    conn.close()\n",
    "    print(str(e))"
   ]
  },
  {
   "cell_type": "code",
   "execution_count": null,
   "id": "4ef2edfd",
   "metadata": {},
   "outputs": [],
   "source": [
    "import mysql.connector as connection\n",
    "\n",
    "try:\n",
    "    conn = connection.connect(host=\"localhost\",database=\"rukaiya\",user=\"root\",password=\"password\",use_pure=True)\n",
    "    print(conn.is_connected())\n",
    "    cur = conn.cursor() #create a cursor to execute queries\n",
    "    cur.execute(\"SELECT * FROM test\")\n",
    "    print(\"DONE\")\n",
    "    \n",
    "    conn.close()\n",
    "except Exception as e:\n",
    "    conn.close()\n",
    "    print(str(e))"
   ]
  },
  {
   "cell_type": "code",
   "execution_count": null,
   "id": "1c48e4fe",
   "metadata": {},
   "outputs": [],
   "source": [
    "conn = connection.connect(host=\"localhost\",database=\"rukaiya\",user=\"root\",password=\"password\",use_pure=True)"
   ]
  },
  {
   "cell_type": "code",
   "execution_count": null,
   "id": "2fe8abcc",
   "metadata": {},
   "outputs": [],
   "source": [
    "cur=conn.cursor()"
   ]
  },
  {
   "cell_type": "code",
   "execution_count": null,
   "id": "d9532293",
   "metadata": {},
   "outputs": [],
   "source": [
    "cur.execute(\"INSERT INTO StudentDetails VALUES (101,'Rukaiya','Merchant','1960-10-20','Eleventh','A')\")"
   ]
  },
  {
   "cell_type": "markdown",
   "id": "d0120f72",
   "metadata": {},
   "source": [
    "## To view the data you need to commit the insertion then only it will add data to the table!"
   ]
  },
  {
   "cell_type": "code",
   "execution_count": null,
   "id": "5325c5fa",
   "metadata": {},
   "outputs": [],
   "source": [
    "conn.commit()"
   ]
  },
  {
   "cell_type": "code",
   "execution_count": null,
   "id": "d58feb0b",
   "metadata": {},
   "outputs": [],
   "source": [
    "cur.execute(\"INSERT INTO StudentDetails VALUES (102,'Rashi','Thakur','1960-11-06','Eleventh','A')\")"
   ]
  },
  {
   "cell_type": "code",
   "execution_count": null,
   "id": "df366288",
   "metadata": {},
   "outputs": [],
   "source": [
    "cur.execute(\"INSERT INTO StudentDetails VALUES (103,'Rohini','Sehgal','1966-12-18','Eleventh','A')\")"
   ]
  },
  {
   "cell_type": "code",
   "execution_count": null,
   "id": "e9a7755b",
   "metadata": {},
   "outputs": [],
   "source": [
    "conn.commit()"
   ]
  },
  {
   "cell_type": "markdown",
   "id": "6a161ec9",
   "metadata": {},
   "source": [
    "## How to fetch the data"
   ]
  },
  {
   "cell_type": "code",
   "execution_count": null,
   "id": "6bec9309",
   "metadata": {},
   "outputs": [],
   "source": [
    "cur =conn.cursor()#Placing the cursor to initial position!\n",
    "cur.execute(\"select * from StudentDetails\")"
   ]
  },
  {
   "cell_type": "code",
   "execution_count": null,
   "id": "0b3dae4b",
   "metadata": {},
   "outputs": [],
   "source": [
    "#cur.fetchall()"
   ]
  },
  {
   "cell_type": "code",
   "execution_count": null,
   "id": "4dff5966",
   "metadata": {},
   "outputs": [],
   "source": [
    "for i in cur.fetchall():\n",
    "    print(i)"
   ]
  },
  {
   "cell_type": "code",
   "execution_count": null,
   "id": "c3f3c3e1",
   "metadata": {},
   "outputs": [],
   "source": [
    "cur =conn.cursor()"
   ]
  },
  {
   "cell_type": "code",
   "execution_count": null,
   "id": "c72cc02c",
   "metadata": {},
   "outputs": [],
   "source": [
    "cur.execute(\"Select Studentid , Section from StudentDetails\")"
   ]
  },
  {
   "cell_type": "code",
   "execution_count": null,
   "id": "bce91a13",
   "metadata": {},
   "outputs": [],
   "source": [
    "#cur.fetchall()"
   ]
  },
  {
   "cell_type": "code",
   "execution_count": null,
   "id": "17f65649",
   "metadata": {},
   "outputs": [],
   "source": [
    "for i in cur.fetchall():\n",
    "    print(i)"
   ]
  },
  {
   "cell_type": "code",
   "execution_count": null,
   "id": "66d4e19c",
   "metadata": {},
   "outputs": [],
   "source": [
    "for i in cur.fetchall():  #We need to keep running the first two lines for us to get the required output!\n",
    "    print(i[0])"
   ]
  },
  {
   "cell_type": "markdown",
   "id": "65d2a311",
   "metadata": {},
   "source": [
    "In the workbench use databasename.tablename in select query \n",
    "or\n",
    "use database \n",
    "eg:\n",
    "    select * from StudentDetails.test;\n",
    "    \n",
    "    or\n",
    "simply use\n",
    "use StudentDetails "
   ]
  },
  {
   "cell_type": "markdown",
   "id": "5bdb1700",
   "metadata": {},
   "source": [
    "# Using pandas "
   ]
  },
  {
   "cell_type": "code",
   "execution_count": null,
   "id": "53a49a8a",
   "metadata": {},
   "outputs": [],
   "source": [
    "import pandas as pd"
   ]
  },
  {
   "cell_type": "code",
   "execution_count": null,
   "id": "3cb36d3b",
   "metadata": {},
   "outputs": [],
   "source": [
    "conn"
   ]
  },
  {
   "cell_type": "code",
   "execution_count": null,
   "id": "097f8d32",
   "metadata": {},
   "outputs": [],
   "source": [
    "pd.read_sql(\"select * from StudentDetails\",conn)"
   ]
  },
  {
   "cell_type": "code",
   "execution_count": null,
   "id": "e6c0297c",
   "metadata": {},
   "outputs": [],
   "source": [
    "a= pd.read_sql(\"select * from StudentDetails\",conn) #Simply storing in a variable!"
   ]
  },
  {
   "cell_type": "code",
   "execution_count": null,
   "id": "c5126bfd",
   "metadata": {},
   "outputs": [],
   "source": [
    "a"
   ]
  },
  {
   "cell_type": "markdown",
   "id": "41c96fab",
   "metadata": {},
   "source": [
    "### Here we can store the data that variable a holds in csv format!"
   ]
  },
  {
   "cell_type": "code",
   "execution_count": null,
   "id": "ac0ef4ab",
   "metadata": {},
   "outputs": [],
   "source": [
    "a.to_csv(\"mydata.csv\") #Here we converted the data into csv format"
   ]
  },
  {
   "cell_type": "markdown",
   "id": "39b12fd7",
   "metadata": {},
   "source": [
    "### You can chcek whetehr the file is create din the local system or not  i,e in the Lecture Notes folder !"
   ]
  },
  {
   "cell_type": "markdown",
   "id": "7a297917",
   "metadata": {},
   "source": [
    "Now i would like to write the data that is going to be extracted from this csv file in a new table!"
   ]
  },
  {
   "cell_type": "code",
   "execution_count": null,
   "id": "624c8227",
   "metadata": {},
   "outputs": [],
   "source": [
    "conn = connection.connect(host=\"localhost\", database =\"rukaiya\", user=\"root\" ,password =\"password\", use_pure=True)\n",
    "conn #This is my connection object and it is working perfectly fine"
   ]
  },
  {
   "cell_type": "markdown",
   "id": "0617fa01",
   "metadata": {},
   "source": [
    "So now i would like to dump the data into some table "
   ]
  },
  {
   "cell_type": "markdown",
   "id": "2e9d7b22",
   "metadata": {},
   "source": [
    "So firstly we need to create a table then only can we dump the data in it"
   ]
  },
  {
   "cell_type": "code",
   "execution_count": null,
   "id": "50ffad51",
   "metadata": {},
   "outputs": [],
   "source": [
    "cur = conn.cursor()\n",
    "cur.execute(\"create table mydata(n1 int(20),n2 varchar(20),n3 varchar(20),n4 date ,n5 varchar(20), n6 varchar(20))\")"
   ]
  },
  {
   "cell_type": "markdown",
   "id": "a3371338",
   "metadata": {},
   "source": [
    "So once i do the below in workbench can see the created columns \n",
    "use rukaiya\n",
    "then delete it \n",
    "and then again\n",
    "select * from rukaiya.mydata >>>>#Since this is newly created "
   ]
  },
  {
   "cell_type": "markdown",
   "id": "ebf149d4",
   "metadata": {},
   "source": [
    "### Now i have to read this data as .csv file is stored on local system!"
   ]
  },
  {
   "cell_type": "code",
   "execution_count": null,
   "id": "1349f75a",
   "metadata": {},
   "outputs": [],
   "source": [
    "data= pd.read_csv(\"mydata.csv\") #PD stands for pandas refer the above <<<<<<import pandas as pd"
   ]
  },
  {
   "cell_type": "code",
   "execution_count": null,
   "id": "53b8a12d",
   "metadata": {
    "scrolled": true
   },
   "outputs": [],
   "source": [
    "data #Sir will talk about this issue UNNAMED in the Pandas library\n"
   ]
  },
  {
   "cell_type": "markdown",
   "id": "f58487a3",
   "metadata": {},
   "source": [
    "## Now our requirement is to write this data in columns n1 n2 n3 n4 n5 n6 right?!"
   ]
  },
  {
   "cell_type": "code",
   "execution_count": null,
   "id": "330ae553",
   "metadata": {},
   "outputs": [],
   "source": [
    "data.to_sql() #You can always press shift +tab to know the parameters it takes!\n",
    "\n",
    "#So this takes two parameter when you press shift and tab \n",
    "#One is Table name i.e mydata and second is connection name i.e conn"
   ]
  },
  {
   "cell_type": "code",
   "execution_count": null,
   "id": "0f410a3d",
   "metadata": {},
   "outputs": [],
   "source": [
    "data.to_sql(\"mydata\",conn)"
   ]
  },
  {
   "cell_type": "markdown",
   "id": "e43e0a02",
   "metadata": {},
   "source": [
    "### WE ARE READING A FILE GLASS.DATA FROM THE FOLDER LECTURE AND WE ARE CREATING A TABLE AND PULLING THE DATA FROM THIS FILE!"
   ]
  },
  {
   "cell_type": "code",
   "execution_count": null,
   "id": "86ead316",
   "metadata": {},
   "outputs": [],
   "source": [
    "import mysql.connector as connection\n",
    "import pandas as pd\n",
    "import csv\n",
    "#establsihing connection\n",
    "#STEP 1\n",
    "conn =connection.connect(host=\"localhost\",user='root',passwd=\"password\",use_pure=True)\n",
    "#STEP 2\n",
    "#Would store data in new database or new table or existing database and new table either of them\n",
    "#We will store in existing database and new table!\n",
    "#creating a new table in rukaiya database\n",
    "\n"
   ]
  },
  {
   "cell_type": "code",
   "execution_count": null,
   "id": "f75d8927",
   "metadata": {},
   "outputs": [],
   "source": [
    "#creating a cursor \n",
    "cur = conn.cursor()\n",
    "\n",
    "#we need to execute the query\n",
    "#Give schemas that is column name\n",
    "#So for the column names you need to go to the files and create one!\n",
    "cur.execute(\"create table rukaiya.glass(index int(20),RI float(10,5),Na float(10,5),Mg float(10,5),Al float(10,5),Si float(10,5),K float(10,5),Ca float(10,5),Ba float(10,5),Fe float(10,5),Class float(10,5))\")\n",
    "\n",
    "#We have an error because we are using reserved words like index and class so remember to modify them a bit"
   ]
  },
  {
   "cell_type": "code",
   "execution_count": null,
   "id": "06cfcb3c",
   "metadata": {},
   "outputs": [],
   "source": [
    "cur.execute(\"create table rukaiya.glass(index_num int(20),RI float(10,5),Na float(10,5),Mg float(10,5),Al float(10,5),Si float(10,5),K float(10,5),Ca float(10,5),Ba float(10,5),Fe float(10,5),Class_details float(10,5))\")\n",
    "#Now its not getting an error!"
   ]
  },
  {
   "cell_type": "code",
   "execution_count": null,
   "id": "ca9e8466",
   "metadata": {},
   "outputs": [],
   "source": [
    "!ls #this might work in linus "
   ]
  },
  {
   "cell_type": "markdown",
   "id": "6bad964f",
   "metadata": {},
   "source": [
    "### shows all the files in this current dir"
   ]
  },
  {
   "cell_type": "code",
   "execution_count": null,
   "id": "bcbcc1df",
   "metadata": {
    "scrolled": true
   },
   "outputs": [],
   "source": [
    "!dir "
   ]
  },
  {
   "cell_type": "markdown",
   "id": "3303d2c5",
   "metadata": {},
   "source": [
    "### Now my glass.data file is available in this directory only so lets open it "
   ]
  },
  {
   "cell_type": "code",
   "execution_count": null,
   "id": "f18e6618",
   "metadata": {},
   "outputs": [],
   "source": [
    "with open('glass.data','r') as data: #Opening the glass.data file as data\n",
    "    data_csv = csv.reader(data,delimiter=\"\\n\") #Converting the file format to csv as we imported csv \n",
    "    #and csv.reader will read the file glass.data as data and\n",
    "    #when delimiter will encounter a new line it will place the data on new line\n",
    "    print(data_csv)\n",
    "    for i in data_csv:  #Here we can read the entire data \n",
    "        print(i)"
   ]
  },
  {
   "cell_type": "markdown",
   "id": "07508cfa",
   "metadata": {},
   "source": [
    "## enumerator: this function return indexes as well as data for every row of the data "
   ]
  },
  {
   "cell_type": "code",
   "execution_count": null,
   "id": "6b947e52",
   "metadata": {},
   "outputs": [],
   "source": [
    "with open('glass.data','r') as data: #Opening the glass.data file as data\n",
    "    data_csv = csv.reader(data,delimiter=\"\\n\") #Converting the file format to csv as we imported csv \n",
    "    #and csv.reader will read the file glass.data as data and\n",
    "    #when delimiter will encounter a new line it will place the data on new line\n",
    "    print(data_csv)\n",
    "    for i in enumerate(data_csv):  #Here we can read the entire data \n",
    "        print(i)"
   ]
  },
  {
   "cell_type": "markdown",
   "id": "8d465056",
   "metadata": {},
   "source": [
    "# Error occurred solution below!"
   ]
  },
  {
   "cell_type": "code",
   "execution_count": null,
   "id": "cb10b5b2",
   "metadata": {},
   "outputs": [],
   "source": [
    "with open('glass.data','r') as data: #Opening the glass.data file as data\n",
    "    data_csv = csv.reader(data,delimiter=\"\\n\") #Converting the file format to csv as we imported csv \n",
    "    #and csv.reader will read the file glass.data as data and\n",
    "    #when delimiter will encounter a new line it will place the data on new line\n",
    "    print(data_csv)\n",
    "    for i in enumerate(data_csv):  #Here we can read the entire data \n",
    "        for j in i[1]:#We need to insert the data in sql the entire data all at once\n",
    "            cur.execute('insert into rukaiya.glass values ({data})'.format(data=(j)))\n",
    "    print(\"All data is inserted\")\n",
    "conn.commit() #Only if you commit shall it add the data else data insertion will not take place"
   ]
  },
  {
   "cell_type": "code",
   "execution_count": null,
   "id": "aed7ac0b",
   "metadata": {},
   "outputs": [],
   "source": [
    "with open('glass.data','r') as data: #Opening the glass.data file as data\n",
    "    next(data) #The next function is imp because we cannot insert 'index,RI,Na,Mg,Al,Si,K,Ca,Ba,Fe,Class)' at line 1 since index has int!\n",
    "    data_csv = csv.reader(data,delimiter=\"\\n\") #Converting the file format to csv as we imported csv \n",
    "    #and csv.reader will read the file glass.data as data and\n",
    "    #when delimiter will encounter a new line it will place the data on new line\n",
    "    print(data_csv)\n",
    "    for i in enumerate(data_csv):  #Here we can read the entire data \n",
    "        print(i)\n",
    "        for j in i[1]:#We need to insert the data in sql the entire data all at once\n",
    "            cur.execute('insert into rukaiya.glass values ({data})'.format(data=(j)))\n",
    "    print(\"All data is inserted\")\n",
    "conn.commit() #Only if you commit shall it add the data else data insertion will not take place"
   ]
  },
  {
   "cell_type": "code",
   "execution_count": null,
   "id": "826e4606",
   "metadata": {},
   "outputs": [],
   "source": [
    "with open('glass.data','r') as data: #Opening the glass.data file as data\n",
    "    next(data) #The next function is imp because we cannot insert 'index,RI,Na,Mg,Al,Si,K,Ca,Ba,Fe,Class)' at line 1 since index has int!\n",
    "    data_csv = csv.reader(data,delimiter=\"\\n\") #Converting the file format to csv as we imported csv \n",
    "    #and csv.reader will read the file glass.data as data and\n",
    "    #when delimiter will encounter a new line it will place the data on new line\n",
    "    print(data_csv)\n",
    "    for i in enumerate(data_csv):  #Here we can read the entire data \n",
    "        print(i)\n",
    "        for j in i[1]:#We need to insert the data in sql the entire data all at once\n",
    "            cur.execute('insert into rukaiya.glass values ({data})'.format(data=(j)))\n",
    "    print(\"All data is inserted\")\n",
    "conn.commit() #Only if you commit shall it add the data else data insertion will not take place"
   ]
  },
  {
   "cell_type": "markdown",
   "id": "b4cf99bc",
   "metadata": {},
   "source": [
    "## Created a new table named gang!!"
   ]
  },
  {
   "cell_type": "code",
   "execution_count": null,
   "id": "7eb9359f",
   "metadata": {},
   "outputs": [],
   "source": [
    "cur.execute(\"create table rukaiya.gang(index_num int(20),RI float(10,5),Na float(10,5),Mg float(10,5),Al float(10,5),Si float(10,5),K float(10,5),Ca float(10,5),Ba float(10,5),Fe float(10,5),Class_details float(10,5))\")\n"
   ]
  },
  {
   "cell_type": "code",
   "execution_count": null,
   "id": "bab9e7bd",
   "metadata": {},
   "outputs": [],
   "source": [
    "with open('glass.data','r') as data: #Opening the glass.data file as data\n",
    "    next(data) #The next function is imp because we cannot insert 'index,RI,Na,Mg,Al,Si,K,Ca,Ba,Fe,Class)' at line 1 since index has int!\n",
    "    data_csv = csv.reader(data,delimiter=\"\\n\") #Converting the file format to csv as we imported csv \n",
    "    #and csv.reader will read the file glass.data as data and\n",
    "    #when delimiter will encounter a new line it will place the data on new line\n",
    "    print(data_csv)\n",
    "    for i in data_csv:  #Here we can read the entire data \n",
    "        print(i[0]) #try printing i n see the difference\n",
    "        print(type(str(i)))\n",
    "        cur.execute('insert into rukaiya.gang values ({data})'.format(data=str(i[0])))\n",
    "    print(\"All data is inserted\")\n",
    "conn.commit() #Only if you commit shall it add the data else data insertion will not take place"
   ]
  },
  {
   "cell_type": "code",
   "execution_count": null,
   "id": "44aa66a2",
   "metadata": {},
   "outputs": [],
   "source": [
    "with open('glass.data','r') as data: #Opening the glass.data file as data\n",
    "    next(data) #The next function is imp because we cannot insert 'index,RI,Na,Mg,Al,Si,K,Ca,Ba,Fe,Class)' at line 1 since index has int!\n",
    "    data_csv = csv.reader(data,delimiter=\"\\n\") #Converting the file format to csv as we imported csv \n",
    "    #and csv.reader will read the file glass.data as data and\n",
    "    #when delimiter will encounter a new line it will place the data on new line\n",
    "    print(data_csv)\n",
    "    for i in data_csv:  #Here we can read the entire data \n",
    "        print(i[0]) #try printing i n see the difference\n",
    "        print(type(str(i)))\n",
    "        cur.execute('insert into rukaiya.gang values ({data})'.format(data=str(i[0])))\n",
    "    print(\"All data is inserted\")\n",
    "conn.commit() #Only if you commit shall it add the data else data insertion will not take place"
   ]
  },
  {
   "cell_type": "markdown",
   "id": "dbf3078f",
   "metadata": {},
   "source": [
    "## Sirs question! My approach"
   ]
  },
  {
   "cell_type": "code",
   "execution_count": 46,
   "id": "32621e7e",
   "metadata": {},
   "outputs": [],
   "source": [
    "import mysql.connector as connection\n",
    "import pandas as pd\n",
    "import csv"
   ]
  },
  {
   "cell_type": "code",
   "execution_count": 49,
   "id": "f64aeccf",
   "metadata": {},
   "outputs": [],
   "source": [
    "conn = connection.connect(host='localhost',user='root',passwd='password',use_pure=True)\n",
    "cur =conn.cursor()"
   ]
  },
  {
   "cell_type": "code",
   "execution_count": 59,
   "id": "dfce0642",
   "metadata": {},
   "outputs": [],
   "source": [
    "cur.execute(\"create table rukaiya.carbon_nanotubes1(Chiral_indice_n varchar(20),Chiral_indice_m varchar(20),Initial_atomic_coordinate_u varchar(40),Initial_atomic_coordinate_v varchar(20),Initial_atomic_coordinate_w varchar(20),Calculated_atomic_coordinates_u varchar(20),Calculated_atomic_coordinates_v varchar(20),Calculated_atomic_coordinates_w varchar(20))\")\n",
    "#Also there is another way to create this data"
   ]
  },
  {
   "cell_type": "code",
   "execution_count": 60,
   "id": "a119f79c",
   "metadata": {},
   "outputs": [],
   "source": [
    "lists=[]\n",
    "with open('carbon_nanotubes.csv','r') as data:\n",
    "    #next(data)\n",
    "    csv_data= csv.reader(data,delimiter=\"\\n\")\n",
    "    for i in csv_data:\n",
    "        #print(i[0])\n",
    "        lists.append(i[0].split(\";\"))\n",
    "    \n",
    "    \n"
   ]
  },
  {
   "cell_type": "code",
   "execution_count": 61,
   "id": "f9d971dd",
   "metadata": {},
   "outputs": [
    {
     "name": "stdout",
     "output_type": "stream",
     "text": [
      "<_csv.writer object at 0x000001E742E45860>\n"
     ]
    }
   ],
   "source": [
    "with open('carbon_nanotubes1.csv','w',newline='') as data:\n",
    "    csv_data=csv.writer(data)\n",
    "    csv_data.writerows(lists)\n",
    "    print(csv_data)"
   ]
  },
  {
   "cell_type": "code",
   "execution_count": 63,
   "id": "ad1eb4bc",
   "metadata": {},
   "outputs": [
    {
     "name": "stdout",
     "output_type": "stream",
     "text": [
      "<_csv.reader object at 0x000001E7427770A0>\n",
      "All data is inserted\n"
     ]
    }
   ],
   "source": [
    "with open('carbon_nanotubes1.csv','r') as data:\n",
    "    #next(data)\n",
    "    datacsv= csv.reader(data,delimiter=\"\\n\")\n",
    "    next(datacsv)\n",
    "    print(datacsv)\n",
    "    for i in datacsv:\n",
    "        #print(i[0])\n",
    "        #for value in i:\n",
    "            #print(value)\n",
    "        cur.execute(\"insert into rukaiya.carbon_nanotubes1 values({});\".format(\",\".join([value for value in i])))\n",
    "conn.commit()\n",
    "print(\"All data is inserted\")"
   ]
  },
  {
   "cell_type": "markdown",
   "id": "8f8af85a",
   "metadata": {},
   "source": [
    "# Sir gave Question right way of solving!"
   ]
  },
  {
   "cell_type": "code",
   "execution_count": 3,
   "id": "68188b4d",
   "metadata": {},
   "outputs": [],
   "source": [
    "import csv\n",
    "import pandas as pd"
   ]
  },
  {
   "cell_type": "markdown",
   "id": "082ef609",
   "metadata": {},
   "source": [
    "## Reading the raw carbon nanotube data"
   ]
  },
  {
   "cell_type": "code",
   "execution_count": 6,
   "id": "6fd6649f",
   "metadata": {},
   "outputs": [
    {
     "name": "stdout",
     "output_type": "stream",
     "text": [
      "[\"Chiral indice n;Chiral indice m;Initial atomic coordinate u;Initial atomic coordinate v;Initial atomic coordinate w;Calculated atomic coordinates u';Calculated atomic coordinates v';Calculated atomic coordinates w'\"]\n"
     ]
    }
   ],
   "source": [
    "file_list=[]\n",
    "with open(\"carbon_nanotubes.csv\",'r') as file:\n",
    "    \n",
    "    data =csv.reader(file,delimiter=\"\\n\")\n",
    "    header=next(data)\n",
    "    print(header)\n",
    "    for i in data:\n",
    "        file_list.append(i[0].split(';'))\n"
   ]
  },
  {
   "cell_type": "markdown",
   "id": "68a4e48f",
   "metadata": {},
   "source": [
    "## Writing the updated data into the new csv file"
   ]
  },
  {
   "cell_type": "code",
   "execution_count": 7,
   "id": "28dce486",
   "metadata": {},
   "outputs": [],
   "source": [
    "with open(\"carbon2.csv\",\"w\",newline='') as data:\n",
    "    writer =csv.writer(data)\n",
    "    writer.writerows(file_list)"
   ]
  },
  {
   "cell_type": "markdown",
   "id": "60129351",
   "metadata": {},
   "source": [
    "## Creating a database in Mysql"
   ]
  },
  {
   "cell_type": "code",
   "execution_count": 8,
   "id": "e9e1e463",
   "metadata": {},
   "outputs": [
    {
     "name": "stdout",
     "output_type": "stream",
     "text": [
      "1007 (HY000): Can't create database 'carbonnanotube'; database exists\n"
     ]
    }
   ],
   "source": [
    "import mysql.connector as connection \n",
    "try:\n",
    "    mydb = connection.connect(host=\"localhost\",user=\"root\",password=\"password\",use_pure=True)\n",
    "    \n",
    "    query = \"create database CarbonNanoTube;\"\n",
    "    cursor=mydb.cursor()\n",
    "    cursor.execute(query)\n",
    "    print(\"Database is created!\")\n",
    "except Exception as e:\n",
    "    mydb.close()\n",
    "    print(str(e))\n",
    "    \n",
    "    \n"
   ]
  },
  {
   "cell_type": "markdown",
   "id": "f2150fc1",
   "metadata": {},
   "source": [
    "## Creating a Table"
   ]
  },
  {
   "cell_type": "code",
   "execution_count": 9,
   "id": "47b50531",
   "metadata": {},
   "outputs": [
    {
     "name": "stdout",
     "output_type": "stream",
     "text": [
      "Create table CarbonNanoTube.Nano(Chiral_indice_n int(20),Chiral_indice_m int(20),Initial_atomic_coordinate_u int(40),Initial_atomic_coordinate_v int(20),Initial_atomic_coordinate_w int(20),Calculated_atomic_coordinates_u int(20),Calculated_atomic_coordinates_v int(20),Calculated_atomic_coordinates_w int(20));\n"
     ]
    }
   ],
   "source": [
    "query = \"Create table CarbonNanoTube.Nano(Chiral_indice_n int(20),Chiral_indice_m int(20),Initial_atomic_coordinate_u int(40),Initial_atomic_coordinate_v int(20),Initial_atomic_coordinate_w int(20),Calculated_atomic_coordinates_u int(20),Calculated_atomic_coordinates_v int(20),Calculated_atomic_coordinates_w int(20));\"\n",
    "print(query)"
   ]
  },
  {
   "cell_type": "code",
   "execution_count": 10,
   "id": "d5d7a49c",
   "metadata": {},
   "outputs": [
    {
     "ename": "OperationalError",
     "evalue": "MySQL Connection not available",
     "output_type": "error",
     "traceback": [
      "\u001b[1;31m---------------------------------------------------------------------------\u001b[0m",
      "\u001b[1;31mOperationalError\u001b[0m                          Traceback (most recent call last)",
      "Cell \u001b[1;32mIn[10], line 1\u001b[0m\n\u001b[1;32m----> 1\u001b[0m cursor\u001b[38;5;241m=\u001b[39m \u001b[43mmydb\u001b[49m\u001b[38;5;241;43m.\u001b[39;49m\u001b[43mcursor\u001b[49m\u001b[43m(\u001b[49m\u001b[43m)\u001b[49m\n\u001b[0;32m      2\u001b[0m cursor\u001b[38;5;241m.\u001b[39mexecute(query)\n\u001b[0;32m      3\u001b[0m \u001b[38;5;28mprint\u001b[39m(\u001b[38;5;124m\"\u001b[39m\u001b[38;5;124mTable created!\u001b[39m\u001b[38;5;124m\"\u001b[39m)\n",
      "File \u001b[1;32m~\\anaconda3\\lib\\site-packages\\mysql\\connector\\connection.py:1406\u001b[0m, in \u001b[0;36mMySQLConnection.cursor\u001b[1;34m(self, buffered, raw, prepared, cursor_class, dictionary, named_tuple)\u001b[0m\n\u001b[0;32m   1403\u001b[0m \u001b[38;5;28mself\u001b[39m\u001b[38;5;241m.\u001b[39mhandle_unread_result()\n\u001b[0;32m   1405\u001b[0m \u001b[38;5;28;01mif\u001b[39;00m \u001b[38;5;129;01mnot\u001b[39;00m \u001b[38;5;28mself\u001b[39m\u001b[38;5;241m.\u001b[39mis_connected():\n\u001b[1;32m-> 1406\u001b[0m     \u001b[38;5;28;01mraise\u001b[39;00m OperationalError(\u001b[38;5;124m\"\u001b[39m\u001b[38;5;124mMySQL Connection not available\u001b[39m\u001b[38;5;124m\"\u001b[39m)\n\u001b[0;32m   1407\u001b[0m \u001b[38;5;28;01mif\u001b[39;00m cursor_class \u001b[38;5;129;01mis\u001b[39;00m \u001b[38;5;129;01mnot\u001b[39;00m \u001b[38;5;28;01mNone\u001b[39;00m:\n\u001b[0;32m   1408\u001b[0m     \u001b[38;5;28;01mif\u001b[39;00m \u001b[38;5;129;01mnot\u001b[39;00m \u001b[38;5;28missubclass\u001b[39m(cursor_class, CursorBase):\n",
      "\u001b[1;31mOperationalError\u001b[0m: MySQL Connection not available"
     ]
    }
   ],
   "source": [
    "cursor= mydb.cursor()\n",
    "cursor.execute(query)\n",
    "print(\"Table created!\")"
   ]
  },
  {
   "cell_type": "markdown",
   "id": "9cf1f3d9",
   "metadata": {},
   "source": [
    "## Inserting data into the table"
   ]
  },
  {
   "cell_type": "code",
   "execution_count": 4,
   "id": "f8756063",
   "metadata": {},
   "outputs": [
    {
     "name": "stdout",
     "output_type": "stream",
     "text": [
      "<_csv.reader object at 0x0000018C2E89E820>\n"
     ]
    },
    {
     "ename": "NameError",
     "evalue": "name 'cursor' is not defined",
     "output_type": "error",
     "traceback": [
      "\u001b[1;31m---------------------------------------------------------------------------\u001b[0m",
      "\u001b[1;31mNameError\u001b[0m                                 Traceback (most recent call last)",
      "Cell \u001b[1;32mIn[4], line 8\u001b[0m\n\u001b[0;32m      6\u001b[0m     \u001b[38;5;28;01mfor\u001b[39;00m j \u001b[38;5;129;01min\u001b[39;00m data_csv:\n\u001b[0;32m      7\u001b[0m         query \u001b[38;5;241m=\u001b[39m \u001b[38;5;124m\"\u001b[39m\u001b[38;5;124minsert into CarbonNanoTube.Nano values(\u001b[39m\u001b[38;5;132;01m{}\u001b[39;00m\u001b[38;5;124m);\u001b[39m\u001b[38;5;124m\"\u001b[39m\u001b[38;5;241m.\u001b[39mformat([value \u001b[38;5;28;01mfor\u001b[39;00m value \u001b[38;5;129;01min\u001b[39;00m j])\n\u001b[1;32m----> 8\u001b[0m         \u001b[43mcursor\u001b[49m\u001b[38;5;241m.\u001b[39mexecute(query)\n\u001b[0;32m     10\u001b[0m mydb\u001b[38;5;241m.\u001b[39mcommit()\n\u001b[0;32m     11\u001b[0m \u001b[38;5;28mprint\u001b[39m(\u001b[38;5;124m\"\u001b[39m\u001b[38;5;124mValues Inserted!\u001b[39m\u001b[38;5;124m\"\u001b[39m)\n",
      "\u001b[1;31mNameError\u001b[0m: name 'cursor' is not defined"
     ]
    }
   ],
   "source": [
    "with open(\"carbon2.csv\",\"r\") as data:\n",
    "    next(data)\n",
    "    data_csv= csv.reader(data, delimiter=\"\\n\")\n",
    "    next(data_csv)\n",
    "    print(data_csv)\n",
    "    for j in data_csv:\n",
    "        query = \"insert into CarbonNanoTube.Nano values({});\".format([value for value in j])\n",
    "        cursor.execute(query)\n",
    "        \n",
    "mydb.commit()\n",
    "print(\"Values Inserted!\")\n",
    "    \n",
    "    "
   ]
  },
  {
   "cell_type": "markdown",
   "id": "e48d078f",
   "metadata": {},
   "source": [
    "# Delete one row from the table"
   ]
  },
  {
   "cell_type": "code",
   "execution_count": null,
   "id": "30257e30",
   "metadata": {},
   "outputs": [],
   "source": [
    "mydb = connection.connect(host=\"localhost\",user=\"root\",password=\"password\",use_pure=True)\n",
    "print(mydb.is_connected())\n",
    "query = \"delete from rukaiya.carbon_nanotubes1 where Chiral_indice_n=2\"\n",
    "cursor=mydb.cursor()\n",
    "cursor.execute(query)\n",
    "mydb.commit()"
   ]
  },
  {
   "cell_type": "markdown",
   "id": "de106002",
   "metadata": {},
   "source": [
    "# Updating a row!"
   ]
  },
  {
   "cell_type": "code",
   "execution_count": null,
   "id": "48d97692",
   "metadata": {},
   "outputs": [],
   "source": [
    "query =\"update rukaiya.carbon_nanotubes1 set Chiral_indice_n=2 where Chiral_indice_n=3 \"\n",
    "cursor=mydb.cursor()\n",
    "cursor.execute(query)\n",
    "mydb.commit()"
   ]
  },
  {
   "cell_type": "markdown",
   "id": "0ad8bd60",
   "metadata": {},
   "source": [
    "# So once you commit you can never rollback!"
   ]
  },
  {
   "cell_type": "code",
   "execution_count": null,
   "id": "f19b5a88",
   "metadata": {},
   "outputs": [],
   "source": []
  },
  {
   "cell_type": "code",
   "execution_count": null,
   "id": "2dc757d6",
   "metadata": {},
   "outputs": [],
   "source": []
  },
  {
   "cell_type": "code",
   "execution_count": null,
   "id": "78ff2a3c",
   "metadata": {},
   "outputs": [],
   "source": []
  },
  {
   "cell_type": "code",
   "execution_count": null,
   "id": "3b2ffa5d",
   "metadata": {},
   "outputs": [],
   "source": []
  },
  {
   "cell_type": "code",
   "execution_count": null,
   "id": "398762fc",
   "metadata": {},
   "outputs": [],
   "source": []
  },
  {
   "cell_type": "code",
   "execution_count": null,
   "id": "fc4d89be",
   "metadata": {},
   "outputs": [],
   "source": []
  },
  {
   "cell_type": "code",
   "execution_count": null,
   "id": "7c4c524d",
   "metadata": {},
   "outputs": [],
   "source": []
  },
  {
   "cell_type": "code",
   "execution_count": null,
   "id": "f3c572c0",
   "metadata": {},
   "outputs": [],
   "source": []
  },
  {
   "cell_type": "code",
   "execution_count": null,
   "id": "9537d46c",
   "metadata": {},
   "outputs": [],
   "source": []
  },
  {
   "cell_type": "code",
   "execution_count": null,
   "id": "364fc84f",
   "metadata": {},
   "outputs": [],
   "source": []
  },
  {
   "cell_type": "code",
   "execution_count": null,
   "id": "b27bb79b",
   "metadata": {},
   "outputs": [],
   "source": []
  },
  {
   "cell_type": "code",
   "execution_count": null,
   "id": "712b31f1",
   "metadata": {},
   "outputs": [],
   "source": []
  },
  {
   "cell_type": "code",
   "execution_count": null,
   "id": "4b499996",
   "metadata": {},
   "outputs": [],
   "source": []
  },
  {
   "cell_type": "code",
   "execution_count": null,
   "id": "d8a36888",
   "metadata": {},
   "outputs": [],
   "source": []
  },
  {
   "cell_type": "code",
   "execution_count": null,
   "id": "fdd72113",
   "metadata": {},
   "outputs": [],
   "source": []
  },
  {
   "cell_type": "code",
   "execution_count": null,
   "id": "c1140734",
   "metadata": {},
   "outputs": [],
   "source": []
  },
  {
   "cell_type": "code",
   "execution_count": null,
   "id": "57853ae0",
   "metadata": {},
   "outputs": [],
   "source": []
  },
  {
   "cell_type": "code",
   "execution_count": null,
   "id": "8a58da5f",
   "metadata": {},
   "outputs": [],
   "source": []
  },
  {
   "cell_type": "code",
   "execution_count": null,
   "id": "ff82f72f",
   "metadata": {},
   "outputs": [],
   "source": []
  },
  {
   "cell_type": "code",
   "execution_count": null,
   "id": "6d0a4659",
   "metadata": {},
   "outputs": [],
   "source": []
  },
  {
   "cell_type": "code",
   "execution_count": null,
   "id": "7855aa12",
   "metadata": {},
   "outputs": [],
   "source": []
  },
  {
   "cell_type": "code",
   "execution_count": null,
   "id": "d3f6466e",
   "metadata": {},
   "outputs": [],
   "source": []
  },
  {
   "cell_type": "code",
   "execution_count": null,
   "id": "0c4aa93d",
   "metadata": {},
   "outputs": [],
   "source": []
  },
  {
   "cell_type": "code",
   "execution_count": null,
   "id": "f4a4754e",
   "metadata": {},
   "outputs": [],
   "source": []
  },
  {
   "cell_type": "code",
   "execution_count": null,
   "id": "818fce11",
   "metadata": {},
   "outputs": [],
   "source": []
  },
  {
   "cell_type": "code",
   "execution_count": null,
   "id": "c8a65fe6",
   "metadata": {},
   "outputs": [],
   "source": []
  },
  {
   "cell_type": "code",
   "execution_count": null,
   "id": "2f362a67",
   "metadata": {},
   "outputs": [],
   "source": []
  },
  {
   "cell_type": "code",
   "execution_count": null,
   "id": "de9fd959",
   "metadata": {},
   "outputs": [],
   "source": []
  },
  {
   "cell_type": "code",
   "execution_count": null,
   "id": "8d00fc97",
   "metadata": {},
   "outputs": [],
   "source": []
  },
  {
   "cell_type": "code",
   "execution_count": null,
   "id": "ad82fe80",
   "metadata": {},
   "outputs": [],
   "source": []
  },
  {
   "cell_type": "code",
   "execution_count": null,
   "id": "4a38d3a9",
   "metadata": {},
   "outputs": [],
   "source": []
  },
  {
   "cell_type": "code",
   "execution_count": null,
   "id": "c2701852",
   "metadata": {},
   "outputs": [],
   "source": []
  },
  {
   "cell_type": "code",
   "execution_count": null,
   "id": "46b1b29c",
   "metadata": {},
   "outputs": [],
   "source": []
  },
  {
   "cell_type": "code",
   "execution_count": null,
   "id": "b85b094e",
   "metadata": {},
   "outputs": [],
   "source": []
  },
  {
   "cell_type": "code",
   "execution_count": null,
   "id": "0313811f",
   "metadata": {},
   "outputs": [],
   "source": []
  },
  {
   "cell_type": "code",
   "execution_count": null,
   "id": "9635a39c",
   "metadata": {},
   "outputs": [],
   "source": []
  },
  {
   "cell_type": "code",
   "execution_count": null,
   "id": "fe58bf0b",
   "metadata": {},
   "outputs": [],
   "source": []
  },
  {
   "cell_type": "code",
   "execution_count": null,
   "id": "e8c3efa4",
   "metadata": {},
   "outputs": [],
   "source": []
  },
  {
   "cell_type": "code",
   "execution_count": null,
   "id": "11840e91",
   "metadata": {},
   "outputs": [],
   "source": []
  },
  {
   "cell_type": "code",
   "execution_count": null,
   "id": "4ad8b98d",
   "metadata": {},
   "outputs": [],
   "source": []
  },
  {
   "cell_type": "code",
   "execution_count": null,
   "id": "a1c4dfa0",
   "metadata": {},
   "outputs": [],
   "source": []
  },
  {
   "cell_type": "code",
   "execution_count": null,
   "id": "84053ab8",
   "metadata": {},
   "outputs": [],
   "source": []
  },
  {
   "cell_type": "code",
   "execution_count": null,
   "id": "626d4128",
   "metadata": {},
   "outputs": [],
   "source": []
  },
  {
   "cell_type": "code",
   "execution_count": null,
   "id": "cfe1076e",
   "metadata": {},
   "outputs": [],
   "source": []
  },
  {
   "cell_type": "code",
   "execution_count": null,
   "id": "9b2c8b3e",
   "metadata": {},
   "outputs": [],
   "source": []
  },
  {
   "cell_type": "code",
   "execution_count": null,
   "id": "41de03a4",
   "metadata": {},
   "outputs": [],
   "source": []
  },
  {
   "cell_type": "code",
   "execution_count": null,
   "id": "86c885b8",
   "metadata": {},
   "outputs": [],
   "source": []
  },
  {
   "cell_type": "code",
   "execution_count": null,
   "id": "174f6c27",
   "metadata": {},
   "outputs": [],
   "source": []
  },
  {
   "cell_type": "code",
   "execution_count": null,
   "id": "2c2d5f69",
   "metadata": {},
   "outputs": [],
   "source": []
  },
  {
   "cell_type": "code",
   "execution_count": null,
   "id": "8f0b0db2",
   "metadata": {},
   "outputs": [],
   "source": []
  },
  {
   "cell_type": "code",
   "execution_count": null,
   "id": "19c13dcf",
   "metadata": {},
   "outputs": [],
   "source": []
  }
 ],
 "metadata": {
  "kernelspec": {
   "display_name": "Python 3 (ipykernel)",
   "language": "python",
   "name": "python3"
  },
  "language_info": {
   "codemirror_mode": {
    "name": "ipython",
    "version": 3
   },
   "file_extension": ".py",
   "mimetype": "text/x-python",
   "name": "python",
   "nbconvert_exporter": "python",
   "pygments_lexer": "ipython3",
   "version": "3.9.7"
  }
 },
 "nbformat": 4,
 "nbformat_minor": 5
}
