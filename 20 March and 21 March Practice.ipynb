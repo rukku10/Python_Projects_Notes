{
 "cells": [
  {
   "cell_type": "markdown",
   "id": "d9ac6c37",
   "metadata": {},
   "source": [
    "# Tuple\n",
    "immutable"
   ]
  },
  {
   "cell_type": "code",
   "execution_count": 1,
   "id": "2ce2f611",
   "metadata": {},
   "outputs": [],
   "source": [
    "t=()"
   ]
  },
  {
   "cell_type": "code",
   "execution_count": 2,
   "id": "66a47bee",
   "metadata": {},
   "outputs": [
    {
     "data": {
      "text/plain": [
       "tuple"
      ]
     },
     "execution_count": 2,
     "metadata": {},
     "output_type": "execute_result"
    }
   ],
   "source": [
    "type(t)"
   ]
  },
  {
   "cell_type": "code",
   "execution_count": 3,
   "id": "b9251783",
   "metadata": {},
   "outputs": [],
   "source": [
    "t=(1,2,3,4,5,6)"
   ]
  },
  {
   "cell_type": "code",
   "execution_count": null,
   "id": "e5611cdf",
   "metadata": {},
   "outputs": [],
   "source": [
    "Perform string slicing and show?"
   ]
  },
  {
   "cell_type": "markdown",
   "id": "48750900",
   "metadata": {},
   "source": [
    "## String slicing takes place in tuples!"
   ]
  },
  {
   "cell_type": "code",
   "execution_count": 4,
   "id": "6439ce3c",
   "metadata": {},
   "outputs": [
    {
     "data": {
      "text/plain": [
       "2"
      ]
     },
     "execution_count": 4,
     "metadata": {},
     "output_type": "execute_result"
    }
   ],
   "source": [
    "t[1]"
   ]
  },
  {
   "cell_type": "code",
   "execution_count": 5,
   "id": "2f9bedd8",
   "metadata": {
    "scrolled": false
   },
   "outputs": [
    {
     "data": {
      "text/plain": [
       "4"
      ]
     },
     "execution_count": 5,
     "metadata": {},
     "output_type": "execute_result"
    }
   ],
   "source": [
    "t[3]"
   ]
  },
  {
   "cell_type": "code",
   "execution_count": 15,
   "id": "254ddfb8",
   "metadata": {
    "scrolled": true
   },
   "outputs": [
    {
     "ename": "TypeError",
     "evalue": "'tuple' object does not support item assignment",
     "output_type": "error",
     "traceback": [
      "\u001b[1;31m---------------------------------------------------------------------------\u001b[0m",
      "\u001b[1;31mTypeError\u001b[0m                                 Traceback (most recent call last)",
      "\u001b[1;32mC:\\Users\\RUKAIY~1\\AppData\\Local\\Temp/ipykernel_35484/3061612047.py\u001b[0m in \u001b[0;36m<module>\u001b[1;34m\u001b[0m\n\u001b[1;32m----> 1\u001b[1;33m \u001b[0mt\u001b[0m\u001b[1;33m[\u001b[0m\u001b[1;36m1\u001b[0m\u001b[1;33m]\u001b[0m\u001b[1;33m=\u001b[0m\u001b[1;36m0\u001b[0m\u001b[1;33m\u001b[0m\u001b[1;33m\u001b[0m\u001b[0m\n\u001b[0m",
      "\u001b[1;31mTypeError\u001b[0m: 'tuple' object does not support item assignment"
     ]
    }
   ],
   "source": [
    "t[1]=0"
   ]
  },
  {
   "cell_type": "markdown",
   "id": "c007211e",
   "metadata": {},
   "source": [
    "## String assignment does not take place in tuples"
   ]
  },
  {
   "cell_type": "code",
   "execution_count": 16,
   "id": "d7b6f962",
   "metadata": {},
   "outputs": [
    {
     "ename": "TypeError",
     "evalue": "'tuple' object does not support item assignment",
     "output_type": "error",
     "traceback": [
      "\u001b[1;31m---------------------------------------------------------------------------\u001b[0m",
      "\u001b[1;31mTypeError\u001b[0m                                 Traceback (most recent call last)",
      "\u001b[1;32mC:\\Users\\RUKAIY~1\\AppData\\Local\\Temp/ipykernel_35484/3587372724.py\u001b[0m in \u001b[0;36m<module>\u001b[1;34m\u001b[0m\n\u001b[1;32m----> 1\u001b[1;33m \u001b[0mt\u001b[0m\u001b[1;33m[\u001b[0m\u001b[1;36m4\u001b[0m\u001b[1;33m]\u001b[0m\u001b[1;33m=\u001b[0m\u001b[1;34m\"plo\"\u001b[0m\u001b[1;33m\u001b[0m\u001b[1;33m\u001b[0m\u001b[0m\n\u001b[0m",
      "\u001b[1;31mTypeError\u001b[0m: 'tuple' object does not support item assignment"
     ]
    }
   ],
   "source": [
    "t[4]=\"plo\""
   ]
  },
  {
   "cell_type": "code",
   "execution_count": 8,
   "id": "1d760a40",
   "metadata": {},
   "outputs": [],
   "source": [
    "t=(1,\"o\",2,\"p\",3,\"i\")"
   ]
  },
  {
   "cell_type": "code",
   "execution_count": 9,
   "id": "67d384c0",
   "metadata": {},
   "outputs": [
    {
     "data": {
      "text/plain": [
       "3"
      ]
     },
     "execution_count": 9,
     "metadata": {},
     "output_type": "execute_result"
    }
   ],
   "source": [
    "t[4]"
   ]
  },
  {
   "cell_type": "code",
   "execution_count": 10,
   "id": "f8f4efa7",
   "metadata": {},
   "outputs": [
    {
     "data": {
      "text/plain": [
       "'p'"
      ]
     },
     "execution_count": 10,
     "metadata": {},
     "output_type": "execute_result"
    }
   ],
   "source": [
    "t[3]"
   ]
  },
  {
   "cell_type": "markdown",
   "id": "9bf60b57",
   "metadata": {},
   "source": [
    "## We cannot append as well add or delete "
   ]
  },
  {
   "cell_type": "code",
   "execution_count": 11,
   "id": "f6625297",
   "metadata": {
    "scrolled": true
   },
   "outputs": [
    {
     "ename": "AttributeError",
     "evalue": "'tuple' object has no attribute 'add'",
     "output_type": "error",
     "traceback": [
      "\u001b[1;31m---------------------------------------------------------------------------\u001b[0m",
      "\u001b[1;31mAttributeError\u001b[0m                            Traceback (most recent call last)",
      "\u001b[1;32mC:\\Users\\RUKAIY~1\\AppData\\Local\\Temp/ipykernel_35484/2686075645.py\u001b[0m in \u001b[0;36m<module>\u001b[1;34m\u001b[0m\n\u001b[1;32m----> 1\u001b[1;33m \u001b[0mt\u001b[0m\u001b[1;33m.\u001b[0m\u001b[0madd\u001b[0m\u001b[1;33m(\u001b[0m\u001b[1;36m3\u001b[0m\u001b[1;33m)\u001b[0m\u001b[1;33m\u001b[0m\u001b[1;33m\u001b[0m\u001b[0m\n\u001b[0m",
      "\u001b[1;31mAttributeError\u001b[0m: 'tuple' object has no attribute 'add'"
     ]
    }
   ],
   "source": [
    "t.add(3)"
   ]
  },
  {
   "cell_type": "code",
   "execution_count": 12,
   "id": "21a589bc",
   "metadata": {},
   "outputs": [
    {
     "ename": "AttributeError",
     "evalue": "'tuple' object has no attribute 'append'",
     "output_type": "error",
     "traceback": [
      "\u001b[1;31m---------------------------------------------------------------------------\u001b[0m",
      "\u001b[1;31mAttributeError\u001b[0m                            Traceback (most recent call last)",
      "\u001b[1;32mC:\\Users\\RUKAIY~1\\AppData\\Local\\Temp/ipykernel_35484/3080907543.py\u001b[0m in \u001b[0;36m<module>\u001b[1;34m\u001b[0m\n\u001b[1;32m----> 1\u001b[1;33m \u001b[0mt\u001b[0m\u001b[1;33m.\u001b[0m\u001b[0mappend\u001b[0m\u001b[1;33m(\u001b[0m\u001b[1;34m\"pop\"\u001b[0m\u001b[1;33m)\u001b[0m\u001b[1;33m\u001b[0m\u001b[1;33m\u001b[0m\u001b[0m\n\u001b[0m",
      "\u001b[1;31mAttributeError\u001b[0m: 'tuple' object has no attribute 'append'"
     ]
    }
   ],
   "source": [
    "t.append(\"pop\")"
   ]
  },
  {
   "cell_type": "markdown",
   "id": "5ecc7c8c",
   "metadata": {},
   "source": [
    "### They perform addition operations with heterogenous datatype as well"
   ]
  },
  {
   "cell_type": "code",
   "execution_count": 13,
   "id": "e59db82d",
   "metadata": {},
   "outputs": [],
   "source": [
    "t1=(\"pop\",1,2)"
   ]
  },
  {
   "cell_type": "code",
   "execution_count": 14,
   "id": "a1280cb7",
   "metadata": {},
   "outputs": [
    {
     "data": {
      "text/plain": [
       "('pop', 1, 2, 1, 'o', 2, 'p', 3, 'i')"
      ]
     },
     "execution_count": 14,
     "metadata": {},
     "output_type": "execute_result"
    }
   ],
   "source": [
    "t1+t"
   ]
  },
  {
   "cell_type": "code",
   "execution_count": 17,
   "id": "5ba2e39e",
   "metadata": {},
   "outputs": [
    {
     "data": {
      "text/plain": [
       "(1, 'o', 2, 'p', 3, 'i')"
      ]
     },
     "execution_count": 17,
     "metadata": {},
     "output_type": "execute_result"
    }
   ],
   "source": [
    "t"
   ]
  },
  {
   "cell_type": "code",
   "execution_count": 18,
   "id": "0d03aedb",
   "metadata": {},
   "outputs": [
    {
     "data": {
      "text/plain": [
       "('pop', 1, 2)"
      ]
     },
     "execution_count": 18,
     "metadata": {},
     "output_type": "execute_result"
    }
   ],
   "source": [
    "t1"
   ]
  },
  {
   "cell_type": "code",
   "execution_count": 19,
   "id": "ca0fc449",
   "metadata": {},
   "outputs": [
    {
     "ename": "TypeError",
     "evalue": "can't multiply sequence by non-int of type 'tuple'",
     "output_type": "error",
     "traceback": [
      "\u001b[1;31m---------------------------------------------------------------------------\u001b[0m",
      "\u001b[1;31mTypeError\u001b[0m                                 Traceback (most recent call last)",
      "\u001b[1;32mC:\\Users\\RUKAIY~1\\AppData\\Local\\Temp/ipykernel_35484/2735488120.py\u001b[0m in \u001b[0;36m<module>\u001b[1;34m\u001b[0m\n\u001b[1;32m----> 1\u001b[1;33m \u001b[0mt\u001b[0m\u001b[1;33m*\u001b[0m\u001b[0mt1\u001b[0m\u001b[1;33m\u001b[0m\u001b[1;33m\u001b[0m\u001b[0m\n\u001b[0m",
      "\u001b[1;31mTypeError\u001b[0m: can't multiply sequence by non-int of type 'tuple'"
     ]
    }
   ],
   "source": [
    "t*t1"
   ]
  },
  {
   "cell_type": "code",
   "execution_count": 20,
   "id": "0a1213c3",
   "metadata": {},
   "outputs": [],
   "source": [
    "a=(1,2,3)"
   ]
  },
  {
   "cell_type": "code",
   "execution_count": 21,
   "id": "70246ed9",
   "metadata": {},
   "outputs": [],
   "source": [
    "b=(2,4,6)"
   ]
  },
  {
   "cell_type": "code",
   "execution_count": 22,
   "id": "bdb91916",
   "metadata": {},
   "outputs": [
    {
     "ename": "TypeError",
     "evalue": "can't multiply sequence by non-int of type 'tuple'",
     "output_type": "error",
     "traceback": [
      "\u001b[1;31m---------------------------------------------------------------------------\u001b[0m",
      "\u001b[1;31mTypeError\u001b[0m                                 Traceback (most recent call last)",
      "\u001b[1;32mC:\\Users\\RUKAIY~1\\AppData\\Local\\Temp/ipykernel_35484/3507077656.py\u001b[0m in \u001b[0;36m<module>\u001b[1;34m\u001b[0m\n\u001b[1;32m----> 1\u001b[1;33m \u001b[0ma\u001b[0m\u001b[1;33m*\u001b[0m\u001b[0mb\u001b[0m\u001b[1;33m\u001b[0m\u001b[1;33m\u001b[0m\u001b[0m\n\u001b[0m",
      "\u001b[1;31mTypeError\u001b[0m: can't multiply sequence by non-int of type 'tuple'"
     ]
    }
   ],
   "source": [
    "a*b"
   ]
  },
  {
   "cell_type": "code",
   "execution_count": 23,
   "id": "7b2ffab8",
   "metadata": {},
   "outputs": [
    {
     "ename": "TypeError",
     "evalue": "can't multiply sequence by non-int of type 'tuple'",
     "output_type": "error",
     "traceback": [
      "\u001b[1;31m---------------------------------------------------------------------------\u001b[0m",
      "\u001b[1;31mTypeError\u001b[0m                                 Traceback (most recent call last)",
      "\u001b[1;32mC:\\Users\\RUKAIY~1\\AppData\\Local\\Temp/ipykernel_35484/1235571766.py\u001b[0m in \u001b[0;36m<module>\u001b[1;34m\u001b[0m\n\u001b[1;32m----> 1\u001b[1;33m \u001b[0mt\u001b[0m\u001b[1;33m*\u001b[0m\u001b[0mt\u001b[0m\u001b[1;33m\u001b[0m\u001b[1;33m\u001b[0m\u001b[0m\n\u001b[0m",
      "\u001b[1;31mTypeError\u001b[0m: can't multiply sequence by non-int of type 'tuple'"
     ]
    }
   ],
   "source": [
    "t*t"
   ]
  },
  {
   "cell_type": "code",
   "execution_count": 24,
   "id": "62e226a4",
   "metadata": {},
   "outputs": [
    {
     "ename": "TypeError",
     "evalue": "can't multiply sequence by non-int of type 'tuple'",
     "output_type": "error",
     "traceback": [
      "\u001b[1;31m---------------------------------------------------------------------------\u001b[0m",
      "\u001b[1;31mTypeError\u001b[0m                                 Traceback (most recent call last)",
      "\u001b[1;32mC:\\Users\\RUKAIY~1\\AppData\\Local\\Temp/ipykernel_35484/66863864.py\u001b[0m in \u001b[0;36m<module>\u001b[1;34m\u001b[0m\n\u001b[1;32m----> 1\u001b[1;33m \u001b[0ma\u001b[0m\u001b[1;33m*\u001b[0m\u001b[0ma\u001b[0m\u001b[1;33m\u001b[0m\u001b[1;33m\u001b[0m\u001b[0m\n\u001b[0m",
      "\u001b[1;31mTypeError\u001b[0m: can't multiply sequence by non-int of type 'tuple'"
     ]
    }
   ],
   "source": [
    "a*a"
   ]
  },
  {
   "cell_type": "code",
   "execution_count": 25,
   "id": "ec5509e4",
   "metadata": {},
   "outputs": [
    {
     "data": {
      "text/plain": [
       "(1, 'o', 2, 'p', 3, 'i', 1, 'o', 2, 'p', 3, 'i')"
      ]
     },
     "execution_count": 25,
     "metadata": {},
     "output_type": "execute_result"
    }
   ],
   "source": [
    "t*2"
   ]
  },
  {
   "cell_type": "code",
   "execution_count": 26,
   "id": "f8c5defc",
   "metadata": {},
   "outputs": [
    {
     "data": {
      "text/plain": [
       "(1, 2, 3, 1, 2, 3, 1, 2, 3)"
      ]
     },
     "execution_count": 26,
     "metadata": {},
     "output_type": "execute_result"
    }
   ],
   "source": [
    "a*3"
   ]
  },
  {
   "cell_type": "code",
   "execution_count": 27,
   "id": "d46b61d6",
   "metadata": {},
   "outputs": [
    {
     "ename": "TypeError",
     "evalue": "unsupported operand type(s) for -: 'tuple' and 'tuple'",
     "output_type": "error",
     "traceback": [
      "\u001b[1;31m---------------------------------------------------------------------------\u001b[0m",
      "\u001b[1;31mTypeError\u001b[0m                                 Traceback (most recent call last)",
      "\u001b[1;32mC:\\Users\\RUKAIY~1\\AppData\\Local\\Temp/ipykernel_35484/3439423791.py\u001b[0m in \u001b[0;36m<module>\u001b[1;34m\u001b[0m\n\u001b[1;32m----> 1\u001b[1;33m \u001b[0mt\u001b[0m\u001b[1;33m-\u001b[0m\u001b[0mt\u001b[0m\u001b[1;33m\u001b[0m\u001b[1;33m\u001b[0m\u001b[0m\n\u001b[0m",
      "\u001b[1;31mTypeError\u001b[0m: unsupported operand type(s) for -: 'tuple' and 'tuple'"
     ]
    }
   ],
   "source": [
    "t-t"
   ]
  },
  {
   "cell_type": "code",
   "execution_count": 28,
   "id": "5e89cabb",
   "metadata": {},
   "outputs": [
    {
     "ename": "TypeError",
     "evalue": "unsupported operand type(s) for /: 'tuple' and 'tuple'",
     "output_type": "error",
     "traceback": [
      "\u001b[1;31m---------------------------------------------------------------------------\u001b[0m",
      "\u001b[1;31mTypeError\u001b[0m                                 Traceback (most recent call last)",
      "\u001b[1;32mC:\\Users\\RUKAIY~1\\AppData\\Local\\Temp/ipykernel_35484/2821312714.py\u001b[0m in \u001b[0;36m<module>\u001b[1;34m\u001b[0m\n\u001b[1;32m----> 1\u001b[1;33m \u001b[0mt\u001b[0m\u001b[1;33m/\u001b[0m\u001b[0mt\u001b[0m\u001b[1;33m\u001b[0m\u001b[1;33m\u001b[0m\u001b[0m\n\u001b[0m",
      "\u001b[1;31mTypeError\u001b[0m: unsupported operand type(s) for /: 'tuple' and 'tuple'"
     ]
    }
   ],
   "source": [
    "t/t"
   ]
  },
  {
   "cell_type": "code",
   "execution_count": 29,
   "id": "abcab920",
   "metadata": {},
   "outputs": [
    {
     "ename": "TypeError",
     "evalue": "unsupported operand type(s) for -: 'tuple' and 'int'",
     "output_type": "error",
     "traceback": [
      "\u001b[1;31m---------------------------------------------------------------------------\u001b[0m",
      "\u001b[1;31mTypeError\u001b[0m                                 Traceback (most recent call last)",
      "\u001b[1;32mC:\\Users\\RUKAIY~1\\AppData\\Local\\Temp/ipykernel_35484/1893378834.py\u001b[0m in \u001b[0;36m<module>\u001b[1;34m\u001b[0m\n\u001b[1;32m----> 1\u001b[1;33m \u001b[0mt\u001b[0m\u001b[1;33m-\u001b[0m\u001b[1;36m1\u001b[0m\u001b[1;33m\u001b[0m\u001b[1;33m\u001b[0m\u001b[0m\n\u001b[0m",
      "\u001b[1;31mTypeError\u001b[0m: unsupported operand type(s) for -: 'tuple' and 'int'"
     ]
    }
   ],
   "source": [
    "t-1"
   ]
  },
  {
   "cell_type": "code",
   "execution_count": 30,
   "id": "471a85f6",
   "metadata": {},
   "outputs": [
    {
     "ename": "TypeError",
     "evalue": "unsupported operand type(s) for /: 'tuple' and 'int'",
     "output_type": "error",
     "traceback": [
      "\u001b[1;31m---------------------------------------------------------------------------\u001b[0m",
      "\u001b[1;31mTypeError\u001b[0m                                 Traceback (most recent call last)",
      "\u001b[1;32mC:\\Users\\RUKAIY~1\\AppData\\Local\\Temp/ipykernel_35484/2589339294.py\u001b[0m in \u001b[0;36m<module>\u001b[1;34m\u001b[0m\n\u001b[1;32m----> 1\u001b[1;33m \u001b[0mt\u001b[0m\u001b[1;33m/\u001b[0m\u001b[1;36m4\u001b[0m\u001b[1;33m\u001b[0m\u001b[1;33m\u001b[0m\u001b[0m\n\u001b[0m",
      "\u001b[1;31mTypeError\u001b[0m: unsupported operand type(s) for /: 'tuple' and 'int'"
     ]
    }
   ],
   "source": [
    "\n",
    "t/4"
   ]
  },
  {
   "cell_type": "markdown",
   "id": "741bcabb",
   "metadata": {},
   "source": [
    "## ONLY TAKES PLACE IN HOMOGENOUS DATA."
   ]
  },
  {
   "cell_type": "code",
   "execution_count": 31,
   "id": "389fee65",
   "metadata": {},
   "outputs": [],
   "source": [
    "t=(1,2,\"lol\")"
   ]
  },
  {
   "cell_type": "code",
   "execution_count": 33,
   "id": "9777b5ab",
   "metadata": {},
   "outputs": [
    {
     "ename": "TypeError",
     "evalue": "'>' not supported between instances of 'str' and 'int'",
     "output_type": "error",
     "traceback": [
      "\u001b[1;31m---------------------------------------------------------------------------\u001b[0m",
      "\u001b[1;31mTypeError\u001b[0m                                 Traceback (most recent call last)",
      "\u001b[1;32mC:\\Users\\RUKAIY~1\\AppData\\Local\\Temp/ipykernel_35484/1079362002.py\u001b[0m in \u001b[0;36m<module>\u001b[1;34m\u001b[0m\n\u001b[1;32m----> 1\u001b[1;33m \u001b[0mmax\u001b[0m\u001b[1;33m(\u001b[0m\u001b[0mt\u001b[0m\u001b[1;33m)\u001b[0m\u001b[1;33m\u001b[0m\u001b[1;33m\u001b[0m\u001b[0m\n\u001b[0m",
      "\u001b[1;31mTypeError\u001b[0m: '>' not supported between instances of 'str' and 'int'"
     ]
    }
   ],
   "source": [
    "max(t)"
   ]
  },
  {
   "cell_type": "code",
   "execution_count": 34,
   "id": "6277e508",
   "metadata": {},
   "outputs": [],
   "source": [
    "g=(2,3,4,5,6)"
   ]
  },
  {
   "cell_type": "code",
   "execution_count": 35,
   "id": "dff66a4c",
   "metadata": {},
   "outputs": [
    {
     "data": {
      "text/plain": [
       "6"
      ]
     },
     "execution_count": 35,
     "metadata": {},
     "output_type": "execute_result"
    }
   ],
   "source": [
    "max(g)"
   ]
  },
  {
   "cell_type": "code",
   "execution_count": 36,
   "id": "8800013f",
   "metadata": {},
   "outputs": [
    {
     "data": {
      "text/plain": [
       "2"
      ]
     },
     "execution_count": 36,
     "metadata": {},
     "output_type": "execute_result"
    }
   ],
   "source": [
    "min(g)"
   ]
  },
  {
   "cell_type": "markdown",
   "id": "84af99c8",
   "metadata": {},
   "source": [
    "### BOTH MIN AND MAX BASED ON ASCII VALUE AND HOMOGENOUS DATATYPE"
   ]
  },
  {
   "cell_type": "code",
   "execution_count": 1,
   "id": "6a424303",
   "metadata": {},
   "outputs": [],
   "source": [
    "t=(\"pop\",\"kiki\",\"jojo\",\"kiki\")"
   ]
  },
  {
   "cell_type": "markdown",
   "id": "2c761729",
   "metadata": {},
   "source": [
    "#### MAX"
   ]
  },
  {
   "cell_type": "code",
   "execution_count": 2,
   "id": "5048658f",
   "metadata": {},
   "outputs": [
    {
     "data": {
      "text/plain": [
       "'pop'"
      ]
     },
     "execution_count": 2,
     "metadata": {},
     "output_type": "execute_result"
    }
   ],
   "source": [
    "max(t)"
   ]
  },
  {
   "cell_type": "markdown",
   "id": "0778968f",
   "metadata": {},
   "source": [
    "#### MIN"
   ]
  },
  {
   "cell_type": "code",
   "execution_count": 3,
   "id": "b7959c75",
   "metadata": {},
   "outputs": [
    {
     "data": {
      "text/plain": [
       "'jojo'"
      ]
     },
     "execution_count": 3,
     "metadata": {},
     "output_type": "execute_result"
    }
   ],
   "source": [
    "min(t)"
   ]
  },
  {
   "cell_type": "markdown",
   "id": "63455e59",
   "metadata": {},
   "source": [
    "#### In list or tuple the index value will be given the first preference, the occurence of the first value will be considered inspite of multiple values being placed in them."
   ]
  },
  {
   "cell_type": "markdown",
   "id": "d05cf064",
   "metadata": {},
   "source": [
    "#### INDEX"
   ]
  },
  {
   "cell_type": "code",
   "execution_count": 6,
   "id": "f0d5b462",
   "metadata": {
    "scrolled": true
   },
   "outputs": [
    {
     "data": {
      "text/plain": [
       "1"
      ]
     },
     "execution_count": 6,
     "metadata": {},
     "output_type": "execute_result"
    }
   ],
   "source": [
    "t.index(\"kiki\")"
   ]
  },
  {
   "cell_type": "code",
   "execution_count": 7,
   "id": "352e16b5",
   "metadata": {},
   "outputs": [
    {
     "data": {
      "text/plain": [
       "1"
      ]
     },
     "execution_count": 7,
     "metadata": {},
     "output_type": "execute_result"
    }
   ],
   "source": [
    "t.index(\"kiki\")"
   ]
  },
  {
   "cell_type": "markdown",
   "id": "3c9d74f4",
   "metadata": {},
   "source": [
    "Here in the index function you need to find the value \"kiki\""
   ]
  },
  {
   "cell_type": "markdown",
   "id": "5a831763",
   "metadata": {},
   "source": [
    "#### COUNT"
   ]
  },
  {
   "cell_type": "code",
   "execution_count": 42,
   "id": "fa7ad7eb",
   "metadata": {},
   "outputs": [
    {
     "data": {
      "text/plain": [
       "1"
      ]
     },
     "execution_count": 42,
     "metadata": {},
     "output_type": "execute_result"
    }
   ],
   "source": [
    "t.count(\"jojo\")"
   ]
  },
  {
   "cell_type": "code",
   "execution_count": null,
   "id": "46b798ea",
   "metadata": {},
   "outputs": [],
   "source": [
    "How to insert values in a tuple"
   ]
  },
  {
   "cell_type": "markdown",
   "id": "1314dde0",
   "metadata": {},
   "source": [
    "#### HOW TO INSERT VALUES IN A TUPLE?"
   ]
  },
  {
   "cell_type": "code",
   "execution_count": 43,
   "id": "a23596dc",
   "metadata": {},
   "outputs": [],
   "source": [
    "p=(1,2,3,4)"
   ]
  },
  {
   "cell_type": "code",
   "execution_count": 44,
   "id": "fb23a07d",
   "metadata": {},
   "outputs": [],
   "source": [
    "l=list(p)"
   ]
  },
  {
   "cell_type": "code",
   "execution_count": 45,
   "id": "be0ae72a",
   "metadata": {},
   "outputs": [
    {
     "data": {
      "text/plain": [
       "(1, 2, 3, 4)"
      ]
     },
     "execution_count": 45,
     "metadata": {},
     "output_type": "execute_result"
    }
   ],
   "source": [
    "p"
   ]
  },
  {
   "cell_type": "code",
   "execution_count": 46,
   "id": "ccf73ce7",
   "metadata": {},
   "outputs": [
    {
     "data": {
      "text/plain": [
       "[1, 2, 3, 4]"
      ]
     },
     "execution_count": 46,
     "metadata": {},
     "output_type": "execute_result"
    }
   ],
   "source": [
    "l"
   ]
  },
  {
   "cell_type": "markdown",
   "id": "0a465ead",
   "metadata": {},
   "source": [
    "### Using typecasting we will convert the datatype!!"
   ]
  },
  {
   "cell_type": "code",
   "execution_count": 49,
   "id": "ba00c33a",
   "metadata": {},
   "outputs": [],
   "source": [
    "l.append(24)"
   ]
  },
  {
   "cell_type": "code",
   "execution_count": 50,
   "id": "c54f66a9",
   "metadata": {},
   "outputs": [
    {
     "data": {
      "text/plain": [
       "[1, 2, 3, 4, 24]"
      ]
     },
     "execution_count": 50,
     "metadata": {},
     "output_type": "execute_result"
    }
   ],
   "source": [
    "l"
   ]
  },
  {
   "cell_type": "code",
   "execution_count": 51,
   "id": "f2c6e3e6",
   "metadata": {},
   "outputs": [],
   "source": [
    "l.insert(3,\"ruru\")"
   ]
  },
  {
   "cell_type": "code",
   "execution_count": 52,
   "id": "909e0d57",
   "metadata": {},
   "outputs": [
    {
     "data": {
      "text/plain": [
       "[1, 2, 3, 'ruru', 4, 24]"
      ]
     },
     "execution_count": 52,
     "metadata": {},
     "output_type": "execute_result"
    }
   ],
   "source": [
    "l"
   ]
  },
  {
   "cell_type": "markdown",
   "id": "e5e55478",
   "metadata": {},
   "source": [
    "### Now changing the datatype back to tuple"
   ]
  },
  {
   "cell_type": "code",
   "execution_count": 53,
   "id": "e5536c90",
   "metadata": {},
   "outputs": [],
   "source": [
    "p=tuple(l)"
   ]
  },
  {
   "cell_type": "code",
   "execution_count": 54,
   "id": "b211ad6c",
   "metadata": {},
   "outputs": [
    {
     "data": {
      "text/plain": [
       "(1, 2, 3, 'ruru', 4, 24)"
      ]
     },
     "execution_count": 54,
     "metadata": {},
     "output_type": "execute_result"
    }
   ],
   "source": [
    "p"
   ]
  },
  {
   "cell_type": "markdown",
   "id": "a06dd017",
   "metadata": {},
   "source": [
    "### What is the application of tuple"
   ]
  },
  {
   "cell_type": "markdown",
   "id": "15f4f880",
   "metadata": {},
   "source": [
    "## Passwords "
   ]
  },
  {
   "cell_type": "code",
   "execution_count": 2,
   "id": "dfeaaafd",
   "metadata": {},
   "outputs": [],
   "source": [
    "y=((\"piuy\",\"iu\",56),(\"er\",10,78,\"l\"),56,25,4,5,(\"lol\",\"po\"),[1,5,8,7,0])"
   ]
  },
  {
   "cell_type": "code",
   "execution_count": 3,
   "id": "e2057756",
   "metadata": {},
   "outputs": [
    {
     "name": "stdout",
     "output_type": "stream",
     "text": [
      "('piuy', 'iu', 56)\n",
      "('er', 10, 78, 'l')\n",
      "56\n",
      "25\n",
      "4\n",
      "5\n",
      "('lol', 'po')\n",
      "[1, 5, 8, 7, 0]\n"
     ]
    }
   ],
   "source": [
    "for i in y:\n",
    "    print(i)"
   ]
  },
  {
   "cell_type": "code",
   "execution_count": 4,
   "id": "b408b223",
   "metadata": {},
   "outputs": [
    {
     "name": "stdout",
     "output_type": "stream",
     "text": [
      "('piuy', 'iu', 56)\n",
      "('er', 10, 78, 'l')\n",
      "('lol', 'po')\n"
     ]
    }
   ],
   "source": [
    "for i in y:\n",
    "    if type(i)==tuple:\n",
    "        print(i)"
   ]
  },
  {
   "cell_type": "code",
   "execution_count": 5,
   "id": "03ff108f",
   "metadata": {},
   "outputs": [
    {
     "name": "stdout",
     "output_type": "stream",
     "text": [
      "144\n"
     ]
    }
   ],
   "source": [
    "c=0\n",
    "for i in y:\n",
    "    if type(i)==tuple:\n",
    "        for j in i:\n",
    "            if type(j)==int:\n",
    "                c=c+j\n",
    "                \n",
    "print(c)\n",
    "                \n",
    "                \n",
    "     "
   ]
  },
  {
   "cell_type": "markdown",
   "id": "2236d303",
   "metadata": {},
   "source": [
    "## WE CAN PARSE THROUGH Tuples, parsing operations"
   ]
  },
  {
   "cell_type": "code",
   "execution_count": 72,
   "id": "1bb732ec",
   "metadata": {},
   "outputs": [
    {
     "data": {
      "text/plain": [
       "(('piuy', 'iu', 56),\n",
       " ('er', 10, 78, 'l'),\n",
       " 56,\n",
       " 25,\n",
       " 4,\n",
       " 5,\n",
       " ('lol', 'po'),\n",
       " [1, 5, 8, 7, 0])"
      ]
     },
     "execution_count": 72,
     "metadata": {},
     "output_type": "execute_result"
    }
   ],
   "source": [
    "y\n"
   ]
  },
  {
   "cell_type": "code",
   "execution_count": 73,
   "id": "6ad3c6ed",
   "metadata": {},
   "outputs": [
    {
     "data": {
      "text/plain": [
       "('lol', 'po')"
      ]
     },
     "execution_count": 73,
     "metadata": {},
     "output_type": "execute_result"
    }
   ],
   "source": [
    "y[6]"
   ]
  },
  {
   "cell_type": "code",
   "execution_count": 74,
   "id": "6860f921",
   "metadata": {},
   "outputs": [
    {
     "data": {
      "text/plain": [
       "'po'"
      ]
     },
     "execution_count": 74,
     "metadata": {},
     "output_type": "execute_result"
    }
   ],
   "source": [
    "y[6][1]"
   ]
  },
  {
   "cell_type": "code",
   "execution_count": 76,
   "id": "0a5efc2c",
   "metadata": {},
   "outputs": [
    {
     "data": {
      "text/plain": [
       "('er', 10, 78, 'l')"
      ]
     },
     "execution_count": 76,
     "metadata": {},
     "output_type": "execute_result"
    }
   ],
   "source": [
    "y[1]"
   ]
  },
  {
   "cell_type": "code",
   "execution_count": 78,
   "id": "94343401",
   "metadata": {},
   "outputs": [
    {
     "data": {
      "text/plain": [
       "'l'"
      ]
     },
     "execution_count": 78,
     "metadata": {},
     "output_type": "execute_result"
    }
   ],
   "source": [
    "y[1][3]"
   ]
  },
  {
   "cell_type": "code",
   "execution_count": 80,
   "id": "7f4a7fa9",
   "metadata": {},
   "outputs": [
    {
     "name": "stdout",
     "output_type": "stream",
     "text": [
      "piuy\n",
      "er\n",
      "lol\n"
     ]
    }
   ],
   "source": [
    "### Question So now if in the tuple y if any item is tuple give me the first index value of that tuple in the list.\n",
    "for i in y:\n",
    "    if type(i)==tuple:\n",
    "        print(i[0])"
   ]
  },
  {
   "cell_type": "code",
   "execution_count": 81,
   "id": "978fa3b7",
   "metadata": {},
   "outputs": [],
   "source": [
    "r=(\"abbas\",123,\"plumber\",\"kia\",1234)"
   ]
  },
  {
   "cell_type": "code",
   "execution_count": 91,
   "id": "31b77d67",
   "metadata": {},
   "outputs": [
    {
     "name": "stdout",
     "output_type": "stream",
     "text": [
      "enter your name: plumber\n",
      "Found name\n"
     ]
    }
   ],
   "source": [
    "n=input(\"enter your name: \")\n",
    "if n in r:\n",
    "    print(\"Found name\")\n",
    "else:\n",
    "    print(\"Not found name\")"
   ]
  },
  {
   "cell_type": "markdown",
   "id": "3800edb1",
   "metadata": {},
   "source": [
    "## How to delete a tuple permenantly"
   ]
  },
  {
   "cell_type": "code",
   "execution_count": 92,
   "id": "a0031f09",
   "metadata": {},
   "outputs": [],
   "source": [
    "del(r)"
   ]
  },
  {
   "cell_type": "code",
   "execution_count": null,
   "id": "08476fe2",
   "metadata": {},
   "outputs": [],
   "source": [
    "So here r got deleted!!"
   ]
  },
  {
   "cell_type": "code",
   "execution_count": 93,
   "id": "2313df48",
   "metadata": {
    "scrolled": true
   },
   "outputs": [
    {
     "ename": "NameError",
     "evalue": "name 'r' is not defined",
     "output_type": "error",
     "traceback": [
      "\u001b[1;31m---------------------------------------------------------------------------\u001b[0m",
      "\u001b[1;31mNameError\u001b[0m                                 Traceback (most recent call last)",
      "\u001b[1;32mC:\\Users\\RUKAIY~1\\AppData\\Local\\Temp/ipykernel_35484/1313387711.py\u001b[0m in \u001b[0;36m<module>\u001b[1;34m\u001b[0m\n\u001b[1;32m----> 1\u001b[1;33m \u001b[0mr\u001b[0m\u001b[1;33m\u001b[0m\u001b[1;33m\u001b[0m\u001b[0m\n\u001b[0m",
      "\u001b[1;31mNameError\u001b[0m: name 'r' is not defined"
     ]
    }
   ],
   "source": [
    "r"
   ]
  },
  {
   "cell_type": "markdown",
   "id": "8661ab4b",
   "metadata": {},
   "source": [
    "### SET\n",
    "mutable"
   ]
  },
  {
   "cell_type": "markdown",
   "id": "cf96ca89",
   "metadata": {},
   "source": [
    "HOW TO CREATE A SET"
   ]
  },
  {
   "cell_type": "code",
   "execution_count": 96,
   "id": "27846c13",
   "metadata": {},
   "outputs": [],
   "source": [
    "x=set()"
   ]
  },
  {
   "cell_type": "code",
   "execution_count": 97,
   "id": "4d2295b6",
   "metadata": {},
   "outputs": [
    {
     "data": {
      "text/plain": [
       "set()"
      ]
     },
     "execution_count": 97,
     "metadata": {},
     "output_type": "execute_result"
    }
   ],
   "source": [
    "x"
   ]
  },
  {
   "cell_type": "markdown",
   "id": "5e1b2525",
   "metadata": {},
   "source": [
    "#### WORK OF SET IS TO BUILD UNORDERED SET OF UNIQUE ELEMENTS PRESENT IN IT"
   ]
  },
  {
   "cell_type": "code",
   "execution_count": 99,
   "id": "7cf088ef",
   "metadata": {},
   "outputs": [],
   "source": [
    "t={1,2,2,3,4,8,\"ruksie\",\"lol\"}"
   ]
  },
  {
   "cell_type": "code",
   "execution_count": 100,
   "id": "088bda19",
   "metadata": {},
   "outputs": [
    {
     "data": {
      "text/plain": [
       "{1, 2, 3, 4, 8, 'lol', 'ruksie'}"
      ]
     },
     "execution_count": 100,
     "metadata": {},
     "output_type": "execute_result"
    }
   ],
   "source": [
    "t"
   ]
  },
  {
   "cell_type": "markdown",
   "id": "8df3cf1b",
   "metadata": {},
   "source": [
    "So chcek a few items that were duplicate have been eliminated"
   ]
  },
  {
   "cell_type": "markdown",
   "id": "2bd549b4",
   "metadata": {},
   "source": [
    "### WE CAN INSERT DATA IN A SET"
   ]
  },
  {
   "cell_type": "code",
   "execution_count": 102,
   "id": "94074285",
   "metadata": {},
   "outputs": [],
   "source": [
    "t.add(43)"
   ]
  },
  {
   "cell_type": "code",
   "execution_count": 103,
   "id": "b5ce43e7",
   "metadata": {},
   "outputs": [
    {
     "data": {
      "text/plain": [
       "{1, 2, 3, 4, 43, 8, 'lol', 'ruksie'}"
      ]
     },
     "execution_count": 103,
     "metadata": {},
     "output_type": "execute_result"
    }
   ],
   "source": [
    "t"
   ]
  },
  {
   "cell_type": "code",
   "execution_count": 105,
   "id": "91183241",
   "metadata": {},
   "outputs": [
    {
     "name": "stdout",
     "output_type": "stream",
     "text": [
      "1\n",
      "2\n",
      "3\n",
      "4\n",
      "lol\n",
      "8\n",
      "43\n",
      "ruksie\n"
     ]
    }
   ],
   "source": [
    "for i in t:\n",
    "    print(i)"
   ]
  },
  {
   "cell_type": "code",
   "execution_count": 107,
   "id": "51d2152e",
   "metadata": {},
   "outputs": [
    {
     "data": {
      "text/plain": [
       "True"
      ]
     },
     "execution_count": 107,
     "metadata": {},
     "output_type": "execute_result"
    }
   ],
   "source": [
    "43 in t\n",
    "    "
   ]
  },
  {
   "cell_type": "markdown",
   "id": "938931b3",
   "metadata": {},
   "source": [
    "## WE CANNOT PARSE THROUGH SETS"
   ]
  },
  {
   "cell_type": "code",
   "execution_count": 108,
   "id": "e0cd0757",
   "metadata": {},
   "outputs": [
    {
     "ename": "TypeError",
     "evalue": "'set' object is not subscriptable",
     "output_type": "error",
     "traceback": [
      "\u001b[1;31m---------------------------------------------------------------------------\u001b[0m",
      "\u001b[1;31mTypeError\u001b[0m                                 Traceback (most recent call last)",
      "\u001b[1;32mC:\\Users\\RUKAIY~1\\AppData\\Local\\Temp/ipykernel_35484/1759991249.py\u001b[0m in \u001b[0;36m<module>\u001b[1;34m\u001b[0m\n\u001b[1;32m----> 1\u001b[1;33m \u001b[0mt\u001b[0m\u001b[1;33m[\u001b[0m\u001b[1;36m0\u001b[0m\u001b[1;33m]\u001b[0m\u001b[1;33m\u001b[0m\u001b[1;33m\u001b[0m\u001b[0m\n\u001b[0m",
      "\u001b[1;31mTypeError\u001b[0m: 'set' object is not subscriptable"
     ]
    }
   ],
   "source": [
    "t[0]"
   ]
  },
  {
   "cell_type": "markdown",
   "id": "682d2009",
   "metadata": {},
   "source": [
    "# So here we need to type cast the set datatype into a list"
   ]
  },
  {
   "cell_type": "code",
   "execution_count": 8,
   "id": "4c6103fc",
   "metadata": {},
   "outputs": [],
   "source": [
    "t={1,2,2,3,4,8,\"ruksie\",\"lol\"}"
   ]
  },
  {
   "cell_type": "code",
   "execution_count": 9,
   "id": "ab849ea4",
   "metadata": {},
   "outputs": [],
   "source": [
    "l=list(t)"
   ]
  },
  {
   "cell_type": "code",
   "execution_count": 10,
   "id": "4390209b",
   "metadata": {},
   "outputs": [
    {
     "data": {
      "text/plain": [
       "{1, 2, 3, 4, 8, 'lol', 'ruksie'}"
      ]
     },
     "execution_count": 10,
     "metadata": {},
     "output_type": "execute_result"
    }
   ],
   "source": [
    "t\n"
   ]
  },
  {
   "cell_type": "code",
   "execution_count": 11,
   "id": "7a6ff8a3",
   "metadata": {},
   "outputs": [
    {
     "data": {
      "text/plain": [
       "[1, 2, 3, 4, 'lol', 'ruksie', 8]"
      ]
     },
     "execution_count": 11,
     "metadata": {},
     "output_type": "execute_result"
    }
   ],
   "source": [
    "l"
   ]
  },
  {
   "cell_type": "code",
   "execution_count": 12,
   "id": "532c96bb",
   "metadata": {},
   "outputs": [
    {
     "data": {
      "text/plain": [
       "3"
      ]
     },
     "execution_count": 12,
     "metadata": {},
     "output_type": "execute_result"
    }
   ],
   "source": [
    "l[2]"
   ]
  },
  {
   "cell_type": "code",
   "execution_count": 13,
   "id": "398b9b6c",
   "metadata": {},
   "outputs": [],
   "source": [
    "l.append(9)"
   ]
  },
  {
   "cell_type": "code",
   "execution_count": 14,
   "id": "c31d1821",
   "metadata": {},
   "outputs": [
    {
     "data": {
      "text/plain": [
       "[1, 2, 3, 4, 'lol', 'ruksie', 8, 9]"
      ]
     },
     "execution_count": 14,
     "metadata": {},
     "output_type": "execute_result"
    }
   ],
   "source": [
    "l"
   ]
  },
  {
   "cell_type": "code",
   "execution_count": 15,
   "id": "f580f492",
   "metadata": {},
   "outputs": [],
   "source": [
    "t=set(l)"
   ]
  },
  {
   "cell_type": "code",
   "execution_count": 16,
   "id": "1c88ae29",
   "metadata": {},
   "outputs": [
    {
     "data": {
      "text/plain": [
       "{1, 2, 3, 4, 8, 9, 'lol', 'ruksie'}"
      ]
     },
     "execution_count": 16,
     "metadata": {},
     "output_type": "execute_result"
    }
   ],
   "source": [
    "t"
   ]
  },
  {
   "cell_type": "code",
   "execution_count": 17,
   "id": "02808d22",
   "metadata": {},
   "outputs": [
    {
     "ename": "TypeError",
     "evalue": "unhashable type: 'list'",
     "output_type": "error",
     "traceback": [
      "\u001b[1;31m---------------------------------------------------------------------------\u001b[0m",
      "\u001b[1;31mTypeError\u001b[0m                                 Traceback (most recent call last)",
      "Cell \u001b[1;32mIn[17], line 1\u001b[0m\n\u001b[1;32m----> 1\u001b[0m \u001b[43mt\u001b[49m\u001b[38;5;241;43m.\u001b[39;49m\u001b[43madd\u001b[49m\u001b[43m(\u001b[49m\u001b[43m[\u001b[49m\u001b[38;5;241;43m1\u001b[39;49m\u001b[43m,\u001b[49m\u001b[38;5;241;43m2\u001b[39;49m\u001b[43m]\u001b[49m\u001b[43m)\u001b[49m\n",
      "\u001b[1;31mTypeError\u001b[0m: unhashable type: 'list'"
     ]
    }
   ],
   "source": [
    "t.add([1,2])"
   ]
  },
  {
   "cell_type": "markdown",
   "id": "b7a2e09b",
   "metadata": {},
   "source": [
    "### Now can we type caste a nested list in to a set??"
   ]
  },
  {
   "cell_type": "code",
   "execution_count": 118,
   "id": "b859c6b1",
   "metadata": {},
   "outputs": [],
   "source": [
    "w=[\"pop\",1,4,56,[\"abc\",2,4,6]]"
   ]
  },
  {
   "cell_type": "code",
   "execution_count": 119,
   "id": "e844b447",
   "metadata": {},
   "outputs": [
    {
     "ename": "TypeError",
     "evalue": "unhashable type: 'list'",
     "output_type": "error",
     "traceback": [
      "\u001b[1;31m---------------------------------------------------------------------------\u001b[0m",
      "\u001b[1;31mTypeError\u001b[0m                                 Traceback (most recent call last)",
      "\u001b[1;32mC:\\Users\\RUKAIY~1\\AppData\\Local\\Temp/ipykernel_35484/4096679432.py\u001b[0m in \u001b[0;36m<module>\u001b[1;34m\u001b[0m\n\u001b[1;32m----> 1\u001b[1;33m \u001b[0mt\u001b[0m\u001b[1;33m=\u001b[0m\u001b[0mset\u001b[0m\u001b[1;33m(\u001b[0m\u001b[0mw\u001b[0m\u001b[1;33m)\u001b[0m\u001b[1;33m\u001b[0m\u001b[1;33m\u001b[0m\u001b[0m\n\u001b[0m",
      "\u001b[1;31mTypeError\u001b[0m: unhashable type: 'list'"
     ]
    }
   ],
   "source": [
    "t=set(w)"
   ]
  },
  {
   "cell_type": "code",
   "execution_count": 120,
   "id": "5b25ad0b",
   "metadata": {},
   "outputs": [],
   "source": [
    "e={\"p\",\"p\",\"p\",4,45856,454,45,8,2,0,\"abc\",\"XYZ\"}"
   ]
  },
  {
   "cell_type": "code",
   "execution_count": 121,
   "id": "d0330ca1",
   "metadata": {},
   "outputs": [],
   "source": [
    "e.add(\"T\")"
   ]
  },
  {
   "cell_type": "code",
   "execution_count": 122,
   "id": "42d7b3fa",
   "metadata": {},
   "outputs": [
    {
     "data": {
      "text/plain": [
       "{0, 2, 4, 45, 454, 45856, 8, 'T', 'XYZ', 'abc', 'p'}"
      ]
     },
     "execution_count": 122,
     "metadata": {},
     "output_type": "execute_result"
    }
   ],
   "source": [
    "e"
   ]
  },
  {
   "cell_type": "code",
   "execution_count": 123,
   "id": "aa04ec1c",
   "metadata": {},
   "outputs": [],
   "source": [
    "e.remove(2)"
   ]
  },
  {
   "cell_type": "code",
   "execution_count": 124,
   "id": "63199ddc",
   "metadata": {},
   "outputs": [
    {
     "data": {
      "text/plain": [
       "{0, 4, 45, 454, 45856, 8, 'T', 'XYZ', 'abc', 'p'}"
      ]
     },
     "execution_count": 124,
     "metadata": {},
     "output_type": "execute_result"
    }
   ],
   "source": [
    "e"
   ]
  },
  {
   "cell_type": "code",
   "execution_count": 125,
   "id": "c026933e",
   "metadata": {},
   "outputs": [],
   "source": [
    "f={0,5,6}"
   ]
  },
  {
   "cell_type": "code",
   "execution_count": 126,
   "id": "fcb5c152",
   "metadata": {},
   "outputs": [],
   "source": [
    "f.clear()"
   ]
  },
  {
   "cell_type": "code",
   "execution_count": 127,
   "id": "3bcafe6b",
   "metadata": {},
   "outputs": [
    {
     "data": {
      "text/plain": [
       "set()"
      ]
     },
     "execution_count": 127,
     "metadata": {},
     "output_type": "execute_result"
    }
   ],
   "source": [
    "f"
   ]
  },
  {
   "cell_type": "code",
   "execution_count": 128,
   "id": "f6b867b0",
   "metadata": {},
   "outputs": [],
   "source": [
    "x=set(l)"
   ]
  },
  {
   "cell_type": "code",
   "execution_count": 129,
   "id": "581995cd",
   "metadata": {},
   "outputs": [],
   "source": [
    "l=[1,2,4,\"ruku\"]"
   ]
  },
  {
   "cell_type": "code",
   "execution_count": 133,
   "id": "60f58900",
   "metadata": {},
   "outputs": [],
   "source": [
    "x1=set()"
   ]
  },
  {
   "cell_type": "code",
   "execution_count": 134,
   "id": "6a783fc6",
   "metadata": {},
   "outputs": [
    {
     "data": {
      "text/plain": [
       "set()"
      ]
     },
     "execution_count": 134,
     "metadata": {},
     "output_type": "execute_result"
    }
   ],
   "source": [
    "x1"
   ]
  },
  {
   "cell_type": "code",
   "execution_count": 135,
   "id": "09fbad41",
   "metadata": {},
   "outputs": [],
   "source": [
    "x1.add(20)"
   ]
  },
  {
   "cell_type": "code",
   "execution_count": 136,
   "id": "3b3ae24c",
   "metadata": {},
   "outputs": [],
   "source": [
    "x1.add(\"pop\")"
   ]
  },
  {
   "cell_type": "code",
   "execution_count": 137,
   "id": "27ef6c99",
   "metadata": {},
   "outputs": [],
   "source": [
    "x1.add(78)"
   ]
  },
  {
   "cell_type": "code",
   "execution_count": 138,
   "id": "b5bc81c2",
   "metadata": {},
   "outputs": [
    {
     "data": {
      "text/plain": [
       "{20, 78, 'pop'}"
      ]
     },
     "execution_count": 138,
     "metadata": {},
     "output_type": "execute_result"
    }
   ],
   "source": [
    "x1"
   ]
  },
  {
   "cell_type": "markdown",
   "id": "5196c6de",
   "metadata": {},
   "source": [
    "## CANNNOT perform arithmetic operations on a set"
   ]
  },
  {
   "cell_type": "code",
   "execution_count": 139,
   "id": "30ddba13",
   "metadata": {
    "scrolled": true
   },
   "outputs": [
    {
     "ename": "TypeError",
     "evalue": "unsupported operand type(s) for +: 'set' and 'set'",
     "output_type": "error",
     "traceback": [
      "\u001b[1;31m---------------------------------------------------------------------------\u001b[0m",
      "\u001b[1;31mTypeError\u001b[0m                                 Traceback (most recent call last)",
      "\u001b[1;32mC:\\Users\\RUKAIY~1\\AppData\\Local\\Temp/ipykernel_35484/3649863469.py\u001b[0m in \u001b[0;36m<module>\u001b[1;34m\u001b[0m\n\u001b[1;32m----> 1\u001b[1;33m \u001b[0mx\u001b[0m\u001b[1;33m+\u001b[0m\u001b[0mx1\u001b[0m\u001b[1;33m\u001b[0m\u001b[1;33m\u001b[0m\u001b[0m\n\u001b[0m",
      "\u001b[1;31mTypeError\u001b[0m: unsupported operand type(s) for +: 'set' and 'set'"
     ]
    }
   ],
   "source": [
    "x+x1"
   ]
  },
  {
   "cell_type": "code",
   "execution_count": 140,
   "id": "c1c0c252",
   "metadata": {},
   "outputs": [
    {
     "ename": "TypeError",
     "evalue": "unsupported operand type(s) for *: 'set' and 'set'",
     "output_type": "error",
     "traceback": [
      "\u001b[1;31m---------------------------------------------------------------------------\u001b[0m",
      "\u001b[1;31mTypeError\u001b[0m                                 Traceback (most recent call last)",
      "\u001b[1;32mC:\\Users\\RUKAIY~1\\AppData\\Local\\Temp/ipykernel_35484/3394978012.py\u001b[0m in \u001b[0;36m<module>\u001b[1;34m\u001b[0m\n\u001b[1;32m----> 1\u001b[1;33m \u001b[0mx\u001b[0m\u001b[1;33m*\u001b[0m\u001b[0mx1\u001b[0m\u001b[1;33m\u001b[0m\u001b[1;33m\u001b[0m\u001b[0m\n\u001b[0m",
      "\u001b[1;31mTypeError\u001b[0m: unsupported operand type(s) for *: 'set' and 'set'"
     ]
    }
   ],
   "source": [
    "x*x1"
   ]
  },
  {
   "cell_type": "code",
   "execution_count": 141,
   "id": "50154f68",
   "metadata": {},
   "outputs": [
    {
     "ename": "TypeError",
     "evalue": "unsupported operand type(s) for *: 'set' and 'int'",
     "output_type": "error",
     "traceback": [
      "\u001b[1;31m---------------------------------------------------------------------------\u001b[0m",
      "\u001b[1;31mTypeError\u001b[0m                                 Traceback (most recent call last)",
      "\u001b[1;32mC:\\Users\\RUKAIY~1\\AppData\\Local\\Temp/ipykernel_35484/414459865.py\u001b[0m in \u001b[0;36m<module>\u001b[1;34m\u001b[0m\n\u001b[1;32m----> 1\u001b[1;33m \u001b[0mx\u001b[0m\u001b[1;33m*\u001b[0m\u001b[1;36m2\u001b[0m\u001b[1;33m\u001b[0m\u001b[1;33m\u001b[0m\u001b[0m\n\u001b[0m",
      "\u001b[1;31mTypeError\u001b[0m: unsupported operand type(s) for *: 'set' and 'int'"
     ]
    }
   ],
   "source": [
    "x*2"
   ]
  },
  {
   "cell_type": "code",
   "execution_count": 142,
   "id": "94a7ae7e",
   "metadata": {},
   "outputs": [
    {
     "ename": "TypeError",
     "evalue": "unsupported operand type(s) for +: 'set' and 'int'",
     "output_type": "error",
     "traceback": [
      "\u001b[1;31m---------------------------------------------------------------------------\u001b[0m",
      "\u001b[1;31mTypeError\u001b[0m                                 Traceback (most recent call last)",
      "\u001b[1;32mC:\\Users\\RUKAIY~1\\AppData\\Local\\Temp/ipykernel_35484/3359934522.py\u001b[0m in \u001b[0;36m<module>\u001b[1;34m\u001b[0m\n\u001b[1;32m----> 1\u001b[1;33m \u001b[0mx\u001b[0m\u001b[1;33m+\u001b[0m\u001b[1;36m1\u001b[0m\u001b[1;33m\u001b[0m\u001b[1;33m\u001b[0m\u001b[0m\n\u001b[0m",
      "\u001b[1;31mTypeError\u001b[0m: unsupported operand type(s) for +: 'set' and 'int'"
     ]
    }
   ],
   "source": [
    "x+1"
   ]
  },
  {
   "cell_type": "markdown",
   "id": "e57140ae",
   "metadata": {},
   "source": [
    "## DICTIONARY\n",
    "they are mutable"
   ]
  },
  {
   "cell_type": "code",
   "execution_count": 143,
   "id": "4d3960b7",
   "metadata": {},
   "outputs": [],
   "source": [
    "d={}"
   ]
  },
  {
   "cell_type": "code",
   "execution_count": 144,
   "id": "c86f74c8",
   "metadata": {},
   "outputs": [
    {
     "data": {
      "text/plain": [
       "{}"
      ]
     },
     "execution_count": 144,
     "metadata": {},
     "output_type": "execute_result"
    }
   ],
   "source": [
    "d"
   ]
  },
  {
   "cell_type": "markdown",
   "id": "a3dbe7da",
   "metadata": {},
   "source": [
    "## In a dictionary we have key value pair "
   ]
  },
  {
   "cell_type": "code",
   "execution_count": 146,
   "id": "9b8d46bc",
   "metadata": {},
   "outputs": [],
   "source": [
    "d={\"name\":\"Ruksie\",\"name\": \"ruksie\"}"
   ]
  },
  {
   "cell_type": "code",
   "execution_count": 147,
   "id": "84d26bb1",
   "metadata": {},
   "outputs": [
    {
     "data": {
      "text/plain": [
       "{'name': 'ruksie'}"
      ]
     },
     "execution_count": 147,
     "metadata": {},
     "output_type": "execute_result"
    }
   ],
   "source": [
    "d"
   ]
  },
  {
   "cell_type": "markdown",
   "id": "0beabe8e",
   "metadata": {},
   "source": [
    "### Rememeber keys cannot be duplicate whereas values can be duplicate and hence it takes the lastest key value pair!"
   ]
  },
  {
   "cell_type": "markdown",
   "id": "ab0dc926",
   "metadata": {},
   "source": [
    "What all datatype can a key hold let check that out"
   ]
  },
  {
   "cell_type": "markdown",
   "id": "588ec18f",
   "metadata": {},
   "source": [
    "### KEYS CANNOT TAKE A LIST!"
   ]
  },
  {
   "cell_type": "code",
   "execution_count": 148,
   "id": "b0464d6d",
   "metadata": {
    "scrolled": true
   },
   "outputs": [
    {
     "ename": "TypeError",
     "evalue": "unhashable type: 'list'",
     "output_type": "error",
     "traceback": [
      "\u001b[1;31m---------------------------------------------------------------------------\u001b[0m",
      "\u001b[1;31mTypeError\u001b[0m                                 Traceback (most recent call last)",
      "\u001b[1;32mC:\\Users\\RUKAIY~1\\AppData\\Local\\Temp/ipykernel_35484/3113509797.py\u001b[0m in \u001b[0;36m<module>\u001b[1;34m\u001b[0m\n\u001b[1;32m----> 1\u001b[1;33m \u001b[0md\u001b[0m\u001b[1;33m=\u001b[0m\u001b[1;33m{\u001b[0m\u001b[1;34m\"name\"\u001b[0m\u001b[1;33m:\u001b[0m\u001b[1;34m\"Ruskie\"\u001b[0m\u001b[1;33m,\u001b[0m\u001b[1;32mTrue\u001b[0m\u001b[1;33m:\u001b[0m\u001b[1;34m\"married\"\u001b[0m\u001b[1;33m,\u001b[0m\u001b[1;36m24\u001b[0m\u001b[1;33m:\u001b[0m\u001b[1;34m\"Female\"\u001b[0m\u001b[1;33m,\u001b[0m\u001b[1;33m[\u001b[0m\u001b[1;36m1\u001b[0m\u001b[1;33m,\u001b[0m\u001b[1;36m2\u001b[0m\u001b[1;33m,\u001b[0m\u001b[1;36m3\u001b[0m\u001b[1;33m]\u001b[0m\u001b[1;33m:\u001b[0m\u001b[1;34m\"Jamnagar\"\u001b[0m\u001b[1;33m}\u001b[0m\u001b[1;33m\u001b[0m\u001b[1;33m\u001b[0m\u001b[0m\n\u001b[0m",
      "\u001b[1;31mTypeError\u001b[0m: unhashable type: 'list'"
     ]
    }
   ],
   "source": [
    "d={\"name\":\"Ruskie\",True:\"married\",24:\"Female\",[1,2,3]:\"Jamnagar\"}"
   ]
  },
  {
   "cell_type": "markdown",
   "id": "a3bccd3b",
   "metadata": {},
   "source": [
    "### KEYS CANNOT TAKE A SET!"
   ]
  },
  {
   "cell_type": "code",
   "execution_count": 152,
   "id": "6a9b859c",
   "metadata": {},
   "outputs": [
    {
     "ename": "TypeError",
     "evalue": "unhashable type: 'set'",
     "output_type": "error",
     "traceback": [
      "\u001b[1;31m---------------------------------------------------------------------------\u001b[0m",
      "\u001b[1;31mTypeError\u001b[0m                                 Traceback (most recent call last)",
      "\u001b[1;32mC:\\Users\\RUKAIY~1\\AppData\\Local\\Temp/ipykernel_35484/3564164972.py\u001b[0m in \u001b[0;36m<module>\u001b[1;34m\u001b[0m\n\u001b[1;32m----> 1\u001b[1;33m \u001b[0md\u001b[0m\u001b[1;33m=\u001b[0m\u001b[1;33m{\u001b[0m\u001b[1;34m\"name\"\u001b[0m\u001b[1;33m:\u001b[0m\u001b[1;34m\"Ruskie\"\u001b[0m\u001b[1;33m,\u001b[0m\u001b[1;32mTrue\u001b[0m\u001b[1;33m:\u001b[0m\u001b[1;34m\"married\"\u001b[0m\u001b[1;33m,\u001b[0m\u001b[1;36m24\u001b[0m\u001b[1;33m:\u001b[0m\u001b[1;34m\"Female\"\u001b[0m\u001b[1;33m,\u001b[0m\u001b[1;33m{\u001b[0m\u001b[1;36m1\u001b[0m\u001b[1;33m,\u001b[0m\u001b[1;36m2\u001b[0m\u001b[1;33m,\u001b[0m\u001b[1;36m3\u001b[0m\u001b[1;33m,\u001b[0m\u001b[1;36m4\u001b[0m\u001b[1;33m}\u001b[0m\u001b[1;33m:\u001b[0m\u001b[1;34m\"lol\"\u001b[0m\u001b[1;33m}\u001b[0m\u001b[1;33m\u001b[0m\u001b[1;33m\u001b[0m\u001b[0m\n\u001b[0m",
      "\u001b[1;31mTypeError\u001b[0m: unhashable type: 'set'"
     ]
    }
   ],
   "source": [
    "d={\"name\":\"Ruskie\",True:\"married\",24:\"Female\",{1,2,3,4}:\"lol\"}"
   ]
  },
  {
   "cell_type": "markdown",
   "id": "0a1716a1",
   "metadata": {},
   "source": []
  },
  {
   "cell_type": "code",
   "execution_count": 18,
   "id": "3c75c015",
   "metadata": {},
   "outputs": [],
   "source": [
    "d={(1,2,\"pop\"):True}\n"
   ]
  },
  {
   "cell_type": "markdown",
   "id": "ee4f217e",
   "metadata": {},
   "source": [
    "## KEYS CAN TAKE A TUPLE"
   ]
  },
  {
   "cell_type": "code",
   "execution_count": 157,
   "id": "f7caccf5",
   "metadata": {},
   "outputs": [
    {
     "ename": "TypeError",
     "evalue": "unhashable type: 'dict'",
     "output_type": "error",
     "traceback": [
      "\u001b[1;31m---------------------------------------------------------------------------\u001b[0m",
      "\u001b[1;31mTypeError\u001b[0m                                 Traceback (most recent call last)",
      "\u001b[1;32mC:\\Users\\RUKAIY~1\\AppData\\Local\\Temp/ipykernel_35484/3181807885.py\u001b[0m in \u001b[0;36m<module>\u001b[1;34m\u001b[0m\n\u001b[1;32m----> 1\u001b[1;33m \u001b[0md\u001b[0m\u001b[1;33m=\u001b[0m\u001b[1;33m{\u001b[0m\u001b[1;33m{\u001b[0m\u001b[1;34m\"name\"\u001b[0m\u001b[1;33m:\u001b[0m\u001b[1;34m\"Pop\"\u001b[0m\u001b[1;33m}\u001b[0m\u001b[1;33m}\u001b[0m\u001b[1;33m\u001b[0m\u001b[1;33m\u001b[0m\u001b[0m\n\u001b[0m",
      "\u001b[1;31mTypeError\u001b[0m: unhashable type: 'dict'"
     ]
    }
   ],
   "source": [
    "d={{\"name\":\"Pop\"}}"
   ]
  },
  {
   "cell_type": "markdown",
   "id": "e7b7e1a7",
   "metadata": {},
   "source": [
    "### KEYS CANNOT TAKE DICTIONARY"
   ]
  },
  {
   "cell_type": "code",
   "execution_count": null,
   "id": "98cd0dc5",
   "metadata": {},
   "outputs": [],
   "source": [
    "In the below examples we cannot use SPECIAL CHARACTERS AS KEY OR VALUE PAIRS "
   ]
  },
  {
   "cell_type": "code",
   "execution_count": null,
   "id": "42019ac6",
   "metadata": {},
   "outputs": [],
   "source": [
    "But can take an under score used with a string "
   ]
  },
  {
   "cell_type": "code",
   "execution_count": 158,
   "id": "38430b85",
   "metadata": {},
   "outputs": [],
   "source": [
    "d={\"_c\":90}"
   ]
  },
  {
   "cell_type": "code",
   "execution_count": null,
   "id": "38f48425",
   "metadata": {},
   "outputs": [],
   "source": [
    "But not with an int"
   ]
  },
  {
   "cell_type": "code",
   "execution_count": 159,
   "id": "8b5d506b",
   "metadata": {},
   "outputs": [
    {
     "ename": "SyntaxError",
     "evalue": "invalid syntax (Temp/ipykernel_35484/3443085027.py, line 1)",
     "output_type": "error",
     "traceback": [
      "\u001b[1;36m  File \u001b[1;32m\"C:\\Users\\RUKAIY~1\\AppData\\Local\\Temp/ipykernel_35484/3443085027.py\"\u001b[1;36m, line \u001b[1;32m1\u001b[0m\n\u001b[1;33m    d{_9:\"pop\"}\u001b[0m\n\u001b[1;37m     ^\u001b[0m\n\u001b[1;31mSyntaxError\u001b[0m\u001b[1;31m:\u001b[0m invalid syntax\n"
     ]
    }
   ],
   "source": [
    "d{_9:\"pop\"}"
   ]
  },
  {
   "cell_type": "code",
   "execution_count": 160,
   "id": "f15d3f59",
   "metadata": {},
   "outputs": [],
   "source": [
    "d={9: \"_c\"}"
   ]
  },
  {
   "cell_type": "markdown",
   "id": "eb3c951a",
   "metadata": {},
   "source": [
    "So takes it in value as well"
   ]
  },
  {
   "cell_type": "markdown",
   "id": "197026f2",
   "metadata": {},
   "source": [
    "### So note keys will always be unique but Values can be duplicate"
   ]
  },
  {
   "cell_type": "code",
   "execution_count": 161,
   "id": "eb25aef1",
   "metadata": {},
   "outputs": [],
   "source": [
    "x1 = {\"name \" :\"sudh\"  , \"age\": 3455 ,True : \"kik\",\"key\" : False , 3455: 446 , \"_sfsdf\" : \"sudh\"}"
   ]
  },
  {
   "cell_type": "markdown",
   "id": "f6239700",
   "metadata": {},
   "source": [
    "Now,"
   ]
  },
  {
   "cell_type": "markdown",
   "id": "cf78aed9",
   "metadata": {},
   "source": [
    "### Now lets check whether we can store LIST BOOLEAN INTEGER STRINGS SET TUPLE DICTIONARY in values for unique keys"
   ]
  },
  {
   "cell_type": "code",
   "execution_count": 162,
   "id": "4482f0c7",
   "metadata": {},
   "outputs": [],
   "source": [
    "s={\"name\":[\"Ruksie\",1,\"Abbas\"],\"age\":{24,29},\"gender\":True,\"natinality\": (\"INDIAN\",\"CANADIAN\"),\"birth\":{\"abbas\":\"Bandra\",\"rukaiya\": \"Jamnagar\"}}"
   ]
  },
  {
   "cell_type": "code",
   "execution_count": 163,
   "id": "94648edb",
   "metadata": {},
   "outputs": [
    {
     "data": {
      "text/plain": [
       "{'name': ['Ruksie', 1, 'Abbas'],\n",
       " 'age': {24, 29},\n",
       " 'gender': True,\n",
       " 'natinality': ('INDIAN', 'CANADIAN'),\n",
       " 'birth': {'abbas': 'Bandra', 'rukaiya': 'Jamnagar'}}"
      ]
     },
     "execution_count": 163,
     "metadata": {},
     "output_type": "execute_result"
    }
   ],
   "source": [
    "s"
   ]
  },
  {
   "cell_type": "markdown",
   "id": "7aa4f1e6",
   "metadata": {},
   "source": [
    "### Can take all the dattypes as values"
   ]
  },
  {
   "cell_type": "code",
   "execution_count": null,
   "id": "9dc85883",
   "metadata": {},
   "outputs": [],
   "source": [
    "So now parsing through the dictionaries "
   ]
  },
  {
   "cell_type": "code",
   "execution_count": 164,
   "id": "8c0ef059",
   "metadata": {
    "scrolled": true
   },
   "outputs": [
    {
     "ename": "KeyError",
     "evalue": "3",
     "output_type": "error",
     "traceback": [
      "\u001b[1;31m---------------------------------------------------------------------------\u001b[0m",
      "\u001b[1;31mKeyError\u001b[0m                                  Traceback (most recent call last)",
      "\u001b[1;32mC:\\Users\\RUKAIY~1\\AppData\\Local\\Temp/ipykernel_35484/3172538273.py\u001b[0m in \u001b[0;36m<module>\u001b[1;34m\u001b[0m\n\u001b[1;32m----> 1\u001b[1;33m \u001b[0ms\u001b[0m\u001b[1;33m[\u001b[0m\u001b[1;36m3\u001b[0m\u001b[1;33m]\u001b[0m\u001b[1;33m\u001b[0m\u001b[1;33m\u001b[0m\u001b[0m\n\u001b[0m",
      "\u001b[1;31mKeyError\u001b[0m: 3"
     ]
    }
   ],
   "source": [
    "s[3]#This is not available in the dictionay n hence the error"
   ]
  },
  {
   "cell_type": "code",
   "execution_count": 165,
   "id": "cbc02ba1",
   "metadata": {},
   "outputs": [
    {
     "data": {
      "text/plain": [
       "['Ruksie', 1, 'Abbas']"
      ]
     },
     "execution_count": 165,
     "metadata": {},
     "output_type": "execute_result"
    }
   ],
   "source": [
    "s[\"name\"]"
   ]
  },
  {
   "cell_type": "code",
   "execution_count": 167,
   "id": "0c34a027",
   "metadata": {},
   "outputs": [
    {
     "data": {
      "text/plain": [
       "{24, 29}"
      ]
     },
     "execution_count": 167,
     "metadata": {},
     "output_type": "execute_result"
    }
   ],
   "source": [
    "s[\"age\"]"
   ]
  },
  {
   "cell_type": "code",
   "execution_count": null,
   "id": "60a973b1",
   "metadata": {},
   "outputs": [],
   "source": [
    "Now performing operations on dictionaries"
   ]
  },
  {
   "cell_type": "code",
   "execution_count": null,
   "id": "2b47ce5b",
   "metadata": {},
   "outputs": [],
   "source": [
    "ADDITION "
   ]
  },
  {
   "cell_type": "code",
   "execution_count": 181,
   "id": "80b786cb",
   "metadata": {},
   "outputs": [],
   "source": [
    "x3={2:\"ruksie\",\"lolo\":[78,94,56]}"
   ]
  },
  {
   "cell_type": "code",
   "execution_count": 182,
   "id": "53c6d523",
   "metadata": {},
   "outputs": [],
   "source": [
    "x4={\"k4\":\"klmp\"}"
   ]
  },
  {
   "cell_type": "code",
   "execution_count": 183,
   "id": "8e745018",
   "metadata": {},
   "outputs": [
    {
     "ename": "TypeError",
     "evalue": "unsupported operand type(s) for +: 'dict' and 'dict'",
     "output_type": "error",
     "traceback": [
      "\u001b[1;31m---------------------------------------------------------------------------\u001b[0m",
      "\u001b[1;31mTypeError\u001b[0m                                 Traceback (most recent call last)",
      "\u001b[1;32mC:\\Users\\RUKAIY~1\\AppData\\Local\\Temp/ipykernel_35484/1011359099.py\u001b[0m in \u001b[0;36m<module>\u001b[1;34m\u001b[0m\n\u001b[1;32m----> 1\u001b[1;33m \u001b[0mx3\u001b[0m\u001b[1;33m+\u001b[0m\u001b[0mx4\u001b[0m\u001b[1;33m\u001b[0m\u001b[1;33m\u001b[0m\u001b[0m\n\u001b[0m",
      "\u001b[1;31mTypeError\u001b[0m: unsupported operand type(s) for +: 'dict' and 'dict'"
     ]
    }
   ],
   "source": [
    "x3+x4"
   ]
  },
  {
   "cell_type": "code",
   "execution_count": 184,
   "id": "b9647cd7",
   "metadata": {},
   "outputs": [
    {
     "ename": "TypeError",
     "evalue": "unsupported operand type(s) for *: 'dict' and 'dict'",
     "output_type": "error",
     "traceback": [
      "\u001b[1;31m---------------------------------------------------------------------------\u001b[0m",
      "\u001b[1;31mTypeError\u001b[0m                                 Traceback (most recent call last)",
      "\u001b[1;32mC:\\Users\\RUKAIY~1\\AppData\\Local\\Temp/ipykernel_35484/2557913172.py\u001b[0m in \u001b[0;36m<module>\u001b[1;34m\u001b[0m\n\u001b[1;32m----> 1\u001b[1;33m \u001b[0mx3\u001b[0m\u001b[1;33m*\u001b[0m\u001b[0mx4\u001b[0m\u001b[1;33m\u001b[0m\u001b[1;33m\u001b[0m\u001b[0m\n\u001b[0m",
      "\u001b[1;31mTypeError\u001b[0m: unsupported operand type(s) for *: 'dict' and 'dict'"
     ]
    }
   ],
   "source": [
    "x3*x4"
   ]
  },
  {
   "cell_type": "code",
   "execution_count": 185,
   "id": "f18f8052",
   "metadata": {},
   "outputs": [
    {
     "ename": "TypeError",
     "evalue": "unsupported operand type(s) for *: 'dict' and 'int'",
     "output_type": "error",
     "traceback": [
      "\u001b[1;31m---------------------------------------------------------------------------\u001b[0m",
      "\u001b[1;31mTypeError\u001b[0m                                 Traceback (most recent call last)",
      "\u001b[1;32mC:\\Users\\RUKAIY~1\\AppData\\Local\\Temp/ipykernel_35484/3612374805.py\u001b[0m in \u001b[0;36m<module>\u001b[1;34m\u001b[0m\n\u001b[1;32m----> 1\u001b[1;33m \u001b[0mx3\u001b[0m\u001b[1;33m*\u001b[0m\u001b[1;36m2\u001b[0m\u001b[1;33m\u001b[0m\u001b[1;33m\u001b[0m\u001b[0m\n\u001b[0m",
      "\u001b[1;31mTypeError\u001b[0m: unsupported operand type(s) for *: 'dict' and 'int'"
     ]
    }
   ],
   "source": [
    "x3*2"
   ]
  },
  {
   "cell_type": "code",
   "execution_count": 186,
   "id": "89562181",
   "metadata": {},
   "outputs": [
    {
     "ename": "TypeError",
     "evalue": "unsupported operand type(s) for +: 'dict' and 'int'",
     "output_type": "error",
     "traceback": [
      "\u001b[1;31m---------------------------------------------------------------------------\u001b[0m",
      "\u001b[1;31mTypeError\u001b[0m                                 Traceback (most recent call last)",
      "\u001b[1;32mC:\\Users\\RUKAIY~1\\AppData\\Local\\Temp/ipykernel_35484/2561826022.py\u001b[0m in \u001b[0;36m<module>\u001b[1;34m\u001b[0m\n\u001b[1;32m----> 1\u001b[1;33m \u001b[0mx3\u001b[0m\u001b[1;33m+\u001b[0m\u001b[1;36m3\u001b[0m\u001b[1;33m\u001b[0m\u001b[1;33m\u001b[0m\u001b[0m\n\u001b[0m",
      "\u001b[1;31mTypeError\u001b[0m: unsupported operand type(s) for +: 'dict' and 'int'"
     ]
    }
   ],
   "source": [
    "x3+3"
   ]
  },
  {
   "cell_type": "markdown",
   "id": "3fb70d24",
   "metadata": {},
   "source": [
    "### Assignment operation"
   ]
  },
  {
   "cell_type": "code",
   "execution_count": 187,
   "id": "0507ba46",
   "metadata": {},
   "outputs": [
    {
     "data": {
      "text/plain": [
       "{2: 'ruksie', 'lolo': [78, 94, 56]}"
      ]
     },
     "execution_count": 187,
     "metadata": {},
     "output_type": "execute_result"
    }
   ],
   "source": [
    "x3"
   ]
  },
  {
   "cell_type": "code",
   "execution_count": 188,
   "id": "0f9e4a4e",
   "metadata": {},
   "outputs": [],
   "source": [
    "x3[2]=98"
   ]
  },
  {
   "cell_type": "code",
   "execution_count": 189,
   "id": "d4c675dc",
   "metadata": {},
   "outputs": [
    {
     "data": {
      "text/plain": [
       "{2: 98, 'lolo': [78, 94, 56]}"
      ]
     },
     "execution_count": 189,
     "metadata": {},
     "output_type": "execute_result"
    }
   ],
   "source": [
    "x3"
   ]
  },
  {
   "cell_type": "code",
   "execution_count": 190,
   "id": "736c40a5",
   "metadata": {},
   "outputs": [
    {
     "ename": "TypeError",
     "evalue": "unsupported operand type(s) for -=: 'list' and 'int'",
     "output_type": "error",
     "traceback": [
      "\u001b[1;31m---------------------------------------------------------------------------\u001b[0m",
      "\u001b[1;31mTypeError\u001b[0m                                 Traceback (most recent call last)",
      "\u001b[1;32mC:\\Users\\RUKAIY~1\\AppData\\Local\\Temp/ipykernel_35484/1267974146.py\u001b[0m in \u001b[0;36m<module>\u001b[1;34m\u001b[0m\n\u001b[1;32m----> 1\u001b[1;33m \u001b[0mx3\u001b[0m\u001b[1;33m[\u001b[0m\u001b[1;34m\"lolo\"\u001b[0m\u001b[1;33m]\u001b[0m\u001b[1;33m-=\u001b[0m\u001b[1;36m41\u001b[0m\u001b[1;33m\u001b[0m\u001b[1;33m\u001b[0m\u001b[0m\n\u001b[0m",
      "\u001b[1;31mTypeError\u001b[0m: unsupported operand type(s) for -=: 'list' and 'int'"
     ]
    }
   ],
   "source": [
    "x3[\"lolo\"]-=41"
   ]
  },
  {
   "cell_type": "code",
   "execution_count": 192,
   "id": "cc11e3ed",
   "metadata": {},
   "outputs": [],
   "source": [
    "x3[\"lolo\"][2]-=10"
   ]
  },
  {
   "cell_type": "code",
   "execution_count": 193,
   "id": "bea5568b",
   "metadata": {},
   "outputs": [
    {
     "data": {
      "text/plain": [
       "{2: 98, 'lolo': [78, 94, 46]}"
      ]
     },
     "execution_count": 193,
     "metadata": {},
     "output_type": "execute_result"
    }
   ],
   "source": [
    "x3"
   ]
  },
  {
   "cell_type": "code",
   "execution_count": null,
   "id": "0b9cbf4d",
   "metadata": {},
   "outputs": [],
   "source": [
    "See what happended on the above we subtracted the last value of the list by 10"
   ]
  },
  {
   "cell_type": "markdown",
   "id": "e8dfb1d3",
   "metadata": {},
   "source": [
    "## How to only get keys or only values"
   ]
  },
  {
   "cell_type": "code",
   "execution_count": 194,
   "id": "61dabc34",
   "metadata": {},
   "outputs": [
    {
     "data": {
      "text/plain": [
       "dict_keys([2, 'lolo'])"
      ]
     },
     "execution_count": 194,
     "metadata": {},
     "output_type": "execute_result"
    }
   ],
   "source": [
    "x3.keys()"
   ]
  },
  {
   "cell_type": "code",
   "execution_count": 196,
   "id": "61472cb0",
   "metadata": {},
   "outputs": [
    {
     "data": {
      "text/plain": [
       "dict_values([98, [78, 94, 46]])"
      ]
     },
     "execution_count": 196,
     "metadata": {},
     "output_type": "execute_result"
    }
   ],
   "source": [
    "x3.values()"
   ]
  },
  {
   "cell_type": "code",
   "execution_count": 197,
   "id": "27bb8213",
   "metadata": {},
   "outputs": [
    {
     "name": "stdout",
     "output_type": "stream",
     "text": [
      "2\n",
      "lolo\n"
     ]
    }
   ],
   "source": [
    "for i in x3:\n",
    "    print(i) # here i is the keys by default"
   ]
  },
  {
   "cell_type": "code",
   "execution_count": 200,
   "id": "953d90d4",
   "metadata": {},
   "outputs": [
    {
     "name": "stdout",
     "output_type": "stream",
     "text": [
      "98\n",
      "[78, 94, 46]\n"
     ]
    }
   ],
   "source": [
    "for i in x3:\n",
    "    print(x3[i])"
   ]
  },
  {
   "cell_type": "code",
   "execution_count": 199,
   "id": "96bed025",
   "metadata": {},
   "outputs": [
    {
     "data": {
      "text/plain": [
       "{'k4': 'klmp'}"
      ]
     },
     "execution_count": 199,
     "metadata": {},
     "output_type": "execute_result"
    }
   ],
   "source": [
    "x4"
   ]
  },
  {
   "cell_type": "markdown",
   "id": "fba9d794",
   "metadata": {},
   "source": [
    "### Using items() we can get the dictionary in the form of a tuple"
   ]
  },
  {
   "cell_type": "code",
   "execution_count": 202,
   "id": "11bc6147",
   "metadata": {},
   "outputs": [
    {
     "data": {
      "text/plain": [
       "dict_items([('name', ['Ruksie', 1, 'Abbas']), ('age', {24, 29}), ('gender', True), ('natinality', ('INDIAN', 'CANADIAN')), ('birth', {'abbas': 'Bandra', 'rukaiya': 'Jamnagar'})])"
      ]
     },
     "execution_count": 202,
     "metadata": {},
     "output_type": "execute_result"
    }
   ],
   "source": [
    "s.items()"
   ]
  },
  {
   "cell_type": "markdown",
   "id": "888c78dc",
   "metadata": {},
   "source": [
    "Now from the above get me all the keys and values individually"
   ]
  },
  {
   "cell_type": "code",
   "execution_count": 204,
   "id": "629362b2",
   "metadata": {},
   "outputs": [
    {
     "name": "stdout",
     "output_type": "stream",
     "text": [
      "('name', ['Ruksie', 1, 'Abbas'])\n",
      "('age', {24, 29})\n",
      "('gender', True)\n",
      "('natinality', ('INDIAN', 'CANADIAN'))\n",
      "('birth', {'abbas': 'Bandra', 'rukaiya': 'Jamnagar'})\n"
     ]
    }
   ],
   "source": [
    "for i in s.items():\n",
    "    print(i)#This gives the entire tuple "
   ]
  },
  {
   "cell_type": "code",
   "execution_count": 206,
   "id": "c9da770f",
   "metadata": {},
   "outputs": [
    {
     "name": "stdout",
     "output_type": "stream",
     "text": [
      "name\n",
      "age\n",
      "gender\n",
      "natinality\n",
      "birth\n"
     ]
    }
   ],
   "source": [
    "for i in s.items():\n",
    "    print(i[0])"
   ]
  },
  {
   "cell_type": "code",
   "execution_count": 208,
   "id": "a1e26aa3",
   "metadata": {},
   "outputs": [
    {
     "name": "stdout",
     "output_type": "stream",
     "text": [
      "['Ruksie', 1, 'Abbas']\n",
      "{24, 29}\n",
      "True\n",
      "('INDIAN', 'CANADIAN')\n",
      "{'abbas': 'Bandra', 'rukaiya': 'Jamnagar'}\n"
     ]
    }
   ],
   "source": [
    "for i in s.items():\n",
    "    print(i[1])"
   ]
  },
  {
   "cell_type": "code",
   "execution_count": 209,
   "id": "802fe1fb",
   "metadata": {},
   "outputs": [
    {
     "data": {
      "text/plain": [
       "5"
      ]
     },
     "execution_count": 209,
     "metadata": {},
     "output_type": "execute_result"
    }
   ],
   "source": [
    "len(s)"
   ]
  },
  {
   "cell_type": "markdown",
   "id": "cabc458b",
   "metadata": {},
   "source": [
    "### Parsing through dictionaries "
   ]
  },
  {
   "cell_type": "code",
   "execution_count": 211,
   "id": "f4fb73fe",
   "metadata": {},
   "outputs": [],
   "source": [
    "e={56:{46,56,45}}"
   ]
  },
  {
   "cell_type": "code",
   "execution_count": 212,
   "id": "3b88b4c0",
   "metadata": {},
   "outputs": [
    {
     "data": {
      "text/plain": [
       "{45, 46, 56}"
      ]
     },
     "execution_count": 212,
     "metadata": {},
     "output_type": "execute_result"
    }
   ],
   "source": [
    "e[56]"
   ]
  },
  {
   "cell_type": "code",
   "execution_count": 213,
   "id": "e710b56b",
   "metadata": {},
   "outputs": [
    {
     "ename": "TypeError",
     "evalue": "'set' object is not subscriptable",
     "output_type": "error",
     "traceback": [
      "\u001b[1;31m---------------------------------------------------------------------------\u001b[0m",
      "\u001b[1;31mTypeError\u001b[0m                                 Traceback (most recent call last)",
      "\u001b[1;32mC:\\Users\\RUKAIY~1\\AppData\\Local\\Temp/ipykernel_35484/1144296982.py\u001b[0m in \u001b[0;36m<module>\u001b[1;34m\u001b[0m\n\u001b[1;32m----> 1\u001b[1;33m \u001b[0me\u001b[0m\u001b[1;33m[\u001b[0m\u001b[1;36m56\u001b[0m\u001b[1;33m]\u001b[0m\u001b[1;33m[\u001b[0m\u001b[1;36m2\u001b[0m\u001b[1;33m]\u001b[0m\u001b[1;33m\u001b[0m\u001b[1;33m\u001b[0m\u001b[0m\n\u001b[0m",
      "\u001b[1;31mTypeError\u001b[0m: 'set' object is not subscriptable"
     ]
    }
   ],
   "source": [
    "e[56][2]"
   ]
  },
  {
   "cell_type": "code",
   "execution_count": null,
   "id": "7a259b3d",
   "metadata": {},
   "outputs": [],
   "source": [
    "So since we cannot entirely parse through the dictionary we will need to type caste it"
   ]
  },
  {
   "cell_type": "code",
   "execution_count": 214,
   "id": "f0914f07",
   "metadata": {},
   "outputs": [],
   "source": [
    "l=list(e[56])"
   ]
  },
  {
   "cell_type": "code",
   "execution_count": 215,
   "id": "d26f5489",
   "metadata": {},
   "outputs": [
    {
     "data": {
      "text/plain": [
       "[56, 45, 46]"
      ]
     },
     "execution_count": 215,
     "metadata": {},
     "output_type": "execute_result"
    }
   ],
   "source": [
    "l"
   ]
  },
  {
   "cell_type": "code",
   "execution_count": 217,
   "id": "572d52c0",
   "metadata": {},
   "outputs": [
    {
     "data": {
      "text/plain": [
       "45"
      ]
     },
     "execution_count": 217,
     "metadata": {},
     "output_type": "execute_result"
    }
   ],
   "source": [
    "l[1]"
   ]
  },
  {
   "cell_type": "code",
   "execution_count": 258,
   "id": "7e62d450",
   "metadata": {},
   "outputs": [],
   "source": [
    "s=\"A paragraph consists of one or more sentences. Though not required by the syntax of any language paragraphs are usually an expected part of formal writing used to organize longer prose  \""
   ]
  },
  {
   "cell_type": "code",
   "execution_count": 259,
   "id": "5dbd11ee",
   "metadata": {},
   "outputs": [
    {
     "data": {
      "text/plain": [
       "'A paragraph consists of one or more sentences. Though not required by the syntax of any language paragraphs are usually an expected part of formal writing used to organize longer prose  '"
      ]
     },
     "execution_count": 259,
     "metadata": {},
     "output_type": "execute_result"
    }
   ],
   "source": [
    "s"
   ]
  },
  {
   "cell_type": "code",
   "execution_count": 281,
   "id": "5efd6a10",
   "metadata": {},
   "outputs": [],
   "source": [
    "r=list(s.split( ))"
   ]
  },
  {
   "cell_type": "code",
   "execution_count": 282,
   "id": "6d41f2e2",
   "metadata": {
    "scrolled": true
   },
   "outputs": [
    {
     "name": "stdout",
     "output_type": "stream",
     "text": [
      "['A', 'paragraph', 'consists', 'of', 'one', 'or', 'more', 'sentences.', 'Though', 'not', 'required', 'by', 'the', 'syntax', 'of', 'any', 'language', 'paragraphs', 'are', 'usually', 'an', 'expected', 'part', 'of', 'formal', 'writing', 'used', 'to', 'organize', 'longer', 'prose']\n"
     ]
    }
   ],
   "source": [
    "print(r)"
   ]
  },
  {
   "cell_type": "code",
   "execution_count": 283,
   "id": "574bcbd4",
   "metadata": {
    "scrolled": true
   },
   "outputs": [
    {
     "data": {
      "text/plain": [
       "{'A',\n",
       " 'Though',\n",
       " 'an',\n",
       " 'any',\n",
       " 'are',\n",
       " 'by',\n",
       " 'consists',\n",
       " 'expected',\n",
       " 'formal',\n",
       " 'language',\n",
       " 'longer',\n",
       " 'more',\n",
       " 'not',\n",
       " 'of',\n",
       " 'one',\n",
       " 'or',\n",
       " 'organize',\n",
       " 'paragraph',\n",
       " 'paragraphs',\n",
       " 'part',\n",
       " 'prose',\n",
       " 'required',\n",
       " 'sentences.',\n",
       " 'syntax',\n",
       " 'the',\n",
       " 'to',\n",
       " 'used',\n",
       " 'usually',\n",
       " 'writing'}"
      ]
     },
     "execution_count": 283,
     "metadata": {},
     "output_type": "execute_result"
    }
   ],
   "source": [
    "set(r)"
   ]
  },
  {
   "cell_type": "code",
   "execution_count": 289,
   "id": "a838de2b",
   "metadata": {},
   "outputs": [],
   "source": [
    "d=set(r)"
   ]
  },
  {
   "cell_type": "code",
   "execution_count": 290,
   "id": "9cf6e02e",
   "metadata": {},
   "outputs": [
    {
     "data": {
      "text/plain": [
       "{'A',\n",
       " 'Though',\n",
       " 'an',\n",
       " 'any',\n",
       " 'are',\n",
       " 'by',\n",
       " 'consists',\n",
       " 'expected',\n",
       " 'formal',\n",
       " 'language',\n",
       " 'longer',\n",
       " 'more',\n",
       " 'not',\n",
       " 'of',\n",
       " 'one',\n",
       " 'or',\n",
       " 'organize',\n",
       " 'paragraph',\n",
       " 'paragraphs',\n",
       " 'part',\n",
       " 'prose',\n",
       " 'required',\n",
       " 'sentences.',\n",
       " 'syntax',\n",
       " 'the',\n",
       " 'to',\n",
       " 'used',\n",
       " 'usually',\n",
       " 'writing'}"
      ]
     },
     "execution_count": 290,
     "metadata": {},
     "output_type": "execute_result"
    }
   ],
   "source": [
    "d"
   ]
  },
  {
   "cell_type": "code",
   "execution_count": 296,
   "id": "16795ede",
   "metadata": {},
   "outputs": [
    {
     "name": "stdout",
     "output_type": "stream",
     "text": [
      "{'required': 'ruksie', 'paragraph': 'ruksie', 'consists': 'ruksie', 'any': 'ruksie', 'prose': 'ruksie', 'more': 'ruksie', 'formal': 'ruksie', 'Though': 'ruksie', 'or': 'ruksie', 'usually': 'ruksie', 'syntax': 'ruksie', 'writing': 'ruksie', 'longer': 'ruksie', 'an': 'ruksie', 'are': 'ruksie', 'sentences.': 'ruksie', 'part': 'ruksie', 'A': 'ruksie', 'one': 'ruksie', 'by': 'ruksie', 'the': 'ruksie', 'paragraphs': 'ruksie', 'of': 'ruksie', 'not': 'ruksie', 'organize': 'ruksie', 'language': 'ruksie', 'used': 'ruksie', 'expected': 'ruksie', 'to': 'ruksie'}\n"
     ]
    }
   ],
   "source": [
    "dic={}\n",
    "for i in d:\n",
    "    dic[i]=\"ruksie\"\n",
    "print(dic)\n",
    "    "
   ]
  },
  {
   "cell_type": "code",
   "execution_count": 297,
   "id": "160c0ebc",
   "metadata": {},
   "outputs": [],
   "source": [
    "l=tuple(dic.values())"
   ]
  },
  {
   "cell_type": "code",
   "execution_count": 299,
   "id": "039df68a",
   "metadata": {},
   "outputs": [],
   "source": [
    "y=tuple(dic.keys())"
   ]
  },
  {
   "cell_type": "code",
   "execution_count": 300,
   "id": "6a164e53",
   "metadata": {},
   "outputs": [
    {
     "name": "stdout",
     "output_type": "stream",
     "text": [
      "('ruksie', 'ruksie', 'ruksie', 'ruksie', 'ruksie', 'ruksie', 'ruksie', 'ruksie', 'ruksie', 'ruksie', 'ruksie', 'ruksie', 'ruksie', 'ruksie', 'ruksie', 'ruksie', 'ruksie', 'ruksie', 'ruksie', 'ruksie', 'ruksie', 'ruksie', 'ruksie', 'ruksie', 'ruksie', 'ruksie', 'ruksie', 'ruksie', 'ruksie') "
     ]
    }
   ],
   "source": [
    "print(l,end=\" \")"
   ]
  },
  {
   "cell_type": "code",
   "execution_count": 301,
   "id": "5a981313",
   "metadata": {},
   "outputs": [
    {
     "name": "stdout",
     "output_type": "stream",
     "text": [
      "('required', 'paragraph', 'consists', 'any', 'prose', 'more', 'formal', 'Though', 'or', 'usually', 'syntax', 'writing', 'longer', 'an', 'are', 'sentences.', 'part', 'A', 'one', 'by', 'the', 'paragraphs', 'of', 'not', 'organize', 'language', 'used', 'expected', 'to') "
     ]
    }
   ],
   "source": [
    "print(y,end=\" \")"
   ]
  },
  {
   "cell_type": "markdown",
   "id": "bc3208ed",
   "metadata": {},
   "source": [
    "### Square of the dictionary key as value:"
   ]
  },
  {
   "cell_type": "code",
   "execution_count": 316,
   "id": "0647526b",
   "metadata": {},
   "outputs": [],
   "source": [
    "d={}\n",
    "for i in range(10):\n",
    "    d[i]=i*i\n",
    "    #So here d[i] is the value so i*i gives Value=key*key since i is the denotion for key!"
   ]
  },
  {
   "cell_type": "code",
   "execution_count": 317,
   "id": "9636ed2f",
   "metadata": {},
   "outputs": [
    {
     "data": {
      "text/plain": [
       "{0: 0, 1: 1, 2: 4, 3: 9, 4: 16, 5: 25, 6: 36, 7: 49, 8: 64, 9: 81}"
      ]
     },
     "execution_count": 317,
     "metadata": {},
     "output_type": "execute_result"
    }
   ],
   "source": [
    "d"
   ]
  },
  {
   "cell_type": "markdown",
   "id": "70f8fd39",
   "metadata": {},
   "source": [
    "## FUNCTIONS"
   ]
  },
  {
   "cell_type": "markdown",
   "id": "1eb327d3",
   "metadata": {},
   "source": [
    "### Function creates reusability and function is something that is more readable we can divide set of code into modules.\n"
   ]
  },
  {
   "cell_type": "markdown",
   "id": "358f397b",
   "metadata": {},
   "source": [
    "#### How to create a function?"
   ]
  },
  {
   "cell_type": "code",
   "execution_count": 319,
   "id": "f3decc4b",
   "metadata": {},
   "outputs": [],
   "source": [
    "def test(a,b):\n",
    "    print(a+b)"
   ]
  },
  {
   "cell_type": "markdown",
   "id": "72d66167",
   "metadata": {},
   "source": [
    "#### How to call a function?"
   ]
  },
  {
   "cell_type": "code",
   "execution_count": 320,
   "id": "1a158398",
   "metadata": {},
   "outputs": [
    {
     "name": "stdout",
     "output_type": "stream",
     "text": [
      "5\n"
     ]
    }
   ],
   "source": [
    "test(2,3)"
   ]
  },
  {
   "cell_type": "code",
   "execution_count": 322,
   "id": "e76c412b",
   "metadata": {},
   "outputs": [
    {
     "name": "stdout",
     "output_type": "stream",
     "text": [
      "5\n"
     ]
    },
    {
     "data": {
      "text/plain": [
       "NoneType"
      ]
     },
     "execution_count": 322,
     "metadata": {},
     "output_type": "execute_result"
    }
   ],
   "source": [
    "type(test(2,3))"
   ]
  },
  {
   "cell_type": "markdown",
   "id": "4ecd4380",
   "metadata": {},
   "source": [
    "### NONETYPE"
   ]
  },
  {
   "cell_type": "markdown",
   "id": "2cd644a6",
   "metadata": {},
   "source": [
    "### What is NONE TYPE?\n",
    "DEFINITION: \n",
    "The None keyword is used to define a null value, or no value at all. None is not the same as 0, False, or an empty string. None is a data type of its own (NoneType) and only None can be None."
   ]
  },
  {
   "cell_type": "code",
   "execution_count": 323,
   "id": "97a17def",
   "metadata": {},
   "outputs": [],
   "source": [
    "def test1(a,b):\n",
    "    return (a+b) "
   ]
  },
  {
   "cell_type": "code",
   "execution_count": 324,
   "id": "c22f9163",
   "metadata": {},
   "outputs": [
    {
     "data": {
      "text/plain": [
       "12"
      ]
     },
     "execution_count": 324,
     "metadata": {},
     "output_type": "execute_result"
    }
   ],
   "source": [
    "test1(5,7)"
   ]
  },
  {
   "cell_type": "code",
   "execution_count": 326,
   "id": "97171b0f",
   "metadata": {},
   "outputs": [
    {
     "data": {
      "text/plain": [
       "int"
      ]
     },
     "execution_count": 326,
     "metadata": {},
     "output_type": "execute_result"
    }
   ],
   "source": [
    "type(test1(5,7))"
   ]
  },
  {
   "cell_type": "markdown",
   "id": "619d7e13",
   "metadata": {},
   "source": [
    "Wherein here for the above example if return type is giving me int as a data type we can ADD a number to an integer right??!!\n",
    "Hence we are able to perform the following here"
   ]
  },
  {
   "cell_type": "markdown",
   "id": "92f1ab6e",
   "metadata": {},
   "source": [
    "### So, return keyword will always give the same datatype as the operations it has been assigned \n",
    "Suppose it has been assigned int operation then it will throw int datatype to us!!!"
   ]
  },
  {
   "cell_type": "code",
   "execution_count": 1,
   "id": "2a08e700",
   "metadata": {},
   "outputs": [],
   "source": [
    "def test2(a,b,c):\n",
    "    return a*b"
   ]
  },
  {
   "cell_type": "code",
   "execution_count": 2,
   "id": "aab1c4c8",
   "metadata": {},
   "outputs": [
    {
     "data": {
      "text/plain": [
       "6"
      ]
     },
     "execution_count": 2,
     "metadata": {},
     "output_type": "execute_result"
    }
   ],
   "source": [
    "test2(2,3,4)"
   ]
  },
  {
   "cell_type": "markdown",
   "id": "09328667",
   "metadata": {},
   "source": [
    "But what if we only place two values inside the parameter place!"
   ]
  },
  {
   "cell_type": "code",
   "execution_count": 3,
   "id": "0c3a3c15",
   "metadata": {},
   "outputs": [
    {
     "ename": "TypeError",
     "evalue": "test2() missing 1 required positional argument: 'c'",
     "output_type": "error",
     "traceback": [
      "\u001b[1;31m---------------------------------------------------------------------------\u001b[0m",
      "\u001b[1;31mTypeError\u001b[0m                                 Traceback (most recent call last)",
      "\u001b[1;32mC:\\Users\\RUKAIY~1\\AppData\\Local\\Temp/ipykernel_16908/1274656073.py\u001b[0m in \u001b[0;36m<module>\u001b[1;34m\u001b[0m\n\u001b[1;32m----> 1\u001b[1;33m \u001b[0mtest2\u001b[0m\u001b[1;33m(\u001b[0m\u001b[1;36m2\u001b[0m\u001b[1;33m,\u001b[0m\u001b[1;36m5\u001b[0m\u001b[1;33m)\u001b[0m\u001b[1;33m\u001b[0m\u001b[1;33m\u001b[0m\u001b[0m\n\u001b[0m",
      "\u001b[1;31mTypeError\u001b[0m: test2() missing 1 required positional argument: 'c'"
     ]
    }
   ],
   "source": [
    "test2(2,5)"
   ]
  },
  {
   "cell_type": "markdown",
   "id": "aa62c5f2",
   "metadata": {},
   "source": [
    "So basically once you define the function the number of arguments passed through them you all of them should be called while calling the functions"
   ]
  },
  {
   "cell_type": "markdown",
   "id": "bae76a02",
   "metadata": {},
   "source": [
    "So, Now "
   ]
  },
  {
   "cell_type": "code",
   "execution_count": 9,
   "id": "bc26d0c2",
   "metadata": {},
   "outputs": [],
   "source": [
    "def test3(a,b):\n",
    "    return a*b,a+b,a-b"
   ]
  },
  {
   "cell_type": "code",
   "execution_count": 10,
   "id": "3c369130",
   "metadata": {},
   "outputs": [
    {
     "data": {
      "text/plain": [
       "(24, 10, -2)"
      ]
     },
     "execution_count": 10,
     "metadata": {},
     "output_type": "execute_result"
    }
   ],
   "source": [
    "test3(4,6)"
   ]
  },
  {
   "cell_type": "code",
   "execution_count": 13,
   "id": "0c4da50d",
   "metadata": {},
   "outputs": [
    {
     "data": {
      "text/plain": [
       "tuple"
      ]
     },
     "execution_count": 13,
     "metadata": {},
     "output_type": "execute_result"
    }
   ],
   "source": [
    "type(test3(4,6))"
   ]
  },
  {
   "cell_type": "code",
   "execution_count": 14,
   "id": "d8481b7f",
   "metadata": {},
   "outputs": [],
   "source": [
    "h,i,j=test3(2,6)"
   ]
  },
  {
   "cell_type": "code",
   "execution_count": 15,
   "id": "b520c356",
   "metadata": {},
   "outputs": [
    {
     "data": {
      "text/plain": [
       "12"
      ]
     },
     "execution_count": 15,
     "metadata": {},
     "output_type": "execute_result"
    }
   ],
   "source": [
    "h"
   ]
  },
  {
   "cell_type": "code",
   "execution_count": 16,
   "id": "d2327b40",
   "metadata": {},
   "outputs": [
    {
     "data": {
      "text/plain": [
       "8"
      ]
     },
     "execution_count": 16,
     "metadata": {},
     "output_type": "execute_result"
    }
   ],
   "source": [
    "i"
   ]
  },
  {
   "cell_type": "code",
   "execution_count": 17,
   "id": "5b8b2ef2",
   "metadata": {},
   "outputs": [
    {
     "data": {
      "text/plain": [
       "-4"
      ]
     },
     "execution_count": 17,
     "metadata": {},
     "output_type": "execute_result"
    }
   ],
   "source": [
    "j"
   ]
  },
  {
   "cell_type": "code",
   "execution_count": 18,
   "id": "5007d5b4",
   "metadata": {},
   "outputs": [],
   "source": [
    "h,_,j=test3(2,6)"
   ]
  },
  {
   "cell_type": "code",
   "execution_count": 19,
   "id": "881c9ce4",
   "metadata": {},
   "outputs": [
    {
     "data": {
      "text/plain": [
       "12"
      ]
     },
     "execution_count": 19,
     "metadata": {},
     "output_type": "execute_result"
    }
   ],
   "source": [
    "h"
   ]
  },
  {
   "cell_type": "code",
   "execution_count": 20,
   "id": "5bbbe59b",
   "metadata": {},
   "outputs": [
    {
     "data": {
      "text/plain": [
       "8"
      ]
     },
     "execution_count": 20,
     "metadata": {},
     "output_type": "execute_result"
    }
   ],
   "source": [
    "_"
   ]
  },
  {
   "cell_type": "code",
   "execution_count": 21,
   "id": "f98f885f",
   "metadata": {},
   "outputs": [
    {
     "data": {
      "text/plain": [
       "-4"
      ]
     },
     "execution_count": 21,
     "metadata": {},
     "output_type": "execute_result"
    }
   ],
   "source": [
    "j"
   ]
  },
  {
   "cell_type": "markdown",
   "id": "e6e2ad8d",
   "metadata": {},
   "source": [
    "What happens when we dont place a placeholder?"
   ]
  },
  {
   "cell_type": "code",
   "execution_count": 23,
   "id": "8e824c19",
   "metadata": {},
   "outputs": [
    {
     "ename": "ValueError",
     "evalue": "too many values to unpack (expected 2)",
     "output_type": "error",
     "traceback": [
      "\u001b[1;31m---------------------------------------------------------------------------\u001b[0m",
      "\u001b[1;31mValueError\u001b[0m                                Traceback (most recent call last)",
      "\u001b[1;32mC:\\Users\\RUKAIY~1\\AppData\\Local\\Temp/ipykernel_16908/843475341.py\u001b[0m in \u001b[0;36m<module>\u001b[1;34m\u001b[0m\n\u001b[1;32m----> 1\u001b[1;33m \u001b[0mb\u001b[0m\u001b[1;33m,\u001b[0m\u001b[0mv\u001b[0m\u001b[1;33m=\u001b[0m\u001b[0mtest3\u001b[0m\u001b[1;33m(\u001b[0m\u001b[1;36m5\u001b[0m\u001b[1;33m,\u001b[0m\u001b[1;36m5\u001b[0m\u001b[1;33m)\u001b[0m\u001b[1;33m\u001b[0m\u001b[1;33m\u001b[0m\u001b[0m\n\u001b[0m",
      "\u001b[1;31mValueError\u001b[0m: too many values to unpack (expected 2)"
     ]
    }
   ],
   "source": [
    "b,v=test3(5,5)"
   ]
  },
  {
   "cell_type": "markdown",
   "id": "9847417d",
   "metadata": {},
   "source": [
    "It basically gives an error"
   ]
  },
  {
   "cell_type": "code",
   "execution_count": 25,
   "id": "3e16110c",
   "metadata": {},
   "outputs": [],
   "source": [
    "b,_,_=test3(6,5)"
   ]
  },
  {
   "cell_type": "code",
   "execution_count": 26,
   "id": "dd5e587e",
   "metadata": {},
   "outputs": [
    {
     "data": {
      "text/plain": [
       "30"
      ]
     },
     "execution_count": 26,
     "metadata": {},
     "output_type": "execute_result"
    }
   ],
   "source": [
    "b"
   ]
  },
  {
   "cell_type": "code",
   "execution_count": 27,
   "id": "cfa1b1b2",
   "metadata": {},
   "outputs": [
    {
     "data": {
      "text/plain": [
       "1"
      ]
     },
     "execution_count": 27,
     "metadata": {},
     "output_type": "execute_result"
    }
   ],
   "source": [
    "_"
   ]
  },
  {
   "cell_type": "code",
   "execution_count": 28,
   "id": "b1e2e6dd",
   "metadata": {},
   "outputs": [
    {
     "data": {
      "text/plain": [
       "1"
      ]
     },
     "execution_count": 28,
     "metadata": {},
     "output_type": "execute_result"
    }
   ],
   "source": [
    "_"
   ]
  },
  {
   "cell_type": "code",
   "execution_count": 29,
   "id": "2fec33a2",
   "metadata": {},
   "outputs": [],
   "source": [
    "def test4(a,b,c):\n",
    "    return a + b\n",
    "    return b + c"
   ]
  },
  {
   "cell_type": "markdown",
   "id": "1f7313e9",
   "metadata": {},
   "source": [
    "### Now here if we take 2 return statements the first one will get returned "
   ]
  },
  {
   "cell_type": "code",
   "execution_count": 30,
   "id": "c9a0fd5b",
   "metadata": {},
   "outputs": [
    {
     "data": {
      "text/plain": [
       "5"
      ]
     },
     "execution_count": 30,
     "metadata": {},
     "output_type": "execute_result"
    }
   ],
   "source": [
    "test4(2,3,6)"
   ]
  },
  {
   "cell_type": "code",
   "execution_count": 31,
   "id": "514da2a6",
   "metadata": {},
   "outputs": [],
   "source": [
    "def test5():\n",
    "    print(\"This is test5 function\")"
   ]
  },
  {
   "cell_type": "code",
   "execution_count": 32,
   "id": "2ec3af4a",
   "metadata": {},
   "outputs": [
    {
     "name": "stdout",
     "output_type": "stream",
     "text": [
      "This is test5 function\n"
     ]
    }
   ],
   "source": [
    "test5()"
   ]
  },
  {
   "cell_type": "code",
   "execution_count": 33,
   "id": "3f1c4bf3",
   "metadata": {},
   "outputs": [
    {
     "name": "stdout",
     "output_type": "stream",
     "text": [
      "This is test5 function\n"
     ]
    },
    {
     "ename": "TypeError",
     "evalue": "unsupported operand type(s) for +: 'NoneType' and 'str'",
     "output_type": "error",
     "traceback": [
      "\u001b[1;31m---------------------------------------------------------------------------\u001b[0m",
      "\u001b[1;31mTypeError\u001b[0m                                 Traceback (most recent call last)",
      "\u001b[1;32mC:\\Users\\RUKAIY~1\\AppData\\Local\\Temp/ipykernel_16908/1888980813.py\u001b[0m in \u001b[0;36m<module>\u001b[1;34m\u001b[0m\n\u001b[1;32m----> 1\u001b[1;33m \u001b[0mtest5\u001b[0m\u001b[1;33m(\u001b[0m\u001b[1;33m)\u001b[0m\u001b[1;33m+\u001b[0m\u001b[1;34m\"hieee\"\u001b[0m\u001b[1;33m\u001b[0m\u001b[1;33m\u001b[0m\u001b[0m\n\u001b[0m",
      "\u001b[1;31mTypeError\u001b[0m: unsupported operand type(s) for +: 'NoneType' and 'str'"
     ]
    }
   ],
   "source": [
    "test5()+\"hieee\""
   ]
  },
  {
   "cell_type": "code",
   "execution_count": 34,
   "id": "c11a242d",
   "metadata": {},
   "outputs": [
    {
     "name": "stdout",
     "output_type": "stream",
     "text": [
      "This is test5 function\n"
     ]
    },
    {
     "ename": "TypeError",
     "evalue": "unsupported operand type(s) for +: 'NoneType' and 'int'",
     "output_type": "error",
     "traceback": [
      "\u001b[1;31m---------------------------------------------------------------------------\u001b[0m",
      "\u001b[1;31mTypeError\u001b[0m                                 Traceback (most recent call last)",
      "\u001b[1;32mC:\\Users\\RUKAIY~1\\AppData\\Local\\Temp/ipykernel_16908/2638193838.py\u001b[0m in \u001b[0;36m<module>\u001b[1;34m\u001b[0m\n\u001b[1;32m----> 1\u001b[1;33m \u001b[0mtest5\u001b[0m\u001b[1;33m(\u001b[0m\u001b[1;33m)\u001b[0m\u001b[1;33m+\u001b[0m\u001b[1;36m9\u001b[0m\u001b[1;33m\u001b[0m\u001b[1;33m\u001b[0m\u001b[0m\n\u001b[0m",
      "\u001b[1;31mTypeError\u001b[0m: unsupported operand type(s) for +: 'NoneType' and 'int'"
     ]
    }
   ],
   "source": [
    "test5()+9"
   ]
  },
  {
   "cell_type": "code",
   "execution_count": 35,
   "id": "0d1445e5",
   "metadata": {},
   "outputs": [],
   "source": [
    "def test6():\n",
    "    return \"Hey this id function 6\""
   ]
  },
  {
   "cell_type": "code",
   "execution_count": 36,
   "id": "ae666be2",
   "metadata": {},
   "outputs": [
    {
     "data": {
      "text/plain": [
       "'Hey this id function 6'"
      ]
     },
     "execution_count": 36,
     "metadata": {},
     "output_type": "execute_result"
    }
   ],
   "source": [
    "test6()"
   ]
  },
  {
   "cell_type": "code",
   "execution_count": 39,
   "id": "e4fc11df",
   "metadata": {},
   "outputs": [
    {
     "data": {
      "text/plain": [
       "'Hey this id function 6 reallllllly'"
      ]
     },
     "execution_count": 39,
     "metadata": {},
     "output_type": "execute_result"
    }
   ],
   "source": [
    "test6()+ \" reallllllly\""
   ]
  },
  {
   "cell_type": "code",
   "execution_count": 40,
   "id": "eaa0869d",
   "metadata": {},
   "outputs": [
    {
     "ename": "TypeError",
     "evalue": "can only concatenate str (not \"int\") to str",
     "output_type": "error",
     "traceback": [
      "\u001b[1;31m---------------------------------------------------------------------------\u001b[0m",
      "\u001b[1;31mTypeError\u001b[0m                                 Traceback (most recent call last)",
      "\u001b[1;32mC:\\Users\\RUKAIY~1\\AppData\\Local\\Temp/ipykernel_16908/2002134453.py\u001b[0m in \u001b[0;36m<module>\u001b[1;34m\u001b[0m\n\u001b[1;32m----> 1\u001b[1;33m \u001b[0mtest6\u001b[0m\u001b[1;33m(\u001b[0m\u001b[1;33m)\u001b[0m\u001b[1;33m+\u001b[0m\u001b[1;36m7\u001b[0m\u001b[1;33m\u001b[0m\u001b[1;33m\u001b[0m\u001b[0m\n\u001b[0m",
      "\u001b[1;31mTypeError\u001b[0m: can only concatenate str (not \"int\") to str"
     ]
    }
   ],
   "source": [
    "test6()+7"
   ]
  },
  {
   "cell_type": "markdown",
   "id": "3bf79a99",
   "metadata": {},
   "source": [
    "### Here string so we need to typecaste but whatever it is if its return then we can add seperately and when it is print we cannot"
   ]
  },
  {
   "cell_type": "code",
   "execution_count": 41,
   "id": "04d4bbf0",
   "metadata": {},
   "outputs": [],
   "source": [
    "def test7(n):\n",
    "    return n*n"
   ]
  },
  {
   "cell_type": "code",
   "execution_count": 44,
   "id": "b9d9166d",
   "metadata": {},
   "outputs": [
    {
     "ename": "TypeError",
     "evalue": "can't multiply sequence by non-int of type 'list'",
     "output_type": "error",
     "traceback": [
      "\u001b[1;31m---------------------------------------------------------------------------\u001b[0m",
      "\u001b[1;31mTypeError\u001b[0m                                 Traceback (most recent call last)",
      "\u001b[1;32mC:\\Users\\RUKAIY~1\\AppData\\Local\\Temp/ipykernel_16908/2776097104.py\u001b[0m in \u001b[0;36m<module>\u001b[1;34m\u001b[0m\n\u001b[1;32m----> 1\u001b[1;33m \u001b[0mtest7\u001b[0m\u001b[1;33m(\u001b[0m\u001b[1;33m[\u001b[0m\u001b[1;36m1\u001b[0m\u001b[1;33m,\u001b[0m\u001b[1;36m2\u001b[0m\u001b[1;33m,\u001b[0m\u001b[1;36m3\u001b[0m\u001b[1;33m]\u001b[0m\u001b[1;33m)\u001b[0m\u001b[1;33m\u001b[0m\u001b[1;33m\u001b[0m\u001b[0m\n\u001b[0m",
      "\u001b[1;32mC:\\Users\\RUKAIY~1\\AppData\\Local\\Temp/ipykernel_16908/139071052.py\u001b[0m in \u001b[0;36mtest7\u001b[1;34m(n)\u001b[0m\n\u001b[0;32m      1\u001b[0m \u001b[1;32mdef\u001b[0m \u001b[0mtest7\u001b[0m\u001b[1;33m(\u001b[0m\u001b[0mn\u001b[0m\u001b[1;33m)\u001b[0m\u001b[1;33m:\u001b[0m\u001b[1;33m\u001b[0m\u001b[1;33m\u001b[0m\u001b[0m\n\u001b[1;32m----> 2\u001b[1;33m     \u001b[1;32mreturn\u001b[0m \u001b[0mn\u001b[0m\u001b[1;33m*\u001b[0m\u001b[0mn\u001b[0m\u001b[1;33m\u001b[0m\u001b[1;33m\u001b[0m\u001b[0m\n\u001b[0m",
      "\u001b[1;31mTypeError\u001b[0m: can't multiply sequence by non-int of type 'list'"
     ]
    }
   ],
   "source": [
    "test7([1,2,3])"
   ]
  },
  {
   "cell_type": "code",
   "execution_count": 45,
   "id": "eb67e39d",
   "metadata": {},
   "outputs": [
    {
     "data": {
      "text/plain": [
       "25"
      ]
     },
     "execution_count": 45,
     "metadata": {},
     "output_type": "execute_result"
    }
   ],
   "source": [
    "test7(5)"
   ]
  },
  {
   "cell_type": "code",
   "execution_count": 46,
   "id": "1d5fd300",
   "metadata": {},
   "outputs": [
    {
     "ename": "TypeError",
     "evalue": "can't multiply sequence by non-int of type 'str'",
     "output_type": "error",
     "traceback": [
      "\u001b[1;31m---------------------------------------------------------------------------\u001b[0m",
      "\u001b[1;31mTypeError\u001b[0m                                 Traceback (most recent call last)",
      "\u001b[1;32mC:\\Users\\RUKAIY~1\\AppData\\Local\\Temp/ipykernel_16908/2404357035.py\u001b[0m in \u001b[0;36m<module>\u001b[1;34m\u001b[0m\n\u001b[1;32m----> 1\u001b[1;33m \u001b[0mtest7\u001b[0m\u001b[1;33m(\u001b[0m\u001b[1;34m\"ruk\"\u001b[0m\u001b[1;33m)\u001b[0m\u001b[1;33m\u001b[0m\u001b[1;33m\u001b[0m\u001b[0m\n\u001b[0m",
      "\u001b[1;32mC:\\Users\\RUKAIY~1\\AppData\\Local\\Temp/ipykernel_16908/139071052.py\u001b[0m in \u001b[0;36mtest7\u001b[1;34m(n)\u001b[0m\n\u001b[0;32m      1\u001b[0m \u001b[1;32mdef\u001b[0m \u001b[0mtest7\u001b[0m\u001b[1;33m(\u001b[0m\u001b[0mn\u001b[0m\u001b[1;33m)\u001b[0m\u001b[1;33m:\u001b[0m\u001b[1;33m\u001b[0m\u001b[1;33m\u001b[0m\u001b[0m\n\u001b[1;32m----> 2\u001b[1;33m     \u001b[1;32mreturn\u001b[0m \u001b[0mn\u001b[0m\u001b[1;33m*\u001b[0m\u001b[0mn\u001b[0m\u001b[1;33m\u001b[0m\u001b[1;33m\u001b[0m\u001b[0m\n\u001b[0m",
      "\u001b[1;31mTypeError\u001b[0m: can't multiply sequence by non-int of type 'str'"
     ]
    }
   ],
   "source": [
    "test7(\"ruk\")"
   ]
  },
  {
   "cell_type": "code",
   "execution_count": 47,
   "id": "63aa3eef",
   "metadata": {},
   "outputs": [
    {
     "ename": "TypeError",
     "evalue": "can't multiply sequence by non-int of type 'tuple'",
     "output_type": "error",
     "traceback": [
      "\u001b[1;31m---------------------------------------------------------------------------\u001b[0m",
      "\u001b[1;31mTypeError\u001b[0m                                 Traceback (most recent call last)",
      "\u001b[1;32mC:\\Users\\RUKAIY~1\\AppData\\Local\\Temp/ipykernel_16908/3082965264.py\u001b[0m in \u001b[0;36m<module>\u001b[1;34m\u001b[0m\n\u001b[1;32m----> 1\u001b[1;33m \u001b[0mtest7\u001b[0m\u001b[1;33m(\u001b[0m\u001b[1;33m(\u001b[0m\u001b[1;36m1\u001b[0m\u001b[1;33m,\u001b[0m\u001b[1;36m2\u001b[0m\u001b[1;33m,\u001b[0m\u001b[1;36m3\u001b[0m\u001b[1;33m)\u001b[0m\u001b[1;33m)\u001b[0m\u001b[1;33m\u001b[0m\u001b[1;33m\u001b[0m\u001b[0m\n\u001b[0m",
      "\u001b[1;32mC:\\Users\\RUKAIY~1\\AppData\\Local\\Temp/ipykernel_16908/139071052.py\u001b[0m in \u001b[0;36mtest7\u001b[1;34m(n)\u001b[0m\n\u001b[0;32m      1\u001b[0m \u001b[1;32mdef\u001b[0m \u001b[0mtest7\u001b[0m\u001b[1;33m(\u001b[0m\u001b[0mn\u001b[0m\u001b[1;33m)\u001b[0m\u001b[1;33m:\u001b[0m\u001b[1;33m\u001b[0m\u001b[1;33m\u001b[0m\u001b[0m\n\u001b[1;32m----> 2\u001b[1;33m     \u001b[1;32mreturn\u001b[0m \u001b[0mn\u001b[0m\u001b[1;33m*\u001b[0m\u001b[0mn\u001b[0m\u001b[1;33m\u001b[0m\u001b[1;33m\u001b[0m\u001b[0m\n\u001b[0m",
      "\u001b[1;31mTypeError\u001b[0m: can't multiply sequence by non-int of type 'tuple'"
     ]
    }
   ],
   "source": [
    "test7((1,2,3))"
   ]
  },
  {
   "cell_type": "code",
   "execution_count": 48,
   "id": "70ddb99c",
   "metadata": {},
   "outputs": [
    {
     "ename": "TypeError",
     "evalue": "unsupported operand type(s) for *: 'set' and 'set'",
     "output_type": "error",
     "traceback": [
      "\u001b[1;31m---------------------------------------------------------------------------\u001b[0m",
      "\u001b[1;31mTypeError\u001b[0m                                 Traceback (most recent call last)",
      "\u001b[1;32mC:\\Users\\RUKAIY~1\\AppData\\Local\\Temp/ipykernel_16908/2805827555.py\u001b[0m in \u001b[0;36m<module>\u001b[1;34m\u001b[0m\n\u001b[1;32m----> 1\u001b[1;33m \u001b[0mtest7\u001b[0m\u001b[1;33m(\u001b[0m\u001b[1;33m{\u001b[0m\u001b[1;36m1\u001b[0m\u001b[1;33m,\u001b[0m\u001b[1;36m4\u001b[0m\u001b[1;33m,\u001b[0m\u001b[1;36m7\u001b[0m\u001b[1;33m}\u001b[0m\u001b[1;33m)\u001b[0m\u001b[1;33m\u001b[0m\u001b[1;33m\u001b[0m\u001b[0m\n\u001b[0m",
      "\u001b[1;32mC:\\Users\\RUKAIY~1\\AppData\\Local\\Temp/ipykernel_16908/139071052.py\u001b[0m in \u001b[0;36mtest7\u001b[1;34m(n)\u001b[0m\n\u001b[0;32m      1\u001b[0m \u001b[1;32mdef\u001b[0m \u001b[0mtest7\u001b[0m\u001b[1;33m(\u001b[0m\u001b[0mn\u001b[0m\u001b[1;33m)\u001b[0m\u001b[1;33m:\u001b[0m\u001b[1;33m\u001b[0m\u001b[1;33m\u001b[0m\u001b[0m\n\u001b[1;32m----> 2\u001b[1;33m     \u001b[1;32mreturn\u001b[0m \u001b[0mn\u001b[0m\u001b[1;33m*\u001b[0m\u001b[0mn\u001b[0m\u001b[1;33m\u001b[0m\u001b[1;33m\u001b[0m\u001b[0m\n\u001b[0m",
      "\u001b[1;31mTypeError\u001b[0m: unsupported operand type(s) for *: 'set' and 'set'"
     ]
    }
   ],
   "source": [
    "test7({1,4,7})"
   ]
  },
  {
   "cell_type": "code",
   "execution_count": 49,
   "id": "7d91ae3b",
   "metadata": {},
   "outputs": [],
   "source": [
    "def test8(n):\n",
    "    return n*2"
   ]
  },
  {
   "cell_type": "code",
   "execution_count": 50,
   "id": "e0f5cb3f",
   "metadata": {},
   "outputs": [
    {
     "data": {
      "text/plain": [
       "[1, 2, 3, 1, 2, 3]"
      ]
     },
     "execution_count": 50,
     "metadata": {},
     "output_type": "execute_result"
    }
   ],
   "source": [
    "test8([1,2,3])"
   ]
  },
  {
   "cell_type": "code",
   "execution_count": 51,
   "id": "7f9100e6",
   "metadata": {},
   "outputs": [
    {
     "data": {
      "text/plain": [
       "['r', 'u', 'r', 'u']"
      ]
     },
     "execution_count": 51,
     "metadata": {},
     "output_type": "execute_result"
    }
   ],
   "source": [
    "test8([\"r\",\"u\"])"
   ]
  },
  {
   "cell_type": "code",
   "execution_count": 55,
   "id": "3b1e2e6f",
   "metadata": {},
   "outputs": [
    {
     "data": {
      "text/plain": [
       "(1, 2, 3, 4, 1, 2, 3, 4)"
      ]
     },
     "execution_count": 55,
     "metadata": {},
     "output_type": "execute_result"
    }
   ],
   "source": [
    "test8((1,2,3,4))"
   ]
  },
  {
   "cell_type": "code",
   "execution_count": 57,
   "id": "1610d0b3",
   "metadata": {},
   "outputs": [
    {
     "ename": "TypeError",
     "evalue": "unsupported operand type(s) for *: 'set' and 'int'",
     "output_type": "error",
     "traceback": [
      "\u001b[1;31m---------------------------------------------------------------------------\u001b[0m",
      "\u001b[1;31mTypeError\u001b[0m                                 Traceback (most recent call last)",
      "\u001b[1;32mC:\\Users\\RUKAIY~1\\AppData\\Local\\Temp/ipykernel_16908/554003134.py\u001b[0m in \u001b[0;36m<module>\u001b[1;34m\u001b[0m\n\u001b[1;32m----> 1\u001b[1;33m \u001b[0mtest8\u001b[0m\u001b[1;33m(\u001b[0m\u001b[1;33m{\u001b[0m\u001b[1;36m1\u001b[0m\u001b[1;33m,\u001b[0m\u001b[1;36m8\u001b[0m\u001b[1;33m}\u001b[0m\u001b[1;33m)\u001b[0m\u001b[1;31m#Since set has only unique values\u001b[0m\u001b[1;33m\u001b[0m\u001b[1;33m\u001b[0m\u001b[0m\n\u001b[0m",
      "\u001b[1;32mC:\\Users\\RUKAIY~1\\AppData\\Local\\Temp/ipykernel_16908/2673244946.py\u001b[0m in \u001b[0;36mtest8\u001b[1;34m(n)\u001b[0m\n\u001b[0;32m      1\u001b[0m \u001b[1;32mdef\u001b[0m \u001b[0mtest8\u001b[0m\u001b[1;33m(\u001b[0m\u001b[0mn\u001b[0m\u001b[1;33m)\u001b[0m\u001b[1;33m:\u001b[0m\u001b[1;33m\u001b[0m\u001b[1;33m\u001b[0m\u001b[0m\n\u001b[1;32m----> 2\u001b[1;33m     \u001b[1;32mreturn\u001b[0m \u001b[0mn\u001b[0m\u001b[1;33m*\u001b[0m\u001b[1;36m2\u001b[0m\u001b[1;33m\u001b[0m\u001b[1;33m\u001b[0m\u001b[0m\n\u001b[0m",
      "\u001b[1;31mTypeError\u001b[0m: unsupported operand type(s) for *: 'set' and 'int'"
     ]
    }
   ],
   "source": [
    "test8({1,8})#Since set has only unique values "
   ]
  },
  {
   "cell_type": "code",
   "execution_count": 58,
   "id": "230bb7e7",
   "metadata": {},
   "outputs": [
    {
     "ename": "TypeError",
     "evalue": "unsupported operand type(s) for *: 'dict' and 'int'",
     "output_type": "error",
     "traceback": [
      "\u001b[1;31m---------------------------------------------------------------------------\u001b[0m",
      "\u001b[1;31mTypeError\u001b[0m                                 Traceback (most recent call last)",
      "\u001b[1;32mC:\\Users\\RUKAIY~1\\AppData\\Local\\Temp/ipykernel_16908/483165526.py\u001b[0m in \u001b[0;36m<module>\u001b[1;34m\u001b[0m\n\u001b[1;32m----> 1\u001b[1;33m \u001b[0mtest8\u001b[0m\u001b[1;33m(\u001b[0m\u001b[1;33m{\u001b[0m\u001b[1;34m\"name\"\u001b[0m\u001b[1;33m:\u001b[0m\u001b[1;36m23\u001b[0m\u001b[1;33m}\u001b[0m\u001b[1;33m)\u001b[0m\u001b[1;33m\u001b[0m\u001b[1;33m\u001b[0m\u001b[0m\n\u001b[0m",
      "\u001b[1;32mC:\\Users\\RUKAIY~1\\AppData\\Local\\Temp/ipykernel_16908/2673244946.py\u001b[0m in \u001b[0;36mtest8\u001b[1;34m(n)\u001b[0m\n\u001b[0;32m      1\u001b[0m \u001b[1;32mdef\u001b[0m \u001b[0mtest8\u001b[0m\u001b[1;33m(\u001b[0m\u001b[0mn\u001b[0m\u001b[1;33m)\u001b[0m\u001b[1;33m:\u001b[0m\u001b[1;33m\u001b[0m\u001b[1;33m\u001b[0m\u001b[0m\n\u001b[1;32m----> 2\u001b[1;33m     \u001b[1;32mreturn\u001b[0m \u001b[0mn\u001b[0m\u001b[1;33m*\u001b[0m\u001b[1;36m2\u001b[0m\u001b[1;33m\u001b[0m\u001b[1;33m\u001b[0m\u001b[0m\n\u001b[0m",
      "\u001b[1;31mTypeError\u001b[0m: unsupported operand type(s) for *: 'dict' and 'int'"
     ]
    }
   ],
   "source": [
    "test8({\"name\":23})#Here as well in dictionary keys are unique"
   ]
  },
  {
   "cell_type": "code",
   "execution_count": 59,
   "id": "153cbe6e",
   "metadata": {},
   "outputs": [
    {
     "data": {
      "text/plain": [
       "'poppop'"
      ]
     },
     "execution_count": 59,
     "metadata": {},
     "output_type": "execute_result"
    }
   ],
   "source": [
    "test8(\"pop\")"
   ]
  },
  {
   "cell_type": "code",
   "execution_count": 60,
   "id": "79d2fede",
   "metadata": {},
   "outputs": [],
   "source": [
    "r=test8([1,2,3])"
   ]
  },
  {
   "cell_type": "code",
   "execution_count": 61,
   "id": "b769d03f",
   "metadata": {},
   "outputs": [
    {
     "data": {
      "text/plain": [
       "1"
      ]
     },
     "execution_count": 61,
     "metadata": {},
     "output_type": "execute_result"
    }
   ],
   "source": [
    "r[0]"
   ]
  },
  {
   "cell_type": "code",
   "execution_count": 71,
   "id": "63711de2",
   "metadata": {},
   "outputs": [
    {
     "data": {
      "text/plain": [
       "[1, 2, 3, 1, 2, 3]"
      ]
     },
     "execution_count": 71,
     "metadata": {},
     "output_type": "execute_result"
    }
   ],
   "source": [
    "r"
   ]
  },
  {
   "cell_type": "code",
   "execution_count": 67,
   "id": "44cc37e4",
   "metadata": {},
   "outputs": [],
   "source": [
    "z=test8((4,7,9))"
   ]
  },
  {
   "cell_type": "code",
   "execution_count": 68,
   "id": "c84b1b36",
   "metadata": {},
   "outputs": [
    {
     "data": {
      "text/plain": [
       "4"
      ]
     },
     "execution_count": 68,
     "metadata": {},
     "output_type": "execute_result"
    }
   ],
   "source": [
    "z[0]"
   ]
  },
  {
   "cell_type": "code",
   "execution_count": 69,
   "id": "89bcfda9",
   "metadata": {},
   "outputs": [
    {
     "data": {
      "text/plain": [
       "4"
      ]
     },
     "execution_count": 69,
     "metadata": {},
     "output_type": "execute_result"
    }
   ],
   "source": [
    "z[3]"
   ]
  },
  {
   "cell_type": "code",
   "execution_count": 70,
   "id": "d9fba574",
   "metadata": {},
   "outputs": [
    {
     "data": {
      "text/plain": [
       "(4, 7, 9, 4, 7, 9)"
      ]
     },
     "execution_count": 70,
     "metadata": {},
     "output_type": "execute_result"
    }
   ],
   "source": [
    "z"
   ]
  },
  {
   "cell_type": "code",
   "execution_count": 72,
   "id": "6912599f",
   "metadata": {},
   "outputs": [
    {
     "data": {
      "text/plain": [
       "tuple"
      ]
     },
     "execution_count": 72,
     "metadata": {},
     "output_type": "execute_result"
    }
   ],
   "source": [
    "type(z)"
   ]
  },
  {
   "cell_type": "code",
   "execution_count": 81,
   "id": "1b87de6b",
   "metadata": {},
   "outputs": [],
   "source": [
    "def boolx(a=True, b=False):\n",
    "    return a+b"
   ]
  },
  {
   "cell_type": "code",
   "execution_count": 82,
   "id": "322b627e",
   "metadata": {},
   "outputs": [
    {
     "data": {
      "text/plain": [
       "1"
      ]
     },
     "execution_count": 82,
     "metadata": {},
     "output_type": "execute_result"
    }
   ],
   "source": [
    "boolx()"
   ]
  },
  {
   "cell_type": "code",
   "execution_count": 84,
   "id": "18981788",
   "metadata": {},
   "outputs": [
    {
     "data": {
      "text/plain": [
       "1"
      ]
     },
     "execution_count": 84,
     "metadata": {},
     "output_type": "execute_result"
    }
   ],
   "source": [
    "boolx(True)"
   ]
  },
  {
   "cell_type": "code",
   "execution_count": 86,
   "id": "fa2ae338",
   "metadata": {},
   "outputs": [
    {
     "data": {
      "text/plain": [
       "0"
      ]
     },
     "execution_count": 86,
     "metadata": {},
     "output_type": "execute_result"
    }
   ],
   "source": [
    "boolx(False)"
   ]
  },
  {
   "cell_type": "code",
   "execution_count": 87,
   "id": "61f424c9",
   "metadata": {},
   "outputs": [
    {
     "data": {
      "text/plain": [
       "1"
      ]
     },
     "execution_count": 87,
     "metadata": {},
     "output_type": "execute_result"
    }
   ],
   "source": [
    "boolx(True,0)#So here True is 1 which is 1+0"
   ]
  },
  {
   "cell_type": "code",
   "execution_count": 91,
   "id": "0e328f2c",
   "metadata": {},
   "outputs": [
    {
     "data": {
      "text/plain": [
       "6"
      ]
     },
     "execution_count": 91,
     "metadata": {},
     "output_type": "execute_result"
    }
   ],
   "source": [
    "boolx(False,6)#So here False is 0 which is 0+6"
   ]
  },
  {
   "cell_type": "markdown",
   "id": "d1ced0a7",
   "metadata": {},
   "source": [
    "The pre assigned values get overwritten so at runtime we can change the pre assigned values and place the desired values needed at that time"
   ]
  },
  {
   "cell_type": "code",
   "execution_count": 92,
   "id": "ee9b796e",
   "metadata": {},
   "outputs": [],
   "source": [
    "def travel(car=True,bike=False):\n",
    "    travel=car or bike\n",
    "    return car,bike,travel"
   ]
  },
  {
   "cell_type": "code",
   "execution_count": 93,
   "id": "999112a0",
   "metadata": {},
   "outputs": [
    {
     "data": {
      "text/plain": [
       "(True, False, True)"
      ]
     },
     "execution_count": 93,
     "metadata": {},
     "output_type": "execute_result"
    }
   ],
   "source": [
    "travel(True)"
   ]
  },
  {
   "cell_type": "code",
   "execution_count": 96,
   "id": "02da10fc",
   "metadata": {},
   "outputs": [
    {
     "data": {
      "text/plain": [
       "(False, False, False)"
      ]
     },
     "execution_count": 96,
     "metadata": {},
     "output_type": "execute_result"
    }
   ],
   "source": [
    "travel(False)#This is by defalut the value assigned to the car"
   ]
  },
  {
   "cell_type": "code",
   "execution_count": 95,
   "id": "61d55f12",
   "metadata": {},
   "outputs": [
    {
     "data": {
      "text/plain": [
       "(True, True, True)"
      ]
     },
     "execution_count": 95,
     "metadata": {},
     "output_type": "execute_result"
    }
   ],
   "source": [
    "travel(bike=True)"
   ]
  },
  {
   "cell_type": "markdown",
   "id": "2c4bb703",
   "metadata": {},
   "source": [
    "## *args?"
   ]
  },
  {
   "cell_type": "code",
   "execution_count": 1,
   "id": "9aa0f620",
   "metadata": {},
   "outputs": [],
   "source": [
    "def r(*args):\n",
    "    return args"
   ]
  },
  {
   "cell_type": "code",
   "execution_count": 3,
   "id": "0b38c941",
   "metadata": {},
   "outputs": [
    {
     "data": {
      "text/plain": [
       "(1, 'ruks', [1, 2, 3], {2, 54}, {'name': 'pop'})"
      ]
     },
     "execution_count": 3,
     "metadata": {},
     "output_type": "execute_result"
    }
   ],
   "source": [
    "r(1,\"ruks\",[1,2,3],{2,54},{'name':'pop'})"
   ]
  },
  {
   "cell_type": "code",
   "execution_count": 110,
   "id": "4f4da4ab",
   "metadata": {},
   "outputs": [],
   "source": [
    "def l(*args):\n",
    "    return list [(args)]"
   ]
  },
  {
   "cell_type": "code",
   "execution_count": 111,
   "id": "539657f4",
   "metadata": {},
   "outputs": [
    {
     "data": {
      "text/plain": [
       "list[[1, 2, 3, 4], [2, 3, 4]]"
      ]
     },
     "execution_count": 111,
     "metadata": {},
     "output_type": "execute_result"
    }
   ],
   "source": [
    "l([1,2,3,4],[2,3,4])"
   ]
  },
  {
   "cell_type": "code",
   "execution_count": 112,
   "id": "02005f2e",
   "metadata": {},
   "outputs": [],
   "source": [
    "def l(*args):\n",
    "    return list(args)"
   ]
  },
  {
   "cell_type": "code",
   "execution_count": 113,
   "id": "75030216",
   "metadata": {},
   "outputs": [
    {
     "data": {
      "text/plain": [
       "[[2, 3, 4], [7, 8, 9, 10], [3, 4, 5, 6]]"
      ]
     },
     "execution_count": 113,
     "metadata": {},
     "output_type": "execute_result"
    }
   ],
   "source": [
    "l([2,3,4],[7,8,9,10],[3,4,5,6])"
   ]
  },
  {
   "cell_type": "markdown",
   "id": "310cb2fb",
   "metadata": {},
   "source": [
    "But we them in one list only not nested lists "
   ]
  },
  {
   "cell_type": "code",
   "execution_count": 137,
   "id": "5125131d",
   "metadata": {},
   "outputs": [],
   "source": [
    "def li(*args):\n",
    "    lis=[]\n",
    "    for i in args:\n",
    "        lis=lis+i\n",
    "    return lis\n",
    "        "
   ]
  },
  {
   "cell_type": "code",
   "execution_count": 138,
   "id": "05a5cfc0",
   "metadata": {},
   "outputs": [
    {
     "data": {
      "text/plain": [
       "[1, 2, 3, 'ruks']"
      ]
     },
     "execution_count": 138,
     "metadata": {},
     "output_type": "execute_result"
    }
   ],
   "source": [
    "li([1,2,3],[\"ruks\"])"
   ]
  },
  {
   "cell_type": "code",
   "execution_count": 160,
   "id": "26e7efd7",
   "metadata": {},
   "outputs": [],
   "source": [
    "def test99(*args):\n",
    "    j=[]\n",
    "    for i in args:\n",
    "        j.append(i)\n",
    "    return j"
   ]
  },
  {
   "cell_type": "code",
   "execution_count": 161,
   "id": "22c4ff85",
   "metadata": {},
   "outputs": [
    {
     "data": {
      "text/plain": [
       "[[1, 2, 3], ['ruks']]"
      ]
     },
     "execution_count": 161,
     "metadata": {},
     "output_type": "execute_result"
    }
   ],
   "source": [
    "test99([1,2,3],[\"ruks\"])"
   ]
  },
  {
   "cell_type": "code",
   "execution_count": 145,
   "id": "8110579e",
   "metadata": {},
   "outputs": [],
   "source": [
    "def test22(*args):\n",
    "    count=0\n",
    "    for i in args:\n",
    "        count=count+i\n",
    "    return count"
   ]
  },
  {
   "cell_type": "code",
   "execution_count": 146,
   "id": "98a9f3e0",
   "metadata": {},
   "outputs": [
    {
     "data": {
      "text/plain": [
       "27"
      ]
     },
     "execution_count": 146,
     "metadata": {},
     "output_type": "execute_result"
    }
   ],
   "source": [
    "test22(3,4,5,4,5,6)"
   ]
  },
  {
   "cell_type": "code",
   "execution_count": 152,
   "id": "020c0f66",
   "metadata": {},
   "outputs": [],
   "source": [
    "def test11(*args):\n",
    "    for i in args:\n",
    "        return type(i)"
   ]
  },
  {
   "cell_type": "code",
   "execution_count": 153,
   "id": "461ec702",
   "metadata": {},
   "outputs": [
    {
     "data": {
      "text/plain": [
       "str"
      ]
     },
     "execution_count": 153,
     "metadata": {},
     "output_type": "execute_result"
    }
   ],
   "source": [
    "test11(\"ruksie\")"
   ]
  },
  {
   "cell_type": "code",
   "execution_count": 154,
   "id": "0ec48e79",
   "metadata": {},
   "outputs": [
    {
     "data": {
      "text/plain": [
       "int"
      ]
     },
     "execution_count": 154,
     "metadata": {},
     "output_type": "execute_result"
    }
   ],
   "source": [
    "test11(3)"
   ]
  },
  {
   "cell_type": "code",
   "execution_count": 155,
   "id": "ba915d67",
   "metadata": {},
   "outputs": [
    {
     "data": {
      "text/plain": [
       "list"
      ]
     },
     "execution_count": 155,
     "metadata": {},
     "output_type": "execute_result"
    }
   ],
   "source": [
    "test11([1,2,3])"
   ]
  },
  {
   "cell_type": "markdown",
   "id": "9a2f868a",
   "metadata": {},
   "source": [
    "### **Kwargs"
   ]
  },
  {
   "cell_type": "code",
   "execution_count": 162,
   "id": "8f7a60bd",
   "metadata": {},
   "outputs": [],
   "source": [
    "def test32(**kwargs):\n",
    "    return kwargs"
   ]
  },
  {
   "cell_type": "code",
   "execution_count": 163,
   "id": "af2c5dc3",
   "metadata": {},
   "outputs": [
    {
     "ename": "SyntaxError",
     "evalue": "invalid syntax (Temp/ipykernel_16908/2006296096.py, line 1)",
     "output_type": "error",
     "traceback": [
      "\u001b[1;36m  File \u001b[1;32m\"C:\\Users\\RUKAIY~1\\AppData\\Local\\Temp/ipykernel_16908/2006296096.py\"\u001b[1;36m, line \u001b[1;32m1\u001b[0m\n\u001b[1;33m    test32(\"name\":\"merchant\")\u001b[0m\n\u001b[1;37m                 ^\u001b[0m\n\u001b[1;31mSyntaxError\u001b[0m\u001b[1;31m:\u001b[0m invalid syntax\n"
     ]
    }
   ],
   "source": [
    "test32(\"name\":\"merchant\")"
   ]
  },
  {
   "cell_type": "code",
   "execution_count": null,
   "id": "b741896a",
   "metadata": {},
   "outputs": [],
   "source": [
    "So what is the actual syntax?"
   ]
  },
  {
   "cell_type": "code",
   "execution_count": 165,
   "id": "fd7727ab",
   "metadata": {},
   "outputs": [
    {
     "data": {
      "text/plain": [
       "{'name': 'Merchant'}"
      ]
     },
     "execution_count": 165,
     "metadata": {},
     "output_type": "execute_result"
    }
   ],
   "source": [
    "test32(name=\"Merchant\")"
   ]
  },
  {
   "cell_type": "markdown",
   "id": "5cb31b03",
   "metadata": {},
   "source": [
    "So here the key is not placed into quotes!!! remember  "
   ]
  },
  {
   "cell_type": "markdown",
   "id": "f68faef2",
   "metadata": {},
   "source": [
    "Here internally the function will create a dictionary and in return will take inputs in the form mentioned above "
   ]
  },
  {
   "cell_type": "code",
   "execution_count": 171,
   "id": "4ecd7610",
   "metadata": {},
   "outputs": [
    {
     "data": {
      "text/plain": [
       "{'v': True, 'l': 'ruksie', 'g': 'Pop'}"
      ]
     },
     "execution_count": 171,
     "metadata": {},
     "output_type": "execute_result"
    }
   ],
   "source": [
    "test32(v= True,l =\"ruksie\",g=\"Pop\")"
   ]
  },
  {
   "cell_type": "markdown",
   "id": "35a5ca68",
   "metadata": {},
   "source": [
    "### Kwargs return everything in the form of dictionary!"
   ]
  },
  {
   "cell_type": "code",
   "execution_count": null,
   "id": "50fde210",
   "metadata": {},
   "outputs": [],
   "source": [
    "Can we pass a dictionary inside it? No"
   ]
  },
  {
   "cell_type": "code",
   "execution_count": 175,
   "id": "5b10e9c6",
   "metadata": {},
   "outputs": [
    {
     "ename": "TypeError",
     "evalue": "test32() takes 0 positional arguments but 1 was given",
     "output_type": "error",
     "traceback": [
      "\u001b[1;31m---------------------------------------------------------------------------\u001b[0m",
      "\u001b[1;31mTypeError\u001b[0m                                 Traceback (most recent call last)",
      "\u001b[1;32mC:\\Users\\RUKAIY~1\\AppData\\Local\\Temp/ipykernel_16908/2248229525.py\u001b[0m in \u001b[0;36m<module>\u001b[1;34m\u001b[0m\n\u001b[1;32m----> 1\u001b[1;33m \u001b[0mtest32\u001b[0m\u001b[1;33m(\u001b[0m\u001b[1;33m{\u001b[0m\u001b[1;34m\"ruksie\"\u001b[0m\u001b[1;33m:\u001b[0m\u001b[1;34m\"hey\"\u001b[0m\u001b[1;33m,\u001b[0m\u001b[1;34m\"pop\"\u001b[0m\u001b[1;33m:\u001b[0m\u001b[1;34m\"hey\"\u001b[0m\u001b[1;33m}\u001b[0m\u001b[1;33m)\u001b[0m\u001b[1;33m\u001b[0m\u001b[1;33m\u001b[0m\u001b[0m\n\u001b[0m",
      "\u001b[1;31mTypeError\u001b[0m: test32() takes 0 positional arguments but 1 was given"
     ]
    }
   ],
   "source": [
    "test32({\"ruksie\":\"hey\",\"pop\":\"hey\"})"
   ]
  },
  {
   "cell_type": "code",
   "execution_count": 176,
   "id": "d976f18f",
   "metadata": {},
   "outputs": [
    {
     "data": {
      "text/plain": [
       "{'a': 2, 'b': 7, 'c': 9, 'd': 89}"
      ]
     },
     "execution_count": 176,
     "metadata": {},
     "output_type": "execute_result"
    }
   ],
   "source": [
    "test32(a=2,b=7,c=9,d=89)"
   ]
  },
  {
   "cell_type": "code",
   "execution_count": 177,
   "id": "847d19d8",
   "metadata": {},
   "outputs": [],
   "source": [
    "def mul(*args):\n",
    "    j={}\n",
    "    for i in args:\n",
    "        if type(i) in l:\n",
    "            l[type(i)].append(i)\n",
    "        else:\n",
    "            l[type(i)]=[i]\n",
    "        return l"
   ]
  },
  {
   "cell_type": "code",
   "execution_count": 10,
   "id": "ae615b5a",
   "metadata": {},
   "outputs": [],
   "source": [
    "def lstr(**kwargs):\n",
    "    for i in kwargs.items():\n",
    "        if type(i[1])==list:\n",
    "            for j in i[1]:\n",
    "                if type(j)==str:\n",
    "                    print(\"The string\",j,\"is found in\",i[1])\n",
    "    return kwargs"
   ]
  },
  {
   "cell_type": "code",
   "execution_count": 11,
   "id": "a4ce177d",
   "metadata": {},
   "outputs": [
    {
     "name": "stdout",
     "output_type": "stream",
     "text": [
      "The string lol is found in [4, 5, 6, 'lol']\n",
      "The string sudh is found in ['sudh', 'kumar']\n",
      "The string kumar is found in ['sudh', 'kumar']\n"
     ]
    },
    {
     "data": {
      "text/plain": [
       "{'b': 6, 'c': [4, 5, 6, 'lol'], 'd': ['sudh', 'kumar'], 'n': (6+7j)}"
      ]
     },
     "execution_count": 11,
     "metadata": {},
     "output_type": "execute_result"
    }
   ],
   "source": [
    "lstr(b=6,c=[4,5,6,\"lol\"],d=[\"sudh\",\"kumar\"],n=6+7j)"
   ]
  },
  {
   "cell_type": "code",
   "execution_count": 12,
   "id": "c69f14e6",
   "metadata": {},
   "outputs": [
    {
     "name": "stdout",
     "output_type": "stream",
     "text": [
      "The string Ruksie is found in ['Ruksie', 24, 'F']\n",
      "The string F is found in ['Ruksie', 24, 'F']\n",
      "The string Jamnagar is found in [1, 2, 'Jamnagar']\n",
      "The string Juinagar is found in [2, 34, 'Juinagar']\n"
     ]
    },
    {
     "data": {
      "text/plain": [
       "{'name': ['Ruksie', 24, 'F'],\n",
       " 'birth': [1, 2, 'Jamnagar'],\n",
       " 'v': 23,\n",
       " 's': [2, 34, 'Juinagar']}"
      ]
     },
     "execution_count": 12,
     "metadata": {},
     "output_type": "execute_result"
    }
   ],
   "source": [
    "lstr(name=[\"Ruksie\",24,\"F\"],birth=[1,2,\"Jamnagar\"],v=23,s=[2,34,\"Juinagar\"])"
   ]
  },
  {
   "cell_type": "code",
   "execution_count": 7,
   "id": "db89bbb1",
   "metadata": {},
   "outputs": [],
   "source": [
    "l=[]\n",
    "def test19(**kwargs):\n",
    "    for i in kwargs.items():\n",
    "        if type(i[1])==list:\n",
    "            for j in i[1]:\n",
    "                if type(j)==str:\n",
    "                    print(\"We found\",j,\"inside\",i[1])"
   ]
  },
  {
   "cell_type": "code",
   "execution_count": 8,
   "id": "6344b258",
   "metadata": {},
   "outputs": [
    {
     "name": "stdout",
     "output_type": "stream",
     "text": [
      "We found lol inside [4, 5, 6, 'lol']\n",
      "We found sudh inside ['sudh', 'kumar']\n",
      "We found kumar inside ['sudh', 'kumar']\n"
     ]
    }
   ],
   "source": [
    "test19(b=6,c=[4,5,6,\"lol\"],d=[\"sudh\",\"kumar\"],n=6+7j)"
   ]
  },
  {
   "cell_type": "code",
   "execution_count": null,
   "id": "03e8d67c",
   "metadata": {},
   "outputs": [],
   "source": []
  }
 ],
 "metadata": {
  "kernelspec": {
   "display_name": "Python 3 (ipykernel)",
   "language": "python",
   "name": "python3"
  },
  "language_info": {
   "codemirror_mode": {
    "name": "ipython",
    "version": 3
   },
   "file_extension": ".py",
   "mimetype": "text/x-python",
   "name": "python",
   "nbconvert_exporter": "python",
   "pygments_lexer": "ipython3",
   "version": "3.9.7"
  }
 },
 "nbformat": 4,
 "nbformat_minor": 5
}
