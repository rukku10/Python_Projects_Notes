{
 "cells": [
  {
   "cell_type": "code",
   "execution_count": null,
   "id": "ff2ea13d",
   "metadata": {},
   "outputs": [],
   "source": [
    "Functions?\n",
    "In pythons one of the important concept is functions\n",
    "In modular coding we need functions\n",
    "Function creates reusability and function is something that is more readable we can divide set of code into modules.\n",
    "\n",
    "Pre Defined functions\n",
    "type()\n",
    "len()\n"
   ]
  },
  {
   "cell_type": "markdown",
   "id": "12c4d5f1",
   "metadata": {},
   "source": [
    "### def-Its a keyword in Python that denotes DEFINE   return is a keyword too and helps us perform premitive function like eg: test2(2,3)+1"
   ]
  },
  {
   "cell_type": "markdown",
   "id": "4cd0df15",
   "metadata": {},
   "source": [
    "test(a,b) -This is a function created and a and b are the arguments that were passed in them."
   ]
  },
  {
   "cell_type": "markdown",
   "id": "61bf3c38",
   "metadata": {},
   "source": [
    "### How to create a function"
   ]
  },
  {
   "cell_type": "markdown",
   "id": "bab9c4a0",
   "metadata": {},
   "source": [
    "Function name can be anything your name my name etc...."
   ]
  },
  {
   "cell_type": "code",
   "execution_count": 63,
   "id": "4172d4ed",
   "metadata": {},
   "outputs": [],
   "source": [
    "def test(a,b):\n",
    "    print(a+b)"
   ]
  },
  {
   "cell_type": "markdown",
   "id": "56b1c170",
   "metadata": {},
   "source": [
    "### So how to Call the function "
   ]
  },
  {
   "cell_type": "code",
   "execution_count": 64,
   "id": "c988b017",
   "metadata": {},
   "outputs": [
    {
     "name": "stdout",
     "output_type": "stream",
     "text": [
      "5\n"
     ]
    }
   ],
   "source": [
    "test(2,3)"
   ]
  },
  {
   "cell_type": "markdown",
   "id": "e3d1f69e",
   "metadata": {},
   "source": [
    "SO now,"
   ]
  },
  {
   "cell_type": "code",
   "execution_count": 65,
   "id": "33bbdc7a",
   "metadata": {},
   "outputs": [],
   "source": [
    "def test1(a,b):\n",
    "    return a * b"
   ]
  },
  {
   "cell_type": "code",
   "execution_count": 66,
   "id": "0ffdc66a",
   "metadata": {},
   "outputs": [
    {
     "data": {
      "text/plain": [
       "15"
      ]
     },
     "execution_count": 66,
     "metadata": {},
     "output_type": "execute_result"
    }
   ],
   "source": [
    "test1(3,5)"
   ]
  },
  {
   "cell_type": "markdown",
   "id": "9df1b0b2",
   "metadata": {},
   "source": [
    "### Difference between the two?? So here if we add 15 to both the types where once we have used print and the other place we have used return keyword"
   ]
  },
  {
   "cell_type": "code",
   "execution_count": 67,
   "id": "2947f094",
   "metadata": {},
   "outputs": [],
   "source": [
    "def test2(a,b):\n",
    "    print(a+b)"
   ]
  },
  {
   "cell_type": "code",
   "execution_count": 68,
   "id": "d0765721",
   "metadata": {},
   "outputs": [
    {
     "name": "stdout",
     "output_type": "stream",
     "text": [
      "5\n"
     ]
    },
    {
     "ename": "TypeError",
     "evalue": "unsupported operand type(s) for +: 'NoneType' and 'int'",
     "output_type": "error",
     "traceback": [
      "\u001b[1;31m---------------------------------------------------------------------------\u001b[0m",
      "\u001b[1;31mTypeError\u001b[0m                                 Traceback (most recent call last)",
      "\u001b[1;32mC:\\Users\\RUKAIY~1\\AppData\\Local\\Temp/ipykernel_25568/2737374167.py\u001b[0m in \u001b[0;36m<module>\u001b[1;34m\u001b[0m\n\u001b[1;32m----> 1\u001b[1;33m \u001b[0mtest2\u001b[0m\u001b[1;33m(\u001b[0m\u001b[1;36m2\u001b[0m\u001b[1;33m,\u001b[0m\u001b[1;36m3\u001b[0m\u001b[1;33m)\u001b[0m\u001b[1;33m+\u001b[0m\u001b[1;36m1\u001b[0m\u001b[1;33m\u001b[0m\u001b[1;33m\u001b[0m\u001b[0m\n\u001b[0m",
      "\u001b[1;31mTypeError\u001b[0m: unsupported operand type(s) for +: 'NoneType' and 'int'"
     ]
    }
   ],
   "source": [
    "test2(2,3)+1"
   ]
  },
  {
   "cell_type": "code",
   "execution_count": 69,
   "id": "b9a12358",
   "metadata": {},
   "outputs": [],
   "source": [
    "def test3(a,b):\n",
    "    return a+b"
   ]
  },
  {
   "cell_type": "code",
   "execution_count": 70,
   "id": "26a66aa7",
   "metadata": {},
   "outputs": [
    {
     "data": {
      "text/plain": [
       "35"
      ]
     },
     "execution_count": 70,
     "metadata": {},
     "output_type": "execute_result"
    }
   ],
   "source": [
    "test3(2,8)+25"
   ]
  },
  {
   "cell_type": "markdown",
   "id": "e8fc61bc",
   "metadata": {},
   "source": [
    "So for the above to get cleared let me check the datatype"
   ]
  },
  {
   "cell_type": "code",
   "execution_count": 71,
   "id": "5839c624",
   "metadata": {
    "scrolled": true
   },
   "outputs": [
    {
     "name": "stdout",
     "output_type": "stream",
     "text": [
      "5\n"
     ]
    },
    {
     "data": {
      "text/plain": [
       "NoneType"
      ]
     },
     "execution_count": 71,
     "metadata": {},
     "output_type": "execute_result"
    }
   ],
   "source": [
    "type(test2(2,3))"
   ]
  },
  {
   "cell_type": "markdown",
   "id": "e527c943",
   "metadata": {},
   "source": [
    "### What is NONE TYPE?\n",
    "DEFINITION: \n",
    "The None keyword is used to define a null value, or no value at all. None is not the same as 0, False, or an empty string. None is a data type of its own (NoneType) and only None can be None."
   ]
  },
  {
   "cell_type": "markdown",
   "id": "e3d27f86",
   "metadata": {},
   "source": [
    "So for the above example in test2 we are getting the datatype as None type and hence we cannot perform any operations on the above data\n"
   ]
  },
  {
   "cell_type": "code",
   "execution_count": 72,
   "id": "0661734c",
   "metadata": {
    "scrolled": true
   },
   "outputs": [
    {
     "data": {
      "text/plain": [
       "int"
      ]
     },
     "execution_count": 72,
     "metadata": {},
     "output_type": "execute_result"
    }
   ],
   "source": [
    "type(test3(2,8))"
   ]
  },
  {
   "cell_type": "raw",
   "id": "64b36992",
   "metadata": {},
   "source": [
    "Wherein here for the above example if return type is giving me int as a data type we can ADD a number to an integer right??!!\n",
    "Hence we are able to perform the following here"
   ]
  },
  {
   "cell_type": "markdown",
   "id": "c69a435a",
   "metadata": {},
   "source": [
    "### So, return keyword will always give the same datatype as the operations it has been assigned \n",
    "Suppose it has been assigned int operation then it will throw int datatype to us!!!"
   ]
  },
  {
   "cell_type": "markdown",
   "id": "847411fa",
   "metadata": {},
   "source": [
    "## UNDERSTAND THIS CAREFULLY\n"
   ]
  },
  {
   "cell_type": "markdown",
   "id": "46968011",
   "metadata": {},
   "source": [
    "### PART 1"
   ]
  },
  {
   "cell_type": "code",
   "execution_count": 73,
   "id": "69b7814d",
   "metadata": {},
   "outputs": [
    {
     "name": "stdout",
     "output_type": "stream",
     "text": [
      "5\n"
     ]
    }
   ],
   "source": [
    "b=test2(2,3)"
   ]
  },
  {
   "cell_type": "code",
   "execution_count": 74,
   "id": "f2c6cb59",
   "metadata": {},
   "outputs": [],
   "source": [
    "b #When trying to print this one we get absolute no answers"
   ]
  },
  {
   "cell_type": "code",
   "execution_count": 75,
   "id": "fa4a1339",
   "metadata": {},
   "outputs": [
    {
     "ename": "TypeError",
     "evalue": "unsupported operand type(s) for +: 'NoneType' and 'int'",
     "output_type": "error",
     "traceback": [
      "\u001b[1;31m---------------------------------------------------------------------------\u001b[0m",
      "\u001b[1;31mTypeError\u001b[0m                                 Traceback (most recent call last)",
      "\u001b[1;32mC:\\Users\\RUKAIY~1\\AppData\\Local\\Temp/ipykernel_25568/3003370508.py\u001b[0m in \u001b[0;36m<module>\u001b[1;34m\u001b[0m\n\u001b[1;32m----> 1\u001b[1;33m \u001b[0mb\u001b[0m\u001b[1;33m+\u001b[0m\u001b[1;36m1\u001b[0m \u001b[1;31m#WHen we add it gives us an error stating---- unsupported operand type(s) for +: 'NoneType' and 'int'\u001b[0m\u001b[1;33m\u001b[0m\u001b[1;33m\u001b[0m\u001b[0m\n\u001b[0m",
      "\u001b[1;31mTypeError\u001b[0m: unsupported operand type(s) for +: 'NoneType' and 'int'"
     ]
    }
   ],
   "source": [
    "b+1 #WHen we add it gives us an error stating---- unsupported operand type(s) for +: 'NoneType' and 'int'\n"
   ]
  },
  {
   "cell_type": "code",
   "execution_count": 76,
   "id": "f4552944",
   "metadata": {},
   "outputs": [
    {
     "data": {
      "text/plain": [
       "NoneType"
      ]
     },
     "execution_count": 76,
     "metadata": {},
     "output_type": "execute_result"
    }
   ],
   "source": [
    "type(b) #Because type of b is NONETYPE"
   ]
  },
  {
   "cell_type": "markdown",
   "id": "4f5dfd56",
   "metadata": {},
   "source": [
    "### PART 2"
   ]
  },
  {
   "cell_type": "code",
   "execution_count": 77,
   "id": "50d926b3",
   "metadata": {},
   "outputs": [],
   "source": [
    "c=test3(2,3)"
   ]
  },
  {
   "cell_type": "code",
   "execution_count": 78,
   "id": "8a9c913d",
   "metadata": {},
   "outputs": [
    {
     "data": {
      "text/plain": [
       "5"
      ]
     },
     "execution_count": 78,
     "metadata": {},
     "output_type": "execute_result"
    }
   ],
   "source": [
    "c #Here it is allowing us to get an output since it is an integer type data"
   ]
  },
  {
   "cell_type": "code",
   "execution_count": 79,
   "id": "174ad41f",
   "metadata": {},
   "outputs": [
    {
     "data": {
      "text/plain": [
       "13"
      ]
     },
     "execution_count": 79,
     "metadata": {},
     "output_type": "execute_result"
    }
   ],
   "source": [
    "c+8#Here it is allowing to add numbers to the integer datatype"
   ]
  },
  {
   "cell_type": "code",
   "execution_count": 80,
   "id": "521e4f16",
   "metadata": {},
   "outputs": [
    {
     "data": {
      "text/plain": [
       "int"
      ]
     },
     "execution_count": 80,
     "metadata": {},
     "output_type": "execute_result"
    }
   ],
   "source": [
    "type(c)"
   ]
  },
  {
   "cell_type": "markdown",
   "id": "51eb9724",
   "metadata": {},
   "source": [
    "### Return allows us to perform premitive function like eg c+8 so dont us print function at all and we only use return keyword"
   ]
  },
  {
   "cell_type": "markdown",
   "id": "51ada627",
   "metadata": {},
   "source": [
    "## ONLY suppose to use RETURN keyword!! ALwaysss"
   ]
  },
  {
   "cell_type": "code",
   "execution_count": 81,
   "id": "4defecea",
   "metadata": {},
   "outputs": [],
   "source": [
    "#So now\n",
    "def test4(a,b,c):\n",
    "    return a + b"
   ]
  },
  {
   "cell_type": "code",
   "execution_count": 83,
   "id": "ff5b4440",
   "metadata": {},
   "outputs": [
    {
     "ename": "TypeError",
     "evalue": "test4() missing 1 required positional argument: 'c'",
     "output_type": "error",
     "traceback": [
      "\u001b[1;31m---------------------------------------------------------------------------\u001b[0m",
      "\u001b[1;31mTypeError\u001b[0m                                 Traceback (most recent call last)",
      "\u001b[1;32mC:\\Users\\RUKAIY~1\\AppData\\Local\\Temp/ipykernel_25568/1188878116.py\u001b[0m in \u001b[0;36m<module>\u001b[1;34m\u001b[0m\n\u001b[1;32m----> 1\u001b[1;33m \u001b[0mtest4\u001b[0m\u001b[1;33m(\u001b[0m\u001b[1;36m2\u001b[0m\u001b[1;33m,\u001b[0m\u001b[1;36m4\u001b[0m\u001b[1;33m)\u001b[0m\u001b[1;31m#Here an error because the signatured def wants 3 arguments as it has defined (a,b,c) right? Henc ethe error\u001b[0m\u001b[1;33m\u001b[0m\u001b[1;33m\u001b[0m\u001b[0m\n\u001b[0m",
      "\u001b[1;31mTypeError\u001b[0m: test4() missing 1 required positional argument: 'c'"
     ]
    }
   ],
   "source": [
    "test4(2,4)#Here an error because the signatured def wants 3 arguments as it has defined (a,b,c) right? Henc ethe error "
   ]
  },
  {
   "cell_type": "code",
   "execution_count": 86,
   "id": "f04955aa",
   "metadata": {},
   "outputs": [
    {
     "data": {
      "text/plain": [
       "11"
      ]
     },
     "execution_count": 86,
     "metadata": {},
     "output_type": "execute_result"
    }
   ],
   "source": [
    "test4(5,6,7)#But here it has only summed up a+b and not c"
   ]
  },
  {
   "cell_type": "markdown",
   "id": "bf671b3b",
   "metadata": {},
   "source": [
    "#### So now!"
   ]
  },
  {
   "cell_type": "code",
   "execution_count": 92,
   "id": "a4f66997",
   "metadata": {},
   "outputs": [],
   "source": [
    "def test5(n,m):\n",
    "    return n*10, m*10, m+n"
   ]
  },
  {
   "cell_type": "code",
   "execution_count": 95,
   "id": "397d13c6",
   "metadata": {},
   "outputs": [
    {
     "data": {
      "text/plain": [
       "(50, 60, 11)"
      ]
     },
     "execution_count": 95,
     "metadata": {},
     "output_type": "execute_result"
    }
   ],
   "source": [
    "test5(5,6) # See clearly what all is happening!"
   ]
  },
  {
   "cell_type": "markdown",
   "id": "7e7b2388",
   "metadata": {},
   "source": [
    "### Here we are getting in return a tuple as a datatype which is by default"
   ]
  },
  {
   "cell_type": "code",
   "execution_count": 96,
   "id": "9a041295",
   "metadata": {},
   "outputs": [
    {
     "data": {
      "text/plain": [
       "tuple"
      ]
     },
     "execution_count": 96,
     "metadata": {},
     "output_type": "execute_result"
    }
   ],
   "source": [
    "#Check the type?\n",
    "type(test5(5,6))"
   ]
  },
  {
   "cell_type": "markdown",
   "id": "a05b7190",
   "metadata": {},
   "source": [
    "#### Now if we want the output of all these in 3 different variables how do we manage that?"
   ]
  },
  {
   "cell_type": "code",
   "execution_count": 110,
   "id": "41dd96c1",
   "metadata": {},
   "outputs": [],
   "source": [
    "r,t,u=test5(2,3)#So this is clearly how you define three variables here and that will return the output respectively"
   ]
  },
  {
   "cell_type": "code",
   "execution_count": 111,
   "id": "5749a5d7",
   "metadata": {},
   "outputs": [
    {
     "data": {
      "text/plain": [
       "20"
      ]
     },
     "execution_count": 111,
     "metadata": {},
     "output_type": "execute_result"
    }
   ],
   "source": [
    "r"
   ]
  },
  {
   "cell_type": "code",
   "execution_count": 108,
   "id": "638b553f",
   "metadata": {},
   "outputs": [
    {
     "data": {
      "text/plain": [
       "30"
      ]
     },
     "execution_count": 108,
     "metadata": {},
     "output_type": "execute_result"
    }
   ],
   "source": [
    "t"
   ]
  },
  {
   "cell_type": "code",
   "execution_count": 109,
   "id": "e46a23eb",
   "metadata": {},
   "outputs": [
    {
     "data": {
      "text/plain": [
       "5"
      ]
     },
     "execution_count": 109,
     "metadata": {},
     "output_type": "execute_result"
    }
   ],
   "source": [
    "u"
   ]
  },
  {
   "cell_type": "markdown",
   "id": "98053080",
   "metadata": {},
   "source": [
    "So, technically there are functions that'll give you multiple returns helpfull in deep learning!"
   ]
  },
  {
   "cell_type": "markdown",
   "id": "edd2ac7f",
   "metadata": {},
   "source": [
    "Now instead of all the three returns we only want two i.e n*10 and m*10?"
   ]
  },
  {
   "cell_type": "code",
   "execution_count": 118,
   "id": "f1053a57",
   "metadata": {},
   "outputs": [],
   "source": [
    "d,f, _ =test5(8,9) "
   ]
  },
  {
   "cell_type": "markdown",
   "id": "5d428f18",
   "metadata": {},
   "source": [
    "#### NOTE: _ i.e underscore is a place holder not a variable name "
   ]
  },
  {
   "cell_type": "code",
   "execution_count": 119,
   "id": "f38de4a5",
   "metadata": {},
   "outputs": [
    {
     "data": {
      "text/plain": [
       "80"
      ]
     },
     "execution_count": 119,
     "metadata": {},
     "output_type": "execute_result"
    }
   ],
   "source": [
    "d"
   ]
  },
  {
   "cell_type": "code",
   "execution_count": 120,
   "id": "c7322996",
   "metadata": {},
   "outputs": [
    {
     "data": {
      "text/plain": [
       "90"
      ]
     },
     "execution_count": 120,
     "metadata": {},
     "output_type": "execute_result"
    }
   ],
   "source": [
    "f"
   ]
  },
  {
   "cell_type": "code",
   "execution_count": 245,
   "id": "3bb64ef4",
   "metadata": {},
   "outputs": [
    {
     "data": {
      "text/plain": [
       "0"
      ]
     },
     "execution_count": 245,
     "metadata": {},
     "output_type": "execute_result"
    }
   ],
   "source": [
    "_"
   ]
  },
  {
   "cell_type": "markdown",
   "id": "762e4c56",
   "metadata": {},
   "source": [
    "What if we don't place the place holder??"
   ]
  },
  {
   "cell_type": "code",
   "execution_count": 246,
   "id": "6f14e981",
   "metadata": {},
   "outputs": [
    {
     "ename": "ValueError",
     "evalue": "too many values to unpack (expected 2)",
     "output_type": "error",
     "traceback": [
      "\u001b[1;31m---------------------------------------------------------------------------\u001b[0m",
      "\u001b[1;31mValueError\u001b[0m                                Traceback (most recent call last)",
      "\u001b[1;32mC:\\Users\\RUKAIY~1\\AppData\\Local\\Temp/ipykernel_25568/268137049.py\u001b[0m in \u001b[0;36m<module>\u001b[1;34m\u001b[0m\n\u001b[1;32m----> 1\u001b[1;33m \u001b[0mb\u001b[0m\u001b[1;33m,\u001b[0m\u001b[0mv\u001b[0m\u001b[1;33m=\u001b[0m\u001b[0mtest5\u001b[0m\u001b[1;33m(\u001b[0m\u001b[1;36m5\u001b[0m\u001b[1;33m,\u001b[0m\u001b[1;36m6\u001b[0m\u001b[1;33m)\u001b[0m\u001b[1;31m#Error since there is nothing to hold the third data!!\u001b[0m\u001b[1;33m\u001b[0m\u001b[1;33m\u001b[0m\u001b[0m\n\u001b[0m",
      "\u001b[1;31mValueError\u001b[0m: too many values to unpack (expected 2)"
     ]
    }
   ],
   "source": [
    "b,v=test5(5,6)#Error since there is nothing to hold the third data!!"
   ]
  },
  {
   "cell_type": "markdown",
   "id": "6d5fce3e",
   "metadata": {},
   "source": [
    "Here for the above it gives an error becuase there are three values to be returned and only two variables are assigned\n",
    "Here it is our duty to assigned proper number of variable or place holders for us to get a required output"
   ]
  },
  {
   "cell_type": "code",
   "execution_count": 247,
   "id": "21eb06c7",
   "metadata": {},
   "outputs": [],
   "source": [
    "g,_,_=test5(8,9) "
   ]
  },
  {
   "cell_type": "markdown",
   "id": "13b1bdd0",
   "metadata": {},
   "source": [
    "So here if there is a placeholder that means no variable is assigned to it! Hence it gets confused"
   ]
  },
  {
   "cell_type": "code",
   "execution_count": 248,
   "id": "75e63b99",
   "metadata": {},
   "outputs": [
    {
     "data": {
      "text/plain": [
       "80"
      ]
     },
     "execution_count": 248,
     "metadata": {},
     "output_type": "execute_result"
    }
   ],
   "source": [
    "g"
   ]
  },
  {
   "cell_type": "code",
   "execution_count": 249,
   "id": "79738f99",
   "metadata": {},
   "outputs": [
    {
     "data": {
      "text/plain": [
       "17"
      ]
     },
     "execution_count": 249,
     "metadata": {},
     "output_type": "execute_result"
    }
   ],
   "source": [
    "_"
   ]
  },
  {
   "cell_type": "code",
   "execution_count": 250,
   "id": "018129a4",
   "metadata": {},
   "outputs": [
    {
     "data": {
      "text/plain": [
       "17"
      ]
     },
     "execution_count": 250,
     "metadata": {},
     "output_type": "execute_result"
    }
   ],
   "source": [
    "_"
   ]
  },
  {
   "cell_type": "code",
   "execution_count": 251,
   "id": "b728e4a8",
   "metadata": {},
   "outputs": [],
   "source": [
    "#So again,\n",
    "def test4(a,b,c):\n",
    "    return a + b\n",
    "    return b + c"
   ]
  },
  {
   "cell_type": "code",
   "execution_count": 252,
   "id": "cb266ed0",
   "metadata": {},
   "outputs": [
    {
     "data": {
      "text/plain": [
       "17"
      ]
     },
     "execution_count": 252,
     "metadata": {},
     "output_type": "execute_result"
    }
   ],
   "source": [
    "test4(8,9,7)"
   ]
  },
  {
   "cell_type": "markdown",
   "id": "31f5f086",
   "metadata": {},
   "source": [
    "So here it is not able to evaluate the second data"
   ]
  },
  {
   "cell_type": "markdown",
   "id": "d5bd7800",
   "metadata": {},
   "source": [
    "Now next,"
   ]
  },
  {
   "cell_type": "code",
   "execution_count": 253,
   "id": "2bec7bb9",
   "metadata": {},
   "outputs": [],
   "source": [
    "def test6():\n",
    "    print(\"This is the first example of a string!\")"
   ]
  },
  {
   "cell_type": "code",
   "execution_count": 254,
   "id": "9b935096",
   "metadata": {
    "scrolled": true
   },
   "outputs": [
    {
     "name": "stdout",
     "output_type": "stream",
     "text": [
      "This is the first example of a string!\n"
     ]
    },
    {
     "ename": "TypeError",
     "evalue": "unsupported operand type(s) for +: 'NoneType' and 'str'",
     "output_type": "error",
     "traceback": [
      "\u001b[1;31m---------------------------------------------------------------------------\u001b[0m",
      "\u001b[1;31mTypeError\u001b[0m                                 Traceback (most recent call last)",
      "\u001b[1;32mC:\\Users\\RUKAIY~1\\AppData\\Local\\Temp/ipykernel_25568/998565993.py\u001b[0m in \u001b[0;36m<module>\u001b[1;34m\u001b[0m\n\u001b[1;32m----> 1\u001b[1;33m \u001b[0mtest6\u001b[0m\u001b[1;33m(\u001b[0m\u001b[1;33m)\u001b[0m\u001b[1;33m+\u001b[0m\u001b[1;34m\"Heyy\"\u001b[0m\u001b[1;33m\u001b[0m\u001b[1;33m\u001b[0m\u001b[0m\n\u001b[0m",
      "\u001b[1;31mTypeError\u001b[0m: unsupported operand type(s) for +: 'NoneType' and 'str'"
     ]
    }
   ],
   "source": [
    "test6()+\"Heyy\""
   ]
  },
  {
   "cell_type": "code",
   "execution_count": 255,
   "id": "c96bcb40",
   "metadata": {},
   "outputs": [
    {
     "name": "stdout",
     "output_type": "stream",
     "text": [
      "This is the first example of a string!\n"
     ]
    },
    {
     "ename": "TypeError",
     "evalue": "unsupported operand type(s) for +: 'NoneType' and 'int'",
     "output_type": "error",
     "traceback": [
      "\u001b[1;31m---------------------------------------------------------------------------\u001b[0m",
      "\u001b[1;31mTypeError\u001b[0m                                 Traceback (most recent call last)",
      "\u001b[1;32mC:\\Users\\RUKAIY~1\\AppData\\Local\\Temp/ipykernel_25568/2359432990.py\u001b[0m in \u001b[0;36m<module>\u001b[1;34m\u001b[0m\n\u001b[1;32m----> 1\u001b[1;33m \u001b[0mtest6\u001b[0m\u001b[1;33m(\u001b[0m\u001b[1;33m)\u001b[0m\u001b[1;33m+\u001b[0m\u001b[1;36m2\u001b[0m \u001b[1;31m#Will give an error based on what we explained in the previous examples\u001b[0m\u001b[1;33m\u001b[0m\u001b[1;33m\u001b[0m\u001b[0m\n\u001b[0m",
      "\u001b[1;31mTypeError\u001b[0m: unsupported operand type(s) for +: 'NoneType' and 'int'"
     ]
    }
   ],
   "source": [
    "test6()+2 #Will give an error based on what we explained in the previous examples"
   ]
  },
  {
   "cell_type": "markdown",
   "id": "81d29994",
   "metadata": {},
   "source": [
    "But now,"
   ]
  },
  {
   "cell_type": "code",
   "execution_count": 256,
   "id": "9773d8af",
   "metadata": {},
   "outputs": [],
   "source": [
    "def test7():\n",
    "    return \"This is another string example\""
   ]
  },
  {
   "cell_type": "code",
   "execution_count": 257,
   "id": "f0b1cbfc",
   "metadata": {},
   "outputs": [
    {
     "data": {
      "text/plain": [
       "'This is another string example'"
      ]
     },
     "execution_count": 257,
     "metadata": {},
     "output_type": "execute_result"
    }
   ],
   "source": [
    "test7()"
   ]
  },
  {
   "cell_type": "code",
   "execution_count": 258,
   "id": "13fb6ba9",
   "metadata": {
    "scrolled": true
   },
   "outputs": [
    {
     "data": {
      "text/plain": [
       "'This is another string exampleHeyyyyyyy'"
      ]
     },
     "execution_count": 258,
     "metadata": {},
     "output_type": "execute_result"
    }
   ],
   "source": [
    "test7()+\"Heyyyyyyy\""
   ]
  },
  {
   "cell_type": "markdown",
   "id": "ada06414",
   "metadata": {},
   "source": [
    "So in the above this gets added but can we concatenate a string to an integer ???\n"
   ]
  },
  {
   "cell_type": "code",
   "execution_count": 259,
   "id": "33b19372",
   "metadata": {},
   "outputs": [
    {
     "ename": "TypeError",
     "evalue": "can only concatenate str (not \"int\") to str",
     "output_type": "error",
     "traceback": [
      "\u001b[1;31m---------------------------------------------------------------------------\u001b[0m",
      "\u001b[1;31mTypeError\u001b[0m                                 Traceback (most recent call last)",
      "\u001b[1;32mC:\\Users\\RUKAIY~1\\AppData\\Local\\Temp/ipykernel_25568/3599615559.py\u001b[0m in \u001b[0;36m<module>\u001b[1;34m\u001b[0m\n\u001b[1;32m----> 1\u001b[1;33m \u001b[0mtest7\u001b[0m\u001b[1;33m(\u001b[0m \u001b[1;33m)\u001b[0m\u001b[1;33m+\u001b[0m\u001b[1;36m8\u001b[0m\u001b[1;33m\u001b[0m\u001b[1;33m\u001b[0m\u001b[0m\n\u001b[0m",
      "\u001b[1;31mTypeError\u001b[0m: can only concatenate str (not \"int\") to str"
     ]
    }
   ],
   "source": [
    "test7( )+8"
   ]
  },
  {
   "cell_type": "markdown",
   "id": "f89c28d9",
   "metadata": {},
   "source": [
    "### NO! can only concatenate str (not \"int\") to str"
   ]
  },
  {
   "cell_type": "code",
   "execution_count": 260,
   "id": "14603918",
   "metadata": {},
   "outputs": [],
   "source": [
    "def ex(n):\n",
    "    return n*2"
   ]
  },
  {
   "cell_type": "markdown",
   "id": "402cbea5",
   "metadata": {},
   "source": [
    "So basically if we take a list [2,3,4] where n denotes the list then return n*2 will get the below desired output!"
   ]
  },
  {
   "cell_type": "code",
   "execution_count": 261,
   "id": "36126b29",
   "metadata": {},
   "outputs": [
    {
     "data": {
      "text/plain": [
       "[2, 3, 4, 2, 3, 4]"
      ]
     },
     "execution_count": 261,
     "metadata": {},
     "output_type": "execute_result"
    }
   ],
   "source": [
    "ex([2,3,4])"
   ]
  },
  {
   "cell_type": "markdown",
   "id": "12336f31",
   "metadata": {},
   "source": [
    "But also here if n = a single number then see the results"
   ]
  },
  {
   "cell_type": "code",
   "execution_count": 262,
   "id": "f48dd319",
   "metadata": {},
   "outputs": [
    {
     "data": {
      "text/plain": [
       "50"
      ]
     },
     "execution_count": 262,
     "metadata": {},
     "output_type": "execute_result"
    }
   ],
   "source": [
    "ex(25)"
   ]
  },
  {
   "cell_type": "code",
   "execution_count": 263,
   "id": "4af0062f",
   "metadata": {},
   "outputs": [],
   "source": [
    "def test8(n):\n",
    "    return n,n*3"
   ]
  },
  {
   "cell_type": "code",
   "execution_count": 264,
   "id": "0a433357",
   "metadata": {},
   "outputs": [
    {
     "data": {
      "text/plain": [
       "([7, 5, 2, 4, 6], [7, 5, 2, 4, 6, 7, 5, 2, 4, 6, 7, 5, 2, 4, 6])"
      ]
     },
     "execution_count": 264,
     "metadata": {},
     "output_type": "execute_result"
    }
   ],
   "source": [
    "test8([7,5,2,4,6])"
   ]
  },
  {
   "cell_type": "code",
   "execution_count": 265,
   "id": "e343b979",
   "metadata": {},
   "outputs": [],
   "source": [
    "c=test8([7,5,2,4,6])"
   ]
  },
  {
   "cell_type": "code",
   "execution_count": 266,
   "id": "9de22511",
   "metadata": {},
   "outputs": [
    {
     "data": {
      "text/plain": [
       "[7, 5, 2, 4, 6]"
      ]
     },
     "execution_count": 266,
     "metadata": {},
     "output_type": "execute_result"
    }
   ],
   "source": [
    "c[0]"
   ]
  },
  {
   "cell_type": "code",
   "execution_count": 267,
   "id": "b5d7e9ea",
   "metadata": {},
   "outputs": [
    {
     "data": {
      "text/plain": [
       "[7, 5, 2, 4, 6, 7, 5, 2, 4, 6, 7, 5, 2, 4, 6]"
      ]
     },
     "execution_count": 267,
     "metadata": {},
     "output_type": "execute_result"
    }
   ],
   "source": [
    "c[1]"
   ]
  },
  {
   "cell_type": "code",
   "execution_count": 268,
   "id": "ef26af70",
   "metadata": {},
   "outputs": [],
   "source": [
    "def boolx(x= True,y=False):\n",
    "    return x+y"
   ]
  },
  {
   "cell_type": "markdown",
   "id": "4ad1e36e",
   "metadata": {},
   "source": [
    "So here we are assigning values at the time of function creation already right? Now what happens when we again assign values while calling out the function."
   ]
  },
  {
   "cell_type": "code",
   "execution_count": 269,
   "id": "bcb19716",
   "metadata": {},
   "outputs": [
    {
     "data": {
      "text/plain": [
       "1"
      ]
     },
     "execution_count": 269,
     "metadata": {},
     "output_type": "execute_result"
    }
   ],
   "source": [
    "boolx()#Since x=True=1,y=False=0"
   ]
  },
  {
   "cell_type": "code",
   "execution_count": 270,
   "id": "7706ac2a",
   "metadata": {},
   "outputs": [
    {
     "data": {
      "text/plain": [
       "0"
      ]
     },
     "execution_count": 270,
     "metadata": {},
     "output_type": "execute_result"
    }
   ],
   "source": [
    "boolx(False)#Since false value is 0"
   ]
  },
  {
   "cell_type": "code",
   "execution_count": 271,
   "id": "e0954b59",
   "metadata": {},
   "outputs": [
    {
     "data": {
      "text/plain": [
       "1"
      ]
     },
     "execution_count": 271,
     "metadata": {},
     "output_type": "execute_result"
    }
   ],
   "source": [
    "boolx(True ,0)#Since true is value 1"
   ]
  },
  {
   "cell_type": "code",
   "execution_count": 272,
   "id": "794c52ef",
   "metadata": {},
   "outputs": [
    {
     "data": {
      "text/plain": [
       "9"
      ]
     },
     "execution_count": 272,
     "metadata": {},
     "output_type": "execute_result"
    }
   ],
   "source": [
    "boolx(False,9)"
   ]
  },
  {
   "cell_type": "markdown",
   "id": "48c3ca40",
   "metadata": {},
   "source": [
    "The pre assigned values get overwritten so at runtime we can change the pre assigned values and place the desired values needed at that time"
   ]
  },
  {
   "cell_type": "code",
   "execution_count": 273,
   "id": "4b97b878",
   "metadata": {},
   "outputs": [],
   "source": [
    "def travel(bike=True,car=False):\n",
    "    plan_travel= bike or car\n",
    "    return bike,car,plan_travel"
   ]
  },
  {
   "cell_type": "code",
   "execution_count": 274,
   "id": "e6dec3a0",
   "metadata": {},
   "outputs": [
    {
     "data": {
      "text/plain": [
       "(True, False, True)"
      ]
     },
     "execution_count": 274,
     "metadata": {},
     "output_type": "execute_result"
    }
   ],
   "source": [
    "travel()#Here without placing arguments we need to got this!"
   ]
  },
  {
   "cell_type": "code",
   "execution_count": 275,
   "id": "a9dac43d",
   "metadata": {},
   "outputs": [
    {
     "data": {
      "text/plain": [
       "(True, False, True)"
      ]
     },
     "execution_count": 275,
     "metadata": {},
     "output_type": "execute_result"
    }
   ],
   "source": [
    "travel(True)#Here it will take True for Bike value right!!!!?, Yes "
   ]
  },
  {
   "cell_type": "code",
   "execution_count": 276,
   "id": "a1f29f08",
   "metadata": {},
   "outputs": [
    {
     "data": {
      "text/plain": [
       "(False, False, False)"
      ]
     },
     "execution_count": 276,
     "metadata": {},
     "output_type": "execute_result"
    }
   ],
   "source": [
    "travel(False)#Here again same it will take False value for travel"
   ]
  },
  {
   "cell_type": "markdown",
   "id": "bac7b6e3",
   "metadata": {},
   "source": [
    "But now we want to replace car value instead of that of a bike "
   ]
  },
  {
   "cell_type": "code",
   "execution_count": 277,
   "id": "46304e09",
   "metadata": {},
   "outputs": [
    {
     "data": {
      "text/plain": [
       "(True, True, True)"
      ]
     },
     "execution_count": 277,
     "metadata": {},
     "output_type": "execute_result"
    }
   ],
   "source": [
    "travel(car=True)\n",
    "#So by default here if we don't assign the variable the value goes to the first variable and hence the second variable \n",
    "#need to be assigned explicitly"
   ]
  },
  {
   "cell_type": "markdown",
   "id": "c2c05f29",
   "metadata": {},
   "source": [
    "#### Now how about using a place holder?"
   ]
  },
  {
   "cell_type": "code",
   "execution_count": 280,
   "id": "243b87d2",
   "metadata": {},
   "outputs": [
    {
     "data": {
      "text/plain": [
       "(True, 17, True)"
      ]
     },
     "execution_count": 280,
     "metadata": {},
     "output_type": "execute_result"
    }
   ],
   "source": [
    "travel(True,_)#Since the earlier value of the place holder was 17 like lonbg back!"
   ]
  },
  {
   "cell_type": "markdown",
   "id": "67d33b20",
   "metadata": {},
   "source": [
    "### Questions  \n",
    "[   ],[ ],[ ]-Take multiple lists\n",
    "[[   ],[  ],[  ]]-return it in a single list"
   ]
  },
  {
   "cell_type": "code",
   "execution_count": 26,
   "id": "9911912a",
   "metadata": {},
   "outputs": [],
   "source": [
    "def li(*lists):\n",
    "    l=[]\n",
    "    for i in lists:\n",
    "        for j in i:\n",
    "            l.append(j)\n",
    "    print(l)    "
   ]
  },
  {
   "cell_type": "code",
   "execution_count": 27,
   "id": "c994d147",
   "metadata": {},
   "outputs": [
    {
     "name": "stdout",
     "output_type": "stream",
     "text": [
      "[1, 2, 3, 2, 3, 4, 6, 7, 8]\n"
     ]
    }
   ],
   "source": [
    "li([1,2,3],[2,3,4],[6,7,8])"
   ]
  },
  {
   "cell_type": "code",
   "execution_count": null,
   "id": "d7bc4384",
   "metadata": {},
   "outputs": [],
   "source": [
    "First way i did on my own"
   ]
  },
  {
   "cell_type": "code",
   "execution_count": 44,
   "id": "60a9f62a",
   "metadata": {},
   "outputs": [],
   "source": [
    "def l(*args):\n",
    "    return list(args)"
   ]
  },
  {
   "cell_type": "code",
   "execution_count": 79,
   "id": "c2885b12",
   "metadata": {
    "scrolled": false
   },
   "outputs": [
    {
     "data": {
      "text/plain": [
       "[[2, 3, 4], [7, 8, 9, 10], [3, 4, 5, 6]]"
      ]
     },
     "execution_count": 79,
     "metadata": {},
     "output_type": "execute_result"
    }
   ],
   "source": [
    "l([2,3,4],[7,8,9,10],[3,4,5,6])"
   ]
  },
  {
   "cell_type": "markdown",
   "id": "3909938b",
   "metadata": {},
   "source": [
    "#### DOUBT EXTEND FUNCTION 1:30 lec 21st March"
   ]
  },
  {
   "cell_type": "code",
   "execution_count": 56,
   "id": "64bddfec",
   "metadata": {},
   "outputs": [],
   "source": [
    "def tes1(*args):\n",
    "    return [i for i in args]"
   ]
  },
  {
   "cell_type": "code",
   "execution_count": 57,
   "id": "7ae2e910",
   "metadata": {},
   "outputs": [
    {
     "data": {
      "text/plain": [
       "[[0, 9, 8], [9, 8, 7]]"
      ]
     },
     "execution_count": 57,
     "metadata": {},
     "output_type": "execute_result"
    }
   ],
   "source": [
    "tes1([0,9,8],[9,8,7])"
   ]
  },
  {
   "cell_type": "markdown",
   "id": "8d0e921b",
   "metadata": {},
   "source": [
    "#### GENERIC CODE?\n",
    "Generic Programming enables the programmer to write a general algorithm which will work with all data types. It eliminates the need to create different algorithms if the data type is an integer, string or a character."
   ]
  },
  {
   "cell_type": "markdown",
   "id": "0c28a75e",
   "metadata": {},
   "source": [
    "But we want below output???"
   ]
  },
  {
   "cell_type": "markdown",
   "id": "217789b9",
   "metadata": {},
   "source": [
    "### Questions  \n",
    "[   ],[ ],[ ]-Take multiple lists\n",
    "[,,,,]-return it in a single list"
   ]
  },
  {
   "cell_type": "code",
   "execution_count": 40,
   "id": "7f319078",
   "metadata": {},
   "outputs": [],
   "source": [
    "def test99(*args):\n",
    "    j=[]\n",
    "    for i in args:\n",
    "        j=j+i\n",
    "    return j"
   ]
  },
  {
   "cell_type": "code",
   "execution_count": 41,
   "id": "26626032",
   "metadata": {},
   "outputs": [
    {
     "data": {
      "text/plain": [
       "[2, 3, 4, 3, 4, 5]"
      ]
     },
     "execution_count": 41,
     "metadata": {},
     "output_type": "execute_result"
    }
   ],
   "source": [
    "test99([2,3,4],[3,4,5])"
   ]
  },
  {
   "cell_type": "markdown",
   "id": "b05913af",
   "metadata": {},
   "source": [
    "THIS IS THE OUTPUT SIR EXPECTED!!"
   ]
  },
  {
   "cell_type": "code",
   "execution_count": null,
   "id": "0a912ca9",
   "metadata": {},
   "outputs": [],
   "source": [
    "So now try this"
   ]
  },
  {
   "cell_type": "code",
   "execution_count": 81,
   "id": "1b477940",
   "metadata": {},
   "outputs": [
    {
     "ename": "TypeError",
     "evalue": "can only concatenate list (not \"str\") to list",
     "output_type": "error",
     "traceback": [
      "\u001b[1;31m---------------------------------------------------------------------------\u001b[0m",
      "\u001b[1;31mTypeError\u001b[0m                                 Traceback (most recent call last)",
      "\u001b[1;32mC:\\Users\\RUKAIY~1\\AppData\\Local\\Temp/ipykernel_35336/3501975836.py\u001b[0m in \u001b[0;36m<module>\u001b[1;34m\u001b[0m\n\u001b[1;32m----> 1\u001b[1;33m \u001b[0mtest99\u001b[0m\u001b[1;33m(\u001b[0m\u001b[1;34m\"abc\"\u001b[0m\u001b[1;33m,\u001b[0m\u001b[1;33m[\u001b[0m\u001b[1;36m3\u001b[0m\u001b[1;33m,\u001b[0m\u001b[1;36m4\u001b[0m\u001b[1;33m,\u001b[0m\u001b[1;36m5\u001b[0m\u001b[1;33m]\u001b[0m\u001b[1;33m,\u001b[0m\u001b[1;36m89\u001b[0m\u001b[1;33m)\u001b[0m\u001b[1;33m\u001b[0m\u001b[1;33m\u001b[0m\u001b[0m\n\u001b[0m",
      "\u001b[1;32mC:\\Users\\RUKAIY~1\\AppData\\Local\\Temp/ipykernel_35336/1541162288.py\u001b[0m in \u001b[0;36mtest99\u001b[1;34m(*args)\u001b[0m\n\u001b[0;32m      2\u001b[0m     \u001b[0mj\u001b[0m\u001b[1;33m=\u001b[0m\u001b[1;33m[\u001b[0m\u001b[1;33m]\u001b[0m\u001b[1;33m\u001b[0m\u001b[1;33m\u001b[0m\u001b[0m\n\u001b[0;32m      3\u001b[0m     \u001b[1;32mfor\u001b[0m \u001b[0mi\u001b[0m \u001b[1;32min\u001b[0m \u001b[0margs\u001b[0m\u001b[1;33m:\u001b[0m\u001b[1;33m\u001b[0m\u001b[1;33m\u001b[0m\u001b[0m\n\u001b[1;32m----> 4\u001b[1;33m         \u001b[0mj\u001b[0m\u001b[1;33m=\u001b[0m\u001b[0mj\u001b[0m\u001b[1;33m+\u001b[0m\u001b[0mi\u001b[0m\u001b[1;33m\u001b[0m\u001b[1;33m\u001b[0m\u001b[0m\n\u001b[0m\u001b[0;32m      5\u001b[0m     \u001b[1;32mreturn\u001b[0m \u001b[0mj\u001b[0m\u001b[1;33m\u001b[0m\u001b[1;33m\u001b[0m\u001b[0m\n",
      "\u001b[1;31mTypeError\u001b[0m: can only concatenate list (not \"str\") to list"
     ]
    }
   ],
   "source": [
    "test99(\"abc\",[3,4,5],89)"
   ]
  },
  {
   "cell_type": "code",
   "execution_count": null,
   "id": "c292b96e",
   "metadata": {},
   "outputs": [],
   "source": [
    "To avoid the error here we go!"
   ]
  },
  {
   "cell_type": "code",
   "execution_count": 82,
   "id": "a01b48f3",
   "metadata": {},
   "outputs": [],
   "source": [
    "def test99(*args):\n",
    "    j=[]\n",
    "    for i in args:\n",
    "        if type(i)==list:\n",
    "            j=j+i\n",
    "    return j"
   ]
  },
  {
   "cell_type": "code",
   "execution_count": 83,
   "id": "e143cec5",
   "metadata": {},
   "outputs": [
    {
     "data": {
      "text/plain": [
       "[3, 4, 5]"
      ]
     },
     "execution_count": 83,
     "metadata": {},
     "output_type": "execute_result"
    }
   ],
   "source": [
    "test99(\"abc\",[3,4,5],89)"
   ]
  },
  {
   "cell_type": "markdown",
   "id": "cbeee4f1",
   "metadata": {},
   "source": [
    "### So now moving on to next sub topic "
   ]
  },
  {
   "cell_type": "markdown",
   "id": "c43eb5e9",
   "metadata": {},
   "source": [
    "### **kwargs"
   ]
  },
  {
   "cell_type": "code",
   "execution_count": 93,
   "id": "a281b4cc",
   "metadata": {},
   "outputs": [],
   "source": [
    "def test88(**kwargs):\n",
    "    return kwargs\n",
    " "
   ]
  },
  {
   "cell_type": "markdown",
   "id": "6bf51ac3",
   "metadata": {},
   "source": [
    "## What is kwargs-it is keyword args!"
   ]
  },
  {
   "cell_type": "code",
   "execution_count": 94,
   "id": "643c5831",
   "metadata": {},
   "outputs": [],
   "source": [
    "def test88(**kwargs):\n",
    "    return kwargs"
   ]
  },
  {
   "cell_type": "code",
   "execution_count": 95,
   "id": "7e73532b",
   "metadata": {},
   "outputs": [
    {
     "ename": "TypeError",
     "evalue": "test88() takes 0 positional arguments but 3 were given",
     "output_type": "error",
     "traceback": [
      "\u001b[1;31m---------------------------------------------------------------------------\u001b[0m",
      "\u001b[1;31mTypeError\u001b[0m                                 Traceback (most recent call last)",
      "\u001b[1;32mC:\\Users\\RUKAIY~1\\AppData\\Local\\Temp/ipykernel_35336/2957420819.py\u001b[0m in \u001b[0;36m<module>\u001b[1;34m\u001b[0m\n\u001b[1;32m----> 1\u001b[1;33m \u001b[0mtest88\u001b[0m\u001b[1;33m(\u001b[0m\u001b[1;36m2\u001b[0m\u001b[1;33m,\u001b[0m\u001b[1;36m44\u001b[0m\u001b[1;33m,\u001b[0m\u001b[1;36m5\u001b[0m\u001b[1;33m)\u001b[0m\u001b[1;33m\u001b[0m\u001b[1;33m\u001b[0m\u001b[0m\n\u001b[0m",
      "\u001b[1;31mTypeError\u001b[0m: test88() takes 0 positional arguments but 3 were given"
     ]
    }
   ],
   "source": [
    "test88(2,44,5) "
   ]
  },
  {
   "cell_type": "markdown",
   "id": "213b5a5c",
   "metadata": {},
   "source": [
    "##### It will give an error why? earlier in args it was not the same ?!! right?!\n",
    "takes 0 positional arguments but 3 were given\n",
    "Here it is complaining the function is "
   ]
  },
  {
   "cell_type": "code",
   "execution_count": 97,
   "id": "b21632da",
   "metadata": {},
   "outputs": [
    {
     "data": {
      "text/plain": [
       "{'a': 2, 'b': 7, 'c': 9, 'd': 89}"
      ]
     },
     "execution_count": 97,
     "metadata": {},
     "output_type": "execute_result"
    }
   ],
   "source": [
    "test88(a=2,b=7,c=9,d=89)"
   ]
  },
  {
   "cell_type": "markdown",
   "id": "b4a133ed",
   "metadata": {},
   "source": [
    "#### Worked how? Here we need to pass key value pair data only!!! Dictionary "
   ]
  },
  {
   "cell_type": "markdown",
   "id": "e5113991",
   "metadata": {},
   "source": [
    "## But can it pass a dictionary inside it NOOOO"
   ]
  },
  {
   "cell_type": "code",
   "execution_count": 102,
   "id": "2063c7d8",
   "metadata": {
    "scrolled": true
   },
   "outputs": [
    {
     "ename": "TypeError",
     "evalue": "test88() takes 0 positional arguments but 1 was given",
     "output_type": "error",
     "traceback": [
      "\u001b[1;31m---------------------------------------------------------------------------\u001b[0m",
      "\u001b[1;31mTypeError\u001b[0m                                 Traceback (most recent call last)",
      "\u001b[1;32mC:\\Users\\RUKAIY~1\\AppData\\Local\\Temp/ipykernel_35336/1314443419.py\u001b[0m in \u001b[0;36m<module>\u001b[1;34m\u001b[0m\n\u001b[1;32m----> 1\u001b[1;33m \u001b[0mtest88\u001b[0m\u001b[1;33m(\u001b[0m\u001b[1;33m{\u001b[0m\u001b[1;34m\"a\"\u001b[0m\u001b[1;33m:\u001b[0m\u001b[1;36m2\u001b[0m\u001b[1;33m,\u001b[0m\u001b[1;34m\"b\"\u001b[0m\u001b[1;33m:\u001b[0m\u001b[1;36m7\u001b[0m\u001b[1;33m,\u001b[0m\u001b[1;34m\"c\"\u001b[0m\u001b[1;33m:\u001b[0m\u001b[1;36m9\u001b[0m\u001b[1;33m,\u001b[0m\u001b[1;34m\"d\"\u001b[0m\u001b[1;33m:\u001b[0m\u001b[1;36m89\u001b[0m\u001b[1;33m}\u001b[0m\u001b[1;33m)\u001b[0m \u001b[1;31m#See here as well it cannot take dictionary as an input\u001b[0m\u001b[1;33m\u001b[0m\u001b[1;33m\u001b[0m\u001b[0m\n\u001b[0m",
      "\u001b[1;31mTypeError\u001b[0m: test88() takes 0 positional arguments but 1 was given"
     ]
    }
   ],
   "source": [
    "test88({\"a\":2,\"b\":7,\"c\":9,\"d\":89}) #See here as well it cannot take dictionary as an input "
   ]
  },
  {
   "cell_type": "markdown",
   "id": "513cb41e",
   "metadata": {},
   "source": [
    "But now see"
   ]
  },
  {
   "cell_type": "code",
   "execution_count": 105,
   "id": "33b94cb9",
   "metadata": {},
   "outputs": [
    {
     "data": {
      "text/plain": [
       "{'a': 2, 'b': 7, 'c': 9, 'd': 89}"
      ]
     },
     "execution_count": 105,
     "metadata": {},
     "output_type": "execute_result"
    }
   ],
   "source": [
    "test88(a=2,b=7,c=9,d=89)"
   ]
  },
  {
   "cell_type": "code",
   "execution_count": null,
   "id": "eb72ddd5",
   "metadata": {},
   "outputs": [],
   "source": [
    "Declaration of dictionary"
   ]
  },
  {
   "cell_type": "code",
   "execution_count": 29,
   "id": "5d563fbd",
   "metadata": {},
   "outputs": [],
   "source": [
    "dic={'a':\"Ruksie\",'99':102}"
   ]
  },
  {
   "cell_type": "code",
   "execution_count": 30,
   "id": "c142c99c",
   "metadata": {
    "scrolled": true
   },
   "outputs": [
    {
     "data": {
      "text/plain": [
       "{'a': 'Ruksie', '99': 102}"
      ]
     },
     "execution_count": 30,
     "metadata": {},
     "output_type": "execute_result"
    }
   ],
   "source": [
    "dic"
   ]
  },
  {
   "cell_type": "markdown",
   "id": "e8021b9b",
   "metadata": {},
   "source": [
    "But in kwargs i.e keyword arguments it is different and the output returns a dictionary!!!"
   ]
  },
  {
   "cell_type": "code",
   "execution_count": 40,
   "id": "a3bac0c9",
   "metadata": {},
   "outputs": [],
   "source": [
    "def test786(**kwargs):\n",
    "    return kwargs\n"
   ]
  },
  {
   "cell_type": "code",
   "execution_count": 41,
   "id": "c3d5b099",
   "metadata": {},
   "outputs": [
    {
     "data": {
      "text/plain": [
       "{'a': 89, 'dob': -1997}"
      ]
     },
     "execution_count": 41,
     "metadata": {},
     "output_type": "execute_result"
    }
   ],
   "source": [
    "test786(a=89,dob=10-9-1998)"
   ]
  },
  {
   "cell_type": "markdown",
   "id": "cc826217",
   "metadata": {},
   "source": [
    "### Here internally the function will create a dictionary and send an output in the form of a dictionary"
   ]
  },
  {
   "cell_type": "code",
   "execution_count": 117,
   "id": "a0aa08c4",
   "metadata": {},
   "outputs": [
    {
     "data": {
      "text/plain": [
       "{'a': 'abc', 'v': 52, 'p': True}"
      ]
     },
     "execution_count": 117,
     "metadata": {},
     "output_type": "execute_result"
    }
   ],
   "source": [
    "test88(a=\"abc\",v=52,p=True)"
   ]
  },
  {
   "cell_type": "markdown",
   "id": "25f9cd39",
   "metadata": {},
   "source": [
    "#### See carefully what do args return"
   ]
  },
  {
   "cell_type": "code",
   "execution_count": 118,
   "id": "8474dac2",
   "metadata": {},
   "outputs": [],
   "source": [
    "def arguments(*args):\n",
    "    return args"
   ]
  },
  {
   "cell_type": "code",
   "execution_count": 121,
   "id": "40b157b7",
   "metadata": {},
   "outputs": [
    {
     "data": {
      "text/plain": [
       "('abc', 56, [1, 2, 3], True)"
      ]
     },
     "execution_count": 121,
     "metadata": {},
     "output_type": "execute_result"
    }
   ],
   "source": [
    "arguments(\"abc\",56,[1,2,3],True)"
   ]
  },
  {
   "cell_type": "markdown",
   "id": "ca282367",
   "metadata": {},
   "source": [
    "### They return everything in the form of a TUPLE"
   ]
  },
  {
   "cell_type": "markdown",
   "id": "b3482e6c",
   "metadata": {},
   "source": [
    "## Question\n",
    "Create a function that can take any number of mixed data and try to create a list of seperate data based on the datatype() and return multiple results.\n",
    "\n",
    "Part2:\n",
    "Create a function which will be able use args and kwargs and it will be able to concatenate all the list values only and return a list"
   ]
  },
  {
   "cell_type": "code",
   "execution_count": 249,
   "id": "2ff06f10",
   "metadata": {},
   "outputs": [],
   "source": [
    "l=[]\n",
    "c=[]\n",
    "d=[]\n",
    "t=[]\n",
    "it=[]\n",
    "f=[]\n",
    "def mul_data(*args):\n",
    "    for i in args:\n",
    "        if type(i)==list:\n",
    "            l.append(i)\n",
    "        if type(i)==str:\n",
    "            c.append(i) \n",
    "        if type(i)==tuple:\n",
    "            t.append(i)\n",
    "        if type(i)==dict:\n",
    "            d.append(i)\n",
    "        if type(i)==int:\n",
    "            it.append(i)\n",
    "        if type(i)==float:\n",
    "            f.append(i)\n",
    "            \n",
    "    return l,c,t,d,it,f\n",
    "            \n",
    "            \n",
    "        "
   ]
  },
  {
   "cell_type": "code",
   "execution_count": 250,
   "id": "1544eec1",
   "metadata": {},
   "outputs": [
    {
     "data": {
      "text/plain": [
       "([[1, 'or'], [15689, 56.45, 'or'], [1, 2, 5, 'or']],\n",
       " ['str', 'seeer'],\n",
       " [('a', 'b', 89)],\n",
       " [{'pop': 89, 't': 89}],\n",
       " [9, 8, 7],\n",
       " [52.26])"
      ]
     },
     "execution_count": 250,
     "metadata": {},
     "output_type": "execute_result"
    }
   ],
   "source": [
    "mul_data(\"str\",9,\"seeer\",8,7,(\"a\",\"b\",89),[1,\"or\"],{\"pop\":89,\"t\":89},[15689,56.45,\"or\"],[1,2,5,\"or\"],52.26)"
   ]
  },
  {
   "cell_type": "code",
   "execution_count": 251,
   "id": "298cc0ac",
   "metadata": {},
   "outputs": [],
   "source": [
    "def tesst(*args,**kwargs):\n",
    "    lii=[]\n",
    "    for i in args :\n",
    "        if type(i)==list:\n",
    "            lii.append(i)\n",
    "    for  i in kwargs.items():\n",
    "        if type(i[1])==list:\n",
    "            lii.append(i[1])\n",
    "            \n",
    "    return lii\n",
    "    "
   ]
  },
  {
   "cell_type": "code",
   "execution_count": 252,
   "id": "a4b62453",
   "metadata": {},
   "outputs": [
    {
     "data": {
      "text/plain": [
       "[[1, 'or'], [0, 8, 8, 9], [0, 9, 8, 7]]"
      ]
     },
     "execution_count": 252,
     "metadata": {},
     "output_type": "execute_result"
    }
   ],
   "source": [
    "tesst(\"pop\",\"str\",9,\"seeer\",8,7,(\"a\",\"b\",89),[1,\"or\"],[0,8,8,9],p=9,k=\"ruks\",l=[0,9,8,7])"
   ]
  },
  {
   "cell_type": "markdown",
   "id": "c0e13760",
   "metadata": {},
   "source": [
    "# DOUBT at 2:19pm 21st March"
   ]
  },
  {
   "cell_type": "markdown",
   "id": "a9546d38",
   "metadata": {},
   "source": [
    "### extend and append to get the one list solution in place of above solution!"
   ]
  },
  {
   "cell_type": "code",
   "execution_count": 258,
   "id": "de1561f1",
   "metadata": {},
   "outputs": [],
   "source": [
    "d={\"c\":\"abcd\",7:True , \"lol\":85}"
   ]
  },
  {
   "cell_type": "code",
   "execution_count": 259,
   "id": "c10def06",
   "metadata": {},
   "outputs": [
    {
     "data": {
      "text/plain": [
       "dict_items([('c', 'abcd'), (7, True), ('lol', 85)])"
      ]
     },
     "execution_count": 259,
     "metadata": {},
     "output_type": "execute_result"
    }
   ],
   "source": [
    "d.items()\n",
    "#Remember items always return key value pairs in tuple datatype and d.values only returns values"
   ]
  },
  {
   "cell_type": "code",
   "execution_count": 260,
   "id": "c3327227",
   "metadata": {},
   "outputs": [
    {
     "data": {
      "text/plain": [
       "dict_values(['abcd', True, 85])"
      ]
     },
     "execution_count": 260,
     "metadata": {},
     "output_type": "execute_result"
    }
   ],
   "source": [
    "d.values()"
   ]
  },
  {
   "cell_type": "markdown",
   "id": "4702c57c",
   "metadata": {},
   "source": [
    "## Creating a generic code for all datatype!"
   ]
  },
  {
   "cell_type": "code",
   "execution_count": 3,
   "id": "0972450d",
   "metadata": {},
   "outputs": [],
   "source": [
    "def func(*args):\n",
    "    l={}\n",
    "    for i in args:\n",
    "        if type(i) in l:\n",
    "            l[type(i)].append(i)\n",
    "        else:\n",
    "            l[type(i)]=[i]\n",
    "    return l"
   ]
  },
  {
   "cell_type": "code",
   "execution_count": 4,
   "id": "52502ec9",
   "metadata": {},
   "outputs": [
    {
     "data": {
      "text/plain": [
       "{str: ['str', 'seeer'],\n",
       " int: [9, 8, 7],\n",
       " tuple: [('a', 'b', 89)],\n",
       " list: [[1, 'or'], [15689, 56.45, 'or'], [1, 2, 5, 'or']],\n",
       " dict: [{'pop': 89, 't': 89}],\n",
       " float: [52.26]}"
      ]
     },
     "execution_count": 4,
     "metadata": {},
     "output_type": "execute_result"
    }
   ],
   "source": [
    "func(\"str\",9,\"seeer\",8,7,(\"a\",\"b\",89),[1,\"or\"],{\"pop\":89,\"t\":89},[15689,56.45,\"or\"],[1,2,5,\"or\"],52.26)"
   ]
  },
  {
   "cell_type": "code",
   "execution_count": 8,
   "id": "e486aace",
   "metadata": {},
   "outputs": [],
   "source": [
    "def test18(**kwargs):\n",
    "    return kwargs"
   ]
  },
  {
   "cell_type": "code",
   "execution_count": 9,
   "id": "0d4f9fd8",
   "metadata": {
    "scrolled": true
   },
   "outputs": [
    {
     "data": {
      "text/plain": [
       "{'b': 6, 'c': [4, 5, 6, 7], 'd': ['sudh', 'kumar', 5.67], 'n': (6+7j)}"
      ]
     },
     "execution_count": 9,
     "metadata": {},
     "output_type": "execute_result"
    }
   ],
   "source": [
    "test18(b=6,c=[4,5,6,7],d=[\"sudh\",\"kumar\",5.67],n=6+7j)"
   ]
  },
  {
   "cell_type": "code",
   "execution_count": 1,
   "id": "b4fa4dfa",
   "metadata": {},
   "outputs": [],
   "source": [
    "l=[]\n",
    "def test19(**kwargs):\n",
    "    for i in kwargs.items():\n",
    "        if type(i[1])==list:\n",
    "            for j in i[1]:\n",
    "                if type(j)==str:\n",
    "                    print(\"We found\",j,\"inside\",i[1])\n",
    "    return kwargs\n",
    "                \n",
    "        \n",
    "        "
   ]
  },
  {
   "cell_type": "code",
   "execution_count": 89,
   "id": "45879dfb",
   "metadata": {},
   "outputs": [
    {
     "name": "stdout",
     "output_type": "stream",
     "text": [
      "We found lol inside [4, 5, 6, 'lol']\n",
      "We found sudh inside ['sudh', 'kumar']\n",
      "We found kumar inside ['sudh', 'kumar']\n"
     ]
    },
    {
     "data": {
      "text/plain": [
       "{'b': 6, 'c': [4, 5, 6, 'lol'], 'd': ['sudh', 'kumar'], 'n': (6+7j)}"
      ]
     },
     "execution_count": 89,
     "metadata": {},
     "output_type": "execute_result"
    }
   ],
   "source": [
    "test19(b=6,c=[4,5,6,\"lol\"],d=[\"sudh\",\"kumar\"],n=6+7j)"
   ]
  },
  {
   "cell_type": "markdown",
   "id": "b44d8922",
   "metadata": {},
   "source": [
    "## Practice!!!"
   ]
  },
  {
   "cell_type": "code",
   "execution_count": 2,
   "id": "45098481",
   "metadata": {},
   "outputs": [],
   "source": [
    "def hello_func():\n",
    "    pass"
   ]
  },
  {
   "cell_type": "code",
   "execution_count": 4,
   "id": "69e74131",
   "metadata": {},
   "outputs": [
    {
     "name": "stdout",
     "output_type": "stream",
     "text": [
      "None\n"
     ]
    }
   ],
   "source": [
    "print(hello_func()) If we dont use paranthesis then this might happen"
   ]
  },
  {
   "cell_type": "code",
   "execution_count": 5,
   "id": "59cf6d0d",
   "metadata": {},
   "outputs": [
    {
     "name": "stdout",
     "output_type": "stream",
     "text": [
      "<function hello_func at 0x0000017CCCB17A60>\n"
     ]
    }
   ],
   "source": [
    "print(hello_func)"
   ]
  },
  {
   "cell_type": "code",
   "execution_count": null,
   "id": "bfa02deb",
   "metadata": {},
   "outputs": [],
   "source": [
    "There is a term called DRY-dont repeat your code instead create functions!"
   ]
  },
  {
   "cell_type": "code",
   "execution_count": 6,
   "id": "7ac12cbe",
   "metadata": {},
   "outputs": [],
   "source": [
    "def hello_func():\n",
    "    return \"this is returning function values\""
   ]
  },
  {
   "cell_type": "code",
   "execution_count": null,
   "id": "97cf6fde",
   "metadata": {},
   "outputs": [],
   "source": [
    "#So here it wont keeping printing the output unless you call the functions "
   ]
  },
  {
   "cell_type": "code",
   "execution_count": 7,
   "id": "6ffb7b22",
   "metadata": {},
   "outputs": [
    {
     "data": {
      "text/plain": [
       "'this is returning function values'"
      ]
     },
     "execution_count": 7,
     "metadata": {},
     "output_type": "execute_result"
    }
   ],
   "source": [
    "hello_func()"
   ]
  },
  {
   "cell_type": "markdown",
   "id": "f2cdf50b",
   "metadata": {},
   "source": [
    "## The return keyword is to exit a function and return a value."
   ]
  },
  {
   "cell_type": "code",
   "execution_count": null,
   "id": "74381198",
   "metadata": {},
   "outputs": [],
   "source": [
    "#So now another example!"
   ]
  },
  {
   "cell_type": "code",
   "execution_count": 8,
   "id": "59604c1c",
   "metadata": {},
   "outputs": [],
   "source": [
    "def hello_func(a):\n",
    "    return '{} function Good morning!'.format(a)"
   ]
  },
  {
   "cell_type": "code",
   "execution_count": 9,
   "id": "a6c5b0ab",
   "metadata": {},
   "outputs": [
    {
     "ename": "TypeError",
     "evalue": "hello_func() missing 1 required positional argument: 'a'",
     "output_type": "error",
     "traceback": [
      "\u001b[1;31m---------------------------------------------------------------------------\u001b[0m",
      "\u001b[1;31mTypeError\u001b[0m                                 Traceback (most recent call last)",
      "Cell \u001b[1;32mIn[9], line 1\u001b[0m\n\u001b[1;32m----> 1\u001b[0m \u001b[43mhello_func\u001b[49m\u001b[43m(\u001b[49m\u001b[43m)\u001b[49m\n",
      "\u001b[1;31mTypeError\u001b[0m: hello_func() missing 1 required positional argument: 'a'"
     ]
    }
   ],
   "source": [
    "hello_func()"
   ]
  },
  {
   "cell_type": "code",
   "execution_count": 10,
   "id": "9e1711dc",
   "metadata": {},
   "outputs": [
    {
     "data": {
      "text/plain": [
       "'Hello function Good morning!'"
      ]
     },
     "execution_count": 10,
     "metadata": {},
     "output_type": "execute_result"
    }
   ],
   "source": [
    "hello_func('Hello')"
   ]
  },
  {
   "cell_type": "code",
   "execution_count": 11,
   "id": "dda3cf63",
   "metadata": {},
   "outputs": [
    {
     "data": {
      "text/plain": [
       "'1 function Good morning!'"
      ]
     },
     "execution_count": 11,
     "metadata": {},
     "output_type": "execute_result"
    }
   ],
   "source": [
    "hello_func(1)"
   ]
  },
  {
   "cell_type": "code",
   "execution_count": 14,
   "id": "b56ed85b",
   "metadata": {},
   "outputs": [],
   "source": [
    "def hellofunc(a,b='Rukaiya'):\n",
    "    return '{} Good morning {}'.format(a,b)"
   ]
  },
  {
   "cell_type": "code",
   "execution_count": 16,
   "id": "23a7a53c",
   "metadata": {},
   "outputs": [
    {
     "data": {
      "text/plain": [
       "'Hi Good morning Rukaiya'"
      ]
     },
     "execution_count": 16,
     "metadata": {},
     "output_type": "execute_result"
    }
   ],
   "source": [
    "hellofunc('Hi')"
   ]
  },
  {
   "cell_type": "code",
   "execution_count": null,
   "id": "e4d5c4bd",
   "metadata": {},
   "outputs": [],
   "source": [
    "or"
   ]
  },
  {
   "cell_type": "code",
   "execution_count": 18,
   "id": "46b4ea06",
   "metadata": {},
   "outputs": [
    {
     "data": {
      "text/plain": [
       "'Hi Good morning Ruksie'"
      ]
     },
     "execution_count": 18,
     "metadata": {},
     "output_type": "execute_result"
    }
   ],
   "source": [
    "hellofunc('Hi','Ruksie')"
   ]
  },
  {
   "cell_type": "code",
   "execution_count": 39,
   "id": "5e9c3d8e",
   "metadata": {},
   "outputs": [
    {
     "ename": "SyntaxError",
     "evalue": "invalid syntax (Temp/ipykernel_1208/3728453713.py, line 2)",
     "output_type": "error",
     "traceback": [
      "\u001b[1;36m  Cell \u001b[1;32mIn[39], line 2\u001b[1;36m\u001b[0m\n\u001b[1;33m    return *args, **kwargs\u001b[0m\n\u001b[1;37m                  ^\u001b[0m\n\u001b[1;31mSyntaxError\u001b[0m\u001b[1;31m:\u001b[0m invalid syntax\n"
     ]
    }
   ],
   "source": [
    "def student_info(*args,**kwargs):\n",
    "    return *args, **kwargs"
   ]
  },
  {
   "cell_type": "code",
   "execution_count": 35,
   "id": "6fd644b6",
   "metadata": {},
   "outputs": [],
   "source": [
    "def student_info(*args,**kwargs):\n",
    "    return args, kwargs"
   ]
  },
  {
   "cell_type": "code",
   "execution_count": 36,
   "id": "b09b03f4",
   "metadata": {},
   "outputs": [
    {
     "data": {
      "text/plain": [
       "((3, 4), {'lol': 24, 'name': 'Ruksie'})"
      ]
     },
     "execution_count": 36,
     "metadata": {},
     "output_type": "execute_result"
    }
   ],
   "source": [
    "student_info(3,4,lol=24,name=\"Ruksie\")"
   ]
  },
  {
   "cell_type": "code",
   "execution_count": 37,
   "id": "cec4665c",
   "metadata": {},
   "outputs": [
    {
     "name": "stdout",
     "output_type": "stream",
     "text": [
      "<function student_info at 0x0000017CCDF7B5E0>\n"
     ]
    }
   ],
   "source": [
    "print(student_info)"
   ]
  },
  {
   "cell_type": "code",
   "execution_count": 38,
   "id": "7d163df5",
   "metadata": {},
   "outputs": [
    {
     "name": "stdout",
     "output_type": "stream",
     "text": [
      "((3, 4), {'lol': 24, 'name': 'Ruksie'})\n"
     ]
    }
   ],
   "source": [
    "print(student_info(3,4,lol=24,name=\"Ruksie\"))"
   ]
  },
  {
   "cell_type": "code",
   "execution_count": null,
   "id": "b6a2b1c8",
   "metadata": {},
   "outputs": [],
   "source": [
    "Now look carefully"
   ]
  },
  {
   "cell_type": "code",
   "execution_count": 52,
   "id": "ea71087a",
   "metadata": {},
   "outputs": [],
   "source": [
    "course=['Maths','Computer Science']\n",
    "info={\"name\":'Ruksie',\"age\":22}\n",
    "\n",
    "def studentinfor(course,info):\n",
    "    return course,info\n",
    "    "
   ]
  },
  {
   "cell_type": "code",
   "execution_count": 53,
   "id": "30877a3e",
   "metadata": {},
   "outputs": [
    {
     "name": "stdout",
     "output_type": "stream",
     "text": [
      "(['Maths', 'Computer Science'], {'name': 'Ruksie', 'age': 22})\n"
     ]
    }
   ],
   "source": [
    "print(studentinfor(course,info))"
   ]
  },
  {
   "cell_type": "code",
   "execution_count": 47,
   "id": "3980023b",
   "metadata": {},
   "outputs": [],
   "source": [
    "course=['Maths','Computer Science']\n",
    "info={\"name\":'Ruksie',\"age\":22}\n",
    "\n",
    "def studentinfor(*course,**info):\n",
    "    return course,info"
   ]
  },
  {
   "cell_type": "code",
   "execution_count": 51,
   "id": "02ae287a",
   "metadata": {},
   "outputs": [
    {
     "name": "stdout",
     "output_type": "stream",
     "text": [
      "(('Maths', 'Computer Science'), {'name': 'Ruksie', 'age': 22})\n"
     ]
    }
   ],
   "source": [
    "print(studentinfor(*course,**info))"
   ]
  },
  {
   "cell_type": "markdown",
   "id": "1c5f4992",
   "metadata": {},
   "source": [
    "How to code if its a leap year or not!"
   ]
  },
  {
   "cell_type": "code",
   "execution_count": 1,
   "id": "40421020",
   "metadata": {},
   "outputs": [],
   "source": [
    "def leap(year): #Here for function leap year is a variable\n",
    "    return'Is a leap', year % 4==0 and (year % 100!=0 or year % 400 ==0)\n",
    "\n"
   ]
  },
  {
   "cell_type": "code",
   "execution_count": 2,
   "id": "8f499278",
   "metadata": {},
   "outputs": [
    {
     "data": {
      "text/plain": [
       "('Is a leap', True)"
      ]
     },
     "execution_count": 2,
     "metadata": {},
     "output_type": "execute_result"
    }
   ],
   "source": [
    "leap(2020)"
   ]
  },
  {
   "cell_type": "code",
   "execution_count": null,
   "id": "2966c53f",
   "metadata": {},
   "outputs": [],
   "source": []
  }
 ],
 "metadata": {
  "kernelspec": {
   "display_name": "Python 3 (ipykernel)",
   "language": "python",
   "name": "python3"
  },
  "language_info": {
   "codemirror_mode": {
    "name": "ipython",
    "version": 3
   },
   "file_extension": ".py",
   "mimetype": "text/x-python",
   "name": "python",
   "nbconvert_exporter": "python",
   "pygments_lexer": "ipython3",
   "version": "3.9.7"
  }
 },
 "nbformat": 4,
 "nbformat_minor": 5
}
