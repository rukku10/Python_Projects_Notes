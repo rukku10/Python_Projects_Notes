{
 "cells": [
  {
   "cell_type": "markdown",
   "id": "f0c9cc5a",
   "metadata": {},
   "source": [
    "# How to return from init method in Python?\n",
    "\n",
    "solution here Yes, trying to return from the init method in python returns errors as it is a constructor of the class you can only assign values for the scope of the class but not return a specific value. if you want to return a value but do not wish to create a method, you can use str method"
   ]
  },
  {
   "cell_type": "code",
   "execution_count": 14,
   "id": "1370ab28",
   "metadata": {},
   "outputs": [],
   "source": [
    "class Tyers:\n",
    "    def __init__(self,branch,belted_bias,opt_pressure):\n",
    "        self.branch=branch\n",
    "        self.belted_bias=belted_bias\n",
    "        self.opt_pressure=opt_pressure\n",
    "        \n",
    "    def __str__(self):\n",
    "        return (\"Tyers: \\n \\tBranch: \"+self.branch+\n",
    "               \"\\n \\tBelted Bias: \"+str(self.belted_bias)+\n",
    "               \"\\n \\tOptimal Pressure: \"+str(self.opt_pressure))\n",
    "    #collis, innova,sorpio\n",
    "    \n",
    "class Engine:\n",
    "    def __init__(self,fuel_type,noise_level):\n",
    "        self.fuel_type=fuel_type\n",
    "        self.noise_level=noise_level\n",
    "        \n",
    "    def __str__(self):\n",
    "        return (\"Engine: \\n \\tFuel Type: \"+self.fuel_type+\n",
    "               \"\\n \\tNoise Level: \"+str(self.noise_level))\n",
    "    \n",
    "class Body:\n",
    "    def __init__(self,size):\n",
    "        self.size=size\n",
    "        \n",
    "    def __str__(self):\n",
    "        return (\"Body:\\n \\tSize: \"+str(self.size))\n",
    "    \n",
    "class Car:\n",
    "    def __init__(self,name,tyres,engine,body):\n",
    "        self.name=name\n",
    "        self.tyres=tyres\n",
    "        self.engine=engine\n",
    "        self.body=body\n",
    "        \n",
    "    def __str__(self):\n",
    "        return \"\\t\"+str(self.name)+\"\\n\"+str(self.tyres)+\"\\n\"+str(self.engine)+\"\\n\"+str(self.body)\n",
    "        "
   ]
  },
  {
   "cell_type": "code",
   "execution_count": 15,
   "id": "f3f2a146",
   "metadata": {},
   "outputs": [],
   "source": [
    "t=Tyers(\"Mumbai\",True,2.0)\n",
    "e=Engine(\"Petrol\",3)\n",
    "b=Body(\"Large\")\n",
    "c=Car(\"Toyota\",t,e,b)\n"
   ]
  },
  {
   "cell_type": "code",
   "execution_count": 16,
   "id": "cd1e1de1",
   "metadata": {},
   "outputs": [
    {
     "name": "stdout",
     "output_type": "stream",
     "text": [
      "\tToyota\n",
      "Tyers: \n",
      " \tBranch: Mumbai\n",
      " \tBelted Bias: True\n",
      " \tOptimal Pressure: 2.0\n",
      "Engine: \n",
      " \tFuel Type: Petrol\n",
      " \tNoise Level: 3\n",
      "Body:\n",
      " \tSize: Large\n"
     ]
    }
   ],
   "source": [
    "print(c)"
   ]
  },
  {
   "cell_type": "markdown",
   "id": "91e20764",
   "metadata": {},
   "source": [
    "## Inheritance dictates that a child class (subclass) inherits all the attributes and methods from a parent class (superclass). Encapsulation dictates that one class must not have access to the (private) data of another class."
   ]
  },
  {
   "cell_type": "code",
   "execution_count": 19,
   "id": "eba94188",
   "metadata": {},
   "outputs": [
    {
     "ename": "NameError",
     "evalue": "name 'a' is not defined",
     "output_type": "error",
     "traceback": [
      "\u001b[1;31m---------------------------------------------------------------------------\u001b[0m",
      "\u001b[1;31mNameError\u001b[0m                                 Traceback (most recent call last)",
      "Cell \u001b[1;32mIn[19], line 11\u001b[0m\n\u001b[0;32m      8\u001b[0m         \u001b[38;5;28mself\u001b[39m\u001b[38;5;241m.\u001b[39mparent_a\u001b[38;5;241m=\u001b[39mparent_a\n\u001b[0;32m      9\u001b[0m         \u001b[38;5;28mself\u001b[39m\u001b[38;5;241m.\u001b[39mparent_b\u001b[38;5;241m=\u001b[39mparent_b\n\u001b[1;32m---> 11\u001b[0m \u001b[38;5;28;01mclass\u001b[39;00m \u001b[38;5;21;01mChild\u001b[39;00m(Parent):\n\u001b[0;32m     12\u001b[0m     \u001b[38;5;28mprint\u001b[39m(a)\n",
      "Cell \u001b[1;32mIn[19], line 12\u001b[0m, in \u001b[0;36mChild\u001b[1;34m()\u001b[0m\n\u001b[0;32m     11\u001b[0m \u001b[38;5;28;01mclass\u001b[39;00m \u001b[38;5;21;01mChild\u001b[39;00m(Parent):\n\u001b[1;32m---> 12\u001b[0m     \u001b[38;5;28mprint\u001b[39m(\u001b[43ma\u001b[49m)\n",
      "\u001b[1;31mNameError\u001b[0m: name 'a' is not defined"
     ]
    }
   ],
   "source": [
    "#Example of how Inheritance is working!\n",
    "\n",
    "class Parent():\n",
    "    #class attributes\n",
    "    a=10\n",
    "    b=40\n",
    "    def __init__(self,parent_a,parent_b):\n",
    "        self.parent_a=parent_a\n",
    "        self.parent_b=parent_b\n",
    "        \n",
    "class Child(Parent):\n",
    "    print(a)\n",
    "    \n",
    "    "
   ]
  },
  {
   "cell_type": "code",
   "execution_count": 20,
   "id": "9c5d6c1d",
   "metadata": {},
   "outputs": [
    {
     "ename": "RuntimeError",
     "evalue": "super(): no arguments",
     "output_type": "error",
     "traceback": [
      "\u001b[1;31m---------------------------------------------------------------------------\u001b[0m",
      "\u001b[1;31mRuntimeError\u001b[0m                              Traceback (most recent call last)",
      "Cell \u001b[1;32mIn[20], line 9\u001b[0m\n\u001b[0;32m      6\u001b[0m         \u001b[38;5;28mself\u001b[39m\u001b[38;5;241m.\u001b[39mparent_a\u001b[38;5;241m=\u001b[39mparent_a\n\u001b[0;32m      7\u001b[0m         \u001b[38;5;28mself\u001b[39m\u001b[38;5;241m.\u001b[39mparent_b\u001b[38;5;241m=\u001b[39mparent_b\n\u001b[1;32m----> 9\u001b[0m \u001b[38;5;28;01mclass\u001b[39;00m \u001b[38;5;21;01mChild\u001b[39;00m(Parent):\n\u001b[0;32m     10\u001b[0m     \u001b[38;5;28mprint\u001b[39m(\u001b[38;5;28msuper\u001b[39m()\u001b[38;5;241m.\u001b[39ma)\n",
      "Cell \u001b[1;32mIn[20], line 10\u001b[0m, in \u001b[0;36mChild\u001b[1;34m()\u001b[0m\n\u001b[0;32m      9\u001b[0m \u001b[38;5;28;01mclass\u001b[39;00m \u001b[38;5;21;01mChild\u001b[39;00m(Parent):\n\u001b[1;32m---> 10\u001b[0m     \u001b[38;5;28mprint\u001b[39m(\u001b[38;5;28;43msuper\u001b[39;49m\u001b[43m(\u001b[49m\u001b[43m)\u001b[49m\u001b[38;5;241m.\u001b[39ma)\n",
      "\u001b[1;31mRuntimeError\u001b[0m: super(): no arguments"
     ]
    }
   ],
   "source": [
    "class Parent():\n",
    "    #class attributes\n",
    "    a=10\n",
    "    b=40\n",
    "    def __init__(self,parent_a,parent_b):\n",
    "        self.parent_a=parent_a\n",
    "        self.parent_b=parent_b\n",
    "        \n",
    "class Child(Parent):\n",
    "    print(super().a)\n",
    "    "
   ]
  },
  {
   "cell_type": "code",
   "execution_count": 21,
   "id": "ffee7fe2",
   "metadata": {},
   "outputs": [
    {
     "name": "stdout",
     "output_type": "stream",
     "text": [
      "10\n"
     ]
    }
   ],
   "source": [
    "class Parent():\n",
    "    #class attributes\n",
    "    a=10\n",
    "    b=40\n",
    "    def __init__(self,parent_a,parent_b):\n",
    "        self.parent_a=parent_a\n",
    "        self.parent_b=parent_b\n",
    "        \n",
    "class Child(Parent):\n",
    "    print(Parent.a)#This works as Parent is the super class "
   ]
  },
  {
   "cell_type": "code",
   "execution_count": 24,
   "id": "f2b662f3",
   "metadata": {},
   "outputs": [
    {
     "name": "stdout",
     "output_type": "stream",
     "text": [
      "50\n"
     ]
    }
   ],
   "source": [
    "class Parent():\n",
    "    #class attributes\n",
    "    a=10\n",
    "    b=40\n",
    "    def __init__(self,parent_a,parent_b):\n",
    "        self.parent_a=parent_a\n",
    "        self.parent_b=parent_b\n",
    "        \n",
    "class Child(Parent):\n",
    "    Parent.a=50\n",
    "    print(Parent.a)#SO here in inheritance we changed the value as well"
   ]
  },
  {
   "cell_type": "code",
   "execution_count": 25,
   "id": "109c786b",
   "metadata": {},
   "outputs": [],
   "source": [
    "\n",
    "class Parent():\n",
    "    #class attributes\n",
    "    a=10\n",
    "    b=40\n",
    "    def __init__(self,parent_a,parent_b):\n",
    "        self.parent_a=parent_a\n",
    "        self.parent_b=parent_b\n",
    "        \n",
    "        \n",
    "class Child(Parent):\n",
    "    def __init__(self,*args):\n",
    "        super(self,Parent).__init__(*args)\n",
    "        #Here every variable will be availabe"
   ]
  },
  {
   "cell_type": "markdown",
   "id": "2ad5088a",
   "metadata": {},
   "source": [
    "## Another example:"
   ]
  },
  {
   "cell_type": "code",
   "execution_count": 1,
   "id": "f0ade4b9",
   "metadata": {},
   "outputs": [],
   "source": [
    "import logging as log\n",
    "class Dog:\n",
    "    def __init__(self,name,year_of_birth,breed):\n",
    "        try:\n",
    "            self.name=name\n",
    "            self.year_of_birth=year_of_birth\n",
    "            self.breed=bree\n",
    "        except NameError as e:\n",
    "            self.logging(e)\n",
    "\n",
    "        except Exception as e:\n",
    "            self.logging(e)\n",
    "        \n",
    "            \n",
    "    def logging(self,logg):\n",
    "        \n",
    "        log.basicConfig(filename=\"ossss.log\",level=log.ERROR)\n",
    "        log.error(logg)\n",
    "    \n",
    "\n",
    "    def __str__(self):\n",
    "        return \"%s is a %s born in %d.\"%(self.name,self.breed,self.year_of_birth)\n",
    "    \n",
    "#Tom=Dog(\"Tom\",1968,\"Labrador\")\n",
    "#print(Tom)"
   ]
  },
  {
   "cell_type": "markdown",
   "id": "365f5aab",
   "metadata": {},
   "source": [
    "### In Python both %s and %d are placeholders for a string and a number respectively. %s will return the string and %d will return number, the values are passed using % operator. This % operator formatting is used in C language also."
   ]
  },
  {
   "cell_type": "code",
   "execution_count": 2,
   "id": "3151f289",
   "metadata": {},
   "outputs": [
    {
     "name": "stdout",
     "output_type": "stream",
     "text": [
      "Tom is a Labrador born in 1968.\n"
     ]
    }
   ],
   "source": [
    "class Dog:\n",
    "    def __init__(self,name,year_of_birth,breed):\n",
    "        self.name=name\n",
    "        self.year_of_birth=year_of_birth\n",
    "        self.breed=breed\n",
    "        \n",
    "    def write(self):\n",
    "        with open(\"test1.txt\",\"w+\") as f:\n",
    "            #a=f.write(str(self.name)+str(self.year_of_birth)+str(self.breed))\n",
    "            a=f.write(\"%s is a %s born in %d.\"%(self.name,self.breed,self.year_of_birth))\n",
    "            f.seek(0)\n",
    "            print(f.read(a))\n",
    "        \n",
    "    def __str__(self):\n",
    "        return \"%s is a %s born in %d.\"%(self.name,self.breed,self.year_of_birth)\n",
    "    \n",
    "Tom=Dog(\"Tom\",1968,\"Labrador\")\n",
    "print(Tom)"
   ]
  },
  {
   "cell_type": "code",
   "execution_count": 3,
   "id": "fe9e76c8",
   "metadata": {},
   "outputs": [
    {
     "name": "stdout",
     "output_type": "stream",
     "text": [
      "Tom is a Labrador born in 1968.\n"
     ]
    }
   ],
   "source": [
    "Tom.write()"
   ]
  },
  {
   "cell_type": "code",
   "execution_count": 4,
   "id": "d8b5e78a",
   "metadata": {},
   "outputs": [
    {
     "name": "stdout",
     "output_type": "stream",
     "text": [
      "Tom is a Labrador born in 1968.\n"
     ]
    }
   ],
   "source": [
    "class Dog:\n",
    "    def __init__(self,name,year_of_birth,breed):\n",
    "        self.name=name\n",
    "        self.year_of_birth=year_of_birth\n",
    "        self.breed=breed\n",
    "        \n",
    "    def __str__(self):\n",
    "        return \"%s is a %s born in %d.\"%(self.name,self.breed,self.year_of_birth)\n",
    "    \n",
    "Tom=Dog(\"Tom\",1968,\"Labrador\")\n",
    "print(Tom)"
   ]
  },
  {
   "cell_type": "code",
   "execution_count": 6,
   "id": "67af1e5e",
   "metadata": {},
   "outputs": [
    {
     "name": "stdout",
     "output_type": "stream",
     "text": [
      "Ruks  445  amreli.\n"
     ]
    }
   ],
   "source": [
    "class Student:\n",
    "    def __init__(self,name,stud_id,address):\n",
    "        self.stud_id=stud_id\n",
    "        self.name=name\n",
    "        self.address=address\n",
    "        \n",
    "    def __str__(self):\n",
    "        return \"%s  %d  %s.\"%(self.name,self.stud_id,self.address)\n",
    "    \n",
    "stud1=Student(\"Ruks\",445,\"amreli\")\n",
    "print(stud1)"
   ]
  },
  {
   "cell_type": "markdown",
   "id": "a17579e0",
   "metadata": {},
   "source": [
    "In the above both human and dog can be a student for the above cases right??"
   ]
  },
  {
   "cell_type": "markdown",
   "id": "b590376b",
   "metadata": {},
   "source": [
    "### But what if we want the dog class method attributes as well as student class method attributes without inheritance "
   ]
  },
  {
   "cell_type": "markdown",
   "id": "61cd3e60",
   "metadata": {},
   "source": [
    "So look carefully "
   ]
  },
  {
   "cell_type": "code",
   "execution_count": 8,
   "id": "a551fd93",
   "metadata": {},
   "outputs": [],
   "source": [
    "dog=Student(Tom,445,\"boihar\")#In place of name we used dog class object"
   ]
  },
  {
   "cell_type": "code",
   "execution_count": 9,
   "id": "9f7a4629",
   "metadata": {},
   "outputs": [
    {
     "name": "stdout",
     "output_type": "stream",
     "text": [
      "Tom is a Labrador born in 1968.  445  boihar.\n"
     ]
    }
   ],
   "source": [
    "print(dog)"
   ]
  },
  {
   "cell_type": "code",
   "execution_count": null,
   "id": "cebb97d4",
   "metadata": {},
   "outputs": [],
   "source": [
    "So both the functions are executed without calling the classes!"
   ]
  },
  {
   "cell_type": "code",
   "execution_count": 72,
   "id": "df4f188f",
   "metadata": {},
   "outputs": [],
   "source": [
    "class BonusDistribution:\n",
    "    def __init__(self,emp_id,emp_rating):\n",
    "        self.emp_id=emp_id\n",
    "        self.emp_rating=emp_rating\n",
    "        self.__bonusforRatingA = \"70%\"#making this private variable!\n",
    "        self.__bonusforRatingB = \"60%\"#making this private variable!\n",
    "        self.__bonusforRatingC = \"50%\"#making this private variable!\n",
    "        self.__bonusforRatingD = \"30%\"#making this private variable!\n",
    "        self.__bonusforRest = \"No bonus \"#making this private variable!\n",
    "        \n",
    "        \n",
    "    def bonusCalculator(self):\n",
    "        try:\n",
    "            \n",
    "        \n",
    "            if self.emp_rating == \"A\" :\n",
    "                bonus = self.__bonusforRatingA\n",
    "                msg = \"Bonus for this employee is :\"+ bonus\n",
    "                return msg\n",
    "            elif self.emp_rating == \"B\" :\n",
    "                bonus = self.__bonusforRatingB\n",
    "                msg = \"Bonus for this employee is :\"+ bonus\n",
    "                return msg\n",
    "            elif self.emp_rating == \"C\" :\n",
    "                bonus = self.__bonusforRatingC\n",
    "                msg = \"Bonus for this employee is :\"+ bonus\n",
    "                return msg\n",
    "            elif self.emp_rating == \"D\" :\n",
    "                bonus = self.__bonusforRatingC\n",
    "                msg = \"Bonus for this employee is :\"+ bonus\n",
    "                return msg\n",
    "            else:\n",
    "                bonus = self.__bonusforRest\n",
    "                msg = \"Bonus for this employee is :\"+ bonus\n",
    "                return msg\n",
    "            \n",
    "        except Exception as e:\n",
    "            self.logging(e)\n",
    "            \n",
    "    def logging(self,logg):\n",
    "        import logging as log\n",
    "        log.basicConfig(filename=\"pro.log\",level=log.INFO)\n",
    "        log.info(logg)\n",
    "\n",
    "\n",
    "\n",
    "        \n",
    "            \n",
    "            "
   ]
  },
  {
   "cell_type": "code",
   "execution_count": 73,
   "id": "388ee325",
   "metadata": {},
   "outputs": [],
   "source": [
    "emp1 = BonusDistribution(1034,\"B\")\n",
    "emp2 = BonusDistribution(1035,\"A\")\n",
    "emp3 = BonusDistribution(1036,\"E\")"
   ]
  },
  {
   "cell_type": "code",
   "execution_count": 74,
   "id": "21eebf91",
   "metadata": {},
   "outputs": [
    {
     "data": {
      "text/plain": [
       "'Bonus for this employee is :No bonus '"
      ]
     },
     "execution_count": 74,
     "metadata": {},
     "output_type": "execute_result"
    }
   ],
   "source": [
    "emp3.bonusCalculator()"
   ]
  },
  {
   "cell_type": "code",
   "execution_count": 75,
   "id": "e3aba04c",
   "metadata": {},
   "outputs": [
    {
     "data": {
      "text/plain": [
       "'Bonus for this employee is :70%'"
      ]
     },
     "execution_count": 75,
     "metadata": {},
     "output_type": "execute_result"
    }
   ],
   "source": [
    "emp2.bonusCalculator()"
   ]
  },
  {
   "cell_type": "code",
   "execution_count": 41,
   "id": "a990322f",
   "metadata": {},
   "outputs": [
    {
     "data": {
      "text/plain": [
       "'Bonus for this employee is :60%'"
      ]
     },
     "execution_count": 41,
     "metadata": {},
     "output_type": "execute_result"
    }
   ],
   "source": [
    "emp1.bonusCalculator()"
   ]
  },
  {
   "cell_type": "markdown",
   "id": "a654100f",
   "metadata": {},
   "source": [
    "Now i would like to override the values of bonusforRatingB"
   ]
  },
  {
   "cell_type": "code",
   "execution_count": 65,
   "id": "864514b3",
   "metadata": {},
   "outputs": [],
   "source": [
    "emp1._BonusDistribution__bonusforRatingB =\"90%\"#This is how we can change a private class variable!"
   ]
  },
  {
   "cell_type": "code",
   "execution_count": 66,
   "id": "c5cdbee4",
   "metadata": {},
   "outputs": [
    {
     "data": {
      "text/plain": [
       "'90%'"
      ]
     },
     "execution_count": 66,
     "metadata": {},
     "output_type": "execute_result"
    }
   ],
   "source": [
    "emp1._BonusDistribution__bonusforRatingB #We can override!!"
   ]
  },
  {
   "cell_type": "code",
   "execution_count": 67,
   "id": "fe362ba9",
   "metadata": {},
   "outputs": [
    {
     "data": {
      "text/plain": [
       "'Bonus for this employee is :90%'"
      ]
     },
     "execution_count": 67,
     "metadata": {},
     "output_type": "execute_result"
    }
   ],
   "source": [
    "emp1.bonusCalculator()"
   ]
  },
  {
   "cell_type": "markdown",
   "id": "653b14d0",
   "metadata": {},
   "source": [
    "## This is what the python creator! said that private and protected are just notations we can definetly access them using proper methods outside class"
   ]
  },
  {
   "cell_type": "markdown",
   "id": "d8215374",
   "metadata": {},
   "source": [
    "## These other languages will not allow you!"
   ]
  },
  {
   "cell_type": "markdown",
   "id": "04c5c8e5",
   "metadata": {},
   "source": [
    "This is not the right way to revoke a variable and change its value!! You can do it using a function defined for its self "
   ]
  },
  {
   "cell_type": "code",
   "execution_count": 82,
   "id": "96a11ce2",
   "metadata": {},
   "outputs": [],
   "source": [
    "class BonusDistribution:\n",
    "    def __init__(self,emp_id,emp_rating):\n",
    "        self.emp_id=emp_id\n",
    "        self.emp_rating=emp_rating\n",
    "        self.__bonusforRatingA = \"70%\"#making this private variable!\n",
    "        self.__bonusforRatingB = \"60%\"#making this private variable!\n",
    "        self.__bonusforRatingC = \"50%\"#making this private variable!\n",
    "        self.__bonusforRatingD = \"30%\"#making this private variable!\n",
    "        self.__bonusforRest = \"No bonus \"#making this private variable!\n",
    "        \n",
    "        \n",
    "    def bonusCalculator(self):\n",
    "        try:\n",
    "            \n",
    "        \n",
    "            if self.emp_rating == \"A\" :\n",
    "                bonus = self.__bonusforRatingA\n",
    "                msg = \"Bonus for this employee is :\"+ bonus\n",
    "                return msg\n",
    "            elif self.emp_rating == \"B\" :\n",
    "                bonus = self.__bonusforRatingB\n",
    "                msg = \"Bonus for this employee is :\"+ bonus\n",
    "                return msg\n",
    "            elif self.emp_rating == \"C\" :\n",
    "                bonus = self.__bonusforRatingC\n",
    "                msg = \"Bonus for this employee is :\"+ bonus\n",
    "                return msg\n",
    "            elif self.emp_rating == \"D\" :\n",
    "                bonus = self.__bonusforRatingC\n",
    "                msg = \"Bonus for this employee is :\"+ bonus\n",
    "                return msg\n",
    "            else:\n",
    "                bonus = self.__bonusforRest\n",
    "                msg = \"Bonus for this employee is :\"+ bonus\n",
    "                return msg\n",
    "            \n",
    "        except Exception as e:\n",
    "            self.logging(e)\n",
    "            \n",
    "    def logging(self,logg):\n",
    "        import logging as log\n",
    "        log.basicConfig(filename=\"olaf.log\",level=log.INFO)\n",
    "        log.info(logg)\n",
    "\n",
    "    def changeVariable(self,value):\n",
    "        self.__bonusforRatingB = value\n",
    "        #Here it will take some value and it will re assign it !\n",
    "        "
   ]
  },
  {
   "cell_type": "code",
   "execution_count": 92,
   "id": "f2232f32",
   "metadata": {},
   "outputs": [],
   "source": [
    "emp1=BonusDistribution(4015,\"B\")"
   ]
  },
  {
   "cell_type": "code",
   "execution_count": 93,
   "id": "3e70acd7",
   "metadata": {},
   "outputs": [
    {
     "data": {
      "text/plain": [
       "'Bonus for this employee is :60%'"
      ]
     },
     "execution_count": 93,
     "metadata": {},
     "output_type": "execute_result"
    }
   ],
   "source": [
    "emp1.bonusCalculator()"
   ]
  },
  {
   "cell_type": "code",
   "execution_count": 94,
   "id": "783000ff",
   "metadata": {},
   "outputs": [],
   "source": [
    "emp1.changeVariable(\"95\")"
   ]
  },
  {
   "cell_type": "code",
   "execution_count": 95,
   "id": "77246775",
   "metadata": {},
   "outputs": [
    {
     "data": {
      "text/plain": [
       "'Bonus for this employee is :95'"
      ]
     },
     "execution_count": 95,
     "metadata": {},
     "output_type": "execute_result"
    }
   ],
   "source": [
    "emp1.bonusCalculator()"
   ]
  },
  {
   "cell_type": "markdown",
   "id": "4b2f330b",
   "metadata": {},
   "source": [
    "## Isn't this an example of encapsulation!"
   ]
  },
  {
   "cell_type": "markdown",
   "id": "65805420",
   "metadata": {},
   "source": [
    "so basic example\n"
   ]
  },
  {
   "cell_type": "code",
   "execution_count": null,
   "id": "aa960488",
   "metadata": {},
   "outputs": [],
   "source": [
    "print('press shift+ tab')"
   ]
  },
  {
   "cell_type": "markdown",
   "id": "76659d73",
   "metadata": {},
   "source": [
    "print()\n",
    "Docstring:\n",
    "print(value, ..., sep=' ', end='\\n', file=sys.stdout, flush=False)\n",
    "\n",
    "Prints the values to a stream, or to sys.stdout by default."
   ]
  },
  {
   "cell_type": "markdown",
   "id": "1cd0c464",
   "metadata": {},
   "source": [
    "So in python sep is '  ' basically empty space by default but we definetly override it!!"
   ]
  },
  {
   "cell_type": "markdown",
   "id": "32800000",
   "metadata": {},
   "source": [
    "So sometimes when we dont use the seperator python simply uses the default way to print it! \n",
    "Doesnt this mean encapsulation compared to the previous program!"
   ]
  },
  {
   "cell_type": "markdown",
   "id": "ef6dfcca",
   "metadata": {},
   "source": [
    "# How does encapsulation work?\n",
    "\n",
    "Therefore, encapsulation can be used to hide data members and functions associated with an instantiated class or object. Encapsulation is analogous to a capsule where the mixture of medicines inside the pill represents the data and methods while the hard outer shell could be thought of as the class."
   ]
  },
  {
   "cell_type": "markdown",
   "id": "71e25b80",
   "metadata": {},
   "source": [
    "## IMP: So onother property of encapsulation is we always try to implement our code in such a way it is not going to affect one obj in such a way that it will not affect the other obj!"
   ]
  },
  {
   "cell_type": "markdown",
   "id": "c4dfcff7",
   "metadata": {},
   "source": [
    "So now,\n",
    "Can we create a private function??"
   ]
  },
  {
   "cell_type": "code",
   "execution_count": 96,
   "id": "c09ae0a9",
   "metadata": {},
   "outputs": [],
   "source": [
    "class multinumeric():\n",
    "    def __init__(self,a):\n",
    "        self.a = a\n",
    "        "
   ]
  },
  {
   "cell_type": "code",
   "execution_count": 100,
   "id": "bfd71f5c",
   "metadata": {},
   "outputs": [],
   "source": [
    "mul=multinumeric(6)"
   ]
  },
  {
   "cell_type": "code",
   "execution_count": 101,
   "id": "8792efdb",
   "metadata": {},
   "outputs": [],
   "source": [
    "mul2=multinumeric(8)"
   ]
  },
  {
   "cell_type": "markdown",
   "id": "7c0d912b",
   "metadata": {},
   "source": [
    "# Interview Question!!"
   ]
  },
  {
   "cell_type": "code",
   "execution_count": 106,
   "id": "fee4d676",
   "metadata": {},
   "outputs": [
    {
     "ename": "TypeError",
     "evalue": "unsupported operand type(s) for *: 'multinumeric' and 'multinumeric'",
     "output_type": "error",
     "traceback": [
      "\u001b[1;31m---------------------------------------------------------------------------\u001b[0m",
      "\u001b[1;31mTypeError\u001b[0m                                 Traceback (most recent call last)",
      "Cell \u001b[1;32mIn[106], line 2\u001b[0m\n\u001b[0;32m      1\u001b[0m \u001b[38;5;66;03m#can they both be multiplied together???\u001b[39;00m\n\u001b[1;32m----> 2\u001b[0m \u001b[43mmul\u001b[49m\u001b[38;5;241;43m*\u001b[39;49m\u001b[43mmul2\u001b[49m \u001b[38;5;66;03m#Nooooooooooooooooooooooooooooooooooooooooooooooooooooooo\u001b[39;00m\n",
      "\u001b[1;31mTypeError\u001b[0m: unsupported operand type(s) for *: 'multinumeric' and 'multinumeric'"
     ]
    }
   ],
   "source": [
    "#can they both be multiplied together???\n",
    "mul*mul2 #Nooooooooooooooooooooooooooooooooooooooooooooooooooooooo"
   ]
  },
  {
   "cell_type": "code",
   "execution_count": 103,
   "id": "c42c488b",
   "metadata": {},
   "outputs": [
    {
     "data": {
      "text/plain": [
       "48"
      ]
     },
     "execution_count": 103,
     "metadata": {},
     "output_type": "execute_result"
    }
   ],
   "source": [
    "6*8"
   ]
  },
  {
   "cell_type": "markdown",
   "id": "6b995d6f",
   "metadata": {},
   "source": [
    "# How to multiply two objects??\n",
    "so here we will be able to multiply both the objects using the specific class method variables"
   ]
  },
  {
   "cell_type": "code",
   "execution_count": 107,
   "id": "58a7fbc3",
   "metadata": {},
   "outputs": [
    {
     "data": {
      "text/plain": [
       "48"
      ]
     },
     "execution_count": 107,
     "metadata": {},
     "output_type": "execute_result"
    }
   ],
   "source": [
    "mul.a*mul2.a#Here we are able to multiply using obj of the class and class's method variable"
   ]
  },
  {
   "cell_type": "markdown",
   "id": "398b803a",
   "metadata": {},
   "source": [
    "### Now another way to multiply is?"
   ]
  },
  {
   "cell_type": "code",
   "execution_count": 124,
   "id": "650ae2fb",
   "metadata": {},
   "outputs": [],
   "source": [
    "class multinumeric():\n",
    "    def __init__(self,a):\n",
    "        self.a = a\n",
    "        \n",
    "    def __mul__(self,other):\n",
    "        \n",
    "        return self.a * other.a"
   ]
  },
  {
   "cell_type": "markdown",
   "id": "0c09c111",
   "metadata": {},
   "source": [
    "## The Python __mul__() method is called to implement the arithmetic multiplication operation *. For example to evaluate the expression x * y, Python attempts to call x.__mul__(y). We call this a “Dunder Method” for “Double Underscore Method” (also called “magic method”). "
   ]
  },
  {
   "cell_type": "code",
   "execution_count": 129,
   "id": "937f25aa",
   "metadata": {},
   "outputs": [],
   "source": [
    "mul=multinumeric(6)\n",
    "mul1=multinumeric(8)"
   ]
  },
  {
   "cell_type": "markdown",
   "id": "6311180b",
   "metadata": {},
   "source": [
    "Here we are able to multiply!"
   ]
  },
  {
   "cell_type": "code",
   "execution_count": 130,
   "id": "77ec557f",
   "metadata": {
    "scrolled": true
   },
   "outputs": [
    {
     "data": {
      "text/plain": [
       "48"
      ]
     },
     "execution_count": 130,
     "metadata": {},
     "output_type": "execute_result"
    }
   ],
   "source": [
    "mul*mul1"
   ]
  },
  {
   "cell_type": "markdown",
   "id": "8192a0e0",
   "metadata": {},
   "source": [
    "## Another example"
   ]
  },
  {
   "cell_type": "code",
   "execution_count": 135,
   "id": "e4f792b0",
   "metadata": {},
   "outputs": [],
   "source": [
    "class Data:\n",
    "    def __init__(self, value):\n",
    "        self.value = value\n",
    "        \n",
    "    def __mul__(self, other):\n",
    "        return self.value * other.value\n",
    "a = Data(21)\n",
    "b = Data(2)\n"
   ]
  },
  {
   "cell_type": "code",
   "execution_count": 136,
   "id": "29436b7f",
   "metadata": {},
   "outputs": [
    {
     "name": "stdout",
     "output_type": "stream",
     "text": [
      "42\n"
     ]
    }
   ],
   "source": [
    "print(a*b)"
   ]
  },
  {
   "cell_type": "code",
   "execution_count": 144,
   "id": "b290cc6a",
   "metadata": {},
   "outputs": [],
   "source": [
    "class multinumeric():\n",
    "    def __init__(self,a):\n",
    "        self.a = a\n",
    "        \n",
    "    def __mul__(self,other):\n",
    "        \n",
    "        return self.a + other.a\n",
    "    \n",
    "    "
   ]
  },
  {
   "cell_type": "code",
   "execution_count": 145,
   "id": "79dd356a",
   "metadata": {},
   "outputs": [],
   "source": [
    "mul=multinumeric(5)\n",
    "mul1=multinumeric(3)"
   ]
  },
  {
   "cell_type": "code",
   "execution_count": 146,
   "id": "e9e08b0f",
   "metadata": {},
   "outputs": [
    {
     "data": {
      "text/plain": [
       "8"
      ]
     },
     "execution_count": 146,
     "metadata": {},
     "output_type": "execute_result"
    }
   ],
   "source": [
    "mul * mul1"
   ]
  },
  {
   "cell_type": "code",
   "execution_count": 147,
   "id": "c8180fc1",
   "metadata": {},
   "outputs": [
    {
     "ename": "TypeError",
     "evalue": "unsupported operand type(s) for +: 'multinumeric' and 'multinumeric'",
     "output_type": "error",
     "traceback": [
      "\u001b[1;31m---------------------------------------------------------------------------\u001b[0m",
      "\u001b[1;31mTypeError\u001b[0m                                 Traceback (most recent call last)",
      "Cell \u001b[1;32mIn[147], line 1\u001b[0m\n\u001b[1;32m----> 1\u001b[0m \u001b[43mmul\u001b[49m\u001b[43m \u001b[49m\u001b[38;5;241;43m+\u001b[39;49m\u001b[43m \u001b[49m\u001b[43mmul\u001b[49m\n",
      "\u001b[1;31mTypeError\u001b[0m: unsupported operand type(s) for +: 'multinumeric' and 'multinumeric'"
     ]
    }
   ],
   "source": [
    "mul + mul#Since we cannot add or subtract or multiply two objects of a class unless and until we have created and defined a function"
   ]
  },
  {
   "cell_type": "code",
   "execution_count": null,
   "id": "23e5bbfa",
   "metadata": {},
   "outputs": [],
   "source": [
    "class multinumeric():\n",
    "    def __init__(self,a):\n",
    "        self.a = a\n",
    "        \n",
    "    def __mul__(self,other):\n",
    "        \n",
    "        return self.a - other.a"
   ]
  },
  {
   "cell_type": "code",
   "execution_count": 148,
   "id": "980851ad",
   "metadata": {},
   "outputs": [],
   "source": [
    "mul=multinumeric(5)\n",
    "mul1=multinumeric(3)"
   ]
  },
  {
   "cell_type": "code",
   "execution_count": 150,
   "id": "1aff464f",
   "metadata": {},
   "outputs": [
    {
     "data": {
      "text/plain": [
       "8"
      ]
     },
     "execution_count": 150,
     "metadata": {},
     "output_type": "execute_result"
    }
   ],
   "source": [
    "mul*mul1"
   ]
  },
  {
   "cell_type": "code",
   "execution_count": 152,
   "id": "ae1d0df4",
   "metadata": {},
   "outputs": [
    {
     "ename": "TypeError",
     "evalue": "unsupported operand type(s) for -: 'multinumeric' and 'multinumeric'",
     "output_type": "error",
     "traceback": [
      "\u001b[1;31m---------------------------------------------------------------------------\u001b[0m",
      "\u001b[1;31mTypeError\u001b[0m                                 Traceback (most recent call last)",
      "Cell \u001b[1;32mIn[152], line 1\u001b[0m\n\u001b[1;32m----> 1\u001b[0m \u001b[43mmul\u001b[49m\u001b[43m \u001b[49m\u001b[38;5;241;43m-\u001b[39;49m\u001b[43m \u001b[49m\u001b[43mmul1\u001b[49m\n",
      "\u001b[1;31mTypeError\u001b[0m: unsupported operand type(s) for -: 'multinumeric' and 'multinumeric'"
     ]
    }
   ],
   "source": [
    "mul - mul1"
   ]
  },
  {
   "cell_type": "markdown",
   "id": "1949ee2c",
   "metadata": {},
   "source": [
    "## Operator Overloading: This is called as operator overloading operations where i am trying to nullyfy the actual property of the operator! "
   ]
  },
  {
   "cell_type": "markdown",
   "id": "2a2dc5b8",
   "metadata": {},
   "source": [
    "## You can in a similar way write string overloading __str__ here we are by default overloading the str method!"
   ]
  },
  {
   "cell_type": "code",
   "execution_count": 153,
   "id": "b1a9e419",
   "metadata": {},
   "outputs": [],
   "source": [
    "def test(a,b):\n",
    "    return a + b\n",
    "\n",
    "#This is just one methods but performs many different operations in int it adds\n",
    "#in str it concatenates\n",
    "#in list it appends\n",
    "\n"
   ]
  },
  {
   "cell_type": "markdown",
   "id": "553a15dc",
   "metadata": {},
   "source": [
    "## Here the properties are different depending or based on different situation known as POLYMORPHISM"
   ]
  },
  {
   "cell_type": "code",
   "execution_count": 159,
   "id": "2afc0508",
   "metadata": {},
   "outputs": [
    {
     "name": "stdout",
     "output_type": "stream",
     "text": [
      "5\n",
      "abcpqr\n",
      "[1, 2, 3, 4, 6, 7, 8, 9]\n"
     ]
    }
   ],
   "source": [
    "print(2 +3)\n",
    "print(\"abc\"+\"pqr\")\n",
    "print([1,2,3,4]+[6,7,8,9])"
   ]
  },
  {
   "cell_type": "markdown",
   "id": "adace58a",
   "metadata": {},
   "source": [
    "### What is Polymorphism: The word polymorphism means having many forms. In programming, polymorphism means the same function name (but different signatures) being used for different types. The key difference is the data types and number of arguments used in function."
   ]
  },
  {
   "cell_type": "code",
   "execution_count": 162,
   "id": "8ece3215",
   "metadata": {},
   "outputs": [],
   "source": [
    "class ineuron:\n",
    "    def msg(self):\n",
    "        print(\"Message to ineuron\")\n",
    "        \n",
    "class xyz:\n",
    "    def msg(self):\n",
    "        print(\"This is message to xyz\")\n",
    "        "
   ]
  },
  {
   "cell_type": "code",
   "execution_count": 163,
   "id": "ab8e7897",
   "metadata": {},
   "outputs": [],
   "source": [
    "def test(notes):\n",
    "    notes.msg()"
   ]
  },
  {
   "cell_type": "code",
   "execution_count": 165,
   "id": "4a6285cf",
   "metadata": {},
   "outputs": [],
   "source": [
    "i= ineuron()\n",
    "x = xyz()"
   ]
  },
  {
   "cell_type": "code",
   "execution_count": 166,
   "id": "f88f734e",
   "metadata": {},
   "outputs": [
    {
     "name": "stdout",
     "output_type": "stream",
     "text": [
      "Message to ineuron\n"
     ]
    }
   ],
   "source": [
    "test(i)"
   ]
  },
  {
   "cell_type": "code",
   "execution_count": 167,
   "id": "a4a65dd1",
   "metadata": {},
   "outputs": [
    {
     "name": "stdout",
     "output_type": "stream",
     "text": [
      "This is message to xyz\n"
     ]
    }
   ],
   "source": [
    "test(x)"
   ]
  },
  {
   "cell_type": "code",
   "execution_count": null,
   "id": "56582cfa",
   "metadata": {},
   "outputs": [],
   "source": [
    "This is an example of what??"
   ]
  },
  {
   "cell_type": "code",
   "execution_count": null,
   "id": "1f55f25a",
   "metadata": {},
   "outputs": [],
   "source": [
    "a)inheritance\n",
    "b)polymorphism\n",
    "c)abstraction\n",
    "d)encapsulation"
   ]
  },
  {
   "cell_type": "code",
   "execution_count": null,
   "id": "248ffd37",
   "metadata": {},
   "outputs": [],
   "source": [
    "So here dont you think it is quite similar to the above example\n",
    "The above example we gave test different objs like str int list etc\n",
    "Here in the above example we gave test method the class objs and they are returning different outputsdev"
   ]
  },
  {
   "cell_type": "code",
   "execution_count": null,
   "id": "7ade575a",
   "metadata": {},
   "outputs": [],
   "source": []
  },
  {
   "cell_type": "code",
   "execution_count": null,
   "id": "d25c4a92",
   "metadata": {},
   "outputs": [],
   "source": []
  },
  {
   "cell_type": "code",
   "execution_count": null,
   "id": "2fc5053f",
   "metadata": {},
   "outputs": [],
   "source": []
  },
  {
   "cell_type": "code",
   "execution_count": null,
   "id": "5952cf0a",
   "metadata": {},
   "outputs": [],
   "source": []
  },
  {
   "cell_type": "code",
   "execution_count": null,
   "id": "b1fcbf22",
   "metadata": {},
   "outputs": [],
   "source": []
  },
  {
   "cell_type": "code",
   "execution_count": null,
   "id": "2481f2ef",
   "metadata": {},
   "outputs": [],
   "source": []
  },
  {
   "cell_type": "code",
   "execution_count": null,
   "id": "ef670c6d",
   "metadata": {},
   "outputs": [],
   "source": []
  },
  {
   "cell_type": "code",
   "execution_count": null,
   "id": "a0289af9",
   "metadata": {},
   "outputs": [],
   "source": []
  },
  {
   "cell_type": "code",
   "execution_count": null,
   "id": "fb919554",
   "metadata": {},
   "outputs": [],
   "source": []
  },
  {
   "cell_type": "code",
   "execution_count": null,
   "id": "aca29fd8",
   "metadata": {},
   "outputs": [],
   "source": []
  },
  {
   "cell_type": "code",
   "execution_count": null,
   "id": "558b6890",
   "metadata": {},
   "outputs": [],
   "source": []
  },
  {
   "cell_type": "code",
   "execution_count": null,
   "id": "9598f27d",
   "metadata": {},
   "outputs": [],
   "source": []
  },
  {
   "cell_type": "code",
   "execution_count": null,
   "id": "5b353b7d",
   "metadata": {},
   "outputs": [],
   "source": []
  },
  {
   "cell_type": "code",
   "execution_count": null,
   "id": "ea640584",
   "metadata": {},
   "outputs": [],
   "source": []
  },
  {
   "cell_type": "code",
   "execution_count": null,
   "id": "e69e304f",
   "metadata": {},
   "outputs": [],
   "source": []
  },
  {
   "cell_type": "code",
   "execution_count": null,
   "id": "08159406",
   "metadata": {},
   "outputs": [],
   "source": []
  },
  {
   "cell_type": "code",
   "execution_count": null,
   "id": "c5b38e74",
   "metadata": {},
   "outputs": [],
   "source": []
  },
  {
   "cell_type": "code",
   "execution_count": null,
   "id": "0990b92c",
   "metadata": {},
   "outputs": [],
   "source": []
  },
  {
   "cell_type": "code",
   "execution_count": null,
   "id": "79954b40",
   "metadata": {},
   "outputs": [],
   "source": []
  },
  {
   "cell_type": "code",
   "execution_count": null,
   "id": "c7912258",
   "metadata": {},
   "outputs": [],
   "source": []
  },
  {
   "cell_type": "code",
   "execution_count": null,
   "id": "2d6a76d2",
   "metadata": {},
   "outputs": [],
   "source": []
  },
  {
   "cell_type": "code",
   "execution_count": null,
   "id": "b7d5a453",
   "metadata": {},
   "outputs": [],
   "source": []
  },
  {
   "cell_type": "code",
   "execution_count": null,
   "id": "56f8bbc4",
   "metadata": {},
   "outputs": [],
   "source": []
  },
  {
   "cell_type": "code",
   "execution_count": null,
   "id": "900ebe9e",
   "metadata": {},
   "outputs": [],
   "source": []
  },
  {
   "cell_type": "code",
   "execution_count": null,
   "id": "90019432",
   "metadata": {},
   "outputs": [],
   "source": []
  },
  {
   "cell_type": "code",
   "execution_count": null,
   "id": "c6833556",
   "metadata": {},
   "outputs": [],
   "source": []
  },
  {
   "cell_type": "code",
   "execution_count": null,
   "id": "a15fc79d",
   "metadata": {},
   "outputs": [],
   "source": []
  },
  {
   "cell_type": "code",
   "execution_count": null,
   "id": "ae94cf50",
   "metadata": {},
   "outputs": [],
   "source": []
  },
  {
   "cell_type": "code",
   "execution_count": null,
   "id": "4685889e",
   "metadata": {},
   "outputs": [],
   "source": []
  },
  {
   "cell_type": "code",
   "execution_count": null,
   "id": "34e8f160",
   "metadata": {},
   "outputs": [],
   "source": []
  },
  {
   "cell_type": "code",
   "execution_count": null,
   "id": "bfab9b2d",
   "metadata": {},
   "outputs": [],
   "source": []
  }
 ],
 "metadata": {
  "kernelspec": {
   "display_name": "Python 3 (ipykernel)",
   "language": "python",
   "name": "python3"
  },
  "language_info": {
   "codemirror_mode": {
    "name": "ipython",
    "version": 3
   },
   "file_extension": ".py",
   "mimetype": "text/x-python",
   "name": "python",
   "nbconvert_exporter": "python",
   "pygments_lexer": "ipython3",
   "version": "3.9.7"
  }
 },
 "nbformat": 4,
 "nbformat_minor": 5
}
