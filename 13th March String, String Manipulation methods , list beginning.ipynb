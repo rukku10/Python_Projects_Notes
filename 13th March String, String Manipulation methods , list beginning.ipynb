{
 "cells": [
  {
   "cell_type": "code",
   "execution_count": 5,
   "id": "8eb744c2",
   "metadata": {},
   "outputs": [],
   "source": [
    "s=\"Rukaiya\""
   ]
  },
  {
   "cell_type": "code",
   "execution_count": 6,
   "id": "5a0cdcad",
   "metadata": {},
   "outputs": [
    {
     "data": {
      "text/plain": [
       "'Rukaiya'"
      ]
     },
     "execution_count": 6,
     "metadata": {},
     "output_type": "execute_result"
    }
   ],
   "source": [
    "s"
   ]
  },
  {
   "cell_type": "code",
   "execution_count": 7,
   "id": "a8515746",
   "metadata": {},
   "outputs": [],
   "source": [
    "s='Rukaiya'"
   ]
  },
  {
   "cell_type": "code",
   "execution_count": 8,
   "id": "d8f26527",
   "metadata": {},
   "outputs": [
    {
     "data": {
      "text/plain": [
       "'Rukaiya'"
      ]
     },
     "execution_count": 8,
     "metadata": {},
     "output_type": "execute_result"
    }
   ],
   "source": [
    "s"
   ]
  },
  {
   "cell_type": "code",
   "execution_count": 3,
   "id": "68e984da",
   "metadata": {},
   "outputs": [],
   "source": [
    "r=\"My name's not added in the list\""
   ]
  },
  {
   "cell_type": "code",
   "execution_count": 4,
   "id": "2dd363f9",
   "metadata": {},
   "outputs": [
    {
     "data": {
      "text/plain": [
       "\"My name's not added in the list\""
      ]
     },
     "execution_count": 4,
     "metadata": {},
     "output_type": "execute_result"
    }
   ],
   "source": [
    "r"
   ]
  },
  {
   "cell_type": "raw",
   "id": "6a1a2d50",
   "metadata": {},
   "source": [
    "But suppose instead of r=\"My name's not added in the list\" if we type as follows"
   ]
  },
  {
   "cell_type": "code",
   "execution_count": 5,
   "id": "ace9f788",
   "metadata": {},
   "outputs": [
    {
     "ename": "SyntaxError",
     "evalue": "invalid syntax (Temp/ipykernel_19632/2882580907.py, line 1)",
     "output_type": "error",
     "traceback": [
      "\u001b[1;36m  File \u001b[1;32m\"C:\\Users\\RUKAIY~1\\AppData\\Local\\Temp/ipykernel_19632/2882580907.py\"\u001b[1;36m, line \u001b[1;32m1\u001b[0m\n\u001b[1;33m    r=\"My name\"s not added in the list\"\u001b[0m\n\u001b[1;37m               ^\u001b[0m\n\u001b[1;31mSyntaxError\u001b[0m\u001b[1;31m:\u001b[0m invalid syntax\n"
     ]
    }
   ],
   "source": [
    "r=\"My name\"s not added in the list\""
   ]
  },
  {
   "cell_type": "markdown",
   "id": "62877d45",
   "metadata": {},
   "source": [
    "It would give an Error, why?\n",
    "Because \" \" it seems incomplete to the interpreter"
   ]
  },
  {
   "cell_type": "code",
   "execution_count": 2,
   "id": "a4d8e953",
   "metadata": {},
   "outputs": [
    {
     "data": {
      "text/plain": [
       "'M'"
      ]
     },
     "execution_count": 2,
     "metadata": {},
     "output_type": "execute_result"
    }
   ],
   "source": [
    "r=\"My name's not added in the list\"\n",
    "r[0]"
   ]
  },
  {
   "cell_type": "code",
   "execution_count": 3,
   "id": "bce5d08c",
   "metadata": {},
   "outputs": [
    {
     "data": {
      "text/plain": [
       "\"My name's not added in\""
      ]
     },
     "execution_count": 3,
     "metadata": {},
     "output_type": "execute_result"
    }
   ],
   "source": [
    "r[0:-9:1]"
   ]
  },
  {
   "cell_type": "code",
   "execution_count": 4,
   "id": "c3c9894c",
   "metadata": {},
   "outputs": [
    {
     "data": {
      "text/plain": [
       "\"My name's not added in the list\""
      ]
     },
     "execution_count": 4,
     "metadata": {},
     "output_type": "execute_result"
    }
   ],
   "source": [
    "r[::]"
   ]
  },
  {
   "cell_type": "code",
   "execution_count": 5,
   "id": "50db1c0a",
   "metadata": {},
   "outputs": [
    {
     "data": {
      "text/plain": [
       "\"My name's not added in the lis\""
      ]
     },
     "execution_count": 5,
     "metadata": {},
     "output_type": "execute_result"
    }
   ],
   "source": [
    "r[:-1]"
   ]
  },
  {
   "cell_type": "code",
   "execution_count": 6,
   "id": "f18f7815",
   "metadata": {},
   "outputs": [
    {
     "data": {
      "text/plain": [
       "'tsil eht n'"
      ]
     },
     "execution_count": 6,
     "metadata": {},
     "output_type": "execute_result"
    }
   ],
   "source": [
    "r[-1:-11:-1]"
   ]
  },
  {
   "cell_type": "markdown",
   "id": "8d4a40d7",
   "metadata": {},
   "source": [
    "Here print all the characters one by one using for loop"
   ]
  },
  {
   "cell_type": "code",
   "execution_count": 7,
   "id": "9b8374fe",
   "metadata": {},
   "outputs": [
    {
     "name": "stdout",
     "output_type": "stream",
     "text": [
      "M y   n a m e ' s   n o t   a d d e d   i n   t h e   l i s t "
     ]
    }
   ],
   "source": [
    "for i in range(len(r)):\n",
    "    print(r[i],end=\" \")"
   ]
  },
  {
   "cell_type": "markdown",
   "id": "73988a6f",
   "metadata": {},
   "source": [
    "print it in reverse order"
   ]
  },
  {
   "cell_type": "code",
   "execution_count": 8,
   "id": "6c22dd74",
   "metadata": {},
   "outputs": [
    {
     "name": "stdout",
     "output_type": "stream",
     "text": [
      "t\n",
      "s\n",
      "i\n",
      "l\n",
      " \n",
      "e\n",
      "h\n",
      "t\n",
      " \n",
      "n\n",
      "i\n",
      " \n",
      "d\n",
      "e\n",
      "d\n",
      "d\n",
      "a\n",
      " \n",
      "t\n",
      "o\n",
      "n\n",
      " \n",
      "s\n",
      "'\n",
      "e\n",
      "m\n",
      "a\n",
      "n\n",
      " \n",
      "y\n",
      "M\n"
     ]
    }
   ],
   "source": [
    "for i in range(1,len(r)+1):\n",
    "    print(r[-i])"
   ]
  },
  {
   "cell_type": "code",
   "execution_count": null,
   "id": "09b43601",
   "metadata": {},
   "outputs": [],
   "source": []
  },
  {
   "cell_type": "code",
   "execution_count": 25,
   "id": "fdbbfa54",
   "metadata": {},
   "outputs": [
    {
     "name": "stdout",
     "output_type": "stream",
     "text": [
      "M\n",
      "y\n",
      " \n",
      "n\n",
      "a\n",
      "m\n",
      "e\n",
      "'\n",
      "s\n",
      " \n",
      "n\n",
      "o\n",
      "t\n",
      " \n",
      "a\n",
      "d\n",
      "d\n",
      "e\n",
      "d\n",
      " \n",
      "i\n",
      "n\n",
      " \n",
      "t\n",
      "h\n",
      "e\n",
      " \n",
      "l\n",
      "i\n",
      "s\n",
      "t\n"
     ]
    }
   ],
   "source": [
    "r=\"My name's not added in the list\"\n",
    "for i in r:\n",
    "    print(i)"
   ]
  },
  {
   "cell_type": "code",
   "execution_count": 22,
   "id": "c2f797db",
   "metadata": {},
   "outputs": [
    {
     "ename": "TypeError",
     "evalue": "'str' object cannot be interpreted as an integer",
     "output_type": "error",
     "traceback": [
      "\u001b[1;31m---------------------------------------------------------------------------\u001b[0m",
      "\u001b[1;31mTypeError\u001b[0m                                 Traceback (most recent call last)",
      "\u001b[1;32mC:\\Users\\RUKAIY~1\\AppData\\Local\\Temp/ipykernel_20624/1841096173.py\u001b[0m in \u001b[0;36m<module>\u001b[1;34m\u001b[0m\n\u001b[0;32m      1\u001b[0m \u001b[0mr\u001b[0m\u001b[1;33m=\u001b[0m\u001b[1;34m\"My name's not added in the list\"\u001b[0m\u001b[1;33m\u001b[0m\u001b[1;33m\u001b[0m\u001b[0m\n\u001b[1;32m----> 2\u001b[1;33m \u001b[1;32mfor\u001b[0m \u001b[0mi\u001b[0m \u001b[1;32min\u001b[0m \u001b[0mrange\u001b[0m\u001b[1;33m(\u001b[0m\u001b[0mr\u001b[0m\u001b[1;33m)\u001b[0m\u001b[1;33m:\u001b[0m\u001b[1;33m\u001b[0m\u001b[1;33m\u001b[0m\u001b[0m\n\u001b[0m\u001b[0;32m      3\u001b[0m     \u001b[1;32mif\u001b[0m \u001b[0mi\u001b[0m\u001b[1;33m==\u001b[0m\u001b[0mtype\u001b[0m\u001b[1;33m(\u001b[0m\u001b[0mstr\u001b[0m\u001b[1;33m)\u001b[0m\u001b[1;33m:\u001b[0m\u001b[1;33m\u001b[0m\u001b[1;33m\u001b[0m\u001b[0m\n\u001b[0;32m      4\u001b[0m         \u001b[0mprint\u001b[0m\u001b[1;33m(\u001b[0m\u001b[0mi\u001b[0m\u001b[1;33m)\u001b[0m\u001b[1;33m\u001b[0m\u001b[1;33m\u001b[0m\u001b[0m\n",
      "\u001b[1;31mTypeError\u001b[0m: 'str' object cannot be interpreted as an integer"
     ]
    }
   ],
   "source": [
    "r=\"My name's not added in the list\"\n",
    "for i in range(r):\n",
    "    if i==type(str):\n",
    "        print(i)"
   ]
  },
  {
   "cell_type": "code",
   "execution_count": 3,
   "id": "210e1431",
   "metadata": {},
   "outputs": [
    {
     "name": "stdout",
     "output_type": "stream",
     "text": [
      "tsil eht ni dedda ton s'eman yM\n"
     ]
    }
   ],
   "source": [
    "r=\"My name's not added in the list\"\n",
    "\n",
    "print(r[::-1])\n",
    "    "
   ]
  },
  {
   "cell_type": "markdown",
   "id": "9840e152",
   "metadata": {},
   "source": []
  },
  {
   "cell_type": "code",
   "execution_count": 5,
   "id": "4f41bcd3",
   "metadata": {},
   "outputs": [
    {
     "name": "stdout",
     "output_type": "stream",
     "text": [
      "tsil eht ni dedda ton s'eman y\n"
     ]
    }
   ],
   "source": [
    "#Here the upper bound is not included hence M is not getting printed\n",
    "r=\"My name's not added in the list\"\n",
    "for i in range(len(r)):\n",
    "    print(r[:-i:-1])\n",
    "    \n",
    "    break\n",
    "    \n",
    "    "
   ]
  },
  {
   "cell_type": "code",
   "execution_count": 2,
   "id": "123e010f",
   "metadata": {},
   "outputs": [
    {
     "name": "stdout",
     "output_type": "stream",
     "text": [
      "tsil eht ni dedda ton s'eman yM\n"
     ]
    }
   ],
   "source": [
    "\n",
    "r=\"My name's not added in the list\"\n",
    "for i in range(len(r)):\n",
    "    print(r[::-1])\n",
    "    break\n",
    "    "
   ]
  },
  {
   "cell_type": "code",
   "execution_count": 64,
   "id": "076c2771",
   "metadata": {},
   "outputs": [
    {
     "data": {
      "text/plain": [
       "\"tsil eht ni dedda ton s'eman yM\""
      ]
     },
     "execution_count": 64,
     "metadata": {},
     "output_type": "execute_result"
    }
   ],
   "source": [
    "r[::-1]"
   ]
  },
  {
   "cell_type": "markdown",
   "id": "a2fa2790",
   "metadata": {},
   "source": [
    "# Doubt"
   ]
  },
  {
   "cell_type": "code",
   "execution_count": 9,
   "id": "884ba6d5",
   "metadata": {},
   "outputs": [
    {
     "name": "stdout",
     "output_type": "stream",
     "text": [
      "M\n",
      "t\n",
      "s\n",
      "i\n",
      "l\n",
      " \n",
      "e\n",
      "h\n",
      "t\n",
      " \n",
      "n\n",
      "i\n",
      " \n",
      "d\n",
      "e\n",
      "d\n",
      "d\n",
      "a\n",
      " \n",
      "t\n",
      "o\n",
      "n\n",
      " \n",
      "s\n",
      "'\n",
      "e\n",
      "m\n",
      "a\n",
      "n\n",
      " \n",
      "y\n"
     ]
    }
   ],
   "source": [
    "#Why is M getting printed\n",
    "r=\"My name's not added in the list\"\n",
    "for i in range(len(r)):\n",
    "    print(r[-i])\n",
    "    3\n",
    "    "
   ]
  },
  {
   "cell_type": "markdown",
   "id": "848a229d",
   "metadata": {},
   "source": [
    "# Doubt Solved\n",
    "Why M is not getting printed ??"
   ]
  },
  {
   "cell_type": "code",
   "execution_count": 1,
   "id": "20c594a0",
   "metadata": {},
   "outputs": [
    {
     "name": "stdout",
     "output_type": "stream",
     "text": [
      "t\n",
      "s\n",
      "i\n",
      "l\n",
      " \n",
      "e\n",
      "h\n",
      "t\n",
      " \n",
      "n\n",
      "i\n",
      " \n",
      "d\n",
      "e\n",
      "d\n",
      "d\n",
      "a\n",
      " \n",
      "t\n",
      "o\n",
      "n\n",
      " \n",
      "s\n",
      "'\n",
      "e\n",
      "m\n",
      "a\n",
      "n\n",
      " \n",
      "y\n"
     ]
    }
   ],
   "source": [
    "r=\"My name's not added in the list\"\n",
    "for i in range(1,len(r)):\n",
    "    print(r[-i])"
   ]
  },
  {
   "cell_type": "markdown",
   "id": "980aa900",
   "metadata": {},
   "source": [
    "But here m is not getting printed! In the above output!"
   ]
  },
  {
   "cell_type": "code",
   "execution_count": 18,
   "id": "b24a1a69",
   "metadata": {
    "scrolled": true
   },
   "outputs": [
    {
     "name": "stdout",
     "output_type": "stream",
     "text": [
      "t\n",
      "s\n",
      "i\n",
      "l\n",
      " \n",
      "e\n",
      "h\n",
      "t\n",
      " \n",
      "n\n",
      "i\n",
      " \n",
      "d\n",
      "e\n",
      "d\n",
      "d\n",
      "a\n",
      " \n",
      "t\n",
      "o\n",
      "n\n",
      " \n",
      "s\n",
      "'\n",
      "e\n",
      "m\n",
      "a\n",
      "n\n",
      " \n",
      "y\n",
      "M\n"
     ]
    }
   ],
   "source": [
    "r=\"My name's not added in the list\"\n",
    "for i in range(1,len(r)+1):\n",
    "    print(r[-i]) #Plus since without it M wont get printed becuase len (r )-1 \n",
    "#is the end point hence wont print M so will have to add +1 to the list to print it"
   ]
  },
  {
   "cell_type": "code",
   "execution_count": null,
   "id": "63700c93",
   "metadata": {},
   "outputs": [],
   "source": []
  },
  {
   "cell_type": "markdown",
   "id": "b097f466",
   "metadata": {},
   "source": [
    "Now Replacing string Characters with other letters"
   ]
  },
  {
   "cell_type": "code",
   "execution_count": 73,
   "id": "7cbc64b9",
   "metadata": {},
   "outputs": [
    {
     "ename": "TypeError",
     "evalue": "'str' object does not support item assignment",
     "output_type": "error",
     "traceback": [
      "\u001b[1;31m---------------------------------------------------------------------------\u001b[0m",
      "\u001b[1;31mTypeError\u001b[0m                                 Traceback (most recent call last)",
      "\u001b[1;32mC:\\Users\\RUKAIY~1\\AppData\\Local\\Temp/ipykernel_20624/2496487710.py\u001b[0m in \u001b[0;36m<module>\u001b[1;34m\u001b[0m\n\u001b[1;32m----> 1\u001b[1;33m \u001b[0mr\u001b[0m\u001b[1;33m[\u001b[0m\u001b[1;36m0\u001b[0m\u001b[1;33m]\u001b[0m\u001b[1;33m=\u001b[0m\u001b[1;34m\"r\"\u001b[0m\u001b[1;33m\u001b[0m\u001b[1;33m\u001b[0m\u001b[0m\n\u001b[0m",
      "\u001b[1;31mTypeError\u001b[0m: 'str' object does not support item assignment"
     ]
    }
   ],
   "source": [
    "r[0]=\"r\""
   ]
  },
  {
   "cell_type": "markdown",
   "id": "52e04b59",
   "metadata": {},
   "source": [
    "BOTH STRING AND LIST CAN BE ITERATED BUT THE DIFFERENCES ARE AS FOLLOWS:"
   ]
  },
  {
   "cell_type": "markdown",
   "id": "b676babc",
   "metadata": {},
   "source": [
    "# Important!- Concept of Mutable and Immutable\n",
    "In String only\n",
    "error:'str' object does not support item assignment,\n",
    "This means in String object we cannot assign a particular index a data so here string is immutable object! i.e in any string we wont be able to replace one character with another character!"
   ]
  },
  {
   "cell_type": "markdown",
   "id": "c050fc76",
   "metadata": {},
   "source": [
    "# STRING IS IMMUTABLE OBJECT     &     LISTS ARE MUTABLE OBJECT\n"
   ]
  },
  {
   "cell_type": "markdown",
   "id": "a967a830",
   "metadata": {},
   "source": [
    "# What is mutability & immutability?\n",
    "So, at some point we are able to replace the value of some indexes with new values in an iterable object like STRING OR LIST is called mutability. in other terms Able to do manipulation at a particular index is called mutability.\n",
    "But if manipulation or change of characters at a particular index is not allowed then it is called immutability."
   ]
  },
  {
   "cell_type": "markdown",
   "id": "63c54346",
   "metadata": {},
   "source": [
    "# What is the use of String immutability?\n",
    "so while we create passwords we dont want them to get changed!\n",
    "so to maintain them string immutability is very important"
   ]
  },
  {
   "cell_type": "code",
   "execution_count": 87,
   "id": "c014e7ec",
   "metadata": {},
   "outputs": [],
   "source": [
    "l=[\"abc\",342,879.09,True]"
   ]
  },
  {
   "cell_type": "code",
   "execution_count": 88,
   "id": "7690f87f",
   "metadata": {},
   "outputs": [
    {
     "data": {
      "text/plain": [
       "'abc'"
      ]
     },
     "execution_count": 88,
     "metadata": {},
     "output_type": "execute_result"
    }
   ],
   "source": [
    "l[0]"
   ]
  },
  {
   "cell_type": "code",
   "execution_count": 89,
   "id": "e103c244",
   "metadata": {},
   "outputs": [],
   "source": [
    "l[0]=\"ruks\""
   ]
  },
  {
   "cell_type": "code",
   "execution_count": 91,
   "id": "792f08ef",
   "metadata": {},
   "outputs": [
    {
     "data": {
      "text/plain": [
       "['ruks', 342, 879.09, True]"
      ]
     },
     "execution_count": 91,
     "metadata": {},
     "output_type": "execute_result"
    }
   ],
   "source": [
    "l #Here it is replacable!"
   ]
  },
  {
   "cell_type": "code",
   "execution_count": 92,
   "id": "b59ceb9a",
   "metadata": {},
   "outputs": [],
   "source": [
    "l=list()"
   ]
  },
  {
   "cell_type": "code",
   "execution_count": null,
   "id": "a0dfcc0c",
   "metadata": {},
   "outputs": [],
   "source": [
    "type(l)"
   ]
  },
  {
   "cell_type": "code",
   "execution_count": 96,
   "id": "348a27e0",
   "metadata": {},
   "outputs": [
    {
     "data": {
      "text/plain": [
       "['orange', 'kiwi', 'melon']"
      ]
     },
     "execution_count": 96,
     "metadata": {},
     "output_type": "execute_result"
    }
   ],
   "source": [
    "thislist = [\"apple\", \"banana\", \"cherry\", \"orange\", \"kiwi\", \"melon\", \"mango\"]\n",
    "thislist[-4:-1]"
   ]
  },
  {
   "cell_type": "code",
   "execution_count": 97,
   "id": "6a90e6be",
   "metadata": {},
   "outputs": [
    {
     "data": {
      "text/plain": [
       "'ruksieabbas'"
      ]
     },
     "execution_count": 97,
     "metadata": {},
     "output_type": "execute_result"
    }
   ],
   "source": [
    "\"ruksie\"+ \"abbas\""
   ]
  },
  {
   "cell_type": "code",
   "execution_count": 98,
   "id": "807c8a1e",
   "metadata": {},
   "outputs": [
    {
     "ename": "TypeError",
     "evalue": "can only concatenate str (not \"int\") to str",
     "output_type": "error",
     "traceback": [
      "\u001b[1;31m---------------------------------------------------------------------------\u001b[0m",
      "\u001b[1;31mTypeError\u001b[0m                                 Traceback (most recent call last)",
      "\u001b[1;32mC:\\Users\\RUKAIY~1\\AppData\\Local\\Temp/ipykernel_20624/1376484450.py\u001b[0m in \u001b[0;36m<module>\u001b[1;34m\u001b[0m\n\u001b[1;32m----> 1\u001b[1;33m \u001b[1;34m\"ruksie\"\u001b[0m \u001b[1;33m+\u001b[0m \u001b[1;36m5\u001b[0m\u001b[1;33m\u001b[0m\u001b[1;33m\u001b[0m\u001b[0m\n\u001b[0m",
      "\u001b[1;31mTypeError\u001b[0m: can only concatenate str (not \"int\") to str"
     ]
    }
   ],
   "source": [
    "\"ruksie\" + 5"
   ]
  },
  {
   "cell_type": "code",
   "execution_count": 100,
   "id": "e7ef2f77",
   "metadata": {},
   "outputs": [
    {
     "data": {
      "text/plain": [
       "'ruksie 5'"
      ]
     },
     "execution_count": 100,
     "metadata": {},
     "output_type": "execute_result"
    }
   ],
   "source": [
    "\"ruksie\" + \" 5\""
   ]
  },
  {
   "cell_type": "code",
   "execution_count": 107,
   "id": "ac923dff",
   "metadata": {},
   "outputs": [
    {
     "data": {
      "text/plain": [
       "'ruksie5'"
      ]
     },
     "execution_count": 107,
     "metadata": {},
     "output_type": "execute_result"
    }
   ],
   "source": [
    "\"ruksie\" + str(5) #Here we need to do type casting!"
   ]
  },
  {
   "cell_type": "code",
   "execution_count": 108,
   "id": "56211892",
   "metadata": {},
   "outputs": [
    {
     "ename": "TypeError",
     "evalue": "can only concatenate str (not \"list\") to str",
     "output_type": "error",
     "traceback": [
      "\u001b[1;31m---------------------------------------------------------------------------\u001b[0m",
      "\u001b[1;31mTypeError\u001b[0m                                 Traceback (most recent call last)",
      "\u001b[1;32mC:\\Users\\RUKAIY~1\\AppData\\Local\\Temp/ipykernel_20624/1275245010.py\u001b[0m in \u001b[0;36m<module>\u001b[1;34m\u001b[0m\n\u001b[1;32m----> 1\u001b[1;33m \u001b[1;34m\"ruksie\"\u001b[0m \u001b[1;33m+\u001b[0m \u001b[1;33m[\u001b[0m\u001b[1;36m5\u001b[0m\u001b[1;33m,\u001b[0m\u001b[1;36m9\u001b[0m\u001b[1;33m,\u001b[0m\u001b[1;34m\"List\"\u001b[0m\u001b[1;33m]\u001b[0m \u001b[1;31m#Can only concatenate str (not \"list\") to str\u001b[0m\u001b[1;33m\u001b[0m\u001b[1;33m\u001b[0m\u001b[0m\n\u001b[0m",
      "\u001b[1;31mTypeError\u001b[0m: can only concatenate str (not \"list\") to str"
     ]
    }
   ],
   "source": [
    "\"ruksie\" + [5,9,\"List\"] #Can only concatenate str (not \"list\") to str"
   ]
  },
  {
   "cell_type": "code",
   "execution_count": 109,
   "id": "9ff12ad5",
   "metadata": {},
   "outputs": [
    {
     "data": {
      "text/plain": [
       "['list', 0, 9, 8, 'pooo', 876, 9]"
      ]
     },
     "execution_count": 109,
     "metadata": {},
     "output_type": "execute_result"
    }
   ],
   "source": [
    "[\"list\",0,9,8] + [\"pooo\",876,9] # List and list can be concatenated"
   ]
  },
  {
   "cell_type": "markdown",
   "id": "1420fca3",
   "metadata": {},
   "source": [
    "###### STRING METHODS>>>> Press Tab in jupyter notebook for all the methods s.f(press tab) for all the methods to appear starting from f"
   ]
  },
  {
   "cell_type": "markdown",
   "id": "11b2c6f9",
   "metadata": {},
   "source": [
    "# Press shift & tab inside a function i.e s.format(Here press shift and tab) specifications will appear"
   ]
  },
  {
   "cell_type": "code",
   "execution_count": 111,
   "id": "869206b0",
   "metadata": {},
   "outputs": [],
   "source": [
    "r=\"this is me\""
   ]
  },
  {
   "cell_type": "markdown",
   "id": "be88a67a",
   "metadata": {},
   "source": [
    "# FIND Method"
   ]
  },
  {
   "cell_type": "code",
   "execution_count": 113,
   "id": "9372920a",
   "metadata": {},
   "outputs": [
    {
     "data": {
      "text/plain": [
       "2"
      ]
     },
     "execution_count": 113,
     "metadata": {},
     "output_type": "execute_result"
    }
   ],
   "source": [
    "r.find(\"i\") #Return the lowest index in S where substring i is found,such that sub is contained within S[start:end]\n",
    "#That is since two \"i\"'s are present So here we will get the \"th i s\" string \"i\" character and not \"i s\" string character\n",
    "#since \"this is me\" \"th'i's string 'i' stands first and is the lowest index "
   ]
  },
  {
   "cell_type": "code",
   "execution_count": 122,
   "id": "c5050457",
   "metadata": {},
   "outputs": [
    {
     "data": {
      "text/plain": [
       "2"
      ]
     },
     "execution_count": 122,
     "metadata": {},
     "output_type": "execute_result"
    }
   ],
   "source": [
    "r.find(\"is\")"
   ]
  },
  {
   "cell_type": "markdown",
   "id": "4e66f6d9",
   "metadata": {},
   "source": [
    "Now if any string or string character is not available in the string then it will show as follows:"
   ]
  },
  {
   "cell_type": "code",
   "execution_count": 9,
   "id": "96febf0b",
   "metadata": {
    "scrolled": true
   },
   "outputs": [
    {
     "name": "stdout",
     "output_type": "stream",
     "text": [
      "1\n",
      "2\n",
      "3\n",
      "4\n",
      "5\n",
      "6\n",
      "7\n",
      "8\n",
      "9\n",
      "10\n"
     ]
    }
   ],
   "source": [
    "r=\"this is me\"\n",
    "for i in range(1,len(r)+1):\n",
    "    print(i)"
   ]
  },
  {
   "cell_type": "code",
   "execution_count": 16,
   "id": "b739b81a",
   "metadata": {},
   "outputs": [
    {
     "name": "stdout",
     "output_type": "stream",
     "text": [
      "5\n",
      "6\n",
      "7\n",
      "8\n",
      "9\n"
     ]
    }
   ],
   "source": [
    "r=\"this is me\"\n",
    "l=r.find(\"is me\")\n",
    "for i in range(len(\"is me\")):\n",
    "    print(l+i)\n",
    "    "
   ]
  },
  {
   "cell_type": "code",
   "execution_count": 12,
   "id": "f31b311f",
   "metadata": {},
   "outputs": [
    {
     "data": {
      "text/plain": [
       "5"
      ]
     },
     "execution_count": 12,
     "metadata": {},
     "output_type": "execute_result"
    }
   ],
   "source": [
    "l=r.find(\"is me\")\n",
    "l"
   ]
  },
  {
   "cell_type": "code",
   "execution_count": 2,
   "id": "0eb9e151",
   "metadata": {},
   "outputs": [
    {
     "data": {
      "text/plain": [
       "2"
      ]
     },
     "execution_count": 2,
     "metadata": {},
     "output_type": "execute_result"
    }
   ],
   "source": [
    "r.find(\"i\")"
   ]
  },
  {
   "cell_type": "code",
   "execution_count": 3,
   "id": "b03f0ff0",
   "metadata": {},
   "outputs": [
    {
     "data": {
      "text/plain": [
       "0"
      ]
     },
     "execution_count": 3,
     "metadata": {},
     "output_type": "execute_result"
    }
   ],
   "source": [
    "r.find(\"this\")"
   ]
  },
  {
   "cell_type": "code",
   "execution_count": 4,
   "id": "1d55c344",
   "metadata": {},
   "outputs": [
    {
     "data": {
      "text/plain": [
       "2"
      ]
     },
     "execution_count": 4,
     "metadata": {},
     "output_type": "execute_result"
    }
   ],
   "source": [
    "r.find(\"is\")"
   ]
  },
  {
   "cell_type": "code",
   "execution_count": 5,
   "id": "5d78e27f",
   "metadata": {},
   "outputs": [
    {
     "data": {
      "text/plain": [
       "8"
      ]
     },
     "execution_count": 5,
     "metadata": {},
     "output_type": "execute_result"
    }
   ],
   "source": [
    "r.find(\"me\")"
   ]
  },
  {
   "cell_type": "code",
   "execution_count": 197,
   "id": "26216fb0",
   "metadata": {},
   "outputs": [
    {
     "data": {
      "text/plain": [
       "-1"
      ]
     },
     "execution_count": 197,
     "metadata": {},
     "output_type": "execute_result"
    }
   ],
   "source": [
    "r.find(\"q\") #Since q is not present in the string"
   ]
  },
  {
   "cell_type": "code",
   "execution_count": 198,
   "id": "0121d9ab",
   "metadata": {},
   "outputs": [
    {
     "data": {
      "text/plain": [
       "8"
      ]
     },
     "execution_count": 198,
     "metadata": {},
     "output_type": "execute_result"
    }
   ],
   "source": [
    "r.find(\"me\")"
   ]
  },
  {
   "cell_type": "code",
   "execution_count": 199,
   "id": "28fa540b",
   "metadata": {
    "scrolled": true
   },
   "outputs": [
    {
     "data": {
      "text/plain": [
       "-1"
      ]
     },
     "execution_count": 199,
     "metadata": {},
     "output_type": "execute_result"
    }
   ],
   "source": [
    "r.find(\"df\")"
   ]
  },
  {
   "cell_type": "code",
   "execution_count": 213,
   "id": "dc403557",
   "metadata": {},
   "outputs": [
    {
     "name": "stdout",
     "output_type": "stream",
     "text": [
      "5\n",
      "6\n",
      "7\n",
      "8\n",
      "9\n",
      "10\n",
      "11\n",
      "12\n",
      "13\n",
      "14\n",
      "15\n",
      "16\n",
      "17\n",
      "18\n",
      "19\n",
      "20\n",
      "21\n",
      "22\n",
      "23\n",
      "24\n",
      "25\n",
      "26\n",
      "27\n",
      "28\n",
      "29\n",
      "30\n",
      "31\n",
      "32\n",
      "33\n",
      "34\n",
      "35\n",
      "36\n"
     ]
    }
   ],
   "source": [
    "p=(\"This is the code to find index values\")\n",
    "o=p.find(\"is the code to find index values\")\n",
    "for i in range(len(\"is the code to find index values\")):\n",
    "    print(o+i)\n",
    "    "
   ]
  },
  {
   "cell_type": "code",
   "execution_count": 214,
   "id": "3dd7e780",
   "metadata": {},
   "outputs": [],
   "source": [
    "o=p.find(\"is the code to find index values\")"
   ]
  },
  {
   "cell_type": "code",
   "execution_count": 215,
   "id": "b51fb849",
   "metadata": {},
   "outputs": [
    {
     "data": {
      "text/plain": [
       "5"
      ]
     },
     "execution_count": 215,
     "metadata": {},
     "output_type": "execute_result"
    }
   ],
   "source": [
    "o"
   ]
  },
  {
   "cell_type": "code",
   "execution_count": 53,
   "id": "d8a97a74",
   "metadata": {
    "scrolled": true
   },
   "outputs": [
    {
     "name": "stdout",
     "output_type": "stream",
     "text": [
      "5\n",
      "6\n",
      "7\n",
      "8\n",
      "9\n",
      "10\n",
      "11\n",
      "12\n",
      "13\n",
      "14\n",
      "15\n"
     ]
    }
   ],
   "source": [
    "p=(\"This is the code to find index values\")\n",
    "s=p.find(\"is the code\")\n",
    "for i in range(len(\"is the code\")):\n",
    "    print(s+i)"
   ]
  },
  {
   "cell_type": "code",
   "execution_count": 49,
   "id": "fb2105ba",
   "metadata": {},
   "outputs": [
    {
     "data": {
      "text/plain": [
       "5"
      ]
     },
     "execution_count": 49,
     "metadata": {},
     "output_type": "execute_result"
    }
   ],
   "source": [
    "p.find(\"is the code\")"
   ]
  },
  {
   "cell_type": "code",
   "execution_count": 36,
   "id": "36dfe90e",
   "metadata": {},
   "outputs": [
    {
     "data": {
      "text/plain": [
       "-1"
      ]
     },
     "execution_count": 36,
     "metadata": {},
     "output_type": "execute_result"
    }
   ],
   "source": [
    "r.find(\"x\")"
   ]
  },
  {
   "cell_type": "code",
   "execution_count": 121,
   "id": "0d57027d",
   "metadata": {},
   "outputs": [
    {
     "ename": "TypeError",
     "evalue": "find() takes at least 1 argument (0 given)",
     "output_type": "error",
     "traceback": [
      "\u001b[1;31m---------------------------------------------------------------------------\u001b[0m",
      "\u001b[1;31mTypeError\u001b[0m                                 Traceback (most recent call last)",
      "\u001b[1;32mC:\\Users\\RUKAIY~1\\AppData\\Local\\Temp/ipykernel_20624/2762051007.py\u001b[0m in \u001b[0;36m<module>\u001b[1;34m\u001b[0m\n\u001b[1;32m----> 1\u001b[1;33m \u001b[0mr\u001b[0m\u001b[1;33m.\u001b[0m\u001b[0mfind\u001b[0m\u001b[1;33m(\u001b[0m\u001b[1;33m)\u001b[0m \u001b[1;31m#Doesn't even take empty method\u001b[0m\u001b[1;33m\u001b[0m\u001b[1;33m\u001b[0m\u001b[0m\n\u001b[0m",
      "\u001b[1;31mTypeError\u001b[0m: find() takes at least 1 argument (0 given)"
     ]
    }
   ],
   "source": [
    "r.find() #Doesn't even take empty method"
   ]
  },
  {
   "cell_type": "code",
   "execution_count": 190,
   "id": "2790bcc3",
   "metadata": {},
   "outputs": [],
   "source": [
    "s=\"my name is\""
   ]
  },
  {
   "cell_type": "markdown",
   "id": "48308741",
   "metadata": {},
   "source": [
    "# Find individual indexes of n,a,m,e"
   ]
  },
  {
   "cell_type": "code",
   "execution_count": 1,
   "id": "bfe3dbb7",
   "metadata": {},
   "outputs": [
    {
     "ename": "TypeError",
     "evalue": "find() takes at most 3 arguments (4 given)",
     "output_type": "error",
     "traceback": [
      "\u001b[1;31m---------------------------------------------------------------------------\u001b[0m",
      "\u001b[1;31mTypeError\u001b[0m                                 Traceback (most recent call last)",
      "\u001b[1;32mC:\\Users\\RUKAIY~1\\AppData\\Local\\Temp/ipykernel_35068/3360516904.py\u001b[0m in \u001b[0;36m<module>\u001b[1;34m\u001b[0m\n\u001b[0;32m      1\u001b[0m \u001b[0ms\u001b[0m\u001b[1;33m=\u001b[0m\u001b[1;34m\"my name is\"\u001b[0m\u001b[1;33m\u001b[0m\u001b[1;33m\u001b[0m\u001b[0m\n\u001b[1;32m----> 2\u001b[1;33m \u001b[0ms\u001b[0m\u001b[1;33m.\u001b[0m\u001b[0mfind\u001b[0m\u001b[1;33m(\u001b[0m\u001b[1;34m'n'\u001b[0m\u001b[1;33m,\u001b[0m\u001b[1;34m'a'\u001b[0m\u001b[1;33m,\u001b[0m\u001b[1;34m'm'\u001b[0m\u001b[1;33m,\u001b[0m\u001b[1;34m'e'\u001b[0m\u001b[1;33m)\u001b[0m\u001b[1;33m\u001b[0m\u001b[1;33m\u001b[0m\u001b[0m\n\u001b[0m",
      "\u001b[1;31mTypeError\u001b[0m: find() takes at most 3 arguments (4 given)"
     ]
    }
   ],
   "source": [
    "s=\"my name is\"\n",
    "s.find('n','a','m','e')"
   ]
  },
  {
   "cell_type": "code",
   "execution_count": 192,
   "id": "f6dfe3c3",
   "metadata": {},
   "outputs": [
    {
     "data": {
      "text/plain": [
       "3"
      ]
     },
     "execution_count": 192,
     "metadata": {},
     "output_type": "execute_result"
    }
   ],
   "source": [
    "s.find(\"name\")"
   ]
  },
  {
   "cell_type": "code",
   "execution_count": 138,
   "id": "c2d04577",
   "metadata": {},
   "outputs": [],
   "source": [
    "f=s.find(\"name\")"
   ]
  },
  {
   "cell_type": "code",
   "execution_count": 139,
   "id": "23b37b5d",
   "metadata": {},
   "outputs": [
    {
     "data": {
      "text/plain": [
       "3"
      ]
     },
     "execution_count": 139,
     "metadata": {},
     "output_type": "execute_result"
    }
   ],
   "source": [
    "f"
   ]
  },
  {
   "cell_type": "code",
   "execution_count": 143,
   "id": "867ab547",
   "metadata": {},
   "outputs": [
    {
     "name": "stdout",
     "output_type": "stream",
     "text": [
      "0\n",
      "1\n",
      "2\n",
      "3\n"
     ]
    }
   ],
   "source": [
    "for i in range(len(\"name\")):\n",
    "    print(i)"
   ]
  },
  {
   "cell_type": "code",
   "execution_count": 144,
   "id": "4a02df27",
   "metadata": {},
   "outputs": [
    {
     "name": "stdout",
     "output_type": "stream",
     "text": [
      "3\n",
      "4\n",
      "5\n",
      "6\n"
     ]
    }
   ],
   "source": [
    "f=s.find(\"name\")\n",
    "for i in range(len(\"name\")):# EXPLAINATION: So here l(name)=4 i.e= i in l(name)=0,1,2,3,now  f=s.find(\"name\")=3\n",
    "    #f=3+i(0,1,2,3) i.e 3+0=3,  3+1=4,  3+2=5,  3+3=6\n",
    "    print(f+i)"
   ]
  },
  {
   "cell_type": "code",
   "execution_count": 5,
   "id": "e778f939",
   "metadata": {},
   "outputs": [],
   "source": [
    "s=\"my name is\""
   ]
  },
  {
   "cell_type": "code",
   "execution_count": 7,
   "id": "6d5ddeff",
   "metadata": {},
   "outputs": [],
   "source": [
    "r=s.find(\"y na\")"
   ]
  },
  {
   "cell_type": "code",
   "execution_count": 8,
   "id": "95f23fc6",
   "metadata": {},
   "outputs": [
    {
     "data": {
      "text/plain": [
       "1"
      ]
     },
     "execution_count": 8,
     "metadata": {},
     "output_type": "execute_result"
    }
   ],
   "source": [
    "r"
   ]
  },
  {
   "cell_type": "code",
   "execution_count": 11,
   "id": "f1364b65",
   "metadata": {},
   "outputs": [
    {
     "name": "stdout",
     "output_type": "stream",
     "text": [
      "1\n",
      "2\n",
      "3\n",
      "4\n"
     ]
    }
   ],
   "source": [
    "for i in range(len(\"y na\")):\n",
    "    print(r+i)"
   ]
  },
  {
   "cell_type": "code",
   "execution_count": null,
   "id": "e9931f1e",
   "metadata": {},
   "outputs": [],
   "source": []
  },
  {
   "cell_type": "code",
   "execution_count": null,
   "id": "2ea3f498",
   "metadata": {},
   "outputs": [],
   "source": []
  },
  {
   "cell_type": "markdown",
   "id": "d226393a",
   "metadata": {},
   "source": [
    "Find individual indexes of i,s"
   ]
  },
  {
   "cell_type": "code",
   "execution_count": 60,
   "id": "1f7026cb",
   "metadata": {},
   "outputs": [],
   "source": [
    "q=s.find(\"is\")"
   ]
  },
  {
   "cell_type": "code",
   "execution_count": 63,
   "id": "98bedfeb",
   "metadata": {},
   "outputs": [
    {
     "data": {
      "text/plain": [
       "8"
      ]
     },
     "execution_count": 63,
     "metadata": {},
     "output_type": "execute_result"
    }
   ],
   "source": [
    "s.find(\"is\")"
   ]
  },
  {
   "cell_type": "code",
   "execution_count": 67,
   "id": "5d1f45e2",
   "metadata": {},
   "outputs": [
    {
     "name": "stdout",
     "output_type": "stream",
     "text": [
      "8\n",
      "9\n"
     ]
    }
   ],
   "source": [
    "q=s.find(\"is\")\n",
    "for i in range(len(\"is\")):\n",
    "    print(q+i)"
   ]
  },
  {
   "cell_type": "code",
   "execution_count": 27,
   "id": "6c428f9b",
   "metadata": {},
   "outputs": [
    {
     "name": "stdout",
     "output_type": "stream",
     "text": [
      "m\n",
      "y\n",
      " \n",
      "n\n",
      "a\n",
      "m\n",
      "e\n",
      " \n",
      "i\n",
      "s\n"
     ]
    }
   ],
   "source": [
    "for i in s:\n",
    "    print(i)"
   ]
  },
  {
   "cell_type": "code",
   "execution_count": 163,
   "id": "30a2214b",
   "metadata": {},
   "outputs": [
    {
     "name": "stdout",
     "output_type": "stream",
     "text": [
      "8\n",
      "9\n"
     ]
    }
   ],
   "source": [
    "for i in range(len(\"is\")):# So here i=0,1 where q=8\n",
    "    print(q+i)"
   ]
  },
  {
   "cell_type": "code",
   "execution_count": 32,
   "id": "e1fcee69",
   "metadata": {},
   "outputs": [],
   "source": [
    "p=\"Hey there if there then get me what i want!\""
   ]
  },
  {
   "cell_type": "code",
   "execution_count": 33,
   "id": "7454f1d7",
   "metadata": {},
   "outputs": [
    {
     "data": {
      "text/plain": [
       "4"
      ]
     },
     "execution_count": 33,
     "metadata": {},
     "output_type": "execute_result"
    }
   ],
   "source": [
    "p.find(\"there\")"
   ]
  },
  {
   "cell_type": "code",
   "execution_count": null,
   "id": "377d1a25",
   "metadata": {},
   "outputs": [],
   "source": []
  },
  {
   "cell_type": "code",
   "execution_count": null,
   "id": "19cb1f8c",
   "metadata": {},
   "outputs": [],
   "source": []
  },
  {
   "cell_type": "code",
   "execution_count": 6,
   "id": "6015c33a",
   "metadata": {},
   "outputs": [
    {
     "data": {
      "text/plain": [
       "4"
      ]
     },
     "execution_count": 6,
     "metadata": {},
     "output_type": "execute_result"
    }
   ],
   "source": [
    "#Find the indexes of each character of there string?\n",
    "p.find(\"there\")\n",
    "#It will consider the lowest index "
   ]
  },
  {
   "cell_type": "code",
   "execution_count": 9,
   "id": "e4fb7582",
   "metadata": {},
   "outputs": [
    {
     "name": "stdout",
     "output_type": "stream",
     "text": [
      "4\n",
      "5\n",
      "6\n",
      "7\n",
      "8\n"
     ]
    }
   ],
   "source": [
    "w=p.find(\"there\")\n",
    "for i in range(len(\"there\")):\n",
    "    print(w+i)"
   ]
  },
  {
   "cell_type": "markdown",
   "id": "4edc4bb5",
   "metadata": {},
   "source": [
    "# COUNT method"
   ]
  },
  {
   "cell_type": "code",
   "execution_count": 68,
   "id": "bb4adb0e",
   "metadata": {},
   "outputs": [
    {
     "data": {
      "text/plain": [
       "2"
      ]
     },
     "execution_count": 68,
     "metadata": {},
     "output_type": "execute_result"
    }
   ],
   "source": [
    "p=\"Hey there if there then get me what i want!\"\n",
    "p.count(\"there\") #count is what is the no of occurences of this string throughout the data in the string or even the substring i.e there"
   ]
  },
  {
   "cell_type": "code",
   "execution_count": 69,
   "id": "8c68d8f1",
   "metadata": {
    "scrolled": true
   },
   "outputs": [
    {
     "data": {
      "text/plain": [
       "6"
      ]
     },
     "execution_count": 69,
     "metadata": {},
     "output_type": "execute_result"
    }
   ],
   "source": [
    "p.count(\"t\")"
   ]
  },
  {
   "cell_type": "code",
   "execution_count": 72,
   "id": "ea2f460e",
   "metadata": {},
   "outputs": [
    {
     "data": {
      "text/plain": [
       "1"
      ]
     },
     "execution_count": 72,
     "metadata": {},
     "output_type": "execute_result"
    }
   ],
   "source": [
    "p.count(\"what\")"
   ]
  },
  {
   "cell_type": "code",
   "execution_count": 74,
   "id": "d00ff183",
   "metadata": {},
   "outputs": [
    {
     "data": {
      "text/plain": [
       "1"
      ]
     },
     "execution_count": 74,
     "metadata": {},
     "output_type": "execute_result"
    }
   ],
   "source": [
    "p.count(\"if\")"
   ]
  },
  {
   "cell_type": "code",
   "execution_count": 70,
   "id": "9921064c",
   "metadata": {},
   "outputs": [
    {
     "data": {
      "text/plain": [
       "0"
      ]
     },
     "execution_count": 70,
     "metadata": {},
     "output_type": "execute_result"
    }
   ],
   "source": [
    "p.count(\"l\")"
   ]
  },
  {
   "cell_type": "code",
   "execution_count": 71,
   "id": "1d0100ac",
   "metadata": {},
   "outputs": [
    {
     "data": {
      "text/plain": [
       "8"
      ]
     },
     "execution_count": 71,
     "metadata": {},
     "output_type": "execute_result"
    }
   ],
   "source": [
    "p.count(\"e\")"
   ]
  },
  {
   "cell_type": "code",
   "execution_count": 4,
   "id": "b05b93ac",
   "metadata": {},
   "outputs": [
    {
     "data": {
      "text/plain": [
       "0"
      ]
     },
     "execution_count": 4,
     "metadata": {},
     "output_type": "execute_result"
    }
   ],
   "source": [
    "p.count(\"There\") #This is case Sensitive! i.e it wont print if there is There!i.e present in upper case."
   ]
  },
  {
   "cell_type": "code",
   "execution_count": 75,
   "id": "a0263d2f",
   "metadata": {},
   "outputs": [
    {
     "data": {
      "text/plain": [
       "2"
      ]
     },
     "execution_count": 75,
     "metadata": {},
     "output_type": "execute_result"
    }
   ],
   "source": [
    "p.count(\"there\")"
   ]
  },
  {
   "cell_type": "markdown",
   "id": "5b588d7b",
   "metadata": {},
   "source": [
    "# SPLIT method"
   ]
  },
  {
   "cell_type": "markdown",
   "id": "c9c2eab6",
   "metadata": {},
   "source": [
    "Return a list of the words in the string, using sep as the delimiter string.They are case sensitive\n",
    "What is separator?\n",
    ">sep\n",
    "  -The delimiter according which to split the string.\n",
    "  None (the default value) means split according to any whitespace,\n",
    "  and discard empty strings from the result."
   ]
  },
  {
   "cell_type": "code",
   "execution_count": 78,
   "id": "3eaa003a",
   "metadata": {},
   "outputs": [],
   "source": [
    "p=\"Hey there if there then get me what i want!\""
   ]
  },
  {
   "cell_type": "code",
   "execution_count": 79,
   "id": "443503a3",
   "metadata": {},
   "outputs": [
    {
     "data": {
      "text/plain": [
       "['Hey', 'there', 'if', 'there', 'then', 'get', 'me', 'what', 'i', 'want!']"
      ]
     },
     "execution_count": 79,
     "metadata": {},
     "output_type": "execute_result"
    }
   ],
   "source": [
    "p.split()"
   ]
  },
  {
   "cell_type": "code",
   "execution_count": 80,
   "id": "94eef894",
   "metadata": {},
   "outputs": [],
   "source": [
    "r=\"Hey this is my class hours , lets talk later\""
   ]
  },
  {
   "cell_type": "code",
   "execution_count": 81,
   "id": "0fbd3bd9",
   "metadata": {},
   "outputs": [
    {
     "data": {
      "text/plain": [
       "['Hey this is my class hours ', ' lets talk later']"
      ]
     },
     "execution_count": 81,
     "metadata": {},
     "output_type": "execute_result"
    }
   ],
   "source": [
    "r.split(\",\") #Here it is seperated by the comma and eliminated comma (i.e the separator here itself is a comma)"
   ]
  },
  {
   "cell_type": "code",
   "execution_count": 15,
   "id": "d324c7c1",
   "metadata": {},
   "outputs": [
    {
     "data": {
      "text/plain": [
       "['Hey this is my cl', 'ss hours , lets t', 'lk l', 'ter']"
      ]
     },
     "execution_count": 15,
     "metadata": {},
     "output_type": "execute_result"
    }
   ],
   "source": [
    "r.split(\"a\")# So see here the a is eliminated and as a separator comma is used!"
   ]
  },
  {
   "cell_type": "code",
   "execution_count": 17,
   "id": "f7fec171",
   "metadata": {},
   "outputs": [
    {
     "data": {
      "text/plain": [
       "list"
      ]
     },
     "execution_count": 17,
     "metadata": {},
     "output_type": "execute_result"
    }
   ],
   "source": [
    "type(r.split(\"a\"))"
   ]
  },
  {
   "cell_type": "code",
   "execution_count": 18,
   "id": "4fa090d2",
   "metadata": {},
   "outputs": [
    {
     "data": {
      "text/plain": [
       "'Hey this is my class hours , lets talk later'"
      ]
     },
     "execution_count": 18,
     "metadata": {},
     "output_type": "execute_result"
    }
   ],
   "source": [
    "r"
   ]
  },
  {
   "cell_type": "code",
   "execution_count": null,
   "id": "aedf60dd",
   "metadata": {},
   "outputs": [],
   "source": [
    "#Here in split it doesnt split integer values."
   ]
  },
  {
   "cell_type": "code",
   "execution_count": 84,
   "id": "3409c0b8",
   "metadata": {},
   "outputs": [
    {
     "ename": "AttributeError",
     "evalue": "'float' object has no attribute 'split'",
     "output_type": "error",
     "traceback": [
      "\u001b[1;31m---------------------------------------------------------------------------\u001b[0m",
      "\u001b[1;31mAttributeError\u001b[0m                            Traceback (most recent call last)",
      "\u001b[1;32mC:\\Users\\RUKAIY~1\\AppData\\Local\\Temp/ipykernel_30512/3082760137.py\u001b[0m in \u001b[0;36m<module>\u001b[1;34m\u001b[0m\n\u001b[0;32m      1\u001b[0m \u001b[0ma\u001b[0m\u001b[1;33m=\u001b[0m\u001b[1;36m122222.4\u001b[0m\u001b[1;33m\u001b[0m\u001b[1;33m\u001b[0m\u001b[0m\n\u001b[1;32m----> 2\u001b[1;33m \u001b[0ma\u001b[0m\u001b[1;33m.\u001b[0m\u001b[0msplit\u001b[0m\u001b[1;33m(\u001b[0m\u001b[1;34m\".\"\u001b[0m\u001b[1;33m)\u001b[0m\u001b[1;33m\u001b[0m\u001b[1;33m\u001b[0m\u001b[0m\n\u001b[0m",
      "\u001b[1;31mAttributeError\u001b[0m: 'float' object has no attribute 'split'"
     ]
    }
   ],
   "source": [
    "a=122222.4\n",
    "a.split(\".\")"
   ]
  },
  {
   "cell_type": "code",
   "execution_count": 85,
   "id": "e4f955f7",
   "metadata": {},
   "outputs": [
    {
     "ename": "AttributeError",
     "evalue": "'tuple' object has no attribute 'split'",
     "output_type": "error",
     "traceback": [
      "\u001b[1;31m---------------------------------------------------------------------------\u001b[0m",
      "\u001b[1;31mAttributeError\u001b[0m                            Traceback (most recent call last)",
      "\u001b[1;32mC:\\Users\\RUKAIY~1\\AppData\\Local\\Temp/ipykernel_30512/277313235.py\u001b[0m in \u001b[0;36m<module>\u001b[1;34m\u001b[0m\n\u001b[0;32m      1\u001b[0m \u001b[0ma\u001b[0m\u001b[1;33m=\u001b[0m\u001b[1;36m12564\u001b[0m\u001b[1;33m,\u001b[0m\u001b[1;36m58\u001b[0m\u001b[1;33m\u001b[0m\u001b[1;33m\u001b[0m\u001b[0m\n\u001b[1;32m----> 2\u001b[1;33m \u001b[0ma\u001b[0m\u001b[1;33m.\u001b[0m\u001b[0msplit\u001b[0m\u001b[1;33m(\u001b[0m\u001b[1;34m\",\"\u001b[0m\u001b[1;33m)\u001b[0m\u001b[1;33m\u001b[0m\u001b[1;33m\u001b[0m\u001b[0m\n\u001b[0m",
      "\u001b[1;31mAttributeError\u001b[0m: 'tuple' object has no attribute 'split'"
     ]
    }
   ],
   "source": [
    "a=12564,58\n",
    "a.split(\",\")"
   ]
  },
  {
   "cell_type": "markdown",
   "id": "b9b268a3",
   "metadata": {},
   "source": [
    "# Upper and Lower case & Capitalize"
   ]
  },
  {
   "cell_type": "code",
   "execution_count": 15,
   "id": "3b951e73",
   "metadata": {},
   "outputs": [],
   "source": [
    "r=\"rukSie\""
   ]
  },
  {
   "cell_type": "code",
   "execution_count": 16,
   "id": "dfdfeb03",
   "metadata": {},
   "outputs": [
    {
     "data": {
      "text/plain": [
       "'RUKSIE'"
      ]
     },
     "execution_count": 16,
     "metadata": {},
     "output_type": "execute_result"
    }
   ],
   "source": [
    "r.upper()"
   ]
  },
  {
   "cell_type": "code",
   "execution_count": 17,
   "id": "e7e5690f",
   "metadata": {},
   "outputs": [
    {
     "data": {
      "text/plain": [
       "'ruksie'"
      ]
     },
     "execution_count": 17,
     "metadata": {},
     "output_type": "execute_result"
    }
   ],
   "source": [
    "r.lower()"
   ]
  },
  {
   "cell_type": "code",
   "execution_count": 18,
   "id": "563c8392",
   "metadata": {},
   "outputs": [
    {
     "data": {
      "text/plain": [
       "'Ruksie'"
      ]
     },
     "execution_count": 18,
     "metadata": {},
     "output_type": "execute_result"
    }
   ],
   "source": [
    "r.capitalize()"
   ]
  },
  {
   "cell_type": "markdown",
   "id": "79cf572e",
   "metadata": {},
   "source": [
    "# Swapcase method"
   ]
  },
  {
   "cell_type": "code",
   "execution_count": 19,
   "id": "ee9f6ce5",
   "metadata": {},
   "outputs": [
    {
     "data": {
      "text/plain": [
       "'RUKsIE'"
      ]
     },
     "execution_count": 19,
     "metadata": {},
     "output_type": "execute_result"
    }
   ],
   "source": [
    "r.swapcase()#Swaps the lower into upper case and upper into lower case"
   ]
  },
  {
   "cell_type": "code",
   "execution_count": 20,
   "id": "2be39e48",
   "metadata": {},
   "outputs": [],
   "source": [
    "q=\"AsGDJDkj\""
   ]
  },
  {
   "cell_type": "code",
   "execution_count": 21,
   "id": "6864903c",
   "metadata": {},
   "outputs": [
    {
     "data": {
      "text/plain": [
       "'aSgdjdKJ'"
      ]
     },
     "execution_count": 21,
     "metadata": {},
     "output_type": "execute_result"
    }
   ],
   "source": [
    "q.swapcase()"
   ]
  },
  {
   "cell_type": "markdown",
   "id": "d8e5fa96",
   "metadata": {},
   "source": [
    "# Join method"
   ]
  },
  {
   "cell_type": "code",
   "execution_count": 22,
   "id": "b72b0a54",
   "metadata": {},
   "outputs": [
    {
     "data": {
      "text/plain": [
       "'r u k S i e'"
      ]
     },
     "execution_count": 22,
     "metadata": {},
     "output_type": "execute_result"
    }
   ],
   "source": [
    "\" \".join(r)#Adds empty space after every iterable letter"
   ]
  },
  {
   "cell_type": "code",
   "execution_count": 23,
   "id": "00eccb22",
   "metadata": {},
   "outputs": [
    {
     "data": {
      "text/plain": [
       "'moyo onoaomoeo oios'"
      ]
     },
     "execution_count": 23,
     "metadata": {},
     "output_type": "execute_result"
    }
   ],
   "source": [
    "\"o\".join(s)"
   ]
  },
  {
   "cell_type": "code",
   "execution_count": 24,
   "id": "1e9a2bfe",
   "metadata": {},
   "outputs": [
    {
     "data": {
      "text/plain": [
       "'A.s.G.D.J.D.k.j'"
      ]
     },
     "execution_count": 24,
     "metadata": {},
     "output_type": "execute_result"
    }
   ],
   "source": [
    "\".\".join(q)#Adds (.) after every iterable letter"
   ]
  },
  {
   "cell_type": "markdown",
   "id": "8e8944ac",
   "metadata": {},
   "source": [
    "# Reversed method"
   ]
  },
  {
   "cell_type": "code",
   "execution_count": 25,
   "id": "2940cbb4",
   "metadata": {},
   "outputs": [
    {
     "data": {
      "text/plain": [
       "<reversed at 0x1a070131a00>"
      ]
     },
     "execution_count": 25,
     "metadata": {},
     "output_type": "execute_result"
    }
   ],
   "source": [
    "reversed(r) #This way it will return object's location!"
   ]
  },
  {
   "cell_type": "code",
   "execution_count": 26,
   "id": "7f429920",
   "metadata": {},
   "outputs": [
    {
     "data": {
      "text/plain": [
       "'eiSkur'"
      ]
     },
     "execution_count": 26,
     "metadata": {},
     "output_type": "execute_result"
    }
   ],
   "source": [
    "r[::-1]"
   ]
  },
  {
   "cell_type": "code",
   "execution_count": 12,
   "id": "8a337a5a",
   "metadata": {},
   "outputs": [],
   "source": [
    "l=\"Details\""
   ]
  },
  {
   "cell_type": "code",
   "execution_count": 36,
   "id": "e85ecb01",
   "metadata": {},
   "outputs": [],
   "source": [
    "l=list(\"Details\")"
   ]
  },
  {
   "cell_type": "code",
   "execution_count": 40,
   "id": "94b1bbbe",
   "metadata": {},
   "outputs": [
    {
     "data": {
      "text/plain": [
       "['D', 'e', 't', 'a', 'i', 'l', 's']"
      ]
     },
     "execution_count": 40,
     "metadata": {},
     "output_type": "execute_result"
    }
   ],
   "source": [
    "l"
   ]
  },
  {
   "cell_type": "code",
   "execution_count": 41,
   "id": "a348aad2",
   "metadata": {},
   "outputs": [
    {
     "data": {
      "text/plain": [
       "['s', 'l', 'i', 'a', 't', 'e', 'D']"
      ]
     },
     "execution_count": 41,
     "metadata": {},
     "output_type": "execute_result"
    }
   ],
   "source": [
    "list(reversed(l))"
   ]
  },
  {
   "cell_type": "code",
   "execution_count": 42,
   "id": "f62ca4a6",
   "metadata": {},
   "outputs": [
    {
     "data": {
      "text/plain": [
       "['s', 'l', 'i', 'a', 't', 'e', 'D']"
      ]
     },
     "execution_count": 42,
     "metadata": {},
     "output_type": "execute_result"
    }
   ],
   "source": [
    "list(reversed(l))# "
   ]
  },
  {
   "cell_type": "code",
   "execution_count": 46,
   "id": "4b5a4ccb",
   "metadata": {},
   "outputs": [
    {
     "name": "stdout",
     "output_type": "stream",
     "text": [
      "['s', 'l', 'i', 'a', 't', 'e', 'D']\n"
     ]
    }
   ],
   "source": [
    "for i in l:\n",
    "    print(list(reversed(l)))\n",
    "    break\n",
    "    \n",
    "    "
   ]
  },
  {
   "cell_type": "code",
   "execution_count": 27,
   "id": "9b6c918e",
   "metadata": {
    "scrolled": true
   },
   "outputs": [
    {
     "name": "stdout",
     "output_type": "stream",
     "text": [
      "eiSkur"
     ]
    }
   ],
   "source": [
    "for i in reversed(r):\n",
    "    print(i,end=\"\")"
   ]
  },
  {
   "cell_type": "markdown",
   "id": "3d81deaa",
   "metadata": {},
   "source": [
    "TUPLES can be reversed as well"
   ]
  },
  {
   "cell_type": "code",
   "execution_count": 47,
   "id": "bd685bc8",
   "metadata": {},
   "outputs": [],
   "source": [
    "t=(\"Python\")"
   ]
  },
  {
   "cell_type": "code",
   "execution_count": 50,
   "id": "bc620ec5",
   "metadata": {},
   "outputs": [],
   "source": [
    "s=(1,2,3,4)"
   ]
  },
  {
   "cell_type": "code",
   "execution_count": 53,
   "id": "8dd9baf3",
   "metadata": {},
   "outputs": [
    {
     "data": {
      "text/plain": [
       "['n', 'o', 'h', 't', 'y', 'P']"
      ]
     },
     "execution_count": 53,
     "metadata": {},
     "output_type": "execute_result"
    }
   ],
   "source": [
    "list(reversed(t))"
   ]
  },
  {
   "cell_type": "code",
   "execution_count": 54,
   "id": "c7de002b",
   "metadata": {},
   "outputs": [
    {
     "data": {
      "text/plain": [
       "[4, 3, 2, 1]"
      ]
     },
     "execution_count": 54,
     "metadata": {},
     "output_type": "execute_result"
    }
   ],
   "source": [
    "list(reversed(s))"
   ]
  },
  {
   "cell_type": "markdown",
   "id": "6eb618ef",
   "metadata": {},
   "source": [
    "# Strip method"
   ]
  },
  {
   "cell_type": "markdown",
   "id": "691d813f",
   "metadata": {},
   "source": [
    "Here it strips of spaces that is removes spaces from the end and beginning but not from the middle!"
   ]
  },
  {
   "cell_type": "code",
   "execution_count": 121,
   "id": "33639e60",
   "metadata": {},
   "outputs": [],
   "source": [
    "s=\"    ruka \""
   ]
  },
  {
   "cell_type": "code",
   "execution_count": 122,
   "id": "2361e367",
   "metadata": {},
   "outputs": [
    {
     "data": {
      "text/plain": [
       "'ruka'"
      ]
     },
     "execution_count": 122,
     "metadata": {},
     "output_type": "execute_result"
    }
   ],
   "source": [
    "s.strip()"
   ]
  },
  {
   "cell_type": "code",
   "execution_count": 36,
   "id": "43002df1",
   "metadata": {},
   "outputs": [
    {
     "data": {
      "text/plain": [
       "'ruka'"
      ]
     },
     "execution_count": 36,
     "metadata": {},
     "output_type": "execute_result"
    }
   ],
   "source": [
    "s.strip()#"
   ]
  },
  {
   "cell_type": "code",
   "execution_count": 124,
   "id": "b673917e",
   "metadata": {},
   "outputs": [],
   "source": [
    "e=\"  ruk  s  \""
   ]
  },
  {
   "cell_type": "code",
   "execution_count": 125,
   "id": "a46bd551",
   "metadata": {},
   "outputs": [
    {
     "data": {
      "text/plain": [
       "'ruk  s'"
      ]
     },
     "execution_count": 125,
     "metadata": {},
     "output_type": "execute_result"
    }
   ],
   "source": [
    "e.strip()#Here the middle spaces havent yet been removed"
   ]
  },
  {
   "cell_type": "code",
   "execution_count": 126,
   "id": "0e27b2b2",
   "metadata": {},
   "outputs": [
    {
     "data": {
      "text/plain": [
       "'ruk  s  '"
      ]
     },
     "execution_count": 126,
     "metadata": {},
     "output_type": "execute_result"
    }
   ],
   "source": [
    "e.lstrip()#Here the left spaces are removed "
   ]
  },
  {
   "cell_type": "code",
   "execution_count": 127,
   "id": "3338d8c9",
   "metadata": {
    "scrolled": true
   },
   "outputs": [
    {
     "data": {
      "text/plain": [
       "'  ruk  s'"
      ]
     },
     "execution_count": 127,
     "metadata": {},
     "output_type": "execute_result"
    }
   ],
   "source": [
    "e.rstrip()#Here the right spaces are removed "
   ]
  },
  {
   "cell_type": "markdown",
   "id": "94358401",
   "metadata": {},
   "source": [
    "# Replace method"
   ]
  },
  {
   "cell_type": "code",
   "execution_count": 128,
   "id": "b6c04379",
   "metadata": {},
   "outputs": [],
   "source": [
    "w=\"greetings from merchants\""
   ]
  },
  {
   "cell_type": "code",
   "execution_count": 130,
   "id": "36cf7764",
   "metadata": {},
   "outputs": [
    {
     "data": {
      "text/plain": [
       "'greetings frop perchants'"
      ]
     },
     "execution_count": 130,
     "metadata": {},
     "output_type": "execute_result"
    }
   ],
   "source": [
    "w.replace(\"m\", \"p\")"
   ]
  },
  {
   "cell_type": "code",
   "execution_count": 131,
   "id": "de2d3cac",
   "metadata": {},
   "outputs": [
    {
     "data": {
      "text/plain": [
       "'greetings from merchants'"
      ]
     },
     "execution_count": 131,
     "metadata": {},
     "output_type": "execute_result"
    }
   ],
   "source": [
    "w"
   ]
  },
  {
   "cell_type": "code",
   "execution_count": 3,
   "id": "3d1465ac",
   "metadata": {},
   "outputs": [
    {
     "data": {
      "text/plain": [
       "'greetiogs from merchaots'"
      ]
     },
     "execution_count": 3,
     "metadata": {},
     "output_type": "execute_result"
    }
   ],
   "source": [
    "w.replace(\"n\",\"o\")#Here n is replaced by o a single character"
   ]
  },
  {
   "cell_type": "code",
   "execution_count": 4,
   "id": "59c9e5f0",
   "metadata": {},
   "outputs": [
    {
     "data": {
      "text/plain": [
       "'greetioooogs from merchaoooots'"
      ]
     },
     "execution_count": 4,
     "metadata": {},
     "output_type": "execute_result"
    }
   ],
   "source": [
    "w.replace(\"n\",\"oooo\")#Here n is replaced by oooooo a sub string"
   ]
  },
  {
   "cell_type": "code",
   "execution_count": 5,
   "id": "bd8ffdac",
   "metadata": {},
   "outputs": [
    {
     "data": {
      "text/plain": [
       "'greetings from merchants'"
      ]
     },
     "execution_count": 5,
     "metadata": {},
     "output_type": "execute_result"
    }
   ],
   "source": [
    "w #Here remember the concept of immutability that string cannot be replaced so the final string will be the original version itself"
   ]
  },
  {
   "cell_type": "code",
   "execution_count": 6,
   "id": "7712ab5a",
   "metadata": {},
   "outputs": [],
   "source": [
    "#Incase i want to replace the old string with the new string there will be a new memory location assigned to the old one!\n",
    "#i.e\n",
    "#REASSIGNMENT AND RECONSTRUCTION OPERATIONS\n",
    "\n",
    "w=w.replace(\"n\",\"oooo\")\n"
   ]
  },
  {
   "cell_type": "code",
   "execution_count": 7,
   "id": "21cb7d7a",
   "metadata": {},
   "outputs": [
    {
     "data": {
      "text/plain": [
       "'greetioooogs from merchaoooots'"
      ]
     },
     "execution_count": 7,
     "metadata": {},
     "output_type": "execute_result"
    }
   ],
   "source": [
    "w #here now w is the new original string and the previous memory location is updated "
   ]
  },
  {
   "cell_type": "code",
   "execution_count": 8,
   "id": "68700b06",
   "metadata": {},
   "outputs": [],
   "source": [
    "#In replace method it will not try to replace the original string stored in main memory,\n",
    "#rather it will create a new memory just above the old memory and in the main memory itself create a new string \n",
    "#that will be stored temporarily. "
   ]
  },
  {
   "cell_type": "code",
   "execution_count": 9,
   "id": "d9e5e893",
   "metadata": {},
   "outputs": [
    {
     "ename": "TypeError",
     "evalue": "'str' object does not support item assignment",
     "output_type": "error",
     "traceback": [
      "\u001b[1;31m---------------------------------------------------------------------------\u001b[0m",
      "\u001b[1;31mTypeError\u001b[0m                                 Traceback (most recent call last)",
      "\u001b[1;32mC:\\Users\\RUKAIY~1\\AppData\\Local\\Temp/ipykernel_20328/3165932486.py\u001b[0m in \u001b[0;36m<module>\u001b[1;34m\u001b[0m\n\u001b[0;32m      1\u001b[0m \u001b[1;31m#Ex\u001b[0m\u001b[1;33m\u001b[0m\u001b[1;33m\u001b[0m\u001b[0m\n\u001b[1;32m----> 2\u001b[1;33m \u001b[0mw\u001b[0m\u001b[1;33m[\u001b[0m\u001b[1;36m1\u001b[0m\u001b[1;33m]\u001b[0m\u001b[1;33m=\u001b[0m\u001b[1;34m\"km\"\u001b[0m \u001b[1;31m#'str' object does not support item assignment since immutable\u001b[0m\u001b[1;33m\u001b[0m\u001b[1;33m\u001b[0m\u001b[0m\n\u001b[0m",
      "\u001b[1;31mTypeError\u001b[0m: 'str' object does not support item assignment"
     ]
    }
   ],
   "source": [
    "#Ex\n",
    "w[1]=\"km\" #'str' object does not support item assignment since immutable\n"
   ]
  },
  {
   "cell_type": "markdown",
   "id": "c729e19f",
   "metadata": {},
   "source": [
    "# print(\"Python\".replace(\"y\", \"h\"))"
   ]
  },
  {
   "cell_type": "code",
   "execution_count": 2,
   "id": "0883ccde",
   "metadata": {},
   "outputs": [
    {
     "name": "stdout",
     "output_type": "stream",
     "text": [
      "Phthon\n"
     ]
    }
   ],
   "source": [
    "print(\"Python\".replace(\"y\", \"h\"))"
   ]
  },
  {
   "cell_type": "code",
   "execution_count": null,
   "id": "f7d94d72",
   "metadata": {},
   "outputs": [],
   "source": []
  },
  {
   "cell_type": "markdown",
   "id": "188d242b",
   "metadata": {},
   "source": [
    "# Center method"
   ]
  },
  {
   "cell_type": "code",
   "execution_count": 25,
   "id": "5c70284d",
   "metadata": {},
   "outputs": [],
   "source": [
    "r=\"ruksie\""
   ]
  },
  {
   "cell_type": "code",
   "execution_count": 27,
   "id": "9fd74e4b",
   "metadata": {},
   "outputs": [
    {
     "data": {
      "text/plain": [
       "'1111111ruksie1111111'"
      ]
     },
     "execution_count": 27,
     "metadata": {},
     "output_type": "execute_result"
    }
   ],
   "source": [
    "r.center(20,\"1\")"
   ]
  },
  {
   "cell_type": "code",
   "execution_count": 28,
   "id": "f151a697",
   "metadata": {},
   "outputs": [
    {
     "data": {
      "text/plain": [
       "'truksiet'"
      ]
     },
     "execution_count": 28,
     "metadata": {},
     "output_type": "execute_result"
    }
   ],
   "source": [
    "r.center(8,\"t\")"
   ]
  },
  {
   "cell_type": "markdown",
   "id": "20abf259",
   "metadata": {},
   "source": [
    "# Expandtabs method"
   ]
  },
  {
   "cell_type": "code",
   "execution_count": 29,
   "id": "83543670",
   "metadata": {},
   "outputs": [],
   "source": [
    "t=\"ruks\\tmerchant\" #Whereever there will be \\t there will be a tab using the below function"
   ]
  },
  {
   "cell_type": "code",
   "execution_count": 30,
   "id": "4317a489",
   "metadata": {},
   "outputs": [
    {
     "data": {
      "text/plain": [
       "'ruks\\tmerchant'"
      ]
     },
     "execution_count": 30,
     "metadata": {},
     "output_type": "execute_result"
    }
   ],
   "source": [
    "t"
   ]
  },
  {
   "cell_type": "code",
   "execution_count": 31,
   "id": "9ff234b3",
   "metadata": {},
   "outputs": [
    {
     "data": {
      "text/plain": [
       "'ruks    merchant'"
      ]
     },
     "execution_count": 31,
     "metadata": {},
     "output_type": "execute_result"
    }
   ],
   "source": [
    "t.expandtabs()"
   ]
  },
  {
   "cell_type": "code",
   "execution_count": 134,
   "id": "bfee4073",
   "metadata": {},
   "outputs": [],
   "source": [
    "d=\"ruksie merchant\""
   ]
  },
  {
   "cell_type": "code",
   "execution_count": 135,
   "id": "4efaa745",
   "metadata": {},
   "outputs": [
    {
     "data": {
      "text/plain": [
       "'ruksie merchant'"
      ]
     },
     "execution_count": 135,
     "metadata": {},
     "output_type": "execute_result"
    }
   ],
   "source": [
    "d.expandtabs()#Here it wont take place! Since \\t is not mentioned"
   ]
  },
  {
   "cell_type": "code",
   "execution_count": 136,
   "id": "69b5007a",
   "metadata": {},
   "outputs": [],
   "source": [
    "f=\"for\\tyou\\till\\tbe\\t\""
   ]
  },
  {
   "cell_type": "code",
   "execution_count": 137,
   "id": "f1dad129",
   "metadata": {},
   "outputs": [
    {
     "data": {
      "text/plain": [
       "'for     you     ill     be      '"
      ]
     },
     "execution_count": 137,
     "metadata": {},
     "output_type": "execute_result"
    }
   ],
   "source": [
    "f.expandtabs()"
   ]
  },
  {
   "cell_type": "code",
   "execution_count": 139,
   "id": "6e4d98b4",
   "metadata": {},
   "outputs": [],
   "source": [
    "a = \"We are all part of Full Stack\"\n",
    "\n",
    "# 1. Normalizing entire string in lower case\n",
    "# 2. Finding number of occurances of a in entire string\n",
    "# 3. Indexes where a is present \n",
    "# 4 . replace all a's with ineuron\n",
    "#5. print all the words as a list"
   ]
  },
  {
   "cell_type": "code",
   "execution_count": 140,
   "id": "9be63119",
   "metadata": {},
   "outputs": [
    {
     "data": {
      "text/plain": [
       "'we are all part of full stack'"
      ]
     },
     "execution_count": 140,
     "metadata": {},
     "output_type": "execute_result"
    }
   ],
   "source": [
    "a.lower()"
   ]
  },
  {
   "cell_type": "code",
   "execution_count": 141,
   "id": "4af8307b",
   "metadata": {},
   "outputs": [
    {
     "data": {
      "text/plain": [
       "4"
      ]
     },
     "execution_count": 141,
     "metadata": {},
     "output_type": "execute_result"
    }
   ],
   "source": [
    "a.count(\"a\")"
   ]
  },
  {
   "cell_type": "code",
   "execution_count": 147,
   "id": "7f693812",
   "metadata": {},
   "outputs": [
    {
     "name": "stdout",
     "output_type": "stream",
     "text": [
      "3\n",
      "7\n",
      "12\n",
      "26\n"
     ]
    }
   ],
   "source": [
    "for i in range(len(a)):\n",
    "    if a[i]==\"a\":\n",
    "        print(i)"
   ]
  },
  {
   "cell_type": "code",
   "execution_count": 143,
   "id": "ab1fe730",
   "metadata": {},
   "outputs": [
    {
     "data": {
      "text/plain": [
       "'We ineuronre ineuronll pineuronrt of Full Stineuronck'"
      ]
     },
     "execution_count": 143,
     "metadata": {},
     "output_type": "execute_result"
    }
   ],
   "source": [
    "a.replace(\"a\",\"ineuron\")"
   ]
  },
  {
   "cell_type": "code",
   "execution_count": 148,
   "id": "74722e05",
   "metadata": {},
   "outputs": [
    {
     "data": {
      "text/plain": [
       "['We', 'are', 'all', 'part', 'of', 'Full', 'Stack']"
      ]
     },
     "execution_count": 148,
     "metadata": {},
     "output_type": "execute_result"
    }
   ],
   "source": [
    "a.split()"
   ]
  },
  {
   "cell_type": "code",
   "execution_count": null,
   "id": "3834f5ff",
   "metadata": {},
   "outputs": [],
   "source": []
  },
  {
   "cell_type": "code",
   "execution_count": null,
   "id": "2b3a80d4",
   "metadata": {},
   "outputs": [],
   "source": []
  },
  {
   "cell_type": "markdown",
   "id": "fea4d362",
   "metadata": {},
   "source": [
    "# PRACTICE SET QUESTION SIR GAVE!"
   ]
  },
  {
   "cell_type": "code",
   "execution_count": 37,
   "id": "b27406ba",
   "metadata": {},
   "outputs": [],
   "source": [
    "a = \"We are all part of Full Stack\"\n",
    "\n",
    "# 1. Normalizing entire string in lower case\n",
    "# 2. Finding number of occurances of a in entire string\n",
    "# 3. Indexes where a is present \n",
    "# 4 . replace all a's with ineuron\n",
    "#5. print all the words as a list\n"
   ]
  },
  {
   "cell_type": "code",
   "execution_count": 41,
   "id": "bb4ee10c",
   "metadata": {},
   "outputs": [],
   "source": [
    "a=\"We are all part of Full Stack\""
   ]
  },
  {
   "cell_type": "code",
   "execution_count": 42,
   "id": "94fa4254",
   "metadata": {},
   "outputs": [
    {
     "data": {
      "text/plain": [
       "'we are all part of full stack'"
      ]
     },
     "execution_count": 42,
     "metadata": {},
     "output_type": "execute_result"
    }
   ],
   "source": [
    "a.lower()"
   ]
  },
  {
   "cell_type": "code",
   "execution_count": 43,
   "id": "e1eb4707",
   "metadata": {},
   "outputs": [
    {
     "name": "stdout",
     "output_type": "stream",
     "text": [
      "a\n",
      "a\n",
      "a\n",
      "a\n"
     ]
    }
   ],
   "source": [
    "for i in a:\n",
    "    if i==\"a\":\n",
    "        print(i)"
   ]
  },
  {
   "cell_type": "code",
   "execution_count": 44,
   "id": "3a08cda6",
   "metadata": {},
   "outputs": [
    {
     "data": {
      "text/plain": [
       "4"
      ]
     },
     "execution_count": 44,
     "metadata": {},
     "output_type": "execute_result"
    }
   ],
   "source": [
    "a.count(\"a\")"
   ]
  },
  {
   "cell_type": "code",
   "execution_count": 45,
   "id": "2c6a3913",
   "metadata": {},
   "outputs": [],
   "source": [
    "r=a.find(\"a\")"
   ]
  },
  {
   "cell_type": "code",
   "execution_count": 46,
   "id": "22e6cce9",
   "metadata": {},
   "outputs": [
    {
     "name": "stdout",
     "output_type": "stream",
     "text": [
      "4\n",
      "8\n",
      "12\n",
      "15\n",
      "29\n"
     ]
    }
   ],
   "source": [
    "a=\" we all are a part of Full Stack\"\n",
    "for i in range(len(a)):\n",
    "    if a[i]==\"a\":\n",
    "        print(i)"
   ]
  },
  {
   "cell_type": "code",
   "execution_count": 47,
   "id": "d7dd39db",
   "metadata": {},
   "outputs": [
    {
     "name": "stdout",
     "output_type": "stream",
     "text": [
      "l\n"
     ]
    }
   ],
   "source": [
    "for i in range(len(a)):\n",
    "    if i==5:\n",
    "        print(a[i])"
   ]
  },
  {
   "cell_type": "code",
   "execution_count": 48,
   "id": "6f3e9c39",
   "metadata": {},
   "outputs": [
    {
     "data": {
      "text/plain": [
       "' we ineuronll ineuronre ineuron pineuronrt of Full Stineuronck'"
      ]
     },
     "execution_count": 48,
     "metadata": {},
     "output_type": "execute_result"
    }
   ],
   "source": [
    "a.replace(\"a\",\"ineuron\")"
   ]
  },
  {
   "cell_type": "code",
   "execution_count": 49,
   "id": "925c2f8d",
   "metadata": {},
   "outputs": [
    {
     "data": {
      "text/plain": [
       "['we', 'all', 'are', 'a', 'part', 'of', 'Full', 'Stack']"
      ]
     },
     "execution_count": 49,
     "metadata": {},
     "output_type": "execute_result"
    }
   ],
   "source": [
    "a.split()"
   ]
  },
  {
   "cell_type": "markdown",
   "id": "e290cf2e",
   "metadata": {},
   "source": [
    "# SOLUTION!"
   ]
  },
  {
   "cell_type": "code",
   "execution_count": 75,
   "id": "ddee95c4",
   "metadata": {},
   "outputs": [
    {
     "name": "stdout",
     "output_type": "stream",
     "text": [
      "The lower case of the string a is:  We are all part of Full Stack\n",
      "The count of a is: We are all part of Full Stack\n",
      "The occurences of a in string a is at index: 3 \n",
      "The occurences of a in string a is at index: 7 \n",
      "The occurences of a in string a is at index: 12 \n",
      "The occurences of a in string a is at index: 26 \n",
      "We ineuronre ineuronll pineuronrt of Full Stineuronck\n"
     ]
    },
    {
     "data": {
      "text/plain": [
       "['We', 'are', 'all', 'part', 'of', 'Full', 'Stack']"
      ]
     },
     "execution_count": 75,
     "metadata": {},
     "output_type": "execute_result"
    }
   ],
   "source": [
    "a = \"We are all part of Full Stack\"\n",
    "# 1. Normalizing entire string in lower case\n",
    "# 2. Finding number of occurances of a in entire string\n",
    "# 3. Indexes where a is present \n",
    "# 4 . replace all a's with ineuron\n",
    "#5. print all the words as a list\n",
    "a.lower()\n",
    "print(\"The lower case of the string a is: \",a)\n",
    "a.count(\"a\")\n",
    "print(\"The count of a is:\",a)\n",
    "for i in range(len(a)):\n",
    "    if a[i]==\"a\":\n",
    "        print(\"The occurences of a in string a is at index:\",i,end=\"\")\n",
    "        print(\" \")\n",
    "print(a.replace(\"a\",\"ineuron\"))\n",
    "a.split()\n",
    "        "
   ]
  },
  {
   "cell_type": "code",
   "execution_count": null,
   "id": "c5b2bc00",
   "metadata": {},
   "outputs": [],
   "source": [
    "#So whatever inbuild methods are going to start from \"is\" will return True or False values! or Boolean values"
   ]
  },
  {
   "cell_type": "code",
   "execution_count": 7,
   "id": "e0124dbb",
   "metadata": {},
   "outputs": [],
   "source": [
    "r=\"ruksie\""
   ]
  },
  {
   "cell_type": "code",
   "execution_count": 8,
   "id": "68d59f84",
   "metadata": {},
   "outputs": [
    {
     "data": {
      "text/plain": [
       "True"
      ]
     },
     "execution_count": 8,
     "metadata": {},
     "output_type": "execute_result"
    }
   ],
   "source": [
    "r.islower()"
   ]
  },
  {
   "cell_type": "code",
   "execution_count": 9,
   "id": "451314c0",
   "metadata": {},
   "outputs": [
    {
     "data": {
      "text/plain": [
       "False"
      ]
     },
     "execution_count": 9,
     "metadata": {},
     "output_type": "execute_result"
    }
   ],
   "source": [
    "r.isupper()"
   ]
  },
  {
   "cell_type": "code",
   "execution_count": 10,
   "id": "ad68497f",
   "metadata": {},
   "outputs": [
    {
     "data": {
      "text/plain": [
       "True"
      ]
     },
     "execution_count": 10,
     "metadata": {},
     "output_type": "execute_result"
    }
   ],
   "source": [
    "r.isalpha()"
   ]
  },
  {
   "cell_type": "code",
   "execution_count": 11,
   "id": "4aca9354",
   "metadata": {},
   "outputs": [
    {
     "data": {
      "text/plain": [
       "True"
      ]
     },
     "execution_count": 11,
     "metadata": {},
     "output_type": "execute_result"
    }
   ],
   "source": [
    "r.isalnum()#Is it alpha numerical shows true in both cases when alpha and when numerical and when both"
   ]
  },
  {
   "cell_type": "code",
   "execution_count": 12,
   "id": "c02fde44",
   "metadata": {},
   "outputs": [
    {
     "data": {
      "text/plain": [
       "False"
      ]
     },
     "execution_count": 12,
     "metadata": {},
     "output_type": "execute_result"
    }
   ],
   "source": [
    "r.istitle()#The first letter has to be capital"
   ]
  },
  {
   "cell_type": "code",
   "execution_count": 13,
   "id": "68196186",
   "metadata": {},
   "outputs": [
    {
     "data": {
      "text/plain": [
       "False"
      ]
     },
     "execution_count": 13,
     "metadata": {},
     "output_type": "execute_result"
    }
   ],
   "source": [
    "r.startswith(\"o\")"
   ]
  },
  {
   "cell_type": "code",
   "execution_count": 14,
   "id": "fe1baff2",
   "metadata": {},
   "outputs": [
    {
     "data": {
      "text/plain": [
       "True"
      ]
     },
     "execution_count": 14,
     "metadata": {},
     "output_type": "execute_result"
    }
   ],
   "source": [
    "r.startswith(\"r\") #Remember case sensitive"
   ]
  },
  {
   "cell_type": "code",
   "execution_count": 15,
   "id": "4a166136",
   "metadata": {},
   "outputs": [
    {
     "data": {
      "text/plain": [
       "False"
      ]
     },
     "execution_count": 15,
     "metadata": {},
     "output_type": "execute_result"
    }
   ],
   "source": [
    "r.endswith(\"i\")"
   ]
  },
  {
   "cell_type": "code",
   "execution_count": 16,
   "id": "b2b929da",
   "metadata": {},
   "outputs": [
    {
     "data": {
      "text/plain": [
       "True"
      ]
     },
     "execution_count": 16,
     "metadata": {},
     "output_type": "execute_result"
    }
   ],
   "source": [
    "r.endswith(\"e\")"
   ]
  },
  {
   "cell_type": "code",
   "execution_count": 17,
   "id": "c62ce2d6",
   "metadata": {},
   "outputs": [
    {
     "data": {
      "text/plain": [
       "False"
      ]
     },
     "execution_count": 17,
     "metadata": {},
     "output_type": "execute_result"
    }
   ],
   "source": [
    "r.isdigit()"
   ]
  },
  {
   "cell_type": "code",
   "execution_count": 18,
   "id": "7e61b85e",
   "metadata": {},
   "outputs": [
    {
     "data": {
      "text/plain": [
       "False"
      ]
     },
     "execution_count": 18,
     "metadata": {},
     "output_type": "execute_result"
    }
   ],
   "source": [
    "r.isspace()"
   ]
  },
  {
   "cell_type": "markdown",
   "id": "efcb5666",
   "metadata": {},
   "source": [
    "# FORMAT FUNCTION  & HOW TO USE FORMAT FUNCTION?"
   ]
  },
  {
   "cell_type": "code",
   "execution_count": 20,
   "id": "64f96eb9",
   "metadata": {},
   "outputs": [
    {
     "data": {
      "text/plain": [
       "'Rukaiya, this is my name.'"
      ]
     },
     "execution_count": 20,
     "metadata": {},
     "output_type": "execute_result"
    }
   ],
   "source": [
    "\"{}, this is my name.\".format(\"Rukaiya\")"
   ]
  },
  {
   "cell_type": "code",
   "execution_count": 21,
   "id": "807a2903",
   "metadata": {},
   "outputs": [
    {
     "data": {
      "text/plain": [
       "'Rukaiya is my first name & Merchant is my last name with 23 yrs being my age!'"
      ]
     },
     "execution_count": 21,
     "metadata": {},
     "output_type": "execute_result"
    }
   ],
   "source": [
    "\"{} is my first name & {} is my last name with {} yrs being my age!\".format(\"Rukaiya\",\"Merchant\",23)"
   ]
  },
  {
   "cell_type": "code",
   "execution_count": 153,
   "id": "eaa8be53",
   "metadata": {},
   "outputs": [
    {
     "name": "stdout",
     "output_type": "stream",
     "text": [
      "ruk\n",
      "mer\n"
     ]
    }
   ],
   "source": [
    "a = input()\n",
    "b = input()"
   ]
  },
  {
   "cell_type": "code",
   "execution_count": 26,
   "id": "15a6f6cb",
   "metadata": {},
   "outputs": [
    {
     "name": "stdout",
     "output_type": "stream",
     "text": [
      "ruks merc is my name and my age is 23\n"
     ]
    }
   ],
   "source": [
    "print(\"{} {} is my name and my age is {}\".format(a,b,23))"
   ]
  },
  {
   "cell_type": "code",
   "execution_count": 85,
   "id": "54c61726",
   "metadata": {},
   "outputs": [
    {
     "name": "stdout",
     "output_type": "stream",
     "text": [
      "26\n"
     ]
    }
   ],
   "source": [
    "s = \"this is a full stack batch\"\n",
    "count = 0 \n",
    "for i in  s :\n",
    "    count = count +1 \n",
    "print(count)"
   ]
  },
  {
   "cell_type": "code",
   "execution_count": 152,
   "id": "d34ff34e",
   "metadata": {},
   "outputs": [
    {
     "ename": "TypeError",
     "evalue": "bad operand type for unary -: 'str'",
     "output_type": "error",
     "traceback": [
      "\u001b[1;31m---------------------------------------------------------------------------\u001b[0m",
      "\u001b[1;31mTypeError\u001b[0m                                 Traceback (most recent call last)",
      "\u001b[1;32mC:\\Users\\RUKAIY~1\\AppData\\Local\\Temp/ipykernel_30512/1514562328.py\u001b[0m in \u001b[0;36m<module>\u001b[1;34m\u001b[0m\n\u001b[0;32m      1\u001b[0m \u001b[1;31m#Print inverse of the string\u001b[0m\u001b[1;33m\u001b[0m\u001b[1;33m\u001b[0m\u001b[0m\n\u001b[0;32m      2\u001b[0m \u001b[1;32mfor\u001b[0m \u001b[0mi\u001b[0m \u001b[1;32min\u001b[0m \u001b[0ms\u001b[0m\u001b[1;33m:\u001b[0m\u001b[1;33m\u001b[0m\u001b[1;33m\u001b[0m\u001b[0m\n\u001b[1;32m----> 3\u001b[1;33m     \u001b[0mprint\u001b[0m\u001b[1;33m(\u001b[0m\u001b[0ms\u001b[0m\u001b[1;33m[\u001b[0m\u001b[1;33m-\u001b[0m\u001b[0mi\u001b[0m\u001b[1;33m]\u001b[0m\u001b[1;33m)\u001b[0m\u001b[1;33m\u001b[0m\u001b[1;33m\u001b[0m\u001b[0m\n\u001b[0m",
      "\u001b[1;31mTypeError\u001b[0m: bad operand type for unary -: 'str'"
     ]
    }
   ],
   "source": [
    "#Print inverse of the string\n",
    "for i in s:\n",
    "    print(s[-i])"
   ]
  },
  {
   "cell_type": "code",
   "execution_count": 150,
   "id": "ec4d6062",
   "metadata": {},
   "outputs": [
    {
     "name": "stdout",
     "output_type": "stream",
     "text": [
      "h\n",
      "c\n",
      "t\n",
      "a\n",
      "b\n",
      " \n",
      "k\n",
      "c\n",
      "a\n",
      "t\n",
      "s\n",
      " \n",
      "l\n",
      "l\n",
      "u\n",
      "f\n",
      " \n",
      "a\n",
      " \n",
      "s\n",
      "i\n",
      " \n",
      "s\n",
      "i\n",
      "h\n"
     ]
    }
   ],
   "source": [
    "#Print inverse of the string\n",
    "s = \"this is a full stack batch\"\n",
    "for i in range(1,len(s)):\n",
    "    print(s[-i])"
   ]
  },
  {
   "cell_type": "code",
   "execution_count": 166,
   "id": "36792c70",
   "metadata": {
    "scrolled": false
   },
   "outputs": [
    {
     "name": "stdout",
     "output_type": "stream",
     "text": [
      "h RUksie\n",
      "d RUksie\n",
      "u RUksie\n",
      "s RUksie\n"
     ]
    }
   ],
   "source": [
    "#Now using while loop inverse the string and no using[::-1] and no for loop\n",
    "s = \"sudh\"\n",
    "ch = len(s)-1 #Why-1 becuase the INDEX is out of range i.e =4 so if we do 4-1 then 3 which is in the index range\n",
    "while ch >= 0 :\n",
    "    print(s[ch],\"{}\".format(\"RUksie\"))\n",
    "    ch = ch -1 "
   ]
  },
  {
   "cell_type": "code",
   "execution_count": 184,
   "id": "fe7cfaa2",
   "metadata": {},
   "outputs": [],
   "source": [
    "#Now using while loop inverse the string and no using[::-1] and no for loop\n",
    "s=\"this is ruksie\""
   ]
  },
  {
   "cell_type": "code",
   "execution_count": 185,
   "id": "a0f828ba",
   "metadata": {},
   "outputs": [
    {
     "name": "stdout",
     "output_type": "stream",
     "text": [
      "e\n",
      "i\n",
      "s\n",
      "k\n",
      "u\n",
      "r\n",
      " \n",
      "s\n",
      "i\n",
      " \n",
      "s\n",
      "i\n",
      "h\n",
      "t\n"
     ]
    }
   ],
   "source": [
    "ch=len(s)-1\n",
    "while ch>=0:\n",
    "    print(s[ch])\n",
    "    ch=ch-1"
   ]
  },
  {
   "cell_type": "code",
   "execution_count": 155,
   "id": "25991aaf",
   "metadata": {},
   "outputs": [],
   "source": [
    "s = \"sudh\"\n",
    "ch = len(s)"
   ]
  },
  {
   "cell_type": "code",
   "execution_count": 156,
   "id": "77f458ef",
   "metadata": {},
   "outputs": [
    {
     "data": {
      "text/plain": [
       "4"
      ]
     },
     "execution_count": 156,
     "metadata": {},
     "output_type": "execute_result"
    }
   ],
   "source": [
    "ch"
   ]
  },
  {
   "cell_type": "code",
   "execution_count": 107,
   "id": "47c96adf",
   "metadata": {},
   "outputs": [
    {
     "name": "stdout",
     "output_type": "stream",
     "text": [
      "R is not a vowel\n",
      "u is a vowel\n",
      "k is not a vowel\n",
      "a is a vowel\n",
      "i is a vowel\n",
      "y is not a vowel\n",
      "a is a vowel\n",
      "  is not a vowel\n",
      "M is not a vowel\n",
      "e is a vowel\n",
      "r is not a vowel\n",
      "c is not a vowel\n",
      "h is not a vowel\n",
      "a is a vowel\n",
      "n is not a vowel\n",
      "t is not a vowel\n"
     ]
    }
   ],
   "source": [
    "#Check whether there is a vowel or not\n",
    "name=\"Rukaiya Merchant\"\n",
    "vowels=\"AaEeIiOoUu\"\n",
    "for i in name:\n",
    "    if i in vowels:\n",
    "        print(\"{} is a vowel\".format(i))\n",
    "    else:\n",
    "        print(\"{} is not a vowel\".format(i))"
   ]
  },
  {
   "cell_type": "code",
   "execution_count": 6,
   "id": "fbfc191d",
   "metadata": {},
   "outputs": [
    {
     "name": "stdout",
     "output_type": "stream",
     "text": [
      "Enter a data that is palindromic: llp\n",
      "Data is not palindrome\n"
     ]
    }
   ],
   "source": [
    "#Check whether the string  is palindrome or not\n",
    "l=input(\"Enter a data that is palindromic: \")\n",
    "o=l[::-1]\n",
    "if l==o:\n",
    "    print(\"Data is palindrome\")\n",
    "else:\n",
    "    print(\"Data is not palindrome\")\n"
   ]
  }
 ],
 "metadata": {
  "kernelspec": {
   "display_name": "Python 3 (ipykernel)",
   "language": "python",
   "name": "python3"
  },
  "language_info": {
   "codemirror_mode": {
    "name": "ipython",
    "version": 3
   },
   "file_extension": ".py",
   "mimetype": "text/x-python",
   "name": "python",
   "nbconvert_exporter": "python",
   "pygments_lexer": "ipython3",
   "version": "3.9.7"
  }
 },
 "nbformat": 4,
 "nbformat_minor": 5
}
