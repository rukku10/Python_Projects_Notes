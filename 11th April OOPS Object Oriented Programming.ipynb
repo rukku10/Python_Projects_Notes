{
 "cells": [
  {
   "cell_type": "markdown",
   "id": "bba559df",
   "metadata": {},
   "source": [
    "# A parameter is the variable listed inside the parentheses in the function definition. An argument is the value that are sent to the function when it is called."
   ]
  },
  {
   "cell_type": "markdown",
   "id": "3fde984a",
   "metadata": {},
   "source": [
    "# OOPS Language!"
   ]
  },
  {
   "cell_type": "markdown",
   "id": "2e7ce173",
   "metadata": {},
   "source": [
    "### What is scripting?\n",
    "When we write one liner codes or maybe one code at a time is scripting language.A scripting language is a programming language that is interpreted. \n",
    "A scripting language or script language is a programming language that is used to manipulate, customize, and automate the facilities of an existing system. Scripting languages are usually interpreted at runtime rather than compiled. "
   ]
  },
  {
   "cell_type": "markdown",
   "id": "ca46e72c",
   "metadata": {},
   "source": [
    "In languages like java or scal you will not be able write your code if you donot create objects and classes"
   ]
  },
  {
   "cell_type": "markdown",
   "id": "e463a4e6",
   "metadata": {},
   "source": [
    "### Python is language where you can write it using OOPS or without it and both have their pros and cons! \n",
    "but actual development happens in OOPS i.e whenever we have to develop some sort of packages libraries or software we always prefer to write in OOPs way!"
   ]
  },
  {
   "cell_type": "markdown",
   "id": "0961fabb",
   "metadata": {},
   "source": [
    "# What is the meaning of object oriented programming?\n",
    "And inside that what are the classes objects inheritance polymorphisim extraction method overloading method over riding we will be learning! These are concept are same in all the programming language definition wise! just different in coding!"
   ]
  },
  {
   "cell_type": "markdown",
   "id": "fb21965c",
   "metadata": {},
   "source": [
    "## Python OOPS is Easier compared to that of any other programming language!!"
   ]
  },
  {
   "cell_type": "code",
   "execution_count": null,
   "id": "27721309",
   "metadata": {},
   "outputs": [],
   "source": [
    "What is meaning of class and object in OOPs?\n"
   ]
  },
  {
   "cell_type": "markdown",
   "id": "49879acb",
   "metadata": {},
   "source": [
    "Class?\n",
    "An example given by sir:\n",
    "there is a car standing but no specifications are mentioned so how will we come to know which car in a simialr manner an animal is standing below your buidling what is it???\n",
    "it is an animal but with no exact specification so here these things are entity\n",
    "Hence class is an entity!\n",
    "Class is nothing but a classification of a real world OBJECT OR AN ENTITY!\n",
    "So here car or animal or a laptop is a class which is present in the real world but i will not be able to touch or specify since it is just a classification that we are talking about!\n",
    "All common nouns are class!"
   ]
  },
  {
   "cell_type": "markdown",
   "id": "b6acfd51",
   "metadata": {},
   "source": [
    "Object?\n",
    "Audi Q7\n",
    "Fortuner \n",
    "toyota innova or for that matter Nano here we know all these belong to Car category or Car Class because all of these instances or objects are entities that have similar kind of a specification hence in Car class or may similar nature like 4 wheels bonet body type etc\n",
    "Object you will be able to feel touch and even specify \n",
    "So object is nothing but a variable of classes \n",
    "eg: Nano is a variable of the car class\n",
    "eg: a=7\n",
    "b=\"ruksie\"\n",
    "So here a is variable of integer class\n",
    "b is variable of string class\n",
    "So here integer string complex number list tuple or float etc are nothing but just classes becuase they do not specify which integer number or what is to be written as a string or float etc!"
   ]
  },
  {
   "cell_type": "code",
   "execution_count": null,
   "id": "a6381615",
   "metadata": {},
   "outputs": [],
   "source": [
    "So here when we say a=7\n",
    "we have created a variable \"a\" for an integer class OR in other words\n",
    "variable \"a\" is an OBJECT of Integer class!"
   ]
  },
  {
   "cell_type": "code",
   "execution_count": null,
   "id": "36b2dd4c",
   "metadata": {},
   "outputs": [],
   "source": [
    "l=[1,2,3,4]\n",
    "Here l is an object of the list class!"
   ]
  },
  {
   "cell_type": "markdown",
   "id": "3575577a",
   "metadata": {},
   "source": [
    "### So objects are nothing but real world entities that we can touch do a manipulation or other ways it is a variable of a class!"
   ]
  },
  {
   "cell_type": "code",
   "execution_count": null,
   "id": "b265b0e4",
   "metadata": {},
   "outputs": [],
   "source": [
    "So we can create multiple variables for int class or string class etc!\n",
    "So here we can say that we can create multiple or any number of objects of a particular class depends upon us"
   ]
  },
  {
   "cell_type": "markdown",
   "id": "77288de5",
   "metadata": {},
   "source": [
    "## Class is nothing but a definition of real world entity & Objects are nothing but they are a variable of the class by which we can do a realtime representation of data or entity!"
   ]
  },
  {
   "cell_type": "code",
   "execution_count": null,
   "id": "bb93213d",
   "metadata": {},
   "outputs": [],
   "source": [
    "WHat is the purpose of oops it is to create a modular code to increase re-usability building an abstraction "
   ]
  },
  {
   "cell_type": "markdown",
   "id": "0a5ac967",
   "metadata": {},
   "source": [
    "# Creating a class"
   ]
  },
  {
   "cell_type": "code",
   "execution_count": 1,
   "id": "09b4cb29",
   "metadata": {},
   "outputs": [],
   "source": [
    "class car():\n",
    "    pass"
   ]
  },
  {
   "cell_type": "code",
   "execution_count": 3,
   "id": "870ecd23",
   "metadata": {},
   "outputs": [
    {
     "data": {
      "text/plain": [
       "<__main__.car at 0x27c5a0c7a30>"
      ]
     },
     "execution_count": 3,
     "metadata": {},
     "output_type": "execute_result"
    }
   ],
   "source": [
    "car()"
   ]
  },
  {
   "cell_type": "markdown",
   "id": "437f70d4",
   "metadata": {},
   "source": [
    "Here main is a the top most class!"
   ]
  },
  {
   "cell_type": "code",
   "execution_count": 6,
   "id": "5ef2318d",
   "metadata": {},
   "outputs": [],
   "source": [
    "audiq7= car()"
   ]
  },
  {
   "cell_type": "code",
   "execution_count": 8,
   "id": "cc6f3e43",
   "metadata": {},
   "outputs": [],
   "source": [
    "audiq7.mileage=1 #Object.another spec\n",
    "audiq7.year=2020\n",
    "audiq7.make=345\n",
    "audiq7.model=\"sfsf\""
   ]
  },
  {
   "cell_type": "code",
   "execution_count": null,
   "id": "c0df7b22",
   "metadata": {},
   "outputs": [],
   "source": [
    "Now when we want to fetch the data of the car"
   ]
  },
  {
   "cell_type": "code",
   "execution_count": 9,
   "id": "c7c6ae89",
   "metadata": {},
   "outputs": [
    {
     "data": {
      "text/plain": [
       "2020"
      ]
     },
     "execution_count": 9,
     "metadata": {},
     "output_type": "execute_result"
    }
   ],
   "source": [
    "audiq7.year"
   ]
  },
  {
   "cell_type": "markdown",
   "id": "303603e6",
   "metadata": {},
   "source": [
    "Now lets create another variable as an object for the class car"
   ]
  },
  {
   "cell_type": "code",
   "execution_count": 10,
   "id": "da147ade",
   "metadata": {},
   "outputs": [],
   "source": [
    "nano= car()"
   ]
  },
  {
   "cell_type": "code",
   "execution_count": 11,
   "id": "963188e4",
   "metadata": {},
   "outputs": [],
   "source": [
    "nano.mileage=20\n",
    "nano.year=2021\n",
    "nano.make=564\n",
    "nano.model=\"yulu\"\n",
    "nano.engineno=352461254"
   ]
  },
  {
   "cell_type": "code",
   "execution_count": 12,
   "id": "7a248644",
   "metadata": {},
   "outputs": [
    {
     "data": {
      "text/plain": [
       "352461254"
      ]
     },
     "execution_count": 12,
     "metadata": {},
     "output_type": "execute_result"
    }
   ],
   "source": [
    "nano.engineno"
   ]
  },
  {
   "cell_type": "code",
   "execution_count": 14,
   "id": "4e104564",
   "metadata": {},
   "outputs": [
    {
     "name": "stdout",
     "output_type": "stream",
     "text": [
      "2020 2021\n"
     ]
    }
   ],
   "source": [
    "print(audiq7.year,nano.year)"
   ]
  },
  {
   "cell_type": "code",
   "execution_count": 15,
   "id": "2048e4b4",
   "metadata": {},
   "outputs": [
    {
     "name": "stdout",
     "output_type": "stream",
     "text": [
      "20 sfsf\n"
     ]
    }
   ],
   "source": [
    "print(nano.mileage,audiq7.model)"
   ]
  },
  {
   "cell_type": "markdown",
   "id": "5425f77b",
   "metadata": {},
   "source": [
    "Disadvantage: since the class car body is empty we need to keep creating variables as object like audioq7.something etc and so on for nano.something as well! So imagine if 10000 cars are there then again n again we willhave to assign variables!"
   ]
  },
  {
   "cell_type": "markdown",
   "id": "544b2165",
   "metadata": {},
   "source": [
    "So this is a bad way of programming and it should be avoided! Here you are not creating a reusability of the code!!! So basically what is happening!!\n",
    "So here we need to use the reusability of the code programming practices "
   ]
  },
  {
   "cell_type": "markdown",
   "id": "881d9703",
   "metadata": {},
   "source": [
    "So now if i have to implement similar kind of the things then how will I do it!"
   ]
  },
  {
   "cell_type": "code",
   "execution_count": null,
   "id": "adfb64ae",
   "metadata": {},
   "outputs": [],
   "source": [
    "__init__ It is an inbuilt function that is use to initialize the data"
   ]
  },
  {
   "cell_type": "code",
   "execution_count": 18,
   "id": "e6f7ef43",
   "metadata": {},
   "outputs": [],
   "source": [
    "class car:\n",
    "    def __init__(self,mileage,year,make,model):\n",
    "        self.mileage=mileage\n",
    "        self.year=year\n",
    "        self.make=make\n",
    "        self.model=model\n",
    "        \n",
    "#Here self is nothing but a pointer to the class itself which is self.mileage =mileage So now look below and understand! "
   ]
  },
  {
   "cell_type": "code",
   "execution_count": 19,
   "id": "fb725d99",
   "metadata": {},
   "outputs": [
    {
     "ename": "TypeError",
     "evalue": "__init__() missing 4 required positional arguments: 'mileage', 'year', 'make', and 'model'",
     "output_type": "error",
     "traceback": [
      "\u001b[1;31m---------------------------------------------------------------------------\u001b[0m",
      "\u001b[1;31mTypeError\u001b[0m                                 Traceback (most recent call last)",
      "Cell \u001b[1;32mIn[19], line 1\u001b[0m\n\u001b[1;32m----> 1\u001b[0m nano1\u001b[38;5;241m=\u001b[39m\u001b[43mcar\u001b[49m\u001b[43m(\u001b[49m\u001b[43m)\u001b[49m\n",
      "\u001b[1;31mTypeError\u001b[0m: __init__() missing 4 required positional arguments: 'mileage', 'year', 'make', and 'model'"
     ]
    }
   ],
   "source": [
    "nano1=car()#Look at this error carefully"
   ]
  },
  {
   "cell_type": "code",
   "execution_count": 22,
   "id": "6f33cc72",
   "metadata": {},
   "outputs": [],
   "source": [
    "nano1=car(20,2020,\"tata\",\"XS\")\n",
    "audiq7=car(10,2021,\"Frankfurt\",\"Q7\")"
   ]
  },
  {
   "cell_type": "code",
   "execution_count": 23,
   "id": "3b7e2beb",
   "metadata": {},
   "outputs": [
    {
     "data": {
      "text/plain": [
       "20"
      ]
     },
     "execution_count": 23,
     "metadata": {},
     "output_type": "execute_result"
    }
   ],
   "source": [
    "#Now youll write \n",
    "#nano1.(press tab)\n",
    "nano1.mileage"
   ]
  },
  {
   "cell_type": "markdown",
   "id": "f8075b0f",
   "metadata": {},
   "source": [
    "NOTE: SElF is not a predefined keyword you can use anything in place of self and also self is a pointer that points towards the class\n",
    "Now what if you remove the pointer? i.e self So still the code will run but now the pointer will by default take mileage as a new pointer for class."
   ]
  },
  {
   "cell_type": "code",
   "execution_count": 25,
   "id": "4e5c1a49",
   "metadata": {},
   "outputs": [],
   "source": [
    "class car:\n",
    "    def __init__(mileage,year,make,model):\n",
    "        self.mileage=mileage\n",
    "        self.year=year\n",
    "        self.make=make\n",
    "        self.model=model\n",
    "        "
   ]
  },
  {
   "cell_type": "markdown",
   "id": "741c9e39",
   "metadata": {},
   "source": [
    "So see here the code is functioning without self but is it correct no so here now it will take mileage as pointer of the class. Also in place of self you can place any string name eg: ping your name my name etc!"
   ]
  },
  {
   "cell_type": "markdown",
   "id": "6cf05f04",
   "metadata": {},
   "source": [
    "### INPLACE OF SELF YOU CAN TRY ANYTHING ELSE IT IS NOT A KEYWORD, CHECK THIS OUT "
   ]
  },
  {
   "cell_type": "code",
   "execution_count": 28,
   "id": "6ab02e22",
   "metadata": {},
   "outputs": [],
   "source": [
    "class car():\n",
    "    def __init__(a,mileage,year,make,model):\n",
    "        a.mileage=mileage\n",
    "        a.year=year\n",
    "        a.make=make\n",
    "        a.model=model\n",
    "        "
   ]
  },
  {
   "cell_type": "markdown",
   "id": "671e55dc",
   "metadata": {},
   "source": [
    "Here self is not a keyword it is a convention!"
   ]
  },
  {
   "cell_type": "markdown",
   "id": "d8953fb4",
   "metadata": {},
   "source": [
    "## Pointer is associating my data to the class!"
   ]
  },
  {
   "cell_type": "markdown",
   "id": "45482956",
   "metadata": {},
   "source": [
    "Now init is a default inbuild function or method for the classes these are the arguments to this function i.e year model make etc"
   ]
  },
  {
   "cell_type": "markdown",
   "id": "8091a1ce",
   "metadata": {},
   "source": [
    "### SO whenever ill try to create an object of a class ill be calling init function either you want it or not it will be called!"
   ]
  },
  {
   "cell_type": "markdown",
   "id": "bc521670",
   "metadata": {},
   "source": [
    "Also look at the code below"
   ]
  },
  {
   "cell_type": "code",
   "execution_count": 33,
   "id": "18bdb672",
   "metadata": {},
   "outputs": [],
   "source": [
    "class car():\n",
    "    def __init__(self,m,y,ma,mo):\n",
    "        self.mileage=m\n",
    "        self.year=y\n",
    "        self.make=ma\n",
    "        self,model=mo"
   ]
  },
  {
   "cell_type": "markdown",
   "id": "bd4dd841",
   "metadata": {},
   "source": [
    "So here you'll can have different variable names assign not necessarily they have to be same infact they create confusion sometimes!"
   ]
  },
  {
   "cell_type": "markdown",
   "id": "1450e6ca",
   "metadata": {},
   "source": [
    "### So what is the flow look carefully "
   ]
  },
  {
   "cell_type": "code",
   "execution_count": 36,
   "id": "d809f75a",
   "metadata": {},
   "outputs": [],
   "source": [
    "nano2=car(10,2020,\"tata\",\"xc\")"
   ]
  },
  {
   "cell_type": "markdown",
   "id": "4388e194",
   "metadata": {},
   "source": [
    "So now the data passes in nano2 i.e 10 will go to the arguments variable m from there it will get stored in self.mileage from there self as a pointer will point the data to the class. Similarly for all the other datas!  "
   ]
  },
  {
   "cell_type": "code",
   "execution_count": 37,
   "id": "cd856dca",
   "metadata": {},
   "outputs": [
    {
     "ename": "AttributeError",
     "evalue": "'car' object has no attribute 'm'",
     "output_type": "error",
     "traceback": [
      "\u001b[1;31m---------------------------------------------------------------------------\u001b[0m",
      "\u001b[1;31mAttributeError\u001b[0m                            Traceback (most recent call last)",
      "Cell \u001b[1;32mIn[37], line 1\u001b[0m\n\u001b[1;32m----> 1\u001b[0m \u001b[43mnano2\u001b[49m\u001b[38;5;241;43m.\u001b[39;49m\u001b[43mm\u001b[49m\n",
      "\u001b[1;31mAttributeError\u001b[0m: 'car' object has no attribute 'm'"
     ]
    }
   ],
   "source": [
    "nano2.m"
   ]
  },
  {
   "attachments": {
    "download.png": {
     "image/png": "[encoded data removed]"
    }
   },
   "cell_type": "markdown",
   "id": "ad2841e8",
   "metadata": {},
   "source": [
    "![download.png](attachment:download.png)"
   ]
  },
  {
   "cell_type": "markdown",
   "id": "d6e9fae6",
   "metadata": {},
   "source": [
    "### Why will i not get the data?????\n",
    "Because m is a method argument not a class variable!\n",
    "So it is a method argument we are passing only while creating a class! Hence we are not able to get a result!"
   ]
  },
  {
   "cell_type": "markdown",
   "id": "93503f07",
   "metadata": {},
   "source": [
    "So If i have to access the class data then i have to call the class variable i.e the class object i.e nano2.mileage!"
   ]
  },
  {
   "cell_type": "code",
   "execution_count": 38,
   "id": "5dea5901",
   "metadata": {},
   "outputs": [
    {
     "data": {
      "text/plain": [
       "10"
      ]
     },
     "execution_count": 38,
     "metadata": {},
     "output_type": "execute_result"
    }
   ],
   "source": [
    "nano2.mileage"
   ]
  },
  {
   "cell_type": "code",
   "execution_count": null,
   "id": "5b0690dc",
   "metadata": {},
   "outputs": [],
   "source": [
    "Now watch closely!"
   ]
  },
  {
   "cell_type": "code",
   "execution_count": 41,
   "id": "4bb7a262",
   "metadata": {},
   "outputs": [],
   "source": [
    "class car():\n",
    "    #This is an inbuild method or function\n",
    "    def __init__(a,mileage,year,make,model):\n",
    "        a.mileage=mileage\n",
    "        a.year=year\n",
    "        a.make=make\n",
    "        a.model=model\n",
    "    \n",
    "#Now creating our own method or function where we want the age of the car\n",
    "    def age(self,current_year):\n",
    "        return current_year-a.year\n",
    "        \n",
    "        "
   ]
  },
  {
   "cell_type": "code",
   "execution_count": 42,
   "id": "4374940b",
   "metadata": {},
   "outputs": [],
   "source": [
    "nano2=car(20,2020,\"tata\",\"Xcess\")"
   ]
  },
  {
   "cell_type": "code",
   "execution_count": 43,
   "id": "a65817e5",
   "metadata": {},
   "outputs": [
    {
     "ename": "NameError",
     "evalue": "name 'a' is not defined",
     "output_type": "error",
     "traceback": [
      "\u001b[1;31m---------------------------------------------------------------------------\u001b[0m",
      "\u001b[1;31mNameError\u001b[0m                                 Traceback (most recent call last)",
      "Cell \u001b[1;32mIn[43], line 1\u001b[0m\n\u001b[1;32m----> 1\u001b[0m \u001b[43mnano2\u001b[49m\u001b[38;5;241;43m.\u001b[39;49m\u001b[43mage\u001b[49m\u001b[43m(\u001b[49m\u001b[38;5;241;43m2021\u001b[39;49m\u001b[43m)\u001b[49m\n",
      "Cell \u001b[1;32mIn[41], line 11\u001b[0m, in \u001b[0;36mcar.age\u001b[1;34m(self, current_year)\u001b[0m\n\u001b[0;32m     10\u001b[0m \u001b[38;5;28;01mdef\u001b[39;00m \u001b[38;5;21mage\u001b[39m(\u001b[38;5;28mself\u001b[39m,current_year):\n\u001b[1;32m---> 11\u001b[0m     \u001b[38;5;28;01mreturn\u001b[39;00m current_year\u001b[38;5;241m-\u001b[39m\u001b[43ma\u001b[49m\u001b[38;5;241m.\u001b[39myear\n",
      "\u001b[1;31mNameError\u001b[0m: name 'a' is not defined"
     ]
    }
   ],
   "source": [
    "nano2.age(2021)#Why error is coming???"
   ]
  },
  {
   "cell_type": "markdown",
   "id": "86261a21",
   "metadata": {},
   "source": [
    "So here \"a\" is understood only by init function becuase metioned in init arguments and not in age function and hence look below"
   ]
  },
  {
   "cell_type": "markdown",
   "id": "31f28e8b",
   "metadata": {},
   "source": [
    "## ALso remember you can use same pointer for all the variable as objects of a single class"
   ]
  },
  {
   "cell_type": "code",
   "execution_count": 44,
   "id": "47e565d6",
   "metadata": {},
   "outputs": [],
   "source": [
    "class car():\n",
    "    def __init__(a,mileage,year,make,model):\n",
    "        a.mileage=mileage\n",
    "        a.year=year\n",
    "        a.make=make\n",
    "        a.model=model\n",
    "    def age(self,current_year):\n",
    "        return current_year-self.year"
   ]
  },
  {
   "cell_type": "code",
   "execution_count": 45,
   "id": "b68e234a",
   "metadata": {},
   "outputs": [
    {
     "data": {
      "text/plain": [
       "1"
      ]
     },
     "execution_count": 45,
     "metadata": {},
     "output_type": "execute_result"
    }
   ],
   "source": [
    "nano2=car(20,2020,\"tata\",\"Xcess\")\n",
    "nano2.age(2021)\n",
    "#Hence we will get current year - bought year"
   ]
  },
  {
   "cell_type": "code",
   "execution_count": 46,
   "id": "f290e42d",
   "metadata": {},
   "outputs": [],
   "source": [
    "class car():\n",
    "    def __init__(a,mileage,year,make,model):\n",
    "        a.mileage=mileage\n",
    "        a.year=year\n",
    "        a.make=make\n",
    "        a.model=model\n",
    "    #Created own function or method!\n",
    "    def age(self,current_year):\n",
    "        return current_year-self.year\n",
    "    #Created own function or method!\n",
    "    def speed_mileage(b):#Here only placing a pointer \n",
    "        print(\"The mileage is:\",b.mileage)\n",
    "        \n",
    "    "
   ]
  },
  {
   "cell_type": "code",
   "execution_count": 47,
   "id": "88004ba5",
   "metadata": {},
   "outputs": [
    {
     "name": "stdout",
     "output_type": "stream",
     "text": [
      "The mileage is: 20\n"
     ]
    }
   ],
   "source": [
    "nano2=car(20,2020,\"tata\",\"Xcess\")\n",
    "nano2.speed_mileage()#Since we dont place the pointer inside since it is a method argument and not variable argument!"
   ]
  },
  {
   "cell_type": "markdown",
   "id": "868eaa56",
   "metadata": {},
   "source": [
    "## So in the above programme we have used 3 different pointers in the program!"
   ]
  },
  {
   "cell_type": "markdown",
   "id": "c96731a7",
   "metadata": {},
   "source": [
    "# What happens when you call the variable of the class??"
   ]
  },
  {
   "cell_type": "code",
   "execution_count": 48,
   "id": "a798f09b",
   "metadata": {},
   "outputs": [
    {
     "data": {
      "text/plain": [
       "<__main__.car at 0x27c5b8858b0>"
      ]
     },
     "execution_count": 48,
     "metadata": {},
     "output_type": "execute_result"
    }
   ],
   "source": [
    "nano2"
   ]
  },
  {
   "cell_type": "markdown",
   "id": "e46a5d75",
   "metadata": {},
   "source": [
    "But what if we dont want this kind of output/message??"
   ]
  },
  {
   "cell_type": "markdown",
   "id": "c34ea8fe",
   "metadata": {},
   "source": [
    "So ill define a new inbuild functin called str "
   ]
  },
  {
   "cell_type": "code",
   "execution_count": 73,
   "id": "9f23f3dc",
   "metadata": {},
   "outputs": [],
   "source": [
    "class car():\n",
    "    def __init__(a,mileage,year,make,model):\n",
    "        a.mileage=mileage\n",
    "        a.year=year\n",
    "        a.make=make\n",
    "        a.model=model\n",
    "    #Created own function or method!\n",
    "    def age(self,current_year):\n",
    "        return current_year-self.year\n",
    "    #Created own function or method!\n",
    "    def speed_mileage(b):#Here only placing a pointer \n",
    "        print(\"The mileage is:\",b.mileage)\n",
    "    #Creating a new inbuilt function\n",
    "    def __str__(c):\n",
    "        #Here we are trying to give our own defintion we are trying to override it!\n",
    "        return\"This is Car my new class created! \"\n",
    "    "
   ]
  },
  {
   "cell_type": "markdown",
   "id": "f21ce6e5",
   "metadata": {},
   "source": [
    "### remember every class that we create that has functions these functions should have a pointer that associates to the class back!\n",
    "i.e a,self,b,c these are the pointers "
   ]
  },
  {
   "cell_type": "code",
   "execution_count": null,
   "id": "a2608f03",
   "metadata": {},
   "outputs": [],
   "source": [
    "Incase we dont create them then they end up giving error!"
   ]
  },
  {
   "cell_type": "code",
   "execution_count": 74,
   "id": "4c7a5bc4",
   "metadata": {},
   "outputs": [],
   "source": [
    "nano2=car(10,2020,\"tata\",\"Xcess\")"
   ]
  },
  {
   "cell_type": "code",
   "execution_count": 75,
   "id": "4cc520bc",
   "metadata": {},
   "outputs": [
    {
     "data": {
      "text/plain": [
       "3"
      ]
     },
     "execution_count": 75,
     "metadata": {},
     "output_type": "execute_result"
    }
   ],
   "source": [
    "nano2.age(2023)"
   ]
  },
  {
   "cell_type": "code",
   "execution_count": 79,
   "id": "4d3a9271",
   "metadata": {},
   "outputs": [
    {
     "data": {
      "text/plain": [
       "<__main__.car at 0x27c5c687040>"
      ]
     },
     "execution_count": 79,
     "metadata": {},
     "output_type": "execute_result"
    }
   ],
   "source": [
    "nano2"
   ]
  },
  {
   "cell_type": "code",
   "execution_count": 77,
   "id": "3e621292",
   "metadata": {},
   "outputs": [
    {
     "name": "stdout",
     "output_type": "stream",
     "text": [
      "This is Car my new class created! \n"
     ]
    }
   ],
   "source": [
    "print(nano2)#use print else you wont get an output!\n",
    "#This means whenver we are printing this object/variable! or whenever this object is called we will get this output!\n",
    "#It is an inbuilt method no where are we trying to call nano2.__str__ but because it is an inbuilt method we are able \n",
    "#to get the desired results.\n",
    "#Similarly incase of __init__ no where have we called it but it being an inbvuilt function we are able to call it! \n",
    "#Because class is going to call the inbuilt function automatically"
   ]
  },
  {
   "cell_type": "markdown",
   "id": "d1d6f56f",
   "metadata": {},
   "source": [
    "## Whenver we create an inbuilt object the class is going to call the inbuilt function automatically!"
   ]
  },
  {
   "cell_type": "code",
   "execution_count": null,
   "id": "0d246dab",
   "metadata": {},
   "outputs": [],
   "source": [
    "Now another example!"
   ]
  },
  {
   "cell_type": "code",
   "execution_count": 1,
   "id": "cf090e7f",
   "metadata": {},
   "outputs": [],
   "source": [
    "class student:\n",
    "    def __init__(self,name,rollno,joining_date,current_topic):\n",
    "        self.name=name\n",
    "        self.rollno=rollno\n",
    "        self.joining_date=joining_date\n",
    "        self.current_topic=current_topic\n",
    "    def cur_topic(self):\n",
    "        print(\"The current topic discussed in class is:\",self.current_topic)\n",
    "    def str_rollno(self):\n",
    "        if type(self.rollno)==str:\n",
    "            print(\"The roll no is a string datatype!\")\n",
    "        else:\n",
    "            return str(self.rollno)\n",
    "       \n",
    "    def duration(self,current_date):\n",
    "        return \"The duration of the student is \",current_date-self.joining_date,\"years\"\n",
    "    def __str__(self):\n",
    "        return \"This is a class created for student details where you can input as well as fetch the data\""
   ]
  },
  {
   "cell_type": "code",
   "execution_count": 134,
   "id": "3bfed61c",
   "metadata": {},
   "outputs": [],
   "source": [
    "Stud1=student(\"Ruksie\",\"10\",2019,\"Computer Science\")"
   ]
  },
  {
   "cell_type": "code",
   "execution_count": 135,
   "id": "8448b78c",
   "metadata": {},
   "outputs": [
    {
     "name": "stdout",
     "output_type": "stream",
     "text": [
      "This is a class created for student details where you can input as well as fetch the data\n"
     ]
    }
   ],
   "source": [
    "print(Stud1)"
   ]
  },
  {
   "cell_type": "code",
   "execution_count": 136,
   "id": "3f9ed67f",
   "metadata": {},
   "outputs": [
    {
     "name": "stdout",
     "output_type": "stream",
     "text": [
      "The current topic discussed in class is: Computer Science\n"
     ]
    }
   ],
   "source": [
    "Stud1.cur_topic()"
   ]
  },
  {
   "cell_type": "code",
   "execution_count": 137,
   "id": "79405adc",
   "metadata": {},
   "outputs": [
    {
     "data": {
      "text/plain": [
       "('The duration of the student is ', 4, 'years')"
      ]
     },
     "execution_count": 137,
     "metadata": {},
     "output_type": "execute_result"
    }
   ],
   "source": [
    "Stud1.duration(2023)"
   ]
  },
  {
   "cell_type": "code",
   "execution_count": 138,
   "id": "80179367",
   "metadata": {},
   "outputs": [
    {
     "name": "stdout",
     "output_type": "stream",
     "text": [
      "The roll no is a string datatype!\n"
     ]
    }
   ],
   "source": [
    "Stud1.str_rollno()"
   ]
  },
  {
   "cell_type": "code",
   "execution_count": 139,
   "id": "1f589877",
   "metadata": {},
   "outputs": [],
   "source": [
    "Stud1=student(\"Ruksie\",10,2019,\"Computer Science\")"
   ]
  },
  {
   "cell_type": "code",
   "execution_count": 140,
   "id": "4761e8d7",
   "metadata": {},
   "outputs": [
    {
     "data": {
      "text/plain": [
       "'10'"
      ]
     },
     "execution_count": 140,
     "metadata": {},
     "output_type": "execute_result"
    }
   ],
   "source": [
    "Stud1.str_rollno()"
   ]
  },
  {
   "cell_type": "markdown",
   "id": "8329ee30",
   "metadata": {},
   "source": [
    "## If you create classes an objects youll be able to increase modularity of the code!!"
   ]
  },
  {
   "cell_type": "code",
   "execution_count": 2,
   "id": "215e8897",
   "metadata": {},
   "outputs": [],
   "source": [
    "class student:\n",
    "    def __init__(self,name,rollno,joining_date,current_topic):\n",
    "        self.name=name\n",
    "        self.rollno=rollno\n",
    "        self.joining_date=joining_date\n",
    "        self.current_topic=current_topic\n",
    "        \n",
    "        \n",
    "    def name_parsing(self):\n",
    "        if type(self.name)==list:\n",
    "            for i in self.name:\n",
    "                print(\"The name is:\",i)\n",
    "        else:\n",
    "            print(\"The provided name is not present in the list!\")\n",
    "    def cur_topic(self):\n",
    "        print(\"The current topic discussed in class is:\",self.current_topic)\n",
    "    def str_rollno(self):\n",
    "        try:\n",
    "            \n",
    "            if type(self.rollno)==str:\n",
    "                print(\"The roll no is a string datatype!\")\n",
    "            else:\n",
    "                return self.rollno\n",
    "        \n",
    "        except ValueError as e:\n",
    "                print(\"This is an error \",e)\n",
    "    def duration(self,current_date):\n",
    "        return \"The duration of the student is \",current_date-self.joining_date,\"years\"\n",
    "    def __str__(self):\n",
    "        return \"This is a class created for student details where you can input as well as fetch the data\"\n",
    "#In str function whenever you want to print the object it will return this function!"
   ]
  },
  {
   "cell_type": "code",
   "execution_count": 3,
   "id": "9dd26c9d",
   "metadata": {},
   "outputs": [],
   "source": [
    "stud2=student(\"Abbas\",20,2021,\"Electrical\")"
   ]
  },
  {
   "cell_type": "code",
   "execution_count": 4,
   "id": "adbc6b71",
   "metadata": {},
   "outputs": [
    {
     "data": {
      "text/plain": [
       "20"
      ]
     },
     "execution_count": 4,
     "metadata": {},
     "output_type": "execute_result"
    }
   ],
   "source": [
    "stud2.str_rollno()"
   ]
  },
  {
   "cell_type": "code",
   "execution_count": 5,
   "id": "6d3b8fce",
   "metadata": {},
   "outputs": [],
   "source": [
    "marur =student(\"marur\",20,2021,\"55345124\")"
   ]
  },
  {
   "cell_type": "markdown",
   "id": "c5921f5c",
   "metadata": {},
   "source": [
    "### Here we passed multiple names in the form of a list!"
   ]
  },
  {
   "cell_type": "code",
   "execution_count": 6,
   "id": "921bcbec",
   "metadata": {},
   "outputs": [],
   "source": [
    "pawan =student([\"naveen\",\"jay\",\"himanshu\",\"pranay\"],[234,251,245,256],2021,\"oops\")"
   ]
  },
  {
   "cell_type": "code",
   "execution_count": 7,
   "id": "e71b04cf",
   "metadata": {},
   "outputs": [
    {
     "name": "stdout",
     "output_type": "stream",
     "text": [
      "The name is: naveen\n",
      "The name is: jay\n",
      "The name is: himanshu\n",
      "The name is: pranay\n"
     ]
    }
   ],
   "source": [
    "pawan.name_parsing()"
   ]
  },
  {
   "cell_type": "markdown",
   "id": "41451ecd",
   "metadata": {},
   "source": [
    "## So whenever we are using __func__ these are inbuilt functions"
   ]
  },
  {
   "cell_type": "code",
   "execution_count": 8,
   "id": "ea6929e6",
   "metadata": {},
   "outputs": [
    {
     "name": "stdout",
     "output_type": "stream",
     "text": [
      "This is a class created for student details where you can input as well as fetch the data\n"
     ]
    }
   ],
   "source": [
    "print(marur)"
   ]
  },
  {
   "cell_type": "markdown",
   "id": "5e643614",
   "metadata": {},
   "source": [
    "So whenver we try to print the student name the str fucntion is called! Here i am not calling str but because we called the object of this class it is printing the function of that class for that object!`"
   ]
  },
  {
   "cell_type": "code",
   "execution_count": null,
   "id": "3e5bd034",
   "metadata": {},
   "outputs": [],
   "source": [
    "class student:\n",
    "    def __init__(self,name,rollno,joining_date,current_topic):\n",
    "        self.name=name\n",
    "        self.rollno=rollno\n",
    "        self.joining_date=joining_date\n",
    "        self.current_topic=current_topic\n",
    "        \n",
    "        \n",
    "    def name_parsing(self):\n",
    "        if type(self.name)==list:\n",
    "            for i in self.name:\n",
    "                print(\"The name is:\",i)\n",
    "        else:\n",
    "            print(\"The provided name is not present in the list!\")\n",
    "    def cur_topic(self):\n",
    "        print(\"The current topic discussed in class is:\",self.current_topic)\n",
    "    def str_rollno(self):\n",
    "        try:\n",
    "            \n",
    "            if type(self.rollno)==str:\n",
    "                print(\"The roll no is a string datatype!\")\n",
    "            else:\n",
    "                return self.rollno\n",
    "        \n",
    "        except ValueError as e:\n",
    "                print(\"This is an error \",e)\n",
    "    def duration(self,current_date):\n",
    "        return \"The duration of the student is \",current_date-self.joining_date,\"years\"\n",
    "    def __str__(self):\n",
    "        return \"This is a class created for student details where you can input as well as fetch the data\"\n",
    "#In str function whenever you want to print the object it will return this function!"
   ]
  },
  {
   "cell_type": "code",
   "execution_count": 10,
   "id": "c1076cc4",
   "metadata": {},
   "outputs": [],
   "source": [
    "stud3=student(\"Abru\",29,2021,\"love\")"
   ]
  },
  {
   "cell_type": "code",
   "execution_count": 11,
   "id": "161fee72",
   "metadata": {},
   "outputs": [
    {
     "data": {
      "text/plain": [
       "'Abru'"
      ]
     },
     "execution_count": 11,
     "metadata": {},
     "output_type": "execute_result"
    }
   ],
   "source": [
    "stud3.name"
   ]
  },
  {
   "cell_type": "code",
   "execution_count": 12,
   "id": "f310ebbb",
   "metadata": {},
   "outputs": [
    {
     "data": {
      "text/plain": [
       "29"
      ]
     },
     "execution_count": 12,
     "metadata": {},
     "output_type": "execute_result"
    }
   ],
   "source": [
    "stud3.rollno"
   ]
  },
  {
   "cell_type": "code",
   "execution_count": 13,
   "id": "f4ad3c9b",
   "metadata": {},
   "outputs": [
    {
     "data": {
      "text/plain": [
       "2021"
      ]
     },
     "execution_count": 13,
     "metadata": {},
     "output_type": "execute_result"
    }
   ],
   "source": [
    "stud3.joining_date"
   ]
  },
  {
   "cell_type": "code",
   "execution_count": 14,
   "id": "833b28d5",
   "metadata": {},
   "outputs": [
    {
     "data": {
      "text/plain": [
       "'love'"
      ]
     },
     "execution_count": 14,
     "metadata": {},
     "output_type": "execute_result"
    }
   ],
   "source": [
    "stud3.current_topic"
   ]
  },
  {
   "cell_type": "code",
   "execution_count": 16,
   "id": "e1ab38e3",
   "metadata": {},
   "outputs": [
    {
     "name": "stdout",
     "output_type": "stream",
     "text": [
      "The current topic discussed in class is: love\n"
     ]
    }
   ],
   "source": [
    "stud3.cur_topic()"
   ]
  },
  {
   "cell_type": "code",
   "execution_count": 19,
   "id": "a742ae00",
   "metadata": {},
   "outputs": [
    {
     "name": "stdout",
     "output_type": "stream",
     "text": [
      "The provided name is not present in the list!\n"
     ]
    }
   ],
   "source": [
    "stud3.name_parsing()#Since single name name is not in the form of list multiple names not present only single names!"
   ]
  },
  {
   "cell_type": "code",
   "execution_count": null,
   "id": "fe6c3cbc",
   "metadata": {},
   "outputs": [],
   "source": [
    "Sirs Question!\n",
    "1) LEVEL ONE \n",
    "Create a class named data\n",
    "Create a class variable as hint using init\n",
    "filename: dict or list or tuple or individual file name\n",
    "filetype:\n",
    "date\n",
    "size\n",
    "Now you are suppose to create a function as \n",
    "1.file_open and in that place take the above file name and create it and then write some data inside the file\n",
    "2.file_read it is suppose to take file name and read the data \n",
    "3.file_append in the same file you are suppose to append some data and show \n",
    "\n",
    "\n",
    "2) LEVEL TWO\n",
    "Sir wants us to implement try catch and exception handling and implement logger inside it!"
   ]
  },
  {
   "cell_type": "code",
   "execution_count": 60,
   "id": "3636fdfe",
   "metadata": {},
   "outputs": [],
   "source": [
    "class data:\n",
    "    def __init__(self,file_name,file_type,file_date,file_size):\n",
    "        self.file_name= file_name\n",
    "        self.file_type=file_type\n",
    "        self.file_data=file_date\n",
    "        self.file_size=file_size\n",
    "        \n",
    "    def file_open(self):\n",
    "        f=open(self.file_name,'w')\n",
    "        f.write(\"This is the data i have passed in the file\")\n",
    "        f.close()\n",
    "        \n",
    "    def file_read(self):\n",
    "        f=open(self.file_name,'r')\n",
    "        print(f.read())\n",
    "        f.close()\n",
    "    def file_append(self):\n",
    "        f=open(self.file_name,'a')\n",
    "        f.write(\"\\n This is what i have appended! \")\n",
    "        f.close()\n",
    "        "
   ]
  },
  {
   "cell_type": "code",
   "execution_count": 62,
   "id": "e42c91f4",
   "metadata": {},
   "outputs": [],
   "source": [
    "bigdata=data(\"Bigdata\",\"text\",2021,25)"
   ]
  },
  {
   "cell_type": "code",
   "execution_count": 63,
   "id": "fb1e43bb",
   "metadata": {},
   "outputs": [],
   "source": [
    "bigdata.file_open()"
   ]
  },
  {
   "cell_type": "code",
   "execution_count": 64,
   "id": "798455cd",
   "metadata": {},
   "outputs": [
    {
     "name": "stdout",
     "output_type": "stream",
     "text": [
      "This is the data i have passed in the file\n"
     ]
    }
   ],
   "source": [
    "bigdata.file_read()"
   ]
  },
  {
   "cell_type": "code",
   "execution_count": 65,
   "id": "ac00f883",
   "metadata": {},
   "outputs": [],
   "source": [
    "bigdata.file_append()\n",
    "\n"
   ]
  },
  {
   "cell_type": "code",
   "execution_count": 66,
   "id": "654e5cbe",
   "metadata": {},
   "outputs": [
    {
     "name": "stdout",
     "output_type": "stream",
     "text": [
      "Object `dictionaries` not found.\n"
     ]
    }
   ],
   "source": [
    "But now what if the input has lists tuples or dictionaries??"
   ]
  },
  {
   "cell_type": "code",
   "execution_count": 86,
   "id": "3d1d10fb",
   "metadata": {},
   "outputs": [],
   "source": [
    "class data:\n",
    "    def __init__(self,file_name,file_type,file_date,file_size):\n",
    "        self.file_name= file_name\n",
    "        self.file_type=file_type\n",
    "        self.file_data=file_date\n",
    "        self.file_size=file_size\n",
    "        \n",
    "    def file_open(self,file_name):#Here we can have a different pointer as well check in the next code\n",
    "        if type(self.file_name)==list:\n",
    "            #since we will enter every diff name in this pointer later turned class variable/object eg: BigData=[\"purab\",\"piyush\",\"avi\"]\n",
    "            for i in file_name:\n",
    "                f=open(i,'w')\n",
    "                f.write(\"This is the data i have passed in the file\"+i)\n",
    "                f.close()\n",
    "        elif type(self.file_name)==tuple:\n",
    "            for i in file_name:\n",
    "                f=open(i,'w')\n",
    "                f.write(\"This is the data I have passed in the file\"+i)\n",
    "                f.close()\n",
    "        elif type(self.file_name)==dict:\n",
    "            for i in file_name:\n",
    "                f=open(i,'w')\n",
    "                f.write(\"This is the data I have passed in the file\"+i)\n",
    "                f.close()\n",
    "        else:\n",
    "            f=open(self.file_name,'w')\n",
    "            f.write(\"This is the data I have passed in the file\"+ii)\n",
    "            f.close()\n",
    "            \n",
    "        \n",
    "    def file_read(self):\n",
    "        f=open(self.file_name,'r')\n",
    "        print(f.read())\n",
    "        f.close()\n",
    "    def file_append(self):\n",
    "        f=open(self.file_name,'a')\n",
    "        f.write(\"\\n This is what i have appended! \")\n",
    "        f.close()\n",
    "        "
   ]
  },
  {
   "cell_type": "code",
   "execution_count": 81,
   "id": "578a09b4",
   "metadata": {},
   "outputs": [],
   "source": [
    "smalldata=data([\"data1\",\"data2\",\"data3\"],\"text\",2022,10)"
   ]
  },
  {
   "cell_type": "code",
   "execution_count": 85,
   "id": "88a29655",
   "metadata": {},
   "outputs": [],
   "source": [
    "smalldata.file_open([\"data1\",\"data2\",\"data3\"]) "
   ]
  },
  {
   "cell_type": "code",
   "execution_count": null,
   "id": "bddf8f0b",
   "metadata": {},
   "outputs": [],
   "source": [
    "So now if we have to read them with these multiple file then???"
   ]
  },
  {
   "cell_type": "code",
   "execution_count": 119,
   "id": "d851cda0",
   "metadata": {},
   "outputs": [],
   "source": [
    "class data:\n",
    "    def __init__(self,file_name,file_type,file_date,file_size):\n",
    "        self.file_name= file_name\n",
    "        self.file_type=file_type\n",
    "        self.file_data=file_date\n",
    "        self.file_size=file_size\n",
    "        \n",
    "    def file_open(a,file_name): \n",
    "        if type(a.file_name)==list:\n",
    "            #since we will enter every diff name in this pointer later turned class variable/object eg: BigData=[\"purab\",\"piyush\",\"avi\"]\n",
    "            for i in file_name:\n",
    "                f=open(i,'w')\n",
    "                f.write(\"This is the data i have passed in the file\"+i)\n",
    "                f.close()\n",
    "        elif type(a.file_name)==tuple:\n",
    "            for i in file_name:\n",
    "                f=open(i,'w')\n",
    "                f.write(\"This is the data I have passed in the file\"+i)\n",
    "                f.close()\n",
    "        elif type(a.file_name)==dict:\n",
    "            for i in file_name:\n",
    "                f=open(i,'w')\n",
    "                f.write(\"This is the data I have passed in the file\"+i)\n",
    "                f.close()\n",
    "        else:\n",
    "            f=open(a.file_name,'w')\n",
    "            f.write(\"This is the data I have passed in the file\"+ii)\n",
    "            f.close()\n",
    "            \n",
    "        \n",
    "    def file_read(b,file_name):\n",
    "        if type(b.file_name) == list:\n",
    "            for i in file_name:\n",
    "                f = open(i,'r')\n",
    "                print(f.read())\n",
    "        elif type(b.file_name) == dict:\n",
    "            for i in file_name:\n",
    "                f = open(i,'r')\n",
    "                print(f.read())\n",
    "       \n",
    "        elif type(b.file_name) == tuple:\n",
    "            for i in file_name:\n",
    "                f = open(i,'r')\n",
    "                print(f.read())\n",
    "        else:\n",
    "            f = open(b.file_name,'r')\n",
    "            print(f.read())\n",
    "            \n",
    "    def file_append(self):\n",
    "        f=open(self.file_name,'a')\n",
    "        f.write(\"\\n This is what i have appended! \")\n",
    "        f.close()\n",
    "    def __str__(self):\n",
    "        return \"This is a data class and they have various objects!\""
   ]
  },
  {
   "cell_type": "code",
   "execution_count": 120,
   "id": "e97d7bd4",
   "metadata": {},
   "outputs": [],
   "source": [
    "longdata=data([\"data1\",\"data2\",\"data3\"],\"text\",2022,10)"
   ]
  },
  {
   "cell_type": "code",
   "execution_count": 121,
   "id": "d77f74b3",
   "metadata": {},
   "outputs": [],
   "source": [
    "longdata.file_open([\"data1\",\"data2\",\"data3\"])"
   ]
  },
  {
   "cell_type": "code",
   "execution_count": 122,
   "id": "92c24df4",
   "metadata": {},
   "outputs": [
    {
     "name": "stdout",
     "output_type": "stream",
     "text": [
      "This is the data i have passed in the filedata1\n",
      "This is the data i have passed in the filedata2\n",
      "This is the data i have passed in the filedata3\n"
     ]
    }
   ],
   "source": [
    "longdata.file_read([\"data1\",\"data2\",\"data3\"])"
   ]
  },
  {
   "cell_type": "code",
   "execution_count": 123,
   "id": "aca4e0a3",
   "metadata": {},
   "outputs": [
    {
     "name": "stdout",
     "output_type": "stream",
     "text": [
      "This is a data class and they have various objects!\n"
     ]
    }
   ],
   "source": [
    "print(longdata)"
   ]
  },
  {
   "cell_type": "markdown",
   "id": "f9a5fd8d",
   "metadata": {},
   "source": [
    "Now lets try logging the error in the above program!"
   ]
  },
  {
   "cell_type": "code",
   "execution_count": 35,
   "id": "2d50fd03",
   "metadata": {},
   "outputs": [],
   "source": [
    "class data:\n",
    "    def __init__(self,file_name,file_type,file_date,file_size):\n",
    "        self.file_name= file_name\n",
    "        self.file_type=file_type\n",
    "        self.file_data=file_date\n",
    "        self.file_size=file_size\n",
    "        \n",
    "    def file_open(a,file_name):\n",
    "        try:\n",
    "            \n",
    "            if type(a.file_name)==list:\n",
    "                #since we will enter every diff name in this pointer later turned class variable/object eg: BigData=[\"purab\",\"piyush\",\"avi\"]\n",
    "                for i in file_name:\n",
    "                    f=open(i,'w')\n",
    "                    f.write(\"This is the data i have passed in the file\"+i)\n",
    "                    f.close()\n",
    "            elif type(a.file_name)==tuple:\n",
    "                for i in file_name:\n",
    "                    f=open(i,'w')\n",
    "                    f.write(\"This is the data I have passed in the file\"+i)\n",
    "                    f.close()\n",
    "            elif type(a.file_name)==dict:\n",
    "                for i in file_name:\n",
    "                    f=open(i,'w')\n",
    "                    f.write(\"This is the data I have passed in the file\"+i)\n",
    "                    f.close()\n",
    "            else:\n",
    "                f=open(a.file_name,'w')\n",
    "                f.write(\"This is the data I have passed in the file\"+i)\n",
    "                f.close()\n",
    "        except ValueError as e:\n",
    "            a.logging(e)\n",
    "        except Exception as e:\n",
    "            a.logging(e)\n",
    "\n",
    "        \n",
    "    def file_read(b,file_name):\n",
    "        if type(b.file_name) == list:\n",
    "            for i in file_name:\n",
    "                f = open(i,'r')\n",
    "                print(f.read())\n",
    "        elif type(b.file_name) == dict:\n",
    "            for i in file_name:\n",
    "                f = open(i,'r')\n",
    "                print(f.read())\n",
    "       \n",
    "        elif type(b.file_name) == tuple:\n",
    "            for i in file_name:\n",
    "                f = open(i,'r')\n",
    "                print(f.read())\n",
    "        else:\n",
    "            f = open(b.file_name,'r')\n",
    "            print(f.read())\n",
    "            \n",
    "    def file_append(self):\n",
    "        f=open(self.file_name,'a')\n",
    "        f.write(\"\\n This is what i have appended! \")\n",
    "        f.close()\n",
    "        \n",
    "        \n",
    "    def logging(self,logg):\n",
    "        import logging as log\n",
    "        log.basicConfig(filename=\"oops.log\",level=log.ERROR)\n",
    "        log.error(logg)\n",
    "        \n",
    "        \n",
    "        \n",
    "        \n",
    "    def __str__(self):\n",
    "        return \"This is a data class and they have various objects!\""
   ]
  },
  {
   "cell_type": "code",
   "execution_count": 36,
   "id": "1a3d7627",
   "metadata": {},
   "outputs": [],
   "source": [
    "a=data(\"ruks\",\"text\",2021,25)"
   ]
  },
  {
   "cell_type": "code",
   "execution_count": 37,
   "id": "944cac99",
   "metadata": {},
   "outputs": [],
   "source": [
    "a.file_open(\"ruks\")"
   ]
  },
  {
   "cell_type": "code",
   "execution_count": null,
   "id": "52b06f85",
   "metadata": {},
   "outputs": [],
   "source": []
  },
  {
   "cell_type": "markdown",
   "id": "b9f43f47",
   "metadata": {},
   "source": [
    "# Practice!\n",
    "ref: https://youtu.be/JeznW_7DlB0"
   ]
  },
  {
   "cell_type": "code",
   "execution_count": null,
   "id": "f0972cf0",
   "metadata": {},
   "outputs": [],
   "source": [
    "What are objects?\n",
    "So below we can see that datatypes are a part of a class either string or int"
   ]
  },
  {
   "cell_type": "code",
   "execution_count": 4,
   "id": "77f0bca7",
   "metadata": {},
   "outputs": [
    {
     "name": "stdout",
     "output_type": "stream",
     "text": [
      "<class 'int'>\n"
     ]
    }
   ],
   "source": [
    "x=1\n",
    "print(type(x))\n",
    "\n",
    "#So weve created x=obj which is type int with value one "
   ]
  },
  {
   "cell_type": "code",
   "execution_count": 5,
   "id": "9485cb92",
   "metadata": {},
   "outputs": [
    {
     "name": "stdout",
     "output_type": "stream",
     "text": [
      "<class 'str'>\n"
     ]
    }
   ],
   "source": [
    "x=1\n",
    "print(type(\"Hello\"))\n",
    "#So here hello is the obj of class str"
   ]
  },
  {
   "cell_type": "code",
   "execution_count": 3,
   "id": "717767d9",
   "metadata": {},
   "outputs": [
    {
     "name": "stdout",
     "output_type": "stream",
     "text": [
      "<class 'function'>\n"
     ]
    }
   ],
   "source": [
    "def hello():\n",
    "    print(\"hello\")\n",
    "    \n",
    "print(type(hello))"
   ]
  },
  {
   "cell_type": "markdown",
   "id": "ee3230e2",
   "metadata": {},
   "source": [
    "## So basically everything we work in python is an object of some of the class build in types"
   ]
  },
  {
   "cell_type": "markdown",
   "id": "a416e4b5",
   "metadata": {},
   "source": [
    "# Methods A method is a function that essentially goes inside a class"
   ]
  },
  {
   "cell_type": "markdown",
   "id": "122da970",
   "metadata": {},
   "source": [
    "## Whenever you have a dot operator and some name and something goes inside is the arguments go inside i.e a method that acts on the object."
   ]
  },
  {
   "cell_type": "markdown",
   "id": "43c51a77",
   "metadata": {},
   "source": [
    "Methods are something that we performe on objects"
   ]
  },
  {
   "cell_type": "code",
   "execution_count": 7,
   "id": "4fae52cc",
   "metadata": {},
   "outputs": [
    {
     "data": {
      "text/plain": [
       "'HELLO'"
      ]
     },
     "execution_count": 7,
     "metadata": {},
     "output_type": "execute_result"
    }
   ],
   "source": [
    "string=\"hello\"\n",
    "string.upper()#This is method"
   ]
  },
  {
   "cell_type": "markdown",
   "id": "c3430d67",
   "metadata": {},
   "source": [
    "We can perform these methods or operations on objects based on the type of class they belong too suppose str datatype belongs to str class so we can add str to str but not str to int datatype of int class!"
   ]
  },
  {
   "cell_type": "code",
   "execution_count": 17,
   "id": "a6764e75",
   "metadata": {},
   "outputs": [],
   "source": [
    "class dog:#This is the main class\n",
    "    #Below are the methods and inside them the operations that are created for objects of the dog class that they can perform\n",
    "    \n",
    "    def bark(self):#We have created a method!!! A method is a function that essentially goes inside a class \n",
    "        print(\"bark\")\n",
    "        #And all the methods are going to start with a parameter called self!\n",
    "        \n",
    "        \n",
    "d= dog()#WE have variable d assigned to an instance of class dog!\n",
    "#So d is an object of the class dog"
   ]
  },
  {
   "cell_type": "code",
   "execution_count": 18,
   "id": "1eb72233",
   "metadata": {},
   "outputs": [
    {
     "name": "stdout",
     "output_type": "stream",
     "text": [
      "<class '__main__.dog'>\n"
     ]
    }
   ],
   "source": [
    "print(type(d))#When we print this we get the main class\n",
    "#So here we get __ is becuase it defines what module this class was defined to by default we have main!"
   ]
  },
  {
   "cell_type": "markdown",
   "id": "35409f68",
   "metadata": {},
   "source": [
    "if i want use this method on the instance of the class that is the object d we need too use .dot operation "
   ]
  },
  {
   "cell_type": "code",
   "execution_count": 19,
   "id": "80533581",
   "metadata": {},
   "outputs": [
    {
     "name": "stdout",
     "output_type": "stream",
     "text": [
      "bark\n"
     ]
    }
   ],
   "source": [
    "d.bark()"
   ]
  },
  {
   "cell_type": "markdown",
   "id": "90a2857f",
   "metadata": {},
   "source": [
    "Note:\n",
    "While assigning names to class we can use Camel case i.e HelloFunction"
   ]
  },
  {
   "cell_type": "markdown",
   "id": "abd70b9b",
   "metadata": {},
   "source": [
    "Now, \n",
    "Whenever we create an init method this method will always be called whenever we call the instance of the class i.e the object of the class."
   ]
  },
  {
   "cell_type": "code",
   "execution_count": 39,
   "id": "0c8c78be",
   "metadata": {},
   "outputs": [],
   "source": [
    "#example\n",
    "\n",
    "class dog:\n",
    "    \n",
    "    def __init__(self,name):\n",
    "        self.name=name #we've created an attribute self.namenfor the class dog \n",
    "        print(name)"
   ]
  },
  {
   "cell_type": "code",
   "execution_count": 42,
   "id": "7d20c5c7",
   "metadata": {
    "scrolled": true
   },
   "outputs": [
    {
     "name": "stdout",
     "output_type": "stream",
     "text": [
      "hi\n"
     ]
    }
   ],
   "source": [
    "d=dog(\"hi\")"
   ]
  },
  {
   "cell_type": "code",
   "execution_count": 43,
   "id": "07d08fc9",
   "metadata": {},
   "outputs": [],
   "source": [
    "#Important\n",
    "\n",
    "#CHECK THE ERROR!!!\n",
    "class dog:\n",
    "    \n",
    "    def __init__(self,name):\n",
    "        self.name=name \n",
    "        return name"
   ]
  },
  {
   "cell_type": "markdown",
   "id": "8fabd117",
   "metadata": {},
   "source": [
    "### The __init__ method of a class is used to initialize new objects, not create them. As such, it should not return any value."
   ]
  },
  {
   "cell_type": "code",
   "execution_count": 44,
   "id": "40886b8a",
   "metadata": {
    "scrolled": true
   },
   "outputs": [
    {
     "ename": "TypeError",
     "evalue": "__init__() should return None, not 'str'",
     "output_type": "error",
     "traceback": [
      "\u001b[1;31m---------------------------------------------------------------------------\u001b[0m",
      "\u001b[1;31mTypeError\u001b[0m                                 Traceback (most recent call last)",
      "Cell \u001b[1;32mIn[44], line 1\u001b[0m\n\u001b[1;32m----> 1\u001b[0m d2\u001b[38;5;241m=\u001b[39m\u001b[43mdog\u001b[49m\u001b[43m(\u001b[49m\u001b[38;5;124;43m\"\u001b[39;49m\u001b[38;5;124;43mlol\u001b[39;49m\u001b[38;5;124;43m\"\u001b[39;49m\u001b[43m)\u001b[49m\n",
      "\u001b[1;31mTypeError\u001b[0m: __init__() should return None, not 'str'"
     ]
    }
   ],
   "source": [
    "d2=dog(\"lol\") #Remember \n"
   ]
  },
  {
   "cell_type": "code",
   "execution_count": 2,
   "id": "fcd9f731",
   "metadata": {},
   "outputs": [],
   "source": [
    "#Now, \n",
    "class dog:\n",
    "    \n",
    "    def __init__(self,name):\n",
    "        self.name=name #we've created an attribute self.name for the class dog \n",
    "        print(name)\n",
    "        \n",
    "    def get_name(self):\n",
    "        return \"The name is \",self.name"
   ]
  },
  {
   "cell_type": "code",
   "execution_count": 3,
   "id": "a11687f1",
   "metadata": {},
   "outputs": [
    {
     "name": "stdout",
     "output_type": "stream",
     "text": [
      "Tim\n"
     ]
    }
   ],
   "source": [
    "d2=dog(\"Tim\")"
   ]
  },
  {
   "cell_type": "code",
   "execution_count": 4,
   "id": "9371135e",
   "metadata": {},
   "outputs": [
    {
     "data": {
      "text/plain": [
       "('The name is ', 'Tim')"
      ]
     },
     "execution_count": 4,
     "metadata": {},
     "output_type": "execute_result"
    }
   ],
   "source": [
    "d2.get_name()"
   ]
  },
  {
   "cell_type": "markdown",
   "id": "aa06f802",
   "metadata": {},
   "source": [
    "So here d2 gets automatically passed to self parameter and the method now knows d2 is the istance of the class i.e object of the class and returns the outcome"
   ]
  },
  {
   "cell_type": "markdown",
   "id": "8c1bfd18",
   "metadata": {},
   "source": [
    "### But what if self is not passed as a parameter "
   ]
  },
  {
   "cell_type": "code",
   "execution_count": 7,
   "id": "2c9553e2",
   "metadata": {},
   "outputs": [],
   "source": [
    "#Now, \n",
    "class dog:\n",
    "    \n",
    "    def __init__(self,name):\n",
    "        self.name=name\n",
    "        print(name)\n",
    "        \n",
    "    def get_name():\n",
    "        return \"The name is \",self.name"
   ]
  },
  {
   "cell_type": "code",
   "execution_count": 9,
   "id": "3588ef07",
   "metadata": {},
   "outputs": [
    {
     "name": "stdout",
     "output_type": "stream",
     "text": [
      "pop\n"
     ]
    }
   ],
   "source": [
    "d3=dog(\"pop\")"
   ]
  },
  {
   "cell_type": "markdown",
   "id": "1c391f50",
   "metadata": {},
   "source": [
    "d3.get_name()#Here shows an error!\n",
    "#What is it?\n",
    "#takes 0 positional arguments but 1 was given\n",
    "Wherein we definetly didnot give any arguments but since d3 is created as an object or rather an instance of the class it is passed in the method get_name() but self parameter is not there to represent it!"
   ]
  },
  {
   "cell_type": "code",
   "execution_count": 25,
   "id": "3386a976",
   "metadata": {},
   "outputs": [
    {
     "name": "stdout",
     "output_type": "stream",
     "text": [
      "tim 50\n"
     ]
    },
    {
     "data": {
      "text/plain": [
       "50"
      ]
     },
     "execution_count": 25,
     "metadata": {},
     "output_type": "execute_result"
    }
   ],
   "source": [
    "# Now,\n",
    "# Lets see\n",
    "class dog:\n",
    "    def __init__(self,name,age):\n",
    "        self.name=name\n",
    "        self.age=age\n",
    "        print(name,age)\n",
    "        \n",
    "        \n",
    "    def get_name(self):\n",
    "        return \"The name is \",self.name\n",
    "    \n",
    "    def get_age(self):\n",
    "        return self.age\n",
    "    \n",
    "    def set_new_age(self,age):\n",
    "        self.age=age\n",
    "        return self.age\n",
    "\n",
    "d4=dog(\"tim\",50) \n",
    "d4.get_age()\n",
    "#Here we get different and below we get different age because of the different methods!\n",
    "        "
   ]
  },
  {
   "cell_type": "code",
   "execution_count": 26,
   "id": "bf0f324d",
   "metadata": {},
   "outputs": [
    {
     "data": {
      "text/plain": [
       "80"
      ]
     },
     "execution_count": 26,
     "metadata": {},
     "output_type": "execute_result"
    }
   ],
   "source": [
    "d4.set_new_age(80)"
   ]
  },
  {
   "cell_type": "code",
   "execution_count": 27,
   "id": "6f1cc68c",
   "metadata": {},
   "outputs": [
    {
     "data": {
      "text/plain": [
       "('The name is ', 'tim')"
      ]
     },
     "execution_count": 27,
     "metadata": {},
     "output_type": "execute_result"
    }
   ],
   "source": [
    "d4.get_name()"
   ]
  },
  {
   "cell_type": "code",
   "execution_count": 26,
   "id": "91c89e40",
   "metadata": {},
   "outputs": [
    {
     "name": "stdout",
     "output_type": "stream",
     "text": [
      "True\n",
      "True\n",
      "85.0\n",
      "Ruks\n"
     ]
    }
   ],
   "source": [
    "class Student:\n",
    "    def __init__(self,name,age,grade):\n",
    "        self.name=name\n",
    "        self.age=age\n",
    "        self.grade=grade  #Should be between 0-100\n",
    "        \n",
    "    def get_grade(self):\n",
    "        return self.grade\n",
    "    \n",
    "    \n",
    "class Course:\n",
    "    def __init__(self, name, max_students):\n",
    "        self.name=name\n",
    "        self.max_students=max_students\n",
    "        self.students=[]#We havent added this as a parameter but we still can use this!\n",
    "        #Here all the objects created will get appended\n",
    "        \n",
    "        \n",
    "    #So now we want to add the students to this course so will create a auto generated method to add studnets \n",
    "    \n",
    "    def add_student(self,student):#Here we take arguments i.e inputs as student i.e the object we will create for the class\n",
    "        if len(self.students)<self.max_students:#So here if the list len is less that the max studs it can accomadate \n",
    "            self.students.append(student)# So here it will append that student i.e the obj\n",
    "            return True #If the student is added successfully\n",
    "        return False #Similar to else statement return false\n",
    "    \n",
    "    def get_average(self):\n",
    "        #So average is all the grades addition divided by the total students\n",
    "        value=0\n",
    "        for i in self.students:#Here we call the attribute self.student because we need to get addition of grades of all the students\n",
    "            value=value+i.get_grade() #obj.method\n",
    "        return value/len(self.students) #Avg=total grade addtn/ total number of students\n",
    "    \n",
    "#Creating instance of the class Student i.e objects\n",
    "s1=Student(\"Ruks\",19,95)\n",
    "s2=Student(\"Hena\",19,75)\n",
    "s3=Student(\"Pop\",19,85)\n",
    "\n",
    "#Creating instance of the class Course i.e objects\n",
    "c1=Course(\"Cs\",2) #c1 is course1\n",
    "print(c1.add_student(s1))\n",
    "print(c1.add_student(s2))\n",
    "print(c1.get_average())\n",
    "print(c1.students[0].name)\n",
    "        \n",
    "        "
   ]
  },
  {
   "cell_type": "markdown",
   "id": "62afe197",
   "metadata": {},
   "source": [
    "### Now moving to inheritance"
   ]
  },
  {
   "cell_type": "code",
   "execution_count": 8,
   "id": "2bb65028",
   "metadata": {},
   "outputs": [],
   "source": [
    "class cat:\n",
    "    def __init__(self,name,age):\n",
    "        self.name=name\n",
    "        self.age=name\n",
    "        \n",
    "    def speak(self):\n",
    "        print(\"Meow\")\n",
    "        \n",
    "        \n",
    "class dog:\n",
    "    def __init__(self,name,age):\n",
    "        self.name=name\n",
    "        self.age=name\n",
    "        \n",
    "    def speak(self):\n",
    "        print(\"Bark\")\n",
    "        \n",
    "        "
   ]
  },
  {
   "cell_type": "markdown",
   "id": "a35308ab",
   "metadata": {},
   "source": [
    "So in the above example we have a class cat and a class dog that have similar init methods so to make it a reusable code! lets see what we can do!"
   ]
  },
  {
   "cell_type": "code",
   "execution_count": 15,
   "id": "dd78871c",
   "metadata": {},
   "outputs": [],
   "source": [
    "class pet:\n",
    "    def __init__(self,name,age):\n",
    "        self.name=name\n",
    "        self.age=name\n",
    "        \n",
    "    def show(self):\n",
    "        print(f(\"My name is {self.name} and age is {self.age}\"))\n",
    "\n",
    "\n",
    "\n",
    "\n",
    "class cat(pet):#Inherited class or derived class\n",
    "    def speak(self):\n",
    "        print(\"Meow\")\n",
    "        \n",
    "        \n",
    "class dog(pet):#Inherited class or derived class\n",
    "    def speak(self):\n",
    "        print(\"Bark\")\n",
    "   \n",
    "c=cat(\"mili\",35)\n",
    "#Inspite of not having init since we have inherited pet class in the following classes we are able to still acess it\n",
    "d=dog(\"bruno\",45)\n",
    "\n",
    "\n"
   ]
  },
  {
   "cell_type": "code",
   "execution_count": 12,
   "id": "5aa9cf9e",
   "metadata": {},
   "outputs": [
    {
     "name": "stdout",
     "output_type": "stream",
     "text": [
      "Bark\n"
     ]
    }
   ],
   "source": [
    "d.speak()"
   ]
  },
  {
   "cell_type": "code",
   "execution_count": 14,
   "id": "a982cdfa",
   "metadata": {},
   "outputs": [
    {
     "name": "stdout",
     "output_type": "stream",
     "text": [
      "Meow\n"
     ]
    }
   ],
   "source": [
    "c.speak()"
   ]
  },
  {
   "cell_type": "code",
   "execution_count": 25,
   "id": "b3e00625",
   "metadata": {},
   "outputs": [],
   "source": [
    "class pet:\n",
    "    def __init__(self,name,age):\n",
    "        self.name=name\n",
    "        self.age=name\n",
    "        \n",
    "    def show(self):\n",
    "        print(f\"My name is {self.name} and age is {self.age}\")\n",
    "\n",
    "    def speak(self):\n",
    "        print(\"Donot know what to write\")\n",
    "        \n",
    "\n",
    "\n",
    "\n",
    "class cat(pet):#Inherited class or derived class\n",
    "    def speak(self):\n",
    "        print(\"Meow\")\n",
    "        \n",
    "        \n",
    "class dog(pet):#Inherited class or derived class\n",
    "    def speak(self):\n",
    "        print(\"Bark\")\n",
    "   \n",
    "c=cat(\"oloh\",35)\n",
    "#Inspite of not having init since we have inherited pet class in the following classes we are able to still acess it\n",
    "d=dog(\"kiki\",45)\n",
    "p=pet(\"juki\",45)\n",
    "\n",
    "\n"
   ]
  },
  {
   "cell_type": "code",
   "execution_count": 26,
   "id": "36178cce",
   "metadata": {},
   "outputs": [
    {
     "name": "stdout",
     "output_type": "stream",
     "text": [
      "Donot know what to write\n"
     ]
    }
   ],
   "source": [
    "p.speak()"
   ]
  },
  {
   "cell_type": "code",
   "execution_count": 27,
   "id": "cb2191e5",
   "metadata": {},
   "outputs": [
    {
     "name": "stdout",
     "output_type": "stream",
     "text": [
      "Meow\n"
     ]
    }
   ],
   "source": [
    "c.speak()#Here inspite of the inherited class it gets over written by its own class and returns meow "
   ]
  },
  {
   "cell_type": "code",
   "execution_count": 28,
   "id": "6f5e16db",
   "metadata": {},
   "outputs": [
    {
     "name": "stdout",
     "output_type": "stream",
     "text": [
      "Bark\n"
     ]
    }
   ],
   "source": [
    "d.speak()#Similarly Here inspite of the inherited class it gets over written by its own class and returns bark "
   ]
  },
  {
   "cell_type": "markdown",
   "id": "78a4a125",
   "metadata": {},
   "source": [
    "So you know simply why create speak method in pet then when it is going to get over written in the below classes incase they have the same method name!"
   ]
  },
  {
   "cell_type": "code",
   "execution_count": 31,
   "id": "84b87d80",
   "metadata": {},
   "outputs": [],
   "source": [
    "#Answer to it is\n",
    "class pet:\n",
    "    def __init__(self,name,age):\n",
    "        self.name=name\n",
    "        self.age=name\n",
    "        \n",
    "    def show(self):\n",
    "        print(f\"My name is {self.name} and age is {self.age}\")\n",
    "\n",
    "    def speak(self):\n",
    "        print(\"Donot know what to write\")\n",
    "        \n",
    "\n",
    "\n",
    "\n",
    "class cat(pet):#Inherited class or derived class\n",
    "    def speak(self):\n",
    "        print(\"Meow\")\n",
    "        \n",
    "        \n",
    "class dog(pet):#Inherited class or derived class\n",
    "    def speak(self):\n",
    "        print(\"Bark\")\n",
    "        \n",
    "        \n",
    "class fish(pet):\n",
    "    pass\n",
    "   \n",
    "c=cat(\"oloh\",35)\n",
    "#Inspite of not having init since we have inherited pet class in the following classes we are able to still acess it\n",
    "d=dog(\"kiki\",45)\n",
    "p=pet(\"juki\",45)\n",
    "\n",
    "\n",
    "\n"
   ]
  },
  {
   "cell_type": "code",
   "execution_count": 32,
   "id": "90ccd229",
   "metadata": {},
   "outputs": [],
   "source": [
    "f=fish(\"bobi\",25)\n"
   ]
  },
  {
   "cell_type": "code",
   "execution_count": 33,
   "id": "fd66bfb9",
   "metadata": {},
   "outputs": [
    {
     "name": "stdout",
     "output_type": "stream",
     "text": [
      "Donot know what to write\n"
     ]
    }
   ],
   "source": [
    "f.speak()#Since here inside the fish we havent defined any same method!!!"
   ]
  },
  {
   "cell_type": "markdown",
   "id": "e7c74b66",
   "metadata": {},
   "source": [
    "Now just incase if we need to add a special attribute to the class cat and exclusively for cat class only then how?"
   ]
  },
  {
   "cell_type": "code",
   "execution_count": 3,
   "id": "75a4c5fe",
   "metadata": {},
   "outputs": [
    {
     "data": {
      "text/plain": [
       "'brown'"
      ]
     },
     "execution_count": 3,
     "metadata": {},
     "output_type": "execute_result"
    }
   ],
   "source": [
    "class pet:\n",
    "    def __init__(self,name,age):\n",
    "        self.name=name\n",
    "        self.age=name\n",
    "        \n",
    "    def show(self):\n",
    "        print(f\"My name is {self.name} and age is {self.age}\")\n",
    "\n",
    "    def speak(self):\n",
    "        print(\"Donot know what to write\")\n",
    "        \n",
    "\n",
    "\n",
    "\n",
    "class cat(pet):#Inherited class or derived class\n",
    "    def __init__(self,name,age,color): #instead of rewriting the entire init method\n",
    "        super().__init__(name,age)\n",
    "        self.color=color\n",
    "        \n",
    "    def speak(self):\n",
    "        print(\"Meow\")\n",
    "        \n",
    "        \n",
    "class dog(pet):#Inherited class or derived class\n",
    "    def speak(self):\n",
    "        print(\"Bark\")\n",
    "        \n",
    "        \n",
    "class fish(pet):\n",
    "    pass\n",
    "   \n",
    "    \n",
    "c1=cat(\"pop\",15,\"brown\")\n",
    "c1.color"
   ]
  },
  {
   "cell_type": "markdown",
   "id": "8b1d77ab",
   "metadata": {},
   "source": [
    "## What are class attritubes?"
   ]
  },
  {
   "cell_type": "code",
   "execution_count": 30,
   "id": "98789437",
   "metadata": {},
   "outputs": [],
   "source": [
    "class Person:\n",
    "    number_of_people=0 #Class attribute #It is a class attribute and not a regular attribute as it doesnot use self\n",
    "    \n",
    "    def __init__(self,name):\n",
    "        self.name=name"
   ]
  },
  {
   "cell_type": "markdown",
   "id": "c0e38f09",
   "metadata": {},
   "source": [
    "So class attribute is specific to the instance of the class but it is specific to the class. i.e Person.number_of_people can change the value but the instance i.e obj p1.number_of_people= 0 until Person.number_of_people dont get changed\n",
    "Also since it is not defined inside a method hence it doesnot have access to the instance of a class but the whole class"
   ]
  },
  {
   "cell_type": "code",
   "execution_count": 31,
   "id": "37b1ed58",
   "metadata": {},
   "outputs": [],
   "source": [
    "p1=Person(\"Ruks\")"
   ]
  },
  {
   "cell_type": "code",
   "execution_count": 32,
   "id": "85e94048",
   "metadata": {},
   "outputs": [
    {
     "data": {
      "text/plain": [
       "0"
      ]
     },
     "execution_count": 32,
     "metadata": {},
     "output_type": "execute_result"
    }
   ],
   "source": [
    "p1.number_of_people#Here this wont change person to person like self,name attributes as this is class attribute for the entire class"
   ]
  },
  {
   "cell_type": "code",
   "execution_count": 33,
   "id": "499a4d1b",
   "metadata": {},
   "outputs": [],
   "source": [
    "p2=Person(\"Nina\")"
   ]
  },
  {
   "cell_type": "code",
   "execution_count": 34,
   "id": "c467394c",
   "metadata": {},
   "outputs": [
    {
     "data": {
      "text/plain": [
       "0"
      ]
     },
     "execution_count": 34,
     "metadata": {},
     "output_type": "execute_result"
    }
   ],
   "source": [
    "p2.number_of_people#Here this wont change person to person like self,name attributes as this is class attribute for the entire class"
   ]
  },
  {
   "cell_type": "code",
   "execution_count": 35,
   "id": "7b276ad7",
   "metadata": {},
   "outputs": [
    {
     "data": {
      "text/plain": [
       "0"
      ]
     },
     "execution_count": 35,
     "metadata": {},
     "output_type": "execute_result"
    }
   ],
   "source": [
    "Person.number_of_people"
   ]
  },
  {
   "cell_type": "markdown",
   "id": "b1f420d5",
   "metadata": {},
   "source": [
    "### Now lets change the value"
   ]
  },
  {
   "cell_type": "code",
   "execution_count": 36,
   "id": "9c6cb592",
   "metadata": {},
   "outputs": [],
   "source": [
    "Person.number_of_people=5"
   ]
  },
  {
   "cell_type": "markdown",
   "id": "c2103039",
   "metadata": {},
   "source": [
    "So we can access the class attribute by using the class and can change the value as well"
   ]
  },
  {
   "cell_type": "code",
   "execution_count": 37,
   "id": "c1562fb0",
   "metadata": {},
   "outputs": [
    {
     "data": {
      "text/plain": [
       "5"
      ]
     },
     "execution_count": 37,
     "metadata": {},
     "output_type": "execute_result"
    }
   ],
   "source": [
    "Person.number_of_people"
   ]
  },
  {
   "cell_type": "code",
   "execution_count": 38,
   "id": "f015acbf",
   "metadata": {},
   "outputs": [
    {
     "data": {
      "text/plain": [
       "5"
      ]
     },
     "execution_count": 38,
     "metadata": {},
     "output_type": "execute_result"
    }
   ],
   "source": [
    "p1.number_of_people"
   ]
  },
  {
   "cell_type": "code",
   "execution_count": 39,
   "id": "1b12e6b4",
   "metadata": {},
   "outputs": [
    {
     "data": {
      "text/plain": [
       "5"
      ]
     },
     "execution_count": 39,
     "metadata": {},
     "output_type": "execute_result"
    }
   ],
   "source": [
    "p2.number_of_people"
   ]
  },
  {
   "cell_type": "markdown",
   "id": "f2ca12e0",
   "metadata": {},
   "source": [
    "# Practice\n",
    "https://youtu.be/ZDa-Z5JzLYM"
   ]
  },
  {
   "cell_type": "code",
   "execution_count": 41,
   "id": "e1a6d18a",
   "metadata": {},
   "outputs": [],
   "source": [
    "class Employee:\n",
    "    pass\n"
   ]
  },
  {
   "cell_type": "code",
   "execution_count": 43,
   "id": "a5d1f29b",
   "metadata": {},
   "outputs": [],
   "source": [
    "emp1=Employee()"
   ]
  },
  {
   "cell_type": "code",
   "execution_count": 44,
   "id": "403a8802",
   "metadata": {},
   "outputs": [],
   "source": [
    "emp2=Employee()"
   ]
  },
  {
   "cell_type": "code",
   "execution_count": null,
   "id": "53cbb244",
   "metadata": {},
   "outputs": [],
   "source": [
    "So if i print them these are the unique instances of class present at unique seperate locations these are basically objs"
   ]
  },
  {
   "cell_type": "code",
   "execution_count": 46,
   "id": "bc1327ed",
   "metadata": {},
   "outputs": [
    {
     "name": "stdout",
     "output_type": "stream",
     "text": [
      "<__main__.Employee object at 0x0000028A1EDE6A60>\n",
      "<__main__.Employee object at 0x0000028A1EDE6DC0>\n"
     ]
    }
   ],
   "source": [
    "print(emp1)\n",
    "print(emp2)"
   ]
  },
  {
   "cell_type": "code",
   "execution_count": null,
   "id": "a8bfaf72",
   "metadata": {},
   "outputs": [],
   "source": [
    "So we can create the attributes like this \"long way\""
   ]
  },
  {
   "cell_type": "code",
   "execution_count": 54,
   "id": "ae358495",
   "metadata": {},
   "outputs": [
    {
     "name": "stdout",
     "output_type": "stream",
     "text": [
      "RuksPlumber@gmail\n",
      "RuksMerchant@gmail\n"
     ]
    }
   ],
   "source": [
    "emp1.name=\"Ruks\"\n",
    "emp1.lastname=\"Plumber\"\n",
    "emp1.email=emp1.name+emp1.lastname+\"@gmail\"\n",
    "\n",
    "print(emp1.email)\n",
    "\n",
    "emp2.name=\"Ruks\"\n",
    "emp2.lastname=\"Merchant\"\n",
    "emp2.email=emp1.name+emp2.lastname+\"@gmail\"\n",
    "print(emp2.email)"
   ]
  },
  {
   "cell_type": "markdown",
   "id": "bdd1154f",
   "metadata": {},
   "source": [
    "But if we have like 100 instances of a class to create like 100s of objects cannot be created its the long way!"
   ]
  },
  {
   "cell_type": "code",
   "execution_count": null,
   "id": "94fd5dce",
   "metadata": {},
   "outputs": [],
   "source": []
  },
  {
   "cell_type": "code",
   "execution_count": null,
   "id": "7e2ac511",
   "metadata": {},
   "outputs": [],
   "source": []
  }
 ],
 "metadata": {
  "kernelspec": {
   "display_name": "Python 3 (ipykernel)",
   "language": "python",
   "name": "python3"
  },
  "language_info": {
   "codemirror_mode": {
    "name": "ipython",
    "version": 3
   },
   "file_extension": ".py",
   "mimetype": "text/x-python",
   "name": "python",
   "nbconvert_exporter": "python",
   "pygments_lexer": "ipython3",
   "version": "3.9.7"
  }
 },
 "nbformat": 4,
 "nbformat_minor": 5
}
