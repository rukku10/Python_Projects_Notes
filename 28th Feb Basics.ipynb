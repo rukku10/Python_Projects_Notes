{
 "cells": [
  {
   "cell_type": "markdown",
   "id": "3b96ab50",
   "metadata": {},
   "source": [
    "# Print Statements"
   ]
  },
  {
   "cell_type": "code",
   "execution_count": 178,
   "id": "a097e39f",
   "metadata": {},
   "outputs": [
    {
     "name": "stdout",
     "output_type": "stream",
     "text": [
      "string\n",
      "string string\n"
     ]
    }
   ],
   "source": [
    "#print Statements\n",
    "print(\"string\")\n",
    "\n",
    "print('string',\"string\")"
   ]
  },
  {
   "cell_type": "code",
   "execution_count": 2,
   "id": "4b1db148",
   "metadata": {},
   "outputs": [
    {
     "name": "stdout",
     "output_type": "stream",
     "text": [
      "string\n"
     ]
    }
   ],
   "source": [
    "print(\"\"\"string\"\"\")"
   ]
  },
  {
   "cell_type": "code",
   "execution_count": 4,
   "id": "028d7b04",
   "metadata": {},
   "outputs": [
    {
     "name": "stdout",
     "output_type": "stream",
     "text": [
      "   string . New\n"
     ]
    }
   ],
   "source": [
    "print(\"  \",'string' \" . \" \"New\" )"
   ]
  },
  {
   "cell_type": "markdown",
   "id": "7b830ee7",
   "metadata": {},
   "source": [
    "# Comments\n"
   ]
  },
  {
   "cell_type": "code",
   "execution_count": 179,
   "id": "124952d7",
   "metadata": {},
   "outputs": [
    {
     "data": {
      "text/plain": [
       "'print(\"Hi this is my first code.\") Question: why does this get printed and not the single line comment\\nHey i am learning new things'"
      ]
     },
     "execution_count": 179,
     "metadata": {},
     "output_type": "execute_result"
    }
   ],
   "source": [
    "#Comment using hash and quotes for multiple line and single line\n",
    "\"\"\"print(\"Hi this is my first code.\") Question: why does this get printed and not the single line comment\n",
    "Hey i am learning new things\"\"\""
   ]
  },
  {
   "cell_type": "code",
   "execution_count": 6,
   "id": "d28e654b",
   "metadata": {},
   "outputs": [
    {
     "data": {
      "text/plain": [
       "'abc\\ndfg\\nhij\\nklm\\nnop'"
      ]
     },
     "execution_count": 6,
     "metadata": {},
     "output_type": "execute_result"
    }
   ],
   "source": [
    "\"\"\"abc\n",
    "dfg\n",
    "hij\n",
    "klm\n",
    "nop\"\"\"\n"
   ]
  },
  {
   "cell_type": "code",
   "execution_count": 7,
   "id": "e38023b4",
   "metadata": {},
   "outputs": [
    {
     "ename": "SyntaxError",
     "evalue": "EOL while scanning string literal (Temp/ipykernel_20808/3378022544.py, line 1)",
     "output_type": "error",
     "traceback": [
      "\u001b[1;36m  File \u001b[1;32m\"C:\\Users\\RUKAIY~1\\AppData\\Local\\Temp/ipykernel_20808/3378022544.py\"\u001b[1;36m, line \u001b[1;32m1\u001b[0m\n\u001b[1;33m    print(\"dddd\u001b[0m\n\u001b[1;37m               ^\u001b[0m\n\u001b[1;31mSyntaxError\u001b[0m\u001b[1;31m:\u001b[0m EOL while scanning string literal\n"
     ]
    }
   ],
   "source": [
    "print(\"dddd\n",
    "      hcbefkhfref\")\n",
    "      "
   ]
  },
  {
   "cell_type": "code",
   "execution_count": 241,
   "id": "968bca74",
   "metadata": {},
   "outputs": [
    {
     "name": "stdout",
     "output_type": "stream",
     "text": [
      "  \n",
      "  adcfhgferuk\n",
      "\n",
      "hello\n"
     ]
    }
   ],
   "source": [
    "print(\"  \\n  adcfhgferuk\\n\" \"\\nhello\")"
   ]
  },
  {
   "cell_type": "markdown",
   "id": "55f25318",
   "metadata": {},
   "source": [
    "# Variable Declaration"
   ]
  },
  {
   "cell_type": "code",
   "execution_count": 20,
   "id": "c8721fba",
   "metadata": {},
   "outputs": [],
   "source": [
    "a=20"
   ]
  },
  {
   "cell_type": "code",
   "execution_count": 14,
   "id": "7314cd55",
   "metadata": {},
   "outputs": [
    {
     "data": {
      "text/plain": [
       "20"
      ]
     },
     "execution_count": 14,
     "metadata": {},
     "output_type": "execute_result"
    }
   ],
   "source": [
    "a"
   ]
  },
  {
   "cell_type": "code",
   "execution_count": null,
   "id": "7e150ab3",
   "metadata": {},
   "outputs": [],
   "source": [
    "print(a)#Here we have called the assigned variable for the value 20"
   ]
  },
  {
   "cell_type": "code",
   "execution_count": 1,
   "id": "01dd629c",
   "metadata": {},
   "outputs": [
    {
     "name": "stdout",
     "output_type": "stream",
     "text": [
      "a\n"
     ]
    }
   ],
   "source": [
    "print(\"a\") #Here it is a string value"
   ]
  },
  {
   "cell_type": "code",
   "execution_count": 4,
   "id": "462c8ae3",
   "metadata": {},
   "outputs": [],
   "source": [
    "b=\"Rukaiya\""
   ]
  },
  {
   "cell_type": "code",
   "execution_count": 5,
   "id": "9eba8da0",
   "metadata": {},
   "outputs": [
    {
     "data": {
      "text/plain": [
       "'Rukaiya'"
      ]
     },
     "execution_count": 5,
     "metadata": {},
     "output_type": "execute_result"
    }
   ],
   "source": [
    "b #a  "
   ]
  },
  {
   "cell_type": "code",
   "execution_count": 2,
   "id": "e711ac3a",
   "metadata": {},
   "outputs": [],
   "source": [
    "c=\"writer\""
   ]
  },
  {
   "cell_type": "code",
   "execution_count": 3,
   "id": "c84392a6",
   "metadata": {},
   "outputs": [
    {
     "data": {
      "text/plain": [
       "'writer'"
      ]
     },
     "execution_count": 3,
     "metadata": {},
     "output_type": "execute_result"
    }
   ],
   "source": [
    "c"
   ]
  },
  {
   "cell_type": "code",
   "execution_count": 4,
   "id": "ccc53505",
   "metadata": {},
   "outputs": [
    {
     "name": "stdout",
     "output_type": "stream",
     "text": [
      "writer\n"
     ]
    }
   ],
   "source": [
    "print(c) #So when u print there is no single quotes for the string value represented in the output."
   ]
  },
  {
   "cell_type": "code",
   "execution_count": null,
   "id": "dd433ced",
   "metadata": {},
   "outputs": [],
   "source": [
    "How t"
   ]
  },
  {
   "cell_type": "code",
   "execution_count": 23,
   "id": "4501f90b",
   "metadata": {},
   "outputs": [],
   "source": [
    "a=25  \n",
    "b=30+2-4*8 \n",
    "c=\"abchde\",  \"I love ice cream\""
   ]
  },
  {
   "cell_type": "code",
   "execution_count": null,
   "id": "5032e7cc",
   "metadata": {},
   "outputs": [],
   "source": []
  },
  {
   "cell_type": "code",
   "execution_count": 24,
   "id": "b8f4cc50",
   "metadata": {},
   "outputs": [
    {
     "data": {
      "text/plain": [
       "(25, 0, ('abchde', 'I love ice cream'))"
      ]
     },
     "execution_count": 24,
     "metadata": {},
     "output_type": "execute_result"
    }
   ],
   "source": [
    "a,b,c"
   ]
  },
  {
   "cell_type": "code",
   "execution_count": 25,
   "id": "c03608de",
   "metadata": {},
   "outputs": [
    {
     "name": "stdout",
     "output_type": "stream",
     "text": [
      "('abchde', 'I love ice cream')\n"
     ]
    }
   ],
   "source": [
    "print(c)#If multiple strings then for separartion single quotes will be present "
   ]
  },
  {
   "cell_type": "markdown",
   "id": "81c056f5",
   "metadata": {},
   "source": [
    "# DataType of the variable declared"
   ]
  },
  {
   "cell_type": "code",
   "execution_count": 26,
   "id": "675a4578",
   "metadata": {},
   "outputs": [
    {
     "data": {
      "text/plain": [
       "int"
      ]
     },
     "execution_count": 26,
     "metadata": {},
     "output_type": "execute_result"
    }
   ],
   "source": [
    "# To find the \"type\" of the data we use type() function.\n",
    "type(a)"
   ]
  },
  {
   "cell_type": "code",
   "execution_count": 27,
   "id": "56106925",
   "metadata": {},
   "outputs": [
    {
     "data": {
      "text/plain": [
       "int"
      ]
     },
     "execution_count": 27,
     "metadata": {},
     "output_type": "execute_result"
    }
   ],
   "source": [
    "type(b)"
   ]
  },
  {
   "cell_type": "code",
   "execution_count": 28,
   "id": "b9fb6079",
   "metadata": {},
   "outputs": [
    {
     "data": {
      "text/plain": [
       "tuple"
      ]
     },
     "execution_count": 28,
     "metadata": {},
     "output_type": "execute_result"
    }
   ],
   "source": [
    "type(c)"
   ]
  },
  {
   "cell_type": "code",
   "execution_count": 29,
   "id": "089c33eb",
   "metadata": {},
   "outputs": [
    {
     "ename": "TypeError",
     "evalue": "can only concatenate str (not \"int\") to str",
     "output_type": "error",
     "traceback": [
      "\u001b[1;31m---------------------------------------------------------------------------\u001b[0m",
      "\u001b[1;31mTypeError\u001b[0m                                 Traceback (most recent call last)",
      "\u001b[1;32mC:\\Users\\RUKAIY~1\\AppData\\Local\\Temp/ipykernel_20640/1347623543.py\u001b[0m in \u001b[0;36m<module>\u001b[1;34m\u001b[0m\n\u001b[1;32m----> 1\u001b[1;33m \u001b[0ma\u001b[0m\u001b[1;33m=\u001b[0m\u001b[1;34m\"abc\"\u001b[0m\u001b[1;33m+\u001b[0m\u001b[1;36m30\u001b[0m\u001b[1;33m\u001b[0m\u001b[1;33m\u001b[0m\u001b[0m\n\u001b[0m",
      "\u001b[1;31mTypeError\u001b[0m: can only concatenate str (not \"int\") to str"
     ]
    }
   ],
   "source": [
    "a=\"abc\"+30"
   ]
  },
  {
   "cell_type": "code",
   "execution_count": 30,
   "id": "e51e1307",
   "metadata": {},
   "outputs": [],
   "source": [
    "a=\"abc\" \"+\" \"30\""
   ]
  },
  {
   "cell_type": "code",
   "execution_count": 31,
   "id": "59b5baf2",
   "metadata": {},
   "outputs": [
    {
     "data": {
      "text/plain": [
       "'abc+30'"
      ]
     },
     "execution_count": 31,
     "metadata": {},
     "output_type": "execute_result"
    }
   ],
   "source": [
    "a #String Concatenation"
   ]
  },
  {
   "cell_type": "code",
   "execution_count": 32,
   "id": "82774a00",
   "metadata": {},
   "outputs": [],
   "source": [
    "a=\"abc\"  \"30\""
   ]
  },
  {
   "cell_type": "code",
   "execution_count": 33,
   "id": "56af5ba4",
   "metadata": {},
   "outputs": [
    {
     "name": "stdout",
     "output_type": "stream",
     "text": [
      "abc30\n"
     ]
    }
   ],
   "source": [
    "print(a)"
   ]
  },
  {
   "cell_type": "code",
   "execution_count": 34,
   "id": "e4d4e352",
   "metadata": {},
   "outputs": [],
   "source": [
    "a=\"abc\" + \"30\""
   ]
  },
  {
   "cell_type": "code",
   "execution_count": 35,
   "id": "ca12af9e",
   "metadata": {},
   "outputs": [
    {
     "data": {
      "text/plain": [
       "'abc30'"
      ]
     },
     "execution_count": 35,
     "metadata": {},
     "output_type": "execute_result"
    }
   ],
   "source": [
    "a"
   ]
  },
  {
   "cell_type": "code",
   "execution_count": 36,
   "id": "a869571d",
   "metadata": {},
   "outputs": [],
   "source": [
    "b=52+53\n"
   ]
  },
  {
   "cell_type": "code",
   "execution_count": 37,
   "id": "cb9eeeb1",
   "metadata": {},
   "outputs": [
    {
     "data": {
      "text/plain": [
       "105"
      ]
     },
     "execution_count": 37,
     "metadata": {},
     "output_type": "execute_result"
    }
   ],
   "source": [
    "b"
   ]
  },
  {
   "cell_type": "code",
   "execution_count": 1,
   "id": "2be8e78e",
   "metadata": {
    "scrolled": true
   },
   "outputs": [
    {
     "ename": "TypeError",
     "evalue": "can't multiply sequence by non-int of type 'str'",
     "output_type": "error",
     "traceback": [
      "\u001b[1;31m---------------------------------------------------------------------------\u001b[0m",
      "\u001b[1;31mTypeError\u001b[0m                                 Traceback (most recent call last)",
      "\u001b[1;32mC:\\Users\\RUKAIY~1\\AppData\\Local\\Temp/ipykernel_8860/3318372355.py\u001b[0m in \u001b[0;36m<module>\u001b[1;34m\u001b[0m\n\u001b[1;32m----> 1\u001b[1;33m \u001b[1;34m\"Abbas\"\u001b[0m \u001b[1;33m*\u001b[0m \u001b[1;34m\"Abbas\"\u001b[0m\u001b[1;33m\u001b[0m\u001b[1;33m\u001b[0m\u001b[0m\n\u001b[0m",
      "\u001b[1;31mTypeError\u001b[0m: can't multiply sequence by non-int of type 'str'"
     ]
    }
   ],
   "source": [
    "\"Abbas\" * \"Abbas\""
   ]
  },
  {
   "cell_type": "code",
   "execution_count": 2,
   "id": "e7df1c7c",
   "metadata": {
    "scrolled": false
   },
   "outputs": [
    {
     "data": {
      "text/plain": [
       "'AbbasAbbas'"
      ]
     },
     "execution_count": 2,
     "metadata": {},
     "output_type": "execute_result"
    }
   ],
   "source": [
    "\"Abbas\"*2"
   ]
  },
  {
   "cell_type": "code",
   "execution_count": null,
   "id": "7cfa36a8",
   "metadata": {},
   "outputs": [],
   "source": []
  },
  {
   "cell_type": "code",
   "execution_count": 38,
   "id": "f78a80fa",
   "metadata": {},
   "outputs": [
    {
     "ename": "TypeError",
     "evalue": "can only concatenate str (not \"int\") to str",
     "output_type": "error",
     "traceback": [
      "\u001b[1;31m---------------------------------------------------------------------------\u001b[0m",
      "\u001b[1;31mTypeError\u001b[0m                                 Traceback (most recent call last)",
      "\u001b[1;32mC:\\Users\\RUKAIY~1\\AppData\\Local\\Temp/ipykernel_20640/1451147316.py\u001b[0m in \u001b[0;36m<module>\u001b[1;34m\u001b[0m\n\u001b[1;32m----> 1\u001b[1;33m \u001b[0mb\u001b[0m\u001b[1;33m=\u001b[0m \u001b[0ma\u001b[0m\u001b[1;33m+\u001b[0m\u001b[0mb\u001b[0m \u001b[1;31m#Since a=abc30 & b=105 a datatype is string & b datatype is integer so they cannot be c\u001b[0m\u001b[1;33m\u001b[0m\u001b[1;33m\u001b[0m\u001b[0m\n\u001b[0m",
      "\u001b[1;31mTypeError\u001b[0m: can only concatenate str (not \"int\") to str"
     ]
    }
   ],
   "source": [
    "b= a+b #Since a=abc30 & b=105 a datatype is string & b datatype is integer so they cannot be c"
   ]
  },
  {
   "cell_type": "markdown",
   "id": "3e94592a",
   "metadata": {},
   "source": [
    "# c=3_7 #Doubt"
   ]
  },
  {
   "cell_type": "code",
   "execution_count": 39,
   "id": "5a5bdff5",
   "metadata": {},
   "outputs": [
    {
     "data": {
      "text/plain": [
       "tuple"
      ]
     },
     "execution_count": 39,
     "metadata": {},
     "output_type": "execute_result"
    }
   ],
   "source": [
    "type(c)"
   ]
  },
  {
   "cell_type": "code",
   "execution_count": 40,
   "id": "7f964523",
   "metadata": {},
   "outputs": [
    {
     "data": {
      "text/plain": [
       "('abchde', 'I love ice cream')"
      ]
     },
     "execution_count": 40,
     "metadata": {},
     "output_type": "execute_result"
    }
   ],
   "source": [
    "c"
   ]
  },
  {
   "cell_type": "code",
   "execution_count": 41,
   "id": "9b8ed3f4",
   "metadata": {},
   "outputs": [],
   "source": [
    "c=2*4+1\n",
    "\n",
    "d=3-(-2)+2+13/2"
   ]
  },
  {
   "cell_type": "code",
   "execution_count": 42,
   "id": "ade174af",
   "metadata": {},
   "outputs": [
    {
     "data": {
      "text/plain": [
       "9"
      ]
     },
     "execution_count": 42,
     "metadata": {},
     "output_type": "execute_result"
    }
   ],
   "source": [
    "c #Why does the code not change the output inspite of it being wrong #Doubt"
   ]
  },
  {
   "cell_type": "code",
   "execution_count": 43,
   "id": "56910925",
   "metadata": {},
   "outputs": [
    {
     "data": {
      "text/plain": [
       "('abc30', 105, 9, 13.5)"
      ]
     },
     "execution_count": 43,
     "metadata": {},
     "output_type": "execute_result"
    }
   ],
   "source": [
    "a,b,c,d"
   ]
  },
  {
   "cell_type": "code",
   "execution_count": 44,
   "id": "ff313a23",
   "metadata": {},
   "outputs": [
    {
     "name": "stdout",
     "output_type": "stream",
     "text": [
      "abc30 105 9 13.5\n"
     ]
    }
   ],
   "source": [
    "print(a,b,c,d)"
   ]
  },
  {
   "cell_type": "markdown",
   "id": "fb285b38",
   "metadata": {},
   "source": [
    "# Can a variable name be declared with a string type and int type together"
   ]
  },
  {
   "cell_type": "code",
   "execution_count": 88,
   "id": "f3853e7d",
   "metadata": {
    "scrolled": true
   },
   "outputs": [
    {
     "ename": "SyntaxError",
     "evalue": "invalid syntax (Temp/ipykernel_20808/2736531973.py, line 2)",
     "output_type": "error",
     "traceback": [
      "\u001b[1;36m  File \u001b[1;32m\"C:\\Users\\RUKAIY~1\\AppData\\Local\\Temp/ipykernel_20808/2736531973.py\"\u001b[1;36m, line \u001b[1;32m2\u001b[0m\n\u001b[1;33m    1r=2+3\u001b[0m\n\u001b[1;37m     ^\u001b[0m\n\u001b[1;31mSyntaxError\u001b[0m\u001b[1;31m:\u001b[0m invalid syntax\n"
     ]
    }
   ],
   "source": [
    "\n",
    "1r=2+3"
   ]
  },
  {
   "cell_type": "code",
   "execution_count": 99,
   "id": "ff22a371",
   "metadata": {},
   "outputs": [
    {
     "ename": "SyntaxError",
     "evalue": "invalid syntax (Temp/ipykernel_20808/3044761001.py, line 1)",
     "output_type": "error",
     "traceback": [
      "\u001b[1;36m  File \u001b[1;32m\"C:\\Users\\RUKAIY~1\\AppData\\Local\\Temp/ipykernel_20808/3044761001.py\"\u001b[1;36m, line \u001b[1;32m1\u001b[0m\n\u001b[1;33m    2c=\"abc\"\u001b[0m\n\u001b[1;37m     ^\u001b[0m\n\u001b[1;31mSyntaxError\u001b[0m\u001b[1;31m:\u001b[0m invalid syntax\n"
     ]
    }
   ],
   "source": [
    "2c=\"abc\""
   ]
  },
  {
   "cell_type": "code",
   "execution_count": 89,
   "id": "6bde20ec",
   "metadata": {},
   "outputs": [],
   "source": [
    "#Also can a variable have a capital string value?\n",
    "ABC=10"
   ]
  },
  {
   "cell_type": "code",
   "execution_count": 91,
   "id": "1da5f784",
   "metadata": {},
   "outputs": [
    {
     "data": {
      "text/plain": [
       "10"
      ]
     },
     "execution_count": 91,
     "metadata": {},
     "output_type": "execute_result"
    }
   ],
   "source": [
    "ABC"
   ]
  },
  {
   "cell_type": "code",
   "execution_count": 45,
   "id": "b0e8f779",
   "metadata": {},
   "outputs": [],
   "source": [
    "#Also can a variable have capital string and while calling the output can it be in small alphabets.\n"
   ]
  },
  {
   "cell_type": "code",
   "execution_count": 47,
   "id": "673d98e4",
   "metadata": {},
   "outputs": [
    {
     "ename": "NameError",
     "evalue": "name 'abc' is not defined",
     "output_type": "error",
     "traceback": [
      "\u001b[1;31m---------------------------------------------------------------------------\u001b[0m",
      "\u001b[1;31mNameError\u001b[0m                                 Traceback (most recent call last)",
      "\u001b[1;32mC:\\Users\\RUKAIY~1\\AppData\\Local\\Temp/ipykernel_20640/3350977461.py\u001b[0m in \u001b[0;36m<module>\u001b[1;34m\u001b[0m\n\u001b[1;32m----> 1\u001b[1;33m \u001b[0mabc\u001b[0m\u001b[1;33m\u001b[0m\u001b[1;33m\u001b[0m\u001b[0m\n\u001b[0m",
      "\u001b[1;31mNameError\u001b[0m: name 'abc' is not defined"
     ]
    }
   ],
   "source": [
    "abc"
   ]
  },
  {
   "cell_type": "code",
   "execution_count": 48,
   "id": "8e901e26",
   "metadata": {},
   "outputs": [
    {
     "data": {
      "text/plain": [
       "105"
      ]
     },
     "execution_count": 48,
     "metadata": {},
     "output_type": "execute_result"
    }
   ],
   "source": [
    "b#=sbc #since b was earlier assigned the following value."
   ]
  },
  {
   "cell_type": "code",
   "execution_count": 49,
   "id": "c8a6ba82",
   "metadata": {},
   "outputs": [
    {
     "name": "stderr",
     "output_type": "stream",
     "text": [
      "'h' is not recognized as an internal or external command,\n",
      "operable program or batch file.\n"
     ]
    }
   ],
   "source": [
    "!h=0"
   ]
  },
  {
   "cell_type": "code",
   "execution_count": 57,
   "id": "a1c1c6b3",
   "metadata": {},
   "outputs": [
    {
     "data": {
      "text/plain": [
       "False"
      ]
     },
     "execution_count": 57,
     "metadata": {},
     "output_type": "execute_result"
    }
   ],
   "source": [
    "h!=0"
   ]
  },
  {
   "cell_type": "code",
   "execution_count": 58,
   "id": "d7c426e9",
   "metadata": {},
   "outputs": [],
   "source": [
    "h=!0"
   ]
  },
  {
   "cell_type": "code",
   "execution_count": 59,
   "id": "3fcc1c4a",
   "metadata": {},
   "outputs": [
    {
     "data": {
      "text/plain": [
       "[\"'0' is not recognized as an internal or external command,\",\n",
       " 'operable program or batch file.']"
      ]
     },
     "execution_count": 59,
     "metadata": {},
     "output_type": "execute_result"
    }
   ],
   "source": [
    "h"
   ]
  },
  {
   "cell_type": "code",
   "execution_count": 107,
   "id": "9887e06d",
   "metadata": {},
   "outputs": [
    {
     "ename": "SyntaxError",
     "evalue": "invalid syntax (Temp/ipykernel_20808/3113323101.py, line 1)",
     "output_type": "error",
     "traceback": [
      "\u001b[1;36m  File \u001b[1;32m\"C:\\Users\\RUKAIY~1\\AppData\\Local\\Temp/ipykernel_20808/3113323101.py\"\u001b[1;36m, line \u001b[1;32m1\u001b[0m\n\u001b[1;33m    .p=9\u001b[0m\n\u001b[1;37m    ^\u001b[0m\n\u001b[1;31mSyntaxError\u001b[0m\u001b[1;31m:\u001b[0m invalid syntax\n"
     ]
    }
   ],
   "source": [
    ".p=9"
   ]
  },
  {
   "cell_type": "code",
   "execution_count": 108,
   "id": "0fd6629b",
   "metadata": {},
   "outputs": [
    {
     "ename": "SyntaxError",
     "evalue": "invalid syntax (Temp/ipykernel_20808/3638279882.py, line 1)",
     "output_type": "error",
     "traceback": [
      "\u001b[1;36m  File \u001b[1;32m\"C:\\Users\\RUKAIY~1\\AppData\\Local\\Temp/ipykernel_20808/3638279882.py\"\u001b[1;36m, line \u001b[1;32m1\u001b[0m\n\u001b[1;33m    @t=p\u001b[0m\n\u001b[1;37m      ^\u001b[0m\n\u001b[1;31mSyntaxError\u001b[0m\u001b[1;31m:\u001b[0m invalid syntax\n"
     ]
    }
   ],
   "source": [
    "@t=p"
   ]
  },
  {
   "cell_type": "code",
   "execution_count": 113,
   "id": "c34532cc",
   "metadata": {
    "scrolled": true
   },
   "outputs": [
    {
     "ename": "SyntaxError",
     "evalue": "invalid syntax (Temp/ipykernel_20808/3212700214.py, line 1)",
     "output_type": "error",
     "traceback": [
      "\u001b[1;36m  File \u001b[1;32m\"C:\\Users\\RUKAIY~1\\AppData\\Local\\Temp/ipykernel_20808/3212700214.py\"\u001b[1;36m, line \u001b[1;32m1\u001b[0m\n\u001b[1;33m    @y\"=\"44\u001b[0m\n\u001b[1;37m      ^\u001b[0m\n\u001b[1;31mSyntaxError\u001b[0m\u001b[1;31m:\u001b[0m invalid syntax\n"
     ]
    }
   ],
   "source": [
    "@y\"=\"44"
   ]
  },
  {
   "cell_type": "code",
   "execution_count": 3,
   "id": "342109d4",
   "metadata": {
    "scrolled": true
   },
   "outputs": [
    {
     "ename": "NameError",
     "evalue": "name 'y' is not defined",
     "output_type": "error",
     "traceback": [
      "\u001b[1;31m---------------------------------------------------------------------------\u001b[0m",
      "\u001b[1;31mNameError\u001b[0m                                 Traceback (most recent call last)",
      "\u001b[1;32mC:\\Users\\RUKAIY~1\\AppData\\Local\\Temp/ipykernel_8860/2348332293.py\u001b[0m in \u001b[0;36m<module>\u001b[1;34m\u001b[0m\n\u001b[1;32m----> 1\u001b[1;33m \u001b[0my\u001b[0m\u001b[1;33m@=\u001b[0m\u001b[1;36m9\u001b[0m\u001b[1;33m\u001b[0m\u001b[1;33m\u001b[0m\u001b[0m\n\u001b[0m",
      "\u001b[1;31mNameError\u001b[0m: name 'y' is not defined"
     ]
    }
   ],
   "source": [
    "y@=9"
   ]
  },
  {
   "cell_type": "code",
   "execution_count": 6,
   "id": "d63353be",
   "metadata": {},
   "outputs": [],
   "source": [
    "y_=1"
   ]
  },
  {
   "cell_type": "code",
   "execution_count": 8,
   "id": "2eb50d23",
   "metadata": {},
   "outputs": [
    {
     "data": {
      "text/plain": [
       "1"
      ]
     },
     "execution_count": 8,
     "metadata": {},
     "output_type": "execute_result"
    }
   ],
   "source": [
    "y_"
   ]
  },
  {
   "cell_type": "code",
   "execution_count": 2,
   "id": "108ce0f3",
   "metadata": {},
   "outputs": [
    {
     "ename": "SyntaxError",
     "evalue": "unexpected EOF while parsing (Temp/ipykernel_19832/3721574584.py, line 1)",
     "output_type": "error",
     "traceback": [
      "\u001b[1;36m  File \u001b[1;32m\"C:\\Users\\RUKAIY~1\\AppData\\Local\\Temp/ipykernel_19832/3721574584.py\"\u001b[1;36m, line \u001b[1;32m1\u001b[0m\n\u001b[1;33m    @e\u001b[0m\n\u001b[1;37m      ^\u001b[0m\n\u001b[1;31mSyntaxError\u001b[0m\u001b[1;31m:\u001b[0m unexpected EOF while parsing\n"
     ]
    }
   ],
   "source": [
    "@e"
   ]
  },
  {
   "cell_type": "code",
   "execution_count": 126,
   "id": "088811e0",
   "metadata": {},
   "outputs": [
    {
     "data": {
      "text/plain": [
       "'EOFError is raised when one of the built-in functions input() or raw_input() hits an end-of-file condition (EOF) \\nwithout reading any data. This occurs when we have asked the user for input but have not provided any input in the \\ninput box'"
      ]
     },
     "execution_count": 126,
     "metadata": {},
     "output_type": "execute_result"
    }
   ],
   "source": [
    "\"\"\"EOFError is raised when one of the built-in functions input() or raw_input() hits an end-of-file condition (EOF) \n",
    "without reading any data. This occurs when we have asked the user for input but have not provided any input in the \n",
    "input box\"\"\""
   ]
  },
  {
   "cell_type": "code",
   "execution_count": 21,
   "id": "58b5fe5b",
   "metadata": {},
   "outputs": [],
   "source": [
    "#Can underscore be used when declaring a variable?\n",
    "_a=345"
   ]
  },
  {
   "cell_type": "code",
   "execution_count": 22,
   "id": "2690c178",
   "metadata": {},
   "outputs": [
    {
     "data": {
      "text/plain": [
       "345"
      ]
     },
     "execution_count": 22,
     "metadata": {},
     "output_type": "execute_result"
    }
   ],
   "source": [
    "_a"
   ]
  },
  {
   "cell_type": "markdown",
   "id": "214e277a",
   "metadata": {},
   "source": [
    "Doubts\n",
    "How code of Ampersent value works"
   ]
  },
  {
   "cell_type": "code",
   "execution_count": 27,
   "id": "6b4b8cf6",
   "metadata": {},
   "outputs": [],
   "source": [
    "#Can ampersent value be used to declare a variable?\n",
    "\n",
    "g=876\n",
    "#It means the left operand and the right operand are always evaluated. & is the bitwise AND operator\n"
   ]
  },
  {
   "cell_type": "code",
   "execution_count": 28,
   "id": "9c60d0cb",
   "metadata": {},
   "outputs": [],
   "source": [
    "g&=89\n"
   ]
  },
  {
   "cell_type": "code",
   "execution_count": 30,
   "id": "9c47ccc2",
   "metadata": {},
   "outputs": [
    {
     "data": {
      "text/plain": [
       "72"
      ]
     },
     "execution_count": 30,
     "metadata": {},
     "output_type": "execute_result"
    }
   ],
   "source": [
    "g"
   ]
  },
  {
   "cell_type": "code",
   "execution_count": 68,
   "id": "ab404ad4",
   "metadata": {},
   "outputs": [],
   "source": [
    "j=7\n",
    "j&=99"
   ]
  },
  {
   "cell_type": "code",
   "execution_count": 69,
   "id": "c8d63172",
   "metadata": {},
   "outputs": [
    {
     "data": {
      "text/plain": [
       "3"
      ]
     },
     "execution_count": 69,
     "metadata": {},
     "output_type": "execute_result"
    }
   ],
   "source": [
    "j"
   ]
  },
  {
   "cell_type": "code",
   "execution_count": 24,
   "id": "6adc9806",
   "metadata": {},
   "outputs": [],
   "source": [
    "b=3"
   ]
  },
  {
   "cell_type": "code",
   "execution_count": 25,
   "id": "deed68a4",
   "metadata": {},
   "outputs": [],
   "source": [
    "b&=78"
   ]
  },
  {
   "cell_type": "code",
   "execution_count": 26,
   "id": "67cae719",
   "metadata": {},
   "outputs": [
    {
     "data": {
      "text/plain": [
       "2"
      ]
     },
     "execution_count": 26,
     "metadata": {},
     "output_type": "execute_result"
    }
   ],
   "source": [
    "b"
   ]
  },
  {
   "cell_type": "code",
   "execution_count": 6,
   "id": "431ea71c",
   "metadata": {},
   "outputs": [
    {
     "ename": "SyntaxError",
     "evalue": "invalid syntax (Temp/ipykernel_5456/387100218.py, line 1)",
     "output_type": "error",
     "traceback": [
      "\u001b[1;36m  File \u001b[1;32m\"C:\\Users\\RUKAIY~1\\AppData\\Local\\Temp/ipykernel_5456/387100218.py\"\u001b[1;36m, line \u001b[1;32m1\u001b[0m\n\u001b[1;33m    c.=0\u001b[0m\n\u001b[1;37m      ^\u001b[0m\n\u001b[1;31mSyntaxError\u001b[0m\u001b[1;31m:\u001b[0m invalid syntax\n"
     ]
    }
   ],
   "source": [
    "c.=0"
   ]
  },
  {
   "cell_type": "code",
   "execution_count": null,
   "id": "3ea416aa",
   "metadata": {},
   "outputs": [],
   "source": [
    "#PLease explain How?\n"
   ]
  },
  {
   "cell_type": "code",
   "execution_count": null,
   "id": "c24e244b",
   "metadata": {},
   "outputs": [],
   "source": [
    "a = 10 = 1010 (Binary)\n",
    "b = 4 =  0100 (Binary)\n",
    "\n",
    "a | b = 1010\n",
    "         |\n",
    "        0100\n",
    "      = 1110\n",
    "      = 14 (Decimal)"
   ]
  },
  {
   "cell_type": "code",
   "execution_count": null,
   "id": "88dce0df",
   "metadata": {},
   "outputs": [],
   "source": []
  },
  {
   "cell_type": "markdown",
   "id": "5adbf3de",
   "metadata": {},
   "source": [
    "# Always write the code in a story language easier for the programmer and the reader to understand "
   ]
  },
  {
   "cell_type": "code",
   "execution_count": 192,
   "id": "bd165fdf",
   "metadata": {},
   "outputs": [],
   "source": [
    "name=\"Rukaiya\"\n",
    "Id=\"student\"\n",
    "Roll_Number=\"8\"\n",
    "Class=\"B\""
   ]
  },
  {
   "cell_type": "markdown",
   "id": "6f4eb71b",
   "metadata": {},
   "source": [
    "# Boolean Variable "
   ]
  },
  {
   "cell_type": "markdown",
   "id": "8697a638",
   "metadata": {},
   "source": [
    "True=1\n",
    "False=0"
   ]
  },
  {
   "cell_type": "code",
   "execution_count": 193,
   "id": "2fd6c240",
   "metadata": {
    "scrolled": true
   },
   "outputs": [
    {
     "ename": "NameError",
     "evalue": "name 'true' is not defined",
     "output_type": "error",
     "traceback": [
      "\u001b[1;31m---------------------------------------------------------------------------\u001b[0m",
      "\u001b[1;31mNameError\u001b[0m                                 Traceback (most recent call last)",
      "\u001b[1;32mC:\\Users\\RUKAIY~1\\AppData\\Local\\Temp/ipykernel_20808/2450405173.py\u001b[0m in \u001b[0;36m<module>\u001b[1;34m\u001b[0m\n\u001b[1;32m----> 1\u001b[1;33m \u001b[0ma\u001b[0m\u001b[1;33m=\u001b[0m\u001b[0mtrue\u001b[0m\u001b[1;33m\u001b[0m\u001b[1;33m\u001b[0m\u001b[0m\n\u001b[0m",
      "\u001b[1;31mNameError\u001b[0m: name 'true' is not defined"
     ]
    }
   ],
   "source": [
    "a=true"
   ]
  },
  {
   "cell_type": "code",
   "execution_count": 194,
   "id": "1a078aa1",
   "metadata": {},
   "outputs": [],
   "source": [
    "o=True\n",
    "p=False"
   ]
  },
  {
   "cell_type": "code",
   "execution_count": 195,
   "id": "0ecede40",
   "metadata": {},
   "outputs": [
    {
     "data": {
      "text/plain": [
       "(True, False)"
      ]
     },
     "execution_count": 195,
     "metadata": {},
     "output_type": "execute_result"
    }
   ],
   "source": [
    "o,p"
   ]
  },
  {
   "cell_type": "code",
   "execution_count": 196,
   "id": "f064d0e7",
   "metadata": {},
   "outputs": [
    {
     "name": "stdout",
     "output_type": "stream",
     "text": [
      "True False\n"
     ]
    }
   ],
   "source": [
    "print(o,p)"
   ]
  },
  {
   "cell_type": "code",
   "execution_count": null,
   "id": "aab1a1e3",
   "metadata": {},
   "outputs": [],
   "source": [
    "#TRUE=1 & FALSE=0"
   ]
  },
  {
   "cell_type": "code",
   "execution_count": 197,
   "id": "f0eab2e7",
   "metadata": {},
   "outputs": [
    {
     "data": {
      "text/plain": [
       "4"
      ]
     },
     "execution_count": 197,
     "metadata": {},
     "output_type": "execute_result"
    }
   ],
   "source": [
    "True + True + True + False + True"
   ]
  },
  {
   "cell_type": "code",
   "execution_count": 198,
   "id": "5a5ec485",
   "metadata": {},
   "outputs": [
    {
     "data": {
      "text/plain": [
       "0"
      ]
     },
     "execution_count": 198,
     "metadata": {},
     "output_type": "execute_result"
    }
   ],
   "source": [
    "False - True + True"
   ]
  },
  {
   "cell_type": "code",
   "execution_count": 200,
   "id": "f603e9c0",
   "metadata": {},
   "outputs": [
    {
     "name": "stdout",
     "output_type": "stream",
     "text": [
      "4\n"
     ]
    }
   ],
   "source": [
    "print(True + True + True + False + True)"
   ]
  },
  {
   "cell_type": "code",
   "execution_count": 199,
   "id": "c6773189",
   "metadata": {},
   "outputs": [
    {
     "name": "stdout",
     "output_type": "stream",
     "text": [
      "0\n"
     ]
    }
   ],
   "source": [
    "print(False - True + True)"
   ]
  },
  {
   "cell_type": "code",
   "execution_count": 201,
   "id": "45c8fb17",
   "metadata": {},
   "outputs": [
    {
     "data": {
      "text/plain": [
       "2"
      ]
     },
     "execution_count": 201,
     "metadata": {},
     "output_type": "execute_result"
    }
   ],
   "source": [
    "True + True - False"
   ]
  },
  {
   "cell_type": "markdown",
   "id": "a62e4b72",
   "metadata": {},
   "source": [
    "Note: So in numpy this code might work and give an output inf but in Core Python this cannot work"
   ]
  },
  {
   "cell_type": "code",
   "execution_count": 74,
   "id": "5dbf9218",
   "metadata": {},
   "outputs": [
    {
     "ename": "ZeroDivisionError",
     "evalue": "division by zero",
     "output_type": "error",
     "traceback": [
      "\u001b[1;31m---------------------------------------------------------------------------\u001b[0m",
      "\u001b[1;31mZeroDivisionError\u001b[0m                         Traceback (most recent call last)",
      "\u001b[1;32mC:\\Users\\RUKAIY~1\\AppData\\Local\\Temp/ipykernel_7192/2917913318.py\u001b[0m in \u001b[0;36m<module>\u001b[1;34m\u001b[0m\n\u001b[1;32m----> 1\u001b[1;33m \u001b[1;32mTrue\u001b[0m \u001b[1;33m/\u001b[0m \u001b[1;32mFalse\u001b[0m\u001b[1;33m\u001b[0m\u001b[1;33m\u001b[0m\u001b[0m\n\u001b[0m",
      "\u001b[1;31mZeroDivisionError\u001b[0m: division by zero"
     ]
    }
   ],
   "source": [
    "True / False"
   ]
  },
  {
   "cell_type": "code",
   "execution_count": 72,
   "id": "8f92a7d7",
   "metadata": {},
   "outputs": [
    {
     "data": {
      "text/plain": [
       "0.0"
      ]
     },
     "execution_count": 72,
     "metadata": {},
     "output_type": "execute_result"
    }
   ],
   "source": [
    "False/True"
   ]
  },
  {
   "cell_type": "markdown",
   "id": "cbada60b",
   "metadata": {},
   "source": [
    "# Complex Numbers"
   ]
  },
  {
   "cell_type": "markdown",
   "id": "f7ad26a4",
   "metadata": {},
   "source": [
    "Complex numbers are Real Numbers + Imaginary Numbers"
   ]
  },
  {
   "cell_type": "code",
   "execution_count": 207,
   "id": "955e9ed2",
   "metadata": {},
   "outputs": [],
   "source": [
    "n= 45 + 3j\n",
    "#where 45 is the real number and 3 is the imaginary number and\n",
    "#j is the notation and no other variable other than j can be used as a notation"
   ]
  },
  {
   "cell_type": "code",
   "execution_count": 208,
   "id": "3a4c3dd1",
   "metadata": {},
   "outputs": [
    {
     "data": {
      "text/plain": [
       "(45+3j)"
      ]
     },
     "execution_count": 208,
     "metadata": {},
     "output_type": "execute_result"
    }
   ],
   "source": [
    "n"
   ]
  },
  {
   "cell_type": "code",
   "execution_count": 209,
   "id": "75b3e31c",
   "metadata": {},
   "outputs": [
    {
     "data": {
      "text/plain": [
       "complex"
      ]
     },
     "execution_count": 209,
     "metadata": {},
     "output_type": "execute_result"
    }
   ],
   "source": [
    "type(n)"
   ]
  },
  {
   "cell_type": "code",
   "execution_count": 215,
   "id": "2adeb686",
   "metadata": {},
   "outputs": [
    {
     "ename": "SyntaxError",
     "evalue": "invalid syntax (Temp/ipykernel_20808/1454152732.py, line 1)",
     "output_type": "error",
     "traceback": [
      "\u001b[1;36m  File \u001b[1;32m\"C:\\Users\\RUKAIY~1\\AppData\\Local\\Temp/ipykernel_20808/1454152732.py\"\u001b[1;36m, line \u001b[1;32m1\u001b[0m\n\u001b[1;33m    m= 8+7r\u001b[0m\n\u001b[1;37m          ^\u001b[0m\n\u001b[1;31mSyntaxError\u001b[0m\u001b[1;31m:\u001b[0m invalid syntax\n"
     ]
    }
   ],
   "source": [
    "m= 8+7r #j is the notation and no other variable other than j can be used as a notation"
   ]
  },
  {
   "cell_type": "code",
   "execution_count": null,
   "id": "f02aff22",
   "metadata": {},
   "outputs": [],
   "source": []
  },
  {
   "cell_type": "code",
   "execution_count": 34,
   "id": "6a89af9a",
   "metadata": {},
   "outputs": [],
   "source": [
    "x=20+3j\n",
    "y=30+4j"
   ]
  },
  {
   "cell_type": "code",
   "execution_count": 35,
   "id": "836799ae",
   "metadata": {},
   "outputs": [],
   "source": [
    "#Complex multiplication is a more difficult operation to understand from either an algebraic or a geometric point of view.\n",
    "#Let’s do it algebraically first, and let’s take specific complex numbers to multiply, say 3 + 2i and 1 + 4i. \n",
    "#Each has two terms, so when we multiply them, we’ll get four terms:\n",
    "#(3 + 2i)(1 + 4i) = 3 + 12i + 2i + 8i2.\n",
    "#Now the 12i + 2i simplifies to 14i, of course. What about the 8i2?\n",
    "#Remember we introduced i as an abbreviation for √–1, the square root of –1.\n",
    "#In other words, i is something whose square is –1. Thus, 8i2 equals –8. Therefore,(3 + 2i)(1 + 4i) equals –5 + 14i."
   ]
  },
  {
   "cell_type": "code",
   "execution_count": 36,
   "id": "183b2076",
   "metadata": {},
   "outputs": [
    {
     "data": {
      "text/plain": [
       "(588+170j)"
      ]
     },
     "execution_count": 36,
     "metadata": {},
     "output_type": "execute_result"
    }
   ],
   "source": [
    "x*y #(20+3j)(30+4j)600+80j+90j+12j^2=600+170j+12j^2=600+170j+12*-1=600-12+170j = 588+170j"
   ]
  },
  {
   "cell_type": "code",
   "execution_count": 37,
   "id": "e3013fbc",
   "metadata": {},
   "outputs": [
    {
     "ename": "TypeError",
     "evalue": "unsupported operand type(s) for +: 'int' and 'str'",
     "output_type": "error",
     "traceback": [
      "\u001b[1;31m---------------------------------------------------------------------------\u001b[0m",
      "\u001b[1;31mTypeError\u001b[0m                                 Traceback (most recent call last)",
      "\u001b[1;32mC:\\Users\\RUKAIY~1\\AppData\\Local\\Temp/ipykernel_19832/892031546.py\u001b[0m in \u001b[0;36m<module>\u001b[1;34m\u001b[0m\n\u001b[1;32m----> 1\u001b[1;33m \u001b[1;36m1\u001b[0m \u001b[1;33m+\u001b[0m \u001b[1;34m\"ruks\"\u001b[0m\u001b[1;33m\u001b[0m\u001b[1;33m\u001b[0m\u001b[0m\n\u001b[0m",
      "\u001b[1;31mTypeError\u001b[0m: unsupported operand type(s) for +: 'int' and 'str'"
     ]
    }
   ],
   "source": [
    "1 + \"ruks\""
   ]
  },
  {
   "cell_type": "code",
   "execution_count": 38,
   "id": "14c83919",
   "metadata": {
    "scrolled": true
   },
   "outputs": [
    {
     "data": {
      "text/plain": [
       "20.0"
      ]
     },
     "execution_count": 38,
     "metadata": {},
     "output_type": "execute_result"
    }
   ],
   "source": [
    "x.real"
   ]
  },
  {
   "cell_type": "code",
   "execution_count": 39,
   "id": "344bf645",
   "metadata": {},
   "outputs": [
    {
     "data": {
      "text/plain": [
       "3.0"
      ]
     },
     "execution_count": 39,
     "metadata": {},
     "output_type": "execute_result"
    }
   ],
   "source": [
    "x.imag"
   ]
  },
  {
   "cell_type": "code",
   "execution_count": 216,
   "id": "4a525fb7",
   "metadata": {},
   "outputs": [
    {
     "data": {
      "text/plain": [
       "'Only two similar type of datasets can perform operations'"
      ]
     },
     "execution_count": 216,
     "metadata": {},
     "output_type": "execute_result"
    }
   ],
   "source": [
    "#Heterogenous Data Type\n",
    "#In python Heterogenous data type cannot perform any sort of operations where heterogenous datatype is two different values.\n",
    "\"Only two similar type of datasets can perform operations\""
   ]
  },
  {
   "cell_type": "code",
   "execution_count": 36,
   "id": "1081083e",
   "metadata": {},
   "outputs": [
    {
     "data": {
      "text/plain": [
       "'3524'"
      ]
     },
     "execution_count": 36,
     "metadata": {},
     "output_type": "execute_result"
    }
   ],
   "source": [
    "#For example\n",
    "str(35)+\"24\""
   ]
  },
  {
   "cell_type": "code",
   "execution_count": 218,
   "id": "0a8aae21",
   "metadata": {},
   "outputs": [],
   "source": [
    "#So here we do is Type Casting"
   ]
  },
  {
   "cell_type": "markdown",
   "id": "2752e4cb",
   "metadata": {},
   "source": [
    "## CONVERSIONs : 2 TYPES : IMPLICIT CONVERSION & EXPLICIT CONVERSION \n",
    "\n",
    "IMPLICIT TYPE CONVERSION:\n",
    "Implicit Type Conversion is automatically performed by the Python interpreter. Python avoids the loss of data in Implicit Type Conversion. Python promotes the conversion of the lower data type (integer) to the higher data type (float) to avoid data loss.\n",
    "datatype of num_int: <class 'int'>\n",
    "datatype of num_flo: <class 'float'>\n",
    "\n",
    "Value of num_new: 124.23\n",
    "datatype of num_new: <class 'float'>\n",
    "\n",
    "Type casting means:\n",
    "Converting one variable's datatype to the other variable's datatype. It is an Explicit type conversion.\n",
    "\n",
    "EXPLICIT TYPE CONVERSION:\n",
    "Explicit Type Conversion is also called Type Casting, the data types of objects are converted using predefined functions by the user.\n",
    "Python supports Dynamic typing as well as strong typing.\n",
    "\n",
    "STRONG TYPING CONCEPT:\n",
    "Strong typing means that variables do have a type and that the type matters when performing operations on a variable. ... For example Python allows one to add an integer and a floating point number, but adding an integer to a string produces error.\n",
    "\n",
    "\n",
    "Floating point number occupies more space than integer.\n",
    "Also it does upcasting i.e \n",
    "Python automatically converts one data type to another data type. This process doesn't need any user involvement\n",
    "Python promotes the conversion of lower data type, for example, integer to higher data type says float to avoid data loss. \n",
    "This type of conversion or type casting is called UpCasting.\n",
    "\n",
    "Dynamic Typing Concept:\n",
    "Python is a dynamically typed language. This means that the Python interpreter does type checking only as code runs, and the type of a variable is allowed to change over its lifetime.\n",
    "\n",
    "Upcasting: Upcasting is the typecasting of a child object to a parent object.\n",
    "Downcasting: Similarly, downcasting means the typecasting of a parent object to a child object. Downcasting cannot be implicit."
   ]
  },
  {
   "cell_type": "raw",
   "id": "02511389",
   "metadata": {},
   "source": [
    "What are functions in Python?\n",
    "Defining Functions in Python\n",
    "\n",
    "In computer programming, a function is a named section of a code that performs a specific task. This typically involves taking some input, manipulating the input and returning an output"
   ]
  },
  {
   "cell_type": "code",
   "execution_count": 12,
   "id": "25d1d1ac",
   "metadata": {},
   "outputs": [
    {
     "name": "stdout",
     "output_type": "stream",
     "text": [
      "Number 1 - 3\n",
      "Number 2 - 2\n",
      "Number 3 - 5\n",
      "10\n"
     ]
    }
   ],
   "source": [
    "def add(num1,num2,num3):\n",
    "    print(\"Number 1 -\",  num1)\n",
    "    print(\"Number 2 -\",  num2)\n",
    "    print(\"Number 3 -\",  num3)\n",
    "    addition=num1 + num2 + num3\n",
    "    return addition\n",
    "answer=add(3,2,5)\n",
    "print(answer)\n",
    "    \n"
   ]
  },
  {
   "cell_type": "code",
   "execution_count": 11,
   "id": "787a4100",
   "metadata": {},
   "outputs": [
    {
     "name": "stdout",
     "output_type": "stream",
     "text": [
      "Number position 1-  2\n",
      "Number position 2-  5\n",
      "10\n"
     ]
    }
   ],
   "source": [
    "def mul(num1,num2):\n",
    "    print(\"Number position 1- \",num1)\n",
    "    print(\"Number position 2- \",num2)\n",
    "    Multiplication= num1*num2\n",
    "    return Multiplication\n",
    "a=mul(2,5)\n",
    "print(a)\n",
    "    "
   ]
  },
  {
   "cell_type": "code",
   "execution_count": 1,
   "id": "98b369b6",
   "metadata": {
    "scrolled": true
   },
   "outputs": [
    {
     "data": {
      "text/plain": [
       "'1ruks'"
      ]
     },
     "execution_count": 1,
     "metadata": {},
     "output_type": "execute_result"
    }
   ],
   "source": [
    "#For instance\n",
    "str(1)+ \"ruks\"\n",
    "\n",
    "#Type Casting\n",
    "\n",
    "#SO THIS CONCEPT IS CALLED AS STRONG TYPING CONCEPT"
   ]
  },
  {
   "cell_type": "code",
   "execution_count": 38,
   "id": "f8623a20",
   "metadata": {},
   "outputs": [],
   "source": [
    "#Concatenation Operation means the process of merging two or more strings. "
   ]
  },
  {
   "cell_type": "code",
   "execution_count": 41,
   "id": "c5d92f80",
   "metadata": {},
   "outputs": [
    {
     "data": {
      "text/plain": [
       "'RuksieAbbas'"
      ]
     },
     "execution_count": 41,
     "metadata": {},
     "output_type": "execute_result"
    }
   ],
   "source": [
    "#With String data type only 2 OPERATIONS work well, i.e ADDITION and MULTIPLICATION\n",
    "#example:\n",
    "\"Ruksie\" + \"Abbas\""
   ]
  },
  {
   "cell_type": "markdown",
   "id": "dff29e63",
   "metadata": {},
   "source": [
    "### Without print statement a back slash wouldn't work"
   ]
  },
  {
   "cell_type": "code",
   "execution_count": 14,
   "id": "52c6fde3",
   "metadata": {},
   "outputs": [
    {
     "data": {
      "text/plain": [
       "'Ruksie Ruksie Ruksie Ruksie Ruksie Ruksie '"
      ]
     },
     "execution_count": 14,
     "metadata": {},
     "output_type": "execute_result"
    }
   ],
   "source": [
    "\"Ruksie \"\"\\n\" * 6"
   ]
  },
  {
   "cell_type": "code",
   "execution_count": 18,
   "id": "33f07584",
   "metadata": {},
   "outputs": [
    {
     "name": "stdout",
     "output_type": "stream",
     "text": [
      "Ruksie\n",
      "Ruksie\n",
      "Ruksie\n",
      "Ruksie\n",
      "Ruksie\n",
      "Ruksie\n",
      "\n"
     ]
    }
   ],
   "source": [
    "print(\"Ruksie\\n\"*6)"
   ]
  },
  {
   "cell_type": "code",
   "execution_count": 5,
   "id": "18d050cf",
   "metadata": {},
   "outputs": [
    {
     "data": {
      "text/plain": [
       "'Abbas Abbas Abbas '"
      ]
     },
     "execution_count": 5,
     "metadata": {},
     "output_type": "execute_result"
    }
   ],
   "source": [
    "\"Abbas\" \" \" * 3\n"
   ]
  },
  {
   "cell_type": "code",
   "execution_count": 61,
   "id": "3645ec06",
   "metadata": {},
   "outputs": [
    {
     "name": "stdout",
     "output_type": "stream",
     "text": [
      "Abbas\n"
     ]
    }
   ],
   "source": [
    "\"Abbas\"\n",
    "print(\"Abbas\")"
   ]
  },
  {
   "cell_type": "code",
   "execution_count": 46,
   "id": "36f59ef1",
   "metadata": {},
   "outputs": [
    {
     "data": {
      "text/plain": [
       "'AbbasAbbasAbbas'"
      ]
     },
     "execution_count": 46,
     "metadata": {},
     "output_type": "execute_result"
    }
   ],
   "source": [
    "\"Abbas\" *3"
   ]
  },
  {
   "cell_type": "code",
   "execution_count": 47,
   "id": "6815c2ff",
   "metadata": {},
   "outputs": [
    {
     "data": {
      "text/plain": [
       "'Abbas Abbas Abbas '"
      ]
     },
     "execution_count": 47,
     "metadata": {},
     "output_type": "execute_result"
    }
   ],
   "source": [
    "\"Abbas\"\" \" *3"
   ]
  },
  {
   "cell_type": "markdown",
   "id": "062a2027",
   "metadata": {},
   "source": [
    "## Here for String value typecasting wont work."
   ]
  },
  {
   "cell_type": "code",
   "execution_count": 48,
   "id": "51f84be9",
   "metadata": {
    "scrolled": true
   },
   "outputs": [
    {
     "ename": "ValueError",
     "evalue": "invalid literal for int() with base 10: 'Abbas'",
     "output_type": "error",
     "traceback": [
      "\u001b[1;31m---------------------------------------------------------------------------\u001b[0m",
      "\u001b[1;31mValueError\u001b[0m                                Traceback (most recent call last)",
      "\u001b[1;32mC:\\Users\\RUKAIY~1\\AppData\\Local\\Temp/ipykernel_21912/2382376672.py\u001b[0m in \u001b[0;36m<module>\u001b[1;34m\u001b[0m\n\u001b[1;32m----> 1\u001b[1;33m \u001b[0mint\u001b[0m\u001b[1;33m(\u001b[0m\u001b[1;34m\"Abbas\"\u001b[0m\u001b[1;33m)\u001b[0m\u001b[1;33m*\u001b[0m \u001b[1;36m3\u001b[0m \u001b[1;31m#Here for String value typecasting wont work.\u001b[0m\u001b[1;33m\u001b[0m\u001b[1;33m\u001b[0m\u001b[0m\n\u001b[0m",
      "\u001b[1;31mValueError\u001b[0m: invalid literal for int() with base 10: 'Abbas'"
     ]
    }
   ],
   "source": [
    "int(\"Abbas\")* 3 "
   ]
  },
  {
   "cell_type": "code",
   "execution_count": 20,
   "id": "c3dbe293",
   "metadata": {},
   "outputs": [
    {
     "data": {
      "text/plain": [
       "'AbbasAbbasAbbas'"
      ]
     },
     "execution_count": 20,
     "metadata": {},
     "output_type": "execute_result"
    }
   ],
   "source": [
    "str(\"Abbas\")*3"
   ]
  },
  {
   "cell_type": "code",
   "execution_count": 19,
   "id": "27df9d90",
   "metadata": {
    "scrolled": true
   },
   "outputs": [
    {
     "data": {
      "text/plain": [
       "'22222222'"
      ]
     },
     "execution_count": 19,
     "metadata": {},
     "output_type": "execute_result"
    }
   ],
   "source": [
    "str(\"2\")*8"
   ]
  },
  {
   "cell_type": "markdown",
   "id": "bb127f06",
   "metadata": {},
   "source": [
    "## But here for integer value type casting will work."
   ]
  },
  {
   "cell_type": "code",
   "execution_count": 49,
   "id": "b0904481",
   "metadata": {},
   "outputs": [
    {
     "data": {
      "text/plain": [
       "12"
      ]
     },
     "execution_count": 49,
     "metadata": {},
     "output_type": "execute_result"
    }
   ],
   "source": [
    "int(\"3\")*4 "
   ]
  },
  {
   "cell_type": "code",
   "execution_count": 21,
   "id": "3310b2a5",
   "metadata": {},
   "outputs": [
    {
     "data": {
      "text/plain": [
       "36"
      ]
     },
     "execution_count": 21,
     "metadata": {},
     "output_type": "execute_result"
    }
   ],
   "source": [
    "int(\"4\")*9"
   ]
  },
  {
   "cell_type": "markdown",
   "id": "e3f6c063",
   "metadata": {},
   "source": [
    "## Here type casting for Alpha Numerical would not work either."
   ]
  },
  {
   "cell_type": "code",
   "execution_count": 50,
   "id": "1b7cb13d",
   "metadata": {
    "scrolled": true
   },
   "outputs": [
    {
     "ename": "ValueError",
     "evalue": "invalid literal for int() with base 10: 'abdf234'",
     "output_type": "error",
     "traceback": [
      "\u001b[1;31m---------------------------------------------------------------------------\u001b[0m",
      "\u001b[1;31mValueError\u001b[0m                                Traceback (most recent call last)",
      "\u001b[1;32mC:\\Users\\RUKAIY~1\\AppData\\Local\\Temp/ipykernel_21912/2571861854.py\u001b[0m in \u001b[0;36m<module>\u001b[1;34m\u001b[0m\n\u001b[1;32m----> 1\u001b[1;33m \u001b[0mint\u001b[0m\u001b[1;33m(\u001b[0m\u001b[1;34m\"abdf234\"\u001b[0m\u001b[1;33m)\u001b[0m \u001b[1;33m*\u001b[0m \u001b[1;36m4\u001b[0m \u001b[1;31m#Here type casting for Alpha Numerical would not work either.\u001b[0m\u001b[1;33m\u001b[0m\u001b[1;33m\u001b[0m\u001b[0m\n\u001b[0m",
      "\u001b[1;31mValueError\u001b[0m: invalid literal for int() with base 10: 'abdf234'"
     ]
    }
   ],
   "source": [
    "int(\"abdf234\") * 4 \n"
   ]
  },
  {
   "cell_type": "code",
   "execution_count": 51,
   "id": "08384596",
   "metadata": {},
   "outputs": [
    {
     "data": {
      "text/plain": [
       "'So input() is the inbuilt function in core python'"
      ]
     },
     "execution_count": 51,
     "metadata": {},
     "output_type": "execute_result"
    }
   ],
   "source": [
    "#How to take value from user?\n",
    "\"So input() is the inbuilt function in core python\""
   ]
  },
  {
   "cell_type": "code",
   "execution_count": 52,
   "id": "28a7eab9",
   "metadata": {},
   "outputs": [],
   "source": [
    "a=5"
   ]
  },
  {
   "cell_type": "code",
   "execution_count": 53,
   "id": "e3f37cf9",
   "metadata": {},
   "outputs": [
    {
     "data": {
      "text/plain": [
       "5"
      ]
     },
     "execution_count": 53,
     "metadata": {},
     "output_type": "execute_result"
    }
   ],
   "source": [
    "a"
   ]
  },
  {
   "cell_type": "code",
   "execution_count": 6,
   "id": "ba940046",
   "metadata": {},
   "outputs": [
    {
     "name": "stdout",
     "output_type": "stream",
     "text": [
      "4\n"
     ]
    }
   ],
   "source": [
    "a=input()"
   ]
  },
  {
   "cell_type": "code",
   "execution_count": 7,
   "id": "89c02dbe",
   "metadata": {},
   "outputs": [
    {
     "data": {
      "text/plain": [
       "'4'"
      ]
     },
     "execution_count": 7,
     "metadata": {},
     "output_type": "execute_result"
    }
   ],
   "source": [
    "a"
   ]
  },
  {
   "cell_type": "markdown",
   "id": "d1cfb4b7",
   "metadata": {},
   "source": [
    "Q1) Take an 3 inputs from the user and perform the following operations\n",
    "(a+b)/c then further on add the output with the complex variable and then add the final result with your name"
   ]
  },
  {
   "cell_type": "code",
   "execution_count": 12,
   "id": "cb54e683",
   "metadata": {},
   "outputs": [
    {
     "name": "stdout",
     "output_type": "stream",
     "text": [
      "Enter 1st number: 2\n",
      "Enter 2nd number: 4\n",
      "Enter the third number: 8\n",
      "0.75\n",
      "(3.75+4j)\n",
      "(3.75+4j)Rukaiya\n"
     ]
    }
   ],
   "source": [
    "a=int(input(\"Enter 1st number: \"))\n",
    "b=int(input(\"Enter 2nd number: \"))\n",
    "c=int(input(\"Enter the third number: \"))\n",
    "\n",
    "d=(a+b)/c\n",
    "print(d)\n",
    "e=d+3+4j\n",
    "print(e)\n",
    "n=str(e) + \"Rukaiya\"\n",
    "print(n)"
   ]
  },
  {
   "cell_type": "code",
   "execution_count": 65,
   "id": "aa518310",
   "metadata": {},
   "outputs": [
    {
     "name": "stdout",
     "output_type": "stream",
     "text": [
      "Enter first number: 5\n",
      "Enter sec number: 15\n",
      "Enter third number: 5\n",
      "4.0\n",
      "(8+2j)\n",
      "(8+2j)Rukaiya\n"
     ]
    },
    {
     "data": {
      "text/plain": [
       "complex"
      ]
     },
     "execution_count": 65,
     "metadata": {},
     "output_type": "execute_result"
    }
   ],
   "source": [
    "a=int(input(\"Enter first number: \")) #Here  we have type casted the string literal to integar\n",
    "b=int(input(\"Enter sec number: \"))\n",
    "c=int(input(\"Enter third number: \"))\n",
    "d=((a+b)/c)\n",
    "print(d)\n",
    "e=d+(4+2j)\n",
    "print(e)\n",
    "f=\"Rukaiya\"\n",
    "print(str(e)+ str(f))\n",
    "type(e)"
   ]
  },
  {
   "cell_type": "code",
   "execution_count": null,
   "id": "3f399493",
   "metadata": {},
   "outputs": [],
   "source": [
    "a=int(input(\"First number: \"))\n",
    "b=int(input(\"Second number: \"))\n",
    "c=int(input(\"Third number: \"))\n",
    "d=(a+b)/c\n",
    "e=2+3j\n",
    "f=str(d+e)\n",
    "g=\"Rukaiya\"\n",
    "h=f+g\n",
    "#Alternate as mentioned above\n",
    "#print(str(f)+str(g))"
   ]
  },
  {
   "cell_type": "markdown",
   "id": "84c6ab03",
   "metadata": {},
   "source": [
    "# If else Statements\n",
    "#they are inbuild keywords"
   ]
  },
  {
   "cell_type": "raw",
   "id": "0bd320dd",
   "metadata": {},
   "source": [
    "Value Keywords: True, False, None.\n",
    "Operator Keywords: and, or, not, in, is.\n",
    "Control Flow Keywords: if, elif, else.\n",
    "Iteration Keywords: for, while, break, continue, else.\n",
    "Structure Keywords: def, class, with, as, pass, lambda.\n",
    "Returning Keywords: return, yield.\n",
    "Import Keywords: import, from, as."
   ]
  },
  {
   "cell_type": "markdown",
   "id": "08b99b2b",
   "metadata": {},
   "source": [
    "### In every programming Languages there are key words like True and False, if, else etc.\n"
   ]
  },
  {
   "cell_type": "markdown",
   "id": "c48db9cc",
   "metadata": {},
   "source": [
    "### The main difference between both the statements is that when break keyword comes, it terminates the execution of the current loop and passes the control over the next loop or main body, whereas when continue keyword is encountered, it skips the current iteration and executes the very next iteration in the loop."
   ]
  },
  {
   "cell_type": "code",
   "execution_count": null,
   "id": "d2a342d1",
   "metadata": {},
   "outputs": [],
   "source": [
    "#INBUILD KEY WORDS LIKE IF ELSE TRUE & FALSE etc....\n",
    "if a<34:\n",
    "    pass\n",
    "#So when in python if you dont want any output or result you simply use inbuilt keyword pass"
   ]
  },
  {
   "cell_type": "code",
   "execution_count": null,
   "id": "2d28bcd6",
   "metadata": {},
   "outputs": [],
   "source": [
    "a=int(input(\"Enter number:\"))\n",
    "if a < 30:  #Here for any if else st. we either obtain True to move to the below line or False to terminate.\n",
    "    print(\"Data is lesser than 30 and I am fine with it! \")\n",
    "    \n",
    "    \n",
    "    "
   ]
  },
  {
   "cell_type": "markdown",
   "id": "68e3c1df",
   "metadata": {},
   "source": [
    "Here in coding language Hierarchy is very important\n",
    "Without indentation we cannot prioritize and hence cannot decide the order of preference."
   ]
  },
  {
   "cell_type": "code",
   "execution_count": 24,
   "id": "d803a24a",
   "metadata": {},
   "outputs": [
    {
     "name": "stdout",
     "output_type": "stream",
     "text": [
      "Enter a number:120\n",
      "The data is  greater than  100 \n"
     ]
    }
   ],
   "source": [
    "r=int(input(\"Enter a number:\"))\n",
    "if r < 30:\n",
    "    print(\"Entered value is less than 30\")\n",
    "elif r < 100:\n",
    "    print(\" Entered value is less 100 \")\n",
    "else:\n",
    "    print(\"The data is greater than  100 \")\n",
    "    "
   ]
  },
  {
   "cell_type": "code",
   "execution_count": null,
   "id": "96332f58",
   "metadata": {},
   "outputs": [],
   "source": [
    "\"\"\"Q) If salary less than 1000 buy car\n",
    "if salary less than 500 buy bike\n",
    "if salary less than 100 manage expenses \n",
    "if salary none of the above mentioned print not affordable\"\"\""
   ]
  },
  {
   "cell_type": "code",
   "execution_count": 28,
   "id": "b158da80",
   "metadata": {},
   "outputs": [
    {
     "name": "stdout",
     "output_type": "stream",
     "text": [
      "Enter your salary: 5\n",
      "Car is Affordable \n",
      "Bike is Preferrable\n",
      "Wont print further\n"
     ]
    }
   ],
   "source": [
    "salary=int(input(\"Enter your salary: \"))\n",
    "if salary<1000:\n",
    "    print(\"Car is Affordable \")\n",
    "    if salary<500:\n",
    "        print(\"Bike is Preferrable\")\n",
    "        if True:\n",
    "            print(\"Wont print further\")\n",
    "elif salary<100:\n",
    "    print(\"Need to manage my Expenses \")\n",
    "else:\n",
    "    print(\"Nothing is Affordable\")\n",
    "    "
   ]
  },
  {
   "cell_type": "code",
   "execution_count": 15,
   "id": "929714bf",
   "metadata": {},
   "outputs": [
    {
     "data": {
      "text/plain": [
       "'aa'"
      ]
     },
     "execution_count": 15,
     "metadata": {},
     "output_type": "execute_result"
    }
   ],
   "source": [
    "\"a\"+\"a\""
   ]
  },
  {
   "cell_type": "code",
   "execution_count": 16,
   "id": "8841ef5d",
   "metadata": {
    "scrolled": true
   },
   "outputs": [
    {
     "ename": "TypeError",
     "evalue": "can't multiply sequence by non-int of type 'str'",
     "output_type": "error",
     "traceback": [
      "\u001b[1;31m---------------------------------------------------------------------------\u001b[0m",
      "\u001b[1;31mTypeError\u001b[0m                                 Traceback (most recent call last)",
      "Cell \u001b[1;32mIn[16], line 1\u001b[0m\n\u001b[1;32m----> 1\u001b[0m \u001b[38;5;124;43m\"\u001b[39;49m\u001b[38;5;124;43mabbas\u001b[39;49m\u001b[38;5;124;43m\"\u001b[39;49m\u001b[38;5;241;43m*\u001b[39;49m\u001b[38;5;124;43m\"\u001b[39;49m\u001b[38;5;124;43mabbas\u001b[39;49m\u001b[38;5;124;43m\"\u001b[39;49m\n",
      "\u001b[1;31mTypeError\u001b[0m: can't multiply sequence by non-int of type 'str'"
     ]
    }
   ],
   "source": [
    "\"abbas\"*\"abbas\""
   ]
  },
  {
   "cell_type": "code",
   "execution_count": 17,
   "id": "6e40cbc9",
   "metadata": {},
   "outputs": [
    {
     "data": {
      "text/plain": [
       "'AAA'"
      ]
     },
     "execution_count": 17,
     "metadata": {},
     "output_type": "execute_result"
    }
   ],
   "source": [
    "\"A\"*3"
   ]
  },
  {
   "cell_type": "code",
   "execution_count": 18,
   "id": "2bad339f",
   "metadata": {},
   "outputs": [
    {
     "data": {
      "text/plain": [
       "'aR'"
      ]
     },
     "execution_count": 18,
     "metadata": {},
     "output_type": "execute_result"
    }
   ],
   "source": [
    "\"a\"+\"R\""
   ]
  },
  {
   "cell_type": "code",
   "execution_count": 74,
   "id": "223549cc",
   "metadata": {},
   "outputs": [],
   "source": [
    "def name():\n",
    "    name=input(\"Enter your name:\")\n",
    "    if name==name.isalpha() and name==name.upper() and name==name.title():\n",
    "         return(\"Correct format of the name\")\n",
    "    elif name==name.isalpha()and name==str(name.lower()):\n",
    "         return(\"This is elif statement of the name\")\n",
    "    else:\n",
    "        return \"Please enter a valid name\"\n",
    "\n",
    "\n",
    " "
   ]
  },
  {
   "cell_type": "code",
   "execution_count": 75,
   "id": "becc0e60",
   "metadata": {},
   "outputs": [
    {
     "name": "stdout",
     "output_type": "stream",
     "text": [
      "Enter your name:*\n"
     ]
    },
    {
     "data": {
      "text/plain": [
       "'Please enter a valid name'"
      ]
     },
     "execution_count": 75,
     "metadata": {},
     "output_type": "execute_result"
    }
   ],
   "source": [
    "name()"
   ]
  },
  {
   "cell_type": "code",
   "execution_count": null,
   "id": "731c973a",
   "metadata": {},
   "outputs": [],
   "source": []
  },
  {
   "cell_type": "code",
   "execution_count": null,
   "id": "49523a02",
   "metadata": {},
   "outputs": [],
   "source": []
  },
  {
   "cell_type": "code",
   "execution_count": null,
   "id": "a17c9555",
   "metadata": {},
   "outputs": [],
   "source": []
  },
  {
   "cell_type": "code",
   "execution_count": null,
   "id": "938be83c",
   "metadata": {},
   "outputs": [],
   "source": []
  },
  {
   "cell_type": "code",
   "execution_count": null,
   "id": "bcaff9c8",
   "metadata": {},
   "outputs": [],
   "source": []
  },
  {
   "cell_type": "code",
   "execution_count": null,
   "id": "8b7abdd6",
   "metadata": {},
   "outputs": [],
   "source": []
  },
  {
   "cell_type": "code",
   "execution_count": null,
   "id": "488b0388",
   "metadata": {},
   "outputs": [],
   "source": []
  },
  {
   "cell_type": "code",
   "execution_count": null,
   "id": "41e20eec",
   "metadata": {},
   "outputs": [],
   "source": []
  },
  {
   "cell_type": "code",
   "execution_count": null,
   "id": "305c112b",
   "metadata": {},
   "outputs": [],
   "source": []
  },
  {
   "cell_type": "code",
   "execution_count": null,
   "id": "5c0b23b1",
   "metadata": {},
   "outputs": [],
   "source": []
  },
  {
   "cell_type": "code",
   "execution_count": null,
   "id": "47f1f90e",
   "metadata": {},
   "outputs": [],
   "source": []
  },
  {
   "cell_type": "code",
   "execution_count": null,
   "id": "b2c8444d",
   "metadata": {},
   "outputs": [],
   "source": []
  },
  {
   "cell_type": "code",
   "execution_count": null,
   "id": "8be51583",
   "metadata": {},
   "outputs": [],
   "source": []
  },
  {
   "cell_type": "code",
   "execution_count": null,
   "id": "4dc4791e",
   "metadata": {},
   "outputs": [],
   "source": []
  },
  {
   "cell_type": "code",
   "execution_count": null,
   "id": "4fb1040d",
   "metadata": {},
   "outputs": [],
   "source": []
  },
  {
   "cell_type": "code",
   "execution_count": null,
   "id": "9d4197be",
   "metadata": {},
   "outputs": [],
   "source": []
  },
  {
   "cell_type": "code",
   "execution_count": null,
   "id": "a5ed36a3",
   "metadata": {},
   "outputs": [],
   "source": []
  },
  {
   "cell_type": "code",
   "execution_count": null,
   "id": "da133f5f",
   "metadata": {},
   "outputs": [],
   "source": []
  },
  {
   "cell_type": "code",
   "execution_count": null,
   "id": "c9c3383c",
   "metadata": {},
   "outputs": [],
   "source": []
  },
  {
   "cell_type": "code",
   "execution_count": null,
   "id": "15fa5dcf",
   "metadata": {},
   "outputs": [],
   "source": []
  },
  {
   "cell_type": "code",
   "execution_count": null,
   "id": "46aacd6c",
   "metadata": {},
   "outputs": [],
   "source": []
  },
  {
   "cell_type": "code",
   "execution_count": null,
   "id": "50ba1cbe",
   "metadata": {},
   "outputs": [],
   "source": []
  },
  {
   "cell_type": "code",
   "execution_count": null,
   "id": "aebb27c0",
   "metadata": {},
   "outputs": [],
   "source": []
  }
 ],
 "metadata": {
  "kernelspec": {
   "display_name": "Python 3 (ipykernel)",
   "language": "python",
   "name": "python3"
  },
  "language_info": {
   "codemirror_mode": {
    "name": "ipython",
    "version": 3
   },
   "file_extension": ".py",
   "mimetype": "text/x-python",
   "name": "python",
   "nbconvert_exporter": "python",
   "pygments_lexer": "ipython3",
   "version": "3.9.7"
  }
 },
 "nbformat": 4,
 "nbformat_minor": 5
}
